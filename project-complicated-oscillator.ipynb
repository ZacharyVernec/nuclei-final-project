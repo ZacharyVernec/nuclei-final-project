{
 "cells": [
  {
   "cell_type": "code",
   "execution_count": 156,
   "metadata": {},
   "outputs": [],
   "source": [
    "import pandas as pd\n",
    "import numpy as np\n",
    "\n",
    "from scipy.optimize import curve_fit\n",
    "from scipy.special import factorial\n",
    "\n",
    "import plotly.express as px\n",
    "from plotly import graph_objects as go\n",
    "from plotly.subplots import make_subplots"
   ]
  },
  {
   "cell_type": "markdown",
   "metadata": {},
   "source": [
    "## Obtain and save data from the web"
   ]
  },
  {
   "cell_type": "code",
   "execution_count": 2,
   "metadata": {},
   "outputs": [],
   "source": [
    "# # the service URL\n",
    "# livechart = \"https://nds.iaea.org/relnsd/v1/data?\"\n",
    "\n",
    "# # There have been cases in which the service returns an HTTP Error 403: Forbidden\n",
    "# # use this workaround\n",
    "# import urllib.request\n",
    "# def lc_pd_dataframe(url):\n",
    "#     req = urllib.request.Request(url)\n",
    "#     req.add_header('User-Agent''','' 'Mozilla/5.0 (X11; Ubuntu; Linux x86_64; rv:77.0) Gecko/20100101 Firefox/77.0')\n",
    "#     return pd.read_csv(urllib.request.urlopen(req))"
   ]
  },
  {
   "cell_type": "code",
   "execution_count": 3,
   "metadata": {},
   "outputs": [],
   "source": [
    "# ground_states_df = lc_pd_dataframe(livechart + \"fields=ground_states&nuclides=all\")\n",
    "# ground_states_df = ground_states_df[['z', 'n', 'symbol', 'half_life']]\n",
    "# ground_states_df = ground_states_df[ground_states_df['half_life'] == 'STABLE']\n",
    "# ground_states_df = ground_states_df.copy()\n",
    "# ground_states_df['a'] = ground_states_df['z'] + ground_states_df['n']\n",
    "# ground_states_df['symbol'] = ground_states_df['symbol'].str.lower()\n",
    "# ground_states_df['name'] = ground_states_df['a'].astype(str).str.cat(ground_states_df['symbol'])\n",
    "# names = ground_states_df['name'].values"
   ]
  },
  {
   "cell_type": "code",
   "execution_count": 4,
   "metadata": {},
   "outputs": [],
   "source": [
    "# levels_dfs = [lc_pd_dataframe(livechart + f\"fields=levels&nuclides={name}\") for name in names]\n",
    "# levels_dfs =  pd.concat(levels_dfs, ignore_index=True)\n",
    "\n",
    "# print(levels_dfs.columns)\n",
    "# print(levels_dfs.head())"
   ]
  },
  {
   "cell_type": "code",
   "execution_count": 5,
   "metadata": {},
   "outputs": [],
   "source": [
    "# levels_dfs.to_csv(\"levels.csv\", index=False)"
   ]
  },
  {
   "cell_type": "markdown",
   "metadata": {},
   "source": [
    "## Load saved data"
   ]
  },
  {
   "cell_type": "code",
   "execution_count": 6,
   "metadata": {},
   "outputs": [
    {
     "data": {
      "text/html": [
       "<div>\n",
       "<style scoped>\n",
       "    .dataframe tbody tr th:only-of-type {\n",
       "        vertical-align: middle;\n",
       "    }\n",
       "\n",
       "    .dataframe tbody tr th {\n",
       "        vertical-align: top;\n",
       "    }\n",
       "\n",
       "    .dataframe thead th {\n",
       "        text-align: right;\n",
       "    }\n",
       "</style>\n",
       "<table border=\"1\" class=\"dataframe\">\n",
       "  <thead>\n",
       "    <tr style=\"text-align: right;\">\n",
       "      <th></th>\n",
       "      <th></th>\n",
       "      <th>symbol</th>\n",
       "      <th>n</th>\n",
       "      <th>idx</th>\n",
       "      <th>energy</th>\n",
       "      <th>energy_shift</th>\n",
       "      <th>ripl_shift</th>\n",
       "      <th>jp</th>\n",
       "      <th>jp_order</th>\n",
       "      <th>beta</th>\n",
       "    </tr>\n",
       "    <tr>\n",
       "      <th>z</th>\n",
       "      <th>a</th>\n",
       "      <th></th>\n",
       "      <th></th>\n",
       "      <th></th>\n",
       "      <th></th>\n",
       "      <th></th>\n",
       "      <th></th>\n",
       "      <th></th>\n",
       "      <th></th>\n",
       "      <th></th>\n",
       "    </tr>\n",
       "  </thead>\n",
       "  <tbody>\n",
       "    <tr>\n",
       "      <th rowspan=\"2\" valign=\"top\">1</th>\n",
       "      <th>1</th>\n",
       "      <td>H</td>\n",
       "      <td>0</td>\n",
       "      <td>0</td>\n",
       "      <td>0.0</td>\n",
       "      <td>NaN</td>\n",
       "      <td>&lt;NA&gt;</td>\n",
       "      <td>1/2+</td>\n",
       "      <td>1</td>\n",
       "      <td>-1.0</td>\n",
       "    </tr>\n",
       "    <tr>\n",
       "      <th>2</th>\n",
       "      <td>H</td>\n",
       "      <td>1</td>\n",
       "      <td>0</td>\n",
       "      <td>0.0</td>\n",
       "      <td>NaN</td>\n",
       "      <td>&lt;NA&gt;</td>\n",
       "      <td>1+</td>\n",
       "      <td>1</td>\n",
       "      <td>0.0</td>\n",
       "    </tr>\n",
       "    <tr>\n",
       "      <th rowspan=\"3\" valign=\"top\">2</th>\n",
       "      <th>3</th>\n",
       "      <td>He</td>\n",
       "      <td>1</td>\n",
       "      <td>0</td>\n",
       "      <td>0.0</td>\n",
       "      <td>NaN</td>\n",
       "      <td>&lt;NA&gt;</td>\n",
       "      <td>1/2+</td>\n",
       "      <td>1</td>\n",
       "      <td>-0.333333</td>\n",
       "    </tr>\n",
       "    <tr>\n",
       "      <th>4</th>\n",
       "      <td>He</td>\n",
       "      <td>2</td>\n",
       "      <td>0</td>\n",
       "      <td>0.0</td>\n",
       "      <td>NaN</td>\n",
       "      <td>&lt;NA&gt;</td>\n",
       "      <td>0+</td>\n",
       "      <td>1</td>\n",
       "      <td>0.0</td>\n",
       "    </tr>\n",
       "    <tr>\n",
       "      <th>4</th>\n",
       "      <td>He</td>\n",
       "      <td>2</td>\n",
       "      <td>1</td>\n",
       "      <td>20.21</td>\n",
       "      <td>NaN</td>\n",
       "      <td>&lt;NA&gt;</td>\n",
       "      <td>0+</td>\n",
       "      <td>2</td>\n",
       "      <td>0.0</td>\n",
       "    </tr>\n",
       "  </tbody>\n",
       "</table>\n",
       "</div>"
      ],
      "text/plain": [
       "    symbol  n  idx  energy energy_shift  ripl_shift    jp  jp_order      beta\n",
       "z a                                                                          \n",
       "1 1      H  0    0     0.0          NaN        <NA>  1/2+         1      -1.0\n",
       "  2      H  1    0     0.0          NaN        <NA>    1+         1       0.0\n",
       "2 3     He  1    0     0.0          NaN        <NA>  1/2+         1 -0.333333\n",
       "  4     He  2    0     0.0          NaN        <NA>    0+         1       0.0\n",
       "  4     He  2    1   20.21          NaN        <NA>    0+         2       0.0"
      ]
     },
     "execution_count": 6,
     "metadata": {},
     "output_type": "execute_result"
    }
   ],
   "source": [
    "dtypes = {\n",
    "    'z': 'UInt8',\n",
    "    'n': 'UInt8',\n",
    "    'symbol': 'string',\n",
    "    'idx': 'UInt16',\n",
    "    'energy_shift': 'category',\n",
    "    'energy': 'Float64',\n",
    "    'unc_e': 'Float64',\n",
    "    'ripl_shift': 'Float64',\n",
    "    'jp': 'string',\n",
    "    'jp_order': 'UInt8',\n",
    "    'half_life': 'string',\n",
    "    'operator_hl': 'string',\n",
    "    'unc_hl': 'string',\n",
    "    'unit_hl': 'category',\n",
    "    'half_life_sec': 'Float64',\n",
    "    'unc_hl.1': 'Float64',\n",
    "    'decay_1': 'string',\n",
    "    'decay_1_%': 'Float64',\n",
    "    'unc_1': 'Float64',\n",
    "    'decay_2': 'string',\n",
    "    'decay_2_%': 'Float64',\n",
    "    'unc_2': 'Float64',\n",
    "    'decay_3': 'string',\n",
    "    'decay_3_%': 'Float64',\n",
    "    'unc_3': 'Float64',\n",
    "    'isospin': 'string',\n",
    "    'magnetic_dipole': 'Float64',\n",
    "    'unc_mn': 'Float64',\n",
    "    'electric_quadrupole': 'Float64',\n",
    "    'unc_eq': 'Float64',\n",
    "    'ENSDF_publication_cut-off': 'string',\n",
    "    'ENSDF_authors': 'string',\n",
    "    'Extraction_date': 'string'\n",
    "}\n",
    "parse_dates = ['ENSDF_publication_cut-off', 'Extraction_date']\n",
    "\n",
    "\n",
    "df = pd.read_csv('levels.csv', parse_dates=parse_dates, dtype=dtypes)\n",
    "\n",
    "\n",
    "df.loc[df['half_life'] == 'STABLE', 'half_life'] = 'inf'\n",
    "df['half_life'] = df['half_life'].astype('Float64')\n",
    "\n",
    "df['a'] = df['z'] + df['n']\n",
    "\n",
    "df = df[['symbol', 'a', 'z', 'n', 'idx', 'energy', 'energy_shift', 'ripl_shift', 'jp', 'jp_order']]\n",
    "df['energy'] = df['energy'] / 1000 #MeV\n",
    "df['ripl_shift'] = df['ripl_shift'] / 1000 #MeV\n",
    "#TODO also take into account energy uncertainty\n",
    "\n",
    "df['beta'] = (df['n'].astype('Float64') - df['z'].astype('Float64')) / df['a'].astype('Float64')\n",
    "\n",
    "df = df.set_index(['z', 'a'], drop=True)\n",
    "\n",
    "df.head()"
   ]
  },
  {
   "cell_type": "code",
   "execution_count": 7,
   "metadata": {},
   "outputs": [
    {
     "data": {
      "text/html": [
       "<div>\n",
       "<style scoped>\n",
       "    .dataframe tbody tr th:only-of-type {\n",
       "        vertical-align: middle;\n",
       "    }\n",
       "\n",
       "    .dataframe tbody tr th {\n",
       "        vertical-align: top;\n",
       "    }\n",
       "\n",
       "    .dataframe thead th {\n",
       "        text-align: right;\n",
       "    }\n",
       "</style>\n",
       "<table border=\"1\" class=\"dataframe\">\n",
       "  <thead>\n",
       "    <tr style=\"text-align: right;\">\n",
       "      <th></th>\n",
       "      <th></th>\n",
       "      <th>symbol</th>\n",
       "      <th>n</th>\n",
       "      <th>idx</th>\n",
       "      <th>energy</th>\n",
       "      <th>jp</th>\n",
       "      <th>jp_order</th>\n",
       "      <th>beta</th>\n",
       "    </tr>\n",
       "    <tr>\n",
       "      <th>z</th>\n",
       "      <th>a</th>\n",
       "      <th></th>\n",
       "      <th></th>\n",
       "      <th></th>\n",
       "      <th></th>\n",
       "      <th></th>\n",
       "      <th></th>\n",
       "      <th></th>\n",
       "    </tr>\n",
       "  </thead>\n",
       "  <tbody>\n",
       "    <tr>\n",
       "      <th rowspan=\"2\" valign=\"top\">1</th>\n",
       "      <th>1</th>\n",
       "      <td>H</td>\n",
       "      <td>0</td>\n",
       "      <td>0</td>\n",
       "      <td>0.0</td>\n",
       "      <td>1/2+</td>\n",
       "      <td>1</td>\n",
       "      <td>-1.0</td>\n",
       "    </tr>\n",
       "    <tr>\n",
       "      <th>2</th>\n",
       "      <td>H</td>\n",
       "      <td>1</td>\n",
       "      <td>0</td>\n",
       "      <td>0.0</td>\n",
       "      <td>1+</td>\n",
       "      <td>1</td>\n",
       "      <td>0.0</td>\n",
       "    </tr>\n",
       "    <tr>\n",
       "      <th rowspan=\"3\" valign=\"top\">2</th>\n",
       "      <th>3</th>\n",
       "      <td>He</td>\n",
       "      <td>1</td>\n",
       "      <td>0</td>\n",
       "      <td>0.0</td>\n",
       "      <td>1/2+</td>\n",
       "      <td>1</td>\n",
       "      <td>-0.333333</td>\n",
       "    </tr>\n",
       "    <tr>\n",
       "      <th>4</th>\n",
       "      <td>He</td>\n",
       "      <td>2</td>\n",
       "      <td>0</td>\n",
       "      <td>0.0</td>\n",
       "      <td>0+</td>\n",
       "      <td>1</td>\n",
       "      <td>0.0</td>\n",
       "    </tr>\n",
       "    <tr>\n",
       "      <th>4</th>\n",
       "      <td>He</td>\n",
       "      <td>2</td>\n",
       "      <td>1</td>\n",
       "      <td>20.21</td>\n",
       "      <td>0+</td>\n",
       "      <td>2</td>\n",
       "      <td>0.0</td>\n",
       "    </tr>\n",
       "  </tbody>\n",
       "</table>\n",
       "</div>"
      ],
      "text/plain": [
       "    symbol  n  idx  energy    jp  jp_order      beta\n",
       "z a                                                 \n",
       "1 1      H  0    0     0.0  1/2+         1      -1.0\n",
       "  2      H  1    0     0.0    1+         1       0.0\n",
       "2 3     He  1    0     0.0  1/2+         1 -0.333333\n",
       "  4     He  2    0     0.0    0+         1       0.0\n",
       "  4     He  2    1   20.21    0+         2       0.0"
      ]
     },
     "execution_count": 7,
     "metadata": {},
     "output_type": "execute_result"
    }
   ],
   "source": [
    "# Filter out shifts\n",
    "#TODO take into account energy shifts with ripl_shift\n",
    "#TODO take into account energy shifts without ripl_shift\n",
    "\n",
    "df = df[df['energy_shift'].isna()]\n",
    "df = df.drop(['energy_shift', 'ripl_shift'], axis='columns')\n",
    "df.head()"
   ]
  },
  {
   "cell_type": "code",
   "execution_count": 8,
   "metadata": {},
   "outputs": [],
   "source": [
    "# Filter out not enough levels\n",
    "# Just removes 1H, 2H, and 3He\n",
    "\n",
    "df = df.loc[df.groupby(level=df.index.names).size() >= 3]\n",
    "\n",
    "# Filter out uncertain jp\n",
    "\n",
    "df = df[df['jp'].str.fullmatch(r'^[0-9]+(/[0-9]+)?[+-]$')]\n",
    "\n",
    "# Extract j and p\n",
    "\n",
    "df['j'] = df['jp'].str[:-1]\n",
    "df['p'] = df['jp'].str[-1]\n",
    "\n",
    "odd_spins = df['j'].str.contains('/')\n",
    "even_spins = ~odd_spins\n",
    "\n",
    "df.loc[odd_spins,'j_float'] = df[odd_spins]['j'].str.split('/').apply(lambda x: float(x[0]) / float(x[1]))\n",
    "df.loc[even_spins,'j_float'] = df[even_spins]['j'].astype(float)\n",
    "\n",
    "df['j_evenness'] = pd.Series(data=pd.NA, dtype='boolean')\n",
    "df.loc[even_spins,'j_evenness'] = (df[even_spins]['j'].str.split('/', expand=True)[0].astype(int) % 2 == 0)\n",
    "#TODO similar for odd_spins\n",
    "\n",
    "df['p_bit'] = df['p'].str.fullmatch(r'\\-').astype(int)"
   ]
  },
  {
   "cell_type": "markdown",
   "metadata": {},
   "source": [
    "# Search"
   ]
  },
  {
   "cell_type": "markdown",
   "metadata": {},
   "source": [
    "## For quadrupole oscillator"
   ]
  },
  {
   "cell_type": "markdown",
   "metadata": {},
   "source": [
    "### Quadrupole, positive, first band "
   ]
  },
  {
   "cell_type": "code",
   "execution_count": 62,
   "metadata": {},
   "outputs": [],
   "source": [
    "def get_osc_energy(n, energy_quantum, shift4):\n",
    "    harmonics = n * energy_quantum\n",
    "    shifts = factorial(n) / 2 * shift4\n",
    "    shifts[0:2] = 0\n",
    "\n",
    "    return harmonics + shifts\n",
    "\n",
    "\n",
    "def fit(group, func):\n",
    "\n",
    "    x = group['quanta']\n",
    "    y = group['energy']\n",
    "\n",
    "    # fit\n",
    "    popt, pcov = curve_fit(func, x, y)\n",
    "\n",
    "    # prediction\n",
    "    y_pred = func(x, *popt)\n",
    "\n",
    "    # r-squared\n",
    "    ss_res = np.sum((y - y_pred)**2)\n",
    "    ss_tot = np.sum((y - y.mean())**2)\n",
    "    r2 = 1 - (ss_res / ss_tot)\n",
    "\n",
    "    # results\n",
    "    results = pd.DataFrame({'energy_quantum': popt[0], 'shift4': popt[1], 'r2': r2, 'anharmonicity': popt[1]/popt[0], 'j_float': x, 'quanta': x, 'energy_pred': y_pred})\n",
    "\n",
    "    # results = pd.Series(list(popt)+[r2], index=['energy_quantum', 'zero_point_energy', 'r2'])\n",
    "    return  results"
   ]
  },
  {
   "cell_type": "code",
   "execution_count": 63,
   "metadata": {},
   "outputs": [],
   "source": [
    "quad_pos_first = df[(df['jp_order'] == 1) & df['j_evenness'].fillna(False) & (df['p_bit'] == 0)]\n",
    "quad_pos_first = quad_pos_first.loc[quad_pos_first.groupby(level=df.index.names).size() >= 3]\n",
    "quad_pos_first['quanta'] = (quad_pos_first['j_float'].astype(int) // 2)\n",
    "\n",
    "quad_pos_first_groups = quad_pos_first.groupby(level=df.index.names, as_index=False)\n",
    "\n",
    "oscillator_fit = quad_pos_first_groups.apply(lambda group: fit(group, get_osc_energy)).droplevel(0)"
   ]
  },
  {
   "cell_type": "code",
   "execution_count": 64,
   "metadata": {},
   "outputs": [
    {
     "name": "stdout",
     "output_type": "stream",
     "text": [
      "Oscillator osc:\n",
      "z   a  \n",
      "3   6      0.947661\n",
      "6   12     1.000000\n",
      "7   14     0.902845\n",
      "8   16     0.990910\n",
      "    18     0.967631\n",
      "             ...   \n",
      "80  196    1.000000\n",
      "    198    0.960481\n",
      "    200    0.984854\n",
      "    202    0.999936\n",
      "    204    0.999741\n",
      "Name: r2, Length: 138, dtype: float64\n"
     ]
    }
   ],
   "source": [
    "min_r2 = 0.9\n",
    "\n",
    "print(\"Oscillator osc:\")\n",
    "best_oscillator_fit = oscillator_fit[oscillator_fit['r2'] > min_r2]\n",
    "\n",
    "print(best_oscillator_fit.groupby(by=best_oscillator_fit.index)['r2'].head(1))"
   ]
  },
  {
   "cell_type": "code",
   "execution_count": 65,
   "metadata": {},
   "outputs": [],
   "source": [
    "#TODO plot r^2 on grid\n",
    "#TODO change starting point"
   ]
  },
  {
   "cell_type": "code",
   "execution_count": 66,
   "metadata": {},
   "outputs": [],
   "source": [
    "merged = quad_pos_first.merge(oscillator_fit, how='left', on=['z','a', 'quanta'])\n",
    "best_osc_merged = merged[merged['r2'] > min_r2]\n",
    "\n",
    "def get_best_r2(df, min_r2):\n",
    "    return df[df['r2'] > min_r2]\n",
    "\n",
    "# merged = merged.merge(rotator_fit, how='left', on=['z','a', 'idx'], suffixes=('_osc', '_rot'))\n",
    "# lowest_merged = merged.groupby(['z','a']).head(3)\n",
    "lowest_merged = merged\n",
    "# best_rot_merged = lowest_merged[lowest_merged['r2_rot'] > min_r2]\n",
    "# best_rot_merged"
   ]
  },
  {
   "cell_type": "code",
   "execution_count": 67,
   "metadata": {},
   "outputs": [
    {
     "data": {
      "text/html": [
       "<div>\n",
       "<style scoped>\n",
       "    .dataframe tbody tr th:only-of-type {\n",
       "        vertical-align: middle;\n",
       "    }\n",
       "\n",
       "    .dataframe tbody tr th {\n",
       "        vertical-align: top;\n",
       "    }\n",
       "\n",
       "    .dataframe thead th {\n",
       "        text-align: right;\n",
       "    }\n",
       "</style>\n",
       "<table border=\"1\" class=\"dataframe\">\n",
       "  <thead>\n",
       "    <tr style=\"text-align: right;\">\n",
       "      <th></th>\n",
       "      <th></th>\n",
       "      <th>symbol</th>\n",
       "      <th>n</th>\n",
       "      <th>idx</th>\n",
       "      <th>energy</th>\n",
       "      <th>jp</th>\n",
       "      <th>jp_order</th>\n",
       "      <th>beta</th>\n",
       "      <th>j</th>\n",
       "      <th>p</th>\n",
       "      <th>j_float_x</th>\n",
       "      <th>j_evenness</th>\n",
       "      <th>p_bit</th>\n",
       "      <th>quanta</th>\n",
       "      <th>energy_quantum</th>\n",
       "      <th>shift4</th>\n",
       "      <th>r2</th>\n",
       "      <th>anharmonicity</th>\n",
       "      <th>j_float_y</th>\n",
       "      <th>energy_pred</th>\n",
       "    </tr>\n",
       "    <tr>\n",
       "      <th>z</th>\n",
       "      <th>a</th>\n",
       "      <th></th>\n",
       "      <th></th>\n",
       "      <th></th>\n",
       "      <th></th>\n",
       "      <th></th>\n",
       "      <th></th>\n",
       "      <th></th>\n",
       "      <th></th>\n",
       "      <th></th>\n",
       "      <th></th>\n",
       "      <th></th>\n",
       "      <th></th>\n",
       "      <th></th>\n",
       "      <th></th>\n",
       "      <th></th>\n",
       "      <th></th>\n",
       "      <th></th>\n",
       "      <th></th>\n",
       "      <th></th>\n",
       "    </tr>\n",
       "  </thead>\n",
       "  <tbody>\n",
       "    <tr>\n",
       "      <th rowspan=\"3\" valign=\"top\">3</th>\n",
       "      <th>6</th>\n",
       "      <td>Li</td>\n",
       "      <td>3</td>\n",
       "      <td>2</td>\n",
       "      <td>3.56288</td>\n",
       "      <td>0+</td>\n",
       "      <td>1</td>\n",
       "      <td>0.0</td>\n",
       "      <td>0</td>\n",
       "      <td>+</td>\n",
       "      <td>0.0</td>\n",
       "      <td>True</td>\n",
       "      <td>0</td>\n",
       "      <td>0</td>\n",
       "      <td>4.312000</td>\n",
       "      <td>14.376000</td>\n",
       "      <td>0.947661</td>\n",
       "      <td>3.333952</td>\n",
       "      <td>0</td>\n",
       "      <td>0.000000</td>\n",
       "    </tr>\n",
       "    <tr>\n",
       "      <th>6</th>\n",
       "      <td>Li</td>\n",
       "      <td>3</td>\n",
       "      <td>3</td>\n",
       "      <td>4.312</td>\n",
       "      <td>2+</td>\n",
       "      <td>1</td>\n",
       "      <td>0.0</td>\n",
       "      <td>2</td>\n",
       "      <td>+</td>\n",
       "      <td>2.0</td>\n",
       "      <td>True</td>\n",
       "      <td>0</td>\n",
       "      <td>1</td>\n",
       "      <td>4.312000</td>\n",
       "      <td>14.376000</td>\n",
       "      <td>0.947661</td>\n",
       "      <td>3.333952</td>\n",
       "      <td>1</td>\n",
       "      <td>4.312000</td>\n",
       "    </tr>\n",
       "    <tr>\n",
       "      <th>6</th>\n",
       "      <td>Li</td>\n",
       "      <td>3</td>\n",
       "      <td>9</td>\n",
       "      <td>23.0</td>\n",
       "      <td>4+</td>\n",
       "      <td>1</td>\n",
       "      <td>0.0</td>\n",
       "      <td>4</td>\n",
       "      <td>+</td>\n",
       "      <td>4.0</td>\n",
       "      <td>True</td>\n",
       "      <td>0</td>\n",
       "      <td>2</td>\n",
       "      <td>4.312000</td>\n",
       "      <td>14.376000</td>\n",
       "      <td>0.947661</td>\n",
       "      <td>3.333952</td>\n",
       "      <td>2</td>\n",
       "      <td>23.000000</td>\n",
       "    </tr>\n",
       "    <tr>\n",
       "      <th rowspan=\"2\" valign=\"top\">6</th>\n",
       "      <th>12</th>\n",
       "      <td>C</td>\n",
       "      <td>6</td>\n",
       "      <td>0</td>\n",
       "      <td>0.0</td>\n",
       "      <td>0+</td>\n",
       "      <td>1</td>\n",
       "      <td>0.0</td>\n",
       "      <td>0</td>\n",
       "      <td>+</td>\n",
       "      <td>0.0</td>\n",
       "      <td>True</td>\n",
       "      <td>0</td>\n",
       "      <td>0</td>\n",
       "      <td>4.439820</td>\n",
       "      <td>4.420360</td>\n",
       "      <td>1.000000</td>\n",
       "      <td>0.995617</td>\n",
       "      <td>0</td>\n",
       "      <td>0.000000</td>\n",
       "    </tr>\n",
       "    <tr>\n",
       "      <th>12</th>\n",
       "      <td>C</td>\n",
       "      <td>6</td>\n",
       "      <td>1</td>\n",
       "      <td>4.43982</td>\n",
       "      <td>2+</td>\n",
       "      <td>1</td>\n",
       "      <td>0.0</td>\n",
       "      <td>2</td>\n",
       "      <td>+</td>\n",
       "      <td>2.0</td>\n",
       "      <td>True</td>\n",
       "      <td>0</td>\n",
       "      <td>1</td>\n",
       "      <td>4.439820</td>\n",
       "      <td>4.420360</td>\n",
       "      <td>1.000000</td>\n",
       "      <td>0.995617</td>\n",
       "      <td>1</td>\n",
       "      <td>4.439820</td>\n",
       "    </tr>\n",
       "    <tr>\n",
       "      <th>...</th>\n",
       "      <th>...</th>\n",
       "      <td>...</td>\n",
       "      <td>...</td>\n",
       "      <td>...</td>\n",
       "      <td>...</td>\n",
       "      <td>...</td>\n",
       "      <td>...</td>\n",
       "      <td>...</td>\n",
       "      <td>...</td>\n",
       "      <td>...</td>\n",
       "      <td>...</td>\n",
       "      <td>...</td>\n",
       "      <td>...</td>\n",
       "      <td>...</td>\n",
       "      <td>...</td>\n",
       "      <td>...</td>\n",
       "      <td>...</td>\n",
       "      <td>...</td>\n",
       "      <td>...</td>\n",
       "      <td>...</td>\n",
       "    </tr>\n",
       "    <tr>\n",
       "      <th rowspan=\"5\" valign=\"top\">80</th>\n",
       "      <th>202</th>\n",
       "      <td>Hg</td>\n",
       "      <td>122</td>\n",
       "      <td>34</td>\n",
       "      <td>1.98882</td>\n",
       "      <td>6+</td>\n",
       "      <td>1</td>\n",
       "      <td>0.207921</td>\n",
       "      <td>6</td>\n",
       "      <td>+</td>\n",
       "      <td>6.0</td>\n",
       "      <td>True</td>\n",
       "      <td>0</td>\n",
       "      <td>3</td>\n",
       "      <td>0.447809</td>\n",
       "      <td>0.216047</td>\n",
       "      <td>0.999936</td>\n",
       "      <td>0.482454</td>\n",
       "      <td>3</td>\n",
       "      <td>1.991568</td>\n",
       "    </tr>\n",
       "    <tr>\n",
       "      <th>204</th>\n",
       "      <td>Hg</td>\n",
       "      <td>124</td>\n",
       "      <td>0</td>\n",
       "      <td>0.0</td>\n",
       "      <td>0+</td>\n",
       "      <td>1</td>\n",
       "      <td>0.215686</td>\n",
       "      <td>0</td>\n",
       "      <td>+</td>\n",
       "      <td>0.0</td>\n",
       "      <td>True</td>\n",
       "      <td>0</td>\n",
       "      <td>0</td>\n",
       "      <td>0.418240</td>\n",
       "      <td>0.310062</td>\n",
       "      <td>0.999741</td>\n",
       "      <td>0.741349</td>\n",
       "      <td>0</td>\n",
       "      <td>0.000000</td>\n",
       "    </tr>\n",
       "    <tr>\n",
       "      <th>204</th>\n",
       "      <td>Hg</td>\n",
       "      <td>124</td>\n",
       "      <td>1</td>\n",
       "      <td>0.436552</td>\n",
       "      <td>2+</td>\n",
       "      <td>1</td>\n",
       "      <td>0.215686</td>\n",
       "      <td>2</td>\n",
       "      <td>+</td>\n",
       "      <td>2.0</td>\n",
       "      <td>True</td>\n",
       "      <td>0</td>\n",
       "      <td>1</td>\n",
       "      <td>0.418240</td>\n",
       "      <td>0.310062</td>\n",
       "      <td>0.999741</td>\n",
       "      <td>0.741349</td>\n",
       "      <td>1</td>\n",
       "      <td>0.418240</td>\n",
       "    </tr>\n",
       "    <tr>\n",
       "      <th>204</th>\n",
       "      <td>Hg</td>\n",
       "      <td>124</td>\n",
       "      <td>2</td>\n",
       "      <td>1.12823</td>\n",
       "      <td>4+</td>\n",
       "      <td>1</td>\n",
       "      <td>0.215686</td>\n",
       "      <td>4</td>\n",
       "      <td>+</td>\n",
       "      <td>4.0</td>\n",
       "      <td>True</td>\n",
       "      <td>0</td>\n",
       "      <td>2</td>\n",
       "      <td>0.418240</td>\n",
       "      <td>0.310062</td>\n",
       "      <td>0.999741</td>\n",
       "      <td>0.741349</td>\n",
       "      <td>2</td>\n",
       "      <td>1.146542</td>\n",
       "    </tr>\n",
       "    <tr>\n",
       "      <th>204</th>\n",
       "      <td>Hg</td>\n",
       "      <td>124</td>\n",
       "      <td>15</td>\n",
       "      <td>2.19101</td>\n",
       "      <td>6+</td>\n",
       "      <td>1</td>\n",
       "      <td>0.215686</td>\n",
       "      <td>6</td>\n",
       "      <td>+</td>\n",
       "      <td>6.0</td>\n",
       "      <td>True</td>\n",
       "      <td>0</td>\n",
       "      <td>3</td>\n",
       "      <td>0.418240</td>\n",
       "      <td>0.310062</td>\n",
       "      <td>0.999741</td>\n",
       "      <td>0.741349</td>\n",
       "      <td>3</td>\n",
       "      <td>2.184906</td>\n",
       "    </tr>\n",
       "  </tbody>\n",
       "</table>\n",
       "<p>1032 rows × 19 columns</p>\n",
       "</div>"
      ],
      "text/plain": [
       "       symbol    n  idx    energy  jp  jp_order      beta  j  p  j_float_x  \\\n",
       "z  a                                                                         \n",
       "3  6       Li    3    2   3.56288  0+         1       0.0  0  +        0.0   \n",
       "   6       Li    3    3     4.312  2+         1       0.0  2  +        2.0   \n",
       "   6       Li    3    9      23.0  4+         1       0.0  4  +        4.0   \n",
       "6  12       C    6    0       0.0  0+         1       0.0  0  +        0.0   \n",
       "   12       C    6    1   4.43982  2+         1       0.0  2  +        2.0   \n",
       "...       ...  ...  ...       ...  ..       ...       ... .. ..        ...   \n",
       "80 202     Hg  122   34   1.98882  6+         1  0.207921  6  +        6.0   \n",
       "   204     Hg  124    0       0.0  0+         1  0.215686  0  +        0.0   \n",
       "   204     Hg  124    1  0.436552  2+         1  0.215686  2  +        2.0   \n",
       "   204     Hg  124    2   1.12823  4+         1  0.215686  4  +        4.0   \n",
       "   204     Hg  124   15   2.19101  6+         1  0.215686  6  +        6.0   \n",
       "\n",
       "        j_evenness  p_bit  quanta  energy_quantum     shift4        r2  \\\n",
       "z  a                                                                     \n",
       "3  6          True      0       0        4.312000  14.376000  0.947661   \n",
       "   6          True      0       1        4.312000  14.376000  0.947661   \n",
       "   6          True      0       2        4.312000  14.376000  0.947661   \n",
       "6  12         True      0       0        4.439820   4.420360  1.000000   \n",
       "   12         True      0       1        4.439820   4.420360  1.000000   \n",
       "...            ...    ...     ...             ...        ...       ...   \n",
       "80 202        True      0       3        0.447809   0.216047  0.999936   \n",
       "   204        True      0       0        0.418240   0.310062  0.999741   \n",
       "   204        True      0       1        0.418240   0.310062  0.999741   \n",
       "   204        True      0       2        0.418240   0.310062  0.999741   \n",
       "   204        True      0       3        0.418240   0.310062  0.999741   \n",
       "\n",
       "        anharmonicity  j_float_y  energy_pred  \n",
       "z  a                                           \n",
       "3  6         3.333952          0     0.000000  \n",
       "   6         3.333952          1     4.312000  \n",
       "   6         3.333952          2    23.000000  \n",
       "6  12        0.995617          0     0.000000  \n",
       "   12        0.995617          1     4.439820  \n",
       "...               ...        ...          ...  \n",
       "80 202       0.482454          3     1.991568  \n",
       "   204       0.741349          0     0.000000  \n",
       "   204       0.741349          1     0.418240  \n",
       "   204       0.741349          2     1.146542  \n",
       "   204       0.741349          3     2.184906  \n",
       "\n",
       "[1032 rows x 19 columns]"
      ]
     },
     "execution_count": 67,
     "metadata": {},
     "output_type": "execute_result"
    }
   ],
   "source": [
    "best_osc_merged"
   ]
  },
  {
   "cell_type": "code",
   "execution_count": 68,
   "metadata": {},
   "outputs": [
    {
     "data": {
      "text/html": [
       "<div>\n",
       "<style scoped>\n",
       "    .dataframe tbody tr th:only-of-type {\n",
       "        vertical-align: middle;\n",
       "    }\n",
       "\n",
       "    .dataframe tbody tr th {\n",
       "        vertical-align: top;\n",
       "    }\n",
       "\n",
       "    .dataframe thead th {\n",
       "        text-align: right;\n",
       "    }\n",
       "</style>\n",
       "<table border=\"1\" class=\"dataframe\">\n",
       "  <thead>\n",
       "    <tr style=\"text-align: right;\">\n",
       "      <th></th>\n",
       "      <th></th>\n",
       "      <th>symbol</th>\n",
       "      <th>n</th>\n",
       "      <th>idx</th>\n",
       "      <th>energy</th>\n",
       "      <th>jp</th>\n",
       "      <th>jp_order</th>\n",
       "      <th>beta</th>\n",
       "      <th>j</th>\n",
       "      <th>p</th>\n",
       "      <th>j_float_x</th>\n",
       "      <th>j_evenness</th>\n",
       "      <th>p_bit</th>\n",
       "      <th>quanta</th>\n",
       "      <th>energy_quantum</th>\n",
       "      <th>shift4</th>\n",
       "      <th>r2</th>\n",
       "      <th>anharmonicity</th>\n",
       "      <th>j_float_y</th>\n",
       "      <th>energy_pred</th>\n",
       "    </tr>\n",
       "    <tr>\n",
       "      <th>z</th>\n",
       "      <th>a</th>\n",
       "      <th></th>\n",
       "      <th></th>\n",
       "      <th></th>\n",
       "      <th></th>\n",
       "      <th></th>\n",
       "      <th></th>\n",
       "      <th></th>\n",
       "      <th></th>\n",
       "      <th></th>\n",
       "      <th></th>\n",
       "      <th></th>\n",
       "      <th></th>\n",
       "      <th></th>\n",
       "      <th></th>\n",
       "      <th></th>\n",
       "      <th></th>\n",
       "      <th></th>\n",
       "      <th></th>\n",
       "      <th></th>\n",
       "    </tr>\n",
       "  </thead>\n",
       "  <tbody>\n",
       "    <tr>\n",
       "      <th rowspan=\"3\" valign=\"top\">3</th>\n",
       "      <th>6</th>\n",
       "      <td>Li</td>\n",
       "      <td>3</td>\n",
       "      <td>2</td>\n",
       "      <td>3.56288</td>\n",
       "      <td>0+</td>\n",
       "      <td>1</td>\n",
       "      <td>0.0</td>\n",
       "      <td>0</td>\n",
       "      <td>+</td>\n",
       "      <td>0.0</td>\n",
       "      <td>True</td>\n",
       "      <td>0</td>\n",
       "      <td>0</td>\n",
       "      <td>4.312000</td>\n",
       "      <td>14.376000</td>\n",
       "      <td>0.947661</td>\n",
       "      <td>3.333952</td>\n",
       "      <td>0</td>\n",
       "      <td>0.000000</td>\n",
       "    </tr>\n",
       "    <tr>\n",
       "      <th>6</th>\n",
       "      <td>Li</td>\n",
       "      <td>3</td>\n",
       "      <td>3</td>\n",
       "      <td>4.312</td>\n",
       "      <td>2+</td>\n",
       "      <td>1</td>\n",
       "      <td>0.0</td>\n",
       "      <td>2</td>\n",
       "      <td>+</td>\n",
       "      <td>2.0</td>\n",
       "      <td>True</td>\n",
       "      <td>0</td>\n",
       "      <td>1</td>\n",
       "      <td>4.312000</td>\n",
       "      <td>14.376000</td>\n",
       "      <td>0.947661</td>\n",
       "      <td>3.333952</td>\n",
       "      <td>1</td>\n",
       "      <td>4.312000</td>\n",
       "    </tr>\n",
       "    <tr>\n",
       "      <th>6</th>\n",
       "      <td>Li</td>\n",
       "      <td>3</td>\n",
       "      <td>9</td>\n",
       "      <td>23.0</td>\n",
       "      <td>4+</td>\n",
       "      <td>1</td>\n",
       "      <td>0.0</td>\n",
       "      <td>4</td>\n",
       "      <td>+</td>\n",
       "      <td>4.0</td>\n",
       "      <td>True</td>\n",
       "      <td>0</td>\n",
       "      <td>2</td>\n",
       "      <td>4.312000</td>\n",
       "      <td>14.376000</td>\n",
       "      <td>0.947661</td>\n",
       "      <td>3.333952</td>\n",
       "      <td>2</td>\n",
       "      <td>23.000000</td>\n",
       "    </tr>\n",
       "    <tr>\n",
       "      <th rowspan=\"2\" valign=\"top\">5</th>\n",
       "      <th>10</th>\n",
       "      <td>B</td>\n",
       "      <td>5</td>\n",
       "      <td>2</td>\n",
       "      <td>1.74005</td>\n",
       "      <td>0+</td>\n",
       "      <td>1</td>\n",
       "      <td>0.0</td>\n",
       "      <td>0</td>\n",
       "      <td>+</td>\n",
       "      <td>0.0</td>\n",
       "      <td>True</td>\n",
       "      <td>0</td>\n",
       "      <td>0</td>\n",
       "      <td>3.587130</td>\n",
       "      <td>-1.149360</td>\n",
       "      <td>0.672252</td>\n",
       "      <td>-0.320412</td>\n",
       "      <td>0</td>\n",
       "      <td>0.000000</td>\n",
       "    </tr>\n",
       "    <tr>\n",
       "      <th>10</th>\n",
       "      <td>B</td>\n",
       "      <td>5</td>\n",
       "      <td>4</td>\n",
       "      <td>3.58713</td>\n",
       "      <td>2+</td>\n",
       "      <td>1</td>\n",
       "      <td>0.0</td>\n",
       "      <td>2</td>\n",
       "      <td>+</td>\n",
       "      <td>2.0</td>\n",
       "      <td>True</td>\n",
       "      <td>0</td>\n",
       "      <td>1</td>\n",
       "      <td>3.587130</td>\n",
       "      <td>-1.149360</td>\n",
       "      <td>0.672252</td>\n",
       "      <td>-0.320412</td>\n",
       "      <td>1</td>\n",
       "      <td>3.587130</td>\n",
       "    </tr>\n",
       "    <tr>\n",
       "      <th>...</th>\n",
       "      <th>...</th>\n",
       "      <td>...</td>\n",
       "      <td>...</td>\n",
       "      <td>...</td>\n",
       "      <td>...</td>\n",
       "      <td>...</td>\n",
       "      <td>...</td>\n",
       "      <td>...</td>\n",
       "      <td>...</td>\n",
       "      <td>...</td>\n",
       "      <td>...</td>\n",
       "      <td>...</td>\n",
       "      <td>...</td>\n",
       "      <td>...</td>\n",
       "      <td>...</td>\n",
       "      <td>...</td>\n",
       "      <td>...</td>\n",
       "      <td>...</td>\n",
       "      <td>...</td>\n",
       "      <td>...</td>\n",
       "    </tr>\n",
       "    <tr>\n",
       "      <th rowspan=\"5\" valign=\"top\">82</th>\n",
       "      <th>208</th>\n",
       "      <td>Pb</td>\n",
       "      <td>126</td>\n",
       "      <td>20</td>\n",
       "      <td>4.323946</td>\n",
       "      <td>4+</td>\n",
       "      <td>1</td>\n",
       "      <td>0.211538</td>\n",
       "      <td>4</td>\n",
       "      <td>+</td>\n",
       "      <td>4.0</td>\n",
       "      <td>True</td>\n",
       "      <td>0</td>\n",
       "      <td>2</td>\n",
       "      <td>1.315512</td>\n",
       "      <td>-0.005631</td>\n",
       "      <td>0.404821</td>\n",
       "      <td>-0.004280</td>\n",
       "      <td>2</td>\n",
       "      <td>2.625394</td>\n",
       "    </tr>\n",
       "    <tr>\n",
       "      <th>208</th>\n",
       "      <td>Pb</td>\n",
       "      <td>126</td>\n",
       "      <td>23</td>\n",
       "      <td>4.423647</td>\n",
       "      <td>6+</td>\n",
       "      <td>1</td>\n",
       "      <td>0.211538</td>\n",
       "      <td>6</td>\n",
       "      <td>+</td>\n",
       "      <td>6.0</td>\n",
       "      <td>True</td>\n",
       "      <td>0</td>\n",
       "      <td>3</td>\n",
       "      <td>1.315512</td>\n",
       "      <td>-0.005631</td>\n",
       "      <td>0.404821</td>\n",
       "      <td>-0.004280</td>\n",
       "      <td>3</td>\n",
       "      <td>3.929644</td>\n",
       "    </tr>\n",
       "    <tr>\n",
       "      <th>208</th>\n",
       "      <td>Pb</td>\n",
       "      <td>126</td>\n",
       "      <td>26</td>\n",
       "      <td>4.610748</td>\n",
       "      <td>8+</td>\n",
       "      <td>1</td>\n",
       "      <td>0.211538</td>\n",
       "      <td>8</td>\n",
       "      <td>+</td>\n",
       "      <td>8.0</td>\n",
       "      <td>True</td>\n",
       "      <td>0</td>\n",
       "      <td>4</td>\n",
       "      <td>1.315512</td>\n",
       "      <td>-0.005631</td>\n",
       "      <td>0.404821</td>\n",
       "      <td>-0.004280</td>\n",
       "      <td>4</td>\n",
       "      <td>5.194479</td>\n",
       "    </tr>\n",
       "    <tr>\n",
       "      <th>208</th>\n",
       "      <td>Pb</td>\n",
       "      <td>126</td>\n",
       "      <td>38</td>\n",
       "      <td>4.89523</td>\n",
       "      <td>10+</td>\n",
       "      <td>1</td>\n",
       "      <td>0.211538</td>\n",
       "      <td>10</td>\n",
       "      <td>+</td>\n",
       "      <td>10.0</td>\n",
       "      <td>True</td>\n",
       "      <td>0</td>\n",
       "      <td>5</td>\n",
       "      <td>1.315512</td>\n",
       "      <td>-0.005631</td>\n",
       "      <td>0.404821</td>\n",
       "      <td>-0.004280</td>\n",
       "      <td>5</td>\n",
       "      <td>6.239713</td>\n",
       "    </tr>\n",
       "    <tr>\n",
       "      <th>208</th>\n",
       "      <td>Pb</td>\n",
       "      <td>126</td>\n",
       "      <td>184</td>\n",
       "      <td>6.10069</td>\n",
       "      <td>12+</td>\n",
       "      <td>1</td>\n",
       "      <td>0.211538</td>\n",
       "      <td>12</td>\n",
       "      <td>+</td>\n",
       "      <td>12.0</td>\n",
       "      <td>True</td>\n",
       "      <td>0</td>\n",
       "      <td>6</td>\n",
       "      <td>1.315512</td>\n",
       "      <td>-0.005631</td>\n",
       "      <td>0.404821</td>\n",
       "      <td>-0.004280</td>\n",
       "      <td>6</td>\n",
       "      <td>5.865987</td>\n",
       "    </tr>\n",
       "  </tbody>\n",
       "</table>\n",
       "<p>1056 rows × 19 columns</p>\n",
       "</div>"
      ],
      "text/plain": [
       "       symbol    n  idx    energy   jp  jp_order      beta   j  p  j_float_x  \\\n",
       "z  a                                                                           \n",
       "3  6       Li    3    2   3.56288   0+         1       0.0   0  +        0.0   \n",
       "   6       Li    3    3     4.312   2+         1       0.0   2  +        2.0   \n",
       "   6       Li    3    9      23.0   4+         1       0.0   4  +        4.0   \n",
       "5  10       B    5    2   1.74005   0+         1       0.0   0  +        0.0   \n",
       "   10       B    5    4   3.58713   2+         1       0.0   2  +        2.0   \n",
       "...       ...  ...  ...       ...  ...       ...       ...  .. ..        ...   \n",
       "82 208     Pb  126   20  4.323946   4+         1  0.211538   4  +        4.0   \n",
       "   208     Pb  126   23  4.423647   6+         1  0.211538   6  +        6.0   \n",
       "   208     Pb  126   26  4.610748   8+         1  0.211538   8  +        8.0   \n",
       "   208     Pb  126   38   4.89523  10+         1  0.211538  10  +       10.0   \n",
       "   208     Pb  126  184   6.10069  12+         1  0.211538  12  +       12.0   \n",
       "\n",
       "        j_evenness  p_bit  quanta  energy_quantum     shift4        r2  \\\n",
       "z  a                                                                     \n",
       "3  6          True      0       0        4.312000  14.376000  0.947661   \n",
       "   6          True      0       1        4.312000  14.376000  0.947661   \n",
       "   6          True      0       2        4.312000  14.376000  0.947661   \n",
       "5  10         True      0       0        3.587130  -1.149360  0.672252   \n",
       "   10         True      0       1        3.587130  -1.149360  0.672252   \n",
       "...            ...    ...     ...             ...        ...       ...   \n",
       "82 208        True      0       2        1.315512  -0.005631  0.404821   \n",
       "   208        True      0       3        1.315512  -0.005631  0.404821   \n",
       "   208        True      0       4        1.315512  -0.005631  0.404821   \n",
       "   208        True      0       5        1.315512  -0.005631  0.404821   \n",
       "   208        True      0       6        1.315512  -0.005631  0.404821   \n",
       "\n",
       "        anharmonicity  j_float_y  energy_pred  \n",
       "z  a                                           \n",
       "3  6         3.333952          0     0.000000  \n",
       "   6         3.333952          1     4.312000  \n",
       "   6         3.333952          2    23.000000  \n",
       "5  10       -0.320412          0     0.000000  \n",
       "   10       -0.320412          1     3.587130  \n",
       "...               ...        ...          ...  \n",
       "82 208      -0.004280          2     2.625394  \n",
       "   208      -0.004280          3     3.929644  \n",
       "   208      -0.004280          4     5.194479  \n",
       "   208      -0.004280          5     6.239713  \n",
       "   208      -0.004280          6     5.865987  \n",
       "\n",
       "[1056 rows x 19 columns]"
      ]
     },
     "execution_count": 68,
     "metadata": {},
     "output_type": "execute_result"
    }
   ],
   "source": [
    "merged"
   ]
  },
  {
   "cell_type": "code",
   "execution_count": 69,
   "metadata": {},
   "outputs": [
    {
     "data": {
      "text/html": [
       "<div>\n",
       "<style scoped>\n",
       "    .dataframe tbody tr th:only-of-type {\n",
       "        vertical-align: middle;\n",
       "    }\n",
       "\n",
       "    .dataframe tbody tr th {\n",
       "        vertical-align: top;\n",
       "    }\n",
       "\n",
       "    .dataframe thead th {\n",
       "        text-align: right;\n",
       "    }\n",
       "</style>\n",
       "<table border=\"1\" class=\"dataframe\">\n",
       "  <thead>\n",
       "    <tr style=\"text-align: right;\">\n",
       "      <th></th>\n",
       "      <th></th>\n",
       "      <th>symbol</th>\n",
       "      <th>n</th>\n",
       "      <th>idx</th>\n",
       "      <th>energy</th>\n",
       "      <th>jp</th>\n",
       "      <th>jp_order</th>\n",
       "      <th>beta</th>\n",
       "      <th>j</th>\n",
       "      <th>p</th>\n",
       "      <th>j_float_x</th>\n",
       "      <th>j_evenness</th>\n",
       "      <th>p_bit</th>\n",
       "      <th>quanta</th>\n",
       "      <th>energy_quantum</th>\n",
       "      <th>shift4</th>\n",
       "      <th>r2</th>\n",
       "      <th>anharmonicity</th>\n",
       "      <th>j_float_y</th>\n",
       "      <th>energy_pred</th>\n",
       "    </tr>\n",
       "    <tr>\n",
       "      <th>z</th>\n",
       "      <th>a</th>\n",
       "      <th></th>\n",
       "      <th></th>\n",
       "      <th></th>\n",
       "      <th></th>\n",
       "      <th></th>\n",
       "      <th></th>\n",
       "      <th></th>\n",
       "      <th></th>\n",
       "      <th></th>\n",
       "      <th></th>\n",
       "      <th></th>\n",
       "      <th></th>\n",
       "      <th></th>\n",
       "      <th></th>\n",
       "      <th></th>\n",
       "      <th></th>\n",
       "      <th></th>\n",
       "      <th></th>\n",
       "      <th></th>\n",
       "    </tr>\n",
       "  </thead>\n",
       "  <tbody>\n",
       "    <tr>\n",
       "      <th rowspan=\"6\" valign=\"top\">24</th>\n",
       "      <th>52</th>\n",
       "      <td>Cr</td>\n",
       "      <td>28</td>\n",
       "      <td>0</td>\n",
       "      <td>0.0</td>\n",
       "      <td>0+</td>\n",
       "      <td>1</td>\n",
       "      <td>0.076923</td>\n",
       "      <td>0</td>\n",
       "      <td>+</td>\n",
       "      <td>0.0</td>\n",
       "      <td>True</td>\n",
       "      <td>0</td>\n",
       "      <td>0</td>\n",
       "      <td>1.093661</td>\n",
       "      <td>0.029399</td>\n",
       "      <td>0.99374</td>\n",
       "      <td>0.026881</td>\n",
       "      <td>0</td>\n",
       "      <td>0.000000</td>\n",
       "    </tr>\n",
       "    <tr>\n",
       "      <th>52</th>\n",
       "      <td>Cr</td>\n",
       "      <td>28</td>\n",
       "      <td>1</td>\n",
       "      <td>1.434091</td>\n",
       "      <td>2+</td>\n",
       "      <td>1</td>\n",
       "      <td>0.076923</td>\n",
       "      <td>2</td>\n",
       "      <td>+</td>\n",
       "      <td>2.0</td>\n",
       "      <td>True</td>\n",
       "      <td>0</td>\n",
       "      <td>1</td>\n",
       "      <td>1.093661</td>\n",
       "      <td>0.029399</td>\n",
       "      <td>0.99374</td>\n",
       "      <td>0.026881</td>\n",
       "      <td>1</td>\n",
       "      <td>1.093661</td>\n",
       "    </tr>\n",
       "    <tr>\n",
       "      <th>52</th>\n",
       "      <td>Cr</td>\n",
       "      <td>28</td>\n",
       "      <td>2</td>\n",
       "      <td>2.36963</td>\n",
       "      <td>4+</td>\n",
       "      <td>1</td>\n",
       "      <td>0.076923</td>\n",
       "      <td>4</td>\n",
       "      <td>+</td>\n",
       "      <td>4.0</td>\n",
       "      <td>True</td>\n",
       "      <td>0</td>\n",
       "      <td>2</td>\n",
       "      <td>1.093661</td>\n",
       "      <td>0.029399</td>\n",
       "      <td>0.99374</td>\n",
       "      <td>0.026881</td>\n",
       "      <td>2</td>\n",
       "      <td>2.216721</td>\n",
       "    </tr>\n",
       "    <tr>\n",
       "      <th>52</th>\n",
       "      <td>Cr</td>\n",
       "      <td>28</td>\n",
       "      <td>6</td>\n",
       "      <td>3.113858</td>\n",
       "      <td>6+</td>\n",
       "      <td>1</td>\n",
       "      <td>0.076923</td>\n",
       "      <td>6</td>\n",
       "      <td>+</td>\n",
       "      <td>6.0</td>\n",
       "      <td>True</td>\n",
       "      <td>0</td>\n",
       "      <td>3</td>\n",
       "      <td>1.093661</td>\n",
       "      <td>0.029399</td>\n",
       "      <td>0.99374</td>\n",
       "      <td>0.026881</td>\n",
       "      <td>3</td>\n",
       "      <td>3.369180</td>\n",
       "    </tr>\n",
       "    <tr>\n",
       "      <th>52</th>\n",
       "      <td>Cr</td>\n",
       "      <td>28</td>\n",
       "      <td>26</td>\n",
       "      <td>4.75031</td>\n",
       "      <td>8+</td>\n",
       "      <td>1</td>\n",
       "      <td>0.076923</td>\n",
       "      <td>8</td>\n",
       "      <td>+</td>\n",
       "      <td>8.0</td>\n",
       "      <td>True</td>\n",
       "      <td>0</td>\n",
       "      <td>4</td>\n",
       "      <td>1.093661</td>\n",
       "      <td>0.029399</td>\n",
       "      <td>0.99374</td>\n",
       "      <td>0.026881</td>\n",
       "      <td>4</td>\n",
       "      <td>4.727434</td>\n",
       "    </tr>\n",
       "    <tr>\n",
       "      <th>52</th>\n",
       "      <td>Cr</td>\n",
       "      <td>28</td>\n",
       "      <td>125</td>\n",
       "      <td>7.2379</td>\n",
       "      <td>10+</td>\n",
       "      <td>1</td>\n",
       "      <td>0.076923</td>\n",
       "      <td>10</td>\n",
       "      <td>+</td>\n",
       "      <td>10.0</td>\n",
       "      <td>True</td>\n",
       "      <td>0</td>\n",
       "      <td>5</td>\n",
       "      <td>1.093661</td>\n",
       "      <td>0.029399</td>\n",
       "      <td>0.99374</td>\n",
       "      <td>0.026881</td>\n",
       "      <td>5</td>\n",
       "      <td>7.232258</td>\n",
       "    </tr>\n",
       "  </tbody>\n",
       "</table>\n",
       "</div>"
      ],
      "text/plain": [
       "      symbol   n  idx    energy   jp  jp_order      beta   j  p  j_float_x  \\\n",
       "z  a                                                                         \n",
       "24 52     Cr  28    0       0.0   0+         1  0.076923   0  +        0.0   \n",
       "   52     Cr  28    1  1.434091   2+         1  0.076923   2  +        2.0   \n",
       "   52     Cr  28    2   2.36963   4+         1  0.076923   4  +        4.0   \n",
       "   52     Cr  28    6  3.113858   6+         1  0.076923   6  +        6.0   \n",
       "   52     Cr  28   26   4.75031   8+         1  0.076923   8  +        8.0   \n",
       "   52     Cr  28  125    7.2379  10+         1  0.076923  10  +       10.0   \n",
       "\n",
       "       j_evenness  p_bit  quanta  energy_quantum    shift4       r2  \\\n",
       "z  a                                                                  \n",
       "24 52        True      0       0        1.093661  0.029399  0.99374   \n",
       "   52        True      0       1        1.093661  0.029399  0.99374   \n",
       "   52        True      0       2        1.093661  0.029399  0.99374   \n",
       "   52        True      0       3        1.093661  0.029399  0.99374   \n",
       "   52        True      0       4        1.093661  0.029399  0.99374   \n",
       "   52        True      0       5        1.093661  0.029399  0.99374   \n",
       "\n",
       "       anharmonicity  j_float_y  energy_pred  \n",
       "z  a                                          \n",
       "24 52       0.026881          0     0.000000  \n",
       "   52       0.026881          1     1.093661  \n",
       "   52       0.026881          2     2.216721  \n",
       "   52       0.026881          3     3.369180  \n",
       "   52       0.026881          4     4.727434  \n",
       "   52       0.026881          5     7.232258  "
      ]
     },
     "execution_count": 69,
     "metadata": {},
     "output_type": "execute_result"
    }
   ],
   "source": [
    "merged.loc[24,52]"
   ]
  },
  {
   "cell_type": "code",
   "execution_count": 70,
   "metadata": {},
   "outputs": [
    {
     "data": {
      "application/vnd.plotly.v1+json": {
       "config": {
        "plotlyServerURL": "https://plot.ly"
       },
       "data": [
        {
         "hovertemplate": "Number of neutrons (N)=%{x}<br>Number of protons (Z)=%{y}<br>R² Score=%{marker.color}<extra></extra>",
         "legendgroup": "",
         "marker": {
          "color": [
           0.947660632186498,
           1,
           0.902845347847653,
           0.9909095457871899,
           0.9676308979240745,
           0.9957042495097911,
           1,
           0.9933892815598439,
           0.9971948315553099,
           0.9965404136889606,
           0.9999410030160026,
           0.9283187715151605,
           0.9883491220110412,
           1,
           0.996901554838279,
           0.9843029379861674,
           0.9949708280887409,
           0.9578227785384357,
           0.9719475214137222,
           0.9981241239947626,
           0.995057164471873,
           0.9942287082951565,
           0.9986999591324154,
           0.9997624794879723,
           0.9937397111069151,
           0.9994048576380726,
           0.9360657008070599,
           0.9983382322083393,
           0.9949124451528611,
           0.9832459997461651,
           0.9915406016908554,
           0.9666098192489037,
           0.9367413407757037,
           0.9999865661328631,
           1,
           1,
           0.9983090281933279,
           0.9989083688273755,
           1,
           0.9908965266538784,
           0.9784457771947302,
           0.9920625918770405,
           0.995030321028927,
           1,
           0.9707201858344551,
           0.994565095520415,
           1,
           0.9725911936830863,
           1,
           0.9893195932555456,
           0.9784138406458531,
           1,
           0.9814132397368558,
           1,
           0.9450787622124234,
           0.9990342120441829,
           0.9957078837062601,
           0.9994602647421219,
           0.9970512689836463,
           0.996968043563393,
           0.9920978061627401,
           0.985109333146782,
           0.990133043548126,
           0.9797427423851738,
           0.9973609598582952,
           0.9951856054506243,
           0.9935394192087537,
           0.9956090263069878,
           0.9923480356095874,
           0.994349701567848,
           0.9765889669796247,
           0.995796770302018,
           0.9991943516940345,
           0.9950237727502936,
           0.9894769637053263,
           0.9730921142754505,
           0.9942538998135703,
           0.9981719241715675,
           0.9972757290001549,
           0.9969940968657877,
           0.9999769076778285,
           0.999567635354214,
           0.997620299999513,
           0.9895208680726277,
           0.9389907355624674,
           0.9863690324821549,
           0.9932949549150075,
           0.9991171549062955,
           0.9896115369426723,
           1,
           0.9848063670035131,
           0.9523294347769495,
           0.9899400246225601,
           0.9276263941793996,
           0.9216621709830299,
           0.9957729596716111,
           0.9953985492894383,
           0.9917850990138473,
           0.9906352206433632,
           0.962295623795312,
           0.9477943237120992,
           0.963472769924555,
           0.9529035419967969,
           0.9686586410629194,
           0.9533591825849561,
           0.941345448540325,
           0.9592557607490966,
           0.9551895023976422,
           0.9501808305460885,
           0.96032648486163,
           0.9610566805388198,
           0.9491637559318206,
           0.9613948794730793,
           0.952265292025377,
           0.9409507699496935,
           0.940826785430459,
           0.948993757681635,
           0.9777559582936212,
           0.977542934335432,
           0.9886865412804627,
           0.9512463935498938,
           0.9624160632214448,
           0.9416047034476259,
           0.9445311640887321,
           0.9549776595842256,
           0.9427040000943112,
           0.9623075904191597,
           0.9907525463664605,
           0.9786944326122827,
           0.9912368738625781,
           0.9999376500614308,
           0.9952324186551447,
           0.9864545715957335,
           1,
           0.9604811332069623,
           0.9848543254836183,
           0.9999363647868347,
           0.9997414011335293
          ],
          "coloraxis": "coloraxis",
          "symbol": "circle"
         },
         "mode": "markers",
         "name": "",
         "orientation": "v",
         "showlegend": false,
         "type": "scatter",
         "x": [
          3,
          6,
          7,
          8,
          10,
          10,
          12,
          12,
          14,
          14,
          16,
          16,
          18,
          20,
          18,
          20,
          22,
          20,
          22,
          24,
          26,
          24,
          26,
          28,
          28,
          30,
          28,
          30,
          32,
          30,
          32,
          34,
          36,
          34,
          36,
          38,
          38,
          40,
          42,
          44,
          40,
          42,
          44,
          46,
          42,
          44,
          46,
          48,
          50,
          46,
          48,
          50,
          52,
          54,
          50,
          52,
          54,
          56,
          52,
          54,
          56,
          58,
          60,
          56,
          58,
          60,
          62,
          64,
          58,
          60,
          62,
          64,
          66,
          62,
          64,
          66,
          68,
          70,
          72,
          74,
          68,
          70,
          72,
          74,
          72,
          74,
          76,
          78,
          74,
          78,
          80,
          82,
          78,
          82,
          82,
          86,
          88,
          82,
          88,
          90,
          92,
          90,
          92,
          94,
          96,
          90,
          92,
          94,
          96,
          98,
          94,
          96,
          98,
          100,
          102,
          98,
          100,
          102,
          104,
          106,
          104,
          106,
          108,
          108,
          110,
          112,
          112,
          114,
          116,
          114,
          116,
          118,
          120,
          116,
          118,
          120,
          122,
          124
         ],
         "xaxis": "x",
         "y": [
          3,
          6,
          7,
          8,
          8,
          10,
          10,
          12,
          12,
          14,
          14,
          16,
          16,
          16,
          18,
          18,
          18,
          20,
          20,
          20,
          20,
          22,
          22,
          22,
          24,
          24,
          26,
          26,
          26,
          28,
          28,
          28,
          28,
          30,
          30,
          30,
          32,
          32,
          32,
          32,
          34,
          34,
          34,
          34,
          36,
          36,
          36,
          36,
          36,
          38,
          38,
          38,
          40,
          40,
          42,
          42,
          42,
          42,
          44,
          44,
          44,
          44,
          44,
          46,
          46,
          46,
          46,
          46,
          48,
          48,
          48,
          48,
          48,
          50,
          50,
          50,
          50,
          50,
          50,
          50,
          52,
          52,
          52,
          52,
          54,
          54,
          54,
          54,
          56,
          56,
          56,
          56,
          58,
          58,
          60,
          60,
          60,
          62,
          62,
          62,
          62,
          64,
          64,
          64,
          64,
          66,
          66,
          66,
          66,
          66,
          68,
          68,
          68,
          68,
          68,
          70,
          70,
          70,
          70,
          70,
          72,
          72,
          72,
          74,
          74,
          74,
          76,
          76,
          76,
          78,
          78,
          78,
          78,
          80,
          80,
          80,
          80,
          80
         ],
         "yaxis": "y"
        }
       ],
       "layout": {
        "coloraxis": {
         "colorbar": {
          "title": {
           "text": "R² Score"
          }
         },
         "colorscale": [
          [
           0,
           "rgb(103,0,31)"
          ],
          [
           0.1,
           "rgb(178,24,43)"
          ],
          [
           0.2,
           "rgb(214,96,77)"
          ],
          [
           0.3,
           "rgb(244,165,130)"
          ],
          [
           0.4,
           "rgb(253,219,199)"
          ],
          [
           0.5,
           "rgb(247,247,247)"
          ],
          [
           0.6,
           "rgb(209,229,240)"
          ],
          [
           0.7,
           "rgb(146,197,222)"
          ],
          [
           0.8,
           "rgb(67,147,195)"
          ],
          [
           0.9,
           "rgb(33,102,172)"
          ],
          [
           1,
           "rgb(5,48,97)"
          ]
         ]
        },
        "height": 600,
        "legend": {
         "tracegroupgap": 0
        },
        "shapes": [
         {
          "line": {
           "color": "gray",
           "dash": "dash"
          },
          "name": "Magic numbers",
          "type": "line",
          "x0": 2,
          "x1": 2,
          "xref": "x",
          "y0": 0,
          "y1": 1,
          "yref": "y domain"
         },
         {
          "line": {
           "color": "gray",
           "dash": "dash"
          },
          "type": "line",
          "x0": 8,
          "x1": 8,
          "xref": "x",
          "y0": 0,
          "y1": 1,
          "yref": "y domain"
         },
         {
          "line": {
           "color": "gray",
           "dash": "dash"
          },
          "type": "line",
          "x0": 20,
          "x1": 20,
          "xref": "x",
          "y0": 0,
          "y1": 1,
          "yref": "y domain"
         },
         {
          "line": {
           "color": "gray",
           "dash": "dash"
          },
          "type": "line",
          "x0": 50,
          "x1": 50,
          "xref": "x",
          "y0": 0,
          "y1": 1,
          "yref": "y domain"
         },
         {
          "line": {
           "color": "gray",
           "dash": "dash"
          },
          "type": "line",
          "x0": 58,
          "x1": 58,
          "xref": "x",
          "y0": 0,
          "y1": 1,
          "yref": "y domain"
         },
         {
          "line": {
           "color": "gray",
           "dash": "dash"
          },
          "type": "line",
          "x0": 82,
          "x1": 82,
          "xref": "x",
          "y0": 0,
          "y1": 1,
          "yref": "y domain"
         },
         {
          "line": {
           "color": "gray",
           "dash": "dash"
          },
          "type": "line",
          "x0": 126,
          "x1": 126,
          "xref": "x",
          "y0": 0,
          "y1": 1,
          "yref": "y domain"
         },
         {
          "line": {
           "color": "gray",
           "dash": "dash"
          },
          "type": "line",
          "x0": 0,
          "x1": 1,
          "xref": "x domain",
          "y0": 2,
          "y1": 2,
          "yref": "y"
         },
         {
          "line": {
           "color": "gray",
           "dash": "dash"
          },
          "type": "line",
          "x0": 0,
          "x1": 1,
          "xref": "x domain",
          "y0": 8,
          "y1": 8,
          "yref": "y"
         },
         {
          "line": {
           "color": "gray",
           "dash": "dash"
          },
          "type": "line",
          "x0": 0,
          "x1": 1,
          "xref": "x domain",
          "y0": 20,
          "y1": 20,
          "yref": "y"
         },
         {
          "line": {
           "color": "gray",
           "dash": "dash"
          },
          "type": "line",
          "x0": 0,
          "x1": 1,
          "xref": "x domain",
          "y0": 50,
          "y1": 50,
          "yref": "y"
         },
         {
          "line": {
           "color": "gray",
           "dash": "dash"
          },
          "type": "line",
          "x0": 0,
          "x1": 1,
          "xref": "x domain",
          "y0": 58,
          "y1": 58,
          "yref": "y"
         },
         {
          "line": {
           "color": "gray",
           "dash": "dash"
          },
          "type": "line",
          "x0": 0,
          "x1": 1,
          "xref": "x domain",
          "y0": 82,
          "y1": 82,
          "yref": "y"
         }
        ],
        "template": {
         "data": {
          "bar": [
           {
            "error_x": {
             "color": "#2a3f5f"
            },
            "error_y": {
             "color": "#2a3f5f"
            },
            "marker": {
             "line": {
              "color": "#E5ECF6",
              "width": 0.5
             },
             "pattern": {
              "fillmode": "overlay",
              "size": 10,
              "solidity": 0.2
             }
            },
            "type": "bar"
           }
          ],
          "barpolar": [
           {
            "marker": {
             "line": {
              "color": "#E5ECF6",
              "width": 0.5
             },
             "pattern": {
              "fillmode": "overlay",
              "size": 10,
              "solidity": 0.2
             }
            },
            "type": "barpolar"
           }
          ],
          "carpet": [
           {
            "aaxis": {
             "endlinecolor": "#2a3f5f",
             "gridcolor": "white",
             "linecolor": "white",
             "minorgridcolor": "white",
             "startlinecolor": "#2a3f5f"
            },
            "baxis": {
             "endlinecolor": "#2a3f5f",
             "gridcolor": "white",
             "linecolor": "white",
             "minorgridcolor": "white",
             "startlinecolor": "#2a3f5f"
            },
            "type": "carpet"
           }
          ],
          "choropleth": [
           {
            "colorbar": {
             "outlinewidth": 0,
             "ticks": ""
            },
            "type": "choropleth"
           }
          ],
          "contour": [
           {
            "colorbar": {
             "outlinewidth": 0,
             "ticks": ""
            },
            "colorscale": [
             [
              0,
              "#0d0887"
             ],
             [
              0.1111111111111111,
              "#46039f"
             ],
             [
              0.2222222222222222,
              "#7201a8"
             ],
             [
              0.3333333333333333,
              "#9c179e"
             ],
             [
              0.4444444444444444,
              "#bd3786"
             ],
             [
              0.5555555555555556,
              "#d8576b"
             ],
             [
              0.6666666666666666,
              "#ed7953"
             ],
             [
              0.7777777777777778,
              "#fb9f3a"
             ],
             [
              0.8888888888888888,
              "#fdca26"
             ],
             [
              1,
              "#f0f921"
             ]
            ],
            "type": "contour"
           }
          ],
          "contourcarpet": [
           {
            "colorbar": {
             "outlinewidth": 0,
             "ticks": ""
            },
            "type": "contourcarpet"
           }
          ],
          "heatmap": [
           {
            "colorbar": {
             "outlinewidth": 0,
             "ticks": ""
            },
            "colorscale": [
             [
              0,
              "#0d0887"
             ],
             [
              0.1111111111111111,
              "#46039f"
             ],
             [
              0.2222222222222222,
              "#7201a8"
             ],
             [
              0.3333333333333333,
              "#9c179e"
             ],
             [
              0.4444444444444444,
              "#bd3786"
             ],
             [
              0.5555555555555556,
              "#d8576b"
             ],
             [
              0.6666666666666666,
              "#ed7953"
             ],
             [
              0.7777777777777778,
              "#fb9f3a"
             ],
             [
              0.8888888888888888,
              "#fdca26"
             ],
             [
              1,
              "#f0f921"
             ]
            ],
            "type": "heatmap"
           }
          ],
          "heatmapgl": [
           {
            "colorbar": {
             "outlinewidth": 0,
             "ticks": ""
            },
            "colorscale": [
             [
              0,
              "#0d0887"
             ],
             [
              0.1111111111111111,
              "#46039f"
             ],
             [
              0.2222222222222222,
              "#7201a8"
             ],
             [
              0.3333333333333333,
              "#9c179e"
             ],
             [
              0.4444444444444444,
              "#bd3786"
             ],
             [
              0.5555555555555556,
              "#d8576b"
             ],
             [
              0.6666666666666666,
              "#ed7953"
             ],
             [
              0.7777777777777778,
              "#fb9f3a"
             ],
             [
              0.8888888888888888,
              "#fdca26"
             ],
             [
              1,
              "#f0f921"
             ]
            ],
            "type": "heatmapgl"
           }
          ],
          "histogram": [
           {
            "marker": {
             "pattern": {
              "fillmode": "overlay",
              "size": 10,
              "solidity": 0.2
             }
            },
            "type": "histogram"
           }
          ],
          "histogram2d": [
           {
            "colorbar": {
             "outlinewidth": 0,
             "ticks": ""
            },
            "colorscale": [
             [
              0,
              "#0d0887"
             ],
             [
              0.1111111111111111,
              "#46039f"
             ],
             [
              0.2222222222222222,
              "#7201a8"
             ],
             [
              0.3333333333333333,
              "#9c179e"
             ],
             [
              0.4444444444444444,
              "#bd3786"
             ],
             [
              0.5555555555555556,
              "#d8576b"
             ],
             [
              0.6666666666666666,
              "#ed7953"
             ],
             [
              0.7777777777777778,
              "#fb9f3a"
             ],
             [
              0.8888888888888888,
              "#fdca26"
             ],
             [
              1,
              "#f0f921"
             ]
            ],
            "type": "histogram2d"
           }
          ],
          "histogram2dcontour": [
           {
            "colorbar": {
             "outlinewidth": 0,
             "ticks": ""
            },
            "colorscale": [
             [
              0,
              "#0d0887"
             ],
             [
              0.1111111111111111,
              "#46039f"
             ],
             [
              0.2222222222222222,
              "#7201a8"
             ],
             [
              0.3333333333333333,
              "#9c179e"
             ],
             [
              0.4444444444444444,
              "#bd3786"
             ],
             [
              0.5555555555555556,
              "#d8576b"
             ],
             [
              0.6666666666666666,
              "#ed7953"
             ],
             [
              0.7777777777777778,
              "#fb9f3a"
             ],
             [
              0.8888888888888888,
              "#fdca26"
             ],
             [
              1,
              "#f0f921"
             ]
            ],
            "type": "histogram2dcontour"
           }
          ],
          "mesh3d": [
           {
            "colorbar": {
             "outlinewidth": 0,
             "ticks": ""
            },
            "type": "mesh3d"
           }
          ],
          "parcoords": [
           {
            "line": {
             "colorbar": {
              "outlinewidth": 0,
              "ticks": ""
             }
            },
            "type": "parcoords"
           }
          ],
          "pie": [
           {
            "automargin": true,
            "type": "pie"
           }
          ],
          "scatter": [
           {
            "fillpattern": {
             "fillmode": "overlay",
             "size": 10,
             "solidity": 0.2
            },
            "type": "scatter"
           }
          ],
          "scatter3d": [
           {
            "line": {
             "colorbar": {
              "outlinewidth": 0,
              "ticks": ""
             }
            },
            "marker": {
             "colorbar": {
              "outlinewidth": 0,
              "ticks": ""
             }
            },
            "type": "scatter3d"
           }
          ],
          "scattercarpet": [
           {
            "marker": {
             "colorbar": {
              "outlinewidth": 0,
              "ticks": ""
             }
            },
            "type": "scattercarpet"
           }
          ],
          "scattergeo": [
           {
            "marker": {
             "colorbar": {
              "outlinewidth": 0,
              "ticks": ""
             }
            },
            "type": "scattergeo"
           }
          ],
          "scattergl": [
           {
            "marker": {
             "colorbar": {
              "outlinewidth": 0,
              "ticks": ""
             }
            },
            "type": "scattergl"
           }
          ],
          "scattermapbox": [
           {
            "marker": {
             "colorbar": {
              "outlinewidth": 0,
              "ticks": ""
             }
            },
            "type": "scattermapbox"
           }
          ],
          "scatterpolar": [
           {
            "marker": {
             "colorbar": {
              "outlinewidth": 0,
              "ticks": ""
             }
            },
            "type": "scatterpolar"
           }
          ],
          "scatterpolargl": [
           {
            "marker": {
             "colorbar": {
              "outlinewidth": 0,
              "ticks": ""
             }
            },
            "type": "scatterpolargl"
           }
          ],
          "scatterternary": [
           {
            "marker": {
             "colorbar": {
              "outlinewidth": 0,
              "ticks": ""
             }
            },
            "type": "scatterternary"
           }
          ],
          "surface": [
           {
            "colorbar": {
             "outlinewidth": 0,
             "ticks": ""
            },
            "colorscale": [
             [
              0,
              "#0d0887"
             ],
             [
              0.1111111111111111,
              "#46039f"
             ],
             [
              0.2222222222222222,
              "#7201a8"
             ],
             [
              0.3333333333333333,
              "#9c179e"
             ],
             [
              0.4444444444444444,
              "#bd3786"
             ],
             [
              0.5555555555555556,
              "#d8576b"
             ],
             [
              0.6666666666666666,
              "#ed7953"
             ],
             [
              0.7777777777777778,
              "#fb9f3a"
             ],
             [
              0.8888888888888888,
              "#fdca26"
             ],
             [
              1,
              "#f0f921"
             ]
            ],
            "type": "surface"
           }
          ],
          "table": [
           {
            "cells": {
             "fill": {
              "color": "#EBF0F8"
             },
             "line": {
              "color": "white"
             }
            },
            "header": {
             "fill": {
              "color": "#C8D4E3"
             },
             "line": {
              "color": "white"
             }
            },
            "type": "table"
           }
          ]
         },
         "layout": {
          "annotationdefaults": {
           "arrowcolor": "#2a3f5f",
           "arrowhead": 0,
           "arrowwidth": 1
          },
          "autotypenumbers": "strict",
          "coloraxis": {
           "colorbar": {
            "outlinewidth": 0,
            "ticks": ""
           }
          },
          "colorscale": {
           "diverging": [
            [
             0,
             "#8e0152"
            ],
            [
             0.1,
             "#c51b7d"
            ],
            [
             0.2,
             "#de77ae"
            ],
            [
             0.3,
             "#f1b6da"
            ],
            [
             0.4,
             "#fde0ef"
            ],
            [
             0.5,
             "#f7f7f7"
            ],
            [
             0.6,
             "#e6f5d0"
            ],
            [
             0.7,
             "#b8e186"
            ],
            [
             0.8,
             "#7fbc41"
            ],
            [
             0.9,
             "#4d9221"
            ],
            [
             1,
             "#276419"
            ]
           ],
           "sequential": [
            [
             0,
             "#0d0887"
            ],
            [
             0.1111111111111111,
             "#46039f"
            ],
            [
             0.2222222222222222,
             "#7201a8"
            ],
            [
             0.3333333333333333,
             "#9c179e"
            ],
            [
             0.4444444444444444,
             "#bd3786"
            ],
            [
             0.5555555555555556,
             "#d8576b"
            ],
            [
             0.6666666666666666,
             "#ed7953"
            ],
            [
             0.7777777777777778,
             "#fb9f3a"
            ],
            [
             0.8888888888888888,
             "#fdca26"
            ],
            [
             1,
             "#f0f921"
            ]
           ],
           "sequentialminus": [
            [
             0,
             "#0d0887"
            ],
            [
             0.1111111111111111,
             "#46039f"
            ],
            [
             0.2222222222222222,
             "#7201a8"
            ],
            [
             0.3333333333333333,
             "#9c179e"
            ],
            [
             0.4444444444444444,
             "#bd3786"
            ],
            [
             0.5555555555555556,
             "#d8576b"
            ],
            [
             0.6666666666666666,
             "#ed7953"
            ],
            [
             0.7777777777777778,
             "#fb9f3a"
            ],
            [
             0.8888888888888888,
             "#fdca26"
            ],
            [
             1,
             "#f0f921"
            ]
           ]
          },
          "colorway": [
           "#636efa",
           "#EF553B",
           "#00cc96",
           "#ab63fa",
           "#FFA15A",
           "#19d3f3",
           "#FF6692",
           "#B6E880",
           "#FF97FF",
           "#FECB52"
          ],
          "font": {
           "color": "#2a3f5f"
          },
          "geo": {
           "bgcolor": "white",
           "lakecolor": "white",
           "landcolor": "#E5ECF6",
           "showlakes": true,
           "showland": true,
           "subunitcolor": "white"
          },
          "hoverlabel": {
           "align": "left"
          },
          "hovermode": "closest",
          "mapbox": {
           "style": "light"
          },
          "paper_bgcolor": "white",
          "plot_bgcolor": "#E5ECF6",
          "polar": {
           "angularaxis": {
            "gridcolor": "white",
            "linecolor": "white",
            "ticks": ""
           },
           "bgcolor": "#E5ECF6",
           "radialaxis": {
            "gridcolor": "white",
            "linecolor": "white",
            "ticks": ""
           }
          },
          "scene": {
           "xaxis": {
            "backgroundcolor": "#E5ECF6",
            "gridcolor": "white",
            "gridwidth": 2,
            "linecolor": "white",
            "showbackground": true,
            "ticks": "",
            "zerolinecolor": "white"
           },
           "yaxis": {
            "backgroundcolor": "#E5ECF6",
            "gridcolor": "white",
            "gridwidth": 2,
            "linecolor": "white",
            "showbackground": true,
            "ticks": "",
            "zerolinecolor": "white"
           },
           "zaxis": {
            "backgroundcolor": "#E5ECF6",
            "gridcolor": "white",
            "gridwidth": 2,
            "linecolor": "white",
            "showbackground": true,
            "ticks": "",
            "zerolinecolor": "white"
           }
          },
          "shapedefaults": {
           "line": {
            "color": "#2a3f5f"
           }
          },
          "ternary": {
           "aaxis": {
            "gridcolor": "white",
            "linecolor": "white",
            "ticks": ""
           },
           "baxis": {
            "gridcolor": "white",
            "linecolor": "white",
            "ticks": ""
           },
           "bgcolor": "#E5ECF6",
           "caxis": {
            "gridcolor": "white",
            "linecolor": "white",
            "ticks": ""
           }
          },
          "title": {
           "x": 0.05
          },
          "xaxis": {
           "automargin": true,
           "gridcolor": "white",
           "linecolor": "white",
           "ticks": "",
           "title": {
            "standoff": 15
           },
           "zerolinecolor": "white",
           "zerolinewidth": 2
          },
          "yaxis": {
           "automargin": true,
           "gridcolor": "white",
           "linecolor": "white",
           "ticks": "",
           "title": {
            "standoff": 15
           },
           "zerolinecolor": "white",
           "zerolinewidth": 2
          }
         }
        },
        "title": {
         "text": "R² Values for Best Oscillator Fits"
        },
        "xaxis": {
         "anchor": "y",
         "domain": [
          0,
          1
         ],
         "title": {
          "text": "Number of neutrons (N)"
         }
        },
        "yaxis": {
         "anchor": "x",
         "domain": [
          0,
          1
         ],
         "title": {
          "text": "Number of protons (Z)"
         }
        }
       }
      }
     },
     "metadata": {},
     "output_type": "display_data"
    }
   ],
   "source": [
    "df_to_plot = best_osc_merged\n",
    "# df_to_plot = merged\n",
    "\n",
    "fig = px.scatter(df_to_plot.groupby(by=df_to_plot.index).head(1).reset_index(), \n",
    "          # x='a', \n",
    "          x='n',\n",
    "          y='z', \n",
    "          color='r2',\n",
    "          title='R² Values for Best Oscillator Fits',\n",
    "          # labels={'z': 'Number of protons (Z)', 'a': 'Weight (A)', 'r2': 'R² Score'},\n",
    "          labels={'z': 'Number of protons (Z)', 'n': 'Number of neutrons (N)', 'r2': 'R² Score'},\n",
    "          color_continuous_scale='RdBu',\n",
    "          height=600)\n",
    "\n",
    "\n",
    "magic_numbers_n = [2, 8, 20, 50, 58, 82, 126]\n",
    "magic_numbers_z = [2, 8, 20, 50, 58, 82]\n",
    "\n",
    "for i, m in enumerate(magic_numbers_n):\n",
    "    fig.add_vline(x=m, line_dash=\"dash\", line_color=\"gray\", name=\"Magic numbers\" if i==0 else None)\n",
    "\n",
    "for i, m in enumerate(magic_numbers_z):\n",
    "    fig.add_hline(y=m, line_dash=\"dash\", line_color=\"gray\")\n",
    "\n",
    "fig.show()"
   ]
  },
  {
   "cell_type": "code",
   "execution_count": 72,
   "metadata": {},
   "outputs": [
    {
     "data": {
      "application/vnd.plotly.v1+json": {
       "config": {
        "plotlyServerURL": "https://plot.ly"
       },
       "data": [
        {
         "hovertemplate": "Weight (A)=%{x}<br>R² Score=%{y}<br>Anharmonicity Ratio=%{marker.color}<extra></extra>",
         "legendgroup": "",
         "marker": {
          "color": [
           3.3339517625243746,
           -0.32041214006821034,
           0.9956169394254722,
           -0.1805688336523737,
           -0.2170660147217958,
           3.282827070297202,
           0.11652296029326628,
           0.6340545625587958,
           0.26923297506937005,
           0.930114661763311,
           0.2234086285149105,
           0.4185374292173181,
           0.000014130650846439179,
           0.014567425385415333,
           -0.02048071955999896,
           0.00004735426832651777,
           -0.03458987513880889,
           -0.2654497422382494,
           -0.09327582160161493,
           0.030171273913124137,
           0.06246966776816049,
           -0.311739912848946,
           0.003002150854678824,
           0.07909648192894725,
           -0.3232467818000523,
           0.026881492612860162,
           0.34625116623317004,
           -0.000060394195019236164,
           0.10907676595995751,
           0.10130120710327671,
           0.49207537493167564,
           5.252737157022082e-7,
           0.07931085168399606,
           0.19069080713646672,
           0.35192610104799726,
           0.3584913376555807,
           0.24379739550943533,
           0.00009004744236369079,
           0.02377066723910256,
           0.45658974574137795,
           0.013124297635982093,
           1.1379651743325353e-7,
           0.002463800712723234,
           0.0630717222259361,
           0.5536944481966772,
           1.2914707517199445e-7,
           0.00033366406962786246,
           0.34446238760839987,
           -0.0012518479214078048,
           -0.5619355622167824,
           9.853028762469433e-8,
           0.0052967762049852506,
           0.3048979080546162,
           -0.002959369165797234,
           0.31390306085623976,
           -0.40041360544217686,
           -0.13543866663605966,
           -0.036238407616169255,
           0.008275290814108832,
           0.0243172036393329,
           0.000009056480346715455,
           0.000029565459923733835,
           6.89310777182895e-8,
           9.721942662921364e-9,
           0.018749441598765966,
           1.039401731478415e-8,
           0.000002876014132452662,
           0.000007474470994233893,
           0.000008068697078690063,
           0.08529351846169338,
           5.981868552533e-10,
           0.000001891896181275032,
           5.674316969730936e-11,
           0.000058627710981812954,
           0.13430019097382626,
           1.1015491573326454e-8,
           2.0380596163156027e-7,
           0.000003836651461766963,
           -0.060018360119051074,
           -0.2679613870133737,
           -0.29035928365780866,
           -0.3136785946548039,
           0.06139857672585323,
           0.06533649960188978,
           0.050219859190420865,
           -0.0006365635046301246,
           4.669727371388319e-29,
           9.91952671652627e-8,
           -0.00047604087044752786,
           0.010483059870942987,
           0.021379602635405684,
           0.31608789687431715,
           -0.22176362228576138,
           0.000013468348754567354,
           0.000025482949486967814,
           -0.00044873312283003714,
           -0.010728091312445268,
           5.8051972035084896e-9,
           0.08140863823407425,
           -0.5068585264340696,
           4.7641807993094627e-7,
           0.0000014005048693886051,
           1.6286177589819244e-7,
           9.728576529901996e-10,
           1.2671388584278985e-8,
           0.007834656371921054,
           0.0001563665976984714,
           1.1898689584823331e-27,
           1.2180358495150855e-7,
           7.431611693779197e-11,
           6.994013520444191e-11,
           0.0011707997085151393,
           0.0000010918713353170914,
           1.5217111011378666e-15,
           0.0010660140625096907,
           0.00016012079823478527,
           1.2196132230979839e-9,
           1.5749114776162735e-15,
           0.0000014224810958366048,
           0.04849384809913869,
           0.04856477536064694,
           0.2632771307597753,
           0.0000013880823620366825,
           0.0000011548176705465246,
           0.0000018466865780063232,
           0.0000014802328030983144,
           0.00013635735326841014,
           0.0012343419359550512,
           0.0000027539483546786503,
           0.1801574465989505,
           0.005365051313324645,
           0.019059963980194498,
           0.40986173149841515,
           0.09674225657143844,
           0.09978397352411295,
           0.4917601765341101,
           0.0000013849905751739838,
           4.4827012150219836e-7,
           0.48245386601411877,
           0.7413494642343946,
           -0.0002977129506920099,
           -0.004280306912383299
          ],
          "coloraxis": "coloraxis",
          "symbol": "circle"
         },
         "mode": "markers",
         "name": "",
         "orientation": "v",
         "showlegend": false,
         "type": "scatter",
         "x": [
          6,
          10,
          12,
          14,
          16,
          18,
          20,
          22,
          24,
          26,
          28,
          30,
          32,
          34,
          36,
          36,
          38,
          40,
          40,
          42,
          44,
          46,
          46,
          48,
          50,
          52,
          54,
          54,
          56,
          58,
          58,
          60,
          62,
          64,
          64,
          66,
          68,
          70,
          72,
          74,
          76,
          74,
          76,
          78,
          80,
          78,
          80,
          82,
          84,
          86,
          84,
          86,
          88,
          90,
          92,
          94,
          92,
          94,
          96,
          98,
          96,
          98,
          100,
          102,
          104,
          102,
          104,
          106,
          108,
          110,
          106,
          108,
          110,
          112,
          114,
          112,
          114,
          116,
          118,
          120,
          122,
          124,
          120,
          122,
          124,
          126,
          126,
          128,
          130,
          132,
          130,
          134,
          136,
          138,
          136,
          140,
          142,
          146,
          148,
          144,
          150,
          152,
          154,
          154,
          156,
          158,
          160,
          156,
          158,
          160,
          162,
          164,
          162,
          164,
          166,
          168,
          170,
          168,
          170,
          172,
          174,
          176,
          176,
          178,
          180,
          182,
          184,
          186,
          188,
          190,
          192,
          192,
          194,
          196,
          198,
          196,
          198,
          200,
          202,
          204,
          206,
          208
         ],
         "xaxis": "x",
         "y": [
          0.947660632186498,
          0.6722522245788904,
          1,
          0.902845347847653,
          0.9909095457871899,
          0.9676308979240745,
          0.9957042495097911,
          1,
          0.9933892815598439,
          0.9971948315553099,
          0.9965404136889606,
          0.9999410030160026,
          0.9283187715151605,
          0.9883491220110412,
          1,
          0.996901554838279,
          0.9843029379861674,
          0.9949708280887409,
          0.9578227785384357,
          0.9719475214137222,
          0.9981241239947626,
          0.995057164471873,
          0.9942287082951565,
          0.9986999591324154,
          0.9997624794879723,
          0.9937397111069151,
          0.9994048576380726,
          0.9360657008070599,
          0.9983382322083393,
          0.9949124451528611,
          0.9832459997461651,
          0.9915406016908554,
          0.9666098192489037,
          0.9367413407757037,
          0.9999865661328631,
          1,
          1,
          0.9983090281933279,
          0.9989083688273755,
          1,
          0.9908965266538784,
          0.9784457771947302,
          0.9920625918770405,
          0.995030321028927,
          1,
          0.9707201858344551,
          0.994565095520415,
          1,
          0.9725911936830863,
          1,
          0.9893195932555456,
          0.9784138406458531,
          1,
          0.8476042720926561,
          0.9814132397368558,
          1,
          0.9450787622124234,
          0.9990342120441829,
          0.9957078837062601,
          0.9994602647421219,
          0.9970512689836463,
          0.996968043563393,
          0.9920978061627401,
          0.985109333146782,
          0.990133043548126,
          0.9797427423851738,
          0.9973609598582952,
          0.9951856054506243,
          0.9935394192087537,
          0.9956090263069878,
          0.9923480356095874,
          0.994349701567848,
          0.9765889669796247,
          0.995796770302018,
          0.9991943516940345,
          0.9950237727502936,
          0.9894769637053263,
          0.9730921142754505,
          0.9942538998135703,
          0.9981719241715675,
          0.9972757290001549,
          0.9969940968657877,
          0.9999769076778285,
          0.999567635354214,
          0.997620299999513,
          0.9895208680726277,
          0.9389907355624674,
          0.9863690324821549,
          0.9932949549150075,
          0.9991171549062955,
          0.9896115369426723,
          1,
          0.9848063670035131,
          0.9523294347769495,
          0.9899400246225601,
          0.9276263941793996,
          0.9216621709830299,
          0.9957729596716111,
          0.9953985492894383,
          0.9917850990138473,
          0.9906352206433632,
          0.962295623795312,
          0.9477943237120992,
          0.963472769924555,
          0.9529035419967969,
          0.9686586410629194,
          0.9533591825849561,
          0.941345448540325,
          0.9592557607490966,
          0.9551895023976422,
          0.9501808305460885,
          0.96032648486163,
          0.9610566805388198,
          0.9491637559318206,
          0.9613948794730793,
          0.952265292025377,
          0.9409507699496935,
          0.940826785430459,
          0.948993757681635,
          0.9777559582936212,
          0.977542934335432,
          0.9886865412804627,
          0.9512463935498938,
          0.9624160632214448,
          0.9416047034476259,
          0.9445311640887321,
          0.9549776595842256,
          0.9427040000943112,
          0.9623075904191597,
          0.9907525463664605,
          0.9786944326122827,
          0.9912368738625781,
          0.9999376500614308,
          0.9952324186551447,
          0.9864545715957335,
          1,
          0.9604811332069623,
          0.9848543254836183,
          0.9999363647868347,
          0.9997414011335293,
          0.7555487499314645,
          0.40482095632395987
         ],
         "yaxis": "y"
        }
       ],
       "layout": {
        "coloraxis": {
         "colorbar": {
          "title": {
           "text": "Anharmonicity Ratio"
          }
         },
         "colorscale": [
          [
           0,
           "#440154"
          ],
          [
           0.1111111111111111,
           "#482878"
          ],
          [
           0.2222222222222222,
           "#3e4989"
          ],
          [
           0.3333333333333333,
           "#31688e"
          ],
          [
           0.4444444444444444,
           "#26828e"
          ],
          [
           0.5555555555555556,
           "#1f9e89"
          ],
          [
           0.6666666666666666,
           "#35b779"
          ],
          [
           0.7777777777777778,
           "#6ece58"
          ],
          [
           0.8888888888888888,
           "#b5de2b"
          ],
          [
           1,
           "#fde725"
          ]
         ]
        },
        "legend": {
         "tracegroupgap": 0
        },
        "template": {
         "data": {
          "bar": [
           {
            "error_x": {
             "color": "#2a3f5f"
            },
            "error_y": {
             "color": "#2a3f5f"
            },
            "marker": {
             "line": {
              "color": "#E5ECF6",
              "width": 0.5
             },
             "pattern": {
              "fillmode": "overlay",
              "size": 10,
              "solidity": 0.2
             }
            },
            "type": "bar"
           }
          ],
          "barpolar": [
           {
            "marker": {
             "line": {
              "color": "#E5ECF6",
              "width": 0.5
             },
             "pattern": {
              "fillmode": "overlay",
              "size": 10,
              "solidity": 0.2
             }
            },
            "type": "barpolar"
           }
          ],
          "carpet": [
           {
            "aaxis": {
             "endlinecolor": "#2a3f5f",
             "gridcolor": "white",
             "linecolor": "white",
             "minorgridcolor": "white",
             "startlinecolor": "#2a3f5f"
            },
            "baxis": {
             "endlinecolor": "#2a3f5f",
             "gridcolor": "white",
             "linecolor": "white",
             "minorgridcolor": "white",
             "startlinecolor": "#2a3f5f"
            },
            "type": "carpet"
           }
          ],
          "choropleth": [
           {
            "colorbar": {
             "outlinewidth": 0,
             "ticks": ""
            },
            "type": "choropleth"
           }
          ],
          "contour": [
           {
            "colorbar": {
             "outlinewidth": 0,
             "ticks": ""
            },
            "colorscale": [
             [
              0,
              "#0d0887"
             ],
             [
              0.1111111111111111,
              "#46039f"
             ],
             [
              0.2222222222222222,
              "#7201a8"
             ],
             [
              0.3333333333333333,
              "#9c179e"
             ],
             [
              0.4444444444444444,
              "#bd3786"
             ],
             [
              0.5555555555555556,
              "#d8576b"
             ],
             [
              0.6666666666666666,
              "#ed7953"
             ],
             [
              0.7777777777777778,
              "#fb9f3a"
             ],
             [
              0.8888888888888888,
              "#fdca26"
             ],
             [
              1,
              "#f0f921"
             ]
            ],
            "type": "contour"
           }
          ],
          "contourcarpet": [
           {
            "colorbar": {
             "outlinewidth": 0,
             "ticks": ""
            },
            "type": "contourcarpet"
           }
          ],
          "heatmap": [
           {
            "colorbar": {
             "outlinewidth": 0,
             "ticks": ""
            },
            "colorscale": [
             [
              0,
              "#0d0887"
             ],
             [
              0.1111111111111111,
              "#46039f"
             ],
             [
              0.2222222222222222,
              "#7201a8"
             ],
             [
              0.3333333333333333,
              "#9c179e"
             ],
             [
              0.4444444444444444,
              "#bd3786"
             ],
             [
              0.5555555555555556,
              "#d8576b"
             ],
             [
              0.6666666666666666,
              "#ed7953"
             ],
             [
              0.7777777777777778,
              "#fb9f3a"
             ],
             [
              0.8888888888888888,
              "#fdca26"
             ],
             [
              1,
              "#f0f921"
             ]
            ],
            "type": "heatmap"
           }
          ],
          "heatmapgl": [
           {
            "colorbar": {
             "outlinewidth": 0,
             "ticks": ""
            },
            "colorscale": [
             [
              0,
              "#0d0887"
             ],
             [
              0.1111111111111111,
              "#46039f"
             ],
             [
              0.2222222222222222,
              "#7201a8"
             ],
             [
              0.3333333333333333,
              "#9c179e"
             ],
             [
              0.4444444444444444,
              "#bd3786"
             ],
             [
              0.5555555555555556,
              "#d8576b"
             ],
             [
              0.6666666666666666,
              "#ed7953"
             ],
             [
              0.7777777777777778,
              "#fb9f3a"
             ],
             [
              0.8888888888888888,
              "#fdca26"
             ],
             [
              1,
              "#f0f921"
             ]
            ],
            "type": "heatmapgl"
           }
          ],
          "histogram": [
           {
            "marker": {
             "pattern": {
              "fillmode": "overlay",
              "size": 10,
              "solidity": 0.2
             }
            },
            "type": "histogram"
           }
          ],
          "histogram2d": [
           {
            "colorbar": {
             "outlinewidth": 0,
             "ticks": ""
            },
            "colorscale": [
             [
              0,
              "#0d0887"
             ],
             [
              0.1111111111111111,
              "#46039f"
             ],
             [
              0.2222222222222222,
              "#7201a8"
             ],
             [
              0.3333333333333333,
              "#9c179e"
             ],
             [
              0.4444444444444444,
              "#bd3786"
             ],
             [
              0.5555555555555556,
              "#d8576b"
             ],
             [
              0.6666666666666666,
              "#ed7953"
             ],
             [
              0.7777777777777778,
              "#fb9f3a"
             ],
             [
              0.8888888888888888,
              "#fdca26"
             ],
             [
              1,
              "#f0f921"
             ]
            ],
            "type": "histogram2d"
           }
          ],
          "histogram2dcontour": [
           {
            "colorbar": {
             "outlinewidth": 0,
             "ticks": ""
            },
            "colorscale": [
             [
              0,
              "#0d0887"
             ],
             [
              0.1111111111111111,
              "#46039f"
             ],
             [
              0.2222222222222222,
              "#7201a8"
             ],
             [
              0.3333333333333333,
              "#9c179e"
             ],
             [
              0.4444444444444444,
              "#bd3786"
             ],
             [
              0.5555555555555556,
              "#d8576b"
             ],
             [
              0.6666666666666666,
              "#ed7953"
             ],
             [
              0.7777777777777778,
              "#fb9f3a"
             ],
             [
              0.8888888888888888,
              "#fdca26"
             ],
             [
              1,
              "#f0f921"
             ]
            ],
            "type": "histogram2dcontour"
           }
          ],
          "mesh3d": [
           {
            "colorbar": {
             "outlinewidth": 0,
             "ticks": ""
            },
            "type": "mesh3d"
           }
          ],
          "parcoords": [
           {
            "line": {
             "colorbar": {
              "outlinewidth": 0,
              "ticks": ""
             }
            },
            "type": "parcoords"
           }
          ],
          "pie": [
           {
            "automargin": true,
            "type": "pie"
           }
          ],
          "scatter": [
           {
            "fillpattern": {
             "fillmode": "overlay",
             "size": 10,
             "solidity": 0.2
            },
            "type": "scatter"
           }
          ],
          "scatter3d": [
           {
            "line": {
             "colorbar": {
              "outlinewidth": 0,
              "ticks": ""
             }
            },
            "marker": {
             "colorbar": {
              "outlinewidth": 0,
              "ticks": ""
             }
            },
            "type": "scatter3d"
           }
          ],
          "scattercarpet": [
           {
            "marker": {
             "colorbar": {
              "outlinewidth": 0,
              "ticks": ""
             }
            },
            "type": "scattercarpet"
           }
          ],
          "scattergeo": [
           {
            "marker": {
             "colorbar": {
              "outlinewidth": 0,
              "ticks": ""
             }
            },
            "type": "scattergeo"
           }
          ],
          "scattergl": [
           {
            "marker": {
             "colorbar": {
              "outlinewidth": 0,
              "ticks": ""
             }
            },
            "type": "scattergl"
           }
          ],
          "scattermapbox": [
           {
            "marker": {
             "colorbar": {
              "outlinewidth": 0,
              "ticks": ""
             }
            },
            "type": "scattermapbox"
           }
          ],
          "scatterpolar": [
           {
            "marker": {
             "colorbar": {
              "outlinewidth": 0,
              "ticks": ""
             }
            },
            "type": "scatterpolar"
           }
          ],
          "scatterpolargl": [
           {
            "marker": {
             "colorbar": {
              "outlinewidth": 0,
              "ticks": ""
             }
            },
            "type": "scatterpolargl"
           }
          ],
          "scatterternary": [
           {
            "marker": {
             "colorbar": {
              "outlinewidth": 0,
              "ticks": ""
             }
            },
            "type": "scatterternary"
           }
          ],
          "surface": [
           {
            "colorbar": {
             "outlinewidth": 0,
             "ticks": ""
            },
            "colorscale": [
             [
              0,
              "#0d0887"
             ],
             [
              0.1111111111111111,
              "#46039f"
             ],
             [
              0.2222222222222222,
              "#7201a8"
             ],
             [
              0.3333333333333333,
              "#9c179e"
             ],
             [
              0.4444444444444444,
              "#bd3786"
             ],
             [
              0.5555555555555556,
              "#d8576b"
             ],
             [
              0.6666666666666666,
              "#ed7953"
             ],
             [
              0.7777777777777778,
              "#fb9f3a"
             ],
             [
              0.8888888888888888,
              "#fdca26"
             ],
             [
              1,
              "#f0f921"
             ]
            ],
            "type": "surface"
           }
          ],
          "table": [
           {
            "cells": {
             "fill": {
              "color": "#EBF0F8"
             },
             "line": {
              "color": "white"
             }
            },
            "header": {
             "fill": {
              "color": "#C8D4E3"
             },
             "line": {
              "color": "white"
             }
            },
            "type": "table"
           }
          ]
         },
         "layout": {
          "annotationdefaults": {
           "arrowcolor": "#2a3f5f",
           "arrowhead": 0,
           "arrowwidth": 1
          },
          "autotypenumbers": "strict",
          "coloraxis": {
           "colorbar": {
            "outlinewidth": 0,
            "ticks": ""
           }
          },
          "colorscale": {
           "diverging": [
            [
             0,
             "#8e0152"
            ],
            [
             0.1,
             "#c51b7d"
            ],
            [
             0.2,
             "#de77ae"
            ],
            [
             0.3,
             "#f1b6da"
            ],
            [
             0.4,
             "#fde0ef"
            ],
            [
             0.5,
             "#f7f7f7"
            ],
            [
             0.6,
             "#e6f5d0"
            ],
            [
             0.7,
             "#b8e186"
            ],
            [
             0.8,
             "#7fbc41"
            ],
            [
             0.9,
             "#4d9221"
            ],
            [
             1,
             "#276419"
            ]
           ],
           "sequential": [
            [
             0,
             "#0d0887"
            ],
            [
             0.1111111111111111,
             "#46039f"
            ],
            [
             0.2222222222222222,
             "#7201a8"
            ],
            [
             0.3333333333333333,
             "#9c179e"
            ],
            [
             0.4444444444444444,
             "#bd3786"
            ],
            [
             0.5555555555555556,
             "#d8576b"
            ],
            [
             0.6666666666666666,
             "#ed7953"
            ],
            [
             0.7777777777777778,
             "#fb9f3a"
            ],
            [
             0.8888888888888888,
             "#fdca26"
            ],
            [
             1,
             "#f0f921"
            ]
           ],
           "sequentialminus": [
            [
             0,
             "#0d0887"
            ],
            [
             0.1111111111111111,
             "#46039f"
            ],
            [
             0.2222222222222222,
             "#7201a8"
            ],
            [
             0.3333333333333333,
             "#9c179e"
            ],
            [
             0.4444444444444444,
             "#bd3786"
            ],
            [
             0.5555555555555556,
             "#d8576b"
            ],
            [
             0.6666666666666666,
             "#ed7953"
            ],
            [
             0.7777777777777778,
             "#fb9f3a"
            ],
            [
             0.8888888888888888,
             "#fdca26"
            ],
            [
             1,
             "#f0f921"
            ]
           ]
          },
          "colorway": [
           "#636efa",
           "#EF553B",
           "#00cc96",
           "#ab63fa",
           "#FFA15A",
           "#19d3f3",
           "#FF6692",
           "#B6E880",
           "#FF97FF",
           "#FECB52"
          ],
          "font": {
           "color": "#2a3f5f"
          },
          "geo": {
           "bgcolor": "white",
           "lakecolor": "white",
           "landcolor": "#E5ECF6",
           "showlakes": true,
           "showland": true,
           "subunitcolor": "white"
          },
          "hoverlabel": {
           "align": "left"
          },
          "hovermode": "closest",
          "mapbox": {
           "style": "light"
          },
          "paper_bgcolor": "white",
          "plot_bgcolor": "#E5ECF6",
          "polar": {
           "angularaxis": {
            "gridcolor": "white",
            "linecolor": "white",
            "ticks": ""
           },
           "bgcolor": "#E5ECF6",
           "radialaxis": {
            "gridcolor": "white",
            "linecolor": "white",
            "ticks": ""
           }
          },
          "scene": {
           "xaxis": {
            "backgroundcolor": "#E5ECF6",
            "gridcolor": "white",
            "gridwidth": 2,
            "linecolor": "white",
            "showbackground": true,
            "ticks": "",
            "zerolinecolor": "white"
           },
           "yaxis": {
            "backgroundcolor": "#E5ECF6",
            "gridcolor": "white",
            "gridwidth": 2,
            "linecolor": "white",
            "showbackground": true,
            "ticks": "",
            "zerolinecolor": "white"
           },
           "zaxis": {
            "backgroundcolor": "#E5ECF6",
            "gridcolor": "white",
            "gridwidth": 2,
            "linecolor": "white",
            "showbackground": true,
            "ticks": "",
            "zerolinecolor": "white"
           }
          },
          "shapedefaults": {
           "line": {
            "color": "#2a3f5f"
           }
          },
          "ternary": {
           "aaxis": {
            "gridcolor": "white",
            "linecolor": "white",
            "ticks": ""
           },
           "baxis": {
            "gridcolor": "white",
            "linecolor": "white",
            "ticks": ""
           },
           "bgcolor": "#E5ECF6",
           "caxis": {
            "gridcolor": "white",
            "linecolor": "white",
            "ticks": ""
           }
          },
          "title": {
           "x": 0.05
          },
          "xaxis": {
           "automargin": true,
           "gridcolor": "white",
           "linecolor": "white",
           "ticks": "",
           "title": {
            "standoff": 15
           },
           "zerolinecolor": "white",
           "zerolinewidth": 2
          },
          "yaxis": {
           "automargin": true,
           "gridcolor": "white",
           "linecolor": "white",
           "ticks": "",
           "title": {
            "standoff": 15
           },
           "zerolinecolor": "white",
           "zerolinewidth": 2
          }
         }
        },
        "title": {
         "text": "R² Values for All Oscillator Fits"
        },
        "xaxis": {
         "anchor": "y",
         "domain": [
          0,
          1
         ],
         "title": {
          "text": "Weight (A)"
         }
        },
        "yaxis": {
         "anchor": "x",
         "domain": [
          0,
          1
         ],
         "title": {
          "text": "R² Score"
         }
        }
       }
      }
     },
     "metadata": {},
     "output_type": "display_data"
    }
   ],
   "source": [
    "df_to_plot = merged\n",
    "\n",
    "px.scatter(df_to_plot.groupby(by=df_to_plot.index).head(1).reset_index(), \n",
    "            x='a', \n",
    "            y='r2', \n",
    "            color='anharmonicity',\n",
    "            title='R² Values for All Oscillator Fits',\n",
    "            labels={'anharmonicity': 'Anharmonicity Ratio', 'a': 'Weight (A)', 'r2': 'R² Score'},\n",
    "            color_continuous_scale='viridis')"
   ]
  },
  {
   "cell_type": "code",
   "execution_count": 73,
   "metadata": {},
   "outputs": [
    {
     "data": {
      "application/vnd.plotly.v1+json": {
       "config": {
        "plotlyServerURL": "https://plot.ly"
       },
       "data": [
        {
         "hovertemplate": "Number of neutrons (N)=%{x}<br>Number of protons (Z)=%{y}<br>R² Score=%{marker.color}<extra></extra>",
         "legendgroup": "",
         "marker": {
          "color": [
           0.947660632186498,
           0.6722522245788904,
           1,
           0.902845347847653,
           0.9909095457871899,
           0.9676308979240745,
           0.9957042495097911,
           1,
           0.9933892815598439,
           0.9971948315553099,
           0.9965404136889606,
           0.9999410030160026,
           0.9283187715151605,
           0.9883491220110412,
           1,
           0.996901554838279,
           0.9843029379861674,
           0.9949708280887409,
           0.9578227785384357,
           0.9719475214137222,
           0.9981241239947626,
           0.995057164471873,
           0.9942287082951565,
           0.9986999591324154,
           0.9997624794879723,
           0.9937397111069151,
           0.9994048576380726,
           0.9360657008070599,
           0.9983382322083393,
           0.9949124451528611,
           0.9832459997461651,
           0.9915406016908554,
           0.9666098192489037,
           0.9367413407757037,
           0.9999865661328631,
           1,
           1,
           0.9983090281933279,
           0.9989083688273755,
           1,
           0.9908965266538784,
           0.9784457771947302,
           0.9920625918770405,
           0.995030321028927,
           1,
           0.9707201858344551,
           0.994565095520415,
           1,
           0.9725911936830863,
           1,
           0.9893195932555456,
           0.9784138406458531,
           1,
           0.8476042720926561,
           0.9814132397368558,
           1,
           0.9450787622124234,
           0.9990342120441829,
           0.9957078837062601,
           0.9994602647421219,
           0.9970512689836463,
           0.996968043563393,
           0.9920978061627401,
           0.985109333146782,
           0.990133043548126,
           0.9797427423851738,
           0.9973609598582952,
           0.9951856054506243,
           0.9935394192087537,
           0.9956090263069878,
           0.9923480356095874,
           0.994349701567848,
           0.9765889669796247,
           0.995796770302018,
           0.9991943516940345,
           0.9950237727502936,
           0.9894769637053263,
           0.9730921142754505,
           0.9942538998135703,
           0.9981719241715675,
           0.9972757290001549,
           0.9969940968657877,
           0.9999769076778285,
           0.999567635354214,
           0.997620299999513,
           0.9895208680726277,
           0.9389907355624674,
           0.9863690324821549,
           0.9932949549150075,
           0.9991171549062955,
           0.9896115369426723,
           1,
           0.9848063670035131,
           0.9523294347769495,
           0.9899400246225601,
           0.9276263941793996,
           0.9216621709830299,
           0.9957729596716111,
           0.9953985492894383,
           0.9917850990138473,
           0.9906352206433632,
           0.962295623795312,
           0.9477943237120992,
           0.963472769924555,
           0.9529035419967969,
           0.9686586410629194,
           0.9533591825849561,
           0.941345448540325,
           0.9592557607490966,
           0.9551895023976422,
           0.9501808305460885,
           0.96032648486163,
           0.9610566805388198,
           0.9491637559318206,
           0.9613948794730793,
           0.952265292025377,
           0.9409507699496935,
           0.940826785430459,
           0.948993757681635,
           0.9777559582936212,
           0.977542934335432,
           0.9886865412804627,
           0.9512463935498938,
           0.9624160632214448,
           0.9416047034476259,
           0.9445311640887321,
           0.9549776595842256,
           0.9427040000943112,
           0.9623075904191597,
           0.9907525463664605,
           0.9786944326122827,
           0.9912368738625781,
           0.9999376500614308,
           0.9952324186551447,
           0.9864545715957335,
           1,
           0.9604811332069623,
           0.9848543254836183,
           0.9999363647868347,
           0.9997414011335293,
           0.7555487499314645,
           0.40482095632395987
          ],
          "coloraxis": "coloraxis",
          "symbol": "circle"
         },
         "mode": "markers",
         "name": "",
         "orientation": "v",
         "showlegend": false,
         "type": "scatter",
         "x": [
          3,
          5,
          6,
          7,
          8,
          10,
          10,
          12,
          12,
          14,
          14,
          16,
          16,
          18,
          20,
          18,
          20,
          22,
          20,
          22,
          24,
          26,
          24,
          26,
          28,
          28,
          30,
          28,
          30,
          32,
          30,
          32,
          34,
          36,
          34,
          36,
          38,
          38,
          40,
          42,
          44,
          40,
          42,
          44,
          46,
          42,
          44,
          46,
          48,
          50,
          46,
          48,
          50,
          50,
          52,
          54,
          50,
          52,
          54,
          56,
          52,
          54,
          56,
          58,
          60,
          56,
          58,
          60,
          62,
          64,
          58,
          60,
          62,
          64,
          66,
          62,
          64,
          66,
          68,
          70,
          72,
          74,
          68,
          70,
          72,
          74,
          72,
          74,
          76,
          78,
          74,
          78,
          80,
          82,
          78,
          82,
          82,
          86,
          88,
          82,
          88,
          90,
          92,
          90,
          92,
          94,
          96,
          90,
          92,
          94,
          96,
          98,
          94,
          96,
          98,
          100,
          102,
          98,
          100,
          102,
          104,
          106,
          104,
          106,
          108,
          108,
          110,
          112,
          112,
          114,
          116,
          114,
          116,
          118,
          120,
          116,
          118,
          120,
          122,
          124,
          124,
          126
         ],
         "xaxis": "x",
         "y": [
          3,
          5,
          6,
          7,
          8,
          8,
          10,
          10,
          12,
          12,
          14,
          14,
          16,
          16,
          16,
          18,
          18,
          18,
          20,
          20,
          20,
          20,
          22,
          22,
          22,
          24,
          24,
          26,
          26,
          26,
          28,
          28,
          28,
          28,
          30,
          30,
          30,
          32,
          32,
          32,
          32,
          34,
          34,
          34,
          34,
          36,
          36,
          36,
          36,
          36,
          38,
          38,
          38,
          40,
          40,
          40,
          42,
          42,
          42,
          42,
          44,
          44,
          44,
          44,
          44,
          46,
          46,
          46,
          46,
          46,
          48,
          48,
          48,
          48,
          48,
          50,
          50,
          50,
          50,
          50,
          50,
          50,
          52,
          52,
          52,
          52,
          54,
          54,
          54,
          54,
          56,
          56,
          56,
          56,
          58,
          58,
          60,
          60,
          60,
          62,
          62,
          62,
          62,
          64,
          64,
          64,
          64,
          66,
          66,
          66,
          66,
          66,
          68,
          68,
          68,
          68,
          68,
          70,
          70,
          70,
          70,
          70,
          72,
          72,
          72,
          74,
          74,
          74,
          76,
          76,
          76,
          78,
          78,
          78,
          78,
          80,
          80,
          80,
          80,
          80,
          82,
          82
         ],
         "yaxis": "y"
        }
       ],
       "layout": {
        "coloraxis": {
         "colorbar": {
          "title": {
           "text": "R² Score"
          }
         },
         "colorscale": [
          [
           0,
           "red"
          ],
          [
           0.8,
           "white"
          ],
          [
           1,
           "blue"
          ]
         ]
        },
        "height": 600,
        "legend": {
         "tracegroupgap": 0
        },
        "shapes": [
         {
          "line": {
           "color": "gray",
           "dash": "dash"
          },
          "name": "Magic numbers",
          "type": "line",
          "x0": 2,
          "x1": 2,
          "xref": "x",
          "y0": 0,
          "y1": 1,
          "yref": "y domain"
         },
         {
          "line": {
           "color": "gray",
           "dash": "dash"
          },
          "type": "line",
          "x0": 8,
          "x1": 8,
          "xref": "x",
          "y0": 0,
          "y1": 1,
          "yref": "y domain"
         },
         {
          "line": {
           "color": "gray",
           "dash": "dash"
          },
          "type": "line",
          "x0": 20,
          "x1": 20,
          "xref": "x",
          "y0": 0,
          "y1": 1,
          "yref": "y domain"
         },
         {
          "line": {
           "color": "gray",
           "dash": "dash"
          },
          "type": "line",
          "x0": 50,
          "x1": 50,
          "xref": "x",
          "y0": 0,
          "y1": 1,
          "yref": "y domain"
         },
         {
          "line": {
           "color": "gray",
           "dash": "dash"
          },
          "type": "line",
          "x0": 58,
          "x1": 58,
          "xref": "x",
          "y0": 0,
          "y1": 1,
          "yref": "y domain"
         },
         {
          "line": {
           "color": "gray",
           "dash": "dash"
          },
          "type": "line",
          "x0": 82,
          "x1": 82,
          "xref": "x",
          "y0": 0,
          "y1": 1,
          "yref": "y domain"
         },
         {
          "line": {
           "color": "gray",
           "dash": "dash"
          },
          "type": "line",
          "x0": 126,
          "x1": 126,
          "xref": "x",
          "y0": 0,
          "y1": 1,
          "yref": "y domain"
         },
         {
          "line": {
           "color": "gray",
           "dash": "dash"
          },
          "type": "line",
          "x0": 0,
          "x1": 1,
          "xref": "x domain",
          "y0": 2,
          "y1": 2,
          "yref": "y"
         },
         {
          "line": {
           "color": "gray",
           "dash": "dash"
          },
          "type": "line",
          "x0": 0,
          "x1": 1,
          "xref": "x domain",
          "y0": 8,
          "y1": 8,
          "yref": "y"
         },
         {
          "line": {
           "color": "gray",
           "dash": "dash"
          },
          "type": "line",
          "x0": 0,
          "x1": 1,
          "xref": "x domain",
          "y0": 20,
          "y1": 20,
          "yref": "y"
         },
         {
          "line": {
           "color": "gray",
           "dash": "dash"
          },
          "type": "line",
          "x0": 0,
          "x1": 1,
          "xref": "x domain",
          "y0": 50,
          "y1": 50,
          "yref": "y"
         },
         {
          "line": {
           "color": "gray",
           "dash": "dash"
          },
          "type": "line",
          "x0": 0,
          "x1": 1,
          "xref": "x domain",
          "y0": 58,
          "y1": 58,
          "yref": "y"
         },
         {
          "line": {
           "color": "gray",
           "dash": "dash"
          },
          "type": "line",
          "x0": 0,
          "x1": 1,
          "xref": "x domain",
          "y0": 82,
          "y1": 82,
          "yref": "y"
         }
        ],
        "template": {
         "data": {
          "bar": [
           {
            "error_x": {
             "color": "#2a3f5f"
            },
            "error_y": {
             "color": "#2a3f5f"
            },
            "marker": {
             "line": {
              "color": "#E5ECF6",
              "width": 0.5
             },
             "pattern": {
              "fillmode": "overlay",
              "size": 10,
              "solidity": 0.2
             }
            },
            "type": "bar"
           }
          ],
          "barpolar": [
           {
            "marker": {
             "line": {
              "color": "#E5ECF6",
              "width": 0.5
             },
             "pattern": {
              "fillmode": "overlay",
              "size": 10,
              "solidity": 0.2
             }
            },
            "type": "barpolar"
           }
          ],
          "carpet": [
           {
            "aaxis": {
             "endlinecolor": "#2a3f5f",
             "gridcolor": "white",
             "linecolor": "white",
             "minorgridcolor": "white",
             "startlinecolor": "#2a3f5f"
            },
            "baxis": {
             "endlinecolor": "#2a3f5f",
             "gridcolor": "white",
             "linecolor": "white",
             "minorgridcolor": "white",
             "startlinecolor": "#2a3f5f"
            },
            "type": "carpet"
           }
          ],
          "choropleth": [
           {
            "colorbar": {
             "outlinewidth": 0,
             "ticks": ""
            },
            "type": "choropleth"
           }
          ],
          "contour": [
           {
            "colorbar": {
             "outlinewidth": 0,
             "ticks": ""
            },
            "colorscale": [
             [
              0,
              "#0d0887"
             ],
             [
              0.1111111111111111,
              "#46039f"
             ],
             [
              0.2222222222222222,
              "#7201a8"
             ],
             [
              0.3333333333333333,
              "#9c179e"
             ],
             [
              0.4444444444444444,
              "#bd3786"
             ],
             [
              0.5555555555555556,
              "#d8576b"
             ],
             [
              0.6666666666666666,
              "#ed7953"
             ],
             [
              0.7777777777777778,
              "#fb9f3a"
             ],
             [
              0.8888888888888888,
              "#fdca26"
             ],
             [
              1,
              "#f0f921"
             ]
            ],
            "type": "contour"
           }
          ],
          "contourcarpet": [
           {
            "colorbar": {
             "outlinewidth": 0,
             "ticks": ""
            },
            "type": "contourcarpet"
           }
          ],
          "heatmap": [
           {
            "colorbar": {
             "outlinewidth": 0,
             "ticks": ""
            },
            "colorscale": [
             [
              0,
              "#0d0887"
             ],
             [
              0.1111111111111111,
              "#46039f"
             ],
             [
              0.2222222222222222,
              "#7201a8"
             ],
             [
              0.3333333333333333,
              "#9c179e"
             ],
             [
              0.4444444444444444,
              "#bd3786"
             ],
             [
              0.5555555555555556,
              "#d8576b"
             ],
             [
              0.6666666666666666,
              "#ed7953"
             ],
             [
              0.7777777777777778,
              "#fb9f3a"
             ],
             [
              0.8888888888888888,
              "#fdca26"
             ],
             [
              1,
              "#f0f921"
             ]
            ],
            "type": "heatmap"
           }
          ],
          "heatmapgl": [
           {
            "colorbar": {
             "outlinewidth": 0,
             "ticks": ""
            },
            "colorscale": [
             [
              0,
              "#0d0887"
             ],
             [
              0.1111111111111111,
              "#46039f"
             ],
             [
              0.2222222222222222,
              "#7201a8"
             ],
             [
              0.3333333333333333,
              "#9c179e"
             ],
             [
              0.4444444444444444,
              "#bd3786"
             ],
             [
              0.5555555555555556,
              "#d8576b"
             ],
             [
              0.6666666666666666,
              "#ed7953"
             ],
             [
              0.7777777777777778,
              "#fb9f3a"
             ],
             [
              0.8888888888888888,
              "#fdca26"
             ],
             [
              1,
              "#f0f921"
             ]
            ],
            "type": "heatmapgl"
           }
          ],
          "histogram": [
           {
            "marker": {
             "pattern": {
              "fillmode": "overlay",
              "size": 10,
              "solidity": 0.2
             }
            },
            "type": "histogram"
           }
          ],
          "histogram2d": [
           {
            "colorbar": {
             "outlinewidth": 0,
             "ticks": ""
            },
            "colorscale": [
             [
              0,
              "#0d0887"
             ],
             [
              0.1111111111111111,
              "#46039f"
             ],
             [
              0.2222222222222222,
              "#7201a8"
             ],
             [
              0.3333333333333333,
              "#9c179e"
             ],
             [
              0.4444444444444444,
              "#bd3786"
             ],
             [
              0.5555555555555556,
              "#d8576b"
             ],
             [
              0.6666666666666666,
              "#ed7953"
             ],
             [
              0.7777777777777778,
              "#fb9f3a"
             ],
             [
              0.8888888888888888,
              "#fdca26"
             ],
             [
              1,
              "#f0f921"
             ]
            ],
            "type": "histogram2d"
           }
          ],
          "histogram2dcontour": [
           {
            "colorbar": {
             "outlinewidth": 0,
             "ticks": ""
            },
            "colorscale": [
             [
              0,
              "#0d0887"
             ],
             [
              0.1111111111111111,
              "#46039f"
             ],
             [
              0.2222222222222222,
              "#7201a8"
             ],
             [
              0.3333333333333333,
              "#9c179e"
             ],
             [
              0.4444444444444444,
              "#bd3786"
             ],
             [
              0.5555555555555556,
              "#d8576b"
             ],
             [
              0.6666666666666666,
              "#ed7953"
             ],
             [
              0.7777777777777778,
              "#fb9f3a"
             ],
             [
              0.8888888888888888,
              "#fdca26"
             ],
             [
              1,
              "#f0f921"
             ]
            ],
            "type": "histogram2dcontour"
           }
          ],
          "mesh3d": [
           {
            "colorbar": {
             "outlinewidth": 0,
             "ticks": ""
            },
            "type": "mesh3d"
           }
          ],
          "parcoords": [
           {
            "line": {
             "colorbar": {
              "outlinewidth": 0,
              "ticks": ""
             }
            },
            "type": "parcoords"
           }
          ],
          "pie": [
           {
            "automargin": true,
            "type": "pie"
           }
          ],
          "scatter": [
           {
            "fillpattern": {
             "fillmode": "overlay",
             "size": 10,
             "solidity": 0.2
            },
            "type": "scatter"
           }
          ],
          "scatter3d": [
           {
            "line": {
             "colorbar": {
              "outlinewidth": 0,
              "ticks": ""
             }
            },
            "marker": {
             "colorbar": {
              "outlinewidth": 0,
              "ticks": ""
             }
            },
            "type": "scatter3d"
           }
          ],
          "scattercarpet": [
           {
            "marker": {
             "colorbar": {
              "outlinewidth": 0,
              "ticks": ""
             }
            },
            "type": "scattercarpet"
           }
          ],
          "scattergeo": [
           {
            "marker": {
             "colorbar": {
              "outlinewidth": 0,
              "ticks": ""
             }
            },
            "type": "scattergeo"
           }
          ],
          "scattergl": [
           {
            "marker": {
             "colorbar": {
              "outlinewidth": 0,
              "ticks": ""
             }
            },
            "type": "scattergl"
           }
          ],
          "scattermapbox": [
           {
            "marker": {
             "colorbar": {
              "outlinewidth": 0,
              "ticks": ""
             }
            },
            "type": "scattermapbox"
           }
          ],
          "scatterpolar": [
           {
            "marker": {
             "colorbar": {
              "outlinewidth": 0,
              "ticks": ""
             }
            },
            "type": "scatterpolar"
           }
          ],
          "scatterpolargl": [
           {
            "marker": {
             "colorbar": {
              "outlinewidth": 0,
              "ticks": ""
             }
            },
            "type": "scatterpolargl"
           }
          ],
          "scatterternary": [
           {
            "marker": {
             "colorbar": {
              "outlinewidth": 0,
              "ticks": ""
             }
            },
            "type": "scatterternary"
           }
          ],
          "surface": [
           {
            "colorbar": {
             "outlinewidth": 0,
             "ticks": ""
            },
            "colorscale": [
             [
              0,
              "#0d0887"
             ],
             [
              0.1111111111111111,
              "#46039f"
             ],
             [
              0.2222222222222222,
              "#7201a8"
             ],
             [
              0.3333333333333333,
              "#9c179e"
             ],
             [
              0.4444444444444444,
              "#bd3786"
             ],
             [
              0.5555555555555556,
              "#d8576b"
             ],
             [
              0.6666666666666666,
              "#ed7953"
             ],
             [
              0.7777777777777778,
              "#fb9f3a"
             ],
             [
              0.8888888888888888,
              "#fdca26"
             ],
             [
              1,
              "#f0f921"
             ]
            ],
            "type": "surface"
           }
          ],
          "table": [
           {
            "cells": {
             "fill": {
              "color": "#EBF0F8"
             },
             "line": {
              "color": "white"
             }
            },
            "header": {
             "fill": {
              "color": "#C8D4E3"
             },
             "line": {
              "color": "white"
             }
            },
            "type": "table"
           }
          ]
         },
         "layout": {
          "annotationdefaults": {
           "arrowcolor": "#2a3f5f",
           "arrowhead": 0,
           "arrowwidth": 1
          },
          "autotypenumbers": "strict",
          "coloraxis": {
           "colorbar": {
            "outlinewidth": 0,
            "ticks": ""
           }
          },
          "colorscale": {
           "diverging": [
            [
             0,
             "#8e0152"
            ],
            [
             0.1,
             "#c51b7d"
            ],
            [
             0.2,
             "#de77ae"
            ],
            [
             0.3,
             "#f1b6da"
            ],
            [
             0.4,
             "#fde0ef"
            ],
            [
             0.5,
             "#f7f7f7"
            ],
            [
             0.6,
             "#e6f5d0"
            ],
            [
             0.7,
             "#b8e186"
            ],
            [
             0.8,
             "#7fbc41"
            ],
            [
             0.9,
             "#4d9221"
            ],
            [
             1,
             "#276419"
            ]
           ],
           "sequential": [
            [
             0,
             "#0d0887"
            ],
            [
             0.1111111111111111,
             "#46039f"
            ],
            [
             0.2222222222222222,
             "#7201a8"
            ],
            [
             0.3333333333333333,
             "#9c179e"
            ],
            [
             0.4444444444444444,
             "#bd3786"
            ],
            [
             0.5555555555555556,
             "#d8576b"
            ],
            [
             0.6666666666666666,
             "#ed7953"
            ],
            [
             0.7777777777777778,
             "#fb9f3a"
            ],
            [
             0.8888888888888888,
             "#fdca26"
            ],
            [
             1,
             "#f0f921"
            ]
           ],
           "sequentialminus": [
            [
             0,
             "#0d0887"
            ],
            [
             0.1111111111111111,
             "#46039f"
            ],
            [
             0.2222222222222222,
             "#7201a8"
            ],
            [
             0.3333333333333333,
             "#9c179e"
            ],
            [
             0.4444444444444444,
             "#bd3786"
            ],
            [
             0.5555555555555556,
             "#d8576b"
            ],
            [
             0.6666666666666666,
             "#ed7953"
            ],
            [
             0.7777777777777778,
             "#fb9f3a"
            ],
            [
             0.8888888888888888,
             "#fdca26"
            ],
            [
             1,
             "#f0f921"
            ]
           ]
          },
          "colorway": [
           "#636efa",
           "#EF553B",
           "#00cc96",
           "#ab63fa",
           "#FFA15A",
           "#19d3f3",
           "#FF6692",
           "#B6E880",
           "#FF97FF",
           "#FECB52"
          ],
          "font": {
           "color": "#2a3f5f"
          },
          "geo": {
           "bgcolor": "white",
           "lakecolor": "white",
           "landcolor": "#E5ECF6",
           "showlakes": true,
           "showland": true,
           "subunitcolor": "white"
          },
          "hoverlabel": {
           "align": "left"
          },
          "hovermode": "closest",
          "mapbox": {
           "style": "light"
          },
          "paper_bgcolor": "white",
          "plot_bgcolor": "#E5ECF6",
          "polar": {
           "angularaxis": {
            "gridcolor": "white",
            "linecolor": "white",
            "ticks": ""
           },
           "bgcolor": "#E5ECF6",
           "radialaxis": {
            "gridcolor": "white",
            "linecolor": "white",
            "ticks": ""
           }
          },
          "scene": {
           "xaxis": {
            "backgroundcolor": "#E5ECF6",
            "gridcolor": "white",
            "gridwidth": 2,
            "linecolor": "white",
            "showbackground": true,
            "ticks": "",
            "zerolinecolor": "white"
           },
           "yaxis": {
            "backgroundcolor": "#E5ECF6",
            "gridcolor": "white",
            "gridwidth": 2,
            "linecolor": "white",
            "showbackground": true,
            "ticks": "",
            "zerolinecolor": "white"
           },
           "zaxis": {
            "backgroundcolor": "#E5ECF6",
            "gridcolor": "white",
            "gridwidth": 2,
            "linecolor": "white",
            "showbackground": true,
            "ticks": "",
            "zerolinecolor": "white"
           }
          },
          "shapedefaults": {
           "line": {
            "color": "#2a3f5f"
           }
          },
          "ternary": {
           "aaxis": {
            "gridcolor": "white",
            "linecolor": "white",
            "ticks": ""
           },
           "baxis": {
            "gridcolor": "white",
            "linecolor": "white",
            "ticks": ""
           },
           "bgcolor": "#E5ECF6",
           "caxis": {
            "gridcolor": "white",
            "linecolor": "white",
            "ticks": ""
           }
          },
          "title": {
           "x": 0.05
          },
          "xaxis": {
           "automargin": true,
           "gridcolor": "white",
           "linecolor": "white",
           "ticks": "",
           "title": {
            "standoff": 15
           },
           "zerolinecolor": "white",
           "zerolinewidth": 2
          },
          "yaxis": {
           "automargin": true,
           "gridcolor": "white",
           "linecolor": "white",
           "ticks": "",
           "title": {
            "standoff": 15
           },
           "zerolinecolor": "white",
           "zerolinewidth": 2
          }
         }
        },
        "title": {
         "text": "R² Values for All Oscillator Fits"
        },
        "xaxis": {
         "anchor": "y",
         "domain": [
          0,
          1
         ],
         "title": {
          "text": "Number of neutrons (N)"
         }
        },
        "yaxis": {
         "anchor": "x",
         "domain": [
          0,
          1
         ],
         "title": {
          "text": "Number of protons (Z)"
         }
        }
       }
      }
     },
     "metadata": {},
     "output_type": "display_data"
    }
   ],
   "source": [
    "df_to_plot = merged\n",
    "\n",
    "fig = px.scatter(df_to_plot.groupby(by=df_to_plot.index).head(1).reset_index(), \n",
    "          # x='a', \n",
    "          x='n',\n",
    "          y='z', \n",
    "          color='r2',\n",
    "          title='R² Values for All Oscillator Fits',\n",
    "          # labels={'z': 'Number of protons (Z)', 'a': 'Weight (A)', 'r2': 'R² Score'},\n",
    "          labels={'z': 'Number of protons (Z)', 'n': 'Number of neutrons (N)', 'r2': 'R² Score'},\n",
    "          color_continuous_scale=[(0, 'red'), (0.8, 'white'), (1, 'blue')],\n",
    "          height=600)\n",
    "\n",
    "\n",
    "magic_numbers_n = [2, 8, 20, 50, 58, 82, 126]\n",
    "magic_numbers_z = [2, 8, 20, 50, 58, 82]\n",
    "\n",
    "for i, m in enumerate(magic_numbers_n):\n",
    "    fig.add_vline(x=m, line_dash=\"dash\", line_color=\"gray\", name=\"Magic numbers\" if i==0 else None)\n",
    "\n",
    "for i, m in enumerate(magic_numbers_z):\n",
    "    fig.add_hline(y=m, line_dash=\"dash\", line_color=\"gray\")\n",
    "\n",
    "fig.show()"
   ]
  },
  {
   "cell_type": "code",
   "execution_count": 74,
   "metadata": {},
   "outputs": [
    {
     "data": {
      "text/html": [
       "<div>\n",
       "<style scoped>\n",
       "    .dataframe tbody tr th:only-of-type {\n",
       "        vertical-align: middle;\n",
       "    }\n",
       "\n",
       "    .dataframe tbody tr th {\n",
       "        vertical-align: top;\n",
       "    }\n",
       "\n",
       "    .dataframe thead th {\n",
       "        text-align: right;\n",
       "    }\n",
       "</style>\n",
       "<table border=\"1\" class=\"dataframe\">\n",
       "  <thead>\n",
       "    <tr style=\"text-align: right;\">\n",
       "      <th></th>\n",
       "      <th></th>\n",
       "      <th>symbol</th>\n",
       "      <th>n</th>\n",
       "      <th>idx</th>\n",
       "      <th>energy</th>\n",
       "      <th>jp</th>\n",
       "      <th>jp_order</th>\n",
       "      <th>beta</th>\n",
       "      <th>j</th>\n",
       "      <th>p</th>\n",
       "      <th>j_float_x</th>\n",
       "      <th>j_evenness</th>\n",
       "      <th>p_bit</th>\n",
       "      <th>quanta</th>\n",
       "      <th>energy_quantum</th>\n",
       "      <th>shift4</th>\n",
       "      <th>r2</th>\n",
       "      <th>anharmonicity</th>\n",
       "      <th>j_float_y</th>\n",
       "      <th>energy_pred</th>\n",
       "    </tr>\n",
       "    <tr>\n",
       "      <th>z</th>\n",
       "      <th>a</th>\n",
       "      <th></th>\n",
       "      <th></th>\n",
       "      <th></th>\n",
       "      <th></th>\n",
       "      <th></th>\n",
       "      <th></th>\n",
       "      <th></th>\n",
       "      <th></th>\n",
       "      <th></th>\n",
       "      <th></th>\n",
       "      <th></th>\n",
       "      <th></th>\n",
       "      <th></th>\n",
       "      <th></th>\n",
       "      <th></th>\n",
       "      <th></th>\n",
       "      <th></th>\n",
       "      <th></th>\n",
       "      <th></th>\n",
       "    </tr>\n",
       "  </thead>\n",
       "  <tbody>\n",
       "    <tr>\n",
       "      <th rowspan=\"6\" valign=\"top\">24</th>\n",
       "      <th>52</th>\n",
       "      <td>Cr</td>\n",
       "      <td>28</td>\n",
       "      <td>0</td>\n",
       "      <td>0.0</td>\n",
       "      <td>0+</td>\n",
       "      <td>1</td>\n",
       "      <td>0.076923</td>\n",
       "      <td>0</td>\n",
       "      <td>+</td>\n",
       "      <td>0.0</td>\n",
       "      <td>True</td>\n",
       "      <td>0</td>\n",
       "      <td>0</td>\n",
       "      <td>1.093661</td>\n",
       "      <td>0.029399</td>\n",
       "      <td>0.99374</td>\n",
       "      <td>0.026881</td>\n",
       "      <td>0</td>\n",
       "      <td>0.000000</td>\n",
       "    </tr>\n",
       "    <tr>\n",
       "      <th>52</th>\n",
       "      <td>Cr</td>\n",
       "      <td>28</td>\n",
       "      <td>1</td>\n",
       "      <td>1.434091</td>\n",
       "      <td>2+</td>\n",
       "      <td>1</td>\n",
       "      <td>0.076923</td>\n",
       "      <td>2</td>\n",
       "      <td>+</td>\n",
       "      <td>2.0</td>\n",
       "      <td>True</td>\n",
       "      <td>0</td>\n",
       "      <td>1</td>\n",
       "      <td>1.093661</td>\n",
       "      <td>0.029399</td>\n",
       "      <td>0.99374</td>\n",
       "      <td>0.026881</td>\n",
       "      <td>1</td>\n",
       "      <td>1.093661</td>\n",
       "    </tr>\n",
       "    <tr>\n",
       "      <th>52</th>\n",
       "      <td>Cr</td>\n",
       "      <td>28</td>\n",
       "      <td>2</td>\n",
       "      <td>2.36963</td>\n",
       "      <td>4+</td>\n",
       "      <td>1</td>\n",
       "      <td>0.076923</td>\n",
       "      <td>4</td>\n",
       "      <td>+</td>\n",
       "      <td>4.0</td>\n",
       "      <td>True</td>\n",
       "      <td>0</td>\n",
       "      <td>2</td>\n",
       "      <td>1.093661</td>\n",
       "      <td>0.029399</td>\n",
       "      <td>0.99374</td>\n",
       "      <td>0.026881</td>\n",
       "      <td>2</td>\n",
       "      <td>2.216721</td>\n",
       "    </tr>\n",
       "    <tr>\n",
       "      <th>52</th>\n",
       "      <td>Cr</td>\n",
       "      <td>28</td>\n",
       "      <td>6</td>\n",
       "      <td>3.113858</td>\n",
       "      <td>6+</td>\n",
       "      <td>1</td>\n",
       "      <td>0.076923</td>\n",
       "      <td>6</td>\n",
       "      <td>+</td>\n",
       "      <td>6.0</td>\n",
       "      <td>True</td>\n",
       "      <td>0</td>\n",
       "      <td>3</td>\n",
       "      <td>1.093661</td>\n",
       "      <td>0.029399</td>\n",
       "      <td>0.99374</td>\n",
       "      <td>0.026881</td>\n",
       "      <td>3</td>\n",
       "      <td>3.369180</td>\n",
       "    </tr>\n",
       "    <tr>\n",
       "      <th>52</th>\n",
       "      <td>Cr</td>\n",
       "      <td>28</td>\n",
       "      <td>26</td>\n",
       "      <td>4.75031</td>\n",
       "      <td>8+</td>\n",
       "      <td>1</td>\n",
       "      <td>0.076923</td>\n",
       "      <td>8</td>\n",
       "      <td>+</td>\n",
       "      <td>8.0</td>\n",
       "      <td>True</td>\n",
       "      <td>0</td>\n",
       "      <td>4</td>\n",
       "      <td>1.093661</td>\n",
       "      <td>0.029399</td>\n",
       "      <td>0.99374</td>\n",
       "      <td>0.026881</td>\n",
       "      <td>4</td>\n",
       "      <td>4.727434</td>\n",
       "    </tr>\n",
       "    <tr>\n",
       "      <th>52</th>\n",
       "      <td>Cr</td>\n",
       "      <td>28</td>\n",
       "      <td>125</td>\n",
       "      <td>7.2379</td>\n",
       "      <td>10+</td>\n",
       "      <td>1</td>\n",
       "      <td>0.076923</td>\n",
       "      <td>10</td>\n",
       "      <td>+</td>\n",
       "      <td>10.0</td>\n",
       "      <td>True</td>\n",
       "      <td>0</td>\n",
       "      <td>5</td>\n",
       "      <td>1.093661</td>\n",
       "      <td>0.029399</td>\n",
       "      <td>0.99374</td>\n",
       "      <td>0.026881</td>\n",
       "      <td>5</td>\n",
       "      <td>7.232258</td>\n",
       "    </tr>\n",
       "  </tbody>\n",
       "</table>\n",
       "</div>"
      ],
      "text/plain": [
       "      symbol   n  idx    energy   jp  jp_order      beta   j  p  j_float_x  \\\n",
       "z  a                                                                         \n",
       "24 52     Cr  28    0       0.0   0+         1  0.076923   0  +        0.0   \n",
       "   52     Cr  28    1  1.434091   2+         1  0.076923   2  +        2.0   \n",
       "   52     Cr  28    2   2.36963   4+         1  0.076923   4  +        4.0   \n",
       "   52     Cr  28    6  3.113858   6+         1  0.076923   6  +        6.0   \n",
       "   52     Cr  28   26   4.75031   8+         1  0.076923   8  +        8.0   \n",
       "   52     Cr  28  125    7.2379  10+         1  0.076923  10  +       10.0   \n",
       "\n",
       "       j_evenness  p_bit  quanta  energy_quantum    shift4       r2  \\\n",
       "z  a                                                                  \n",
       "24 52        True      0       0        1.093661  0.029399  0.99374   \n",
       "   52        True      0       1        1.093661  0.029399  0.99374   \n",
       "   52        True      0       2        1.093661  0.029399  0.99374   \n",
       "   52        True      0       3        1.093661  0.029399  0.99374   \n",
       "   52        True      0       4        1.093661  0.029399  0.99374   \n",
       "   52        True      0       5        1.093661  0.029399  0.99374   \n",
       "\n",
       "       anharmonicity  j_float_y  energy_pred  \n",
       "z  a                                          \n",
       "24 52       0.026881          0     0.000000  \n",
       "   52       0.026881          1     1.093661  \n",
       "   52       0.026881          2     2.216721  \n",
       "   52       0.026881          3     3.369180  \n",
       "   52       0.026881          4     4.727434  \n",
       "   52       0.026881          5     7.232258  "
      ]
     },
     "execution_count": 74,
     "metadata": {},
     "output_type": "execute_result"
    }
   ],
   "source": [
    "merged.loc[24,52]"
   ]
  },
  {
   "cell_type": "code",
   "execution_count": 75,
   "metadata": {},
   "outputs": [
    {
     "data": {
      "application/vnd.plotly.v1+json": {
       "config": {
        "plotlyServerURL": "https://plot.ly"
       },
       "data": [
        {
         "hovertemplate": "Quanta of oscillation=%{x}<br>Residuals=%{y}<extra></extra>",
         "legendgroup": "",
         "marker": {
          "color": "#636efa",
          "symbol": "circle"
         },
         "mode": "markers",
         "name": "",
         "orientation": "v",
         "showlegend": false,
         "type": "scatter",
         "x": [
          0,
          1,
          2,
          3,
          4,
          5
         ],
         "xaxis": "x",
         "y": [
          0,
          0.3404302659524432,
          0.15290929896161165,
          -0.2553219009724943,
          0.02287626849047797,
          0.005642353165738356
         ],
         "yaxis": "y"
        }
       ],
       "layout": {
        "legend": {
         "tracegroupgap": 0
        },
        "template": {
         "data": {
          "bar": [
           {
            "error_x": {
             "color": "#2a3f5f"
            },
            "error_y": {
             "color": "#2a3f5f"
            },
            "marker": {
             "line": {
              "color": "#E5ECF6",
              "width": 0.5
             },
             "pattern": {
              "fillmode": "overlay",
              "size": 10,
              "solidity": 0.2
             }
            },
            "type": "bar"
           }
          ],
          "barpolar": [
           {
            "marker": {
             "line": {
              "color": "#E5ECF6",
              "width": 0.5
             },
             "pattern": {
              "fillmode": "overlay",
              "size": 10,
              "solidity": 0.2
             }
            },
            "type": "barpolar"
           }
          ],
          "carpet": [
           {
            "aaxis": {
             "endlinecolor": "#2a3f5f",
             "gridcolor": "white",
             "linecolor": "white",
             "minorgridcolor": "white",
             "startlinecolor": "#2a3f5f"
            },
            "baxis": {
             "endlinecolor": "#2a3f5f",
             "gridcolor": "white",
             "linecolor": "white",
             "minorgridcolor": "white",
             "startlinecolor": "#2a3f5f"
            },
            "type": "carpet"
           }
          ],
          "choropleth": [
           {
            "colorbar": {
             "outlinewidth": 0,
             "ticks": ""
            },
            "type": "choropleth"
           }
          ],
          "contour": [
           {
            "colorbar": {
             "outlinewidth": 0,
             "ticks": ""
            },
            "colorscale": [
             [
              0,
              "#0d0887"
             ],
             [
              0.1111111111111111,
              "#46039f"
             ],
             [
              0.2222222222222222,
              "#7201a8"
             ],
             [
              0.3333333333333333,
              "#9c179e"
             ],
             [
              0.4444444444444444,
              "#bd3786"
             ],
             [
              0.5555555555555556,
              "#d8576b"
             ],
             [
              0.6666666666666666,
              "#ed7953"
             ],
             [
              0.7777777777777778,
              "#fb9f3a"
             ],
             [
              0.8888888888888888,
              "#fdca26"
             ],
             [
              1,
              "#f0f921"
             ]
            ],
            "type": "contour"
           }
          ],
          "contourcarpet": [
           {
            "colorbar": {
             "outlinewidth": 0,
             "ticks": ""
            },
            "type": "contourcarpet"
           }
          ],
          "heatmap": [
           {
            "colorbar": {
             "outlinewidth": 0,
             "ticks": ""
            },
            "colorscale": [
             [
              0,
              "#0d0887"
             ],
             [
              0.1111111111111111,
              "#46039f"
             ],
             [
              0.2222222222222222,
              "#7201a8"
             ],
             [
              0.3333333333333333,
              "#9c179e"
             ],
             [
              0.4444444444444444,
              "#bd3786"
             ],
             [
              0.5555555555555556,
              "#d8576b"
             ],
             [
              0.6666666666666666,
              "#ed7953"
             ],
             [
              0.7777777777777778,
              "#fb9f3a"
             ],
             [
              0.8888888888888888,
              "#fdca26"
             ],
             [
              1,
              "#f0f921"
             ]
            ],
            "type": "heatmap"
           }
          ],
          "heatmapgl": [
           {
            "colorbar": {
             "outlinewidth": 0,
             "ticks": ""
            },
            "colorscale": [
             [
              0,
              "#0d0887"
             ],
             [
              0.1111111111111111,
              "#46039f"
             ],
             [
              0.2222222222222222,
              "#7201a8"
             ],
             [
              0.3333333333333333,
              "#9c179e"
             ],
             [
              0.4444444444444444,
              "#bd3786"
             ],
             [
              0.5555555555555556,
              "#d8576b"
             ],
             [
              0.6666666666666666,
              "#ed7953"
             ],
             [
              0.7777777777777778,
              "#fb9f3a"
             ],
             [
              0.8888888888888888,
              "#fdca26"
             ],
             [
              1,
              "#f0f921"
             ]
            ],
            "type": "heatmapgl"
           }
          ],
          "histogram": [
           {
            "marker": {
             "pattern": {
              "fillmode": "overlay",
              "size": 10,
              "solidity": 0.2
             }
            },
            "type": "histogram"
           }
          ],
          "histogram2d": [
           {
            "colorbar": {
             "outlinewidth": 0,
             "ticks": ""
            },
            "colorscale": [
             [
              0,
              "#0d0887"
             ],
             [
              0.1111111111111111,
              "#46039f"
             ],
             [
              0.2222222222222222,
              "#7201a8"
             ],
             [
              0.3333333333333333,
              "#9c179e"
             ],
             [
              0.4444444444444444,
              "#bd3786"
             ],
             [
              0.5555555555555556,
              "#d8576b"
             ],
             [
              0.6666666666666666,
              "#ed7953"
             ],
             [
              0.7777777777777778,
              "#fb9f3a"
             ],
             [
              0.8888888888888888,
              "#fdca26"
             ],
             [
              1,
              "#f0f921"
             ]
            ],
            "type": "histogram2d"
           }
          ],
          "histogram2dcontour": [
           {
            "colorbar": {
             "outlinewidth": 0,
             "ticks": ""
            },
            "colorscale": [
             [
              0,
              "#0d0887"
             ],
             [
              0.1111111111111111,
              "#46039f"
             ],
             [
              0.2222222222222222,
              "#7201a8"
             ],
             [
              0.3333333333333333,
              "#9c179e"
             ],
             [
              0.4444444444444444,
              "#bd3786"
             ],
             [
              0.5555555555555556,
              "#d8576b"
             ],
             [
              0.6666666666666666,
              "#ed7953"
             ],
             [
              0.7777777777777778,
              "#fb9f3a"
             ],
             [
              0.8888888888888888,
              "#fdca26"
             ],
             [
              1,
              "#f0f921"
             ]
            ],
            "type": "histogram2dcontour"
           }
          ],
          "mesh3d": [
           {
            "colorbar": {
             "outlinewidth": 0,
             "ticks": ""
            },
            "type": "mesh3d"
           }
          ],
          "parcoords": [
           {
            "line": {
             "colorbar": {
              "outlinewidth": 0,
              "ticks": ""
             }
            },
            "type": "parcoords"
           }
          ],
          "pie": [
           {
            "automargin": true,
            "type": "pie"
           }
          ],
          "scatter": [
           {
            "fillpattern": {
             "fillmode": "overlay",
             "size": 10,
             "solidity": 0.2
            },
            "type": "scatter"
           }
          ],
          "scatter3d": [
           {
            "line": {
             "colorbar": {
              "outlinewidth": 0,
              "ticks": ""
             }
            },
            "marker": {
             "colorbar": {
              "outlinewidth": 0,
              "ticks": ""
             }
            },
            "type": "scatter3d"
           }
          ],
          "scattercarpet": [
           {
            "marker": {
             "colorbar": {
              "outlinewidth": 0,
              "ticks": ""
             }
            },
            "type": "scattercarpet"
           }
          ],
          "scattergeo": [
           {
            "marker": {
             "colorbar": {
              "outlinewidth": 0,
              "ticks": ""
             }
            },
            "type": "scattergeo"
           }
          ],
          "scattergl": [
           {
            "marker": {
             "colorbar": {
              "outlinewidth": 0,
              "ticks": ""
             }
            },
            "type": "scattergl"
           }
          ],
          "scattermapbox": [
           {
            "marker": {
             "colorbar": {
              "outlinewidth": 0,
              "ticks": ""
             }
            },
            "type": "scattermapbox"
           }
          ],
          "scatterpolar": [
           {
            "marker": {
             "colorbar": {
              "outlinewidth": 0,
              "ticks": ""
             }
            },
            "type": "scatterpolar"
           }
          ],
          "scatterpolargl": [
           {
            "marker": {
             "colorbar": {
              "outlinewidth": 0,
              "ticks": ""
             }
            },
            "type": "scatterpolargl"
           }
          ],
          "scatterternary": [
           {
            "marker": {
             "colorbar": {
              "outlinewidth": 0,
              "ticks": ""
             }
            },
            "type": "scatterternary"
           }
          ],
          "surface": [
           {
            "colorbar": {
             "outlinewidth": 0,
             "ticks": ""
            },
            "colorscale": [
             [
              0,
              "#0d0887"
             ],
             [
              0.1111111111111111,
              "#46039f"
             ],
             [
              0.2222222222222222,
              "#7201a8"
             ],
             [
              0.3333333333333333,
              "#9c179e"
             ],
             [
              0.4444444444444444,
              "#bd3786"
             ],
             [
              0.5555555555555556,
              "#d8576b"
             ],
             [
              0.6666666666666666,
              "#ed7953"
             ],
             [
              0.7777777777777778,
              "#fb9f3a"
             ],
             [
              0.8888888888888888,
              "#fdca26"
             ],
             [
              1,
              "#f0f921"
             ]
            ],
            "type": "surface"
           }
          ],
          "table": [
           {
            "cells": {
             "fill": {
              "color": "#EBF0F8"
             },
             "line": {
              "color": "white"
             }
            },
            "header": {
             "fill": {
              "color": "#C8D4E3"
             },
             "line": {
              "color": "white"
             }
            },
            "type": "table"
           }
          ]
         },
         "layout": {
          "annotationdefaults": {
           "arrowcolor": "#2a3f5f",
           "arrowhead": 0,
           "arrowwidth": 1
          },
          "autotypenumbers": "strict",
          "coloraxis": {
           "colorbar": {
            "outlinewidth": 0,
            "ticks": ""
           }
          },
          "colorscale": {
           "diverging": [
            [
             0,
             "#8e0152"
            ],
            [
             0.1,
             "#c51b7d"
            ],
            [
             0.2,
             "#de77ae"
            ],
            [
             0.3,
             "#f1b6da"
            ],
            [
             0.4,
             "#fde0ef"
            ],
            [
             0.5,
             "#f7f7f7"
            ],
            [
             0.6,
             "#e6f5d0"
            ],
            [
             0.7,
             "#b8e186"
            ],
            [
             0.8,
             "#7fbc41"
            ],
            [
             0.9,
             "#4d9221"
            ],
            [
             1,
             "#276419"
            ]
           ],
           "sequential": [
            [
             0,
             "#0d0887"
            ],
            [
             0.1111111111111111,
             "#46039f"
            ],
            [
             0.2222222222222222,
             "#7201a8"
            ],
            [
             0.3333333333333333,
             "#9c179e"
            ],
            [
             0.4444444444444444,
             "#bd3786"
            ],
            [
             0.5555555555555556,
             "#d8576b"
            ],
            [
             0.6666666666666666,
             "#ed7953"
            ],
            [
             0.7777777777777778,
             "#fb9f3a"
            ],
            [
             0.8888888888888888,
             "#fdca26"
            ],
            [
             1,
             "#f0f921"
            ]
           ],
           "sequentialminus": [
            [
             0,
             "#0d0887"
            ],
            [
             0.1111111111111111,
             "#46039f"
            ],
            [
             0.2222222222222222,
             "#7201a8"
            ],
            [
             0.3333333333333333,
             "#9c179e"
            ],
            [
             0.4444444444444444,
             "#bd3786"
            ],
            [
             0.5555555555555556,
             "#d8576b"
            ],
            [
             0.6666666666666666,
             "#ed7953"
            ],
            [
             0.7777777777777778,
             "#fb9f3a"
            ],
            [
             0.8888888888888888,
             "#fdca26"
            ],
            [
             1,
             "#f0f921"
            ]
           ]
          },
          "colorway": [
           "#636efa",
           "#EF553B",
           "#00cc96",
           "#ab63fa",
           "#FFA15A",
           "#19d3f3",
           "#FF6692",
           "#B6E880",
           "#FF97FF",
           "#FECB52"
          ],
          "font": {
           "color": "#2a3f5f"
          },
          "geo": {
           "bgcolor": "white",
           "lakecolor": "white",
           "landcolor": "#E5ECF6",
           "showlakes": true,
           "showland": true,
           "subunitcolor": "white"
          },
          "hoverlabel": {
           "align": "left"
          },
          "hovermode": "closest",
          "mapbox": {
           "style": "light"
          },
          "paper_bgcolor": "white",
          "plot_bgcolor": "#E5ECF6",
          "polar": {
           "angularaxis": {
            "gridcolor": "white",
            "linecolor": "white",
            "ticks": ""
           },
           "bgcolor": "#E5ECF6",
           "radialaxis": {
            "gridcolor": "white",
            "linecolor": "white",
            "ticks": ""
           }
          },
          "scene": {
           "xaxis": {
            "backgroundcolor": "#E5ECF6",
            "gridcolor": "white",
            "gridwidth": 2,
            "linecolor": "white",
            "showbackground": true,
            "ticks": "",
            "zerolinecolor": "white"
           },
           "yaxis": {
            "backgroundcolor": "#E5ECF6",
            "gridcolor": "white",
            "gridwidth": 2,
            "linecolor": "white",
            "showbackground": true,
            "ticks": "",
            "zerolinecolor": "white"
           },
           "zaxis": {
            "backgroundcolor": "#E5ECF6",
            "gridcolor": "white",
            "gridwidth": 2,
            "linecolor": "white",
            "showbackground": true,
            "ticks": "",
            "zerolinecolor": "white"
           }
          },
          "shapedefaults": {
           "line": {
            "color": "#2a3f5f"
           }
          },
          "ternary": {
           "aaxis": {
            "gridcolor": "white",
            "linecolor": "white",
            "ticks": ""
           },
           "baxis": {
            "gridcolor": "white",
            "linecolor": "white",
            "ticks": ""
           },
           "bgcolor": "#E5ECF6",
           "caxis": {
            "gridcolor": "white",
            "linecolor": "white",
            "ticks": ""
           }
          },
          "title": {
           "x": 0.05
          },
          "xaxis": {
           "automargin": true,
           "gridcolor": "white",
           "linecolor": "white",
           "ticks": "",
           "title": {
            "standoff": 15
           },
           "zerolinecolor": "white",
           "zerolinewidth": 2
          },
          "yaxis": {
           "automargin": true,
           "gridcolor": "white",
           "linecolor": "white",
           "ticks": "",
           "title": {
            "standoff": 15
           },
           "zerolinecolor": "white",
           "zerolinewidth": 2
          }
         }
        },
        "title": {
         "text": "Residuals for 52Cr"
        },
        "xaxis": {
         "anchor": "y",
         "domain": [
          0,
          1
         ],
         "title": {
          "text": "Quanta of oscillation"
         }
        },
        "yaxis": {
         "anchor": "x",
         "domain": [
          0,
          1
         ],
         "title": {
          "text": "Residuals"
         }
        }
       }
      }
     },
     "metadata": {},
     "output_type": "display_data"
    }
   ],
   "source": [
    "test_nucleus = merged.loc[24,52]\n",
    "a = test_nucleus.index[0][1]\n",
    "symbol = test_nucleus.iloc[0]['symbol']\n",
    "\n",
    "px.scatter(x=test_nucleus['quanta'], \n",
    "            y=test_nucleus['energy']-test_nucleus['energy_pred'],\n",
    "            title=f'Residuals for {a}{symbol}',\n",
    "            labels={'x': 'Quanta of oscillation', 'y': 'Residuals'})"
   ]
  },
  {
   "cell_type": "code",
   "execution_count": 154,
   "metadata": {},
   "outputs": [
    {
     "data": {
      "application/vnd.plotly.v1+json": {
       "config": {
        "plotlyServerURL": "https://plot.ly"
       },
       "data": [
        {
         "hovertemplate": "name=12C<br>quanta=%{x}<br>residuals=%{y}<br>anharmonicity=%{marker.color}<extra></extra>",
         "legendgroup": "",
         "marker": {
          "color": [
           0.9956169394254722,
           0.9956169394254722,
           0.9956169394254722
          ],
          "coloraxis": "coloraxis",
          "symbol": "circle"
         },
         "mode": "markers",
         "name": "",
         "orientation": "v",
         "showlegend": false,
         "type": "scatter",
         "x": [
          0,
          1,
          2
         ],
         "xaxis": "x25",
         "y": [
          0,
          0,
          0
         ],
         "yaxis": "y25"
        },
        {
         "hovertemplate": "name=22Ne<br>quanta=%{x}<br>residuals=%{y}<br>anharmonicity=%{marker.color}<extra></extra>",
         "legendgroup": "",
         "marker": {
          "color": [
           0.6340545625587958,
           0.6340545625587958,
           0.6340545625587958
          ],
          "coloraxis": "coloraxis",
          "symbol": "circle"
         },
         "mode": "markers",
         "name": "",
         "orientation": "v",
         "showlegend": false,
         "type": "scatter",
         "x": [
          0,
          1,
          2
         ],
         "xaxis": "x26",
         "y": [
          0,
          0,
          0
         ],
         "yaxis": "y26"
        },
        {
         "hovertemplate": "name=30Si<br>quanta=%{x}<br>residuals=%{y}<br>anharmonicity=%{marker.color}<extra></extra>",
         "legendgroup": "",
         "marker": {
          "color": [
           0.4185374292173181,
           0.4185374292173181,
           0.4185374292173181,
           0.4185374292173181
          ],
          "coloraxis": "coloraxis",
          "symbol": "circle"
         },
         "mode": "markers",
         "name": "",
         "orientation": "v",
         "showlegend": false,
         "type": "scatter",
         "x": [
          0,
          1,
          2,
          3
         ],
         "xaxis": "x27",
         "y": [
          0,
          0.037140789471070246,
          -0.037140789478737446,
          0.012380263150577164
         ],
         "yaxis": "y27"
        },
        {
         "hovertemplate": "name=36S<br>quanta=%{x}<br>residuals=%{y}<br>anharmonicity=%{marker.color}<extra></extra>",
         "legendgroup": "",
         "marker": {
          "color": [
           -0.02048071955999896,
           -0.02048071955999896,
           -0.02048071955999896
          ],
          "coloraxis": "coloraxis",
          "symbol": "circle"
         },
         "mode": "markers",
         "name": "",
         "orientation": "v",
         "showlegend": false,
         "type": "scatter",
         "x": [
          0,
          1,
          2
         ],
         "xaxis": "x28",
         "y": [
          0,
          0,
          -8.881784197001252e-16
         ],
         "yaxis": "y28"
        },
        {
         "hovertemplate": "name=50Ti<br>quanta=%{x}<br>residuals=%{y}<br>anharmonicity=%{marker.color}<extra></extra>",
         "legendgroup": "",
         "marker": {
          "color": [
           -0.3232467818000523,
           -0.3232467818000523,
           -0.3232467818000523,
           -0.3232467818000523
          ],
          "coloraxis": "coloraxis",
          "symbol": "circle"
         },
         "mode": "markers",
         "name": "",
         "orientation": "v",
         "showlegend": false,
         "type": "scatter",
         "x": [
          0,
          1,
          2,
          3
         ],
         "xaxis": "x29",
         "y": [
          0,
          -0.02600273742781356,
          0.026002736416135264,
          -0.008667578468152026
         ],
         "yaxis": "y29"
        },
        {
         "hovertemplate": "name=54Cr<br>quanta=%{x}<br>residuals=%{y}<br>anharmonicity=%{marker.color}<extra></extra>",
         "legendgroup": "",
         "marker": {
          "color": [
           0.34625116623317004,
           0.34625116623317004,
           0.34625116623317004,
           0.34625116623317004
          ],
          "coloraxis": "coloraxis",
          "symbol": "circle"
         },
         "mode": "markers",
         "name": "",
         "orientation": "v",
         "showlegend": false,
         "type": "scatter",
         "x": [
          0,
          1,
          2,
          3
         ],
         "xaxis": "x30",
         "y": [
          0,
          0.04029868316919338,
          -0.04029868500221223,
          0.013432895485782748
         ],
         "yaxis": "y30"
        },
        {
         "hovertemplate": "name=64Zn<br>quanta=%{x}<br>residuals=%{y}<br>anharmonicity=%{marker.color}<extra></extra>",
         "legendgroup": "",
         "marker": {
          "color": [
           0.35192610104799726,
           0.35192610104799726,
           0.35192610104799726,
           0.35192610104799726
          ],
          "coloraxis": "coloraxis",
          "symbol": "circle"
         },
         "mode": "markers",
         "name": "",
         "orientation": "v",
         "showlegend": false,
         "type": "scatter",
         "x": [
          0,
          1,
          2,
          3
         ],
         "xaxis": "x31",
         "y": [
          0,
          0.007550526315824535,
          -0.0075505263142936485,
          0.002516842109645534
         ],
         "yaxis": "y31"
        },
        {
         "hovertemplate": "name=66Zn<br>quanta=%{x}<br>residuals=%{y}<br>anharmonicity=%{marker.color}<extra></extra>",
         "legendgroup": "",
         "marker": {
          "color": [
           0.3584913376555807,
           0.3584913376555807,
           0.3584913376555807
          ],
          "coloraxis": "coloraxis",
          "symbol": "circle"
         },
         "mode": "markers",
         "name": "",
         "orientation": "v",
         "showlegend": false,
         "type": "scatter",
         "x": [
          0,
          1,
          2
         ],
         "xaxis": "x32",
         "y": [
          0,
          0,
          0
         ],
         "yaxis": "y32"
        },
        {
         "hovertemplate": "name=68Zn<br>quanta=%{x}<br>residuals=%{y}<br>anharmonicity=%{marker.color}<extra></extra>",
         "legendgroup": "",
         "marker": {
          "color": [
           0.24379739550943533,
           0.24379739550943533,
           0.24379739550943533
          ],
          "coloraxis": "coloraxis",
          "symbol": "circle"
         },
         "mode": "markers",
         "name": "",
         "orientation": "v",
         "showlegend": false,
         "type": "scatter",
         "x": [
          0,
          1,
          2
         ],
         "xaxis": "x17",
         "y": [
          0,
          0,
          0
         ],
         "yaxis": "y17"
        },
        {
         "hovertemplate": "name=74Ge<br>quanta=%{x}<br>residuals=%{y}<br>anharmonicity=%{marker.color}<extra></extra>",
         "legendgroup": "",
         "marker": {
          "color": [
           0.45658974574137795,
           0.45658974574137795,
           0.45658974574137795
          ],
          "coloraxis": "coloraxis",
          "symbol": "circle"
         },
         "mode": "markers",
         "name": "",
         "orientation": "v",
         "showlegend": false,
         "type": "scatter",
         "x": [
          0,
          1,
          2
         ],
         "xaxis": "x18",
         "y": [
          0,
          0,
          0
         ],
         "yaxis": "y18"
        },
        {
         "hovertemplate": "name=80Se<br>quanta=%{x}<br>residuals=%{y}<br>anharmonicity=%{marker.color}<extra></extra>",
         "legendgroup": "",
         "marker": {
          "color": [
           0.5536944481966772,
           0.5536944481966772,
           0.5536944481966772
          ],
          "coloraxis": "coloraxis",
          "symbol": "circle"
         },
         "mode": "markers",
         "name": "",
         "orientation": "v",
         "showlegend": false,
         "type": "scatter",
         "x": [
          0,
          1,
          2
         ],
         "xaxis": "x19",
         "y": [
          0,
          0,
          -2.220446049250313e-16
         ],
         "yaxis": "y19"
        },
        {
         "hovertemplate": "name=82Kr<br>quanta=%{x}<br>residuals=%{y}<br>anharmonicity=%{marker.color}<extra></extra>",
         "legendgroup": "",
         "marker": {
          "color": [
           0.34446238760839987,
           0.34446238760839987,
           0.34446238760839987
          ],
          "coloraxis": "coloraxis",
          "symbol": "circle"
         },
         "mode": "markers",
         "name": "",
         "orientation": "v",
         "showlegend": false,
         "type": "scatter",
         "x": [
          0,
          1,
          2
         ],
         "xaxis": "x20",
         "y": [
          0,
          0,
          0
         ],
         "yaxis": "y20"
        },
        {
         "hovertemplate": "name=86Kr<br>quanta=%{x}<br>residuals=%{y}<br>anharmonicity=%{marker.color}<extra></extra>",
         "legendgroup": "",
         "marker": {
          "color": [
           -0.5619355622167824,
           -0.5619355622167824,
           -0.5619355622167824
          ],
          "coloraxis": "coloraxis",
          "symbol": "circle"
         },
         "mode": "markers",
         "name": "",
         "orientation": "v",
         "showlegend": false,
         "type": "scatter",
         "x": [
          0,
          1,
          2
         ],
         "xaxis": "x21",
         "y": [
          0,
          0,
          4.440892098500626e-16
         ],
         "yaxis": "y21"
        },
        {
         "hovertemplate": "name=88Sr<br>quanta=%{x}<br>residuals=%{y}<br>anharmonicity=%{marker.color}<extra></extra>",
         "legendgroup": "",
         "marker": {
          "color": [
           0.3048979080546162,
           0.3048979080546162,
           0.3048979080546162
          ],
          "coloraxis": "coloraxis",
          "symbol": "circle"
         },
         "mode": "markers",
         "name": "",
         "orientation": "v",
         "showlegend": false,
         "type": "scatter",
         "x": [
          0,
          1,
          2
         ],
         "xaxis": "x22",
         "y": [
          0,
          0,
          0
         ],
         "yaxis": "y22"
        },
        {
         "hovertemplate": "name=94Zr<br>quanta=%{x}<br>residuals=%{y}<br>anharmonicity=%{marker.color}<extra></extra>",
         "legendgroup": "",
         "marker": {
          "color": [
           -0.40041360544217686,
           -0.40041360544217686,
           -0.40041360544217686
          ],
          "coloraxis": "coloraxis",
          "symbol": "circle"
         },
         "mode": "markers",
         "name": "",
         "orientation": "v",
         "showlegend": false,
         "type": "scatter",
         "x": [
          0,
          1,
          2
         ],
         "xaxis": "x23",
         "y": [
          0,
          0,
          0
         ],
         "yaxis": "y23"
        },
        {
         "hovertemplate": "name=94Mo<br>quanta=%{x}<br>residuals=%{y}<br>anharmonicity=%{marker.color}<extra></extra>",
         "legendgroup": "",
         "marker": {
          "color": [
           -0.036238407616169255,
           -0.036238407616169255,
           -0.036238407616169255,
           -0.036238407616169255,
           -0.036238407616169255
          ],
          "coloraxis": "coloraxis",
          "symbol": "circle"
         },
         "mode": "markers",
         "name": "",
         "orientation": "v",
         "showlegend": false,
         "type": "scatter",
         "x": [
          0,
          1,
          2,
          3,
          4
         ],
         "xaxis": "x24",
         "y": [
          0,
          0.04160899034277765,
          -0.05515865846935353,
          0.025161053563605762,
          -0.001693708487797263
         ],
         "yaxis": "y24"
        },
        {
         "hovertemplate": "name=98Mo<br>quanta=%{x}<br>residuals=%{y}<br>anharmonicity=%{marker.color}<extra></extra>",
         "legendgroup": "",
         "marker": {
          "color": [
           0.0243172036393329,
           0.0243172036393329,
           0.0243172036393329,
           0.0243172036393329
          ],
          "coloraxis": "coloraxis",
          "symbol": "circle"
         },
         "mode": "markers",
         "name": "",
         "orientation": "v",
         "showlegend": false,
         "type": "scatter",
         "x": [
          0,
          1,
          2,
          3
         ],
         "xaxis": "x9",
         "y": [
          0,
          0.0277312105268398,
          -0.027731210523126437,
          0.009243736850101048
         ],
         "yaxis": "y9"
        },
        {
         "hovertemplate": "name=114Cd<br>quanta=%{x}<br>residuals=%{y}<br>anharmonicity=%{marker.color}<extra></extra>",
         "legendgroup": "",
         "marker": {
          "color": [
           0.13430019097382626,
           0.13430019097382626,
           0.13430019097382626,
           0.13430019097382626
          ],
          "coloraxis": "coloraxis",
          "symbol": "circle"
         },
         "mode": "markers",
         "name": "",
         "orientation": "v",
         "showlegend": false,
         "type": "scatter",
         "x": [
          0,
          1,
          2,
          3
         ],
         "xaxis": "x10",
         "y": [
          0,
          -0.029297210525417006,
          0.029297210530122797,
          -0.009765736833380334
         ],
         "yaxis": "y10"
        },
        {
         "hovertemplate": "name=120Te<br>quanta=%{x}<br>residuals=%{y}<br>anharmonicity=%{marker.color}<extra></extra>",
         "legendgroup": "",
         "marker": {
          "color": [
           0.06139857672585323,
           0.06139857672585323,
           0.06139857672585323,
           0.06139857672585323,
           0.06139857672585323
          ],
          "coloraxis": "coloraxis",
          "symbol": "circle"
         },
         "mode": "markers",
         "name": "",
         "orientation": "v",
         "showlegend": false,
         "type": "scatter",
         "x": [
          0,
          1,
          2,
          3,
          4
         ],
         "xaxis": "x11",
         "y": [
          0,
          0.0005712730474920491,
          0.00745152590393805,
          -0.00649524143066138,
          0.0010028498974175015
         ],
         "yaxis": "y11"
        },
        {
         "hovertemplate": "name=122Te<br>quanta=%{x}<br>residuals=%{y}<br>anharmonicity=%{marker.color}<extra></extra>",
         "legendgroup": "",
         "marker": {
          "color": [
           0.06533649960188978,
           0.06533649960188978,
           0.06533649960188978,
           0.06533649960188978,
           0.06533649960188978
          ],
          "coloraxis": "coloraxis",
          "symbol": "circle"
         },
         "mode": "markers",
         "name": "",
         "orientation": "v",
         "showlegend": false,
         "type": "scatter",
         "x": [
          0,
          1,
          2,
          3,
          4
         ],
         "xaxis": "x12",
         "y": [
          0,
          0.007019664619052235,
          0.03070204214626404,
          -0.029094867418364423,
          0.00471521337412506
         ],
         "yaxis": "y12"
        },
        {
         "hovertemplate": "name=132Xe<br>quanta=%{x}<br>residuals=%{y}<br>anharmonicity=%{marker.color}<extra></extra>",
         "legendgroup": "",
         "marker": {
          "color": [
           0.010483059870942987,
           0.010483059870942987,
           0.010483059870942987,
           0.010483059870942987
          ],
          "coloraxis": "coloraxis",
          "symbol": "circle"
         },
         "mode": "markers",
         "name": "",
         "orientation": "v",
         "showlegend": false,
         "type": "scatter",
         "x": [
          0,
          1,
          2,
          3
         ],
         "xaxis": "x13",
         "y": [
          0,
          -0.03251747368355673,
          0.03251747368768321,
          -0.010839157886279871
         ],
         "yaxis": "y13"
        },
        {
         "hovertemplate": "name=134Ba<br>quanta=%{x}<br>residuals=%{y}<br>anharmonicity=%{marker.color}<extra></extra>",
         "legendgroup": "",
         "marker": {
          "color": [
           0.31608789687431715,
           0.31608789687431715,
           0.31608789687431715
          ],
          "coloraxis": "coloraxis",
          "symbol": "circle"
         },
         "mode": "markers",
         "name": "",
         "orientation": "v",
         "showlegend": false,
         "type": "scatter",
         "x": [
          0,
          1,
          2
         ],
         "xaxis": "x14",
         "y": [
          0,
          0,
          0
         ],
         "yaxis": "y14"
        },
        {
         "hovertemplate": "name=194Pt<br>quanta=%{x}<br>residuals=%{y}<br>anharmonicity=%{marker.color}<extra></extra>",
         "legendgroup": "",
         "marker": {
          "color": [
           0.40986173149841515,
           0.40986173149841515,
           0.40986173149841515,
           0.40986173149841515
          ],
          "coloraxis": "coloraxis",
          "symbol": "circle"
         },
         "mode": "markers",
         "name": "",
         "orientation": "v",
         "showlegend": false,
         "type": "scatter",
         "x": [
          0,
          1,
          2,
          3
         ],
         "xaxis": "x15",
         "y": [
          0,
          -0.005781315788021546,
          0.005781315794260333,
          -0.0019271052531544264
         ],
         "yaxis": "y15"
        },
        {
         "hovertemplate": "name=196Hg<br>quanta=%{x}<br>residuals=%{y}<br>anharmonicity=%{marker.color}<extra></extra>",
         "legendgroup": "",
         "marker": {
          "color": [
           0.4917601765341101,
           0.4917601765341101,
           0.4917601765341101
          ],
          "coloraxis": "coloraxis",
          "symbol": "circle"
         },
         "mode": "markers",
         "name": "",
         "orientation": "v",
         "showlegend": false,
         "type": "scatter",
         "x": [
          0,
          1,
          2
         ],
         "xaxis": "x16",
         "y": [
          0,
          0,
          0
         ],
         "yaxis": "y16"
        },
        {
         "hovertemplate": "name=202Hg<br>quanta=%{x}<br>residuals=%{y}<br>anharmonicity=%{marker.color}<extra></extra>",
         "legendgroup": "",
         "marker": {
          "color": [
           0.48245386601411877,
           0.48245386601411877,
           0.48245386601411877,
           0.48245386601411877
          ],
          "coloraxis": "coloraxis",
          "symbol": "circle"
         },
         "mode": "markers",
         "name": "",
         "orientation": "v",
         "showlegend": false,
         "type": "scatter",
         "x": [
          0,
          1,
          2,
          3
         ],
         "xaxis": "x",
         "y": [
          0,
          -0.00824494736721676,
          0.00824494737253989,
          -0.002748315780730426
         ],
         "yaxis": "y"
        },
        {
         "hovertemplate": "name=204Hg<br>quanta=%{x}<br>residuals=%{y}<br>anharmonicity=%{marker.color}<extra></extra>",
         "legendgroup": "",
         "marker": {
          "color": [
           0.7413494642343946,
           0.7413494642343946,
           0.7413494642343946,
           0.7413494642343946
          ],
          "coloraxis": "coloraxis",
          "symbol": "circle"
         },
         "mode": "markers",
         "name": "",
         "orientation": "v",
         "showlegend": false,
         "type": "scatter",
         "x": [
          0,
          1,
          2,
          3
         ],
         "xaxis": "x2",
         "y": [
          0,
          0.0183119999732414,
          -0.018311999994747863,
          0.0061040000960321805
         ],
         "yaxis": "y2"
        }
       ],
       "layout": {
        "annotations": [
         {
          "showarrow": false,
          "text": "name=202Hg",
          "x": 0.05375,
          "xanchor": "center",
          "xref": "paper",
          "y": 0.1975,
          "yanchor": "bottom",
          "yref": "paper"
         },
         {
          "showarrow": false,
          "text": "name=204Hg",
          "x": 0.18125,
          "xanchor": "center",
          "xref": "paper",
          "y": 0.1975,
          "yanchor": "bottom",
          "yref": "paper"
         },
         {
          "showarrow": false,
          "text": "name=98Mo",
          "x": 0.05375,
          "xanchor": "center",
          "xref": "paper",
          "y": 0.465,
          "yanchor": "bottom",
          "yref": "paper"
         },
         {
          "showarrow": false,
          "text": "name=114Cd",
          "x": 0.18125,
          "xanchor": "center",
          "xref": "paper",
          "y": 0.465,
          "yanchor": "bottom",
          "yref": "paper"
         },
         {
          "showarrow": false,
          "text": "name=120Te",
          "x": 0.30874999999999997,
          "xanchor": "center",
          "xref": "paper",
          "y": 0.465,
          "yanchor": "bottom",
          "yref": "paper"
         },
         {
          "showarrow": false,
          "text": "name=122Te",
          "x": 0.43625,
          "xanchor": "center",
          "xref": "paper",
          "y": 0.465,
          "yanchor": "bottom",
          "yref": "paper"
         },
         {
          "showarrow": false,
          "text": "name=132Xe",
          "x": 0.56375,
          "xanchor": "center",
          "xref": "paper",
          "y": 0.465,
          "yanchor": "bottom",
          "yref": "paper"
         },
         {
          "showarrow": false,
          "text": "name=134Ba",
          "x": 0.6912499999999999,
          "xanchor": "center",
          "xref": "paper",
          "y": 0.465,
          "yanchor": "bottom",
          "yref": "paper"
         },
         {
          "showarrow": false,
          "text": "name=194Pt",
          "x": 0.8187500000000001,
          "xanchor": "center",
          "xref": "paper",
          "y": 0.465,
          "yanchor": "bottom",
          "yref": "paper"
         },
         {
          "showarrow": false,
          "text": "name=196Hg",
          "x": 0.94625,
          "xanchor": "center",
          "xref": "paper",
          "y": 0.465,
          "yanchor": "bottom",
          "yref": "paper"
         },
         {
          "showarrow": false,
          "text": "name=68Zn",
          "x": 0.05375,
          "xanchor": "center",
          "xref": "paper",
          "y": 0.7325,
          "yanchor": "bottom",
          "yref": "paper"
         },
         {
          "showarrow": false,
          "text": "name=74Ge",
          "x": 0.18125,
          "xanchor": "center",
          "xref": "paper",
          "y": 0.7325,
          "yanchor": "bottom",
          "yref": "paper"
         },
         {
          "showarrow": false,
          "text": "name=80Se",
          "x": 0.30874999999999997,
          "xanchor": "center",
          "xref": "paper",
          "y": 0.7325,
          "yanchor": "bottom",
          "yref": "paper"
         },
         {
          "showarrow": false,
          "text": "name=82Kr",
          "x": 0.43625,
          "xanchor": "center",
          "xref": "paper",
          "y": 0.7325,
          "yanchor": "bottom",
          "yref": "paper"
         },
         {
          "showarrow": false,
          "text": "name=86Kr",
          "x": 0.56375,
          "xanchor": "center",
          "xref": "paper",
          "y": 0.7325,
          "yanchor": "bottom",
          "yref": "paper"
         },
         {
          "showarrow": false,
          "text": "name=88Sr",
          "x": 0.6912499999999999,
          "xanchor": "center",
          "xref": "paper",
          "y": 0.7325,
          "yanchor": "bottom",
          "yref": "paper"
         },
         {
          "showarrow": false,
          "text": "name=94Zr",
          "x": 0.8187500000000001,
          "xanchor": "center",
          "xref": "paper",
          "y": 0.7325,
          "yanchor": "bottom",
          "yref": "paper"
         },
         {
          "showarrow": false,
          "text": "name=94Mo",
          "x": 0.94625,
          "xanchor": "center",
          "xref": "paper",
          "y": 0.7325,
          "yanchor": "bottom",
          "yref": "paper"
         },
         {
          "showarrow": false,
          "text": "name=12C",
          "x": 0.05375,
          "xanchor": "center",
          "xref": "paper",
          "y": 1,
          "yanchor": "bottom",
          "yref": "paper"
         },
         {
          "showarrow": false,
          "text": "name=22Ne",
          "x": 0.18125,
          "xanchor": "center",
          "xref": "paper",
          "y": 1,
          "yanchor": "bottom",
          "yref": "paper"
         },
         {
          "showarrow": false,
          "text": "name=30Si",
          "x": 0.30874999999999997,
          "xanchor": "center",
          "xref": "paper",
          "y": 1,
          "yanchor": "bottom",
          "yref": "paper"
         },
         {
          "showarrow": false,
          "text": "name=36S",
          "x": 0.43625,
          "xanchor": "center",
          "xref": "paper",
          "y": 1,
          "yanchor": "bottom",
          "yref": "paper"
         },
         {
          "showarrow": false,
          "text": "name=50Ti",
          "x": 0.56375,
          "xanchor": "center",
          "xref": "paper",
          "y": 1,
          "yanchor": "bottom",
          "yref": "paper"
         },
         {
          "showarrow": false,
          "text": "name=54Cr",
          "x": 0.6912499999999999,
          "xanchor": "center",
          "xref": "paper",
          "y": 1,
          "yanchor": "bottom",
          "yref": "paper"
         },
         {
          "showarrow": false,
          "text": "name=64Zn",
          "x": 0.8187500000000001,
          "xanchor": "center",
          "xref": "paper",
          "y": 1,
          "yanchor": "bottom",
          "yref": "paper"
         },
         {
          "showarrow": false,
          "text": "name=66Zn",
          "x": 0.94625,
          "xanchor": "center",
          "xref": "paper",
          "y": 1,
          "yanchor": "bottom",
          "yref": "paper"
         }
        ],
        "coloraxis": {
         "colorbar": {
          "title": {
           "text": "anharmonicity"
          }
         },
         "colorscale": [
          [
           0,
           "#0d0887"
          ],
          [
           0.1111111111111111,
           "#46039f"
          ],
          [
           0.2222222222222222,
           "#7201a8"
          ],
          [
           0.3333333333333333,
           "#9c179e"
          ],
          [
           0.4444444444444444,
           "#bd3786"
          ],
          [
           0.5555555555555556,
           "#d8576b"
          ],
          [
           0.6666666666666666,
           "#ed7953"
          ],
          [
           0.7777777777777778,
           "#fb9f3a"
          ],
          [
           0.8888888888888888,
           "#fdca26"
          ],
          [
           1,
           "#f0f921"
          ]
         ]
        },
        "legend": {
         "tracegroupgap": 0
        },
        "margin": {
         "t": 60
        },
        "shapes": [
         {
          "line": {
           "color": "black",
           "dash": "dash",
           "width": 1
          },
          "type": "line",
          "x0": 0,
          "x1": 1,
          "xref": "x domain",
          "y0": 0,
          "y1": 0,
          "yref": "y"
         },
         {
          "line": {
           "color": "black",
           "dash": "dash",
           "width": 1
          },
          "type": "line",
          "x0": 0,
          "x1": 1,
          "xref": "x2 domain",
          "y0": 0,
          "y1": 0,
          "yref": "y2"
         },
         {
          "line": {
           "color": "black",
           "dash": "dash",
           "width": 1
          },
          "type": "line",
          "x0": 0,
          "x1": 1,
          "xref": "x9 domain",
          "y0": 0,
          "y1": 0,
          "yref": "y9"
         },
         {
          "line": {
           "color": "black",
           "dash": "dash",
           "width": 1
          },
          "type": "line",
          "x0": 0,
          "x1": 1,
          "xref": "x10 domain",
          "y0": 0,
          "y1": 0,
          "yref": "y10"
         },
         {
          "line": {
           "color": "black",
           "dash": "dash",
           "width": 1
          },
          "type": "line",
          "x0": 0,
          "x1": 1,
          "xref": "x11 domain",
          "y0": 0,
          "y1": 0,
          "yref": "y11"
         },
         {
          "line": {
           "color": "black",
           "dash": "dash",
           "width": 1
          },
          "type": "line",
          "x0": 0,
          "x1": 1,
          "xref": "x12 domain",
          "y0": 0,
          "y1": 0,
          "yref": "y12"
         },
         {
          "line": {
           "color": "black",
           "dash": "dash",
           "width": 1
          },
          "type": "line",
          "x0": 0,
          "x1": 1,
          "xref": "x13 domain",
          "y0": 0,
          "y1": 0,
          "yref": "y13"
         },
         {
          "line": {
           "color": "black",
           "dash": "dash",
           "width": 1
          },
          "type": "line",
          "x0": 0,
          "x1": 1,
          "xref": "x14 domain",
          "y0": 0,
          "y1": 0,
          "yref": "y14"
         },
         {
          "line": {
           "color": "black",
           "dash": "dash",
           "width": 1
          },
          "type": "line",
          "x0": 0,
          "x1": 1,
          "xref": "x15 domain",
          "y0": 0,
          "y1": 0,
          "yref": "y15"
         },
         {
          "line": {
           "color": "black",
           "dash": "dash",
           "width": 1
          },
          "type": "line",
          "x0": 0,
          "x1": 1,
          "xref": "x16 domain",
          "y0": 0,
          "y1": 0,
          "yref": "y16"
         },
         {
          "line": {
           "color": "black",
           "dash": "dash",
           "width": 1
          },
          "type": "line",
          "x0": 0,
          "x1": 1,
          "xref": "x17 domain",
          "y0": 0,
          "y1": 0,
          "yref": "y17"
         },
         {
          "line": {
           "color": "black",
           "dash": "dash",
           "width": 1
          },
          "type": "line",
          "x0": 0,
          "x1": 1,
          "xref": "x18 domain",
          "y0": 0,
          "y1": 0,
          "yref": "y18"
         },
         {
          "line": {
           "color": "black",
           "dash": "dash",
           "width": 1
          },
          "type": "line",
          "x0": 0,
          "x1": 1,
          "xref": "x19 domain",
          "y0": 0,
          "y1": 0,
          "yref": "y19"
         },
         {
          "line": {
           "color": "black",
           "dash": "dash",
           "width": 1
          },
          "type": "line",
          "x0": 0,
          "x1": 1,
          "xref": "x20 domain",
          "y0": 0,
          "y1": 0,
          "yref": "y20"
         },
         {
          "line": {
           "color": "black",
           "dash": "dash",
           "width": 1
          },
          "type": "line",
          "x0": 0,
          "x1": 1,
          "xref": "x21 domain",
          "y0": 0,
          "y1": 0,
          "yref": "y21"
         },
         {
          "line": {
           "color": "black",
           "dash": "dash",
           "width": 1
          },
          "type": "line",
          "x0": 0,
          "x1": 1,
          "xref": "x22 domain",
          "y0": 0,
          "y1": 0,
          "yref": "y22"
         },
         {
          "line": {
           "color": "black",
           "dash": "dash",
           "width": 1
          },
          "type": "line",
          "x0": 0,
          "x1": 1,
          "xref": "x23 domain",
          "y0": 0,
          "y1": 0,
          "yref": "y23"
         },
         {
          "line": {
           "color": "black",
           "dash": "dash",
           "width": 1
          },
          "type": "line",
          "x0": 0,
          "x1": 1,
          "xref": "x24 domain",
          "y0": 0,
          "y1": 0,
          "yref": "y24"
         },
         {
          "line": {
           "color": "black",
           "dash": "dash",
           "width": 1
          },
          "type": "line",
          "x0": 0,
          "x1": 1,
          "xref": "x25 domain",
          "y0": 0,
          "y1": 0,
          "yref": "y25"
         },
         {
          "line": {
           "color": "black",
           "dash": "dash",
           "width": 1
          },
          "type": "line",
          "x0": 0,
          "x1": 1,
          "xref": "x26 domain",
          "y0": 0,
          "y1": 0,
          "yref": "y26"
         },
         {
          "line": {
           "color": "black",
           "dash": "dash",
           "width": 1
          },
          "type": "line",
          "x0": 0,
          "x1": 1,
          "xref": "x27 domain",
          "y0": 0,
          "y1": 0,
          "yref": "y27"
         },
         {
          "line": {
           "color": "black",
           "dash": "dash",
           "width": 1
          },
          "type": "line",
          "x0": 0,
          "x1": 1,
          "xref": "x28 domain",
          "y0": 0,
          "y1": 0,
          "yref": "y28"
         },
         {
          "line": {
           "color": "black",
           "dash": "dash",
           "width": 1
          },
          "type": "line",
          "x0": 0,
          "x1": 1,
          "xref": "x29 domain",
          "y0": 0,
          "y1": 0,
          "yref": "y29"
         },
         {
          "line": {
           "color": "black",
           "dash": "dash",
           "width": 1
          },
          "type": "line",
          "x0": 0,
          "x1": 1,
          "xref": "x30 domain",
          "y0": 0,
          "y1": 0,
          "yref": "y30"
         },
         {
          "line": {
           "color": "black",
           "dash": "dash",
           "width": 1
          },
          "type": "line",
          "x0": 0,
          "x1": 1,
          "xref": "x31 domain",
          "y0": 0,
          "y1": 0,
          "yref": "y31"
         },
         {
          "line": {
           "color": "black",
           "dash": "dash",
           "width": 1
          },
          "type": "line",
          "x0": 0,
          "x1": 1,
          "xref": "x32 domain",
          "y0": 0,
          "y1": 0,
          "yref": "y32"
         }
        ],
        "template": {
         "data": {
          "bar": [
           {
            "error_x": {
             "color": "#2a3f5f"
            },
            "error_y": {
             "color": "#2a3f5f"
            },
            "marker": {
             "line": {
              "color": "#E5ECF6",
              "width": 0.5
             },
             "pattern": {
              "fillmode": "overlay",
              "size": 10,
              "solidity": 0.2
             }
            },
            "type": "bar"
           }
          ],
          "barpolar": [
           {
            "marker": {
             "line": {
              "color": "#E5ECF6",
              "width": 0.5
             },
             "pattern": {
              "fillmode": "overlay",
              "size": 10,
              "solidity": 0.2
             }
            },
            "type": "barpolar"
           }
          ],
          "carpet": [
           {
            "aaxis": {
             "endlinecolor": "#2a3f5f",
             "gridcolor": "white",
             "linecolor": "white",
             "minorgridcolor": "white",
             "startlinecolor": "#2a3f5f"
            },
            "baxis": {
             "endlinecolor": "#2a3f5f",
             "gridcolor": "white",
             "linecolor": "white",
             "minorgridcolor": "white",
             "startlinecolor": "#2a3f5f"
            },
            "type": "carpet"
           }
          ],
          "choropleth": [
           {
            "colorbar": {
             "outlinewidth": 0,
             "ticks": ""
            },
            "type": "choropleth"
           }
          ],
          "contour": [
           {
            "colorbar": {
             "outlinewidth": 0,
             "ticks": ""
            },
            "colorscale": [
             [
              0,
              "#0d0887"
             ],
             [
              0.1111111111111111,
              "#46039f"
             ],
             [
              0.2222222222222222,
              "#7201a8"
             ],
             [
              0.3333333333333333,
              "#9c179e"
             ],
             [
              0.4444444444444444,
              "#bd3786"
             ],
             [
              0.5555555555555556,
              "#d8576b"
             ],
             [
              0.6666666666666666,
              "#ed7953"
             ],
             [
              0.7777777777777778,
              "#fb9f3a"
             ],
             [
              0.8888888888888888,
              "#fdca26"
             ],
             [
              1,
              "#f0f921"
             ]
            ],
            "type": "contour"
           }
          ],
          "contourcarpet": [
           {
            "colorbar": {
             "outlinewidth": 0,
             "ticks": ""
            },
            "type": "contourcarpet"
           }
          ],
          "heatmap": [
           {
            "colorbar": {
             "outlinewidth": 0,
             "ticks": ""
            },
            "colorscale": [
             [
              0,
              "#0d0887"
             ],
             [
              0.1111111111111111,
              "#46039f"
             ],
             [
              0.2222222222222222,
              "#7201a8"
             ],
             [
              0.3333333333333333,
              "#9c179e"
             ],
             [
              0.4444444444444444,
              "#bd3786"
             ],
             [
              0.5555555555555556,
              "#d8576b"
             ],
             [
              0.6666666666666666,
              "#ed7953"
             ],
             [
              0.7777777777777778,
              "#fb9f3a"
             ],
             [
              0.8888888888888888,
              "#fdca26"
             ],
             [
              1,
              "#f0f921"
             ]
            ],
            "type": "heatmap"
           }
          ],
          "heatmapgl": [
           {
            "colorbar": {
             "outlinewidth": 0,
             "ticks": ""
            },
            "colorscale": [
             [
              0,
              "#0d0887"
             ],
             [
              0.1111111111111111,
              "#46039f"
             ],
             [
              0.2222222222222222,
              "#7201a8"
             ],
             [
              0.3333333333333333,
              "#9c179e"
             ],
             [
              0.4444444444444444,
              "#bd3786"
             ],
             [
              0.5555555555555556,
              "#d8576b"
             ],
             [
              0.6666666666666666,
              "#ed7953"
             ],
             [
              0.7777777777777778,
              "#fb9f3a"
             ],
             [
              0.8888888888888888,
              "#fdca26"
             ],
             [
              1,
              "#f0f921"
             ]
            ],
            "type": "heatmapgl"
           }
          ],
          "histogram": [
           {
            "marker": {
             "pattern": {
              "fillmode": "overlay",
              "size": 10,
              "solidity": 0.2
             }
            },
            "type": "histogram"
           }
          ],
          "histogram2d": [
           {
            "colorbar": {
             "outlinewidth": 0,
             "ticks": ""
            },
            "colorscale": [
             [
              0,
              "#0d0887"
             ],
             [
              0.1111111111111111,
              "#46039f"
             ],
             [
              0.2222222222222222,
              "#7201a8"
             ],
             [
              0.3333333333333333,
              "#9c179e"
             ],
             [
              0.4444444444444444,
              "#bd3786"
             ],
             [
              0.5555555555555556,
              "#d8576b"
             ],
             [
              0.6666666666666666,
              "#ed7953"
             ],
             [
              0.7777777777777778,
              "#fb9f3a"
             ],
             [
              0.8888888888888888,
              "#fdca26"
             ],
             [
              1,
              "#f0f921"
             ]
            ],
            "type": "histogram2d"
           }
          ],
          "histogram2dcontour": [
           {
            "colorbar": {
             "outlinewidth": 0,
             "ticks": ""
            },
            "colorscale": [
             [
              0,
              "#0d0887"
             ],
             [
              0.1111111111111111,
              "#46039f"
             ],
             [
              0.2222222222222222,
              "#7201a8"
             ],
             [
              0.3333333333333333,
              "#9c179e"
             ],
             [
              0.4444444444444444,
              "#bd3786"
             ],
             [
              0.5555555555555556,
              "#d8576b"
             ],
             [
              0.6666666666666666,
              "#ed7953"
             ],
             [
              0.7777777777777778,
              "#fb9f3a"
             ],
             [
              0.8888888888888888,
              "#fdca26"
             ],
             [
              1,
              "#f0f921"
             ]
            ],
            "type": "histogram2dcontour"
           }
          ],
          "mesh3d": [
           {
            "colorbar": {
             "outlinewidth": 0,
             "ticks": ""
            },
            "type": "mesh3d"
           }
          ],
          "parcoords": [
           {
            "line": {
             "colorbar": {
              "outlinewidth": 0,
              "ticks": ""
             }
            },
            "type": "parcoords"
           }
          ],
          "pie": [
           {
            "automargin": true,
            "type": "pie"
           }
          ],
          "scatter": [
           {
            "fillpattern": {
             "fillmode": "overlay",
             "size": 10,
             "solidity": 0.2
            },
            "type": "scatter"
           }
          ],
          "scatter3d": [
           {
            "line": {
             "colorbar": {
              "outlinewidth": 0,
              "ticks": ""
             }
            },
            "marker": {
             "colorbar": {
              "outlinewidth": 0,
              "ticks": ""
             }
            },
            "type": "scatter3d"
           }
          ],
          "scattercarpet": [
           {
            "marker": {
             "colorbar": {
              "outlinewidth": 0,
              "ticks": ""
             }
            },
            "type": "scattercarpet"
           }
          ],
          "scattergeo": [
           {
            "marker": {
             "colorbar": {
              "outlinewidth": 0,
              "ticks": ""
             }
            },
            "type": "scattergeo"
           }
          ],
          "scattergl": [
           {
            "marker": {
             "colorbar": {
              "outlinewidth": 0,
              "ticks": ""
             }
            },
            "type": "scattergl"
           }
          ],
          "scattermapbox": [
           {
            "marker": {
             "colorbar": {
              "outlinewidth": 0,
              "ticks": ""
             }
            },
            "type": "scattermapbox"
           }
          ],
          "scatterpolar": [
           {
            "marker": {
             "colorbar": {
              "outlinewidth": 0,
              "ticks": ""
             }
            },
            "type": "scatterpolar"
           }
          ],
          "scatterpolargl": [
           {
            "marker": {
             "colorbar": {
              "outlinewidth": 0,
              "ticks": ""
             }
            },
            "type": "scatterpolargl"
           }
          ],
          "scatterternary": [
           {
            "marker": {
             "colorbar": {
              "outlinewidth": 0,
              "ticks": ""
             }
            },
            "type": "scatterternary"
           }
          ],
          "surface": [
           {
            "colorbar": {
             "outlinewidth": 0,
             "ticks": ""
            },
            "colorscale": [
             [
              0,
              "#0d0887"
             ],
             [
              0.1111111111111111,
              "#46039f"
             ],
             [
              0.2222222222222222,
              "#7201a8"
             ],
             [
              0.3333333333333333,
              "#9c179e"
             ],
             [
              0.4444444444444444,
              "#bd3786"
             ],
             [
              0.5555555555555556,
              "#d8576b"
             ],
             [
              0.6666666666666666,
              "#ed7953"
             ],
             [
              0.7777777777777778,
              "#fb9f3a"
             ],
             [
              0.8888888888888888,
              "#fdca26"
             ],
             [
              1,
              "#f0f921"
             ]
            ],
            "type": "surface"
           }
          ],
          "table": [
           {
            "cells": {
             "fill": {
              "color": "#EBF0F8"
             },
             "line": {
              "color": "white"
             }
            },
            "header": {
             "fill": {
              "color": "#C8D4E3"
             },
             "line": {
              "color": "white"
             }
            },
            "type": "table"
           }
          ]
         },
         "layout": {
          "annotationdefaults": {
           "arrowcolor": "#2a3f5f",
           "arrowhead": 0,
           "arrowwidth": 1
          },
          "autotypenumbers": "strict",
          "coloraxis": {
           "colorbar": {
            "outlinewidth": 0,
            "ticks": ""
           }
          },
          "colorscale": {
           "diverging": [
            [
             0,
             "#8e0152"
            ],
            [
             0.1,
             "#c51b7d"
            ],
            [
             0.2,
             "#de77ae"
            ],
            [
             0.3,
             "#f1b6da"
            ],
            [
             0.4,
             "#fde0ef"
            ],
            [
             0.5,
             "#f7f7f7"
            ],
            [
             0.6,
             "#e6f5d0"
            ],
            [
             0.7,
             "#b8e186"
            ],
            [
             0.8,
             "#7fbc41"
            ],
            [
             0.9,
             "#4d9221"
            ],
            [
             1,
             "#276419"
            ]
           ],
           "sequential": [
            [
             0,
             "#0d0887"
            ],
            [
             0.1111111111111111,
             "#46039f"
            ],
            [
             0.2222222222222222,
             "#7201a8"
            ],
            [
             0.3333333333333333,
             "#9c179e"
            ],
            [
             0.4444444444444444,
             "#bd3786"
            ],
            [
             0.5555555555555556,
             "#d8576b"
            ],
            [
             0.6666666666666666,
             "#ed7953"
            ],
            [
             0.7777777777777778,
             "#fb9f3a"
            ],
            [
             0.8888888888888888,
             "#fdca26"
            ],
            [
             1,
             "#f0f921"
            ]
           ],
           "sequentialminus": [
            [
             0,
             "#0d0887"
            ],
            [
             0.1111111111111111,
             "#46039f"
            ],
            [
             0.2222222222222222,
             "#7201a8"
            ],
            [
             0.3333333333333333,
             "#9c179e"
            ],
            [
             0.4444444444444444,
             "#bd3786"
            ],
            [
             0.5555555555555556,
             "#d8576b"
            ],
            [
             0.6666666666666666,
             "#ed7953"
            ],
            [
             0.7777777777777778,
             "#fb9f3a"
            ],
            [
             0.8888888888888888,
             "#fdca26"
            ],
            [
             1,
             "#f0f921"
            ]
           ]
          },
          "colorway": [
           "#636efa",
           "#EF553B",
           "#00cc96",
           "#ab63fa",
           "#FFA15A",
           "#19d3f3",
           "#FF6692",
           "#B6E880",
           "#FF97FF",
           "#FECB52"
          ],
          "font": {
           "color": "#2a3f5f"
          },
          "geo": {
           "bgcolor": "white",
           "lakecolor": "white",
           "landcolor": "#E5ECF6",
           "showlakes": true,
           "showland": true,
           "subunitcolor": "white"
          },
          "hoverlabel": {
           "align": "left"
          },
          "hovermode": "closest",
          "mapbox": {
           "style": "light"
          },
          "paper_bgcolor": "white",
          "plot_bgcolor": "#E5ECF6",
          "polar": {
           "angularaxis": {
            "gridcolor": "white",
            "linecolor": "white",
            "ticks": ""
           },
           "bgcolor": "#E5ECF6",
           "radialaxis": {
            "gridcolor": "white",
            "linecolor": "white",
            "ticks": ""
           }
          },
          "scene": {
           "xaxis": {
            "backgroundcolor": "#E5ECF6",
            "gridcolor": "white",
            "gridwidth": 2,
            "linecolor": "white",
            "showbackground": true,
            "ticks": "",
            "zerolinecolor": "white"
           },
           "yaxis": {
            "backgroundcolor": "#E5ECF6",
            "gridcolor": "white",
            "gridwidth": 2,
            "linecolor": "white",
            "showbackground": true,
            "ticks": "",
            "zerolinecolor": "white"
           },
           "zaxis": {
            "backgroundcolor": "#E5ECF6",
            "gridcolor": "white",
            "gridwidth": 2,
            "linecolor": "white",
            "showbackground": true,
            "ticks": "",
            "zerolinecolor": "white"
           }
          },
          "shapedefaults": {
           "line": {
            "color": "#2a3f5f"
           }
          },
          "ternary": {
           "aaxis": {
            "gridcolor": "white",
            "linecolor": "white",
            "ticks": ""
           },
           "baxis": {
            "gridcolor": "white",
            "linecolor": "white",
            "ticks": ""
           },
           "bgcolor": "#E5ECF6",
           "caxis": {
            "gridcolor": "white",
            "linecolor": "white",
            "ticks": ""
           }
          },
          "title": {
           "x": 0.05
          },
          "xaxis": {
           "automargin": true,
           "gridcolor": "white",
           "linecolor": "white",
           "ticks": "",
           "title": {
            "standoff": 15
           },
           "zerolinecolor": "white",
           "zerolinewidth": 2
          },
          "yaxis": {
           "automargin": true,
           "gridcolor": "white",
           "linecolor": "white",
           "ticks": "",
           "title": {
            "standoff": 15
           },
           "zerolinecolor": "white",
           "zerolinewidth": 2
          }
         }
        },
        "xaxis": {
         "anchor": "y",
         "domain": [
          0,
          0.1075
         ],
         "title": {
          "text": "quanta"
         }
        },
        "xaxis10": {
         "anchor": "y10",
         "domain": [
          0.1275,
          0.235
         ],
         "matches": "x",
         "showticklabels": false
        },
        "xaxis11": {
         "anchor": "y11",
         "domain": [
          0.255,
          0.3625
         ],
         "matches": "x",
         "showticklabels": false
        },
        "xaxis12": {
         "anchor": "y12",
         "domain": [
          0.3825,
          0.49
         ],
         "matches": "x",
         "showticklabels": false
        },
        "xaxis13": {
         "anchor": "y13",
         "domain": [
          0.51,
          0.6175
         ],
         "matches": "x",
         "showticklabels": false
        },
        "xaxis14": {
         "anchor": "y14",
         "domain": [
          0.6375,
          0.745
         ],
         "matches": "x",
         "showticklabels": false
        },
        "xaxis15": {
         "anchor": "y15",
         "domain": [
          0.765,
          0.8725
         ],
         "matches": "x",
         "showticklabels": false
        },
        "xaxis16": {
         "anchor": "y16",
         "domain": [
          0.8925,
          1
         ],
         "matches": "x",
         "showticklabels": false
        },
        "xaxis17": {
         "anchor": "y17",
         "domain": [
          0,
          0.1075
         ],
         "matches": "x",
         "showticklabels": false
        },
        "xaxis18": {
         "anchor": "y18",
         "domain": [
          0.1275,
          0.235
         ],
         "matches": "x",
         "showticklabels": false
        },
        "xaxis19": {
         "anchor": "y19",
         "domain": [
          0.255,
          0.3625
         ],
         "matches": "x",
         "showticklabels": false
        },
        "xaxis2": {
         "anchor": "y2",
         "domain": [
          0.1275,
          0.235
         ],
         "matches": "x",
         "title": {
          "text": "quanta"
         }
        },
        "xaxis20": {
         "anchor": "y20",
         "domain": [
          0.3825,
          0.49
         ],
         "matches": "x",
         "showticklabels": false
        },
        "xaxis21": {
         "anchor": "y21",
         "domain": [
          0.51,
          0.6175
         ],
         "matches": "x",
         "showticklabels": false
        },
        "xaxis22": {
         "anchor": "y22",
         "domain": [
          0.6375,
          0.745
         ],
         "matches": "x",
         "showticklabels": false
        },
        "xaxis23": {
         "anchor": "y23",
         "domain": [
          0.765,
          0.8725
         ],
         "matches": "x",
         "showticklabels": false
        },
        "xaxis24": {
         "anchor": "y24",
         "domain": [
          0.8925,
          1
         ],
         "matches": "x",
         "showticklabels": false
        },
        "xaxis25": {
         "anchor": "y25",
         "domain": [
          0,
          0.1075
         ],
         "matches": "x",
         "showticklabels": false
        },
        "xaxis26": {
         "anchor": "y26",
         "domain": [
          0.1275,
          0.235
         ],
         "matches": "x",
         "showticklabels": false
        },
        "xaxis27": {
         "anchor": "y27",
         "domain": [
          0.255,
          0.3625
         ],
         "matches": "x",
         "showticklabels": false
        },
        "xaxis28": {
         "anchor": "y28",
         "domain": [
          0.3825,
          0.49
         ],
         "matches": "x",
         "showticklabels": false
        },
        "xaxis29": {
         "anchor": "y29",
         "domain": [
          0.51,
          0.6175
         ],
         "matches": "x",
         "showticklabels": false
        },
        "xaxis3": {
         "anchor": "y3",
         "domain": [
          0.255,
          0.3625
         ],
         "matches": "x",
         "title": {
          "text": "quanta"
         }
        },
        "xaxis30": {
         "anchor": "y30",
         "domain": [
          0.6375,
          0.745
         ],
         "matches": "x",
         "showticklabels": false
        },
        "xaxis31": {
         "anchor": "y31",
         "domain": [
          0.765,
          0.8725
         ],
         "matches": "x",
         "showticklabels": false
        },
        "xaxis32": {
         "anchor": "y32",
         "domain": [
          0.8925,
          1
         ],
         "matches": "x",
         "showticklabels": false
        },
        "xaxis4": {
         "anchor": "y4",
         "domain": [
          0.3825,
          0.49
         ],
         "matches": "x",
         "title": {
          "text": "quanta"
         }
        },
        "xaxis5": {
         "anchor": "y5",
         "domain": [
          0.51,
          0.6175
         ],
         "matches": "x",
         "title": {
          "text": "quanta"
         }
        },
        "xaxis6": {
         "anchor": "y6",
         "domain": [
          0.6375,
          0.745
         ],
         "matches": "x",
         "title": {
          "text": "quanta"
         }
        },
        "xaxis7": {
         "anchor": "y7",
         "domain": [
          0.765,
          0.8725
         ],
         "matches": "x",
         "title": {
          "text": "quanta"
         }
        },
        "xaxis8": {
         "anchor": "y8",
         "domain": [
          0.8925,
          1
         ],
         "matches": "x",
         "title": {
          "text": "quanta"
         }
        },
        "xaxis9": {
         "anchor": "y9",
         "domain": [
          0,
          0.1075
         ],
         "matches": "x",
         "showticklabels": false
        },
        "yaxis": {
         "anchor": "x",
         "domain": [
          0,
          0.1975
         ],
         "title": {
          "text": "residuals"
         }
        },
        "yaxis10": {
         "anchor": "x10",
         "domain": [
          0.2675,
          0.465
         ],
         "matches": "y",
         "showticklabels": false
        },
        "yaxis11": {
         "anchor": "x11",
         "domain": [
          0.2675,
          0.465
         ],
         "matches": "y",
         "showticklabels": false
        },
        "yaxis12": {
         "anchor": "x12",
         "domain": [
          0.2675,
          0.465
         ],
         "matches": "y",
         "showticklabels": false
        },
        "yaxis13": {
         "anchor": "x13",
         "domain": [
          0.2675,
          0.465
         ],
         "matches": "y",
         "showticklabels": false
        },
        "yaxis14": {
         "anchor": "x14",
         "domain": [
          0.2675,
          0.465
         ],
         "matches": "y",
         "showticklabels": false
        },
        "yaxis15": {
         "anchor": "x15",
         "domain": [
          0.2675,
          0.465
         ],
         "matches": "y",
         "showticklabels": false
        },
        "yaxis16": {
         "anchor": "x16",
         "domain": [
          0.2675,
          0.465
         ],
         "matches": "y",
         "showticklabels": false
        },
        "yaxis17": {
         "anchor": "x17",
         "domain": [
          0.535,
          0.7325
         ],
         "matches": "y",
         "title": {
          "text": "residuals"
         }
        },
        "yaxis18": {
         "anchor": "x18",
         "domain": [
          0.535,
          0.7325
         ],
         "matches": "y",
         "showticklabels": false
        },
        "yaxis19": {
         "anchor": "x19",
         "domain": [
          0.535,
          0.7325
         ],
         "matches": "y",
         "showticklabels": false
        },
        "yaxis2": {
         "anchor": "x2",
         "domain": [
          0,
          0.1975
         ],
         "matches": "y",
         "showticklabels": false
        },
        "yaxis20": {
         "anchor": "x20",
         "domain": [
          0.535,
          0.7325
         ],
         "matches": "y",
         "showticklabels": false
        },
        "yaxis21": {
         "anchor": "x21",
         "domain": [
          0.535,
          0.7325
         ],
         "matches": "y",
         "showticklabels": false
        },
        "yaxis22": {
         "anchor": "x22",
         "domain": [
          0.535,
          0.7325
         ],
         "matches": "y",
         "showticklabels": false
        },
        "yaxis23": {
         "anchor": "x23",
         "domain": [
          0.535,
          0.7325
         ],
         "matches": "y",
         "showticklabels": false
        },
        "yaxis24": {
         "anchor": "x24",
         "domain": [
          0.535,
          0.7325
         ],
         "matches": "y",
         "showticklabels": false
        },
        "yaxis25": {
         "anchor": "x25",
         "domain": [
          0.8025,
          1
         ],
         "matches": "y",
         "title": {
          "text": "residuals"
         }
        },
        "yaxis26": {
         "anchor": "x26",
         "domain": [
          0.8025,
          1
         ],
         "matches": "y",
         "showticklabels": false
        },
        "yaxis27": {
         "anchor": "x27",
         "domain": [
          0.8025,
          1
         ],
         "matches": "y",
         "showticklabels": false
        },
        "yaxis28": {
         "anchor": "x28",
         "domain": [
          0.8025,
          1
         ],
         "matches": "y",
         "showticklabels": false
        },
        "yaxis29": {
         "anchor": "x29",
         "domain": [
          0.8025,
          1
         ],
         "matches": "y",
         "showticklabels": false
        },
        "yaxis3": {
         "anchor": "x3",
         "domain": [
          0,
          0.1975
         ],
         "matches": "y",
         "showticklabels": false
        },
        "yaxis30": {
         "anchor": "x30",
         "domain": [
          0.8025,
          1
         ],
         "matches": "y",
         "showticklabels": false
        },
        "yaxis31": {
         "anchor": "x31",
         "domain": [
          0.8025,
          1
         ],
         "matches": "y",
         "showticklabels": false
        },
        "yaxis32": {
         "anchor": "x32",
         "domain": [
          0.8025,
          1
         ],
         "matches": "y",
         "showticklabels": false
        },
        "yaxis4": {
         "anchor": "x4",
         "domain": [
          0,
          0.1975
         ],
         "matches": "y",
         "showticklabels": false
        },
        "yaxis5": {
         "anchor": "x5",
         "domain": [
          0,
          0.1975
         ],
         "matches": "y",
         "showticklabels": false
        },
        "yaxis6": {
         "anchor": "x6",
         "domain": [
          0,
          0.1975
         ],
         "matches": "y",
         "showticklabels": false
        },
        "yaxis7": {
         "anchor": "x7",
         "domain": [
          0,
          0.1975
         ],
         "matches": "y",
         "showticklabels": false
        },
        "yaxis8": {
         "anchor": "x8",
         "domain": [
          0,
          0.1975
         ],
         "matches": "y",
         "showticklabels": false
        },
        "yaxis9": {
         "anchor": "x9",
         "domain": [
          0.2675,
          0.465
         ],
         "matches": "y",
         "title": {
          "text": "residuals"
         }
        }
       }
      }
     },
     "metadata": {},
     "output_type": "display_data"
    }
   ],
   "source": [
    "residuals_df = best_osc_merged.copy()\n",
    "residuals_df = residuals_df.reset_index()\n",
    "residuals_df[\"name\"] = residuals_df[\"a\"].astype(str) + residuals_df[\"symbol\"]\n",
    "residuals_df[\"residuals\"] = residuals_df[\"energy\"] - residuals_df[\"energy_pred\"]\n",
    "\n",
    "best_residuals = get_best_r2(residuals_df, 0.999)\n",
    "\n",
    "fig = px.scatter(best_residuals, x=\"quanta\", y=\"residuals\", color='anharmonicity', facet_col=\"name\", facet_col_wrap=8)\n",
    "fig.add_hline(y=0, line_width=1, line_dash=\"dash\", line_color=\"black\")\n",
    "fig.show()"
   ]
  },
  {
   "cell_type": "code",
   "execution_count": 167,
   "metadata": {},
   "outputs": [
    {
     "name": "stdout",
     "output_type": "stream",
     "text": [
      "0 0 12C\n",
      "0 1 22Ne\n",
      "0 2 30Si\n",
      "0 3 36S\n",
      "0 4 50Ti\n",
      "0 5 54Cr\n",
      "0 6 64Zn\n",
      "0 7 66Zn\n",
      "1 0 68Zn\n",
      "1 1 74Ge\n",
      "1 2 80Se\n",
      "1 3 82Kr\n",
      "1 4 86Kr\n",
      "1 5 88Sr\n",
      "1 6 94Zr\n",
      "1 7 94Mo\n",
      "2 0 98Mo\n",
      "2 1 114Cd\n",
      "2 2 120Te\n",
      "2 3 122Te\n",
      "2 4 132Xe\n",
      "2 5 134Ba\n",
      "2 6 194Pt\n",
      "2 7 196Hg\n",
      "3 0 202Hg\n",
      "3 1 204Hg\n"
     ]
    },
    {
     "data": {
      "application/vnd.plotly.v1+json": {
       "config": {
        "plotlyServerURL": "https://plot.ly"
       },
       "data": [
        {
         "mode": "markers",
         "type": "scatter",
         "x": [
          0,
          1,
          2
         ],
         "xaxis": "x",
         "y": [
          0,
          4.43982,
          13.3
         ],
         "yaxis": "y"
        },
        {
         "mode": "lines",
         "type": "scatter",
         "x": [
          0,
          1,
          2
         ],
         "xaxis": "x",
         "y": [
          0,
          4.43982,
          8.87964
         ],
         "yaxis": "y"
        },
        {
         "mode": "lines",
         "type": "scatter",
         "x": [
          0,
          1,
          2
         ],
         "xaxis": "x",
         "y": [
          0,
          4.43982,
          13.3
         ],
         "yaxis": "y"
        },
        {
         "mode": "markers",
         "type": "scatter",
         "x": [
          0,
          1,
          2
         ],
         "xaxis": "x2",
         "y": [
          0,
          1.274537,
          3.3571999999999997
         ],
         "yaxis": "y2"
        },
        {
         "mode": "lines",
         "type": "scatter",
         "x": [
          0,
          1,
          2
         ],
         "xaxis": "x2",
         "y": [
          0,
          1.274537,
          2.549074
         ],
         "yaxis": "y2"
        },
        {
         "mode": "lines",
         "type": "scatter",
         "x": [
          0,
          1,
          2
         ],
         "xaxis": "x2",
         "y": [
          0,
          1.274537,
          3.3571999999999997
         ],
         "yaxis": "y2"
        },
        {
         "mode": "markers",
         "type": "scatter",
         "x": [
          0,
          1,
          2,
          3
         ],
         "xaxis": "x3",
         "y": [
          0,
          2.235325,
          5.27925,
          9.367
         ],
         "yaxis": "y3"
        },
        {
         "mode": "lines",
         "type": "scatter",
         "x": [
          0,
          1,
          2,
          3
         ],
         "xaxis": "x3",
         "y": [
          0,
          2.1981842105289298,
          4.3963684210578595,
          6.594552631586789
         ],
         "yaxis": "y3"
        },
        {
         "mode": "lines",
         "type": "scatter",
         "x": [
          0,
          1,
          2,
          3
         ],
         "xaxis": "x3",
         "y": [
          0,
          2.1981842105289298,
          5.316390789478738,
          9.354619736849424
         ],
         "yaxis": "y3"
        },
        {
         "mode": "markers",
         "type": "scatter",
         "x": [
          0,
          1,
          2
         ],
         "xaxis": "x4",
         "y": [
          0,
          3.2909,
          6.514399999999999
         ],
         "yaxis": "y4"
        },
        {
         "mode": "lines",
         "type": "scatter",
         "x": [
          0,
          1,
          2
         ],
         "xaxis": "x4",
         "y": [
          0,
          3.2909,
          6.5818
         ],
         "yaxis": "y4"
        },
        {
         "mode": "lines",
         "type": "scatter",
         "x": [
          0,
          1,
          2
         ],
         "xaxis": "x4",
         "y": [
          0,
          3.2909,
          6.5144
         ],
         "yaxis": "y4"
        },
        {
         "mode": "markers",
         "type": "scatter",
         "x": [
          0,
          1,
          2,
          3
         ],
         "xaxis": "x5",
         "y": [
          0,
          1.5537940000000001,
          2.6749319999999996,
          3.19873
         ],
         "yaxis": "y5"
        },
        {
         "mode": "lines",
         "type": "scatter",
         "x": [
          0,
          1,
          2,
          3
         ],
         "xaxis": "x5",
         "y": [
          0,
          1.5797967374278137,
          3.1595934748556274,
          4.739390212283441
         ],
         "yaxis": "y5"
        },
        {
         "mode": "lines",
         "type": "scatter",
         "x": [
          0,
          1,
          2,
          3
         ],
         "xaxis": "x5",
         "y": [
          0,
          1.5797967374278137,
          2.6489292635838644,
          3.207397578468152
         ],
         "yaxis": "y5"
        },
        {
         "mode": "markers",
         "type": "scatter",
         "x": [
          0,
          1,
          2,
          3
         ],
         "xaxis": "x6",
         "y": [
          0,
          0.834855,
          1.82393,
          3.22245
         ],
         "yaxis": "y6"
        },
        {
         "mode": "lines",
         "type": "scatter",
         "x": [
          0,
          1,
          2,
          3
         ],
         "xaxis": "x6",
         "y": [
          0,
          0.7945563168308066,
          1.5891126336616133,
          2.38366895049242
         ],
         "yaxis": "y6"
        },
        {
         "mode": "lines",
         "type": "scatter",
         "x": [
          0,
          1,
          2,
          3
         ],
         "xaxis": "x6",
         "y": [
          0,
          0.7945563168308066,
          1.8642286850022123,
          3.209017104514217
         ],
         "yaxis": "y6"
        },
        {
         "mode": "markers",
         "type": "scatter",
         "x": [
          0,
          1,
          2,
          3
         ],
         "xaxis": "x7",
         "y": [
          0,
          0.99154,
          2.30672,
          3.99336
         ],
         "yaxis": "y7"
        },
        {
         "mode": "lines",
         "type": "scatter",
         "x": [
          0,
          1,
          2,
          3
         ],
         "xaxis": "x7",
         "y": [
          0,
          0.9839894736841754,
          1.9679789473683509,
          2.951968421052526
         ],
         "yaxis": "y7"
        },
        {
         "mode": "lines",
         "type": "scatter",
         "x": [
          0,
          1,
          2,
          3
         ],
         "xaxis": "x7",
         "y": [
          0,
          0.9839894736841754,
          2.3142705263142935,
          3.9908431578903545
         ],
         "yaxis": "y7"
        },
        {
         "mode": "markers",
         "type": "scatter",
         "x": [
          0,
          1,
          2
         ],
         "xaxis": "x8",
         "y": [
          0,
          1.0392279,
          2.45101
         ],
         "yaxis": "y8"
        },
        {
         "mode": "lines",
         "type": "scatter",
         "x": [
          0,
          1,
          2
         ],
         "xaxis": "x8",
         "y": [
          0,
          1.0392279,
          2.0784558
         ],
         "yaxis": "y8"
        },
        {
         "mode": "lines",
         "type": "scatter",
         "x": [
          0,
          1,
          2
         ],
         "xaxis": "x8",
         "y": [
          0,
          1.0392279,
          2.45101
         ],
         "yaxis": "y8"
        },
        {
         "mode": "markers",
         "type": "scatter",
         "x": [
          0,
          1,
          2
         ],
         "xaxis": "x10",
         "y": [
          0,
          1.07737,
          2.4174
         ],
         "yaxis": "y10"
        },
        {
         "mode": "lines",
         "type": "scatter",
         "x": [
          0,
          1,
          2
         ],
         "xaxis": "x10",
         "y": [
          0,
          1.07737,
          2.15474
         ],
         "yaxis": "y10"
        },
        {
         "mode": "lines",
         "type": "scatter",
         "x": [
          0,
          1,
          2
         ],
         "xaxis": "x10",
         "y": [
          0,
          1.07737,
          2.4174
         ],
         "yaxis": "y10"
        },
        {
         "mode": "markers",
         "type": "scatter",
         "x": [
          0,
          1,
          2
         ],
         "xaxis": "x11",
         "y": [
          0,
          0.59585,
          1.463759
         ],
         "yaxis": "y11"
        },
        {
         "mode": "lines",
         "type": "scatter",
         "x": [
          0,
          1,
          2
         ],
         "xaxis": "x11",
         "y": [
          0,
          0.59585,
          1.1917
         ],
         "yaxis": "y11"
        },
        {
         "mode": "lines",
         "type": "scatter",
         "x": [
          0,
          1,
          2
         ],
         "xaxis": "x11",
         "y": [
          0,
          0.59585,
          1.463759
         ],
         "yaxis": "y11"
        },
        {
         "mode": "markers",
         "type": "scatter",
         "x": [
          0,
          1,
          2
         ],
         "xaxis": "x12",
         "y": [
          0,
          0.66627,
          1.7014500000000001
         ],
         "yaxis": "y12"
        },
        {
         "mode": "lines",
         "type": "scatter",
         "x": [
          0,
          1,
          2
         ],
         "xaxis": "x12",
         "y": [
          0,
          0.66627,
          1.33254
         ],
         "yaxis": "y12"
        },
        {
         "mode": "lines",
         "type": "scatter",
         "x": [
          0,
          1,
          2
         ],
         "xaxis": "x12",
         "y": [
          0,
          0.66627,
          1.7014500000000004
         ],
         "yaxis": "y12"
        },
        {
         "mode": "markers",
         "type": "scatter",
         "x": [
          0,
          1,
          2
         ],
         "xaxis": "x13",
         "y": [
          0,
          0.7765259999999999,
          1.8205360000000002
         ],
         "yaxis": "y13"
        },
        {
         "mode": "lines",
         "type": "scatter",
         "x": [
          0,
          1,
          2
         ],
         "xaxis": "x13",
         "y": [
          0,
          0.7765259999999999,
          1.5530519999999999
         ],
         "yaxis": "y13"
        },
        {
         "mode": "lines",
         "type": "scatter",
         "x": [
          0,
          1,
          2
         ],
         "xaxis": "x13",
         "y": [
          0,
          0.7765259999999999,
          1.8205360000000002
         ],
         "yaxis": "y13"
        },
        {
         "mode": "markers",
         "type": "scatter",
         "x": [
          0,
          1,
          2
         ],
         "xaxis": "x14",
         "y": [
          0,
          1.5646099999999998,
          2.25001
         ],
         "yaxis": "y14"
        },
        {
         "mode": "lines",
         "type": "scatter",
         "x": [
          0,
          1,
          2
         ],
         "xaxis": "x14",
         "y": [
          0,
          1.5646099999999998,
          3.1292199999999997
         ],
         "yaxis": "y14"
        },
        {
         "mode": "lines",
         "type": "scatter",
         "x": [
          0,
          1,
          2
         ],
         "xaxis": "x14",
         "y": [
          0,
          1.5646099999999998,
          2.2500099999999996
         ],
         "yaxis": "y14"
        },
        {
         "mode": "markers",
         "type": "scatter",
         "x": [
          0,
          1,
          2
         ],
         "xaxis": "x15",
         "y": [
          0,
          1.83609,
          4.232
         ],
         "yaxis": "y15"
        },
        {
         "mode": "lines",
         "type": "scatter",
         "x": [
          0,
          1,
          2
         ],
         "xaxis": "x15",
         "y": [
          0,
          1.83609,
          3.67218
         ],
         "yaxis": "y15"
        },
        {
         "mode": "lines",
         "type": "scatter",
         "x": [
          0,
          1,
          2
         ],
         "xaxis": "x15",
         "y": [
          0,
          1.83609,
          4.232
         ],
         "yaxis": "y15"
        },
        {
         "mode": "markers",
         "type": "scatter",
         "x": [
          0,
          1,
          2
         ],
         "xaxis": "x16",
         "y": [
          0,
          0.91875,
          1.46962
         ],
         "yaxis": "y16"
        },
        {
         "mode": "lines",
         "type": "scatter",
         "x": [
          0,
          1,
          2
         ],
         "xaxis": "x16",
         "y": [
          0,
          0.91875,
          1.8375
         ],
         "yaxis": "y16"
        },
        {
         "mode": "lines",
         "type": "scatter",
         "x": [
          0,
          1,
          2
         ],
         "xaxis": "x16",
         "y": [
          0,
          0.91875,
          1.46962
         ],
         "yaxis": "y16"
        },
        {
         "mode": "markers",
         "type": "scatter",
         "x": [
          0,
          1,
          2,
          3,
          4
         ],
         "xaxis": "x17",
         "y": [
          0,
          0.8710979999999999,
          1.57376,
          2.42345,
          2.95555
         ],
         "yaxis": "y17"
        },
        {
         "mode": "lines",
         "type": "scatter",
         "x": [
          0,
          1,
          2,
          3,
          4
         ],
         "xaxis": "x17",
         "y": [
          0,
          0.8294890096572223,
          1.6589780193144446,
          2.488467028971667,
          3.317956038628889
         ],
         "yaxis": "y17"
        },
        {
         "mode": "lines",
         "type": "scatter",
         "x": [
          0,
          1,
          2,
          3,
          4
         ],
         "xaxis": "x17",
         "y": [
          0,
          0.8294890096572223,
          1.6289186584693536,
          2.398288946436394,
          2.9572437084877974
         ],
         "yaxis": "y17"
        },
        {
         "mode": "markers",
         "type": "scatter",
         "x": [
          0,
          1,
          2,
          3
         ],
         "xaxis": "x19",
         "y": [
          0,
          0.787384,
          1.510047,
          2.34362
         ],
         "yaxis": "y19"
        },
        {
         "mode": "lines",
         "type": "scatter",
         "x": [
          0,
          1,
          2,
          3
         ],
         "xaxis": "x19",
         "y": [
          0,
          0.7596527894731602,
          1.5193055789463203,
          2.2789583684194805
         ],
         "yaxis": "y19"
        },
        {
         "mode": "lines",
         "type": "scatter",
         "x": [
          0,
          1,
          2,
          3
         ],
         "xaxis": "x19",
         "y": [
          0,
          0.7596527894731602,
          1.5377782105231264,
          2.334376263149899
         ],
         "yaxis": "y19"
        },
        {
         "mode": "markers",
         "type": "scatter",
         "x": [
          0,
          1,
          2,
          3
         ],
         "xaxis": "x20",
         "y": [
          0,
          0.5584560000000001,
          1.283739,
          1.9903
         ],
         "yaxis": "y20"
        },
        {
         "mode": "lines",
         "type": "scatter",
         "x": [
          0,
          1,
          2,
          3
         ],
         "xaxis": "x20",
         "y": [
          0,
          0.5877532105254171,
          1.1755064210508341,
          1.7632596315762512
         ],
         "yaxis": "y20"
        },
        {
         "mode": "lines",
         "type": "scatter",
         "x": [
          0,
          1,
          2,
          3
         ],
         "xaxis": "x20",
         "y": [
          0,
          0.5877532105254171,
          1.2544417894698772,
          2.0000657368333803
         ],
         "yaxis": "y20"
        },
        {
         "mode": "markers",
         "type": "scatter",
         "x": [
          0,
          1,
          2,
          3,
          4
         ],
         "xaxis": "x21",
         "y": [
          0,
          0.560438,
          1.16156,
          1.77623,
          2.65297
         ],
         "yaxis": "y21"
        },
        {
         "mode": "lines",
         "type": "scatter",
         "x": [
          0,
          1,
          2,
          3,
          4
         ],
         "xaxis": "x21",
         "y": [
          0,
          0.5598667269525079,
          1.1197334539050159,
          1.6796001808575238,
          2.2394669078100318
         ],
         "yaxis": "y21"
        },
        {
         "mode": "lines",
         "type": "scatter",
         "x": [
          0,
          1,
          2,
          3,
          4
         ],
         "xaxis": "x21",
         "y": [
          0,
          0.5598667269525079,
          1.1541084740960619,
          1.7827252414306614,
          2.6519671501025823
         ],
         "yaxis": "y21"
        },
        {
         "mode": "markers",
         "type": "scatter",
         "x": [
          0,
          1,
          2,
          3,
          4
         ],
         "xaxis": "x22",
         "y": [
          0,
          0.5640940000000001,
          1.181248,
          1.75132,
          2.6697800000000003
         ],
         "yaxis": "y22"
        },
        {
         "mode": "lines",
         "type": "scatter",
         "x": [
          0,
          1,
          2,
          3,
          4
         ],
         "xaxis": "x22",
         "y": [
          0,
          0.5570743353809479,
          1.1141486707618957,
          1.6712230061428435,
          2.2282973415237914
         ],
         "yaxis": "y22"
        },
        {
         "mode": "lines",
         "type": "scatter",
         "x": [
          0,
          1,
          2,
          3,
          4
         ],
         "xaxis": "x22",
         "y": [
          0,
          0.5570743353809479,
          1.150545957853736,
          1.7804148674183644,
          2.665064786625875
         ],
         "yaxis": "y22"
        },
        {
         "mode": "markers",
         "type": "scatter",
         "x": [
          0,
          1,
          2,
          3
         ],
         "xaxis": "x23",
         "y": [
          0,
          0.6677150000000001,
          1.440323,
          2.11188
         ],
         "yaxis": "y23"
        },
        {
         "mode": "lines",
         "type": "scatter",
         "x": [
          0,
          1,
          2,
          3
         ],
         "xaxis": "x23",
         "y": [
          0,
          0.7002324736835568,
          1.4004649473671136,
          2.10069742105067
         ],
         "yaxis": "y23"
        },
        {
         "mode": "lines",
         "type": "scatter",
         "x": [
          0,
          1,
          2,
          3
         ],
         "xaxis": "x23",
         "y": [
          0,
          0.7002324736835568,
          1.4078055263123168,
          2.12271915788628
         ],
         "yaxis": "y23"
        },
        {
         "mode": "markers",
         "type": "scatter",
         "x": [
          0,
          1,
          2
         ],
         "xaxis": "x24",
         "y": [
          0,
          0.6047223,
          1.40059
         ],
         "yaxis": "y24"
        },
        {
         "mode": "lines",
         "type": "scatter",
         "x": [
          0,
          1,
          2
         ],
         "xaxis": "x24",
         "y": [
          0,
          0.6047223,
          1.2094446
         ],
         "yaxis": "y24"
        },
        {
         "mode": "lines",
         "type": "scatter",
         "x": [
          0,
          1,
          2
         ],
         "xaxis": "x24",
         "y": [
          0,
          0.6047223,
          1.40059
         ],
         "yaxis": "y24"
        },
        {
         "mode": "markers",
         "type": "scatter",
         "x": [
          0,
          1,
          2,
          3
         ],
         "xaxis": "x25",
         "y": [
          0,
          0.328473,
          0.811288,
          1.41183
         ],
         "yaxis": "y25"
        },
        {
         "mode": "lines",
         "type": "scatter",
         "x": [
          0,
          1,
          2,
          3
         ],
         "xaxis": "x25",
         "y": [
          0,
          0.33425431578802156,
          0.6685086315760431,
          1.0027629473640647
         ],
         "yaxis": "y25"
        },
        {
         "mode": "lines",
         "type": "scatter",
         "x": [
          0,
          1,
          2,
          3
         ],
         "xaxis": "x25",
         "y": [
          0,
          0.33425431578802156,
          0.8055066842057397,
          1.4137571052531543
         ],
         "yaxis": "y25"
        },
        {
         "mode": "markers",
         "type": "scatter",
         "x": [
          0,
          1,
          2
         ],
         "xaxis": "x26",
         "y": [
          0,
          0.42598,
          1.0614400000000002
         ],
         "yaxis": "y26"
        },
        {
         "mode": "lines",
         "type": "scatter",
         "x": [
          0,
          1,
          2
         ],
         "xaxis": "x26",
         "y": [
          0,
          0.42598,
          0.85196
         ],
         "yaxis": "y26"
        },
        {
         "mode": "lines",
         "type": "scatter",
         "x": [
          0,
          1,
          2
         ],
         "xaxis": "x26",
         "y": [
          0,
          0.42598,
          1.0614400000000002
         ],
         "yaxis": "y26"
        },
        {
         "mode": "markers",
         "type": "scatter",
         "x": [
          0,
          1,
          2,
          3
         ],
         "xaxis": "x28",
         "y": [
          0,
          0.439564,
          1.1199100000000002,
          1.98882
         ],
         "yaxis": "y28"
        },
        {
         "mode": "lines",
         "type": "scatter",
         "x": [
          0,
          1,
          2,
          3
         ],
         "xaxis": "x28",
         "y": [
          0,
          0.44780894736721677,
          0.8956178947344335,
          1.3434268421016502
         ],
         "yaxis": "y28"
        },
        {
         "mode": "lines",
         "type": "scatter",
         "x": [
          0,
          1,
          2,
          3
         ],
         "xaxis": "x28",
         "y": [
          0,
          0.44780894736721677,
          1.1116650526274603,
          1.9915683157807305
         ],
         "yaxis": "y28"
        },
        {
         "mode": "markers",
         "type": "scatter",
         "x": [
          0,
          1,
          2,
          3
         ],
         "xaxis": "x29",
         "y": [
          0,
          0.436552,
          1.12823,
          2.1910100000000003
         ],
         "yaxis": "y29"
        },
        {
         "mode": "lines",
         "type": "scatter",
         "x": [
          0,
          1,
          2,
          3
         ],
         "xaxis": "x29",
         "y": [
          0,
          0.4182400000267586,
          0.8364800000535172,
          1.2547200000802758
         ],
         "yaxis": "y29"
        },
        {
         "mode": "lines",
         "type": "scatter",
         "x": [
          0,
          1,
          2,
          3
         ],
         "xaxis": "x29",
         "y": [
          0,
          0.4182400000267586,
          1.146541999994748,
          2.184905999903968
         ],
         "yaxis": "y29"
        }
       ],
       "layout": {
        "annotations": [
         {
          "font": {
           "size": 16
          },
          "showarrow": false,
          "text": "12C",
          "x": 0.04567901234567901,
          "xanchor": "center",
          "xref": "paper",
          "y": 1,
          "yanchor": "bottom",
          "yref": "paper"
         },
         {
          "font": {
           "size": 16
          },
          "showarrow": false,
          "text": "22Ne",
          "x": 0.15925925925925927,
          "xanchor": "center",
          "xref": "paper",
          "y": 1,
          "yanchor": "bottom",
          "yref": "paper"
         },
         {
          "font": {
           "size": 16
          },
          "showarrow": false,
          "text": "30Si",
          "x": 0.27283950617283953,
          "xanchor": "center",
          "xref": "paper",
          "y": 1,
          "yanchor": "bottom",
          "yref": "paper"
         },
         {
          "font": {
           "size": 16
          },
          "showarrow": false,
          "text": "36S",
          "x": 0.38641975308641974,
          "xanchor": "center",
          "xref": "paper",
          "y": 1,
          "yanchor": "bottom",
          "yref": "paper"
         },
         {
          "font": {
           "size": 16
          },
          "showarrow": false,
          "text": "50Ti",
          "x": 0.5,
          "xanchor": "center",
          "xref": "paper",
          "y": 1,
          "yanchor": "bottom",
          "yref": "paper"
         },
         {
          "font": {
           "size": 16
          },
          "showarrow": false,
          "text": "54Cr",
          "x": 0.6135802469135803,
          "xanchor": "center",
          "xref": "paper",
          "y": 1,
          "yanchor": "bottom",
          "yref": "paper"
         },
         {
          "font": {
           "size": 16
          },
          "showarrow": false,
          "text": "64Zn",
          "x": 0.7271604938271605,
          "xanchor": "center",
          "xref": "paper",
          "y": 1,
          "yanchor": "bottom",
          "yref": "paper"
         },
         {
          "font": {
           "size": 16
          },
          "showarrow": false,
          "text": "66Zn",
          "x": 0.8407407407407408,
          "xanchor": "center",
          "xref": "paper",
          "y": 1,
          "yanchor": "bottom",
          "yref": "paper"
         },
         {
          "font": {
           "size": 16
          },
          "showarrow": false,
          "text": "68Zn",
          "x": 0.954320987654321,
          "xanchor": "center",
          "xref": "paper",
          "y": 1,
          "yanchor": "bottom",
          "yref": "paper"
         },
         {
          "font": {
           "size": 16
          },
          "showarrow": false,
          "text": "74Ge",
          "x": 0.04567901234567901,
          "xanchor": "center",
          "xref": "paper",
          "y": 0.71875,
          "yanchor": "bottom",
          "yref": "paper"
         },
         {
          "font": {
           "size": 16
          },
          "showarrow": false,
          "text": "80Se",
          "x": 0.15925925925925927,
          "xanchor": "center",
          "xref": "paper",
          "y": 0.71875,
          "yanchor": "bottom",
          "yref": "paper"
         },
         {
          "font": {
           "size": 16
          },
          "showarrow": false,
          "text": "82Kr",
          "x": 0.27283950617283953,
          "xanchor": "center",
          "xref": "paper",
          "y": 0.71875,
          "yanchor": "bottom",
          "yref": "paper"
         },
         {
          "font": {
           "size": 16
          },
          "showarrow": false,
          "text": "86Kr",
          "x": 0.38641975308641974,
          "xanchor": "center",
          "xref": "paper",
          "y": 0.71875,
          "yanchor": "bottom",
          "yref": "paper"
         },
         {
          "font": {
           "size": 16
          },
          "showarrow": false,
          "text": "88Sr",
          "x": 0.5,
          "xanchor": "center",
          "xref": "paper",
          "y": 0.71875,
          "yanchor": "bottom",
          "yref": "paper"
         },
         {
          "font": {
           "size": 16
          },
          "showarrow": false,
          "text": "94Zr",
          "x": 0.6135802469135803,
          "xanchor": "center",
          "xref": "paper",
          "y": 0.71875,
          "yanchor": "bottom",
          "yref": "paper"
         },
         {
          "font": {
           "size": 16
          },
          "showarrow": false,
          "text": "94Mo",
          "x": 0.7271604938271605,
          "xanchor": "center",
          "xref": "paper",
          "y": 0.71875,
          "yanchor": "bottom",
          "yref": "paper"
         },
         {
          "font": {
           "size": 16
          },
          "showarrow": false,
          "text": "98Mo",
          "x": 0.8407407407407408,
          "xanchor": "center",
          "xref": "paper",
          "y": 0.71875,
          "yanchor": "bottom",
          "yref": "paper"
         },
         {
          "font": {
           "size": 16
          },
          "showarrow": false,
          "text": "114Cd",
          "x": 0.954320987654321,
          "xanchor": "center",
          "xref": "paper",
          "y": 0.71875,
          "yanchor": "bottom",
          "yref": "paper"
         },
         {
          "font": {
           "size": 16
          },
          "showarrow": false,
          "text": "120Te",
          "x": 0.04567901234567901,
          "xanchor": "center",
          "xref": "paper",
          "y": 0.4375,
          "yanchor": "bottom",
          "yref": "paper"
         },
         {
          "font": {
           "size": 16
          },
          "showarrow": false,
          "text": "122Te",
          "x": 0.15925925925925927,
          "xanchor": "center",
          "xref": "paper",
          "y": 0.4375,
          "yanchor": "bottom",
          "yref": "paper"
         },
         {
          "font": {
           "size": 16
          },
          "showarrow": false,
          "text": "132Xe",
          "x": 0.27283950617283953,
          "xanchor": "center",
          "xref": "paper",
          "y": 0.4375,
          "yanchor": "bottom",
          "yref": "paper"
         },
         {
          "font": {
           "size": 16
          },
          "showarrow": false,
          "text": "134Ba",
          "x": 0.38641975308641974,
          "xanchor": "center",
          "xref": "paper",
          "y": 0.4375,
          "yanchor": "bottom",
          "yref": "paper"
         },
         {
          "font": {
           "size": 16
          },
          "showarrow": false,
          "text": "194Pt",
          "x": 0.5,
          "xanchor": "center",
          "xref": "paper",
          "y": 0.4375,
          "yanchor": "bottom",
          "yref": "paper"
         },
         {
          "font": {
           "size": 16
          },
          "showarrow": false,
          "text": "196Hg",
          "x": 0.6135802469135803,
          "xanchor": "center",
          "xref": "paper",
          "y": 0.4375,
          "yanchor": "bottom",
          "yref": "paper"
         },
         {
          "font": {
           "size": 16
          },
          "showarrow": false,
          "text": "202Hg",
          "x": 0.7271604938271605,
          "xanchor": "center",
          "xref": "paper",
          "y": 0.4375,
          "yanchor": "bottom",
          "yref": "paper"
         },
         {
          "font": {
           "size": 16
          },
          "showarrow": false,
          "text": "204Hg",
          "x": 0.8407407407407408,
          "xanchor": "center",
          "xref": "paper",
          "y": 0.4375,
          "yanchor": "bottom",
          "yref": "paper"
         }
        ],
        "template": {
         "data": {
          "bar": [
           {
            "error_x": {
             "color": "#2a3f5f"
            },
            "error_y": {
             "color": "#2a3f5f"
            },
            "marker": {
             "line": {
              "color": "#E5ECF6",
              "width": 0.5
             },
             "pattern": {
              "fillmode": "overlay",
              "size": 10,
              "solidity": 0.2
             }
            },
            "type": "bar"
           }
          ],
          "barpolar": [
           {
            "marker": {
             "line": {
              "color": "#E5ECF6",
              "width": 0.5
             },
             "pattern": {
              "fillmode": "overlay",
              "size": 10,
              "solidity": 0.2
             }
            },
            "type": "barpolar"
           }
          ],
          "carpet": [
           {
            "aaxis": {
             "endlinecolor": "#2a3f5f",
             "gridcolor": "white",
             "linecolor": "white",
             "minorgridcolor": "white",
             "startlinecolor": "#2a3f5f"
            },
            "baxis": {
             "endlinecolor": "#2a3f5f",
             "gridcolor": "white",
             "linecolor": "white",
             "minorgridcolor": "white",
             "startlinecolor": "#2a3f5f"
            },
            "type": "carpet"
           }
          ],
          "choropleth": [
           {
            "colorbar": {
             "outlinewidth": 0,
             "ticks": ""
            },
            "type": "choropleth"
           }
          ],
          "contour": [
           {
            "colorbar": {
             "outlinewidth": 0,
             "ticks": ""
            },
            "colorscale": [
             [
              0,
              "#0d0887"
             ],
             [
              0.1111111111111111,
              "#46039f"
             ],
             [
              0.2222222222222222,
              "#7201a8"
             ],
             [
              0.3333333333333333,
              "#9c179e"
             ],
             [
              0.4444444444444444,
              "#bd3786"
             ],
             [
              0.5555555555555556,
              "#d8576b"
             ],
             [
              0.6666666666666666,
              "#ed7953"
             ],
             [
              0.7777777777777778,
              "#fb9f3a"
             ],
             [
              0.8888888888888888,
              "#fdca26"
             ],
             [
              1,
              "#f0f921"
             ]
            ],
            "type": "contour"
           }
          ],
          "contourcarpet": [
           {
            "colorbar": {
             "outlinewidth": 0,
             "ticks": ""
            },
            "type": "contourcarpet"
           }
          ],
          "heatmap": [
           {
            "colorbar": {
             "outlinewidth": 0,
             "ticks": ""
            },
            "colorscale": [
             [
              0,
              "#0d0887"
             ],
             [
              0.1111111111111111,
              "#46039f"
             ],
             [
              0.2222222222222222,
              "#7201a8"
             ],
             [
              0.3333333333333333,
              "#9c179e"
             ],
             [
              0.4444444444444444,
              "#bd3786"
             ],
             [
              0.5555555555555556,
              "#d8576b"
             ],
             [
              0.6666666666666666,
              "#ed7953"
             ],
             [
              0.7777777777777778,
              "#fb9f3a"
             ],
             [
              0.8888888888888888,
              "#fdca26"
             ],
             [
              1,
              "#f0f921"
             ]
            ],
            "type": "heatmap"
           }
          ],
          "heatmapgl": [
           {
            "colorbar": {
             "outlinewidth": 0,
             "ticks": ""
            },
            "colorscale": [
             [
              0,
              "#0d0887"
             ],
             [
              0.1111111111111111,
              "#46039f"
             ],
             [
              0.2222222222222222,
              "#7201a8"
             ],
             [
              0.3333333333333333,
              "#9c179e"
             ],
             [
              0.4444444444444444,
              "#bd3786"
             ],
             [
              0.5555555555555556,
              "#d8576b"
             ],
             [
              0.6666666666666666,
              "#ed7953"
             ],
             [
              0.7777777777777778,
              "#fb9f3a"
             ],
             [
              0.8888888888888888,
              "#fdca26"
             ],
             [
              1,
              "#f0f921"
             ]
            ],
            "type": "heatmapgl"
           }
          ],
          "histogram": [
           {
            "marker": {
             "pattern": {
              "fillmode": "overlay",
              "size": 10,
              "solidity": 0.2
             }
            },
            "type": "histogram"
           }
          ],
          "histogram2d": [
           {
            "colorbar": {
             "outlinewidth": 0,
             "ticks": ""
            },
            "colorscale": [
             [
              0,
              "#0d0887"
             ],
             [
              0.1111111111111111,
              "#46039f"
             ],
             [
              0.2222222222222222,
              "#7201a8"
             ],
             [
              0.3333333333333333,
              "#9c179e"
             ],
             [
              0.4444444444444444,
              "#bd3786"
             ],
             [
              0.5555555555555556,
              "#d8576b"
             ],
             [
              0.6666666666666666,
              "#ed7953"
             ],
             [
              0.7777777777777778,
              "#fb9f3a"
             ],
             [
              0.8888888888888888,
              "#fdca26"
             ],
             [
              1,
              "#f0f921"
             ]
            ],
            "type": "histogram2d"
           }
          ],
          "histogram2dcontour": [
           {
            "colorbar": {
             "outlinewidth": 0,
             "ticks": ""
            },
            "colorscale": [
             [
              0,
              "#0d0887"
             ],
             [
              0.1111111111111111,
              "#46039f"
             ],
             [
              0.2222222222222222,
              "#7201a8"
             ],
             [
              0.3333333333333333,
              "#9c179e"
             ],
             [
              0.4444444444444444,
              "#bd3786"
             ],
             [
              0.5555555555555556,
              "#d8576b"
             ],
             [
              0.6666666666666666,
              "#ed7953"
             ],
             [
              0.7777777777777778,
              "#fb9f3a"
             ],
             [
              0.8888888888888888,
              "#fdca26"
             ],
             [
              1,
              "#f0f921"
             ]
            ],
            "type": "histogram2dcontour"
           }
          ],
          "mesh3d": [
           {
            "colorbar": {
             "outlinewidth": 0,
             "ticks": ""
            },
            "type": "mesh3d"
           }
          ],
          "parcoords": [
           {
            "line": {
             "colorbar": {
              "outlinewidth": 0,
              "ticks": ""
             }
            },
            "type": "parcoords"
           }
          ],
          "pie": [
           {
            "automargin": true,
            "type": "pie"
           }
          ],
          "scatter": [
           {
            "fillpattern": {
             "fillmode": "overlay",
             "size": 10,
             "solidity": 0.2
            },
            "type": "scatter"
           }
          ],
          "scatter3d": [
           {
            "line": {
             "colorbar": {
              "outlinewidth": 0,
              "ticks": ""
             }
            },
            "marker": {
             "colorbar": {
              "outlinewidth": 0,
              "ticks": ""
             }
            },
            "type": "scatter3d"
           }
          ],
          "scattercarpet": [
           {
            "marker": {
             "colorbar": {
              "outlinewidth": 0,
              "ticks": ""
             }
            },
            "type": "scattercarpet"
           }
          ],
          "scattergeo": [
           {
            "marker": {
             "colorbar": {
              "outlinewidth": 0,
              "ticks": ""
             }
            },
            "type": "scattergeo"
           }
          ],
          "scattergl": [
           {
            "marker": {
             "colorbar": {
              "outlinewidth": 0,
              "ticks": ""
             }
            },
            "type": "scattergl"
           }
          ],
          "scattermapbox": [
           {
            "marker": {
             "colorbar": {
              "outlinewidth": 0,
              "ticks": ""
             }
            },
            "type": "scattermapbox"
           }
          ],
          "scatterpolar": [
           {
            "marker": {
             "colorbar": {
              "outlinewidth": 0,
              "ticks": ""
             }
            },
            "type": "scatterpolar"
           }
          ],
          "scatterpolargl": [
           {
            "marker": {
             "colorbar": {
              "outlinewidth": 0,
              "ticks": ""
             }
            },
            "type": "scatterpolargl"
           }
          ],
          "scatterternary": [
           {
            "marker": {
             "colorbar": {
              "outlinewidth": 0,
              "ticks": ""
             }
            },
            "type": "scatterternary"
           }
          ],
          "surface": [
           {
            "colorbar": {
             "outlinewidth": 0,
             "ticks": ""
            },
            "colorscale": [
             [
              0,
              "#0d0887"
             ],
             [
              0.1111111111111111,
              "#46039f"
             ],
             [
              0.2222222222222222,
              "#7201a8"
             ],
             [
              0.3333333333333333,
              "#9c179e"
             ],
             [
              0.4444444444444444,
              "#bd3786"
             ],
             [
              0.5555555555555556,
              "#d8576b"
             ],
             [
              0.6666666666666666,
              "#ed7953"
             ],
             [
              0.7777777777777778,
              "#fb9f3a"
             ],
             [
              0.8888888888888888,
              "#fdca26"
             ],
             [
              1,
              "#f0f921"
             ]
            ],
            "type": "surface"
           }
          ],
          "table": [
           {
            "cells": {
             "fill": {
              "color": "#EBF0F8"
             },
             "line": {
              "color": "white"
             }
            },
            "header": {
             "fill": {
              "color": "#C8D4E3"
             },
             "line": {
              "color": "white"
             }
            },
            "type": "table"
           }
          ]
         },
         "layout": {
          "annotationdefaults": {
           "arrowcolor": "#2a3f5f",
           "arrowhead": 0,
           "arrowwidth": 1
          },
          "autotypenumbers": "strict",
          "coloraxis": {
           "colorbar": {
            "outlinewidth": 0,
            "ticks": ""
           }
          },
          "colorscale": {
           "diverging": [
            [
             0,
             "#8e0152"
            ],
            [
             0.1,
             "#c51b7d"
            ],
            [
             0.2,
             "#de77ae"
            ],
            [
             0.3,
             "#f1b6da"
            ],
            [
             0.4,
             "#fde0ef"
            ],
            [
             0.5,
             "#f7f7f7"
            ],
            [
             0.6,
             "#e6f5d0"
            ],
            [
             0.7,
             "#b8e186"
            ],
            [
             0.8,
             "#7fbc41"
            ],
            [
             0.9,
             "#4d9221"
            ],
            [
             1,
             "#276419"
            ]
           ],
           "sequential": [
            [
             0,
             "#0d0887"
            ],
            [
             0.1111111111111111,
             "#46039f"
            ],
            [
             0.2222222222222222,
             "#7201a8"
            ],
            [
             0.3333333333333333,
             "#9c179e"
            ],
            [
             0.4444444444444444,
             "#bd3786"
            ],
            [
             0.5555555555555556,
             "#d8576b"
            ],
            [
             0.6666666666666666,
             "#ed7953"
            ],
            [
             0.7777777777777778,
             "#fb9f3a"
            ],
            [
             0.8888888888888888,
             "#fdca26"
            ],
            [
             1,
             "#f0f921"
            ]
           ],
           "sequentialminus": [
            [
             0,
             "#0d0887"
            ],
            [
             0.1111111111111111,
             "#46039f"
            ],
            [
             0.2222222222222222,
             "#7201a8"
            ],
            [
             0.3333333333333333,
             "#9c179e"
            ],
            [
             0.4444444444444444,
             "#bd3786"
            ],
            [
             0.5555555555555556,
             "#d8576b"
            ],
            [
             0.6666666666666666,
             "#ed7953"
            ],
            [
             0.7777777777777778,
             "#fb9f3a"
            ],
            [
             0.8888888888888888,
             "#fdca26"
            ],
            [
             1,
             "#f0f921"
            ]
           ]
          },
          "colorway": [
           "#636efa",
           "#EF553B",
           "#00cc96",
           "#ab63fa",
           "#FFA15A",
           "#19d3f3",
           "#FF6692",
           "#B6E880",
           "#FF97FF",
           "#FECB52"
          ],
          "font": {
           "color": "#2a3f5f"
          },
          "geo": {
           "bgcolor": "white",
           "lakecolor": "white",
           "landcolor": "#E5ECF6",
           "showlakes": true,
           "showland": true,
           "subunitcolor": "white"
          },
          "hoverlabel": {
           "align": "left"
          },
          "hovermode": "closest",
          "mapbox": {
           "style": "light"
          },
          "paper_bgcolor": "white",
          "plot_bgcolor": "#E5ECF6",
          "polar": {
           "angularaxis": {
            "gridcolor": "white",
            "linecolor": "white",
            "ticks": ""
           },
           "bgcolor": "#E5ECF6",
           "radialaxis": {
            "gridcolor": "white",
            "linecolor": "white",
            "ticks": ""
           }
          },
          "scene": {
           "xaxis": {
            "backgroundcolor": "#E5ECF6",
            "gridcolor": "white",
            "gridwidth": 2,
            "linecolor": "white",
            "showbackground": true,
            "ticks": "",
            "zerolinecolor": "white"
           },
           "yaxis": {
            "backgroundcolor": "#E5ECF6",
            "gridcolor": "white",
            "gridwidth": 2,
            "linecolor": "white",
            "showbackground": true,
            "ticks": "",
            "zerolinecolor": "white"
           },
           "zaxis": {
            "backgroundcolor": "#E5ECF6",
            "gridcolor": "white",
            "gridwidth": 2,
            "linecolor": "white",
            "showbackground": true,
            "ticks": "",
            "zerolinecolor": "white"
           }
          },
          "shapedefaults": {
           "line": {
            "color": "#2a3f5f"
           }
          },
          "ternary": {
           "aaxis": {
            "gridcolor": "white",
            "linecolor": "white",
            "ticks": ""
           },
           "baxis": {
            "gridcolor": "white",
            "linecolor": "white",
            "ticks": ""
           },
           "bgcolor": "#E5ECF6",
           "caxis": {
            "gridcolor": "white",
            "linecolor": "white",
            "ticks": ""
           }
          },
          "title": {
           "x": 0.05
          },
          "xaxis": {
           "automargin": true,
           "gridcolor": "white",
           "linecolor": "white",
           "ticks": "",
           "title": {
            "standoff": 15
           },
           "zerolinecolor": "white",
           "zerolinewidth": 2
          },
          "yaxis": {
           "automargin": true,
           "gridcolor": "white",
           "linecolor": "white",
           "ticks": "",
           "title": {
            "standoff": 15
           },
           "zerolinecolor": "white",
           "zerolinewidth": 2
          }
         }
        },
        "xaxis": {
         "anchor": "y",
         "domain": [
          0,
          0.09135802469135802
         ]
        },
        "xaxis10": {
         "anchor": "y10",
         "domain": [
          0,
          0.09135802469135802
         ]
        },
        "xaxis11": {
         "anchor": "y11",
         "domain": [
          0.11358024691358025,
          0.20493827160493827
         ]
        },
        "xaxis12": {
         "anchor": "y12",
         "domain": [
          0.2271604938271605,
          0.31851851851851853
         ]
        },
        "xaxis13": {
         "anchor": "y13",
         "domain": [
          0.34074074074074073,
          0.43209876543209874
         ]
        },
        "xaxis14": {
         "anchor": "y14",
         "domain": [
          0.454320987654321,
          0.5456790123456791
         ]
        },
        "xaxis15": {
         "anchor": "y15",
         "domain": [
          0.5679012345679012,
          0.6592592592592592
         ]
        },
        "xaxis16": {
         "anchor": "y16",
         "domain": [
          0.6814814814814815,
          0.7728395061728395
         ]
        },
        "xaxis17": {
         "anchor": "y17",
         "domain": [
          0.7950617283950617,
          0.8864197530864197
         ]
        },
        "xaxis18": {
         "anchor": "y18",
         "domain": [
          0.908641975308642,
          1
         ]
        },
        "xaxis19": {
         "anchor": "y19",
         "domain": [
          0,
          0.09135802469135802
         ]
        },
        "xaxis2": {
         "anchor": "y2",
         "domain": [
          0.11358024691358025,
          0.20493827160493827
         ]
        },
        "xaxis20": {
         "anchor": "y20",
         "domain": [
          0.11358024691358025,
          0.20493827160493827
         ]
        },
        "xaxis21": {
         "anchor": "y21",
         "domain": [
          0.2271604938271605,
          0.31851851851851853
         ]
        },
        "xaxis22": {
         "anchor": "y22",
         "domain": [
          0.34074074074074073,
          0.43209876543209874
         ]
        },
        "xaxis23": {
         "anchor": "y23",
         "domain": [
          0.454320987654321,
          0.5456790123456791
         ]
        },
        "xaxis24": {
         "anchor": "y24",
         "domain": [
          0.5679012345679012,
          0.6592592592592592
         ]
        },
        "xaxis25": {
         "anchor": "y25",
         "domain": [
          0.6814814814814815,
          0.7728395061728395
         ]
        },
        "xaxis26": {
         "anchor": "y26",
         "domain": [
          0.7950617283950617,
          0.8864197530864197
         ]
        },
        "xaxis27": {
         "anchor": "y27",
         "domain": [
          0.908641975308642,
          1
         ]
        },
        "xaxis28": {
         "anchor": "y28",
         "domain": [
          0,
          0.09135802469135802
         ]
        },
        "xaxis29": {
         "anchor": "y29",
         "domain": [
          0.11358024691358025,
          0.20493827160493827
         ]
        },
        "xaxis3": {
         "anchor": "y3",
         "domain": [
          0.2271604938271605,
          0.31851851851851853
         ]
        },
        "xaxis30": {
         "anchor": "y30",
         "domain": [
          0.2271604938271605,
          0.31851851851851853
         ]
        },
        "xaxis31": {
         "anchor": "y31",
         "domain": [
          0.34074074074074073,
          0.43209876543209874
         ]
        },
        "xaxis32": {
         "anchor": "y32",
         "domain": [
          0.454320987654321,
          0.5456790123456791
         ]
        },
        "xaxis33": {
         "anchor": "y33",
         "domain": [
          0.5679012345679012,
          0.6592592592592592
         ]
        },
        "xaxis34": {
         "anchor": "y34",
         "domain": [
          0.6814814814814815,
          0.7728395061728395
         ]
        },
        "xaxis35": {
         "anchor": "y35",
         "domain": [
          0.7950617283950617,
          0.8864197530864197
         ]
        },
        "xaxis36": {
         "anchor": "y36",
         "domain": [
          0.908641975308642,
          1
         ]
        },
        "xaxis4": {
         "anchor": "y4",
         "domain": [
          0.34074074074074073,
          0.43209876543209874
         ]
        },
        "xaxis5": {
         "anchor": "y5",
         "domain": [
          0.454320987654321,
          0.5456790123456791
         ]
        },
        "xaxis6": {
         "anchor": "y6",
         "domain": [
          0.5679012345679012,
          0.6592592592592592
         ]
        },
        "xaxis7": {
         "anchor": "y7",
         "domain": [
          0.6814814814814815,
          0.7728395061728395
         ]
        },
        "xaxis8": {
         "anchor": "y8",
         "domain": [
          0.7950617283950617,
          0.8864197530864197
         ]
        },
        "xaxis9": {
         "anchor": "y9",
         "domain": [
          0.908641975308642,
          1
         ]
        },
        "yaxis": {
         "anchor": "x",
         "domain": [
          0.84375,
          1
         ]
        },
        "yaxis10": {
         "anchor": "x10",
         "domain": [
          0.5625,
          0.71875
         ]
        },
        "yaxis11": {
         "anchor": "x11",
         "domain": [
          0.5625,
          0.71875
         ]
        },
        "yaxis12": {
         "anchor": "x12",
         "domain": [
          0.5625,
          0.71875
         ]
        },
        "yaxis13": {
         "anchor": "x13",
         "domain": [
          0.5625,
          0.71875
         ]
        },
        "yaxis14": {
         "anchor": "x14",
         "domain": [
          0.5625,
          0.71875
         ]
        },
        "yaxis15": {
         "anchor": "x15",
         "domain": [
          0.5625,
          0.71875
         ]
        },
        "yaxis16": {
         "anchor": "x16",
         "domain": [
          0.5625,
          0.71875
         ]
        },
        "yaxis17": {
         "anchor": "x17",
         "domain": [
          0.5625,
          0.71875
         ]
        },
        "yaxis18": {
         "anchor": "x18",
         "domain": [
          0.5625,
          0.71875
         ]
        },
        "yaxis19": {
         "anchor": "x19",
         "domain": [
          0.28125,
          0.4375
         ]
        },
        "yaxis2": {
         "anchor": "x2",
         "domain": [
          0.84375,
          1
         ]
        },
        "yaxis20": {
         "anchor": "x20",
         "domain": [
          0.28125,
          0.4375
         ]
        },
        "yaxis21": {
         "anchor": "x21",
         "domain": [
          0.28125,
          0.4375
         ]
        },
        "yaxis22": {
         "anchor": "x22",
         "domain": [
          0.28125,
          0.4375
         ]
        },
        "yaxis23": {
         "anchor": "x23",
         "domain": [
          0.28125,
          0.4375
         ]
        },
        "yaxis24": {
         "anchor": "x24",
         "domain": [
          0.28125,
          0.4375
         ]
        },
        "yaxis25": {
         "anchor": "x25",
         "domain": [
          0.28125,
          0.4375
         ]
        },
        "yaxis26": {
         "anchor": "x26",
         "domain": [
          0.28125,
          0.4375
         ]
        },
        "yaxis27": {
         "anchor": "x27",
         "domain": [
          0.28125,
          0.4375
         ]
        },
        "yaxis28": {
         "anchor": "x28",
         "domain": [
          0,
          0.15625
         ]
        },
        "yaxis29": {
         "anchor": "x29",
         "domain": [
          0,
          0.15625
         ]
        },
        "yaxis3": {
         "anchor": "x3",
         "domain": [
          0.84375,
          1
         ]
        },
        "yaxis30": {
         "anchor": "x30",
         "domain": [
          0,
          0.15625
         ]
        },
        "yaxis31": {
         "anchor": "x31",
         "domain": [
          0,
          0.15625
         ]
        },
        "yaxis32": {
         "anchor": "x32",
         "domain": [
          0,
          0.15625
         ]
        },
        "yaxis33": {
         "anchor": "x33",
         "domain": [
          0,
          0.15625
         ]
        },
        "yaxis34": {
         "anchor": "x34",
         "domain": [
          0,
          0.15625
         ]
        },
        "yaxis35": {
         "anchor": "x35",
         "domain": [
          0,
          0.15625
         ]
        },
        "yaxis36": {
         "anchor": "x36",
         "domain": [
          0,
          0.15625
         ]
        },
        "yaxis4": {
         "anchor": "x4",
         "domain": [
          0.84375,
          1
         ]
        },
        "yaxis5": {
         "anchor": "x5",
         "domain": [
          0.84375,
          1
         ]
        },
        "yaxis6": {
         "anchor": "x6",
         "domain": [
          0.84375,
          1
         ]
        },
        "yaxis7": {
         "anchor": "x7",
         "domain": [
          0.84375,
          1
         ]
        },
        "yaxis8": {
         "anchor": "x8",
         "domain": [
          0.84375,
          1
         ]
        },
        "yaxis9": {
         "anchor": "x9",
         "domain": [
          0.84375,
          1
         ]
        }
       }
      }
     },
     "metadata": {},
     "output_type": "display_data"
    }
   ],
   "source": [
    "best_residuals = get_best_r2(residuals_df, 0.999)\n",
    "\n",
    "fig = px.scatter(best_residuals, x=\"quanta\", y=\"energy\", color='anharmonicity', facet_col=\"name\", facet_col_wrap=8)\n",
    "\n",
    "\n",
    "# fig.add_scatter()\n",
    "# fig.add_scatter(x=best_residuals[\"quanta\"], y=fit_energy, mode='lines', facet_col=\"name\", facet_col_wrap=8)\n",
    "\n",
    "# fig.add_trace()\n",
    "\n",
    "\n",
    "facet_col_wrap=8\n",
    "group_names = list(best_residuals.groupby('name')['name'].head(1))\n",
    "ngroups = len(group_names)\n",
    "nrows = ngroups // facet_col_wrap + 1\n",
    "ncols =  facet_col_wrap + 1\n",
    "\n",
    "fig = make_subplots(rows=nrows, cols=ncols, subplot_titles=group_names)\n",
    "\n",
    "for i in range(ngroups):\n",
    "    row_idx = i // facet_col_wrap\n",
    "    col_idx = i % facet_col_wrap\n",
    "    print(row_idx, col_idx, group_names[i])\n",
    "\n",
    "    group_name = group_names[i]\n",
    "    nucleus = best_residuals[best_residuals['name'] == group_name]\n",
    "\n",
    "    quanta = nucleus['quanta']\n",
    "    energy = nucleus['energy']\n",
    "    harmonic_energy = get_osc_energy(quanta, nucleus['energy_quantum'], 0)\n",
    "    fit_energy = get_osc_energy(quanta, nucleus['energy_quantum'], nucleus['shift4'])\n",
    "\n",
    "    scatter_energies = go.Scatter(x=quanta, y=energy, mode='markers')\n",
    "    scatter_harmonics  = go.Scatter(x=quanta, y=harmonic_energy, mode='lines')\n",
    "    scatter_fit = go.Scatter(x=quanta, y=fit_energy, mode='lines')\n",
    "    fig.add_trace(scatter_energies, row=row_idx+1, col=col_idx+1)\n",
    "    fig.add_trace(scatter_harmonics, row=row_idx+1, col=col_idx+1)\n",
    "    fig.add_trace(scatter_fit, row=row_idx+1, col=col_idx+1)\n",
    "\n",
    "fig.show()"
   ]
  },
  {
   "cell_type": "code",
   "execution_count": 172,
   "metadata": {},
   "outputs": [
    {
     "name": "stdout",
     "output_type": "stream",
     "text": [
      "0 0 12C\n",
      "0 1 22Ne\n",
      "0 2 80Se\n",
      "0 3 204Hg\n"
     ]
    },
    {
     "data": {
      "application/vnd.plotly.v1+json": {
       "config": {
        "plotlyServerURL": "https://plot.ly"
       },
       "data": [
        {
         "mode": "markers",
         "type": "scatter",
         "x": [
          0,
          1,
          2
         ],
         "xaxis": "x",
         "y": [
          0,
          4.43982,
          13.3
         ],
         "yaxis": "y"
        },
        {
         "mode": "lines",
         "type": "scatter",
         "x": [
          0,
          1,
          2
         ],
         "xaxis": "x",
         "y": [
          0,
          4.43982,
          8.87964
         ],
         "yaxis": "y"
        },
        {
         "mode": "lines",
         "type": "scatter",
         "x": [
          0,
          1,
          2
         ],
         "xaxis": "x",
         "y": [
          0,
          4.43982,
          13.3
         ],
         "yaxis": "y"
        },
        {
         "mode": "markers",
         "type": "scatter",
         "x": [
          0,
          1,
          2
         ],
         "xaxis": "x2",
         "y": [
          0,
          1.274537,
          3.3571999999999997
         ],
         "yaxis": "y2"
        },
        {
         "mode": "lines",
         "type": "scatter",
         "x": [
          0,
          1,
          2
         ],
         "xaxis": "x2",
         "y": [
          0,
          1.274537,
          2.549074
         ],
         "yaxis": "y2"
        },
        {
         "mode": "lines",
         "type": "scatter",
         "x": [
          0,
          1,
          2
         ],
         "xaxis": "x2",
         "y": [
          0,
          1.274537,
          3.3571999999999997
         ],
         "yaxis": "y2"
        },
        {
         "mode": "markers",
         "type": "scatter",
         "x": [
          0,
          1,
          2
         ],
         "xaxis": "x3",
         "y": [
          0,
          0.66627,
          1.7014500000000001
         ],
         "yaxis": "y3"
        },
        {
         "mode": "lines",
         "type": "scatter",
         "x": [
          0,
          1,
          2
         ],
         "xaxis": "x3",
         "y": [
          0,
          0.66627,
          1.33254
         ],
         "yaxis": "y3"
        },
        {
         "mode": "lines",
         "type": "scatter",
         "x": [
          0,
          1,
          2
         ],
         "xaxis": "x3",
         "y": [
          0,
          0.66627,
          1.7014500000000004
         ],
         "yaxis": "y3"
        },
        {
         "mode": "markers",
         "type": "scatter",
         "x": [
          0,
          1,
          2,
          3
         ],
         "xaxis": "x4",
         "y": [
          0,
          0.436552,
          1.12823,
          2.1910100000000003
         ],
         "yaxis": "y4"
        },
        {
         "mode": "lines",
         "type": "scatter",
         "x": [
          0,
          1,
          2,
          3
         ],
         "xaxis": "x4",
         "y": [
          0,
          0.4182400000267586,
          0.8364800000535172,
          1.2547200000802758
         ],
         "yaxis": "y4"
        },
        {
         "mode": "lines",
         "type": "scatter",
         "x": [
          0,
          1,
          2,
          3
         ],
         "xaxis": "x4",
         "y": [
          0,
          0.4182400000267586,
          1.146541999994748,
          2.184905999903968
         ],
         "yaxis": "y4"
        }
       ],
       "layout": {
        "annotations": [
         {
          "font": {
           "size": 16
          },
          "showarrow": false,
          "text": "12C",
          "x": 0.08399999999999999,
          "xanchor": "center",
          "xref": "paper",
          "y": 1,
          "yanchor": "bottom",
          "yref": "paper"
         },
         {
          "font": {
           "size": 16
          },
          "showarrow": false,
          "text": "22Ne",
          "x": 0.292,
          "xanchor": "center",
          "xref": "paper",
          "y": 1,
          "yanchor": "bottom",
          "yref": "paper"
         },
         {
          "font": {
           "size": 16
          },
          "showarrow": false,
          "text": "80Se",
          "x": 0.5,
          "xanchor": "center",
          "xref": "paper",
          "y": 1,
          "yanchor": "bottom",
          "yref": "paper"
         },
         {
          "font": {
           "size": 16
          },
          "showarrow": false,
          "text": "204Hg",
          "x": 0.708,
          "xanchor": "center",
          "xref": "paper",
          "y": 1,
          "yanchor": "bottom",
          "yref": "paper"
         }
        ],
        "template": {
         "data": {
          "bar": [
           {
            "error_x": {
             "color": "#2a3f5f"
            },
            "error_y": {
             "color": "#2a3f5f"
            },
            "marker": {
             "line": {
              "color": "#E5ECF6",
              "width": 0.5
             },
             "pattern": {
              "fillmode": "overlay",
              "size": 10,
              "solidity": 0.2
             }
            },
            "type": "bar"
           }
          ],
          "barpolar": [
           {
            "marker": {
             "line": {
              "color": "#E5ECF6",
              "width": 0.5
             },
             "pattern": {
              "fillmode": "overlay",
              "size": 10,
              "solidity": 0.2
             }
            },
            "type": "barpolar"
           }
          ],
          "carpet": [
           {
            "aaxis": {
             "endlinecolor": "#2a3f5f",
             "gridcolor": "white",
             "linecolor": "white",
             "minorgridcolor": "white",
             "startlinecolor": "#2a3f5f"
            },
            "baxis": {
             "endlinecolor": "#2a3f5f",
             "gridcolor": "white",
             "linecolor": "white",
             "minorgridcolor": "white",
             "startlinecolor": "#2a3f5f"
            },
            "type": "carpet"
           }
          ],
          "choropleth": [
           {
            "colorbar": {
             "outlinewidth": 0,
             "ticks": ""
            },
            "type": "choropleth"
           }
          ],
          "contour": [
           {
            "colorbar": {
             "outlinewidth": 0,
             "ticks": ""
            },
            "colorscale": [
             [
              0,
              "#0d0887"
             ],
             [
              0.1111111111111111,
              "#46039f"
             ],
             [
              0.2222222222222222,
              "#7201a8"
             ],
             [
              0.3333333333333333,
              "#9c179e"
             ],
             [
              0.4444444444444444,
              "#bd3786"
             ],
             [
              0.5555555555555556,
              "#d8576b"
             ],
             [
              0.6666666666666666,
              "#ed7953"
             ],
             [
              0.7777777777777778,
              "#fb9f3a"
             ],
             [
              0.8888888888888888,
              "#fdca26"
             ],
             [
              1,
              "#f0f921"
             ]
            ],
            "type": "contour"
           }
          ],
          "contourcarpet": [
           {
            "colorbar": {
             "outlinewidth": 0,
             "ticks": ""
            },
            "type": "contourcarpet"
           }
          ],
          "heatmap": [
           {
            "colorbar": {
             "outlinewidth": 0,
             "ticks": ""
            },
            "colorscale": [
             [
              0,
              "#0d0887"
             ],
             [
              0.1111111111111111,
              "#46039f"
             ],
             [
              0.2222222222222222,
              "#7201a8"
             ],
             [
              0.3333333333333333,
              "#9c179e"
             ],
             [
              0.4444444444444444,
              "#bd3786"
             ],
             [
              0.5555555555555556,
              "#d8576b"
             ],
             [
              0.6666666666666666,
              "#ed7953"
             ],
             [
              0.7777777777777778,
              "#fb9f3a"
             ],
             [
              0.8888888888888888,
              "#fdca26"
             ],
             [
              1,
              "#f0f921"
             ]
            ],
            "type": "heatmap"
           }
          ],
          "heatmapgl": [
           {
            "colorbar": {
             "outlinewidth": 0,
             "ticks": ""
            },
            "colorscale": [
             [
              0,
              "#0d0887"
             ],
             [
              0.1111111111111111,
              "#46039f"
             ],
             [
              0.2222222222222222,
              "#7201a8"
             ],
             [
              0.3333333333333333,
              "#9c179e"
             ],
             [
              0.4444444444444444,
              "#bd3786"
             ],
             [
              0.5555555555555556,
              "#d8576b"
             ],
             [
              0.6666666666666666,
              "#ed7953"
             ],
             [
              0.7777777777777778,
              "#fb9f3a"
             ],
             [
              0.8888888888888888,
              "#fdca26"
             ],
             [
              1,
              "#f0f921"
             ]
            ],
            "type": "heatmapgl"
           }
          ],
          "histogram": [
           {
            "marker": {
             "pattern": {
              "fillmode": "overlay",
              "size": 10,
              "solidity": 0.2
             }
            },
            "type": "histogram"
           }
          ],
          "histogram2d": [
           {
            "colorbar": {
             "outlinewidth": 0,
             "ticks": ""
            },
            "colorscale": [
             [
              0,
              "#0d0887"
             ],
             [
              0.1111111111111111,
              "#46039f"
             ],
             [
              0.2222222222222222,
              "#7201a8"
             ],
             [
              0.3333333333333333,
              "#9c179e"
             ],
             [
              0.4444444444444444,
              "#bd3786"
             ],
             [
              0.5555555555555556,
              "#d8576b"
             ],
             [
              0.6666666666666666,
              "#ed7953"
             ],
             [
              0.7777777777777778,
              "#fb9f3a"
             ],
             [
              0.8888888888888888,
              "#fdca26"
             ],
             [
              1,
              "#f0f921"
             ]
            ],
            "type": "histogram2d"
           }
          ],
          "histogram2dcontour": [
           {
            "colorbar": {
             "outlinewidth": 0,
             "ticks": ""
            },
            "colorscale": [
             [
              0,
              "#0d0887"
             ],
             [
              0.1111111111111111,
              "#46039f"
             ],
             [
              0.2222222222222222,
              "#7201a8"
             ],
             [
              0.3333333333333333,
              "#9c179e"
             ],
             [
              0.4444444444444444,
              "#bd3786"
             ],
             [
              0.5555555555555556,
              "#d8576b"
             ],
             [
              0.6666666666666666,
              "#ed7953"
             ],
             [
              0.7777777777777778,
              "#fb9f3a"
             ],
             [
              0.8888888888888888,
              "#fdca26"
             ],
             [
              1,
              "#f0f921"
             ]
            ],
            "type": "histogram2dcontour"
           }
          ],
          "mesh3d": [
           {
            "colorbar": {
             "outlinewidth": 0,
             "ticks": ""
            },
            "type": "mesh3d"
           }
          ],
          "parcoords": [
           {
            "line": {
             "colorbar": {
              "outlinewidth": 0,
              "ticks": ""
             }
            },
            "type": "parcoords"
           }
          ],
          "pie": [
           {
            "automargin": true,
            "type": "pie"
           }
          ],
          "scatter": [
           {
            "fillpattern": {
             "fillmode": "overlay",
             "size": 10,
             "solidity": 0.2
            },
            "type": "scatter"
           }
          ],
          "scatter3d": [
           {
            "line": {
             "colorbar": {
              "outlinewidth": 0,
              "ticks": ""
             }
            },
            "marker": {
             "colorbar": {
              "outlinewidth": 0,
              "ticks": ""
             }
            },
            "type": "scatter3d"
           }
          ],
          "scattercarpet": [
           {
            "marker": {
             "colorbar": {
              "outlinewidth": 0,
              "ticks": ""
             }
            },
            "type": "scattercarpet"
           }
          ],
          "scattergeo": [
           {
            "marker": {
             "colorbar": {
              "outlinewidth": 0,
              "ticks": ""
             }
            },
            "type": "scattergeo"
           }
          ],
          "scattergl": [
           {
            "marker": {
             "colorbar": {
              "outlinewidth": 0,
              "ticks": ""
             }
            },
            "type": "scattergl"
           }
          ],
          "scattermapbox": [
           {
            "marker": {
             "colorbar": {
              "outlinewidth": 0,
              "ticks": ""
             }
            },
            "type": "scattermapbox"
           }
          ],
          "scatterpolar": [
           {
            "marker": {
             "colorbar": {
              "outlinewidth": 0,
              "ticks": ""
             }
            },
            "type": "scatterpolar"
           }
          ],
          "scatterpolargl": [
           {
            "marker": {
             "colorbar": {
              "outlinewidth": 0,
              "ticks": ""
             }
            },
            "type": "scatterpolargl"
           }
          ],
          "scatterternary": [
           {
            "marker": {
             "colorbar": {
              "outlinewidth": 0,
              "ticks": ""
             }
            },
            "type": "scatterternary"
           }
          ],
          "surface": [
           {
            "colorbar": {
             "outlinewidth": 0,
             "ticks": ""
            },
            "colorscale": [
             [
              0,
              "#0d0887"
             ],
             [
              0.1111111111111111,
              "#46039f"
             ],
             [
              0.2222222222222222,
              "#7201a8"
             ],
             [
              0.3333333333333333,
              "#9c179e"
             ],
             [
              0.4444444444444444,
              "#bd3786"
             ],
             [
              0.5555555555555556,
              "#d8576b"
             ],
             [
              0.6666666666666666,
              "#ed7953"
             ],
             [
              0.7777777777777778,
              "#fb9f3a"
             ],
             [
              0.8888888888888888,
              "#fdca26"
             ],
             [
              1,
              "#f0f921"
             ]
            ],
            "type": "surface"
           }
          ],
          "table": [
           {
            "cells": {
             "fill": {
              "color": "#EBF0F8"
             },
             "line": {
              "color": "white"
             }
            },
            "header": {
             "fill": {
              "color": "#C8D4E3"
             },
             "line": {
              "color": "white"
             }
            },
            "type": "table"
           }
          ]
         },
         "layout": {
          "annotationdefaults": {
           "arrowcolor": "#2a3f5f",
           "arrowhead": 0,
           "arrowwidth": 1
          },
          "autotypenumbers": "strict",
          "coloraxis": {
           "colorbar": {
            "outlinewidth": 0,
            "ticks": ""
           }
          },
          "colorscale": {
           "diverging": [
            [
             0,
             "#8e0152"
            ],
            [
             0.1,
             "#c51b7d"
            ],
            [
             0.2,
             "#de77ae"
            ],
            [
             0.3,
             "#f1b6da"
            ],
            [
             0.4,
             "#fde0ef"
            ],
            [
             0.5,
             "#f7f7f7"
            ],
            [
             0.6,
             "#e6f5d0"
            ],
            [
             0.7,
             "#b8e186"
            ],
            [
             0.8,
             "#7fbc41"
            ],
            [
             0.9,
             "#4d9221"
            ],
            [
             1,
             "#276419"
            ]
           ],
           "sequential": [
            [
             0,
             "#0d0887"
            ],
            [
             0.1111111111111111,
             "#46039f"
            ],
            [
             0.2222222222222222,
             "#7201a8"
            ],
            [
             0.3333333333333333,
             "#9c179e"
            ],
            [
             0.4444444444444444,
             "#bd3786"
            ],
            [
             0.5555555555555556,
             "#d8576b"
            ],
            [
             0.6666666666666666,
             "#ed7953"
            ],
            [
             0.7777777777777778,
             "#fb9f3a"
            ],
            [
             0.8888888888888888,
             "#fdca26"
            ],
            [
             1,
             "#f0f921"
            ]
           ],
           "sequentialminus": [
            [
             0,
             "#0d0887"
            ],
            [
             0.1111111111111111,
             "#46039f"
            ],
            [
             0.2222222222222222,
             "#7201a8"
            ],
            [
             0.3333333333333333,
             "#9c179e"
            ],
            [
             0.4444444444444444,
             "#bd3786"
            ],
            [
             0.5555555555555556,
             "#d8576b"
            ],
            [
             0.6666666666666666,
             "#ed7953"
            ],
            [
             0.7777777777777778,
             "#fb9f3a"
            ],
            [
             0.8888888888888888,
             "#fdca26"
            ],
            [
             1,
             "#f0f921"
            ]
           ]
          },
          "colorway": [
           "#636efa",
           "#EF553B",
           "#00cc96",
           "#ab63fa",
           "#FFA15A",
           "#19d3f3",
           "#FF6692",
           "#B6E880",
           "#FF97FF",
           "#FECB52"
          ],
          "font": {
           "color": "#2a3f5f"
          },
          "geo": {
           "bgcolor": "white",
           "lakecolor": "white",
           "landcolor": "#E5ECF6",
           "showlakes": true,
           "showland": true,
           "subunitcolor": "white"
          },
          "hoverlabel": {
           "align": "left"
          },
          "hovermode": "closest",
          "mapbox": {
           "style": "light"
          },
          "paper_bgcolor": "white",
          "plot_bgcolor": "#E5ECF6",
          "polar": {
           "angularaxis": {
            "gridcolor": "white",
            "linecolor": "white",
            "ticks": ""
           },
           "bgcolor": "#E5ECF6",
           "radialaxis": {
            "gridcolor": "white",
            "linecolor": "white",
            "ticks": ""
           }
          },
          "scene": {
           "xaxis": {
            "backgroundcolor": "#E5ECF6",
            "gridcolor": "white",
            "gridwidth": 2,
            "linecolor": "white",
            "showbackground": true,
            "ticks": "",
            "zerolinecolor": "white"
           },
           "yaxis": {
            "backgroundcolor": "#E5ECF6",
            "gridcolor": "white",
            "gridwidth": 2,
            "linecolor": "white",
            "showbackground": true,
            "ticks": "",
            "zerolinecolor": "white"
           },
           "zaxis": {
            "backgroundcolor": "#E5ECF6",
            "gridcolor": "white",
            "gridwidth": 2,
            "linecolor": "white",
            "showbackground": true,
            "ticks": "",
            "zerolinecolor": "white"
           }
          },
          "shapedefaults": {
           "line": {
            "color": "#2a3f5f"
           }
          },
          "ternary": {
           "aaxis": {
            "gridcolor": "white",
            "linecolor": "white",
            "ticks": ""
           },
           "baxis": {
            "gridcolor": "white",
            "linecolor": "white",
            "ticks": ""
           },
           "bgcolor": "#E5ECF6",
           "caxis": {
            "gridcolor": "white",
            "linecolor": "white",
            "ticks": ""
           }
          },
          "title": {
           "x": 0.05
          },
          "xaxis": {
           "automargin": true,
           "gridcolor": "white",
           "linecolor": "white",
           "ticks": "",
           "title": {
            "standoff": 15
           },
           "zerolinecolor": "white",
           "zerolinewidth": 2
          },
          "yaxis": {
           "automargin": true,
           "gridcolor": "white",
           "linecolor": "white",
           "ticks": "",
           "title": {
            "standoff": 15
           },
           "zerolinecolor": "white",
           "zerolinewidth": 2
          }
         }
        },
        "xaxis": {
         "anchor": "y",
         "domain": [
          0,
          0.16799999999999998
         ]
        },
        "xaxis10": {
         "anchor": "y10",
         "domain": [
          0.832,
          1
         ]
        },
        "xaxis2": {
         "anchor": "y2",
         "domain": [
          0.208,
          0.376
         ]
        },
        "xaxis3": {
         "anchor": "y3",
         "domain": [
          0.416,
          0.584
         ]
        },
        "xaxis4": {
         "anchor": "y4",
         "domain": [
          0.624,
          0.792
         ]
        },
        "xaxis5": {
         "anchor": "y5",
         "domain": [
          0.832,
          1
         ]
        },
        "xaxis6": {
         "anchor": "y6",
         "domain": [
          0,
          0.16799999999999998
         ]
        },
        "xaxis7": {
         "anchor": "y7",
         "domain": [
          0.208,
          0.376
         ]
        },
        "xaxis8": {
         "anchor": "y8",
         "domain": [
          0.416,
          0.584
         ]
        },
        "xaxis9": {
         "anchor": "y9",
         "domain": [
          0.624,
          0.792
         ]
        },
        "yaxis": {
         "anchor": "x",
         "domain": [
          0.625,
          1
         ]
        },
        "yaxis10": {
         "anchor": "x10",
         "domain": [
          0,
          0.375
         ]
        },
        "yaxis2": {
         "anchor": "x2",
         "domain": [
          0.625,
          1
         ]
        },
        "yaxis3": {
         "anchor": "x3",
         "domain": [
          0.625,
          1
         ]
        },
        "yaxis4": {
         "anchor": "x4",
         "domain": [
          0.625,
          1
         ]
        },
        "yaxis5": {
         "anchor": "x5",
         "domain": [
          0.625,
          1
         ]
        },
        "yaxis6": {
         "anchor": "x6",
         "domain": [
          0,
          0.375
         ]
        },
        "yaxis7": {
         "anchor": "x7",
         "domain": [
          0,
          0.375
         ]
        },
        "yaxis8": {
         "anchor": "x8",
         "domain": [
          0,
          0.375
         ]
        },
        "yaxis9": {
         "anchor": "x9",
         "domain": [
          0,
          0.375
         ]
        }
       }
      }
     },
     "metadata": {},
     "output_type": "display_data"
    }
   ],
   "source": [
    "best_anharmonics = get_best_r2(residuals_df, 0.999)\n",
    "best_anharmonics = best_anharmonics[best_anharmonics['anharmonicity'] > 0.5]\n",
    "\n",
    "\n",
    "facet_col_wrap=4\n",
    "group_names = list(best_anharmonics.groupby('name')['name'].head(1))\n",
    "ngroups = len(group_names)\n",
    "nrows = ngroups // facet_col_wrap + 1\n",
    "ncols =  facet_col_wrap + 1\n",
    "\n",
    "fig = make_subplots(rows=nrows, cols=ncols, subplot_titles=group_names)\n",
    "\n",
    "for i in range(ngroups):\n",
    "    row_idx = i // facet_col_wrap\n",
    "    col_idx = i % facet_col_wrap\n",
    "    print(row_idx, col_idx, group_names[i])\n",
    "\n",
    "    group_name = group_names[i]\n",
    "    nucleus = best_anharmonics[best_anharmonics['name'] == group_name]\n",
    "\n",
    "    quanta = nucleus['quanta']\n",
    "    energy = nucleus['energy']\n",
    "    harmonic_energy = get_osc_energy(quanta, nucleus['energy_quantum'], 0)\n",
    "    fit_energy = get_osc_energy(quanta, nucleus['energy_quantum'], nucleus['shift4'])\n",
    "\n",
    "    scatter_energies = go.Scatter(x=quanta, y=energy, mode='markers')\n",
    "    scatter_harmonics  = go.Scatter(x=quanta, y=harmonic_energy, mode='lines')\n",
    "    scatter_fit = go.Scatter(x=quanta, y=fit_energy, mode='lines')\n",
    "    fig.add_trace(scatter_energies, row=row_idx+1, col=col_idx+1)\n",
    "    fig.add_trace(scatter_harmonics, row=row_idx+1, col=col_idx+1)\n",
    "    fig.add_trace(scatter_fit, row=row_idx+1, col=col_idx+1)\n",
    "\n",
    "fig.show()"
   ]
  },
  {
   "cell_type": "code",
   "execution_count": 82,
   "metadata": {},
   "outputs": [
    {
     "data": {
      "application/vnd.plotly.v1+json": {
       "config": {
        "plotlyServerURL": "https://plot.ly"
       },
       "data": [
        {
         "hovertemplate": "Number of neutrons (N)=%{x}<br>Number of protons (Z)=%{y}<br>anharmonicity=%{marker.color}<extra></extra>",
         "legendgroup": "",
         "marker": {
          "color": [
           -0.1805688336523737,
           -0.1805688336523737,
           -0.1805688336523737,
           -0.2170660147217958,
           -0.2170660147217958,
           -0.2170660147217958,
           -0.2170660147217958,
           0.11652296029326628,
           0.11652296029326628,
           0.11652296029326628,
           0.11652296029326628,
           0.11652296029326628,
           0.11652296029326628,
           0.26923297506937005,
           0.26923297506937005,
           0.26923297506937005,
           0.26923297506937005,
           0.26923297506937005,
           0.2234086285149105,
           0.2234086285149105,
           0.2234086285149105,
           0.2234086285149105,
           0.2234086285149105,
           0.4185374292173181,
           0.4185374292173181,
           0.4185374292173181,
           0.4185374292173181,
           0.000014130650846439179,
           0.000014130650846439179,
           0.000014130650846439179,
           0.000014130650846439179,
           0.000014130650846439179,
           0.000014130650846439179,
           0.000014130650846439179,
           0.014567425385415333,
           0.014567425385415333,
           0.014567425385415333,
           0.014567425385415333,
           0.014567425385415333,
           -0.02048071955999896,
           -0.02048071955999896,
           -0.02048071955999896,
           0.00004735426832651777,
           0.00004735426832651777,
           0.00004735426832651777,
           0.00004735426832651777,
           0.00004735426832651777,
           0.00004735426832651777,
           0.00004735426832651777,
           0.00004735426832651777,
           0.00004735426832651777,
           -0.03458987513880889,
           -0.03458987513880889,
           -0.03458987513880889,
           -0.03458987513880889,
           -0.03458987513880889,
           -0.2654497422382494,
           -0.2654497422382494,
           -0.2654497422382494,
           -0.2654497422382494,
           -0.09327582160161493,
           -0.09327582160161493,
           -0.09327582160161493,
           -0.09327582160161493,
           -0.09327582160161493,
           0.030171273913124137,
           0.030171273913124137,
           0.030171273913124137,
           0.030171273913124137,
           0.030171273913124137,
           0.030171273913124137,
           0.06246966776816049,
           0.06246966776816049,
           0.06246966776816049,
           0.06246966776816049,
           0.06246966776816049,
           -0.311739912848946,
           -0.311739912848946,
           -0.311739912848946,
           -0.311739912848946,
           0.003002150854678824,
           0.003002150854678824,
           0.003002150854678824,
           0.003002150854678824,
           0.003002150854678824,
           0.003002150854678824,
           0.003002150854678824,
           0.07909648192894725,
           0.07909648192894725,
           0.07909648192894725,
           0.07909648192894725,
           0.07909648192894725,
           -0.3232467818000523,
           -0.3232467818000523,
           -0.3232467818000523,
           -0.3232467818000523,
           0.026881492612860162,
           0.026881492612860162,
           0.026881492612860162,
           0.026881492612860162,
           0.026881492612860162,
           0.026881492612860162,
           0.34625116623317004,
           0.34625116623317004,
           0.34625116623317004,
           0.34625116623317004,
           -0.000060394195019236164,
           -0.000060394195019236164,
           -0.000060394195019236164,
           -0.000060394195019236164,
           -0.000060394195019236164,
           -0.000060394195019236164,
           0.10907676595995751,
           0.10907676595995751,
           0.10907676595995751,
           0.10907676595995751,
           0.10907676595995751,
           0.10130120710327671,
           0.10130120710327671,
           0.10130120710327671,
           0.10130120710327671,
           0.10130120710327671,
           0.49207537493167564,
           0.49207537493167564,
           0.49207537493167564,
           0.49207537493167564,
           5.252737157022082e-7,
           5.252737157022082e-7,
           5.252737157022082e-7,
           5.252737157022082e-7,
           5.252737157022082e-7,
           5.252737157022082e-7,
           5.252737157022082e-7,
           5.252737157022082e-7,
           5.252737157022082e-7,
           5.252737157022082e-7,
           5.252737157022082e-7,
           0.07931085168399606,
           0.07931085168399606,
           0.07931085168399606,
           0.07931085168399606,
           0.07931085168399606,
           0.19069080713646672,
           0.19069080713646672,
           0.19069080713646672,
           0.19069080713646672,
           0.19069080713646672,
           0.35192610104799726,
           0.35192610104799726,
           0.35192610104799726,
           0.35192610104799726,
           0.3584913376555807,
           0.3584913376555807,
           0.3584913376555807,
           0.24379739550943533,
           0.24379739550943533,
           0.24379739550943533,
           0.00009004744236369079,
           0.00009004744236369079,
           0.00009004744236369079,
           0.00009004744236369079,
           0.00009004744236369079,
           0.00009004744236369079,
           0.00009004744236369079,
           0.00009004744236369079,
           0.02377066723910256,
           0.02377066723910256,
           0.02377066723910256,
           0.02377066723910256,
           0.02377066723910256,
           0.45658974574137795,
           0.45658974574137795,
           0.45658974574137795,
           0.013124297635982093,
           0.013124297635982093,
           0.013124297635982093,
           0.013124297635982093,
           0.013124297635982093,
           0.013124297635982093,
           1.1379651743325353e-7,
           1.1379651743325353e-7,
           1.1379651743325353e-7,
           1.1379651743325353e-7,
           1.1379651743325353e-7,
           1.1379651743325353e-7,
           1.1379651743325353e-7,
           1.1379651743325353e-7,
           1.1379651743325353e-7,
           1.1379651743325353e-7,
           1.1379651743325353e-7,
           1.1379651743325353e-7,
           0.002463800712723234,
           0.002463800712723234,
           0.002463800712723234,
           0.002463800712723234,
           0.002463800712723234,
           0.002463800712723234,
           0.002463800712723234,
           0.0630717222259361,
           0.0630717222259361,
           0.0630717222259361,
           0.0630717222259361,
           0.0630717222259361,
           1.2914707517199445e-7,
           1.2914707517199445e-7,
           1.2914707517199445e-7,
           1.2914707517199445e-7,
           1.2914707517199445e-7,
           1.2914707517199445e-7,
           1.2914707517199445e-7,
           1.2914707517199445e-7,
           1.2914707517199445e-7,
           1.2914707517199445e-7,
           1.2914707517199445e-7,
           1.2914707517199445e-7,
           0.00033366406962786246,
           0.00033366406962786246,
           0.00033366406962786246,
           0.00033366406962786246,
           0.00033366406962786246,
           0.00033366406962786246,
           0.00033366406962786246,
           0.00033366406962786246,
           0.34446238760839987,
           0.34446238760839987,
           0.34446238760839987,
           -0.0012518479214078048,
           -0.0012518479214078048,
           -0.0012518479214078048,
           -0.0012518479214078048,
           -0.0012518479214078048,
           -0.0012518479214078048,
           -0.0012518479214078048,
           9.853028762469433e-8,
           9.853028762469433e-8,
           9.853028762469433e-8,
           9.853028762469433e-8,
           9.853028762469433e-8,
           9.853028762469433e-8,
           9.853028762469433e-8,
           9.853028762469433e-8,
           9.853028762469433e-8,
           9.853028762469433e-8,
           9.853028762469433e-8,
           9.853028762469433e-8,
           0.0052967762049852506,
           0.0052967762049852506,
           0.0052967762049852506,
           0.0052967762049852506,
           0.0052967762049852506,
           0.0052967762049852506,
           0.0052967762049852506,
           0.3048979080546162,
           0.3048979080546162,
           0.3048979080546162,
           0.31390306085623976,
           0.31390306085623976,
           0.31390306085623976,
           0.31390306085623976,
           -0.40041360544217686,
           -0.40041360544217686,
           -0.40041360544217686,
           -0.13543866663605966,
           -0.13543866663605966,
           -0.13543866663605966,
           -0.13543866663605966,
           -0.13543866663605966,
           -0.036238407616169255,
           -0.036238407616169255,
           -0.036238407616169255,
           -0.036238407616169255,
           -0.036238407616169255,
           0.008275290814108832,
           0.008275290814108832,
           0.008275290814108832,
           0.008275290814108832,
           0.008275290814108832,
           0.008275290814108832,
           0.0243172036393329,
           0.0243172036393329,
           0.0243172036393329,
           0.0243172036393329,
           0.000009056480346715455,
           0.000009056480346715455,
           0.000009056480346715455,
           0.000009056480346715455,
           0.000009056480346715455,
           0.000009056480346715455,
           0.000009056480346715455,
           0.000009056480346715455,
           0.000009056480346715455,
           0.000009056480346715455,
           0.000029565459923733835,
           0.000029565459923733835,
           0.000029565459923733835,
           0.000029565459923733835,
           0.000029565459923733835,
           0.000029565459923733835,
           0.000029565459923733835,
           0.000029565459923733835,
           0.000029565459923733835,
           6.89310777182895e-8,
           6.89310777182895e-8,
           6.89310777182895e-8,
           6.89310777182895e-8,
           6.89310777182895e-8,
           6.89310777182895e-8,
           6.89310777182895e-8,
           6.89310777182895e-8,
           6.89310777182895e-8,
           6.89310777182895e-8,
           6.89310777182895e-8,
           6.89310777182895e-8,
           9.721942662921364e-9,
           9.721942662921364e-9,
           9.721942662921364e-9,
           9.721942662921364e-9,
           9.721942662921364e-9,
           9.721942662921364e-9,
           9.721942662921364e-9,
           9.721942662921364e-9,
           9.721942662921364e-9,
           9.721942662921364e-9,
           9.721942662921364e-9,
           9.721942662921364e-9,
           9.721942662921364e-9,
           0.018749441598765966,
           0.018749441598765966,
           0.018749441598765966,
           0.018749441598765966,
           0.018749441598765966,
           0.018749441598765966,
           1.039401731478415e-8,
           1.039401731478415e-8,
           1.039401731478415e-8,
           1.039401731478415e-8,
           1.039401731478415e-8,
           1.039401731478415e-8,
           1.039401731478415e-8,
           1.039401731478415e-8,
           1.039401731478415e-8,
           1.039401731478415e-8,
           1.039401731478415e-8,
           1.039401731478415e-8,
           1.039401731478415e-8,
           0.000002876014132452662,
           0.000002876014132452662,
           0.000002876014132452662,
           0.000002876014132452662,
           0.000002876014132452662,
           0.000002876014132452662,
           0.000002876014132452662,
           0.000002876014132452662,
           0.000002876014132452662,
           0.000002876014132452662,
           0.000007474470994233893,
           0.000007474470994233893,
           0.000007474470994233893,
           0.000007474470994233893,
           0.000007474470994233893,
           0.000007474470994233893,
           0.000007474470994233893,
           0.000007474470994233893,
           0.000008068697078690063,
           0.000008068697078690063,
           0.000008068697078690063,
           0.000008068697078690063,
           0.000008068697078690063,
           0.000008068697078690063,
           0.000008068697078690063,
           0.000008068697078690063,
           0.000008068697078690063,
           0.000008068697078690063,
           0.08529351846169338,
           0.08529351846169338,
           0.08529351846169338,
           0.08529351846169338,
           0.08529351846169338,
           5.981868552533e-10,
           5.981868552533e-10,
           5.981868552533e-10,
           5.981868552533e-10,
           5.981868552533e-10,
           5.981868552533e-10,
           5.981868552533e-10,
           5.981868552533e-10,
           5.981868552533e-10,
           5.981868552533e-10,
           5.981868552533e-10,
           5.981868552533e-10,
           5.981868552533e-10,
           5.981868552533e-10,
           0.000001891896181275032,
           0.000001891896181275032,
           0.000001891896181275032,
           0.000001891896181275032,
           0.000001891896181275032,
           0.000001891896181275032,
           0.000001891896181275032,
           0.000001891896181275032,
           0.000001891896181275032,
           0.000001891896181275032,
           5.674316969730936e-11,
           5.674316969730936e-11,
           5.674316969730936e-11,
           5.674316969730936e-11,
           5.674316969730936e-11,
           5.674316969730936e-11,
           5.674316969730936e-11,
           5.674316969730936e-11,
           5.674316969730936e-11,
           5.674316969730936e-11,
           5.674316969730936e-11,
           5.674316969730936e-11,
           5.674316969730936e-11,
           5.674316969730936e-11,
           5.674316969730936e-11,
           0.000058627710981812954,
           0.000058627710981812954,
           0.000058627710981812954,
           0.000058627710981812954,
           0.000058627710981812954,
           0.000058627710981812954,
           0.000058627710981812954,
           0.000058627710981812954,
           0.13430019097382626,
           0.13430019097382626,
           0.13430019097382626,
           0.13430019097382626,
           1.1015491573326454e-8,
           1.1015491573326454e-8,
           1.1015491573326454e-8,
           1.1015491573326454e-8,
           1.1015491573326454e-8,
           1.1015491573326454e-8,
           1.1015491573326454e-8,
           1.1015491573326454e-8,
           1.1015491573326454e-8,
           1.1015491573326454e-8,
           1.1015491573326454e-8,
           1.1015491573326454e-8,
           2.0380596163156027e-7,
           2.0380596163156027e-7,
           2.0380596163156027e-7,
           2.0380596163156027e-7,
           2.0380596163156027e-7,
           2.0380596163156027e-7,
           2.0380596163156027e-7,
           2.0380596163156027e-7,
           2.0380596163156027e-7,
           2.0380596163156027e-7,
           2.0380596163156027e-7,
           0.000003836651461766963,
           0.000003836651461766963,
           0.000003836651461766963,
           0.000003836651461766963,
           0.000003836651461766963,
           0.000003836651461766963,
           0.000003836651461766963,
           0.000003836651461766963,
           0.000003836651461766963,
           0.000003836651461766963,
           -0.060018360119051074,
           -0.060018360119051074,
           -0.060018360119051074,
           -0.060018360119051074,
           -0.060018360119051074,
           -0.2679613870133737,
           -0.2679613870133737,
           -0.2679613870133737,
           -0.2679613870133737,
           -0.29035928365780866,
           -0.29035928365780866,
           -0.29035928365780866,
           -0.29035928365780866,
           -0.3136785946548039,
           -0.3136785946548039,
           -0.3136785946548039,
           -0.3136785946548039,
           0.06139857672585323,
           0.06139857672585323,
           0.06139857672585323,
           0.06139857672585323,
           0.06139857672585323,
           0.06533649960188978,
           0.06533649960188978,
           0.06533649960188978,
           0.06533649960188978,
           0.06533649960188978,
           0.050219859190420865,
           0.050219859190420865,
           0.050219859190420865,
           0.050219859190420865,
           0.050219859190420865,
           -0.0006365635046301246,
           -0.0006365635046301246,
           -0.0006365635046301246,
           -0.0006365635046301246,
           -0.0006365635046301246,
           -0.0006365635046301246,
           -0.0006365635046301246,
           4.669727371388319e-29,
           4.669727371388319e-29,
           4.669727371388319e-29,
           4.669727371388319e-29,
           4.669727371388319e-29,
           4.669727371388319e-29,
           4.669727371388319e-29,
           4.669727371388319e-29,
           4.669727371388319e-29,
           4.669727371388319e-29,
           4.669727371388319e-29,
           4.669727371388319e-29,
           4.669727371388319e-29,
           4.669727371388319e-29,
           4.669727371388319e-29,
           4.669727371388319e-29,
           4.669727371388319e-29,
           4.669727371388319e-29,
           4.669727371388319e-29,
           4.669727371388319e-29,
           4.669727371388319e-29,
           4.669727371388319e-29,
           4.669727371388319e-29,
           4.669727371388319e-29,
           4.669727371388319e-29,
           4.669727371388319e-29,
           4.669727371388319e-29,
           4.669727371388319e-29,
           4.669727371388319e-29,
           9.91952671652627e-8,
           9.91952671652627e-8,
           9.91952671652627e-8,
           9.91952671652627e-8,
           9.91952671652627e-8,
           9.91952671652627e-8,
           9.91952671652627e-8,
           9.91952671652627e-8,
           9.91952671652627e-8,
           9.91952671652627e-8,
           9.91952671652627e-8,
           9.91952671652627e-8,
           -0.00047604087044752786,
           -0.00047604087044752786,
           -0.00047604087044752786,
           -0.00047604087044752786,
           -0.00047604087044752786,
           -0.00047604087044752786,
           -0.00047604087044752786,
           0.010483059870942987,
           0.010483059870942987,
           0.010483059870942987,
           0.010483059870942987,
           0.021379602635405684,
           0.021379602635405684,
           0.021379602635405684,
           0.021379602635405684,
           0.021379602635405684,
           0.021379602635405684,
           0.31608789687431715,
           0.31608789687431715,
           0.31608789687431715,
           -0.22176362228576138,
           -0.22176362228576138,
           -0.22176362228576138,
           -0.22176362228576138,
           0.000013468348754567354,
           0.000013468348754567354,
           0.000013468348754567354,
           0.000013468348754567354,
           0.000013468348754567354,
           0.000013468348754567354,
           0.000013468348754567354,
           0.000025482949486967814,
           0.000025482949486967814,
           0.000025482949486967814,
           0.000025482949486967814,
           0.000025482949486967814,
           0.000025482949486967814,
           0.000025482949486967814,
           0.000025482949486967814,
           0.000025482949486967814,
           -0.00044873312283003714,
           -0.00044873312283003714,
           -0.00044873312283003714,
           -0.00044873312283003714,
           -0.00044873312283003714,
           -0.00044873312283003714,
           -0.00044873312283003714,
           -0.010728091312445268,
           -0.010728091312445268,
           -0.010728091312445268,
           -0.010728091312445268,
           -0.010728091312445268,
           -0.010728091312445268,
           5.8051972035084896e-9,
           5.8051972035084896e-9,
           5.8051972035084896e-9,
           5.8051972035084896e-9,
           5.8051972035084896e-9,
           5.8051972035084896e-9,
           5.8051972035084896e-9,
           5.8051972035084896e-9,
           5.8051972035084896e-9,
           5.8051972035084896e-9,
           5.8051972035084896e-9,
           0.08140863823407425,
           0.08140863823407425,
           0.08140863823407425,
           0.08140863823407425,
           0.08140863823407425,
           4.7641807993094627e-7,
           4.7641807993094627e-7,
           4.7641807993094627e-7,
           4.7641807993094627e-7,
           4.7641807993094627e-7,
           4.7641807993094627e-7,
           4.7641807993094627e-7,
           4.7641807993094627e-7,
           4.7641807993094627e-7,
           4.7641807993094627e-7,
           4.7641807993094627e-7,
           0.0000014005048693886051,
           0.0000014005048693886051,
           0.0000014005048693886051,
           0.0000014005048693886051,
           0.0000014005048693886051,
           0.0000014005048693886051,
           0.0000014005048693886051,
           0.0000014005048693886051,
           0.0000014005048693886051,
           0.0000014005048693886051,
           0.0000014005048693886051,
           1.6286177589819244e-7,
           1.6286177589819244e-7,
           1.6286177589819244e-7,
           1.6286177589819244e-7,
           1.6286177589819244e-7,
           1.6286177589819244e-7,
           1.6286177589819244e-7,
           1.6286177589819244e-7,
           1.6286177589819244e-7,
           1.6286177589819244e-7,
           1.6286177589819244e-7,
           1.6286177589819244e-7,
           9.728576529901996e-10,
           9.728576529901996e-10,
           9.728576529901996e-10,
           9.728576529901996e-10,
           9.728576529901996e-10,
           9.728576529901996e-10,
           9.728576529901996e-10,
           9.728576529901996e-10,
           9.728576529901996e-10,
           9.728576529901996e-10,
           9.728576529901996e-10,
           9.728576529901996e-10,
           9.728576529901996e-10,
           9.728576529901996e-10,
           1.2671388584278985e-8,
           1.2671388584278985e-8,
           1.2671388584278985e-8,
           1.2671388584278985e-8,
           1.2671388584278985e-8,
           1.2671388584278985e-8,
           1.2671388584278985e-8,
           1.2671388584278985e-8,
           1.2671388584278985e-8,
           1.2671388584278985e-8,
           1.2671388584278985e-8,
           1.2671388584278985e-8,
           1.2671388584278985e-8,
           0.007834656371921054,
           0.007834656371921054,
           0.007834656371921054,
           0.007834656371921054,
           0.007834656371921054,
           0.007834656371921054,
           0.007834656371921054,
           0.0001563665976984714,
           0.0001563665976984714,
           0.0001563665976984714,
           0.0001563665976984714,
           0.0001563665976984714,
           0.0001563665976984714,
           0.0001563665976984714,
           0.0001563665976984714,
           0.0001563665976984714,
           1.1898689584823331e-27,
           1.1898689584823331e-27,
           1.1898689584823331e-27,
           1.1898689584823331e-27,
           1.1898689584823331e-27,
           1.1898689584823331e-27,
           1.1898689584823331e-27,
           1.1898689584823331e-27,
           1.1898689584823331e-27,
           1.1898689584823331e-27,
           1.1898689584823331e-27,
           1.1898689584823331e-27,
           1.1898689584823331e-27,
           1.1898689584823331e-27,
           1.1898689584823331e-27,
           1.1898689584823331e-27,
           1.1898689584823331e-27,
           1.1898689584823331e-27,
           1.1898689584823331e-27,
           1.1898689584823331e-27,
           1.1898689584823331e-27,
           1.1898689584823331e-27,
           1.1898689584823331e-27,
           1.1898689584823331e-27,
           1.1898689584823331e-27,
           1.1898689584823331e-27,
           1.1898689584823331e-27,
           1.1898689584823331e-27,
           1.2180358495150855e-7,
           1.2180358495150855e-7,
           1.2180358495150855e-7,
           1.2180358495150855e-7,
           1.2180358495150855e-7,
           1.2180358495150855e-7,
           1.2180358495150855e-7,
           1.2180358495150855e-7,
           1.2180358495150855e-7,
           1.2180358495150855e-7,
           1.2180358495150855e-7,
           1.2180358495150855e-7,
           7.431611693779197e-11,
           7.431611693779197e-11,
           7.431611693779197e-11,
           7.431611693779197e-11,
           7.431611693779197e-11,
           7.431611693779197e-11,
           7.431611693779197e-11,
           7.431611693779197e-11,
           7.431611693779197e-11,
           7.431611693779197e-11,
           7.431611693779197e-11,
           7.431611693779197e-11,
           7.431611693779197e-11,
           7.431611693779197e-11,
           7.431611693779197e-11,
           6.994013520444191e-11,
           6.994013520444191e-11,
           6.994013520444191e-11,
           6.994013520444191e-11,
           6.994013520444191e-11,
           6.994013520444191e-11,
           6.994013520444191e-11,
           6.994013520444191e-11,
           6.994013520444191e-11,
           6.994013520444191e-11,
           6.994013520444191e-11,
           6.994013520444191e-11,
           6.994013520444191e-11,
           6.994013520444191e-11,
           6.994013520444191e-11,
           0.0011707997085151393,
           0.0011707997085151393,
           0.0011707997085151393,
           0.0011707997085151393,
           0.0011707997085151393,
           0.0011707997085151393,
           0.0011707997085151393,
           0.0011707997085151393,
           0.0000010918713353170914,
           0.0000010918713353170914,
           0.0000010918713353170914,
           0.0000010918713353170914,
           0.0000010918713353170914,
           0.0000010918713353170914,
           0.0000010918713353170914,
           0.0000010918713353170914,
           0.0000010918713353170914,
           0.0000010918713353170914,
           0.0000010918713353170914,
           1.5217111011378666e-15,
           1.5217111011378666e-15,
           1.5217111011378666e-15,
           1.5217111011378666e-15,
           1.5217111011378666e-15,
           1.5217111011378666e-15,
           1.5217111011378666e-15,
           1.5217111011378666e-15,
           1.5217111011378666e-15,
           1.5217111011378666e-15,
           1.5217111011378666e-15,
           1.5217111011378666e-15,
           1.5217111011378666e-15,
           1.5217111011378666e-15,
           1.5217111011378666e-15,
           1.5217111011378666e-15,
           1.5217111011378666e-15,
           1.5217111011378666e-15,
           1.5217111011378666e-15,
           0.0010660140625096907,
           0.0010660140625096907,
           0.0010660140625096907,
           0.0010660140625096907,
           0.0010660140625096907,
           0.0010660140625096907,
           0.0010660140625096907,
           0.0010660140625096907,
           0.00016012079823478527,
           0.00016012079823478527,
           0.00016012079823478527,
           0.00016012079823478527,
           0.00016012079823478527,
           0.00016012079823478527,
           0.00016012079823478527,
           0.00016012079823478527,
           0.00016012079823478527,
           1.2196132230979839e-9,
           1.2196132230979839e-9,
           1.2196132230979839e-9,
           1.2196132230979839e-9,
           1.2196132230979839e-9,
           1.2196132230979839e-9,
           1.2196132230979839e-9,
           1.2196132230979839e-9,
           1.2196132230979839e-9,
           1.2196132230979839e-9,
           1.2196132230979839e-9,
           1.2196132230979839e-9,
           1.2196132230979839e-9,
           1.5749114776162735e-15,
           1.5749114776162735e-15,
           1.5749114776162735e-15,
           1.5749114776162735e-15,
           1.5749114776162735e-15,
           1.5749114776162735e-15,
           1.5749114776162735e-15,
           1.5749114776162735e-15,
           1.5749114776162735e-15,
           1.5749114776162735e-15,
           1.5749114776162735e-15,
           1.5749114776162735e-15,
           1.5749114776162735e-15,
           1.5749114776162735e-15,
           1.5749114776162735e-15,
           1.5749114776162735e-15,
           1.5749114776162735e-15,
           1.5749114776162735e-15,
           1.5749114776162735e-15,
           0.0000014224810958366048,
           0.0000014224810958366048,
           0.0000014224810958366048,
           0.0000014224810958366048,
           0.0000014224810958366048,
           0.0000014224810958366048,
           0.0000014224810958366048,
           0.0000014224810958366048,
           0.0000014224810958366048,
           0.0000014224810958366048,
           0.0000014224810958366048,
           0.04849384809913869,
           0.04849384809913869,
           0.04849384809913869,
           0.04849384809913869,
           0.04849384809913869,
           0.04849384809913869,
           0.04856477536064694,
           0.04856477536064694,
           0.04856477536064694,
           0.04856477536064694,
           0.04856477536064694,
           0.04856477536064694,
           0.2632771307597753,
           0.2632771307597753,
           0.2632771307597753,
           0.2632771307597753,
           0.2632771307597753,
           0.0000013880823620366825,
           0.0000013880823620366825,
           0.0000013880823620366825,
           0.0000013880823620366825,
           0.0000013880823620366825,
           0.0000013880823620366825,
           0.0000013880823620366825,
           0.0000013880823620366825,
           0.0000013880823620366825,
           0.0000011548176705465246,
           0.0000011548176705465246,
           0.0000011548176705465246,
           0.0000011548176705465246,
           0.0000011548176705465246,
           0.0000011548176705465246,
           0.0000011548176705465246,
           0.0000011548176705465246,
           0.0000011548176705465246,
           0.0000011548176705465246,
           0.0000011548176705465246,
           0.0000018466865780063232,
           0.0000018466865780063232,
           0.0000018466865780063232,
           0.0000018466865780063232,
           0.0000018466865780063232,
           0.0000018466865780063232,
           0.0000018466865780063232,
           0.0000018466865780063232,
           0.0000018466865780063232,
           0.0000018466865780063232,
           0.0000018466865780063232,
           0.0000014802328030983144,
           0.0000014802328030983144,
           0.0000014802328030983144,
           0.0000014802328030983144,
           0.0000014802328030983144,
           0.0000014802328030983144,
           0.0000014802328030983144,
           0.0000014802328030983144,
           0.0000014802328030983144,
           0.0000014802328030983144,
           0.0000014802328030983144,
           0.00013635735326841014,
           0.00013635735326841014,
           0.00013635735326841014,
           0.00013635735326841014,
           0.00013635735326841014,
           0.00013635735326841014,
           0.00013635735326841014,
           0.00013635735326841014,
           0.00013635735326841014,
           0.0012343419359550512,
           0.0012343419359550512,
           0.0012343419359550512,
           0.0012343419359550512,
           0.0012343419359550512,
           0.0012343419359550512,
           0.0012343419359550512,
           0.0012343419359550512,
           0.0000027539483546786503,
           0.0000027539483546786503,
           0.0000027539483546786503,
           0.0000027539483546786503,
           0.0000027539483546786503,
           0.0000027539483546786503,
           0.0000027539483546786503,
           0.0000027539483546786503,
           0.0000027539483546786503,
           0.1801574465989505,
           0.1801574465989505,
           0.1801574465989505,
           0.1801574465989505,
           0.1801574465989505,
           0.005365051313324645,
           0.005365051313324645,
           0.005365051313324645,
           0.005365051313324645,
           0.005365051313324645,
           0.005365051313324645,
           0.005365051313324645,
           0.019059963980194498,
           0.019059963980194498,
           0.019059963980194498,
           0.019059963980194498,
           0.019059963980194498,
           0.019059963980194498,
           0.40986173149841515,
           0.40986173149841515,
           0.40986173149841515,
           0.40986173149841515,
           0.09674225657143844,
           0.09674225657143844,
           0.09674225657143844,
           0.09674225657143844,
           0.09674225657143844,
           0.09978397352411295,
           0.09978397352411295,
           0.09978397352411295,
           0.09978397352411295,
           0.09978397352411295,
           0.4917601765341101,
           0.4917601765341101,
           0.4917601765341101,
           0.0000013849905751739838,
           0.0000013849905751739838,
           0.0000013849905751739838,
           0.0000013849905751739838,
           0.0000013849905751739838,
           0.0000013849905751739838,
           0.0000013849905751739838,
           0.0000013849905751739838,
           0.0000013849905751739838,
           0.0000013849905751739838,
           4.4827012150219836e-7,
           4.4827012150219836e-7,
           4.4827012150219836e-7,
           4.4827012150219836e-7,
           4.4827012150219836e-7,
           4.4827012150219836e-7,
           4.4827012150219836e-7,
           4.4827012150219836e-7,
           4.4827012150219836e-7,
           4.4827012150219836e-7,
           4.4827012150219836e-7,
           0.48245386601411877,
           0.48245386601411877,
           0.48245386601411877,
           0.48245386601411877
          ],
          "coloraxis": "coloraxis",
          "symbol": "circle"
         },
         "mode": "markers",
         "name": "",
         "showlegend": false,
         "type": "scattergl",
         "x": [
          7,
          7,
          7,
          8,
          8,
          8,
          8,
          10,
          10,
          10,
          10,
          10,
          10,
          12,
          12,
          12,
          12,
          12,
          14,
          14,
          14,
          14,
          14,
          16,
          16,
          16,
          16,
          16,
          16,
          16,
          16,
          16,
          16,
          16,
          18,
          18,
          18,
          18,
          18,
          20,
          20,
          20,
          18,
          18,
          18,
          18,
          18,
          18,
          18,
          18,
          18,
          20,
          20,
          20,
          20,
          20,
          22,
          22,
          22,
          22,
          20,
          20,
          20,
          20,
          20,
          22,
          22,
          22,
          22,
          22,
          22,
          24,
          24,
          24,
          24,
          24,
          26,
          26,
          26,
          26,
          24,
          24,
          24,
          24,
          24,
          24,
          24,
          26,
          26,
          26,
          26,
          26,
          28,
          28,
          28,
          28,
          28,
          28,
          28,
          28,
          28,
          28,
          30,
          30,
          30,
          30,
          28,
          28,
          28,
          28,
          28,
          28,
          30,
          30,
          30,
          30,
          30,
          32,
          32,
          32,
          32,
          32,
          30,
          30,
          30,
          30,
          32,
          32,
          32,
          32,
          32,
          32,
          32,
          32,
          32,
          32,
          32,
          34,
          34,
          34,
          34,
          34,
          36,
          36,
          36,
          36,
          36,
          34,
          34,
          34,
          34,
          36,
          36,
          36,
          38,
          38,
          38,
          38,
          38,
          38,
          38,
          38,
          38,
          38,
          38,
          40,
          40,
          40,
          40,
          40,
          42,
          42,
          42,
          44,
          44,
          44,
          44,
          44,
          44,
          40,
          40,
          40,
          40,
          40,
          40,
          40,
          40,
          40,
          40,
          40,
          40,
          42,
          42,
          42,
          42,
          42,
          42,
          42,
          44,
          44,
          44,
          44,
          44,
          42,
          42,
          42,
          42,
          42,
          42,
          42,
          42,
          42,
          42,
          42,
          42,
          44,
          44,
          44,
          44,
          44,
          44,
          44,
          44,
          46,
          46,
          46,
          48,
          48,
          48,
          48,
          48,
          48,
          48,
          46,
          46,
          46,
          46,
          46,
          46,
          46,
          46,
          46,
          46,
          46,
          46,
          48,
          48,
          48,
          48,
          48,
          48,
          48,
          50,
          50,
          50,
          52,
          52,
          52,
          52,
          54,
          54,
          54,
          50,
          50,
          50,
          50,
          50,
          52,
          52,
          52,
          52,
          52,
          54,
          54,
          54,
          54,
          54,
          54,
          56,
          56,
          56,
          56,
          52,
          52,
          52,
          52,
          52,
          52,
          52,
          52,
          52,
          52,
          54,
          54,
          54,
          54,
          54,
          54,
          54,
          54,
          54,
          56,
          56,
          56,
          56,
          56,
          56,
          56,
          56,
          56,
          56,
          56,
          56,
          58,
          58,
          58,
          58,
          58,
          58,
          58,
          58,
          58,
          58,
          58,
          58,
          58,
          60,
          60,
          60,
          60,
          60,
          60,
          56,
          56,
          56,
          56,
          56,
          56,
          56,
          56,
          56,
          56,
          56,
          56,
          56,
          58,
          58,
          58,
          58,
          58,
          58,
          58,
          58,
          58,
          58,
          60,
          60,
          60,
          60,
          60,
          60,
          60,
          60,
          62,
          62,
          62,
          62,
          62,
          62,
          62,
          62,
          62,
          62,
          64,
          64,
          64,
          64,
          64,
          58,
          58,
          58,
          58,
          58,
          58,
          58,
          58,
          58,
          58,
          58,
          58,
          58,
          58,
          60,
          60,
          60,
          60,
          60,
          60,
          60,
          60,
          60,
          60,
          62,
          62,
          62,
          62,
          62,
          62,
          62,
          62,
          62,
          62,
          62,
          62,
          62,
          62,
          62,
          64,
          64,
          64,
          64,
          64,
          64,
          64,
          64,
          66,
          66,
          66,
          66,
          62,
          62,
          62,
          62,
          62,
          62,
          62,
          62,
          62,
          62,
          62,
          62,
          64,
          64,
          64,
          64,
          64,
          64,
          64,
          64,
          64,
          64,
          64,
          66,
          66,
          66,
          66,
          66,
          66,
          66,
          66,
          66,
          66,
          68,
          68,
          68,
          68,
          68,
          70,
          70,
          70,
          70,
          72,
          72,
          72,
          72,
          74,
          74,
          74,
          74,
          68,
          68,
          68,
          68,
          68,
          70,
          70,
          70,
          70,
          70,
          72,
          72,
          72,
          72,
          72,
          74,
          74,
          74,
          74,
          74,
          74,
          74,
          72,
          72,
          72,
          72,
          72,
          72,
          72,
          72,
          72,
          72,
          72,
          72,
          72,
          72,
          72,
          72,
          72,
          72,
          72,
          72,
          72,
          72,
          72,
          72,
          72,
          72,
          72,
          72,
          72,
          74,
          74,
          74,
          74,
          74,
          74,
          74,
          74,
          74,
          74,
          74,
          74,
          76,
          76,
          76,
          76,
          76,
          76,
          76,
          78,
          78,
          78,
          78,
          74,
          74,
          74,
          74,
          74,
          74,
          78,
          78,
          78,
          80,
          80,
          80,
          80,
          82,
          82,
          82,
          82,
          82,
          82,
          82,
          78,
          78,
          78,
          78,
          78,
          78,
          78,
          78,
          78,
          82,
          82,
          82,
          82,
          82,
          82,
          82,
          82,
          82,
          82,
          82,
          82,
          82,
          86,
          86,
          86,
          86,
          86,
          86,
          86,
          86,
          86,
          86,
          86,
          88,
          88,
          88,
          88,
          88,
          88,
          88,
          88,
          88,
          88,
          88,
          88,
          88,
          88,
          88,
          88,
          90,
          90,
          90,
          90,
          90,
          90,
          90,
          90,
          90,
          90,
          90,
          92,
          92,
          92,
          92,
          92,
          92,
          92,
          92,
          92,
          92,
          92,
          92,
          90,
          90,
          90,
          90,
          90,
          90,
          90,
          90,
          90,
          90,
          90,
          90,
          90,
          90,
          92,
          92,
          92,
          92,
          92,
          92,
          92,
          92,
          92,
          92,
          92,
          92,
          92,
          94,
          94,
          94,
          94,
          94,
          94,
          94,
          96,
          96,
          96,
          96,
          96,
          96,
          96,
          96,
          96,
          90,
          90,
          90,
          90,
          90,
          90,
          90,
          90,
          90,
          90,
          90,
          90,
          90,
          90,
          90,
          90,
          90,
          90,
          90,
          90,
          90,
          90,
          90,
          90,
          90,
          90,
          90,
          90,
          92,
          92,
          92,
          92,
          92,
          92,
          92,
          92,
          92,
          92,
          92,
          92,
          94,
          94,
          94,
          94,
          94,
          94,
          94,
          94,
          94,
          94,
          94,
          94,
          94,
          94,
          94,
          96,
          96,
          96,
          96,
          96,
          96,
          96,
          96,
          96,
          96,
          96,
          96,
          96,
          96,
          96,
          98,
          98,
          98,
          98,
          98,
          98,
          98,
          98,
          94,
          94,
          94,
          94,
          94,
          94,
          94,
          94,
          94,
          94,
          94,
          96,
          96,
          96,
          96,
          96,
          96,
          96,
          96,
          96,
          96,
          96,
          96,
          96,
          96,
          96,
          96,
          96,
          96,
          96,
          98,
          98,
          98,
          98,
          98,
          98,
          98,
          98,
          100,
          100,
          100,
          100,
          100,
          100,
          100,
          100,
          100,
          102,
          102,
          102,
          102,
          102,
          102,
          102,
          102,
          102,
          102,
          102,
          102,
          102,
          98,
          98,
          98,
          98,
          98,
          98,
          98,
          98,
          98,
          98,
          98,
          98,
          98,
          98,
          98,
          98,
          98,
          98,
          98,
          100,
          100,
          100,
          100,
          100,
          100,
          100,
          100,
          100,
          100,
          100,
          102,
          102,
          102,
          102,
          102,
          102,
          104,
          104,
          104,
          104,
          104,
          104,
          106,
          106,
          106,
          106,
          106,
          104,
          104,
          104,
          104,
          104,
          104,
          104,
          104,
          104,
          106,
          106,
          106,
          106,
          106,
          106,
          106,
          106,
          106,
          106,
          106,
          108,
          108,
          108,
          108,
          108,
          108,
          108,
          108,
          108,
          108,
          108,
          108,
          108,
          108,
          108,
          108,
          108,
          108,
          108,
          108,
          108,
          108,
          110,
          110,
          110,
          110,
          110,
          110,
          110,
          110,
          110,
          112,
          112,
          112,
          112,
          112,
          112,
          112,
          112,
          112,
          112,
          112,
          112,
          112,
          112,
          112,
          112,
          112,
          114,
          114,
          114,
          114,
          114,
          116,
          116,
          116,
          116,
          116,
          116,
          116,
          114,
          114,
          114,
          114,
          114,
          114,
          116,
          116,
          116,
          116,
          118,
          118,
          118,
          118,
          118,
          120,
          120,
          120,
          120,
          120,
          116,
          116,
          116,
          118,
          118,
          118,
          118,
          118,
          118,
          118,
          118,
          118,
          118,
          120,
          120,
          120,
          120,
          120,
          120,
          120,
          120,
          120,
          120,
          120,
          122,
          122,
          122,
          122
         ],
         "xaxis": "x",
         "y": [
          7,
          7,
          7,
          8,
          8,
          8,
          8,
          10,
          10,
          10,
          10,
          10,
          10,
          12,
          12,
          12,
          12,
          12,
          14,
          14,
          14,
          14,
          14,
          14,
          14,
          14,
          14,
          16,
          16,
          16,
          16,
          16,
          16,
          16,
          16,
          16,
          16,
          16,
          16,
          16,
          16,
          16,
          18,
          18,
          18,
          18,
          18,
          18,
          18,
          18,
          18,
          18,
          18,
          18,
          18,
          18,
          18,
          18,
          18,
          18,
          20,
          20,
          20,
          20,
          20,
          20,
          20,
          20,
          20,
          20,
          20,
          20,
          20,
          20,
          20,
          20,
          20,
          20,
          20,
          20,
          22,
          22,
          22,
          22,
          22,
          22,
          22,
          22,
          22,
          22,
          22,
          22,
          22,
          22,
          22,
          22,
          24,
          24,
          24,
          24,
          24,
          24,
          24,
          24,
          24,
          24,
          26,
          26,
          26,
          26,
          26,
          26,
          26,
          26,
          26,
          26,
          26,
          26,
          26,
          26,
          26,
          26,
          28,
          28,
          28,
          28,
          28,
          28,
          28,
          28,
          28,
          28,
          28,
          28,
          28,
          28,
          28,
          28,
          28,
          28,
          28,
          28,
          28,
          28,
          28,
          28,
          28,
          30,
          30,
          30,
          30,
          30,
          30,
          30,
          30,
          30,
          30,
          32,
          32,
          32,
          32,
          32,
          32,
          32,
          32,
          32,
          32,
          32,
          32,
          32,
          32,
          32,
          32,
          32,
          32,
          32,
          32,
          32,
          32,
          34,
          34,
          34,
          34,
          34,
          34,
          34,
          34,
          34,
          34,
          34,
          34,
          34,
          34,
          34,
          34,
          34,
          34,
          34,
          34,
          34,
          34,
          34,
          34,
          36,
          36,
          36,
          36,
          36,
          36,
          36,
          36,
          36,
          36,
          36,
          36,
          36,
          36,
          36,
          36,
          36,
          36,
          36,
          36,
          36,
          36,
          36,
          36,
          36,
          36,
          36,
          36,
          36,
          36,
          38,
          38,
          38,
          38,
          38,
          38,
          38,
          38,
          38,
          38,
          38,
          38,
          38,
          38,
          38,
          38,
          38,
          38,
          38,
          38,
          38,
          38,
          40,
          40,
          40,
          40,
          40,
          40,
          40,
          42,
          42,
          42,
          42,
          42,
          42,
          42,
          42,
          42,
          42,
          42,
          42,
          42,
          42,
          42,
          42,
          42,
          42,
          42,
          42,
          44,
          44,
          44,
          44,
          44,
          44,
          44,
          44,
          44,
          44,
          44,
          44,
          44,
          44,
          44,
          44,
          44,
          44,
          44,
          44,
          44,
          44,
          44,
          44,
          44,
          44,
          44,
          44,
          44,
          44,
          44,
          44,
          44,
          44,
          44,
          44,
          44,
          44,
          44,
          44,
          44,
          44,
          44,
          44,
          44,
          44,
          44,
          44,
          44,
          44,
          46,
          46,
          46,
          46,
          46,
          46,
          46,
          46,
          46,
          46,
          46,
          46,
          46,
          46,
          46,
          46,
          46,
          46,
          46,
          46,
          46,
          46,
          46,
          46,
          46,
          46,
          46,
          46,
          46,
          46,
          46,
          46,
          46,
          46,
          46,
          46,
          46,
          46,
          46,
          46,
          46,
          46,
          46,
          46,
          46,
          46,
          48,
          48,
          48,
          48,
          48,
          48,
          48,
          48,
          48,
          48,
          48,
          48,
          48,
          48,
          48,
          48,
          48,
          48,
          48,
          48,
          48,
          48,
          48,
          48,
          48,
          48,
          48,
          48,
          48,
          48,
          48,
          48,
          48,
          48,
          48,
          48,
          48,
          48,
          48,
          48,
          48,
          48,
          48,
          48,
          48,
          48,
          48,
          48,
          48,
          48,
          48,
          50,
          50,
          50,
          50,
          50,
          50,
          50,
          50,
          50,
          50,
          50,
          50,
          50,
          50,
          50,
          50,
          50,
          50,
          50,
          50,
          50,
          50,
          50,
          50,
          50,
          50,
          50,
          50,
          50,
          50,
          50,
          50,
          50,
          50,
          50,
          50,
          50,
          50,
          50,
          50,
          50,
          50,
          50,
          50,
          50,
          50,
          50,
          50,
          50,
          50,
          52,
          52,
          52,
          52,
          52,
          52,
          52,
          52,
          52,
          52,
          52,
          52,
          52,
          52,
          52,
          52,
          52,
          52,
          52,
          52,
          52,
          52,
          54,
          54,
          54,
          54,
          54,
          54,
          54,
          54,
          54,
          54,
          54,
          54,
          54,
          54,
          54,
          54,
          54,
          54,
          54,
          54,
          54,
          54,
          54,
          54,
          54,
          54,
          54,
          54,
          54,
          54,
          54,
          54,
          54,
          54,
          54,
          54,
          54,
          54,
          54,
          54,
          54,
          54,
          54,
          54,
          54,
          54,
          54,
          54,
          54,
          54,
          54,
          54,
          56,
          56,
          56,
          56,
          56,
          56,
          56,
          56,
          56,
          56,
          56,
          56,
          56,
          56,
          56,
          56,
          56,
          56,
          56,
          56,
          58,
          58,
          58,
          58,
          58,
          58,
          58,
          58,
          58,
          58,
          58,
          58,
          58,
          58,
          58,
          58,
          60,
          60,
          60,
          60,
          60,
          60,
          60,
          60,
          60,
          60,
          60,
          60,
          60,
          60,
          60,
          60,
          60,
          60,
          60,
          60,
          60,
          60,
          62,
          62,
          62,
          62,
          62,
          62,
          62,
          62,
          62,
          62,
          62,
          62,
          62,
          62,
          62,
          62,
          62,
          62,
          62,
          62,
          62,
          62,
          62,
          62,
          62,
          62,
          62,
          62,
          62,
          62,
          62,
          62,
          62,
          62,
          64,
          64,
          64,
          64,
          64,
          64,
          64,
          64,
          64,
          64,
          64,
          64,
          64,
          64,
          64,
          64,
          64,
          64,
          64,
          64,
          64,
          64,
          64,
          64,
          64,
          64,
          64,
          64,
          64,
          64,
          64,
          64,
          64,
          64,
          64,
          64,
          64,
          64,
          64,
          64,
          64,
          64,
          64,
          66,
          66,
          66,
          66,
          66,
          66,
          66,
          66,
          66,
          66,
          66,
          66,
          66,
          66,
          66,
          66,
          66,
          66,
          66,
          66,
          66,
          66,
          66,
          66,
          66,
          66,
          66,
          66,
          66,
          66,
          66,
          66,
          66,
          66,
          66,
          66,
          66,
          66,
          66,
          66,
          66,
          66,
          66,
          66,
          66,
          66,
          66,
          66,
          66,
          66,
          66,
          66,
          66,
          66,
          66,
          66,
          66,
          66,
          66,
          66,
          66,
          66,
          66,
          66,
          66,
          66,
          66,
          66,
          66,
          66,
          66,
          66,
          66,
          66,
          66,
          66,
          66,
          66,
          68,
          68,
          68,
          68,
          68,
          68,
          68,
          68,
          68,
          68,
          68,
          68,
          68,
          68,
          68,
          68,
          68,
          68,
          68,
          68,
          68,
          68,
          68,
          68,
          68,
          68,
          68,
          68,
          68,
          68,
          68,
          68,
          68,
          68,
          68,
          68,
          68,
          68,
          68,
          68,
          68,
          68,
          68,
          68,
          68,
          68,
          68,
          68,
          68,
          68,
          68,
          68,
          68,
          68,
          68,
          68,
          68,
          68,
          68,
          68,
          70,
          70,
          70,
          70,
          70,
          70,
          70,
          70,
          70,
          70,
          70,
          70,
          70,
          70,
          70,
          70,
          70,
          70,
          70,
          70,
          70,
          70,
          70,
          70,
          70,
          70,
          70,
          70,
          70,
          70,
          70,
          70,
          70,
          70,
          70,
          70,
          70,
          70,
          70,
          70,
          70,
          70,
          70,
          70,
          70,
          70,
          70,
          72,
          72,
          72,
          72,
          72,
          72,
          72,
          72,
          72,
          72,
          72,
          72,
          72,
          72,
          72,
          72,
          72,
          72,
          72,
          72,
          72,
          72,
          72,
          72,
          72,
          72,
          72,
          72,
          72,
          72,
          72,
          74,
          74,
          74,
          74,
          74,
          74,
          74,
          74,
          74,
          74,
          74,
          74,
          74,
          74,
          74,
          74,
          74,
          74,
          74,
          74,
          74,
          74,
          74,
          74,
          74,
          74,
          74,
          74,
          76,
          76,
          76,
          76,
          76,
          76,
          76,
          76,
          76,
          76,
          76,
          76,
          76,
          76,
          76,
          76,
          76,
          76,
          76,
          76,
          76,
          78,
          78,
          78,
          78,
          78,
          78,
          78,
          78,
          78,
          78,
          78,
          78,
          78,
          78,
          78,
          78,
          78,
          78,
          78,
          78,
          80,
          80,
          80,
          80,
          80,
          80,
          80,
          80,
          80,
          80,
          80,
          80,
          80,
          80,
          80,
          80,
          80,
          80,
          80,
          80,
          80,
          80,
          80,
          80,
          80,
          80,
          80,
          80
         ],
         "yaxis": "y"
        }
       ],
       "layout": {
        "coloraxis": {
         "colorbar": {
          "title": {
           "text": "anharmonicity"
          }
         },
         "colorscale": [
          [
           0,
           "#0d0887"
          ],
          [
           0.1111111111111111,
           "#46039f"
          ],
          [
           0.2222222222222222,
           "#7201a8"
          ],
          [
           0.3333333333333333,
           "#9c179e"
          ],
          [
           0.4444444444444444,
           "#bd3786"
          ],
          [
           0.5555555555555556,
           "#d8576b"
          ],
          [
           0.6666666666666666,
           "#ed7953"
          ],
          [
           0.7777777777777778,
           "#fb9f3a"
          ],
          [
           0.8888888888888888,
           "#fdca26"
          ],
          [
           1,
           "#f0f921"
          ]
         ]
        },
        "height": 600,
        "legend": {
         "tracegroupgap": 0
        },
        "shapes": [
         {
          "line": {
           "color": "gray",
           "dash": "dash"
          },
          "name": "Magic numbers",
          "type": "line",
          "x0": 2,
          "x1": 2,
          "xref": "x",
          "y0": 0,
          "y1": 1,
          "yref": "y domain"
         },
         {
          "line": {
           "color": "gray",
           "dash": "dash"
          },
          "type": "line",
          "x0": 8,
          "x1": 8,
          "xref": "x",
          "y0": 0,
          "y1": 1,
          "yref": "y domain"
         },
         {
          "line": {
           "color": "gray",
           "dash": "dash"
          },
          "type": "line",
          "x0": 20,
          "x1": 20,
          "xref": "x",
          "y0": 0,
          "y1": 1,
          "yref": "y domain"
         },
         {
          "line": {
           "color": "gray",
           "dash": "dash"
          },
          "type": "line",
          "x0": 50,
          "x1": 50,
          "xref": "x",
          "y0": 0,
          "y1": 1,
          "yref": "y domain"
         },
         {
          "line": {
           "color": "gray",
           "dash": "dash"
          },
          "type": "line",
          "x0": 58,
          "x1": 58,
          "xref": "x",
          "y0": 0,
          "y1": 1,
          "yref": "y domain"
         },
         {
          "line": {
           "color": "gray",
           "dash": "dash"
          },
          "type": "line",
          "x0": 82,
          "x1": 82,
          "xref": "x",
          "y0": 0,
          "y1": 1,
          "yref": "y domain"
         },
         {
          "line": {
           "color": "gray",
           "dash": "dash"
          },
          "type": "line",
          "x0": 126,
          "x1": 126,
          "xref": "x",
          "y0": 0,
          "y1": 1,
          "yref": "y domain"
         },
         {
          "line": {
           "color": "gray",
           "dash": "dash"
          },
          "type": "line",
          "x0": 0,
          "x1": 1,
          "xref": "x domain",
          "y0": 2,
          "y1": 2,
          "yref": "y"
         },
         {
          "line": {
           "color": "gray",
           "dash": "dash"
          },
          "type": "line",
          "x0": 0,
          "x1": 1,
          "xref": "x domain",
          "y0": 8,
          "y1": 8,
          "yref": "y"
         },
         {
          "line": {
           "color": "gray",
           "dash": "dash"
          },
          "type": "line",
          "x0": 0,
          "x1": 1,
          "xref": "x domain",
          "y0": 20,
          "y1": 20,
          "yref": "y"
         },
         {
          "line": {
           "color": "gray",
           "dash": "dash"
          },
          "type": "line",
          "x0": 0,
          "x1": 1,
          "xref": "x domain",
          "y0": 50,
          "y1": 50,
          "yref": "y"
         },
         {
          "line": {
           "color": "gray",
           "dash": "dash"
          },
          "type": "line",
          "x0": 0,
          "x1": 1,
          "xref": "x domain",
          "y0": 58,
          "y1": 58,
          "yref": "y"
         },
         {
          "line": {
           "color": "gray",
           "dash": "dash"
          },
          "type": "line",
          "x0": 0,
          "x1": 1,
          "xref": "x domain",
          "y0": 82,
          "y1": 82,
          "yref": "y"
         }
        ],
        "template": {
         "data": {
          "bar": [
           {
            "error_x": {
             "color": "#2a3f5f"
            },
            "error_y": {
             "color": "#2a3f5f"
            },
            "marker": {
             "line": {
              "color": "#E5ECF6",
              "width": 0.5
             },
             "pattern": {
              "fillmode": "overlay",
              "size": 10,
              "solidity": 0.2
             }
            },
            "type": "bar"
           }
          ],
          "barpolar": [
           {
            "marker": {
             "line": {
              "color": "#E5ECF6",
              "width": 0.5
             },
             "pattern": {
              "fillmode": "overlay",
              "size": 10,
              "solidity": 0.2
             }
            },
            "type": "barpolar"
           }
          ],
          "carpet": [
           {
            "aaxis": {
             "endlinecolor": "#2a3f5f",
             "gridcolor": "white",
             "linecolor": "white",
             "minorgridcolor": "white",
             "startlinecolor": "#2a3f5f"
            },
            "baxis": {
             "endlinecolor": "#2a3f5f",
             "gridcolor": "white",
             "linecolor": "white",
             "minorgridcolor": "white",
             "startlinecolor": "#2a3f5f"
            },
            "type": "carpet"
           }
          ],
          "choropleth": [
           {
            "colorbar": {
             "outlinewidth": 0,
             "ticks": ""
            },
            "type": "choropleth"
           }
          ],
          "contour": [
           {
            "colorbar": {
             "outlinewidth": 0,
             "ticks": ""
            },
            "colorscale": [
             [
              0,
              "#0d0887"
             ],
             [
              0.1111111111111111,
              "#46039f"
             ],
             [
              0.2222222222222222,
              "#7201a8"
             ],
             [
              0.3333333333333333,
              "#9c179e"
             ],
             [
              0.4444444444444444,
              "#bd3786"
             ],
             [
              0.5555555555555556,
              "#d8576b"
             ],
             [
              0.6666666666666666,
              "#ed7953"
             ],
             [
              0.7777777777777778,
              "#fb9f3a"
             ],
             [
              0.8888888888888888,
              "#fdca26"
             ],
             [
              1,
              "#f0f921"
             ]
            ],
            "type": "contour"
           }
          ],
          "contourcarpet": [
           {
            "colorbar": {
             "outlinewidth": 0,
             "ticks": ""
            },
            "type": "contourcarpet"
           }
          ],
          "heatmap": [
           {
            "colorbar": {
             "outlinewidth": 0,
             "ticks": ""
            },
            "colorscale": [
             [
              0,
              "#0d0887"
             ],
             [
              0.1111111111111111,
              "#46039f"
             ],
             [
              0.2222222222222222,
              "#7201a8"
             ],
             [
              0.3333333333333333,
              "#9c179e"
             ],
             [
              0.4444444444444444,
              "#bd3786"
             ],
             [
              0.5555555555555556,
              "#d8576b"
             ],
             [
              0.6666666666666666,
              "#ed7953"
             ],
             [
              0.7777777777777778,
              "#fb9f3a"
             ],
             [
              0.8888888888888888,
              "#fdca26"
             ],
             [
              1,
              "#f0f921"
             ]
            ],
            "type": "heatmap"
           }
          ],
          "heatmapgl": [
           {
            "colorbar": {
             "outlinewidth": 0,
             "ticks": ""
            },
            "colorscale": [
             [
              0,
              "#0d0887"
             ],
             [
              0.1111111111111111,
              "#46039f"
             ],
             [
              0.2222222222222222,
              "#7201a8"
             ],
             [
              0.3333333333333333,
              "#9c179e"
             ],
             [
              0.4444444444444444,
              "#bd3786"
             ],
             [
              0.5555555555555556,
              "#d8576b"
             ],
             [
              0.6666666666666666,
              "#ed7953"
             ],
             [
              0.7777777777777778,
              "#fb9f3a"
             ],
             [
              0.8888888888888888,
              "#fdca26"
             ],
             [
              1,
              "#f0f921"
             ]
            ],
            "type": "heatmapgl"
           }
          ],
          "histogram": [
           {
            "marker": {
             "pattern": {
              "fillmode": "overlay",
              "size": 10,
              "solidity": 0.2
             }
            },
            "type": "histogram"
           }
          ],
          "histogram2d": [
           {
            "colorbar": {
             "outlinewidth": 0,
             "ticks": ""
            },
            "colorscale": [
             [
              0,
              "#0d0887"
             ],
             [
              0.1111111111111111,
              "#46039f"
             ],
             [
              0.2222222222222222,
              "#7201a8"
             ],
             [
              0.3333333333333333,
              "#9c179e"
             ],
             [
              0.4444444444444444,
              "#bd3786"
             ],
             [
              0.5555555555555556,
              "#d8576b"
             ],
             [
              0.6666666666666666,
              "#ed7953"
             ],
             [
              0.7777777777777778,
              "#fb9f3a"
             ],
             [
              0.8888888888888888,
              "#fdca26"
             ],
             [
              1,
              "#f0f921"
             ]
            ],
            "type": "histogram2d"
           }
          ],
          "histogram2dcontour": [
           {
            "colorbar": {
             "outlinewidth": 0,
             "ticks": ""
            },
            "colorscale": [
             [
              0,
              "#0d0887"
             ],
             [
              0.1111111111111111,
              "#46039f"
             ],
             [
              0.2222222222222222,
              "#7201a8"
             ],
             [
              0.3333333333333333,
              "#9c179e"
             ],
             [
              0.4444444444444444,
              "#bd3786"
             ],
             [
              0.5555555555555556,
              "#d8576b"
             ],
             [
              0.6666666666666666,
              "#ed7953"
             ],
             [
              0.7777777777777778,
              "#fb9f3a"
             ],
             [
              0.8888888888888888,
              "#fdca26"
             ],
             [
              1,
              "#f0f921"
             ]
            ],
            "type": "histogram2dcontour"
           }
          ],
          "mesh3d": [
           {
            "colorbar": {
             "outlinewidth": 0,
             "ticks": ""
            },
            "type": "mesh3d"
           }
          ],
          "parcoords": [
           {
            "line": {
             "colorbar": {
              "outlinewidth": 0,
              "ticks": ""
             }
            },
            "type": "parcoords"
           }
          ],
          "pie": [
           {
            "automargin": true,
            "type": "pie"
           }
          ],
          "scatter": [
           {
            "fillpattern": {
             "fillmode": "overlay",
             "size": 10,
             "solidity": 0.2
            },
            "type": "scatter"
           }
          ],
          "scatter3d": [
           {
            "line": {
             "colorbar": {
              "outlinewidth": 0,
              "ticks": ""
             }
            },
            "marker": {
             "colorbar": {
              "outlinewidth": 0,
              "ticks": ""
             }
            },
            "type": "scatter3d"
           }
          ],
          "scattercarpet": [
           {
            "marker": {
             "colorbar": {
              "outlinewidth": 0,
              "ticks": ""
             }
            },
            "type": "scattercarpet"
           }
          ],
          "scattergeo": [
           {
            "marker": {
             "colorbar": {
              "outlinewidth": 0,
              "ticks": ""
             }
            },
            "type": "scattergeo"
           }
          ],
          "scattergl": [
           {
            "marker": {
             "colorbar": {
              "outlinewidth": 0,
              "ticks": ""
             }
            },
            "type": "scattergl"
           }
          ],
          "scattermapbox": [
           {
            "marker": {
             "colorbar": {
              "outlinewidth": 0,
              "ticks": ""
             }
            },
            "type": "scattermapbox"
           }
          ],
          "scatterpolar": [
           {
            "marker": {
             "colorbar": {
              "outlinewidth": 0,
              "ticks": ""
             }
            },
            "type": "scatterpolar"
           }
          ],
          "scatterpolargl": [
           {
            "marker": {
             "colorbar": {
              "outlinewidth": 0,
              "ticks": ""
             }
            },
            "type": "scatterpolargl"
           }
          ],
          "scatterternary": [
           {
            "marker": {
             "colorbar": {
              "outlinewidth": 0,
              "ticks": ""
             }
            },
            "type": "scatterternary"
           }
          ],
          "surface": [
           {
            "colorbar": {
             "outlinewidth": 0,
             "ticks": ""
            },
            "colorscale": [
             [
              0,
              "#0d0887"
             ],
             [
              0.1111111111111111,
              "#46039f"
             ],
             [
              0.2222222222222222,
              "#7201a8"
             ],
             [
              0.3333333333333333,
              "#9c179e"
             ],
             [
              0.4444444444444444,
              "#bd3786"
             ],
             [
              0.5555555555555556,
              "#d8576b"
             ],
             [
              0.6666666666666666,
              "#ed7953"
             ],
             [
              0.7777777777777778,
              "#fb9f3a"
             ],
             [
              0.8888888888888888,
              "#fdca26"
             ],
             [
              1,
              "#f0f921"
             ]
            ],
            "type": "surface"
           }
          ],
          "table": [
           {
            "cells": {
             "fill": {
              "color": "#EBF0F8"
             },
             "line": {
              "color": "white"
             }
            },
            "header": {
             "fill": {
              "color": "#C8D4E3"
             },
             "line": {
              "color": "white"
             }
            },
            "type": "table"
           }
          ]
         },
         "layout": {
          "annotationdefaults": {
           "arrowcolor": "#2a3f5f",
           "arrowhead": 0,
           "arrowwidth": 1
          },
          "autotypenumbers": "strict",
          "coloraxis": {
           "colorbar": {
            "outlinewidth": 0,
            "ticks": ""
           }
          },
          "colorscale": {
           "diverging": [
            [
             0,
             "#8e0152"
            ],
            [
             0.1,
             "#c51b7d"
            ],
            [
             0.2,
             "#de77ae"
            ],
            [
             0.3,
             "#f1b6da"
            ],
            [
             0.4,
             "#fde0ef"
            ],
            [
             0.5,
             "#f7f7f7"
            ],
            [
             0.6,
             "#e6f5d0"
            ],
            [
             0.7,
             "#b8e186"
            ],
            [
             0.8,
             "#7fbc41"
            ],
            [
             0.9,
             "#4d9221"
            ],
            [
             1,
             "#276419"
            ]
           ],
           "sequential": [
            [
             0,
             "#0d0887"
            ],
            [
             0.1111111111111111,
             "#46039f"
            ],
            [
             0.2222222222222222,
             "#7201a8"
            ],
            [
             0.3333333333333333,
             "#9c179e"
            ],
            [
             0.4444444444444444,
             "#bd3786"
            ],
            [
             0.5555555555555556,
             "#d8576b"
            ],
            [
             0.6666666666666666,
             "#ed7953"
            ],
            [
             0.7777777777777778,
             "#fb9f3a"
            ],
            [
             0.8888888888888888,
             "#fdca26"
            ],
            [
             1,
             "#f0f921"
            ]
           ],
           "sequentialminus": [
            [
             0,
             "#0d0887"
            ],
            [
             0.1111111111111111,
             "#46039f"
            ],
            [
             0.2222222222222222,
             "#7201a8"
            ],
            [
             0.3333333333333333,
             "#9c179e"
            ],
            [
             0.4444444444444444,
             "#bd3786"
            ],
            [
             0.5555555555555556,
             "#d8576b"
            ],
            [
             0.6666666666666666,
             "#ed7953"
            ],
            [
             0.7777777777777778,
             "#fb9f3a"
            ],
            [
             0.8888888888888888,
             "#fdca26"
            ],
            [
             1,
             "#f0f921"
            ]
           ]
          },
          "colorway": [
           "#636efa",
           "#EF553B",
           "#00cc96",
           "#ab63fa",
           "#FFA15A",
           "#19d3f3",
           "#FF6692",
           "#B6E880",
           "#FF97FF",
           "#FECB52"
          ],
          "font": {
           "color": "#2a3f5f"
          },
          "geo": {
           "bgcolor": "white",
           "lakecolor": "white",
           "landcolor": "#E5ECF6",
           "showlakes": true,
           "showland": true,
           "subunitcolor": "white"
          },
          "hoverlabel": {
           "align": "left"
          },
          "hovermode": "closest",
          "mapbox": {
           "style": "light"
          },
          "paper_bgcolor": "white",
          "plot_bgcolor": "#E5ECF6",
          "polar": {
           "angularaxis": {
            "gridcolor": "white",
            "linecolor": "white",
            "ticks": ""
           },
           "bgcolor": "#E5ECF6",
           "radialaxis": {
            "gridcolor": "white",
            "linecolor": "white",
            "ticks": ""
           }
          },
          "scene": {
           "xaxis": {
            "backgroundcolor": "#E5ECF6",
            "gridcolor": "white",
            "gridwidth": 2,
            "linecolor": "white",
            "showbackground": true,
            "ticks": "",
            "zerolinecolor": "white"
           },
           "yaxis": {
            "backgroundcolor": "#E5ECF6",
            "gridcolor": "white",
            "gridwidth": 2,
            "linecolor": "white",
            "showbackground": true,
            "ticks": "",
            "zerolinecolor": "white"
           },
           "zaxis": {
            "backgroundcolor": "#E5ECF6",
            "gridcolor": "white",
            "gridwidth": 2,
            "linecolor": "white",
            "showbackground": true,
            "ticks": "",
            "zerolinecolor": "white"
           }
          },
          "shapedefaults": {
           "line": {
            "color": "#2a3f5f"
           }
          },
          "ternary": {
           "aaxis": {
            "gridcolor": "white",
            "linecolor": "white",
            "ticks": ""
           },
           "baxis": {
            "gridcolor": "white",
            "linecolor": "white",
            "ticks": ""
           },
           "bgcolor": "#E5ECF6",
           "caxis": {
            "gridcolor": "white",
            "linecolor": "white",
            "ticks": ""
           }
          },
          "title": {
           "x": 0.05
          },
          "xaxis": {
           "automargin": true,
           "gridcolor": "white",
           "linecolor": "white",
           "ticks": "",
           "title": {
            "standoff": 15
           },
           "zerolinecolor": "white",
           "zerolinewidth": 2
          },
          "yaxis": {
           "automargin": true,
           "gridcolor": "white",
           "linecolor": "white",
           "ticks": "",
           "title": {
            "standoff": 15
           },
           "zerolinecolor": "white",
           "zerolinewidth": 2
          }
         }
        },
        "title": {
         "text": "Anharmonic to Harmonic Ratio for All Oscillator Fits"
        },
        "xaxis": {
         "anchor": "y",
         "domain": [
          0,
          1
         ],
         "title": {
          "text": "Number of neutrons (N)"
         }
        },
        "yaxis": {
         "anchor": "x",
         "domain": [
          0,
          1
         ],
         "title": {
          "text": "Number of protons (Z)"
         }
        }
       }
      }
     },
     "metadata": {},
     "output_type": "display_data"
    }
   ],
   "source": [
    "df_to_plot = residuals_df[residuals_df['anharmonicity'].abs() < 0.5]\n",
    "\n",
    "fig = px.scatter(df_to_plot, \n",
    "          x='n',\n",
    "          y='z', \n",
    "          color='anharmonicity',\n",
    "          title='Anharmonic to Harmonic Ratio for All Oscillator Fits',\n",
    "          labels={'z': 'Number of protons (Z)', 'n': 'Number of neutrons (N)', 'ratio': 'Anharmonicity Ratio'},\n",
    "          height=600)\n",
    "\n",
    "\n",
    "magic_numbers_n = [2, 8, 20, 50, 58, 82, 126]\n",
    "magic_numbers_z = [2, 8, 20, 50, 58, 82]\n",
    "\n",
    "for i, m in enumerate(magic_numbers_n):\n",
    "    fig.add_vline(x=m, line_dash=\"dash\", line_color=\"gray\", name=\"Magic numbers\" if i==0 else None)\n",
    "\n",
    "for i, m in enumerate(magic_numbers_z):\n",
    "    fig.add_hline(y=m, line_dash=\"dash\", line_color=\"gray\")\n",
    "\n",
    "fig.show()"
   ]
  },
  {
   "cell_type": "code",
   "execution_count": 85,
   "metadata": {},
   "outputs": [
    {
     "data": {
      "application/vnd.plotly.v1+json": {
       "config": {
        "plotlyServerURL": "https://plot.ly"
       },
       "data": [
        {
         "hovertemplate": "Anharmonicity Ratio=%{x}<br>R² Score=%{y}<extra></extra>",
         "legendgroup": "",
         "marker": {
          "color": "#636efa",
          "symbol": "circle"
         },
         "mode": "markers",
         "name": "",
         "showlegend": false,
         "type": "scattergl",
         "x": [
          -0.1805688336523737,
          -0.1805688336523737,
          -0.1805688336523737,
          -0.2170660147217958,
          -0.2170660147217958,
          -0.2170660147217958,
          -0.2170660147217958,
          0.11652296029326628,
          0.11652296029326628,
          0.11652296029326628,
          0.11652296029326628,
          0.11652296029326628,
          0.11652296029326628,
          0.26923297506937005,
          0.26923297506937005,
          0.26923297506937005,
          0.26923297506937005,
          0.26923297506937005,
          0.2234086285149105,
          0.2234086285149105,
          0.2234086285149105,
          0.2234086285149105,
          0.2234086285149105,
          0.4185374292173181,
          0.4185374292173181,
          0.4185374292173181,
          0.4185374292173181,
          0.000014130650846439179,
          0.000014130650846439179,
          0.000014130650846439179,
          0.000014130650846439179,
          0.000014130650846439179,
          0.000014130650846439179,
          0.000014130650846439179,
          0.014567425385415333,
          0.014567425385415333,
          0.014567425385415333,
          0.014567425385415333,
          0.014567425385415333,
          -0.02048071955999896,
          -0.02048071955999896,
          -0.02048071955999896,
          0.00004735426832651777,
          0.00004735426832651777,
          0.00004735426832651777,
          0.00004735426832651777,
          0.00004735426832651777,
          0.00004735426832651777,
          0.00004735426832651777,
          0.00004735426832651777,
          0.00004735426832651777,
          -0.03458987513880889,
          -0.03458987513880889,
          -0.03458987513880889,
          -0.03458987513880889,
          -0.03458987513880889,
          -0.2654497422382494,
          -0.2654497422382494,
          -0.2654497422382494,
          -0.2654497422382494,
          -0.09327582160161493,
          -0.09327582160161493,
          -0.09327582160161493,
          -0.09327582160161493,
          -0.09327582160161493,
          0.030171273913124137,
          0.030171273913124137,
          0.030171273913124137,
          0.030171273913124137,
          0.030171273913124137,
          0.030171273913124137,
          0.06246966776816049,
          0.06246966776816049,
          0.06246966776816049,
          0.06246966776816049,
          0.06246966776816049,
          -0.311739912848946,
          -0.311739912848946,
          -0.311739912848946,
          -0.311739912848946,
          0.003002150854678824,
          0.003002150854678824,
          0.003002150854678824,
          0.003002150854678824,
          0.003002150854678824,
          0.003002150854678824,
          0.003002150854678824,
          0.07909648192894725,
          0.07909648192894725,
          0.07909648192894725,
          0.07909648192894725,
          0.07909648192894725,
          -0.3232467818000523,
          -0.3232467818000523,
          -0.3232467818000523,
          -0.3232467818000523,
          0.026881492612860162,
          0.026881492612860162,
          0.026881492612860162,
          0.026881492612860162,
          0.026881492612860162,
          0.026881492612860162,
          0.34625116623317004,
          0.34625116623317004,
          0.34625116623317004,
          0.34625116623317004,
          -0.000060394195019236164,
          -0.000060394195019236164,
          -0.000060394195019236164,
          -0.000060394195019236164,
          -0.000060394195019236164,
          -0.000060394195019236164,
          0.10907676595995751,
          0.10907676595995751,
          0.10907676595995751,
          0.10907676595995751,
          0.10907676595995751,
          0.10130120710327671,
          0.10130120710327671,
          0.10130120710327671,
          0.10130120710327671,
          0.10130120710327671,
          0.49207537493167564,
          0.49207537493167564,
          0.49207537493167564,
          0.49207537493167564,
          5.252737157022082e-7,
          5.252737157022082e-7,
          5.252737157022082e-7,
          5.252737157022082e-7,
          5.252737157022082e-7,
          5.252737157022082e-7,
          5.252737157022082e-7,
          5.252737157022082e-7,
          5.252737157022082e-7,
          5.252737157022082e-7,
          5.252737157022082e-7,
          0.07931085168399606,
          0.07931085168399606,
          0.07931085168399606,
          0.07931085168399606,
          0.07931085168399606,
          0.19069080713646672,
          0.19069080713646672,
          0.19069080713646672,
          0.19069080713646672,
          0.19069080713646672,
          0.35192610104799726,
          0.35192610104799726,
          0.35192610104799726,
          0.35192610104799726,
          0.3584913376555807,
          0.3584913376555807,
          0.3584913376555807,
          0.24379739550943533,
          0.24379739550943533,
          0.24379739550943533,
          0.00009004744236369079,
          0.00009004744236369079,
          0.00009004744236369079,
          0.00009004744236369079,
          0.00009004744236369079,
          0.00009004744236369079,
          0.00009004744236369079,
          0.00009004744236369079,
          0.02377066723910256,
          0.02377066723910256,
          0.02377066723910256,
          0.02377066723910256,
          0.02377066723910256,
          0.45658974574137795,
          0.45658974574137795,
          0.45658974574137795,
          0.013124297635982093,
          0.013124297635982093,
          0.013124297635982093,
          0.013124297635982093,
          0.013124297635982093,
          0.013124297635982093,
          1.1379651743325353e-7,
          1.1379651743325353e-7,
          1.1379651743325353e-7,
          1.1379651743325353e-7,
          1.1379651743325353e-7,
          1.1379651743325353e-7,
          1.1379651743325353e-7,
          1.1379651743325353e-7,
          1.1379651743325353e-7,
          1.1379651743325353e-7,
          1.1379651743325353e-7,
          1.1379651743325353e-7,
          0.002463800712723234,
          0.002463800712723234,
          0.002463800712723234,
          0.002463800712723234,
          0.002463800712723234,
          0.002463800712723234,
          0.002463800712723234,
          0.0630717222259361,
          0.0630717222259361,
          0.0630717222259361,
          0.0630717222259361,
          0.0630717222259361,
          1.2914707517199445e-7,
          1.2914707517199445e-7,
          1.2914707517199445e-7,
          1.2914707517199445e-7,
          1.2914707517199445e-7,
          1.2914707517199445e-7,
          1.2914707517199445e-7,
          1.2914707517199445e-7,
          1.2914707517199445e-7,
          1.2914707517199445e-7,
          1.2914707517199445e-7,
          1.2914707517199445e-7,
          0.00033366406962786246,
          0.00033366406962786246,
          0.00033366406962786246,
          0.00033366406962786246,
          0.00033366406962786246,
          0.00033366406962786246,
          0.00033366406962786246,
          0.00033366406962786246,
          0.34446238760839987,
          0.34446238760839987,
          0.34446238760839987,
          -0.0012518479214078048,
          -0.0012518479214078048,
          -0.0012518479214078048,
          -0.0012518479214078048,
          -0.0012518479214078048,
          -0.0012518479214078048,
          -0.0012518479214078048,
          9.853028762469433e-8,
          9.853028762469433e-8,
          9.853028762469433e-8,
          9.853028762469433e-8,
          9.853028762469433e-8,
          9.853028762469433e-8,
          9.853028762469433e-8,
          9.853028762469433e-8,
          9.853028762469433e-8,
          9.853028762469433e-8,
          9.853028762469433e-8,
          9.853028762469433e-8,
          0.0052967762049852506,
          0.0052967762049852506,
          0.0052967762049852506,
          0.0052967762049852506,
          0.0052967762049852506,
          0.0052967762049852506,
          0.0052967762049852506,
          0.3048979080546162,
          0.3048979080546162,
          0.3048979080546162,
          0.31390306085623976,
          0.31390306085623976,
          0.31390306085623976,
          0.31390306085623976,
          -0.40041360544217686,
          -0.40041360544217686,
          -0.40041360544217686,
          -0.13543866663605966,
          -0.13543866663605966,
          -0.13543866663605966,
          -0.13543866663605966,
          -0.13543866663605966,
          -0.036238407616169255,
          -0.036238407616169255,
          -0.036238407616169255,
          -0.036238407616169255,
          -0.036238407616169255,
          0.008275290814108832,
          0.008275290814108832,
          0.008275290814108832,
          0.008275290814108832,
          0.008275290814108832,
          0.008275290814108832,
          0.0243172036393329,
          0.0243172036393329,
          0.0243172036393329,
          0.0243172036393329,
          0.000009056480346715455,
          0.000009056480346715455,
          0.000009056480346715455,
          0.000009056480346715455,
          0.000009056480346715455,
          0.000009056480346715455,
          0.000009056480346715455,
          0.000009056480346715455,
          0.000009056480346715455,
          0.000009056480346715455,
          0.000029565459923733835,
          0.000029565459923733835,
          0.000029565459923733835,
          0.000029565459923733835,
          0.000029565459923733835,
          0.000029565459923733835,
          0.000029565459923733835,
          0.000029565459923733835,
          0.000029565459923733835,
          6.89310777182895e-8,
          6.89310777182895e-8,
          6.89310777182895e-8,
          6.89310777182895e-8,
          6.89310777182895e-8,
          6.89310777182895e-8,
          6.89310777182895e-8,
          6.89310777182895e-8,
          6.89310777182895e-8,
          6.89310777182895e-8,
          6.89310777182895e-8,
          6.89310777182895e-8,
          9.721942662921364e-9,
          9.721942662921364e-9,
          9.721942662921364e-9,
          9.721942662921364e-9,
          9.721942662921364e-9,
          9.721942662921364e-9,
          9.721942662921364e-9,
          9.721942662921364e-9,
          9.721942662921364e-9,
          9.721942662921364e-9,
          9.721942662921364e-9,
          9.721942662921364e-9,
          9.721942662921364e-9,
          0.018749441598765966,
          0.018749441598765966,
          0.018749441598765966,
          0.018749441598765966,
          0.018749441598765966,
          0.018749441598765966,
          1.039401731478415e-8,
          1.039401731478415e-8,
          1.039401731478415e-8,
          1.039401731478415e-8,
          1.039401731478415e-8,
          1.039401731478415e-8,
          1.039401731478415e-8,
          1.039401731478415e-8,
          1.039401731478415e-8,
          1.039401731478415e-8,
          1.039401731478415e-8,
          1.039401731478415e-8,
          1.039401731478415e-8,
          0.000002876014132452662,
          0.000002876014132452662,
          0.000002876014132452662,
          0.000002876014132452662,
          0.000002876014132452662,
          0.000002876014132452662,
          0.000002876014132452662,
          0.000002876014132452662,
          0.000002876014132452662,
          0.000002876014132452662,
          0.000007474470994233893,
          0.000007474470994233893,
          0.000007474470994233893,
          0.000007474470994233893,
          0.000007474470994233893,
          0.000007474470994233893,
          0.000007474470994233893,
          0.000007474470994233893,
          0.000008068697078690063,
          0.000008068697078690063,
          0.000008068697078690063,
          0.000008068697078690063,
          0.000008068697078690063,
          0.000008068697078690063,
          0.000008068697078690063,
          0.000008068697078690063,
          0.000008068697078690063,
          0.000008068697078690063,
          0.08529351846169338,
          0.08529351846169338,
          0.08529351846169338,
          0.08529351846169338,
          0.08529351846169338,
          5.981868552533e-10,
          5.981868552533e-10,
          5.981868552533e-10,
          5.981868552533e-10,
          5.981868552533e-10,
          5.981868552533e-10,
          5.981868552533e-10,
          5.981868552533e-10,
          5.981868552533e-10,
          5.981868552533e-10,
          5.981868552533e-10,
          5.981868552533e-10,
          5.981868552533e-10,
          5.981868552533e-10,
          0.000001891896181275032,
          0.000001891896181275032,
          0.000001891896181275032,
          0.000001891896181275032,
          0.000001891896181275032,
          0.000001891896181275032,
          0.000001891896181275032,
          0.000001891896181275032,
          0.000001891896181275032,
          0.000001891896181275032,
          5.674316969730936e-11,
          5.674316969730936e-11,
          5.674316969730936e-11,
          5.674316969730936e-11,
          5.674316969730936e-11,
          5.674316969730936e-11,
          5.674316969730936e-11,
          5.674316969730936e-11,
          5.674316969730936e-11,
          5.674316969730936e-11,
          5.674316969730936e-11,
          5.674316969730936e-11,
          5.674316969730936e-11,
          5.674316969730936e-11,
          5.674316969730936e-11,
          0.000058627710981812954,
          0.000058627710981812954,
          0.000058627710981812954,
          0.000058627710981812954,
          0.000058627710981812954,
          0.000058627710981812954,
          0.000058627710981812954,
          0.000058627710981812954,
          0.13430019097382626,
          0.13430019097382626,
          0.13430019097382626,
          0.13430019097382626,
          1.1015491573326454e-8,
          1.1015491573326454e-8,
          1.1015491573326454e-8,
          1.1015491573326454e-8,
          1.1015491573326454e-8,
          1.1015491573326454e-8,
          1.1015491573326454e-8,
          1.1015491573326454e-8,
          1.1015491573326454e-8,
          1.1015491573326454e-8,
          1.1015491573326454e-8,
          1.1015491573326454e-8,
          2.0380596163156027e-7,
          2.0380596163156027e-7,
          2.0380596163156027e-7,
          2.0380596163156027e-7,
          2.0380596163156027e-7,
          2.0380596163156027e-7,
          2.0380596163156027e-7,
          2.0380596163156027e-7,
          2.0380596163156027e-7,
          2.0380596163156027e-7,
          2.0380596163156027e-7,
          0.000003836651461766963,
          0.000003836651461766963,
          0.000003836651461766963,
          0.000003836651461766963,
          0.000003836651461766963,
          0.000003836651461766963,
          0.000003836651461766963,
          0.000003836651461766963,
          0.000003836651461766963,
          0.000003836651461766963,
          -0.060018360119051074,
          -0.060018360119051074,
          -0.060018360119051074,
          -0.060018360119051074,
          -0.060018360119051074,
          -0.2679613870133737,
          -0.2679613870133737,
          -0.2679613870133737,
          -0.2679613870133737,
          -0.29035928365780866,
          -0.29035928365780866,
          -0.29035928365780866,
          -0.29035928365780866,
          -0.3136785946548039,
          -0.3136785946548039,
          -0.3136785946548039,
          -0.3136785946548039,
          0.06139857672585323,
          0.06139857672585323,
          0.06139857672585323,
          0.06139857672585323,
          0.06139857672585323,
          0.06533649960188978,
          0.06533649960188978,
          0.06533649960188978,
          0.06533649960188978,
          0.06533649960188978,
          0.050219859190420865,
          0.050219859190420865,
          0.050219859190420865,
          0.050219859190420865,
          0.050219859190420865,
          -0.0006365635046301246,
          -0.0006365635046301246,
          -0.0006365635046301246,
          -0.0006365635046301246,
          -0.0006365635046301246,
          -0.0006365635046301246,
          -0.0006365635046301246,
          4.669727371388319e-29,
          4.669727371388319e-29,
          4.669727371388319e-29,
          4.669727371388319e-29,
          4.669727371388319e-29,
          4.669727371388319e-29,
          4.669727371388319e-29,
          4.669727371388319e-29,
          4.669727371388319e-29,
          4.669727371388319e-29,
          4.669727371388319e-29,
          4.669727371388319e-29,
          4.669727371388319e-29,
          4.669727371388319e-29,
          4.669727371388319e-29,
          4.669727371388319e-29,
          4.669727371388319e-29,
          4.669727371388319e-29,
          4.669727371388319e-29,
          4.669727371388319e-29,
          4.669727371388319e-29,
          4.669727371388319e-29,
          4.669727371388319e-29,
          4.669727371388319e-29,
          4.669727371388319e-29,
          4.669727371388319e-29,
          4.669727371388319e-29,
          4.669727371388319e-29,
          4.669727371388319e-29,
          9.91952671652627e-8,
          9.91952671652627e-8,
          9.91952671652627e-8,
          9.91952671652627e-8,
          9.91952671652627e-8,
          9.91952671652627e-8,
          9.91952671652627e-8,
          9.91952671652627e-8,
          9.91952671652627e-8,
          9.91952671652627e-8,
          9.91952671652627e-8,
          9.91952671652627e-8,
          -0.00047604087044752786,
          -0.00047604087044752786,
          -0.00047604087044752786,
          -0.00047604087044752786,
          -0.00047604087044752786,
          -0.00047604087044752786,
          -0.00047604087044752786,
          0.010483059870942987,
          0.010483059870942987,
          0.010483059870942987,
          0.010483059870942987,
          0.021379602635405684,
          0.021379602635405684,
          0.021379602635405684,
          0.021379602635405684,
          0.021379602635405684,
          0.021379602635405684,
          0.31608789687431715,
          0.31608789687431715,
          0.31608789687431715,
          -0.22176362228576138,
          -0.22176362228576138,
          -0.22176362228576138,
          -0.22176362228576138,
          0.000013468348754567354,
          0.000013468348754567354,
          0.000013468348754567354,
          0.000013468348754567354,
          0.000013468348754567354,
          0.000013468348754567354,
          0.000013468348754567354,
          0.000025482949486967814,
          0.000025482949486967814,
          0.000025482949486967814,
          0.000025482949486967814,
          0.000025482949486967814,
          0.000025482949486967814,
          0.000025482949486967814,
          0.000025482949486967814,
          0.000025482949486967814,
          -0.00044873312283003714,
          -0.00044873312283003714,
          -0.00044873312283003714,
          -0.00044873312283003714,
          -0.00044873312283003714,
          -0.00044873312283003714,
          -0.00044873312283003714,
          -0.010728091312445268,
          -0.010728091312445268,
          -0.010728091312445268,
          -0.010728091312445268,
          -0.010728091312445268,
          -0.010728091312445268,
          5.8051972035084896e-9,
          5.8051972035084896e-9,
          5.8051972035084896e-9,
          5.8051972035084896e-9,
          5.8051972035084896e-9,
          5.8051972035084896e-9,
          5.8051972035084896e-9,
          5.8051972035084896e-9,
          5.8051972035084896e-9,
          5.8051972035084896e-9,
          5.8051972035084896e-9,
          0.08140863823407425,
          0.08140863823407425,
          0.08140863823407425,
          0.08140863823407425,
          0.08140863823407425,
          4.7641807993094627e-7,
          4.7641807993094627e-7,
          4.7641807993094627e-7,
          4.7641807993094627e-7,
          4.7641807993094627e-7,
          4.7641807993094627e-7,
          4.7641807993094627e-7,
          4.7641807993094627e-7,
          4.7641807993094627e-7,
          4.7641807993094627e-7,
          4.7641807993094627e-7,
          0.0000014005048693886051,
          0.0000014005048693886051,
          0.0000014005048693886051,
          0.0000014005048693886051,
          0.0000014005048693886051,
          0.0000014005048693886051,
          0.0000014005048693886051,
          0.0000014005048693886051,
          0.0000014005048693886051,
          0.0000014005048693886051,
          0.0000014005048693886051,
          1.6286177589819244e-7,
          1.6286177589819244e-7,
          1.6286177589819244e-7,
          1.6286177589819244e-7,
          1.6286177589819244e-7,
          1.6286177589819244e-7,
          1.6286177589819244e-7,
          1.6286177589819244e-7,
          1.6286177589819244e-7,
          1.6286177589819244e-7,
          1.6286177589819244e-7,
          1.6286177589819244e-7,
          9.728576529901996e-10,
          9.728576529901996e-10,
          9.728576529901996e-10,
          9.728576529901996e-10,
          9.728576529901996e-10,
          9.728576529901996e-10,
          9.728576529901996e-10,
          9.728576529901996e-10,
          9.728576529901996e-10,
          9.728576529901996e-10,
          9.728576529901996e-10,
          9.728576529901996e-10,
          9.728576529901996e-10,
          9.728576529901996e-10,
          1.2671388584278985e-8,
          1.2671388584278985e-8,
          1.2671388584278985e-8,
          1.2671388584278985e-8,
          1.2671388584278985e-8,
          1.2671388584278985e-8,
          1.2671388584278985e-8,
          1.2671388584278985e-8,
          1.2671388584278985e-8,
          1.2671388584278985e-8,
          1.2671388584278985e-8,
          1.2671388584278985e-8,
          1.2671388584278985e-8,
          0.007834656371921054,
          0.007834656371921054,
          0.007834656371921054,
          0.007834656371921054,
          0.007834656371921054,
          0.007834656371921054,
          0.007834656371921054,
          0.0001563665976984714,
          0.0001563665976984714,
          0.0001563665976984714,
          0.0001563665976984714,
          0.0001563665976984714,
          0.0001563665976984714,
          0.0001563665976984714,
          0.0001563665976984714,
          0.0001563665976984714,
          1.1898689584823331e-27,
          1.1898689584823331e-27,
          1.1898689584823331e-27,
          1.1898689584823331e-27,
          1.1898689584823331e-27,
          1.1898689584823331e-27,
          1.1898689584823331e-27,
          1.1898689584823331e-27,
          1.1898689584823331e-27,
          1.1898689584823331e-27,
          1.1898689584823331e-27,
          1.1898689584823331e-27,
          1.1898689584823331e-27,
          1.1898689584823331e-27,
          1.1898689584823331e-27,
          1.1898689584823331e-27,
          1.1898689584823331e-27,
          1.1898689584823331e-27,
          1.1898689584823331e-27,
          1.1898689584823331e-27,
          1.1898689584823331e-27,
          1.1898689584823331e-27,
          1.1898689584823331e-27,
          1.1898689584823331e-27,
          1.1898689584823331e-27,
          1.1898689584823331e-27,
          1.1898689584823331e-27,
          1.1898689584823331e-27,
          1.2180358495150855e-7,
          1.2180358495150855e-7,
          1.2180358495150855e-7,
          1.2180358495150855e-7,
          1.2180358495150855e-7,
          1.2180358495150855e-7,
          1.2180358495150855e-7,
          1.2180358495150855e-7,
          1.2180358495150855e-7,
          1.2180358495150855e-7,
          1.2180358495150855e-7,
          1.2180358495150855e-7,
          7.431611693779197e-11,
          7.431611693779197e-11,
          7.431611693779197e-11,
          7.431611693779197e-11,
          7.431611693779197e-11,
          7.431611693779197e-11,
          7.431611693779197e-11,
          7.431611693779197e-11,
          7.431611693779197e-11,
          7.431611693779197e-11,
          7.431611693779197e-11,
          7.431611693779197e-11,
          7.431611693779197e-11,
          7.431611693779197e-11,
          7.431611693779197e-11,
          6.994013520444191e-11,
          6.994013520444191e-11,
          6.994013520444191e-11,
          6.994013520444191e-11,
          6.994013520444191e-11,
          6.994013520444191e-11,
          6.994013520444191e-11,
          6.994013520444191e-11,
          6.994013520444191e-11,
          6.994013520444191e-11,
          6.994013520444191e-11,
          6.994013520444191e-11,
          6.994013520444191e-11,
          6.994013520444191e-11,
          6.994013520444191e-11,
          0.0011707997085151393,
          0.0011707997085151393,
          0.0011707997085151393,
          0.0011707997085151393,
          0.0011707997085151393,
          0.0011707997085151393,
          0.0011707997085151393,
          0.0011707997085151393,
          0.0000010918713353170914,
          0.0000010918713353170914,
          0.0000010918713353170914,
          0.0000010918713353170914,
          0.0000010918713353170914,
          0.0000010918713353170914,
          0.0000010918713353170914,
          0.0000010918713353170914,
          0.0000010918713353170914,
          0.0000010918713353170914,
          0.0000010918713353170914,
          1.5217111011378666e-15,
          1.5217111011378666e-15,
          1.5217111011378666e-15,
          1.5217111011378666e-15,
          1.5217111011378666e-15,
          1.5217111011378666e-15,
          1.5217111011378666e-15,
          1.5217111011378666e-15,
          1.5217111011378666e-15,
          1.5217111011378666e-15,
          1.5217111011378666e-15,
          1.5217111011378666e-15,
          1.5217111011378666e-15,
          1.5217111011378666e-15,
          1.5217111011378666e-15,
          1.5217111011378666e-15,
          1.5217111011378666e-15,
          1.5217111011378666e-15,
          1.5217111011378666e-15,
          0.0010660140625096907,
          0.0010660140625096907,
          0.0010660140625096907,
          0.0010660140625096907,
          0.0010660140625096907,
          0.0010660140625096907,
          0.0010660140625096907,
          0.0010660140625096907,
          0.00016012079823478527,
          0.00016012079823478527,
          0.00016012079823478527,
          0.00016012079823478527,
          0.00016012079823478527,
          0.00016012079823478527,
          0.00016012079823478527,
          0.00016012079823478527,
          0.00016012079823478527,
          1.2196132230979839e-9,
          1.2196132230979839e-9,
          1.2196132230979839e-9,
          1.2196132230979839e-9,
          1.2196132230979839e-9,
          1.2196132230979839e-9,
          1.2196132230979839e-9,
          1.2196132230979839e-9,
          1.2196132230979839e-9,
          1.2196132230979839e-9,
          1.2196132230979839e-9,
          1.2196132230979839e-9,
          1.2196132230979839e-9,
          1.5749114776162735e-15,
          1.5749114776162735e-15,
          1.5749114776162735e-15,
          1.5749114776162735e-15,
          1.5749114776162735e-15,
          1.5749114776162735e-15,
          1.5749114776162735e-15,
          1.5749114776162735e-15,
          1.5749114776162735e-15,
          1.5749114776162735e-15,
          1.5749114776162735e-15,
          1.5749114776162735e-15,
          1.5749114776162735e-15,
          1.5749114776162735e-15,
          1.5749114776162735e-15,
          1.5749114776162735e-15,
          1.5749114776162735e-15,
          1.5749114776162735e-15,
          1.5749114776162735e-15,
          0.0000014224810958366048,
          0.0000014224810958366048,
          0.0000014224810958366048,
          0.0000014224810958366048,
          0.0000014224810958366048,
          0.0000014224810958366048,
          0.0000014224810958366048,
          0.0000014224810958366048,
          0.0000014224810958366048,
          0.0000014224810958366048,
          0.0000014224810958366048,
          0.04849384809913869,
          0.04849384809913869,
          0.04849384809913869,
          0.04849384809913869,
          0.04849384809913869,
          0.04849384809913869,
          0.04856477536064694,
          0.04856477536064694,
          0.04856477536064694,
          0.04856477536064694,
          0.04856477536064694,
          0.04856477536064694,
          0.2632771307597753,
          0.2632771307597753,
          0.2632771307597753,
          0.2632771307597753,
          0.2632771307597753,
          0.0000013880823620366825,
          0.0000013880823620366825,
          0.0000013880823620366825,
          0.0000013880823620366825,
          0.0000013880823620366825,
          0.0000013880823620366825,
          0.0000013880823620366825,
          0.0000013880823620366825,
          0.0000013880823620366825,
          0.0000011548176705465246,
          0.0000011548176705465246,
          0.0000011548176705465246,
          0.0000011548176705465246,
          0.0000011548176705465246,
          0.0000011548176705465246,
          0.0000011548176705465246,
          0.0000011548176705465246,
          0.0000011548176705465246,
          0.0000011548176705465246,
          0.0000011548176705465246,
          0.0000018466865780063232,
          0.0000018466865780063232,
          0.0000018466865780063232,
          0.0000018466865780063232,
          0.0000018466865780063232,
          0.0000018466865780063232,
          0.0000018466865780063232,
          0.0000018466865780063232,
          0.0000018466865780063232,
          0.0000018466865780063232,
          0.0000018466865780063232,
          0.0000014802328030983144,
          0.0000014802328030983144,
          0.0000014802328030983144,
          0.0000014802328030983144,
          0.0000014802328030983144,
          0.0000014802328030983144,
          0.0000014802328030983144,
          0.0000014802328030983144,
          0.0000014802328030983144,
          0.0000014802328030983144,
          0.0000014802328030983144,
          0.00013635735326841014,
          0.00013635735326841014,
          0.00013635735326841014,
          0.00013635735326841014,
          0.00013635735326841014,
          0.00013635735326841014,
          0.00013635735326841014,
          0.00013635735326841014,
          0.00013635735326841014,
          0.0012343419359550512,
          0.0012343419359550512,
          0.0012343419359550512,
          0.0012343419359550512,
          0.0012343419359550512,
          0.0012343419359550512,
          0.0012343419359550512,
          0.0012343419359550512,
          0.0000027539483546786503,
          0.0000027539483546786503,
          0.0000027539483546786503,
          0.0000027539483546786503,
          0.0000027539483546786503,
          0.0000027539483546786503,
          0.0000027539483546786503,
          0.0000027539483546786503,
          0.0000027539483546786503,
          0.1801574465989505,
          0.1801574465989505,
          0.1801574465989505,
          0.1801574465989505,
          0.1801574465989505,
          0.005365051313324645,
          0.005365051313324645,
          0.005365051313324645,
          0.005365051313324645,
          0.005365051313324645,
          0.005365051313324645,
          0.005365051313324645,
          0.019059963980194498,
          0.019059963980194498,
          0.019059963980194498,
          0.019059963980194498,
          0.019059963980194498,
          0.019059963980194498,
          0.40986173149841515,
          0.40986173149841515,
          0.40986173149841515,
          0.40986173149841515,
          0.09674225657143844,
          0.09674225657143844,
          0.09674225657143844,
          0.09674225657143844,
          0.09674225657143844,
          0.09978397352411295,
          0.09978397352411295,
          0.09978397352411295,
          0.09978397352411295,
          0.09978397352411295,
          0.4917601765341101,
          0.4917601765341101,
          0.4917601765341101,
          0.0000013849905751739838,
          0.0000013849905751739838,
          0.0000013849905751739838,
          0.0000013849905751739838,
          0.0000013849905751739838,
          0.0000013849905751739838,
          0.0000013849905751739838,
          0.0000013849905751739838,
          0.0000013849905751739838,
          0.0000013849905751739838,
          4.4827012150219836e-7,
          4.4827012150219836e-7,
          4.4827012150219836e-7,
          4.4827012150219836e-7,
          4.4827012150219836e-7,
          4.4827012150219836e-7,
          4.4827012150219836e-7,
          4.4827012150219836e-7,
          4.4827012150219836e-7,
          4.4827012150219836e-7,
          4.4827012150219836e-7,
          0.48245386601411877,
          0.48245386601411877,
          0.48245386601411877,
          0.48245386601411877
         ],
         "xaxis": "x",
         "y": [
          0.902845347847653,
          0.902845347847653,
          0.902845347847653,
          0.9909095457871899,
          0.9909095457871899,
          0.9909095457871899,
          0.9909095457871899,
          0.9957042495097911,
          0.9957042495097911,
          0.9957042495097911,
          0.9957042495097911,
          0.9957042495097911,
          0.9957042495097911,
          0.9933892815598439,
          0.9933892815598439,
          0.9933892815598439,
          0.9933892815598439,
          0.9933892815598439,
          0.9965404136889606,
          0.9965404136889606,
          0.9965404136889606,
          0.9965404136889606,
          0.9965404136889606,
          0.9999410030160026,
          0.9999410030160026,
          0.9999410030160026,
          0.9999410030160026,
          0.9283187715151605,
          0.9283187715151605,
          0.9283187715151605,
          0.9283187715151605,
          0.9283187715151605,
          0.9283187715151605,
          0.9283187715151605,
          0.9883491220110412,
          0.9883491220110412,
          0.9883491220110412,
          0.9883491220110412,
          0.9883491220110412,
          1,
          1,
          1,
          0.996901554838279,
          0.996901554838279,
          0.996901554838279,
          0.996901554838279,
          0.996901554838279,
          0.996901554838279,
          0.996901554838279,
          0.996901554838279,
          0.996901554838279,
          0.9843029379861674,
          0.9843029379861674,
          0.9843029379861674,
          0.9843029379861674,
          0.9843029379861674,
          0.9949708280887409,
          0.9949708280887409,
          0.9949708280887409,
          0.9949708280887409,
          0.9578227785384357,
          0.9578227785384357,
          0.9578227785384357,
          0.9578227785384357,
          0.9578227785384357,
          0.9719475214137222,
          0.9719475214137222,
          0.9719475214137222,
          0.9719475214137222,
          0.9719475214137222,
          0.9719475214137222,
          0.9981241239947626,
          0.9981241239947626,
          0.9981241239947626,
          0.9981241239947626,
          0.9981241239947626,
          0.995057164471873,
          0.995057164471873,
          0.995057164471873,
          0.995057164471873,
          0.9942287082951565,
          0.9942287082951565,
          0.9942287082951565,
          0.9942287082951565,
          0.9942287082951565,
          0.9942287082951565,
          0.9942287082951565,
          0.9986999591324154,
          0.9986999591324154,
          0.9986999591324154,
          0.9986999591324154,
          0.9986999591324154,
          0.9997624794879723,
          0.9997624794879723,
          0.9997624794879723,
          0.9997624794879723,
          0.9937397111069151,
          0.9937397111069151,
          0.9937397111069151,
          0.9937397111069151,
          0.9937397111069151,
          0.9937397111069151,
          0.9994048576380726,
          0.9994048576380726,
          0.9994048576380726,
          0.9994048576380726,
          0.9360657008070599,
          0.9360657008070599,
          0.9360657008070599,
          0.9360657008070599,
          0.9360657008070599,
          0.9360657008070599,
          0.9983382322083393,
          0.9983382322083393,
          0.9983382322083393,
          0.9983382322083393,
          0.9983382322083393,
          0.9949124451528611,
          0.9949124451528611,
          0.9949124451528611,
          0.9949124451528611,
          0.9949124451528611,
          0.9832459997461651,
          0.9832459997461651,
          0.9832459997461651,
          0.9832459997461651,
          0.9915406016908554,
          0.9915406016908554,
          0.9915406016908554,
          0.9915406016908554,
          0.9915406016908554,
          0.9915406016908554,
          0.9915406016908554,
          0.9915406016908554,
          0.9915406016908554,
          0.9915406016908554,
          0.9915406016908554,
          0.9666098192489037,
          0.9666098192489037,
          0.9666098192489037,
          0.9666098192489037,
          0.9666098192489037,
          0.9367413407757037,
          0.9367413407757037,
          0.9367413407757037,
          0.9367413407757037,
          0.9367413407757037,
          0.9999865661328631,
          0.9999865661328631,
          0.9999865661328631,
          0.9999865661328631,
          1,
          1,
          1,
          1,
          1,
          1,
          0.9983090281933279,
          0.9983090281933279,
          0.9983090281933279,
          0.9983090281933279,
          0.9983090281933279,
          0.9983090281933279,
          0.9983090281933279,
          0.9983090281933279,
          0.9989083688273755,
          0.9989083688273755,
          0.9989083688273755,
          0.9989083688273755,
          0.9989083688273755,
          1,
          1,
          1,
          0.9908965266538784,
          0.9908965266538784,
          0.9908965266538784,
          0.9908965266538784,
          0.9908965266538784,
          0.9908965266538784,
          0.9784457771947302,
          0.9784457771947302,
          0.9784457771947302,
          0.9784457771947302,
          0.9784457771947302,
          0.9784457771947302,
          0.9784457771947302,
          0.9784457771947302,
          0.9784457771947302,
          0.9784457771947302,
          0.9784457771947302,
          0.9784457771947302,
          0.9920625918770405,
          0.9920625918770405,
          0.9920625918770405,
          0.9920625918770405,
          0.9920625918770405,
          0.9920625918770405,
          0.9920625918770405,
          0.995030321028927,
          0.995030321028927,
          0.995030321028927,
          0.995030321028927,
          0.995030321028927,
          0.9707201858344551,
          0.9707201858344551,
          0.9707201858344551,
          0.9707201858344551,
          0.9707201858344551,
          0.9707201858344551,
          0.9707201858344551,
          0.9707201858344551,
          0.9707201858344551,
          0.9707201858344551,
          0.9707201858344551,
          0.9707201858344551,
          0.994565095520415,
          0.994565095520415,
          0.994565095520415,
          0.994565095520415,
          0.994565095520415,
          0.994565095520415,
          0.994565095520415,
          0.994565095520415,
          1,
          1,
          1,
          0.9725911936830863,
          0.9725911936830863,
          0.9725911936830863,
          0.9725911936830863,
          0.9725911936830863,
          0.9725911936830863,
          0.9725911936830863,
          0.9893195932555456,
          0.9893195932555456,
          0.9893195932555456,
          0.9893195932555456,
          0.9893195932555456,
          0.9893195932555456,
          0.9893195932555456,
          0.9893195932555456,
          0.9893195932555456,
          0.9893195932555456,
          0.9893195932555456,
          0.9893195932555456,
          0.9784138406458531,
          0.9784138406458531,
          0.9784138406458531,
          0.9784138406458531,
          0.9784138406458531,
          0.9784138406458531,
          0.9784138406458531,
          1,
          1,
          1,
          0.9814132397368558,
          0.9814132397368558,
          0.9814132397368558,
          0.9814132397368558,
          1,
          1,
          1,
          0.9450787622124234,
          0.9450787622124234,
          0.9450787622124234,
          0.9450787622124234,
          0.9450787622124234,
          0.9990342120441829,
          0.9990342120441829,
          0.9990342120441829,
          0.9990342120441829,
          0.9990342120441829,
          0.9957078837062601,
          0.9957078837062601,
          0.9957078837062601,
          0.9957078837062601,
          0.9957078837062601,
          0.9957078837062601,
          0.9994602647421219,
          0.9994602647421219,
          0.9994602647421219,
          0.9994602647421219,
          0.9970512689836463,
          0.9970512689836463,
          0.9970512689836463,
          0.9970512689836463,
          0.9970512689836463,
          0.9970512689836463,
          0.9970512689836463,
          0.9970512689836463,
          0.9970512689836463,
          0.9970512689836463,
          0.996968043563393,
          0.996968043563393,
          0.996968043563393,
          0.996968043563393,
          0.996968043563393,
          0.996968043563393,
          0.996968043563393,
          0.996968043563393,
          0.996968043563393,
          0.9920978061627401,
          0.9920978061627401,
          0.9920978061627401,
          0.9920978061627401,
          0.9920978061627401,
          0.9920978061627401,
          0.9920978061627401,
          0.9920978061627401,
          0.9920978061627401,
          0.9920978061627401,
          0.9920978061627401,
          0.9920978061627401,
          0.985109333146782,
          0.985109333146782,
          0.985109333146782,
          0.985109333146782,
          0.985109333146782,
          0.985109333146782,
          0.985109333146782,
          0.985109333146782,
          0.985109333146782,
          0.985109333146782,
          0.985109333146782,
          0.985109333146782,
          0.985109333146782,
          0.990133043548126,
          0.990133043548126,
          0.990133043548126,
          0.990133043548126,
          0.990133043548126,
          0.990133043548126,
          0.9797427423851738,
          0.9797427423851738,
          0.9797427423851738,
          0.9797427423851738,
          0.9797427423851738,
          0.9797427423851738,
          0.9797427423851738,
          0.9797427423851738,
          0.9797427423851738,
          0.9797427423851738,
          0.9797427423851738,
          0.9797427423851738,
          0.9797427423851738,
          0.9973609598582952,
          0.9973609598582952,
          0.9973609598582952,
          0.9973609598582952,
          0.9973609598582952,
          0.9973609598582952,
          0.9973609598582952,
          0.9973609598582952,
          0.9973609598582952,
          0.9973609598582952,
          0.9951856054506243,
          0.9951856054506243,
          0.9951856054506243,
          0.9951856054506243,
          0.9951856054506243,
          0.9951856054506243,
          0.9951856054506243,
          0.9951856054506243,
          0.9935394192087537,
          0.9935394192087537,
          0.9935394192087537,
          0.9935394192087537,
          0.9935394192087537,
          0.9935394192087537,
          0.9935394192087537,
          0.9935394192087537,
          0.9935394192087537,
          0.9935394192087537,
          0.9956090263069878,
          0.9956090263069878,
          0.9956090263069878,
          0.9956090263069878,
          0.9956090263069878,
          0.9923480356095874,
          0.9923480356095874,
          0.9923480356095874,
          0.9923480356095874,
          0.9923480356095874,
          0.9923480356095874,
          0.9923480356095874,
          0.9923480356095874,
          0.9923480356095874,
          0.9923480356095874,
          0.9923480356095874,
          0.9923480356095874,
          0.9923480356095874,
          0.9923480356095874,
          0.994349701567848,
          0.994349701567848,
          0.994349701567848,
          0.994349701567848,
          0.994349701567848,
          0.994349701567848,
          0.994349701567848,
          0.994349701567848,
          0.994349701567848,
          0.994349701567848,
          0.9765889669796247,
          0.9765889669796247,
          0.9765889669796247,
          0.9765889669796247,
          0.9765889669796247,
          0.9765889669796247,
          0.9765889669796247,
          0.9765889669796247,
          0.9765889669796247,
          0.9765889669796247,
          0.9765889669796247,
          0.9765889669796247,
          0.9765889669796247,
          0.9765889669796247,
          0.9765889669796247,
          0.995796770302018,
          0.995796770302018,
          0.995796770302018,
          0.995796770302018,
          0.995796770302018,
          0.995796770302018,
          0.995796770302018,
          0.995796770302018,
          0.9991943516940345,
          0.9991943516940345,
          0.9991943516940345,
          0.9991943516940345,
          0.9950237727502936,
          0.9950237727502936,
          0.9950237727502936,
          0.9950237727502936,
          0.9950237727502936,
          0.9950237727502936,
          0.9950237727502936,
          0.9950237727502936,
          0.9950237727502936,
          0.9950237727502936,
          0.9950237727502936,
          0.9950237727502936,
          0.9894769637053263,
          0.9894769637053263,
          0.9894769637053263,
          0.9894769637053263,
          0.9894769637053263,
          0.9894769637053263,
          0.9894769637053263,
          0.9894769637053263,
          0.9894769637053263,
          0.9894769637053263,
          0.9894769637053263,
          0.9730921142754505,
          0.9730921142754505,
          0.9730921142754505,
          0.9730921142754505,
          0.9730921142754505,
          0.9730921142754505,
          0.9730921142754505,
          0.9730921142754505,
          0.9730921142754505,
          0.9730921142754505,
          0.9942538998135703,
          0.9942538998135703,
          0.9942538998135703,
          0.9942538998135703,
          0.9942538998135703,
          0.9981719241715675,
          0.9981719241715675,
          0.9981719241715675,
          0.9981719241715675,
          0.9972757290001549,
          0.9972757290001549,
          0.9972757290001549,
          0.9972757290001549,
          0.9969940968657877,
          0.9969940968657877,
          0.9969940968657877,
          0.9969940968657877,
          0.9999769076778285,
          0.9999769076778285,
          0.9999769076778285,
          0.9999769076778285,
          0.9999769076778285,
          0.999567635354214,
          0.999567635354214,
          0.999567635354214,
          0.999567635354214,
          0.999567635354214,
          0.997620299999513,
          0.997620299999513,
          0.997620299999513,
          0.997620299999513,
          0.997620299999513,
          0.9895208680726277,
          0.9895208680726277,
          0.9895208680726277,
          0.9895208680726277,
          0.9895208680726277,
          0.9895208680726277,
          0.9895208680726277,
          0.9389907355624674,
          0.9389907355624674,
          0.9389907355624674,
          0.9389907355624674,
          0.9389907355624674,
          0.9389907355624674,
          0.9389907355624674,
          0.9389907355624674,
          0.9389907355624674,
          0.9389907355624674,
          0.9389907355624674,
          0.9389907355624674,
          0.9389907355624674,
          0.9389907355624674,
          0.9389907355624674,
          0.9389907355624674,
          0.9389907355624674,
          0.9389907355624674,
          0.9389907355624674,
          0.9389907355624674,
          0.9389907355624674,
          0.9389907355624674,
          0.9389907355624674,
          0.9389907355624674,
          0.9389907355624674,
          0.9389907355624674,
          0.9389907355624674,
          0.9389907355624674,
          0.9389907355624674,
          0.9863690324821549,
          0.9863690324821549,
          0.9863690324821549,
          0.9863690324821549,
          0.9863690324821549,
          0.9863690324821549,
          0.9863690324821549,
          0.9863690324821549,
          0.9863690324821549,
          0.9863690324821549,
          0.9863690324821549,
          0.9863690324821549,
          0.9932949549150075,
          0.9932949549150075,
          0.9932949549150075,
          0.9932949549150075,
          0.9932949549150075,
          0.9932949549150075,
          0.9932949549150075,
          0.9991171549062955,
          0.9991171549062955,
          0.9991171549062955,
          0.9991171549062955,
          0.9896115369426723,
          0.9896115369426723,
          0.9896115369426723,
          0.9896115369426723,
          0.9896115369426723,
          0.9896115369426723,
          1,
          1,
          1,
          0.9848063670035131,
          0.9848063670035131,
          0.9848063670035131,
          0.9848063670035131,
          0.9523294347769495,
          0.9523294347769495,
          0.9523294347769495,
          0.9523294347769495,
          0.9523294347769495,
          0.9523294347769495,
          0.9523294347769495,
          0.9899400246225601,
          0.9899400246225601,
          0.9899400246225601,
          0.9899400246225601,
          0.9899400246225601,
          0.9899400246225601,
          0.9899400246225601,
          0.9899400246225601,
          0.9899400246225601,
          0.9276263941793996,
          0.9276263941793996,
          0.9276263941793996,
          0.9276263941793996,
          0.9276263941793996,
          0.9276263941793996,
          0.9276263941793996,
          0.9216621709830299,
          0.9216621709830299,
          0.9216621709830299,
          0.9216621709830299,
          0.9216621709830299,
          0.9216621709830299,
          0.9957729596716111,
          0.9957729596716111,
          0.9957729596716111,
          0.9957729596716111,
          0.9957729596716111,
          0.9957729596716111,
          0.9957729596716111,
          0.9957729596716111,
          0.9957729596716111,
          0.9957729596716111,
          0.9957729596716111,
          0.9953985492894383,
          0.9953985492894383,
          0.9953985492894383,
          0.9953985492894383,
          0.9953985492894383,
          0.9906352206433632,
          0.9906352206433632,
          0.9906352206433632,
          0.9906352206433632,
          0.9906352206433632,
          0.9906352206433632,
          0.9906352206433632,
          0.9906352206433632,
          0.9906352206433632,
          0.9906352206433632,
          0.9906352206433632,
          0.962295623795312,
          0.962295623795312,
          0.962295623795312,
          0.962295623795312,
          0.962295623795312,
          0.962295623795312,
          0.962295623795312,
          0.962295623795312,
          0.962295623795312,
          0.962295623795312,
          0.962295623795312,
          0.9477943237120992,
          0.9477943237120992,
          0.9477943237120992,
          0.9477943237120992,
          0.9477943237120992,
          0.9477943237120992,
          0.9477943237120992,
          0.9477943237120992,
          0.9477943237120992,
          0.9477943237120992,
          0.9477943237120992,
          0.9477943237120992,
          0.963472769924555,
          0.963472769924555,
          0.963472769924555,
          0.963472769924555,
          0.963472769924555,
          0.963472769924555,
          0.963472769924555,
          0.963472769924555,
          0.963472769924555,
          0.963472769924555,
          0.963472769924555,
          0.963472769924555,
          0.963472769924555,
          0.963472769924555,
          0.9529035419967969,
          0.9529035419967969,
          0.9529035419967969,
          0.9529035419967969,
          0.9529035419967969,
          0.9529035419967969,
          0.9529035419967969,
          0.9529035419967969,
          0.9529035419967969,
          0.9529035419967969,
          0.9529035419967969,
          0.9529035419967969,
          0.9529035419967969,
          0.9686586410629194,
          0.9686586410629194,
          0.9686586410629194,
          0.9686586410629194,
          0.9686586410629194,
          0.9686586410629194,
          0.9686586410629194,
          0.9533591825849561,
          0.9533591825849561,
          0.9533591825849561,
          0.9533591825849561,
          0.9533591825849561,
          0.9533591825849561,
          0.9533591825849561,
          0.9533591825849561,
          0.9533591825849561,
          0.941345448540325,
          0.941345448540325,
          0.941345448540325,
          0.941345448540325,
          0.941345448540325,
          0.941345448540325,
          0.941345448540325,
          0.941345448540325,
          0.941345448540325,
          0.941345448540325,
          0.941345448540325,
          0.941345448540325,
          0.941345448540325,
          0.941345448540325,
          0.941345448540325,
          0.941345448540325,
          0.941345448540325,
          0.941345448540325,
          0.941345448540325,
          0.941345448540325,
          0.941345448540325,
          0.941345448540325,
          0.941345448540325,
          0.941345448540325,
          0.941345448540325,
          0.941345448540325,
          0.941345448540325,
          0.941345448540325,
          0.9592557607490966,
          0.9592557607490966,
          0.9592557607490966,
          0.9592557607490966,
          0.9592557607490966,
          0.9592557607490966,
          0.9592557607490966,
          0.9592557607490966,
          0.9592557607490966,
          0.9592557607490966,
          0.9592557607490966,
          0.9592557607490966,
          0.9551895023976422,
          0.9551895023976422,
          0.9551895023976422,
          0.9551895023976422,
          0.9551895023976422,
          0.9551895023976422,
          0.9551895023976422,
          0.9551895023976422,
          0.9551895023976422,
          0.9551895023976422,
          0.9551895023976422,
          0.9551895023976422,
          0.9551895023976422,
          0.9551895023976422,
          0.9551895023976422,
          0.9501808305460885,
          0.9501808305460885,
          0.9501808305460885,
          0.9501808305460885,
          0.9501808305460885,
          0.9501808305460885,
          0.9501808305460885,
          0.9501808305460885,
          0.9501808305460885,
          0.9501808305460885,
          0.9501808305460885,
          0.9501808305460885,
          0.9501808305460885,
          0.9501808305460885,
          0.9501808305460885,
          0.96032648486163,
          0.96032648486163,
          0.96032648486163,
          0.96032648486163,
          0.96032648486163,
          0.96032648486163,
          0.96032648486163,
          0.96032648486163,
          0.9610566805388198,
          0.9610566805388198,
          0.9610566805388198,
          0.9610566805388198,
          0.9610566805388198,
          0.9610566805388198,
          0.9610566805388198,
          0.9610566805388198,
          0.9610566805388198,
          0.9610566805388198,
          0.9610566805388198,
          0.9491637559318206,
          0.9491637559318206,
          0.9491637559318206,
          0.9491637559318206,
          0.9491637559318206,
          0.9491637559318206,
          0.9491637559318206,
          0.9491637559318206,
          0.9491637559318206,
          0.9491637559318206,
          0.9491637559318206,
          0.9491637559318206,
          0.9491637559318206,
          0.9491637559318206,
          0.9491637559318206,
          0.9491637559318206,
          0.9491637559318206,
          0.9491637559318206,
          0.9491637559318206,
          0.9613948794730793,
          0.9613948794730793,
          0.9613948794730793,
          0.9613948794730793,
          0.9613948794730793,
          0.9613948794730793,
          0.9613948794730793,
          0.9613948794730793,
          0.952265292025377,
          0.952265292025377,
          0.952265292025377,
          0.952265292025377,
          0.952265292025377,
          0.952265292025377,
          0.952265292025377,
          0.952265292025377,
          0.952265292025377,
          0.9409507699496935,
          0.9409507699496935,
          0.9409507699496935,
          0.9409507699496935,
          0.9409507699496935,
          0.9409507699496935,
          0.9409507699496935,
          0.9409507699496935,
          0.9409507699496935,
          0.9409507699496935,
          0.9409507699496935,
          0.9409507699496935,
          0.9409507699496935,
          0.940826785430459,
          0.940826785430459,
          0.940826785430459,
          0.940826785430459,
          0.940826785430459,
          0.940826785430459,
          0.940826785430459,
          0.940826785430459,
          0.940826785430459,
          0.940826785430459,
          0.940826785430459,
          0.940826785430459,
          0.940826785430459,
          0.940826785430459,
          0.940826785430459,
          0.940826785430459,
          0.940826785430459,
          0.940826785430459,
          0.940826785430459,
          0.948993757681635,
          0.948993757681635,
          0.948993757681635,
          0.948993757681635,
          0.948993757681635,
          0.948993757681635,
          0.948993757681635,
          0.948993757681635,
          0.948993757681635,
          0.948993757681635,
          0.948993757681635,
          0.9777559582936212,
          0.9777559582936212,
          0.9777559582936212,
          0.9777559582936212,
          0.9777559582936212,
          0.9777559582936212,
          0.977542934335432,
          0.977542934335432,
          0.977542934335432,
          0.977542934335432,
          0.977542934335432,
          0.977542934335432,
          0.9886865412804627,
          0.9886865412804627,
          0.9886865412804627,
          0.9886865412804627,
          0.9886865412804627,
          0.9512463935498938,
          0.9512463935498938,
          0.9512463935498938,
          0.9512463935498938,
          0.9512463935498938,
          0.9512463935498938,
          0.9512463935498938,
          0.9512463935498938,
          0.9512463935498938,
          0.9624160632214448,
          0.9624160632214448,
          0.9624160632214448,
          0.9624160632214448,
          0.9624160632214448,
          0.9624160632214448,
          0.9624160632214448,
          0.9624160632214448,
          0.9624160632214448,
          0.9624160632214448,
          0.9624160632214448,
          0.9416047034476259,
          0.9416047034476259,
          0.9416047034476259,
          0.9416047034476259,
          0.9416047034476259,
          0.9416047034476259,
          0.9416047034476259,
          0.9416047034476259,
          0.9416047034476259,
          0.9416047034476259,
          0.9416047034476259,
          0.9445311640887321,
          0.9445311640887321,
          0.9445311640887321,
          0.9445311640887321,
          0.9445311640887321,
          0.9445311640887321,
          0.9445311640887321,
          0.9445311640887321,
          0.9445311640887321,
          0.9445311640887321,
          0.9445311640887321,
          0.9549776595842256,
          0.9549776595842256,
          0.9549776595842256,
          0.9549776595842256,
          0.9549776595842256,
          0.9549776595842256,
          0.9549776595842256,
          0.9549776595842256,
          0.9549776595842256,
          0.9427040000943112,
          0.9427040000943112,
          0.9427040000943112,
          0.9427040000943112,
          0.9427040000943112,
          0.9427040000943112,
          0.9427040000943112,
          0.9427040000943112,
          0.9623075904191597,
          0.9623075904191597,
          0.9623075904191597,
          0.9623075904191597,
          0.9623075904191597,
          0.9623075904191597,
          0.9623075904191597,
          0.9623075904191597,
          0.9623075904191597,
          0.9907525463664605,
          0.9907525463664605,
          0.9907525463664605,
          0.9907525463664605,
          0.9907525463664605,
          0.9786944326122827,
          0.9786944326122827,
          0.9786944326122827,
          0.9786944326122827,
          0.9786944326122827,
          0.9786944326122827,
          0.9786944326122827,
          0.9912368738625781,
          0.9912368738625781,
          0.9912368738625781,
          0.9912368738625781,
          0.9912368738625781,
          0.9912368738625781,
          0.9999376500614308,
          0.9999376500614308,
          0.9999376500614308,
          0.9999376500614308,
          0.9952324186551447,
          0.9952324186551447,
          0.9952324186551447,
          0.9952324186551447,
          0.9952324186551447,
          0.9864545715957335,
          0.9864545715957335,
          0.9864545715957335,
          0.9864545715957335,
          0.9864545715957335,
          1,
          1,
          1,
          0.9604811332069623,
          0.9604811332069623,
          0.9604811332069623,
          0.9604811332069623,
          0.9604811332069623,
          0.9604811332069623,
          0.9604811332069623,
          0.9604811332069623,
          0.9604811332069623,
          0.9604811332069623,
          0.9848543254836183,
          0.9848543254836183,
          0.9848543254836183,
          0.9848543254836183,
          0.9848543254836183,
          0.9848543254836183,
          0.9848543254836183,
          0.9848543254836183,
          0.9848543254836183,
          0.9848543254836183,
          0.9848543254836183,
          0.9999363647868347,
          0.9999363647868347,
          0.9999363647868347,
          0.9999363647868347
         ],
         "yaxis": "y"
        }
       ],
       "layout": {
        "legend": {
         "tracegroupgap": 0
        },
        "template": {
         "data": {
          "bar": [
           {
            "error_x": {
             "color": "#2a3f5f"
            },
            "error_y": {
             "color": "#2a3f5f"
            },
            "marker": {
             "line": {
              "color": "#E5ECF6",
              "width": 0.5
             },
             "pattern": {
              "fillmode": "overlay",
              "size": 10,
              "solidity": 0.2
             }
            },
            "type": "bar"
           }
          ],
          "barpolar": [
           {
            "marker": {
             "line": {
              "color": "#E5ECF6",
              "width": 0.5
             },
             "pattern": {
              "fillmode": "overlay",
              "size": 10,
              "solidity": 0.2
             }
            },
            "type": "barpolar"
           }
          ],
          "carpet": [
           {
            "aaxis": {
             "endlinecolor": "#2a3f5f",
             "gridcolor": "white",
             "linecolor": "white",
             "minorgridcolor": "white",
             "startlinecolor": "#2a3f5f"
            },
            "baxis": {
             "endlinecolor": "#2a3f5f",
             "gridcolor": "white",
             "linecolor": "white",
             "minorgridcolor": "white",
             "startlinecolor": "#2a3f5f"
            },
            "type": "carpet"
           }
          ],
          "choropleth": [
           {
            "colorbar": {
             "outlinewidth": 0,
             "ticks": ""
            },
            "type": "choropleth"
           }
          ],
          "contour": [
           {
            "colorbar": {
             "outlinewidth": 0,
             "ticks": ""
            },
            "colorscale": [
             [
              0,
              "#0d0887"
             ],
             [
              0.1111111111111111,
              "#46039f"
             ],
             [
              0.2222222222222222,
              "#7201a8"
             ],
             [
              0.3333333333333333,
              "#9c179e"
             ],
             [
              0.4444444444444444,
              "#bd3786"
             ],
             [
              0.5555555555555556,
              "#d8576b"
             ],
             [
              0.6666666666666666,
              "#ed7953"
             ],
             [
              0.7777777777777778,
              "#fb9f3a"
             ],
             [
              0.8888888888888888,
              "#fdca26"
             ],
             [
              1,
              "#f0f921"
             ]
            ],
            "type": "contour"
           }
          ],
          "contourcarpet": [
           {
            "colorbar": {
             "outlinewidth": 0,
             "ticks": ""
            },
            "type": "contourcarpet"
           }
          ],
          "heatmap": [
           {
            "colorbar": {
             "outlinewidth": 0,
             "ticks": ""
            },
            "colorscale": [
             [
              0,
              "#0d0887"
             ],
             [
              0.1111111111111111,
              "#46039f"
             ],
             [
              0.2222222222222222,
              "#7201a8"
             ],
             [
              0.3333333333333333,
              "#9c179e"
             ],
             [
              0.4444444444444444,
              "#bd3786"
             ],
             [
              0.5555555555555556,
              "#d8576b"
             ],
             [
              0.6666666666666666,
              "#ed7953"
             ],
             [
              0.7777777777777778,
              "#fb9f3a"
             ],
             [
              0.8888888888888888,
              "#fdca26"
             ],
             [
              1,
              "#f0f921"
             ]
            ],
            "type": "heatmap"
           }
          ],
          "heatmapgl": [
           {
            "colorbar": {
             "outlinewidth": 0,
             "ticks": ""
            },
            "colorscale": [
             [
              0,
              "#0d0887"
             ],
             [
              0.1111111111111111,
              "#46039f"
             ],
             [
              0.2222222222222222,
              "#7201a8"
             ],
             [
              0.3333333333333333,
              "#9c179e"
             ],
             [
              0.4444444444444444,
              "#bd3786"
             ],
             [
              0.5555555555555556,
              "#d8576b"
             ],
             [
              0.6666666666666666,
              "#ed7953"
             ],
             [
              0.7777777777777778,
              "#fb9f3a"
             ],
             [
              0.8888888888888888,
              "#fdca26"
             ],
             [
              1,
              "#f0f921"
             ]
            ],
            "type": "heatmapgl"
           }
          ],
          "histogram": [
           {
            "marker": {
             "pattern": {
              "fillmode": "overlay",
              "size": 10,
              "solidity": 0.2
             }
            },
            "type": "histogram"
           }
          ],
          "histogram2d": [
           {
            "colorbar": {
             "outlinewidth": 0,
             "ticks": ""
            },
            "colorscale": [
             [
              0,
              "#0d0887"
             ],
             [
              0.1111111111111111,
              "#46039f"
             ],
             [
              0.2222222222222222,
              "#7201a8"
             ],
             [
              0.3333333333333333,
              "#9c179e"
             ],
             [
              0.4444444444444444,
              "#bd3786"
             ],
             [
              0.5555555555555556,
              "#d8576b"
             ],
             [
              0.6666666666666666,
              "#ed7953"
             ],
             [
              0.7777777777777778,
              "#fb9f3a"
             ],
             [
              0.8888888888888888,
              "#fdca26"
             ],
             [
              1,
              "#f0f921"
             ]
            ],
            "type": "histogram2d"
           }
          ],
          "histogram2dcontour": [
           {
            "colorbar": {
             "outlinewidth": 0,
             "ticks": ""
            },
            "colorscale": [
             [
              0,
              "#0d0887"
             ],
             [
              0.1111111111111111,
              "#46039f"
             ],
             [
              0.2222222222222222,
              "#7201a8"
             ],
             [
              0.3333333333333333,
              "#9c179e"
             ],
             [
              0.4444444444444444,
              "#bd3786"
             ],
             [
              0.5555555555555556,
              "#d8576b"
             ],
             [
              0.6666666666666666,
              "#ed7953"
             ],
             [
              0.7777777777777778,
              "#fb9f3a"
             ],
             [
              0.8888888888888888,
              "#fdca26"
             ],
             [
              1,
              "#f0f921"
             ]
            ],
            "type": "histogram2dcontour"
           }
          ],
          "mesh3d": [
           {
            "colorbar": {
             "outlinewidth": 0,
             "ticks": ""
            },
            "type": "mesh3d"
           }
          ],
          "parcoords": [
           {
            "line": {
             "colorbar": {
              "outlinewidth": 0,
              "ticks": ""
             }
            },
            "type": "parcoords"
           }
          ],
          "pie": [
           {
            "automargin": true,
            "type": "pie"
           }
          ],
          "scatter": [
           {
            "fillpattern": {
             "fillmode": "overlay",
             "size": 10,
             "solidity": 0.2
            },
            "type": "scatter"
           }
          ],
          "scatter3d": [
           {
            "line": {
             "colorbar": {
              "outlinewidth": 0,
              "ticks": ""
             }
            },
            "marker": {
             "colorbar": {
              "outlinewidth": 0,
              "ticks": ""
             }
            },
            "type": "scatter3d"
           }
          ],
          "scattercarpet": [
           {
            "marker": {
             "colorbar": {
              "outlinewidth": 0,
              "ticks": ""
             }
            },
            "type": "scattercarpet"
           }
          ],
          "scattergeo": [
           {
            "marker": {
             "colorbar": {
              "outlinewidth": 0,
              "ticks": ""
             }
            },
            "type": "scattergeo"
           }
          ],
          "scattergl": [
           {
            "marker": {
             "colorbar": {
              "outlinewidth": 0,
              "ticks": ""
             }
            },
            "type": "scattergl"
           }
          ],
          "scattermapbox": [
           {
            "marker": {
             "colorbar": {
              "outlinewidth": 0,
              "ticks": ""
             }
            },
            "type": "scattermapbox"
           }
          ],
          "scatterpolar": [
           {
            "marker": {
             "colorbar": {
              "outlinewidth": 0,
              "ticks": ""
             }
            },
            "type": "scatterpolar"
           }
          ],
          "scatterpolargl": [
           {
            "marker": {
             "colorbar": {
              "outlinewidth": 0,
              "ticks": ""
             }
            },
            "type": "scatterpolargl"
           }
          ],
          "scatterternary": [
           {
            "marker": {
             "colorbar": {
              "outlinewidth": 0,
              "ticks": ""
             }
            },
            "type": "scatterternary"
           }
          ],
          "surface": [
           {
            "colorbar": {
             "outlinewidth": 0,
             "ticks": ""
            },
            "colorscale": [
             [
              0,
              "#0d0887"
             ],
             [
              0.1111111111111111,
              "#46039f"
             ],
             [
              0.2222222222222222,
              "#7201a8"
             ],
             [
              0.3333333333333333,
              "#9c179e"
             ],
             [
              0.4444444444444444,
              "#bd3786"
             ],
             [
              0.5555555555555556,
              "#d8576b"
             ],
             [
              0.6666666666666666,
              "#ed7953"
             ],
             [
              0.7777777777777778,
              "#fb9f3a"
             ],
             [
              0.8888888888888888,
              "#fdca26"
             ],
             [
              1,
              "#f0f921"
             ]
            ],
            "type": "surface"
           }
          ],
          "table": [
           {
            "cells": {
             "fill": {
              "color": "#EBF0F8"
             },
             "line": {
              "color": "white"
             }
            },
            "header": {
             "fill": {
              "color": "#C8D4E3"
             },
             "line": {
              "color": "white"
             }
            },
            "type": "table"
           }
          ]
         },
         "layout": {
          "annotationdefaults": {
           "arrowcolor": "#2a3f5f",
           "arrowhead": 0,
           "arrowwidth": 1
          },
          "autotypenumbers": "strict",
          "coloraxis": {
           "colorbar": {
            "outlinewidth": 0,
            "ticks": ""
           }
          },
          "colorscale": {
           "diverging": [
            [
             0,
             "#8e0152"
            ],
            [
             0.1,
             "#c51b7d"
            ],
            [
             0.2,
             "#de77ae"
            ],
            [
             0.3,
             "#f1b6da"
            ],
            [
             0.4,
             "#fde0ef"
            ],
            [
             0.5,
             "#f7f7f7"
            ],
            [
             0.6,
             "#e6f5d0"
            ],
            [
             0.7,
             "#b8e186"
            ],
            [
             0.8,
             "#7fbc41"
            ],
            [
             0.9,
             "#4d9221"
            ],
            [
             1,
             "#276419"
            ]
           ],
           "sequential": [
            [
             0,
             "#0d0887"
            ],
            [
             0.1111111111111111,
             "#46039f"
            ],
            [
             0.2222222222222222,
             "#7201a8"
            ],
            [
             0.3333333333333333,
             "#9c179e"
            ],
            [
             0.4444444444444444,
             "#bd3786"
            ],
            [
             0.5555555555555556,
             "#d8576b"
            ],
            [
             0.6666666666666666,
             "#ed7953"
            ],
            [
             0.7777777777777778,
             "#fb9f3a"
            ],
            [
             0.8888888888888888,
             "#fdca26"
            ],
            [
             1,
             "#f0f921"
            ]
           ],
           "sequentialminus": [
            [
             0,
             "#0d0887"
            ],
            [
             0.1111111111111111,
             "#46039f"
            ],
            [
             0.2222222222222222,
             "#7201a8"
            ],
            [
             0.3333333333333333,
             "#9c179e"
            ],
            [
             0.4444444444444444,
             "#bd3786"
            ],
            [
             0.5555555555555556,
             "#d8576b"
            ],
            [
             0.6666666666666666,
             "#ed7953"
            ],
            [
             0.7777777777777778,
             "#fb9f3a"
            ],
            [
             0.8888888888888888,
             "#fdca26"
            ],
            [
             1,
             "#f0f921"
            ]
           ]
          },
          "colorway": [
           "#636efa",
           "#EF553B",
           "#00cc96",
           "#ab63fa",
           "#FFA15A",
           "#19d3f3",
           "#FF6692",
           "#B6E880",
           "#FF97FF",
           "#FECB52"
          ],
          "font": {
           "color": "#2a3f5f"
          },
          "geo": {
           "bgcolor": "white",
           "lakecolor": "white",
           "landcolor": "#E5ECF6",
           "showlakes": true,
           "showland": true,
           "subunitcolor": "white"
          },
          "hoverlabel": {
           "align": "left"
          },
          "hovermode": "closest",
          "mapbox": {
           "style": "light"
          },
          "paper_bgcolor": "white",
          "plot_bgcolor": "#E5ECF6",
          "polar": {
           "angularaxis": {
            "gridcolor": "white",
            "linecolor": "white",
            "ticks": ""
           },
           "bgcolor": "#E5ECF6",
           "radialaxis": {
            "gridcolor": "white",
            "linecolor": "white",
            "ticks": ""
           }
          },
          "scene": {
           "xaxis": {
            "backgroundcolor": "#E5ECF6",
            "gridcolor": "white",
            "gridwidth": 2,
            "linecolor": "white",
            "showbackground": true,
            "ticks": "",
            "zerolinecolor": "white"
           },
           "yaxis": {
            "backgroundcolor": "#E5ECF6",
            "gridcolor": "white",
            "gridwidth": 2,
            "linecolor": "white",
            "showbackground": true,
            "ticks": "",
            "zerolinecolor": "white"
           },
           "zaxis": {
            "backgroundcolor": "#E5ECF6",
            "gridcolor": "white",
            "gridwidth": 2,
            "linecolor": "white",
            "showbackground": true,
            "ticks": "",
            "zerolinecolor": "white"
           }
          },
          "shapedefaults": {
           "line": {
            "color": "#2a3f5f"
           }
          },
          "ternary": {
           "aaxis": {
            "gridcolor": "white",
            "linecolor": "white",
            "ticks": ""
           },
           "baxis": {
            "gridcolor": "white",
            "linecolor": "white",
            "ticks": ""
           },
           "bgcolor": "#E5ECF6",
           "caxis": {
            "gridcolor": "white",
            "linecolor": "white",
            "ticks": ""
           }
          },
          "title": {
           "x": 0.05
          },
          "xaxis": {
           "automargin": true,
           "gridcolor": "white",
           "linecolor": "white",
           "ticks": "",
           "title": {
            "standoff": 15
           },
           "zerolinecolor": "white",
           "zerolinewidth": 2
          },
          "yaxis": {
           "automargin": true,
           "gridcolor": "white",
           "linecolor": "white",
           "ticks": "",
           "title": {
            "standoff": 15
           },
           "zerolinecolor": "white",
           "zerolinewidth": 2
          }
         }
        },
        "title": {
         "text": "R² Values for All Oscillator Fits as Function of Anharmonicity"
        },
        "xaxis": {
         "anchor": "y",
         "domain": [
          0,
          1
         ],
         "title": {
          "text": "Anharmonicity Ratio"
         }
        },
        "yaxis": {
         "anchor": "x",
         "domain": [
          0,
          1
         ],
         "title": {
          "text": "R² Score"
         }
        }
       }
      }
     },
     "metadata": {},
     "output_type": "display_data"
    }
   ],
   "source": [
    "df_to_plot = residuals_df[residuals_df['anharmonicity'].abs() < 0.5]\n",
    "\n",
    "px.scatter(df_to_plot, \n",
    "            x='anharmonicity', \n",
    "            y='r2', \n",
    "            title='R² Values for All Oscillator Fits as Function of Anharmonicity',\n",
    "            labels={'anharmonicity': 'Anharmonicity Ratio', 'r2': 'R² Score'},\n",
    "            color_continuous_scale='viridis')"
   ]
  }
 ],
 "metadata": {
  "kernelspec": {
   "display_name": "nuclei",
   "language": "python",
   "name": "python3"
  },
  "language_info": {
   "codemirror_mode": {
    "name": "ipython",
    "version": 3
   },
   "file_extension": ".py",
   "mimetype": "text/x-python",
   "name": "python",
   "nbconvert_exporter": "python",
   "pygments_lexer": "ipython3",
   "version": "3.13.0"
  }
 },
 "nbformat": 4,
 "nbformat_minor": 2
}
