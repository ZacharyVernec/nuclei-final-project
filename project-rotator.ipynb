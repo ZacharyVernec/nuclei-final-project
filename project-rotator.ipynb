{
 "cells": [
  {
   "cell_type": "code",
   "execution_count": 1,
   "metadata": {},
   "outputs": [],
   "source": [
    "import pandas as pd\n",
    "import numpy as np\n",
    "\n",
    "from scipy.optimize import curve_fit\n",
    "\n",
    "import plotly.express as px"
   ]
  },
  {
   "cell_type": "markdown",
   "metadata": {},
   "source": [
    "## Obtain and save data from the web"
   ]
  },
  {
   "cell_type": "code",
   "execution_count": 2,
   "metadata": {},
   "outputs": [],
   "source": [
    "# # the service URL\n",
    "# livechart = \"https://nds.iaea.org/relnsd/v1/data?\"\n",
    "\n",
    "# # There have been cases in which the service returns an HTTP Error 403: Forbidden\n",
    "# # use this workaround\n",
    "# import urllib.request\n",
    "# def lc_pd_dataframe(url):\n",
    "#     req = urllib.request.Request(url)\n",
    "#     req.add_header('User-Agent''','' 'Mozilla/5.0 (X11; Ubuntu; Linux x86_64; rv:77.0) Gecko/20100101 Firefox/77.0')\n",
    "#     return pd.read_csv(urllib.request.urlopen(req))"
   ]
  },
  {
   "cell_type": "code",
   "execution_count": 3,
   "metadata": {},
   "outputs": [],
   "source": [
    "# ground_states_df = lc_pd_dataframe(livechart + \"fields=ground_states&nuclides=all\")\n",
    "# ground_states_df = ground_states_df[['z', 'n', 'symbol', 'half_life']]\n",
    "# ground_states_df = ground_states_df[ground_states_df['half_life'] == 'STABLE']\n",
    "# ground_states_df = ground_states_df.copy()\n",
    "# ground_states_df['a'] = ground_states_df['z'] + ground_states_df['n']\n",
    "# ground_states_df['symbol'] = ground_states_df['symbol'].str.lower()\n",
    "# ground_states_df['name'] = ground_states_df['a'].astype(str).str.cat(ground_states_df['symbol'])\n",
    "# names = ground_states_df['name'].values"
   ]
  },
  {
   "cell_type": "code",
   "execution_count": 4,
   "metadata": {},
   "outputs": [],
   "source": [
    "# levels_dfs = [lc_pd_dataframe(livechart + f\"fields=levels&nuclides={name}\") for name in names]\n",
    "# levels_dfs =  pd.concat(levels_dfs, ignore_index=True)\n",
    "\n",
    "# print(levels_dfs.columns)\n",
    "# print(levels_dfs.head())"
   ]
  },
  {
   "cell_type": "code",
   "execution_count": 5,
   "metadata": {},
   "outputs": [],
   "source": [
    "# levels_dfs.to_csv(\"levels.csv\", index=False)"
   ]
  },
  {
   "cell_type": "markdown",
   "metadata": {},
   "source": [
    "## Load saved data"
   ]
  },
  {
   "cell_type": "code",
   "execution_count": 6,
   "metadata": {},
   "outputs": [
    {
     "data": {
      "text/html": [
       "<div>\n",
       "<style scoped>\n",
       "    .dataframe tbody tr th:only-of-type {\n",
       "        vertical-align: middle;\n",
       "    }\n",
       "\n",
       "    .dataframe tbody tr th {\n",
       "        vertical-align: top;\n",
       "    }\n",
       "\n",
       "    .dataframe thead th {\n",
       "        text-align: right;\n",
       "    }\n",
       "</style>\n",
       "<table border=\"1\" class=\"dataframe\">\n",
       "  <thead>\n",
       "    <tr style=\"text-align: right;\">\n",
       "      <th></th>\n",
       "      <th></th>\n",
       "      <th>symbol</th>\n",
       "      <th>n</th>\n",
       "      <th>idx</th>\n",
       "      <th>energy</th>\n",
       "      <th>energy_shift</th>\n",
       "      <th>ripl_shift</th>\n",
       "      <th>jp</th>\n",
       "      <th>jp_order</th>\n",
       "      <th>beta</th>\n",
       "    </tr>\n",
       "    <tr>\n",
       "      <th>z</th>\n",
       "      <th>a</th>\n",
       "      <th></th>\n",
       "      <th></th>\n",
       "      <th></th>\n",
       "      <th></th>\n",
       "      <th></th>\n",
       "      <th></th>\n",
       "      <th></th>\n",
       "      <th></th>\n",
       "      <th></th>\n",
       "    </tr>\n",
       "  </thead>\n",
       "  <tbody>\n",
       "    <tr>\n",
       "      <th rowspan=\"2\" valign=\"top\">1</th>\n",
       "      <th>1</th>\n",
       "      <td>H</td>\n",
       "      <td>0</td>\n",
       "      <td>0</td>\n",
       "      <td>0.0</td>\n",
       "      <td>NaN</td>\n",
       "      <td>&lt;NA&gt;</td>\n",
       "      <td>1/2+</td>\n",
       "      <td>1</td>\n",
       "      <td>-1.0</td>\n",
       "    </tr>\n",
       "    <tr>\n",
       "      <th>2</th>\n",
       "      <td>H</td>\n",
       "      <td>1</td>\n",
       "      <td>0</td>\n",
       "      <td>0.0</td>\n",
       "      <td>NaN</td>\n",
       "      <td>&lt;NA&gt;</td>\n",
       "      <td>1+</td>\n",
       "      <td>1</td>\n",
       "      <td>0.0</td>\n",
       "    </tr>\n",
       "    <tr>\n",
       "      <th rowspan=\"3\" valign=\"top\">2</th>\n",
       "      <th>3</th>\n",
       "      <td>He</td>\n",
       "      <td>1</td>\n",
       "      <td>0</td>\n",
       "      <td>0.0</td>\n",
       "      <td>NaN</td>\n",
       "      <td>&lt;NA&gt;</td>\n",
       "      <td>1/2+</td>\n",
       "      <td>1</td>\n",
       "      <td>-0.333333</td>\n",
       "    </tr>\n",
       "    <tr>\n",
       "      <th>4</th>\n",
       "      <td>He</td>\n",
       "      <td>2</td>\n",
       "      <td>0</td>\n",
       "      <td>0.0</td>\n",
       "      <td>NaN</td>\n",
       "      <td>&lt;NA&gt;</td>\n",
       "      <td>0+</td>\n",
       "      <td>1</td>\n",
       "      <td>0.0</td>\n",
       "    </tr>\n",
       "    <tr>\n",
       "      <th>4</th>\n",
       "      <td>He</td>\n",
       "      <td>2</td>\n",
       "      <td>1</td>\n",
       "      <td>20.21</td>\n",
       "      <td>NaN</td>\n",
       "      <td>&lt;NA&gt;</td>\n",
       "      <td>0+</td>\n",
       "      <td>2</td>\n",
       "      <td>0.0</td>\n",
       "    </tr>\n",
       "  </tbody>\n",
       "</table>\n",
       "</div>"
      ],
      "text/plain": [
       "    symbol  n  idx  energy energy_shift  ripl_shift    jp  jp_order      beta\n",
       "z a                                                                          \n",
       "1 1      H  0    0     0.0          NaN        <NA>  1/2+         1      -1.0\n",
       "  2      H  1    0     0.0          NaN        <NA>    1+         1       0.0\n",
       "2 3     He  1    0     0.0          NaN        <NA>  1/2+         1 -0.333333\n",
       "  4     He  2    0     0.0          NaN        <NA>    0+         1       0.0\n",
       "  4     He  2    1   20.21          NaN        <NA>    0+         2       0.0"
      ]
     },
     "execution_count": 6,
     "metadata": {},
     "output_type": "execute_result"
    }
   ],
   "source": [
    "dtypes = {\n",
    "    'z': 'UInt8',\n",
    "    'n': 'UInt8',\n",
    "    'symbol': 'string',\n",
    "    'idx': 'UInt16',\n",
    "    'energy_shift': 'category',\n",
    "    'energy': 'Float64',\n",
    "    'unc_e': 'Float64',\n",
    "    'ripl_shift': 'Float64',\n",
    "    'jp': 'string',\n",
    "    'jp_order': 'UInt8',\n",
    "    'half_life': 'string',\n",
    "    'operator_hl': 'string',\n",
    "    'unc_hl': 'string',\n",
    "    'unit_hl': 'category',\n",
    "    'half_life_sec': 'Float64',\n",
    "    'unc_hl.1': 'Float64',\n",
    "    'decay_1': 'string',\n",
    "    'decay_1_%': 'Float64',\n",
    "    'unc_1': 'Float64',\n",
    "    'decay_2': 'string',\n",
    "    'decay_2_%': 'Float64',\n",
    "    'unc_2': 'Float64',\n",
    "    'decay_3': 'string',\n",
    "    'decay_3_%': 'Float64',\n",
    "    'unc_3': 'Float64',\n",
    "    'isospin': 'string',\n",
    "    'magnetic_dipole': 'Float64',\n",
    "    'unc_mn': 'Float64',\n",
    "    'electric_quadrupole': 'Float64',\n",
    "    'unc_eq': 'Float64',\n",
    "    'ENSDF_publication_cut-off': 'string',\n",
    "    'ENSDF_authors': 'string',\n",
    "    'Extraction_date': 'string'\n",
    "}\n",
    "parse_dates = ['ENSDF_publication_cut-off', 'Extraction_date']\n",
    "\n",
    "\n",
    "df = pd.read_csv('levels.csv', parse_dates=parse_dates, dtype=dtypes)\n",
    "\n",
    "\n",
    "df.loc[df['half_life'] == 'STABLE', 'half_life'] = 'inf'\n",
    "df['half_life'] = df['half_life'].astype('Float64')\n",
    "\n",
    "df['a'] = df['z'] + df['n']\n",
    "\n",
    "df = df[['symbol', 'a', 'z', 'n', 'idx', 'energy', 'energy_shift', 'ripl_shift', 'jp', 'jp_order']]\n",
    "df['energy'] = df['energy'] / 1000 #MeV\n",
    "df['ripl_shift'] = df['ripl_shift'] / 1000 #MeV\n",
    "#TODO also take into account energy uncertainty\n",
    "\n",
    "df['beta'] = (df['n'].astype('Float64') - df['z'].astype('Float64')) / df['a'].astype('Float64')\n",
    "\n",
    "df = df.set_index(['z', 'a'], drop=True)\n",
    "\n",
    "df.head()"
   ]
  },
  {
   "cell_type": "code",
   "execution_count": 7,
   "metadata": {},
   "outputs": [
    {
     "data": {
      "text/html": [
       "<div>\n",
       "<style scoped>\n",
       "    .dataframe tbody tr th:only-of-type {\n",
       "        vertical-align: middle;\n",
       "    }\n",
       "\n",
       "    .dataframe tbody tr th {\n",
       "        vertical-align: top;\n",
       "    }\n",
       "\n",
       "    .dataframe thead th {\n",
       "        text-align: right;\n",
       "    }\n",
       "</style>\n",
       "<table border=\"1\" class=\"dataframe\">\n",
       "  <thead>\n",
       "    <tr style=\"text-align: right;\">\n",
       "      <th></th>\n",
       "      <th></th>\n",
       "      <th>symbol</th>\n",
       "      <th>n</th>\n",
       "      <th>idx</th>\n",
       "      <th>energy</th>\n",
       "      <th>jp</th>\n",
       "      <th>jp_order</th>\n",
       "      <th>beta</th>\n",
       "    </tr>\n",
       "    <tr>\n",
       "      <th>z</th>\n",
       "      <th>a</th>\n",
       "      <th></th>\n",
       "      <th></th>\n",
       "      <th></th>\n",
       "      <th></th>\n",
       "      <th></th>\n",
       "      <th></th>\n",
       "      <th></th>\n",
       "    </tr>\n",
       "  </thead>\n",
       "  <tbody>\n",
       "    <tr>\n",
       "      <th rowspan=\"2\" valign=\"top\">1</th>\n",
       "      <th>1</th>\n",
       "      <td>H</td>\n",
       "      <td>0</td>\n",
       "      <td>0</td>\n",
       "      <td>0.0</td>\n",
       "      <td>1/2+</td>\n",
       "      <td>1</td>\n",
       "      <td>-1.0</td>\n",
       "    </tr>\n",
       "    <tr>\n",
       "      <th>2</th>\n",
       "      <td>H</td>\n",
       "      <td>1</td>\n",
       "      <td>0</td>\n",
       "      <td>0.0</td>\n",
       "      <td>1+</td>\n",
       "      <td>1</td>\n",
       "      <td>0.0</td>\n",
       "    </tr>\n",
       "    <tr>\n",
       "      <th rowspan=\"3\" valign=\"top\">2</th>\n",
       "      <th>3</th>\n",
       "      <td>He</td>\n",
       "      <td>1</td>\n",
       "      <td>0</td>\n",
       "      <td>0.0</td>\n",
       "      <td>1/2+</td>\n",
       "      <td>1</td>\n",
       "      <td>-0.333333</td>\n",
       "    </tr>\n",
       "    <tr>\n",
       "      <th>4</th>\n",
       "      <td>He</td>\n",
       "      <td>2</td>\n",
       "      <td>0</td>\n",
       "      <td>0.0</td>\n",
       "      <td>0+</td>\n",
       "      <td>1</td>\n",
       "      <td>0.0</td>\n",
       "    </tr>\n",
       "    <tr>\n",
       "      <th>4</th>\n",
       "      <td>He</td>\n",
       "      <td>2</td>\n",
       "      <td>1</td>\n",
       "      <td>20.21</td>\n",
       "      <td>0+</td>\n",
       "      <td>2</td>\n",
       "      <td>0.0</td>\n",
       "    </tr>\n",
       "  </tbody>\n",
       "</table>\n",
       "</div>"
      ],
      "text/plain": [
       "    symbol  n  idx  energy    jp  jp_order      beta\n",
       "z a                                                 \n",
       "1 1      H  0    0     0.0  1/2+         1      -1.0\n",
       "  2      H  1    0     0.0    1+         1       0.0\n",
       "2 3     He  1    0     0.0  1/2+         1 -0.333333\n",
       "  4     He  2    0     0.0    0+         1       0.0\n",
       "  4     He  2    1   20.21    0+         2       0.0"
      ]
     },
     "execution_count": 7,
     "metadata": {},
     "output_type": "execute_result"
    }
   ],
   "source": [
    "# Filter out shifts\n",
    "#TODO take into account energy shifts with ripl_shift\n",
    "#TODO take into account energy shifts without ripl_shift\n",
    "\n",
    "df = df[df['energy_shift'].isna()]\n",
    "df = df.drop(['energy_shift', 'ripl_shift'], axis='columns')\n",
    "df.head()"
   ]
  },
  {
   "cell_type": "code",
   "execution_count": 8,
   "metadata": {},
   "outputs": [],
   "source": [
    "# Filter out not enough levels\n",
    "# Just removes 1H, 2H, and 3He\n",
    "\n",
    "df = df.loc[df.groupby(level=df.index.names).size() >= 3]\n",
    "\n",
    "# Filter out uncertain jp\n",
    "\n",
    "df = df[df['jp'].str.fullmatch(r'^[0-9]+(/[0-9]+)?[+-]$')]\n",
    "\n",
    "# Extract j and p\n",
    "\n",
    "df['j'] = df['jp'].str[:-1]\n",
    "df['p'] = df['jp'].str[-1]\n",
    "\n",
    "odd_spins = df['j'].str.contains('/')\n",
    "even_spins = ~odd_spins\n",
    "\n",
    "df.loc[odd_spins,'j_float'] = df[odd_spins]['j'].str.split('/').apply(lambda x: float(x[0]) / float(x[1]))\n",
    "df.loc[even_spins,'j_float'] = df[even_spins]['j'].astype(float)\n",
    "\n",
    "df['j_evenness'] = pd.Series(data=pd.NA, dtype='boolean')\n",
    "df.loc[even_spins,'j_evenness'] = (df[even_spins]['j'].str.split('/', expand=True)[0].astype(int) % 2 == 0)\n",
    "#TODO similar for odd_spins\n",
    "\n",
    "df['p_bit'] = df['p'].str.fullmatch(r'\\-').astype(int)"
   ]
  },
  {
   "cell_type": "markdown",
   "metadata": {},
   "source": [
    "# Search"
   ]
  },
  {
   "cell_type": "markdown",
   "metadata": {},
   "source": [
    "### Quadrupole, positive, first band "
   ]
  },
  {
   "cell_type": "code",
   "execution_count": 17,
   "metadata": {},
   "outputs": [],
   "source": [
    "def get_rot_energy(l_over_two, energy_quantum):\n",
    "    l = l_over_two*2\n",
    "    return l*(l+1) * energy_quantum\n",
    "\n",
    "def fit(group, func):\n",
    "\n",
    "    x = group['quanta']\n",
    "    y = group['energy']\n",
    "\n",
    "    # fit\n",
    "    popt, pcov = curve_fit(func, x, y)\n",
    "\n",
    "    # prediction\n",
    "    y_pred = func(x, *popt)\n",
    "\n",
    "    # r-squared\n",
    "    ss_res = np.sum((y - y_pred)**2)\n",
    "    ss_tot = np.sum((y - y.mean())**2)\n",
    "    r2 = 1 - (ss_res / ss_tot)\n",
    "\n",
    "    # results\n",
    "    results = pd.DataFrame({'energy_quantum': popt[0], 'r2': r2, 'quanta': x, 'energy_pred': y_pred})\n",
    "\n",
    "    # results = pd.Series(list(popt)+[r2], index=['energy_quantum', 'zero_point_energy', 'r2'])\n",
    "    return  results"
   ]
  },
  {
   "cell_type": "code",
   "execution_count": 18,
   "metadata": {},
   "outputs": [],
   "source": [
    "quad_pos_first = df[(df['jp_order'] == 1) & df['j_evenness'].fillna(False) & (df['p_bit'] == 0)]\n",
    "quad_pos_first = quad_pos_first.loc[quad_pos_first.groupby(level=df.index.names).size() >= 3]\n",
    "quad_pos_first['quanta'] = (quad_pos_first['j_float'].astype(int) // 2)\n",
    "\n",
    "quad_pos_first_groups = quad_pos_first.groupby(level=df.index.names, as_index=False)\n",
    "\n",
    "oscillator_fit = quad_pos_first_groups.apply(lambda group: fit(group, get_rot_energy)).droplevel(0)"
   ]
  },
  {
   "cell_type": "code",
   "execution_count": 19,
   "metadata": {},
   "outputs": [
    {
     "name": "stdout",
     "output_type": "stream",
     "text": [
      "Oscillator osc:\n",
      "z   a  \n",
      "3   6      0.922325\n",
      "6   12     0.997976\n",
      "8   18     0.956019\n",
      "10  20     0.948610\n",
      "    22     0.988582\n",
      "             ...   \n",
      "78  196    0.967662\n",
      "    198    0.971478\n",
      "80  196    0.981404\n",
      "    202    0.979921\n",
      "    204    0.992779\n",
      "Name: r2, Length: 94, dtype: float64\n"
     ]
    }
   ],
   "source": [
    "min_r2 = 0.9\n",
    "\n",
    "print(\"Oscillator osc:\")\n",
    "best_oscillator_fit = oscillator_fit[oscillator_fit['r2'] > min_r2]\n",
    "\n",
    "print(best_oscillator_fit.groupby(by=best_oscillator_fit.index)['r2'].head(1))"
   ]
  },
  {
   "cell_type": "code",
   "execution_count": 20,
   "metadata": {},
   "outputs": [],
   "source": [
    "#TODO plot r^2 on grid\n",
    "#TODO change starting point"
   ]
  },
  {
   "cell_type": "code",
   "execution_count": 21,
   "metadata": {},
   "outputs": [],
   "source": [
    "merged = quad_pos_first.merge(oscillator_fit, how='left', on=['z','a', 'quanta'])\n",
    "best_osc_merged = merged[merged['r2'] > min_r2]\n",
    "\n",
    "def get_best_r2(df, min_r2):\n",
    "    return df[df['r2'] > min_r2]\n",
    "\n",
    "# merged = merged.merge(rotator_fit, how='left', on=['z','a', 'idx'], suffixes=('_osc', '_rot'))\n",
    "# lowest_merged = merged.groupby(['z','a']).head(3)\n",
    "lowest_merged = merged\n",
    "# best_rot_merged = lowest_merged[lowest_merged['r2_rot'] > min_r2]\n",
    "# best_rot_merged"
   ]
  },
  {
   "cell_type": "code",
   "execution_count": 22,
   "metadata": {},
   "outputs": [
    {
     "data": {
      "text/html": [
       "<div>\n",
       "<style scoped>\n",
       "    .dataframe tbody tr th:only-of-type {\n",
       "        vertical-align: middle;\n",
       "    }\n",
       "\n",
       "    .dataframe tbody tr th {\n",
       "        vertical-align: top;\n",
       "    }\n",
       "\n",
       "    .dataframe thead th {\n",
       "        text-align: right;\n",
       "    }\n",
       "</style>\n",
       "<table border=\"1\" class=\"dataframe\">\n",
       "  <thead>\n",
       "    <tr style=\"text-align: right;\">\n",
       "      <th></th>\n",
       "      <th></th>\n",
       "      <th>symbol</th>\n",
       "      <th>n</th>\n",
       "      <th>idx</th>\n",
       "      <th>energy</th>\n",
       "      <th>jp</th>\n",
       "      <th>jp_order</th>\n",
       "      <th>beta</th>\n",
       "      <th>j</th>\n",
       "      <th>p</th>\n",
       "      <th>j_float</th>\n",
       "      <th>j_evenness</th>\n",
       "      <th>p_bit</th>\n",
       "      <th>quanta</th>\n",
       "      <th>energy_quantum</th>\n",
       "      <th>r2</th>\n",
       "      <th>energy_pred</th>\n",
       "    </tr>\n",
       "    <tr>\n",
       "      <th>z</th>\n",
       "      <th>a</th>\n",
       "      <th></th>\n",
       "      <th></th>\n",
       "      <th></th>\n",
       "      <th></th>\n",
       "      <th></th>\n",
       "      <th></th>\n",
       "      <th></th>\n",
       "      <th></th>\n",
       "      <th></th>\n",
       "      <th></th>\n",
       "      <th></th>\n",
       "      <th></th>\n",
       "      <th></th>\n",
       "      <th></th>\n",
       "      <th></th>\n",
       "      <th></th>\n",
       "    </tr>\n",
       "  </thead>\n",
       "  <tbody>\n",
       "    <tr>\n",
       "      <th rowspan=\"3\" valign=\"top\">3</th>\n",
       "      <th>6</th>\n",
       "      <td>Li</td>\n",
       "      <td>3</td>\n",
       "      <td>2</td>\n",
       "      <td>3.56288</td>\n",
       "      <td>0+</td>\n",
       "      <td>1</td>\n",
       "      <td>0.0</td>\n",
       "      <td>0</td>\n",
       "      <td>+</td>\n",
       "      <td>0.0</td>\n",
       "      <td>True</td>\n",
       "      <td>0</td>\n",
       "      <td>0</td>\n",
       "      <td>1.114385</td>\n",
       "      <td>0.922325</td>\n",
       "      <td>0.000000</td>\n",
       "    </tr>\n",
       "    <tr>\n",
       "      <th>6</th>\n",
       "      <td>Li</td>\n",
       "      <td>3</td>\n",
       "      <td>3</td>\n",
       "      <td>4.312</td>\n",
       "      <td>2+</td>\n",
       "      <td>1</td>\n",
       "      <td>0.0</td>\n",
       "      <td>2</td>\n",
       "      <td>+</td>\n",
       "      <td>2.0</td>\n",
       "      <td>True</td>\n",
       "      <td>0</td>\n",
       "      <td>1</td>\n",
       "      <td>1.114385</td>\n",
       "      <td>0.922325</td>\n",
       "      <td>6.686312</td>\n",
       "    </tr>\n",
       "    <tr>\n",
       "      <th>6</th>\n",
       "      <td>Li</td>\n",
       "      <td>3</td>\n",
       "      <td>9</td>\n",
       "      <td>23.0</td>\n",
       "      <td>4+</td>\n",
       "      <td>1</td>\n",
       "      <td>0.0</td>\n",
       "      <td>4</td>\n",
       "      <td>+</td>\n",
       "      <td>4.0</td>\n",
       "      <td>True</td>\n",
       "      <td>0</td>\n",
       "      <td>2</td>\n",
       "      <td>1.114385</td>\n",
       "      <td>0.922325</td>\n",
       "      <td>22.287706</td>\n",
       "    </tr>\n",
       "    <tr>\n",
       "      <th rowspan=\"2\" valign=\"top\">6</th>\n",
       "      <th>12</th>\n",
       "      <td>C</td>\n",
       "      <td>6</td>\n",
       "      <td>0</td>\n",
       "      <td>0.0</td>\n",
       "      <td>0+</td>\n",
       "      <td>1</td>\n",
       "      <td>0.0</td>\n",
       "      <td>0</td>\n",
       "      <td>+</td>\n",
       "      <td>0.0</td>\n",
       "      <td>True</td>\n",
       "      <td>0</td>\n",
       "      <td>0</td>\n",
       "      <td>0.671190</td>\n",
       "      <td>0.997976</td>\n",
       "      <td>0.000000</td>\n",
       "    </tr>\n",
       "    <tr>\n",
       "      <th>12</th>\n",
       "      <td>C</td>\n",
       "      <td>6</td>\n",
       "      <td>1</td>\n",
       "      <td>4.43982</td>\n",
       "      <td>2+</td>\n",
       "      <td>1</td>\n",
       "      <td>0.0</td>\n",
       "      <td>2</td>\n",
       "      <td>+</td>\n",
       "      <td>2.0</td>\n",
       "      <td>True</td>\n",
       "      <td>0</td>\n",
       "      <td>1</td>\n",
       "      <td>0.671190</td>\n",
       "      <td>0.997976</td>\n",
       "      <td>4.027141</td>\n",
       "    </tr>\n",
       "    <tr>\n",
       "      <th>...</th>\n",
       "      <th>...</th>\n",
       "      <td>...</td>\n",
       "      <td>...</td>\n",
       "      <td>...</td>\n",
       "      <td>...</td>\n",
       "      <td>...</td>\n",
       "      <td>...</td>\n",
       "      <td>...</td>\n",
       "      <td>...</td>\n",
       "      <td>...</td>\n",
       "      <td>...</td>\n",
       "      <td>...</td>\n",
       "      <td>...</td>\n",
       "      <td>...</td>\n",
       "      <td>...</td>\n",
       "      <td>...</td>\n",
       "      <td>...</td>\n",
       "    </tr>\n",
       "    <tr>\n",
       "      <th rowspan=\"5\" valign=\"top\">80</th>\n",
       "      <th>202</th>\n",
       "      <td>Hg</td>\n",
       "      <td>122</td>\n",
       "      <td>34</td>\n",
       "      <td>1.98882</td>\n",
       "      <td>6+</td>\n",
       "      <td>1</td>\n",
       "      <td>0.207921</td>\n",
       "      <td>6</td>\n",
       "      <td>+</td>\n",
       "      <td>6.0</td>\n",
       "      <td>True</td>\n",
       "      <td>0</td>\n",
       "      <td>3</td>\n",
       "      <td>0.049348</td>\n",
       "      <td>0.979921</td>\n",
       "      <td>2.072624</td>\n",
       "    </tr>\n",
       "    <tr>\n",
       "      <th>204</th>\n",
       "      <td>Hg</td>\n",
       "      <td>124</td>\n",
       "      <td>0</td>\n",
       "      <td>0.0</td>\n",
       "      <td>0+</td>\n",
       "      <td>1</td>\n",
       "      <td>0.215686</td>\n",
       "      <td>0</td>\n",
       "      <td>+</td>\n",
       "      <td>0.0</td>\n",
       "      <td>True</td>\n",
       "      <td>0</td>\n",
       "      <td>0</td>\n",
       "      <td>0.053276</td>\n",
       "      <td>0.992779</td>\n",
       "      <td>0.000000</td>\n",
       "    </tr>\n",
       "    <tr>\n",
       "      <th>204</th>\n",
       "      <td>Hg</td>\n",
       "      <td>124</td>\n",
       "      <td>1</td>\n",
       "      <td>0.436552</td>\n",
       "      <td>2+</td>\n",
       "      <td>1</td>\n",
       "      <td>0.215686</td>\n",
       "      <td>2</td>\n",
       "      <td>+</td>\n",
       "      <td>2.0</td>\n",
       "      <td>True</td>\n",
       "      <td>0</td>\n",
       "      <td>1</td>\n",
       "      <td>0.053276</td>\n",
       "      <td>0.992779</td>\n",
       "      <td>0.319654</td>\n",
       "    </tr>\n",
       "    <tr>\n",
       "      <th>204</th>\n",
       "      <td>Hg</td>\n",
       "      <td>124</td>\n",
       "      <td>2</td>\n",
       "      <td>1.12823</td>\n",
       "      <td>4+</td>\n",
       "      <td>1</td>\n",
       "      <td>0.215686</td>\n",
       "      <td>4</td>\n",
       "      <td>+</td>\n",
       "      <td>4.0</td>\n",
       "      <td>True</td>\n",
       "      <td>0</td>\n",
       "      <td>2</td>\n",
       "      <td>0.053276</td>\n",
       "      <td>0.992779</td>\n",
       "      <td>1.065512</td>\n",
       "    </tr>\n",
       "    <tr>\n",
       "      <th>204</th>\n",
       "      <td>Hg</td>\n",
       "      <td>124</td>\n",
       "      <td>15</td>\n",
       "      <td>2.19101</td>\n",
       "      <td>6+</td>\n",
       "      <td>1</td>\n",
       "      <td>0.215686</td>\n",
       "      <td>6</td>\n",
       "      <td>+</td>\n",
       "      <td>6.0</td>\n",
       "      <td>True</td>\n",
       "      <td>0</td>\n",
       "      <td>3</td>\n",
       "      <td>0.053276</td>\n",
       "      <td>0.992779</td>\n",
       "      <td>2.237575</td>\n",
       "    </tr>\n",
       "  </tbody>\n",
       "</table>\n",
       "<p>746 rows × 16 columns</p>\n",
       "</div>"
      ],
      "text/plain": [
       "       symbol    n  idx    energy  jp  jp_order      beta  j  p  j_float  \\\n",
       "z  a                                                                       \n",
       "3  6       Li    3    2   3.56288  0+         1       0.0  0  +      0.0   \n",
       "   6       Li    3    3     4.312  2+         1       0.0  2  +      2.0   \n",
       "   6       Li    3    9      23.0  4+         1       0.0  4  +      4.0   \n",
       "6  12       C    6    0       0.0  0+         1       0.0  0  +      0.0   \n",
       "   12       C    6    1   4.43982  2+         1       0.0  2  +      2.0   \n",
       "...       ...  ...  ...       ...  ..       ...       ... .. ..      ...   \n",
       "80 202     Hg  122   34   1.98882  6+         1  0.207921  6  +      6.0   \n",
       "   204     Hg  124    0       0.0  0+         1  0.215686  0  +      0.0   \n",
       "   204     Hg  124    1  0.436552  2+         1  0.215686  2  +      2.0   \n",
       "   204     Hg  124    2   1.12823  4+         1  0.215686  4  +      4.0   \n",
       "   204     Hg  124   15   2.19101  6+         1  0.215686  6  +      6.0   \n",
       "\n",
       "        j_evenness  p_bit  quanta  energy_quantum        r2  energy_pred  \n",
       "z  a                                                                      \n",
       "3  6          True      0       0        1.114385  0.922325     0.000000  \n",
       "   6          True      0       1        1.114385  0.922325     6.686312  \n",
       "   6          True      0       2        1.114385  0.922325    22.287706  \n",
       "6  12         True      0       0        0.671190  0.997976     0.000000  \n",
       "   12         True      0       1        0.671190  0.997976     4.027141  \n",
       "...            ...    ...     ...             ...       ...          ...  \n",
       "80 202        True      0       3        0.049348  0.979921     2.072624  \n",
       "   204        True      0       0        0.053276  0.992779     0.000000  \n",
       "   204        True      0       1        0.053276  0.992779     0.319654  \n",
       "   204        True      0       2        0.053276  0.992779     1.065512  \n",
       "   204        True      0       3        0.053276  0.992779     2.237575  \n",
       "\n",
       "[746 rows x 16 columns]"
      ]
     },
     "execution_count": 22,
     "metadata": {},
     "output_type": "execute_result"
    }
   ],
   "source": [
    "best_osc_merged"
   ]
  },
  {
   "cell_type": "code",
   "execution_count": 23,
   "metadata": {},
   "outputs": [
    {
     "data": {
      "text/html": [
       "<div>\n",
       "<style scoped>\n",
       "    .dataframe tbody tr th:only-of-type {\n",
       "        vertical-align: middle;\n",
       "    }\n",
       "\n",
       "    .dataframe tbody tr th {\n",
       "        vertical-align: top;\n",
       "    }\n",
       "\n",
       "    .dataframe thead th {\n",
       "        text-align: right;\n",
       "    }\n",
       "</style>\n",
       "<table border=\"1\" class=\"dataframe\">\n",
       "  <thead>\n",
       "    <tr style=\"text-align: right;\">\n",
       "      <th></th>\n",
       "      <th></th>\n",
       "      <th>symbol</th>\n",
       "      <th>n</th>\n",
       "      <th>idx</th>\n",
       "      <th>energy</th>\n",
       "      <th>jp</th>\n",
       "      <th>jp_order</th>\n",
       "      <th>beta</th>\n",
       "      <th>j</th>\n",
       "      <th>p</th>\n",
       "      <th>j_float</th>\n",
       "      <th>j_evenness</th>\n",
       "      <th>p_bit</th>\n",
       "      <th>quanta</th>\n",
       "      <th>energy_quantum</th>\n",
       "      <th>r2</th>\n",
       "      <th>energy_pred</th>\n",
       "    </tr>\n",
       "    <tr>\n",
       "      <th>z</th>\n",
       "      <th>a</th>\n",
       "      <th></th>\n",
       "      <th></th>\n",
       "      <th></th>\n",
       "      <th></th>\n",
       "      <th></th>\n",
       "      <th></th>\n",
       "      <th></th>\n",
       "      <th></th>\n",
       "      <th></th>\n",
       "      <th></th>\n",
       "      <th></th>\n",
       "      <th></th>\n",
       "      <th></th>\n",
       "      <th></th>\n",
       "      <th></th>\n",
       "      <th></th>\n",
       "    </tr>\n",
       "  </thead>\n",
       "  <tbody>\n",
       "    <tr>\n",
       "      <th rowspan=\"3\" valign=\"top\">3</th>\n",
       "      <th>6</th>\n",
       "      <td>Li</td>\n",
       "      <td>3</td>\n",
       "      <td>2</td>\n",
       "      <td>3.56288</td>\n",
       "      <td>0+</td>\n",
       "      <td>1</td>\n",
       "      <td>0.0</td>\n",
       "      <td>0</td>\n",
       "      <td>+</td>\n",
       "      <td>0.0</td>\n",
       "      <td>True</td>\n",
       "      <td>0</td>\n",
       "      <td>0</td>\n",
       "      <td>1.114385</td>\n",
       "      <td>0.922325</td>\n",
       "      <td>0.000000</td>\n",
       "    </tr>\n",
       "    <tr>\n",
       "      <th>6</th>\n",
       "      <td>Li</td>\n",
       "      <td>3</td>\n",
       "      <td>3</td>\n",
       "      <td>4.312</td>\n",
       "      <td>2+</td>\n",
       "      <td>1</td>\n",
       "      <td>0.0</td>\n",
       "      <td>2</td>\n",
       "      <td>+</td>\n",
       "      <td>2.0</td>\n",
       "      <td>True</td>\n",
       "      <td>0</td>\n",
       "      <td>1</td>\n",
       "      <td>1.114385</td>\n",
       "      <td>0.922325</td>\n",
       "      <td>6.686312</td>\n",
       "    </tr>\n",
       "    <tr>\n",
       "      <th>6</th>\n",
       "      <td>Li</td>\n",
       "      <td>3</td>\n",
       "      <td>9</td>\n",
       "      <td>23.0</td>\n",
       "      <td>4+</td>\n",
       "      <td>1</td>\n",
       "      <td>0.0</td>\n",
       "      <td>4</td>\n",
       "      <td>+</td>\n",
       "      <td>4.0</td>\n",
       "      <td>True</td>\n",
       "      <td>0</td>\n",
       "      <td>2</td>\n",
       "      <td>1.114385</td>\n",
       "      <td>0.922325</td>\n",
       "      <td>22.287706</td>\n",
       "    </tr>\n",
       "    <tr>\n",
       "      <th rowspan=\"2\" valign=\"top\">5</th>\n",
       "      <th>10</th>\n",
       "      <td>B</td>\n",
       "      <td>5</td>\n",
       "      <td>2</td>\n",
       "      <td>1.74005</td>\n",
       "      <td>0+</td>\n",
       "      <td>1</td>\n",
       "      <td>0.0</td>\n",
       "      <td>0</td>\n",
       "      <td>+</td>\n",
       "      <td>0.0</td>\n",
       "      <td>True</td>\n",
       "      <td>0</td>\n",
       "      <td>0</td>\n",
       "      <td>0.325736</td>\n",
       "      <td>0.357721</td>\n",
       "      <td>0.000000</td>\n",
       "    </tr>\n",
       "    <tr>\n",
       "      <th>10</th>\n",
       "      <td>B</td>\n",
       "      <td>5</td>\n",
       "      <td>4</td>\n",
       "      <td>3.58713</td>\n",
       "      <td>2+</td>\n",
       "      <td>1</td>\n",
       "      <td>0.0</td>\n",
       "      <td>2</td>\n",
       "      <td>+</td>\n",
       "      <td>2.0</td>\n",
       "      <td>True</td>\n",
       "      <td>0</td>\n",
       "      <td>1</td>\n",
       "      <td>0.325736</td>\n",
       "      <td>0.357721</td>\n",
       "      <td>1.954414</td>\n",
       "    </tr>\n",
       "    <tr>\n",
       "      <th>...</th>\n",
       "      <th>...</th>\n",
       "      <td>...</td>\n",
       "      <td>...</td>\n",
       "      <td>...</td>\n",
       "      <td>...</td>\n",
       "      <td>...</td>\n",
       "      <td>...</td>\n",
       "      <td>...</td>\n",
       "      <td>...</td>\n",
       "      <td>...</td>\n",
       "      <td>...</td>\n",
       "      <td>...</td>\n",
       "      <td>...</td>\n",
       "      <td>...</td>\n",
       "      <td>...</td>\n",
       "      <td>...</td>\n",
       "      <td>...</td>\n",
       "    </tr>\n",
       "    <tr>\n",
       "      <th rowspan=\"5\" valign=\"top\">82</th>\n",
       "      <th>208</th>\n",
       "      <td>Pb</td>\n",
       "      <td>126</td>\n",
       "      <td>20</td>\n",
       "      <td>4.323946</td>\n",
       "      <td>4+</td>\n",
       "      <td>1</td>\n",
       "      <td>0.211538</td>\n",
       "      <td>4</td>\n",
       "      <td>+</td>\n",
       "      <td>4.0</td>\n",
       "      <td>True</td>\n",
       "      <td>0</td>\n",
       "      <td>2</td>\n",
       "      <td>0.048356</td>\n",
       "      <td>-0.598733</td>\n",
       "      <td>0.967112</td>\n",
       "    </tr>\n",
       "    <tr>\n",
       "      <th>208</th>\n",
       "      <td>Pb</td>\n",
       "      <td>126</td>\n",
       "      <td>23</td>\n",
       "      <td>4.423647</td>\n",
       "      <td>6+</td>\n",
       "      <td>1</td>\n",
       "      <td>0.211538</td>\n",
       "      <td>6</td>\n",
       "      <td>+</td>\n",
       "      <td>6.0</td>\n",
       "      <td>True</td>\n",
       "      <td>0</td>\n",
       "      <td>3</td>\n",
       "      <td>0.048356</td>\n",
       "      <td>-0.598733</td>\n",
       "      <td>2.030935</td>\n",
       "    </tr>\n",
       "    <tr>\n",
       "      <th>208</th>\n",
       "      <td>Pb</td>\n",
       "      <td>126</td>\n",
       "      <td>26</td>\n",
       "      <td>4.610748</td>\n",
       "      <td>8+</td>\n",
       "      <td>1</td>\n",
       "      <td>0.211538</td>\n",
       "      <td>8</td>\n",
       "      <td>+</td>\n",
       "      <td>8.0</td>\n",
       "      <td>True</td>\n",
       "      <td>0</td>\n",
       "      <td>4</td>\n",
       "      <td>0.048356</td>\n",
       "      <td>-0.598733</td>\n",
       "      <td>3.481603</td>\n",
       "    </tr>\n",
       "    <tr>\n",
       "      <th>208</th>\n",
       "      <td>Pb</td>\n",
       "      <td>126</td>\n",
       "      <td>38</td>\n",
       "      <td>4.89523</td>\n",
       "      <td>10+</td>\n",
       "      <td>1</td>\n",
       "      <td>0.211538</td>\n",
       "      <td>10</td>\n",
       "      <td>+</td>\n",
       "      <td>10.0</td>\n",
       "      <td>True</td>\n",
       "      <td>0</td>\n",
       "      <td>5</td>\n",
       "      <td>0.048356</td>\n",
       "      <td>-0.598733</td>\n",
       "      <td>5.319115</td>\n",
       "    </tr>\n",
       "    <tr>\n",
       "      <th>208</th>\n",
       "      <td>Pb</td>\n",
       "      <td>126</td>\n",
       "      <td>184</td>\n",
       "      <td>6.10069</td>\n",
       "      <td>12+</td>\n",
       "      <td>1</td>\n",
       "      <td>0.211538</td>\n",
       "      <td>12</td>\n",
       "      <td>+</td>\n",
       "      <td>12.0</td>\n",
       "      <td>True</td>\n",
       "      <td>0</td>\n",
       "      <td>6</td>\n",
       "      <td>0.048356</td>\n",
       "      <td>-0.598733</td>\n",
       "      <td>7.543472</td>\n",
       "    </tr>\n",
       "  </tbody>\n",
       "</table>\n",
       "<p>1056 rows × 16 columns</p>\n",
       "</div>"
      ],
      "text/plain": [
       "       symbol    n  idx    energy   jp  jp_order      beta   j  p  j_float  \\\n",
       "z  a                                                                         \n",
       "3  6       Li    3    2   3.56288   0+         1       0.0   0  +      0.0   \n",
       "   6       Li    3    3     4.312   2+         1       0.0   2  +      2.0   \n",
       "   6       Li    3    9      23.0   4+         1       0.0   4  +      4.0   \n",
       "5  10       B    5    2   1.74005   0+         1       0.0   0  +      0.0   \n",
       "   10       B    5    4   3.58713   2+         1       0.0   2  +      2.0   \n",
       "...       ...  ...  ...       ...  ...       ...       ...  .. ..      ...   \n",
       "82 208     Pb  126   20  4.323946   4+         1  0.211538   4  +      4.0   \n",
       "   208     Pb  126   23  4.423647   6+         1  0.211538   6  +      6.0   \n",
       "   208     Pb  126   26  4.610748   8+         1  0.211538   8  +      8.0   \n",
       "   208     Pb  126   38   4.89523  10+         1  0.211538  10  +     10.0   \n",
       "   208     Pb  126  184   6.10069  12+         1  0.211538  12  +     12.0   \n",
       "\n",
       "        j_evenness  p_bit  quanta  energy_quantum        r2  energy_pred  \n",
       "z  a                                                                      \n",
       "3  6          True      0       0        1.114385  0.922325     0.000000  \n",
       "   6          True      0       1        1.114385  0.922325     6.686312  \n",
       "   6          True      0       2        1.114385  0.922325    22.287706  \n",
       "5  10         True      0       0        0.325736  0.357721     0.000000  \n",
       "   10         True      0       1        0.325736  0.357721     1.954414  \n",
       "...            ...    ...     ...             ...       ...          ...  \n",
       "82 208        True      0       2        0.048356 -0.598733     0.967112  \n",
       "   208        True      0       3        0.048356 -0.598733     2.030935  \n",
       "   208        True      0       4        0.048356 -0.598733     3.481603  \n",
       "   208        True      0       5        0.048356 -0.598733     5.319115  \n",
       "   208        True      0       6        0.048356 -0.598733     7.543472  \n",
       "\n",
       "[1056 rows x 16 columns]"
      ]
     },
     "execution_count": 23,
     "metadata": {},
     "output_type": "execute_result"
    }
   ],
   "source": [
    "merged"
   ]
  },
  {
   "cell_type": "code",
   "execution_count": 24,
   "metadata": {},
   "outputs": [
    {
     "data": {
      "text/html": [
       "<div>\n",
       "<style scoped>\n",
       "    .dataframe tbody tr th:only-of-type {\n",
       "        vertical-align: middle;\n",
       "    }\n",
       "\n",
       "    .dataframe tbody tr th {\n",
       "        vertical-align: top;\n",
       "    }\n",
       "\n",
       "    .dataframe thead th {\n",
       "        text-align: right;\n",
       "    }\n",
       "</style>\n",
       "<table border=\"1\" class=\"dataframe\">\n",
       "  <thead>\n",
       "    <tr style=\"text-align: right;\">\n",
       "      <th></th>\n",
       "      <th></th>\n",
       "      <th>symbol</th>\n",
       "      <th>n</th>\n",
       "      <th>idx</th>\n",
       "      <th>energy</th>\n",
       "      <th>jp</th>\n",
       "      <th>jp_order</th>\n",
       "      <th>beta</th>\n",
       "      <th>j</th>\n",
       "      <th>p</th>\n",
       "      <th>j_float</th>\n",
       "      <th>j_evenness</th>\n",
       "      <th>p_bit</th>\n",
       "      <th>quanta</th>\n",
       "      <th>energy_quantum</th>\n",
       "      <th>r2</th>\n",
       "      <th>energy_pred</th>\n",
       "    </tr>\n",
       "    <tr>\n",
       "      <th>z</th>\n",
       "      <th>a</th>\n",
       "      <th></th>\n",
       "      <th></th>\n",
       "      <th></th>\n",
       "      <th></th>\n",
       "      <th></th>\n",
       "      <th></th>\n",
       "      <th></th>\n",
       "      <th></th>\n",
       "      <th></th>\n",
       "      <th></th>\n",
       "      <th></th>\n",
       "      <th></th>\n",
       "      <th></th>\n",
       "      <th></th>\n",
       "      <th></th>\n",
       "      <th></th>\n",
       "    </tr>\n",
       "  </thead>\n",
       "  <tbody>\n",
       "    <tr>\n",
       "      <th rowspan=\"6\" valign=\"top\">24</th>\n",
       "      <th>52</th>\n",
       "      <td>Cr</td>\n",
       "      <td>28</td>\n",
       "      <td>0</td>\n",
       "      <td>0.0</td>\n",
       "      <td>0+</td>\n",
       "      <td>1</td>\n",
       "      <td>0.076923</td>\n",
       "      <td>0</td>\n",
       "      <td>+</td>\n",
       "      <td>0.0</td>\n",
       "      <td>True</td>\n",
       "      <td>0</td>\n",
       "      <td>0</td>\n",
       "      <td>0.068003</td>\n",
       "      <td>0.932256</td>\n",
       "      <td>0.000000</td>\n",
       "    </tr>\n",
       "    <tr>\n",
       "      <th>52</th>\n",
       "      <td>Cr</td>\n",
       "      <td>28</td>\n",
       "      <td>1</td>\n",
       "      <td>1.434091</td>\n",
       "      <td>2+</td>\n",
       "      <td>1</td>\n",
       "      <td>0.076923</td>\n",
       "      <td>2</td>\n",
       "      <td>+</td>\n",
       "      <td>2.0</td>\n",
       "      <td>True</td>\n",
       "      <td>0</td>\n",
       "      <td>1</td>\n",
       "      <td>0.068003</td>\n",
       "      <td>0.932256</td>\n",
       "      <td>0.408018</td>\n",
       "    </tr>\n",
       "    <tr>\n",
       "      <th>52</th>\n",
       "      <td>Cr</td>\n",
       "      <td>28</td>\n",
       "      <td>2</td>\n",
       "      <td>2.36963</td>\n",
       "      <td>4+</td>\n",
       "      <td>1</td>\n",
       "      <td>0.076923</td>\n",
       "      <td>4</td>\n",
       "      <td>+</td>\n",
       "      <td>4.0</td>\n",
       "      <td>True</td>\n",
       "      <td>0</td>\n",
       "      <td>2</td>\n",
       "      <td>0.068003</td>\n",
       "      <td>0.932256</td>\n",
       "      <td>1.360060</td>\n",
       "    </tr>\n",
       "    <tr>\n",
       "      <th>52</th>\n",
       "      <td>Cr</td>\n",
       "      <td>28</td>\n",
       "      <td>6</td>\n",
       "      <td>3.113858</td>\n",
       "      <td>6+</td>\n",
       "      <td>1</td>\n",
       "      <td>0.076923</td>\n",
       "      <td>6</td>\n",
       "      <td>+</td>\n",
       "      <td>6.0</td>\n",
       "      <td>True</td>\n",
       "      <td>0</td>\n",
       "      <td>3</td>\n",
       "      <td>0.068003</td>\n",
       "      <td>0.932256</td>\n",
       "      <td>2.856126</td>\n",
       "    </tr>\n",
       "    <tr>\n",
       "      <th>52</th>\n",
       "      <td>Cr</td>\n",
       "      <td>28</td>\n",
       "      <td>26</td>\n",
       "      <td>4.75031</td>\n",
       "      <td>8+</td>\n",
       "      <td>1</td>\n",
       "      <td>0.076923</td>\n",
       "      <td>8</td>\n",
       "      <td>+</td>\n",
       "      <td>8.0</td>\n",
       "      <td>True</td>\n",
       "      <td>0</td>\n",
       "      <td>4</td>\n",
       "      <td>0.068003</td>\n",
       "      <td>0.932256</td>\n",
       "      <td>4.896216</td>\n",
       "    </tr>\n",
       "    <tr>\n",
       "      <th>52</th>\n",
       "      <td>Cr</td>\n",
       "      <td>28</td>\n",
       "      <td>125</td>\n",
       "      <td>7.2379</td>\n",
       "      <td>10+</td>\n",
       "      <td>1</td>\n",
       "      <td>0.076923</td>\n",
       "      <td>10</td>\n",
       "      <td>+</td>\n",
       "      <td>10.0</td>\n",
       "      <td>True</td>\n",
       "      <td>0</td>\n",
       "      <td>5</td>\n",
       "      <td>0.068003</td>\n",
       "      <td>0.932256</td>\n",
       "      <td>7.480330</td>\n",
       "    </tr>\n",
       "  </tbody>\n",
       "</table>\n",
       "</div>"
      ],
      "text/plain": [
       "      symbol   n  idx    energy   jp  jp_order      beta   j  p  j_float  \\\n",
       "z  a                                                                       \n",
       "24 52     Cr  28    0       0.0   0+         1  0.076923   0  +      0.0   \n",
       "   52     Cr  28    1  1.434091   2+         1  0.076923   2  +      2.0   \n",
       "   52     Cr  28    2   2.36963   4+         1  0.076923   4  +      4.0   \n",
       "   52     Cr  28    6  3.113858   6+         1  0.076923   6  +      6.0   \n",
       "   52     Cr  28   26   4.75031   8+         1  0.076923   8  +      8.0   \n",
       "   52     Cr  28  125    7.2379  10+         1  0.076923  10  +     10.0   \n",
       "\n",
       "       j_evenness  p_bit  quanta  energy_quantum        r2  energy_pred  \n",
       "z  a                                                                     \n",
       "24 52        True      0       0        0.068003  0.932256     0.000000  \n",
       "   52        True      0       1        0.068003  0.932256     0.408018  \n",
       "   52        True      0       2        0.068003  0.932256     1.360060  \n",
       "   52        True      0       3        0.068003  0.932256     2.856126  \n",
       "   52        True      0       4        0.068003  0.932256     4.896216  \n",
       "   52        True      0       5        0.068003  0.932256     7.480330  "
      ]
     },
     "execution_count": 24,
     "metadata": {},
     "output_type": "execute_result"
    }
   ],
   "source": [
    "merged.loc[24,52]"
   ]
  },
  {
   "cell_type": "code",
   "execution_count": 25,
   "metadata": {},
   "outputs": [
    {
     "data": {
      "application/vnd.plotly.v1+json": {
       "config": {
        "plotlyServerURL": "https://plot.ly"
       },
       "data": [
        {
         "hovertemplate": "Number of neutrons (N)=%{x}<br>Number of protons (Z)=%{y}<br>R² Score=%{marker.color}<extra></extra>",
         "legendgroup": "",
         "marker": {
          "color": [
           0.9223252110257784,
           0.9979757034961273,
           0.956018819955663,
           0.9486102409699401,
           0.9885820278919414,
           0.999292019509163,
           0.9945737804958007,
           0.9957116935232959,
           0.9744711482303928,
           0.9070928202576597,
           0.922762345953243,
           0.9528661818684182,
           0.9198551257872476,
           0.944073314371505,
           0.9409946867870855,
           0.9322562120180036,
           0.9662064357767187,
           0.9682148101332992,
           0.9698948480986572,
           0.9635346584472712,
           0.9038706037049945,
           0.9542687737358098,
           0.9676235983911923,
           0.9720028353707674,
           0.9612156823600392,
           0.9058085670130983,
           0.9792052556382194,
           0.9462422937379439,
           0.9616835130832639,
           0.9404807898200982,
           0.9483504717027283,
           0.9848454755505707,
           0.9743099389836662,
           0.921564757951804,
           0.9708307798081461,
           0.9326515855197965,
           0.9673133178371707,
           0.9436460873954676,
           0.9079378954942876,
           0.9131702011463643,
           0.941916812301769,
           0.963604333067662,
           0.9567727884882121,
           0.9244363899097412,
           0.9614944425793471,
           0.9024663295182429,
           0.9410771156367188,
           0.9305400618533878,
           0.9317189886405772,
           0.9305732131992597,
           0.9093358268634641,
           0.9842330361826168,
           0.9382105774604843,
           0.9701375375371956,
           0.9683408343127649,
           0.9594818306277261,
           0.910518943001295,
           0.9835744108505222,
           0.9928093893136953,
           0.9760545972780911,
           0.986028888549463,
           0.9989156323197019,
           0.99839619885763,
           0.9833459650237011,
           0.9790228906692803,
           0.980372789490706,
           0.9802722691576826,
           0.9985595033006237,
           0.9739752765747954,
           0.984679169243768,
           0.9967127415869811,
           0.998827126180645,
           0.9967591296550504,
           0.9902595886845884,
           0.988581759884723,
           0.9996858817911372,
           0.9996995641087522,
           0.9998578064870353,
           0.9920566355831648,
           0.9259050296203044,
           0.9969762813572834,
           0.9910709845888096,
           0.995481983173255,
           0.9956784491993407,
           0.905529683132791,
           0.9935432619344191,
           0.9869269996813735,
           0.9633356310732504,
           0.9737614795349105,
           0.9676620553993953,
           0.9714779850672689,
           0.9814041880946583,
           0.9799209000603025,
           0.9927791727707382
          ],
          "coloraxis": "coloraxis",
          "symbol": "circle"
         },
         "mode": "markers",
         "name": "",
         "orientation": "v",
         "showlegend": false,
         "type": "scatter",
         "x": [
          3,
          6,
          10,
          10,
          12,
          12,
          14,
          14,
          16,
          18,
          20,
          22,
          24,
          24,
          26,
          28,
          30,
          30,
          32,
          30,
          32,
          34,
          34,
          36,
          38,
          40,
          42,
          44,
          40,
          42,
          44,
          46,
          42,
          44,
          46,
          46,
          50,
          52,
          52,
          56,
          58,
          60,
          56,
          62,
          64,
          58,
          62,
          66,
          68,
          70,
          72,
          72,
          74,
          74,
          78,
          88,
          88,
          90,
          92,
          90,
          92,
          94,
          96,
          90,
          92,
          94,
          96,
          98,
          94,
          96,
          98,
          100,
          102,
          98,
          100,
          102,
          104,
          106,
          104,
          106,
          108,
          108,
          110,
          112,
          112,
          114,
          116,
          114,
          116,
          118,
          120,
          116,
          122,
          124
         ],
         "xaxis": "x",
         "y": [
          3,
          6,
          8,
          10,
          10,
          12,
          12,
          14,
          14,
          16,
          16,
          20,
          20,
          22,
          22,
          24,
          24,
          26,
          26,
          28,
          28,
          28,
          30,
          30,
          30,
          32,
          32,
          32,
          34,
          34,
          34,
          34,
          36,
          36,
          36,
          38,
          38,
          40,
          44,
          44,
          44,
          44,
          46,
          46,
          46,
          48,
          48,
          48,
          52,
          52,
          52,
          54,
          54,
          56,
          56,
          60,
          62,
          62,
          62,
          64,
          64,
          64,
          64,
          66,
          66,
          66,
          66,
          66,
          68,
          68,
          68,
          68,
          68,
          70,
          70,
          70,
          70,
          70,
          72,
          72,
          72,
          74,
          74,
          74,
          76,
          76,
          76,
          78,
          78,
          78,
          78,
          80,
          80,
          80
         ],
         "yaxis": "y"
        }
       ],
       "layout": {
        "coloraxis": {
         "colorbar": {
          "title": {
           "text": "R² Score"
          }
         },
         "colorscale": [
          [
           0,
           "rgb(103,0,31)"
          ],
          [
           0.1,
           "rgb(178,24,43)"
          ],
          [
           0.2,
           "rgb(214,96,77)"
          ],
          [
           0.3,
           "rgb(244,165,130)"
          ],
          [
           0.4,
           "rgb(253,219,199)"
          ],
          [
           0.5,
           "rgb(247,247,247)"
          ],
          [
           0.6,
           "rgb(209,229,240)"
          ],
          [
           0.7,
           "rgb(146,197,222)"
          ],
          [
           0.8,
           "rgb(67,147,195)"
          ],
          [
           0.9,
           "rgb(33,102,172)"
          ],
          [
           1,
           "rgb(5,48,97)"
          ]
         ]
        },
        "height": 600,
        "legend": {
         "tracegroupgap": 0
        },
        "shapes": [
         {
          "line": {
           "color": "gray",
           "dash": "dash"
          },
          "name": "Magic numbers",
          "type": "line",
          "x0": 2,
          "x1": 2,
          "xref": "x",
          "y0": 0,
          "y1": 1,
          "yref": "y domain"
         },
         {
          "line": {
           "color": "gray",
           "dash": "dash"
          },
          "type": "line",
          "x0": 8,
          "x1": 8,
          "xref": "x",
          "y0": 0,
          "y1": 1,
          "yref": "y domain"
         },
         {
          "line": {
           "color": "gray",
           "dash": "dash"
          },
          "type": "line",
          "x0": 20,
          "x1": 20,
          "xref": "x",
          "y0": 0,
          "y1": 1,
          "yref": "y domain"
         },
         {
          "line": {
           "color": "gray",
           "dash": "dash"
          },
          "type": "line",
          "x0": 50,
          "x1": 50,
          "xref": "x",
          "y0": 0,
          "y1": 1,
          "yref": "y domain"
         },
         {
          "line": {
           "color": "gray",
           "dash": "dash"
          },
          "type": "line",
          "x0": 58,
          "x1": 58,
          "xref": "x",
          "y0": 0,
          "y1": 1,
          "yref": "y domain"
         },
         {
          "line": {
           "color": "gray",
           "dash": "dash"
          },
          "type": "line",
          "x0": 82,
          "x1": 82,
          "xref": "x",
          "y0": 0,
          "y1": 1,
          "yref": "y domain"
         },
         {
          "line": {
           "color": "gray",
           "dash": "dash"
          },
          "type": "line",
          "x0": 126,
          "x1": 126,
          "xref": "x",
          "y0": 0,
          "y1": 1,
          "yref": "y domain"
         },
         {
          "line": {
           "color": "gray",
           "dash": "dash"
          },
          "type": "line",
          "x0": 0,
          "x1": 1,
          "xref": "x domain",
          "y0": 2,
          "y1": 2,
          "yref": "y"
         },
         {
          "line": {
           "color": "gray",
           "dash": "dash"
          },
          "type": "line",
          "x0": 0,
          "x1": 1,
          "xref": "x domain",
          "y0": 8,
          "y1": 8,
          "yref": "y"
         },
         {
          "line": {
           "color": "gray",
           "dash": "dash"
          },
          "type": "line",
          "x0": 0,
          "x1": 1,
          "xref": "x domain",
          "y0": 20,
          "y1": 20,
          "yref": "y"
         },
         {
          "line": {
           "color": "gray",
           "dash": "dash"
          },
          "type": "line",
          "x0": 0,
          "x1": 1,
          "xref": "x domain",
          "y0": 50,
          "y1": 50,
          "yref": "y"
         },
         {
          "line": {
           "color": "gray",
           "dash": "dash"
          },
          "type": "line",
          "x0": 0,
          "x1": 1,
          "xref": "x domain",
          "y0": 58,
          "y1": 58,
          "yref": "y"
         },
         {
          "line": {
           "color": "gray",
           "dash": "dash"
          },
          "type": "line",
          "x0": 0,
          "x1": 1,
          "xref": "x domain",
          "y0": 82,
          "y1": 82,
          "yref": "y"
         }
        ],
        "template": {
         "data": {
          "bar": [
           {
            "error_x": {
             "color": "#2a3f5f"
            },
            "error_y": {
             "color": "#2a3f5f"
            },
            "marker": {
             "line": {
              "color": "#E5ECF6",
              "width": 0.5
             },
             "pattern": {
              "fillmode": "overlay",
              "size": 10,
              "solidity": 0.2
             }
            },
            "type": "bar"
           }
          ],
          "barpolar": [
           {
            "marker": {
             "line": {
              "color": "#E5ECF6",
              "width": 0.5
             },
             "pattern": {
              "fillmode": "overlay",
              "size": 10,
              "solidity": 0.2
             }
            },
            "type": "barpolar"
           }
          ],
          "carpet": [
           {
            "aaxis": {
             "endlinecolor": "#2a3f5f",
             "gridcolor": "white",
             "linecolor": "white",
             "minorgridcolor": "white",
             "startlinecolor": "#2a3f5f"
            },
            "baxis": {
             "endlinecolor": "#2a3f5f",
             "gridcolor": "white",
             "linecolor": "white",
             "minorgridcolor": "white",
             "startlinecolor": "#2a3f5f"
            },
            "type": "carpet"
           }
          ],
          "choropleth": [
           {
            "colorbar": {
             "outlinewidth": 0,
             "ticks": ""
            },
            "type": "choropleth"
           }
          ],
          "contour": [
           {
            "colorbar": {
             "outlinewidth": 0,
             "ticks": ""
            },
            "colorscale": [
             [
              0,
              "#0d0887"
             ],
             [
              0.1111111111111111,
              "#46039f"
             ],
             [
              0.2222222222222222,
              "#7201a8"
             ],
             [
              0.3333333333333333,
              "#9c179e"
             ],
             [
              0.4444444444444444,
              "#bd3786"
             ],
             [
              0.5555555555555556,
              "#d8576b"
             ],
             [
              0.6666666666666666,
              "#ed7953"
             ],
             [
              0.7777777777777778,
              "#fb9f3a"
             ],
             [
              0.8888888888888888,
              "#fdca26"
             ],
             [
              1,
              "#f0f921"
             ]
            ],
            "type": "contour"
           }
          ],
          "contourcarpet": [
           {
            "colorbar": {
             "outlinewidth": 0,
             "ticks": ""
            },
            "type": "contourcarpet"
           }
          ],
          "heatmap": [
           {
            "colorbar": {
             "outlinewidth": 0,
             "ticks": ""
            },
            "colorscale": [
             [
              0,
              "#0d0887"
             ],
             [
              0.1111111111111111,
              "#46039f"
             ],
             [
              0.2222222222222222,
              "#7201a8"
             ],
             [
              0.3333333333333333,
              "#9c179e"
             ],
             [
              0.4444444444444444,
              "#bd3786"
             ],
             [
              0.5555555555555556,
              "#d8576b"
             ],
             [
              0.6666666666666666,
              "#ed7953"
             ],
             [
              0.7777777777777778,
              "#fb9f3a"
             ],
             [
              0.8888888888888888,
              "#fdca26"
             ],
             [
              1,
              "#f0f921"
             ]
            ],
            "type": "heatmap"
           }
          ],
          "heatmapgl": [
           {
            "colorbar": {
             "outlinewidth": 0,
             "ticks": ""
            },
            "colorscale": [
             [
              0,
              "#0d0887"
             ],
             [
              0.1111111111111111,
              "#46039f"
             ],
             [
              0.2222222222222222,
              "#7201a8"
             ],
             [
              0.3333333333333333,
              "#9c179e"
             ],
             [
              0.4444444444444444,
              "#bd3786"
             ],
             [
              0.5555555555555556,
              "#d8576b"
             ],
             [
              0.6666666666666666,
              "#ed7953"
             ],
             [
              0.7777777777777778,
              "#fb9f3a"
             ],
             [
              0.8888888888888888,
              "#fdca26"
             ],
             [
              1,
              "#f0f921"
             ]
            ],
            "type": "heatmapgl"
           }
          ],
          "histogram": [
           {
            "marker": {
             "pattern": {
              "fillmode": "overlay",
              "size": 10,
              "solidity": 0.2
             }
            },
            "type": "histogram"
           }
          ],
          "histogram2d": [
           {
            "colorbar": {
             "outlinewidth": 0,
             "ticks": ""
            },
            "colorscale": [
             [
              0,
              "#0d0887"
             ],
             [
              0.1111111111111111,
              "#46039f"
             ],
             [
              0.2222222222222222,
              "#7201a8"
             ],
             [
              0.3333333333333333,
              "#9c179e"
             ],
             [
              0.4444444444444444,
              "#bd3786"
             ],
             [
              0.5555555555555556,
              "#d8576b"
             ],
             [
              0.6666666666666666,
              "#ed7953"
             ],
             [
              0.7777777777777778,
              "#fb9f3a"
             ],
             [
              0.8888888888888888,
              "#fdca26"
             ],
             [
              1,
              "#f0f921"
             ]
            ],
            "type": "histogram2d"
           }
          ],
          "histogram2dcontour": [
           {
            "colorbar": {
             "outlinewidth": 0,
             "ticks": ""
            },
            "colorscale": [
             [
              0,
              "#0d0887"
             ],
             [
              0.1111111111111111,
              "#46039f"
             ],
             [
              0.2222222222222222,
              "#7201a8"
             ],
             [
              0.3333333333333333,
              "#9c179e"
             ],
             [
              0.4444444444444444,
              "#bd3786"
             ],
             [
              0.5555555555555556,
              "#d8576b"
             ],
             [
              0.6666666666666666,
              "#ed7953"
             ],
             [
              0.7777777777777778,
              "#fb9f3a"
             ],
             [
              0.8888888888888888,
              "#fdca26"
             ],
             [
              1,
              "#f0f921"
             ]
            ],
            "type": "histogram2dcontour"
           }
          ],
          "mesh3d": [
           {
            "colorbar": {
             "outlinewidth": 0,
             "ticks": ""
            },
            "type": "mesh3d"
           }
          ],
          "parcoords": [
           {
            "line": {
             "colorbar": {
              "outlinewidth": 0,
              "ticks": ""
             }
            },
            "type": "parcoords"
           }
          ],
          "pie": [
           {
            "automargin": true,
            "type": "pie"
           }
          ],
          "scatter": [
           {
            "fillpattern": {
             "fillmode": "overlay",
             "size": 10,
             "solidity": 0.2
            },
            "type": "scatter"
           }
          ],
          "scatter3d": [
           {
            "line": {
             "colorbar": {
              "outlinewidth": 0,
              "ticks": ""
             }
            },
            "marker": {
             "colorbar": {
              "outlinewidth": 0,
              "ticks": ""
             }
            },
            "type": "scatter3d"
           }
          ],
          "scattercarpet": [
           {
            "marker": {
             "colorbar": {
              "outlinewidth": 0,
              "ticks": ""
             }
            },
            "type": "scattercarpet"
           }
          ],
          "scattergeo": [
           {
            "marker": {
             "colorbar": {
              "outlinewidth": 0,
              "ticks": ""
             }
            },
            "type": "scattergeo"
           }
          ],
          "scattergl": [
           {
            "marker": {
             "colorbar": {
              "outlinewidth": 0,
              "ticks": ""
             }
            },
            "type": "scattergl"
           }
          ],
          "scattermapbox": [
           {
            "marker": {
             "colorbar": {
              "outlinewidth": 0,
              "ticks": ""
             }
            },
            "type": "scattermapbox"
           }
          ],
          "scatterpolar": [
           {
            "marker": {
             "colorbar": {
              "outlinewidth": 0,
              "ticks": ""
             }
            },
            "type": "scatterpolar"
           }
          ],
          "scatterpolargl": [
           {
            "marker": {
             "colorbar": {
              "outlinewidth": 0,
              "ticks": ""
             }
            },
            "type": "scatterpolargl"
           }
          ],
          "scatterternary": [
           {
            "marker": {
             "colorbar": {
              "outlinewidth": 0,
              "ticks": ""
             }
            },
            "type": "scatterternary"
           }
          ],
          "surface": [
           {
            "colorbar": {
             "outlinewidth": 0,
             "ticks": ""
            },
            "colorscale": [
             [
              0,
              "#0d0887"
             ],
             [
              0.1111111111111111,
              "#46039f"
             ],
             [
              0.2222222222222222,
              "#7201a8"
             ],
             [
              0.3333333333333333,
              "#9c179e"
             ],
             [
              0.4444444444444444,
              "#bd3786"
             ],
             [
              0.5555555555555556,
              "#d8576b"
             ],
             [
              0.6666666666666666,
              "#ed7953"
             ],
             [
              0.7777777777777778,
              "#fb9f3a"
             ],
             [
              0.8888888888888888,
              "#fdca26"
             ],
             [
              1,
              "#f0f921"
             ]
            ],
            "type": "surface"
           }
          ],
          "table": [
           {
            "cells": {
             "fill": {
              "color": "#EBF0F8"
             },
             "line": {
              "color": "white"
             }
            },
            "header": {
             "fill": {
              "color": "#C8D4E3"
             },
             "line": {
              "color": "white"
             }
            },
            "type": "table"
           }
          ]
         },
         "layout": {
          "annotationdefaults": {
           "arrowcolor": "#2a3f5f",
           "arrowhead": 0,
           "arrowwidth": 1
          },
          "autotypenumbers": "strict",
          "coloraxis": {
           "colorbar": {
            "outlinewidth": 0,
            "ticks": ""
           }
          },
          "colorscale": {
           "diverging": [
            [
             0,
             "#8e0152"
            ],
            [
             0.1,
             "#c51b7d"
            ],
            [
             0.2,
             "#de77ae"
            ],
            [
             0.3,
             "#f1b6da"
            ],
            [
             0.4,
             "#fde0ef"
            ],
            [
             0.5,
             "#f7f7f7"
            ],
            [
             0.6,
             "#e6f5d0"
            ],
            [
             0.7,
             "#b8e186"
            ],
            [
             0.8,
             "#7fbc41"
            ],
            [
             0.9,
             "#4d9221"
            ],
            [
             1,
             "#276419"
            ]
           ],
           "sequential": [
            [
             0,
             "#0d0887"
            ],
            [
             0.1111111111111111,
             "#46039f"
            ],
            [
             0.2222222222222222,
             "#7201a8"
            ],
            [
             0.3333333333333333,
             "#9c179e"
            ],
            [
             0.4444444444444444,
             "#bd3786"
            ],
            [
             0.5555555555555556,
             "#d8576b"
            ],
            [
             0.6666666666666666,
             "#ed7953"
            ],
            [
             0.7777777777777778,
             "#fb9f3a"
            ],
            [
             0.8888888888888888,
             "#fdca26"
            ],
            [
             1,
             "#f0f921"
            ]
           ],
           "sequentialminus": [
            [
             0,
             "#0d0887"
            ],
            [
             0.1111111111111111,
             "#46039f"
            ],
            [
             0.2222222222222222,
             "#7201a8"
            ],
            [
             0.3333333333333333,
             "#9c179e"
            ],
            [
             0.4444444444444444,
             "#bd3786"
            ],
            [
             0.5555555555555556,
             "#d8576b"
            ],
            [
             0.6666666666666666,
             "#ed7953"
            ],
            [
             0.7777777777777778,
             "#fb9f3a"
            ],
            [
             0.8888888888888888,
             "#fdca26"
            ],
            [
             1,
             "#f0f921"
            ]
           ]
          },
          "colorway": [
           "#636efa",
           "#EF553B",
           "#00cc96",
           "#ab63fa",
           "#FFA15A",
           "#19d3f3",
           "#FF6692",
           "#B6E880",
           "#FF97FF",
           "#FECB52"
          ],
          "font": {
           "color": "#2a3f5f"
          },
          "geo": {
           "bgcolor": "white",
           "lakecolor": "white",
           "landcolor": "#E5ECF6",
           "showlakes": true,
           "showland": true,
           "subunitcolor": "white"
          },
          "hoverlabel": {
           "align": "left"
          },
          "hovermode": "closest",
          "mapbox": {
           "style": "light"
          },
          "paper_bgcolor": "white",
          "plot_bgcolor": "#E5ECF6",
          "polar": {
           "angularaxis": {
            "gridcolor": "white",
            "linecolor": "white",
            "ticks": ""
           },
           "bgcolor": "#E5ECF6",
           "radialaxis": {
            "gridcolor": "white",
            "linecolor": "white",
            "ticks": ""
           }
          },
          "scene": {
           "xaxis": {
            "backgroundcolor": "#E5ECF6",
            "gridcolor": "white",
            "gridwidth": 2,
            "linecolor": "white",
            "showbackground": true,
            "ticks": "",
            "zerolinecolor": "white"
           },
           "yaxis": {
            "backgroundcolor": "#E5ECF6",
            "gridcolor": "white",
            "gridwidth": 2,
            "linecolor": "white",
            "showbackground": true,
            "ticks": "",
            "zerolinecolor": "white"
           },
           "zaxis": {
            "backgroundcolor": "#E5ECF6",
            "gridcolor": "white",
            "gridwidth": 2,
            "linecolor": "white",
            "showbackground": true,
            "ticks": "",
            "zerolinecolor": "white"
           }
          },
          "shapedefaults": {
           "line": {
            "color": "#2a3f5f"
           }
          },
          "ternary": {
           "aaxis": {
            "gridcolor": "white",
            "linecolor": "white",
            "ticks": ""
           },
           "baxis": {
            "gridcolor": "white",
            "linecolor": "white",
            "ticks": ""
           },
           "bgcolor": "#E5ECF6",
           "caxis": {
            "gridcolor": "white",
            "linecolor": "white",
            "ticks": ""
           }
          },
          "title": {
           "x": 0.05
          },
          "xaxis": {
           "automargin": true,
           "gridcolor": "white",
           "linecolor": "white",
           "ticks": "",
           "title": {
            "standoff": 15
           },
           "zerolinecolor": "white",
           "zerolinewidth": 2
          },
          "yaxis": {
           "automargin": true,
           "gridcolor": "white",
           "linecolor": "white",
           "ticks": "",
           "title": {
            "standoff": 15
           },
           "zerolinecolor": "white",
           "zerolinewidth": 2
          }
         }
        },
        "title": {
         "text": "R² Values for Best Oscillator Fits"
        },
        "xaxis": {
         "anchor": "y",
         "domain": [
          0,
          1
         ],
         "title": {
          "text": "Number of neutrons (N)"
         }
        },
        "yaxis": {
         "anchor": "x",
         "domain": [
          0,
          1
         ],
         "title": {
          "text": "Number of protons (Z)"
         }
        }
       }
      }
     },
     "metadata": {},
     "output_type": "display_data"
    }
   ],
   "source": [
    "df_to_plot = best_osc_merged\n",
    "# df_to_plot = merged\n",
    "\n",
    "fig = px.scatter(df_to_plot.groupby(by=df_to_plot.index).head(1).reset_index(), \n",
    "          # x='a', \n",
    "          x='n',\n",
    "          y='z', \n",
    "          color='r2',\n",
    "          title='R² Values for Best Oscillator Fits',\n",
    "          # labels={'z': 'Number of protons (Z)', 'a': 'Weight (A)', 'r2': 'R² Score'},\n",
    "          labels={'z': 'Number of protons (Z)', 'n': 'Number of neutrons (N)', 'r2': 'R² Score'},\n",
    "          color_continuous_scale='RdBu',\n",
    "          height=600)\n",
    "\n",
    "\n",
    "magic_numbers_n = [2, 8, 20, 50, 58, 82, 126]\n",
    "magic_numbers_z = [2, 8, 20, 50, 58, 82]\n",
    "\n",
    "for i, m in enumerate(magic_numbers_n):\n",
    "    fig.add_vline(x=m, line_dash=\"dash\", line_color=\"gray\", name=\"Magic numbers\" if i==0 else None)\n",
    "\n",
    "for i, m in enumerate(magic_numbers_z):\n",
    "    fig.add_hline(y=m, line_dash=\"dash\", line_color=\"gray\")\n",
    "\n",
    "fig.show()"
   ]
  },
  {
   "cell_type": "code",
   "execution_count": 27,
   "metadata": {},
   "outputs": [
    {
     "data": {
      "application/vnd.plotly.v1+json": {
       "config": {
        "plotlyServerURL": "https://plot.ly"
       },
       "data": [
        {
         "hovertemplate": "Weight (A)=%{x}<br>R² Score=%{y}<br>Asymmetry parameter=%{marker.color}<extra></extra>",
         "legendgroup": "",
         "marker": {
          "color": [
           0,
           0,
           0,
           0,
           0,
           0.1111111111111111,
           0,
           0.09090909090909091,
           0,
           0.07692307692307693,
           0,
           0.06666666666666667,
           0,
           0.058823529411764705,
           0.1111111111111111,
           0,
           0.05263157894736842,
           0.1,
           0,
           0.047619047619047616,
           0.09090909090909091,
           0.13043478260869565,
           0.043478260869565216,
           0.08333333333333333,
           0.12,
           0.07692307692307693,
           0.1111111111111111,
           0.037037037037037035,
           0.07142857142857142,
           0.10344827586206896,
           0.034482758620689655,
           0.06666666666666667,
           0.0967741935483871,
           0.125,
           0.0625,
           0.09090909090909091,
           0.11764705882352941,
           0.08571428571428572,
           0.1111111111111111,
           0.13513513513513514,
           0.15789473684210525,
           0.08108108108108109,
           0.10526315789473684,
           0.1282051282051282,
           0.15,
           0.07692307692307693,
           0.1,
           0.12195121951219512,
           0.14285714285714285,
           0.16279069767441862,
           0.09523809523809523,
           0.11627906976744186,
           0.13636363636363635,
           0.1111111111111111,
           0.13043478260869565,
           0.14893617021276595,
           0.08695652173913043,
           0.10638297872340426,
           0.125,
           0.14285714285714285,
           0.08333333333333333,
           0.10204081632653061,
           0.12,
           0.13725490196078433,
           0.15384615384615385,
           0.09803921568627451,
           0.11538461538461539,
           0.1320754716981132,
           0.14814814814814814,
           0.16363636363636364,
           0.09433962264150944,
           0.1111111111111111,
           0.12727272727272726,
           0.14285714285714285,
           0.15789473684210525,
           0.10714285714285714,
           0.12280701754385964,
           0.13793103448275862,
           0.15254237288135594,
           0.16666666666666666,
           0.18032786885245902,
           0.1935483870967742,
           0.13333333333333333,
           0.14754098360655737,
           0.16129032258064516,
           0.1746031746031746,
           0.14285714285714285,
           0.15625,
           0.16923076923076924,
           0.18181818181818182,
           0.13846153846153847,
           0.16417910447761194,
           0.17647058823529413,
           0.18840579710144928,
           0.14705882352941177,
           0.17142857142857143,
           0.15492957746478872,
           0.1780821917808219,
           0.1891891891891892,
           0.1388888888888889,
           0.17333333333333334,
           0.18421052631578946,
           0.19480519480519481,
           0.16883116883116883,
           0.1794871794871795,
           0.189873417721519,
           0.2,
           0.15384615384615385,
           0.16455696202531644,
           0.175,
           0.18518518518518517,
           0.1951219512195122,
           0.16049382716049382,
           0.17073170731707318,
           0.18072289156626506,
           0.19047619047619047,
           0.2,
           0.16666666666666666,
           0.17647058823529413,
           0.18604651162790697,
           0.19540229885057472,
           0.20454545454545456,
           0.18181818181818182,
           0.19101123595505617,
           0.2,
           0.18681318681318682,
           0.1956521739130435,
           0.20430107526881722,
           0.19148936170212766,
           0.2,
           0.20833333333333334,
           0.1875,
           0.1958762886597938,
           0.20408163265306123,
           0.21212121212121213,
           0.1836734693877551,
           0.1919191919191919,
           0.2,
           0.2079207920792079,
           0.21568627450980393,
           0.20388349514563106,
           0.21153846153846154
          ],
          "coloraxis": "coloraxis",
          "symbol": "circle"
         },
         "mode": "markers",
         "name": "",
         "orientation": "v",
         "showlegend": false,
         "type": "scatter",
         "x": [
          6,
          10,
          12,
          14,
          16,
          18,
          20,
          22,
          24,
          26,
          28,
          30,
          32,
          34,
          36,
          36,
          38,
          40,
          40,
          42,
          44,
          46,
          46,
          48,
          50,
          52,
          54,
          54,
          56,
          58,
          58,
          60,
          62,
          64,
          64,
          66,
          68,
          70,
          72,
          74,
          76,
          74,
          76,
          78,
          80,
          78,
          80,
          82,
          84,
          86,
          84,
          86,
          88,
          90,
          92,
          94,
          92,
          94,
          96,
          98,
          96,
          98,
          100,
          102,
          104,
          102,
          104,
          106,
          108,
          110,
          106,
          108,
          110,
          112,
          114,
          112,
          114,
          116,
          118,
          120,
          122,
          124,
          120,
          122,
          124,
          126,
          126,
          128,
          130,
          132,
          130,
          134,
          136,
          138,
          136,
          140,
          142,
          146,
          148,
          144,
          150,
          152,
          154,
          154,
          156,
          158,
          160,
          156,
          158,
          160,
          162,
          164,
          162,
          164,
          166,
          168,
          170,
          168,
          170,
          172,
          174,
          176,
          176,
          178,
          180,
          182,
          184,
          186,
          188,
          190,
          192,
          192,
          194,
          196,
          198,
          196,
          198,
          200,
          202,
          204,
          206,
          208
         ],
         "xaxis": "x",
         "y": [
          0.9223252110257784,
          0.3577209190848428,
          0.9979757034961273,
          0.7330203010667158,
          0.7451899629058697,
          0.956018819955663,
          0.9486102409699401,
          0.9885820278919414,
          0.999292019509163,
          0.9945737804958007,
          0.9957116935232959,
          0.9744711482303928,
          0.8914078993357485,
          0.9070928202576597,
          0.922762345953243,
          0.8965899853185989,
          0.7700574783007229,
          0.7161470959294445,
          0.48261303458811244,
          0.9528661818684182,
          0.9198551257872476,
          0.6636862562352849,
          0.944073314371505,
          0.9409946867870855,
          0.6454286309548789,
          0.9322562120180036,
          0.9662064357767187,
          0.8447774839745663,
          0.9682148101332992,
          0.9698948480986572,
          0.9635346584472712,
          0.9038706037049945,
          0.9542687737358098,
          0.8628879420007183,
          0.9676235983911923,
          0.9720028353707674,
          0.9612156823600392,
          0.8529717939983767,
          0.9058085670130983,
          0.9792052556382194,
          0.9462422937379439,
          0.9616835130832639,
          0.9404807898200982,
          0.9483504717027283,
          0.9848454755505707,
          0.9743099389836662,
          0.921564757951804,
          0.9708307798081461,
          0.7685097103677808,
          0.7270577977099798,
          0.9326515855197965,
          0.8876473926784232,
          0.9673133178371707,
          0.4819532169117844,
          0.9436460873954676,
          0.8099690916615236,
          0.20723880041764275,
          0.7979367967601088,
          0.8732556742154182,
          0.8972520665120272,
          0.9079378954942876,
          0.8908946469965049,
          0.9131702011463643,
          0.941916812301769,
          0.963604333067662,
          0.9567727884882121,
          0.858308721761669,
          0.838876426762261,
          0.9244363899097412,
          0.9614944425793471,
          0.9024663295182429,
          0.8090963806732738,
          0.9410771156367188,
          0.8080549209808087,
          0.9305400618533878,
          0.770995628233455,
          0.7698769645276721,
          0.7902025366437713,
          0.7012192194261285,
          0.7131130486568255,
          0.6887353328107528,
          0.6607534815738909,
          0.9317189886405772,
          0.9305732131992597,
          0.9093358268634641,
          0.7839278082163419,
          0.9842330361826168,
          0.9382105774604843,
          0.8116695073807473,
          0.8936106782294185,
          0.9701375375371956,
          0.9683408343127649,
          0.7539369547638369,
          0.695854667027674,
          0.8269220132153816,
          0.6362678265540431,
          0.5702171915177761,
          0.8494623094099254,
          0.9594818306277261,
          0.25810624748255906,
          0.910518943001295,
          0.9835744108505222,
          0.9928093893136953,
          0.9760545972780911,
          0.986028888549463,
          0.9989156323197019,
          0.99839619885763,
          0.9833459650237011,
          0.9790228906692803,
          0.980372789490706,
          0.9802722691576826,
          0.9985595033006237,
          0.9739752765747954,
          0.984679169243768,
          0.9967127415869811,
          0.998827126180645,
          0.9967591296550504,
          0.9902595886845884,
          0.988581759884723,
          0.9996858817911372,
          0.9996995641087522,
          0.9998578064870353,
          0.9920566355831648,
          0.9259050296203044,
          0.9969762813572834,
          0.9910709845888096,
          0.995481983173255,
          0.9956784491993407,
          0.905529683132791,
          0.9935432619344191,
          0.9869269996813735,
          0.9633356310732504,
          0.9737614795349105,
          0.9676620553993953,
          0.9714779850672689,
          0.9814041880946583,
          0.6711507512554353,
          0.7951953737064996,
          0.9799209000603025,
          0.9927791727707382,
          0.41051059173827964,
          -0.5987329772767556
         ],
         "yaxis": "y"
        }
       ],
       "layout": {
        "coloraxis": {
         "colorbar": {
          "title": {
           "text": "Asymmetry parameter"
          }
         },
         "colorscale": [
          [
           0,
           "#440154"
          ],
          [
           0.1111111111111111,
           "#482878"
          ],
          [
           0.2222222222222222,
           "#3e4989"
          ],
          [
           0.3333333333333333,
           "#31688e"
          ],
          [
           0.4444444444444444,
           "#26828e"
          ],
          [
           0.5555555555555556,
           "#1f9e89"
          ],
          [
           0.6666666666666666,
           "#35b779"
          ],
          [
           0.7777777777777778,
           "#6ece58"
          ],
          [
           0.8888888888888888,
           "#b5de2b"
          ],
          [
           1,
           "#fde725"
          ]
         ]
        },
        "legend": {
         "tracegroupgap": 0
        },
        "template": {
         "data": {
          "bar": [
           {
            "error_x": {
             "color": "#2a3f5f"
            },
            "error_y": {
             "color": "#2a3f5f"
            },
            "marker": {
             "line": {
              "color": "#E5ECF6",
              "width": 0.5
             },
             "pattern": {
              "fillmode": "overlay",
              "size": 10,
              "solidity": 0.2
             }
            },
            "type": "bar"
           }
          ],
          "barpolar": [
           {
            "marker": {
             "line": {
              "color": "#E5ECF6",
              "width": 0.5
             },
             "pattern": {
              "fillmode": "overlay",
              "size": 10,
              "solidity": 0.2
             }
            },
            "type": "barpolar"
           }
          ],
          "carpet": [
           {
            "aaxis": {
             "endlinecolor": "#2a3f5f",
             "gridcolor": "white",
             "linecolor": "white",
             "minorgridcolor": "white",
             "startlinecolor": "#2a3f5f"
            },
            "baxis": {
             "endlinecolor": "#2a3f5f",
             "gridcolor": "white",
             "linecolor": "white",
             "minorgridcolor": "white",
             "startlinecolor": "#2a3f5f"
            },
            "type": "carpet"
           }
          ],
          "choropleth": [
           {
            "colorbar": {
             "outlinewidth": 0,
             "ticks": ""
            },
            "type": "choropleth"
           }
          ],
          "contour": [
           {
            "colorbar": {
             "outlinewidth": 0,
             "ticks": ""
            },
            "colorscale": [
             [
              0,
              "#0d0887"
             ],
             [
              0.1111111111111111,
              "#46039f"
             ],
             [
              0.2222222222222222,
              "#7201a8"
             ],
             [
              0.3333333333333333,
              "#9c179e"
             ],
             [
              0.4444444444444444,
              "#bd3786"
             ],
             [
              0.5555555555555556,
              "#d8576b"
             ],
             [
              0.6666666666666666,
              "#ed7953"
             ],
             [
              0.7777777777777778,
              "#fb9f3a"
             ],
             [
              0.8888888888888888,
              "#fdca26"
             ],
             [
              1,
              "#f0f921"
             ]
            ],
            "type": "contour"
           }
          ],
          "contourcarpet": [
           {
            "colorbar": {
             "outlinewidth": 0,
             "ticks": ""
            },
            "type": "contourcarpet"
           }
          ],
          "heatmap": [
           {
            "colorbar": {
             "outlinewidth": 0,
             "ticks": ""
            },
            "colorscale": [
             [
              0,
              "#0d0887"
             ],
             [
              0.1111111111111111,
              "#46039f"
             ],
             [
              0.2222222222222222,
              "#7201a8"
             ],
             [
              0.3333333333333333,
              "#9c179e"
             ],
             [
              0.4444444444444444,
              "#bd3786"
             ],
             [
              0.5555555555555556,
              "#d8576b"
             ],
             [
              0.6666666666666666,
              "#ed7953"
             ],
             [
              0.7777777777777778,
              "#fb9f3a"
             ],
             [
              0.8888888888888888,
              "#fdca26"
             ],
             [
              1,
              "#f0f921"
             ]
            ],
            "type": "heatmap"
           }
          ],
          "heatmapgl": [
           {
            "colorbar": {
             "outlinewidth": 0,
             "ticks": ""
            },
            "colorscale": [
             [
              0,
              "#0d0887"
             ],
             [
              0.1111111111111111,
              "#46039f"
             ],
             [
              0.2222222222222222,
              "#7201a8"
             ],
             [
              0.3333333333333333,
              "#9c179e"
             ],
             [
              0.4444444444444444,
              "#bd3786"
             ],
             [
              0.5555555555555556,
              "#d8576b"
             ],
             [
              0.6666666666666666,
              "#ed7953"
             ],
             [
              0.7777777777777778,
              "#fb9f3a"
             ],
             [
              0.8888888888888888,
              "#fdca26"
             ],
             [
              1,
              "#f0f921"
             ]
            ],
            "type": "heatmapgl"
           }
          ],
          "histogram": [
           {
            "marker": {
             "pattern": {
              "fillmode": "overlay",
              "size": 10,
              "solidity": 0.2
             }
            },
            "type": "histogram"
           }
          ],
          "histogram2d": [
           {
            "colorbar": {
             "outlinewidth": 0,
             "ticks": ""
            },
            "colorscale": [
             [
              0,
              "#0d0887"
             ],
             [
              0.1111111111111111,
              "#46039f"
             ],
             [
              0.2222222222222222,
              "#7201a8"
             ],
             [
              0.3333333333333333,
              "#9c179e"
             ],
             [
              0.4444444444444444,
              "#bd3786"
             ],
             [
              0.5555555555555556,
              "#d8576b"
             ],
             [
              0.6666666666666666,
              "#ed7953"
             ],
             [
              0.7777777777777778,
              "#fb9f3a"
             ],
             [
              0.8888888888888888,
              "#fdca26"
             ],
             [
              1,
              "#f0f921"
             ]
            ],
            "type": "histogram2d"
           }
          ],
          "histogram2dcontour": [
           {
            "colorbar": {
             "outlinewidth": 0,
             "ticks": ""
            },
            "colorscale": [
             [
              0,
              "#0d0887"
             ],
             [
              0.1111111111111111,
              "#46039f"
             ],
             [
              0.2222222222222222,
              "#7201a8"
             ],
             [
              0.3333333333333333,
              "#9c179e"
             ],
             [
              0.4444444444444444,
              "#bd3786"
             ],
             [
              0.5555555555555556,
              "#d8576b"
             ],
             [
              0.6666666666666666,
              "#ed7953"
             ],
             [
              0.7777777777777778,
              "#fb9f3a"
             ],
             [
              0.8888888888888888,
              "#fdca26"
             ],
             [
              1,
              "#f0f921"
             ]
            ],
            "type": "histogram2dcontour"
           }
          ],
          "mesh3d": [
           {
            "colorbar": {
             "outlinewidth": 0,
             "ticks": ""
            },
            "type": "mesh3d"
           }
          ],
          "parcoords": [
           {
            "line": {
             "colorbar": {
              "outlinewidth": 0,
              "ticks": ""
             }
            },
            "type": "parcoords"
           }
          ],
          "pie": [
           {
            "automargin": true,
            "type": "pie"
           }
          ],
          "scatter": [
           {
            "fillpattern": {
             "fillmode": "overlay",
             "size": 10,
             "solidity": 0.2
            },
            "type": "scatter"
           }
          ],
          "scatter3d": [
           {
            "line": {
             "colorbar": {
              "outlinewidth": 0,
              "ticks": ""
             }
            },
            "marker": {
             "colorbar": {
              "outlinewidth": 0,
              "ticks": ""
             }
            },
            "type": "scatter3d"
           }
          ],
          "scattercarpet": [
           {
            "marker": {
             "colorbar": {
              "outlinewidth": 0,
              "ticks": ""
             }
            },
            "type": "scattercarpet"
           }
          ],
          "scattergeo": [
           {
            "marker": {
             "colorbar": {
              "outlinewidth": 0,
              "ticks": ""
             }
            },
            "type": "scattergeo"
           }
          ],
          "scattergl": [
           {
            "marker": {
             "colorbar": {
              "outlinewidth": 0,
              "ticks": ""
             }
            },
            "type": "scattergl"
           }
          ],
          "scattermapbox": [
           {
            "marker": {
             "colorbar": {
              "outlinewidth": 0,
              "ticks": ""
             }
            },
            "type": "scattermapbox"
           }
          ],
          "scatterpolar": [
           {
            "marker": {
             "colorbar": {
              "outlinewidth": 0,
              "ticks": ""
             }
            },
            "type": "scatterpolar"
           }
          ],
          "scatterpolargl": [
           {
            "marker": {
             "colorbar": {
              "outlinewidth": 0,
              "ticks": ""
             }
            },
            "type": "scatterpolargl"
           }
          ],
          "scatterternary": [
           {
            "marker": {
             "colorbar": {
              "outlinewidth": 0,
              "ticks": ""
             }
            },
            "type": "scatterternary"
           }
          ],
          "surface": [
           {
            "colorbar": {
             "outlinewidth": 0,
             "ticks": ""
            },
            "colorscale": [
             [
              0,
              "#0d0887"
             ],
             [
              0.1111111111111111,
              "#46039f"
             ],
             [
              0.2222222222222222,
              "#7201a8"
             ],
             [
              0.3333333333333333,
              "#9c179e"
             ],
             [
              0.4444444444444444,
              "#bd3786"
             ],
             [
              0.5555555555555556,
              "#d8576b"
             ],
             [
              0.6666666666666666,
              "#ed7953"
             ],
             [
              0.7777777777777778,
              "#fb9f3a"
             ],
             [
              0.8888888888888888,
              "#fdca26"
             ],
             [
              1,
              "#f0f921"
             ]
            ],
            "type": "surface"
           }
          ],
          "table": [
           {
            "cells": {
             "fill": {
              "color": "#EBF0F8"
             },
             "line": {
              "color": "white"
             }
            },
            "header": {
             "fill": {
              "color": "#C8D4E3"
             },
             "line": {
              "color": "white"
             }
            },
            "type": "table"
           }
          ]
         },
         "layout": {
          "annotationdefaults": {
           "arrowcolor": "#2a3f5f",
           "arrowhead": 0,
           "arrowwidth": 1
          },
          "autotypenumbers": "strict",
          "coloraxis": {
           "colorbar": {
            "outlinewidth": 0,
            "ticks": ""
           }
          },
          "colorscale": {
           "diverging": [
            [
             0,
             "#8e0152"
            ],
            [
             0.1,
             "#c51b7d"
            ],
            [
             0.2,
             "#de77ae"
            ],
            [
             0.3,
             "#f1b6da"
            ],
            [
             0.4,
             "#fde0ef"
            ],
            [
             0.5,
             "#f7f7f7"
            ],
            [
             0.6,
             "#e6f5d0"
            ],
            [
             0.7,
             "#b8e186"
            ],
            [
             0.8,
             "#7fbc41"
            ],
            [
             0.9,
             "#4d9221"
            ],
            [
             1,
             "#276419"
            ]
           ],
           "sequential": [
            [
             0,
             "#0d0887"
            ],
            [
             0.1111111111111111,
             "#46039f"
            ],
            [
             0.2222222222222222,
             "#7201a8"
            ],
            [
             0.3333333333333333,
             "#9c179e"
            ],
            [
             0.4444444444444444,
             "#bd3786"
            ],
            [
             0.5555555555555556,
             "#d8576b"
            ],
            [
             0.6666666666666666,
             "#ed7953"
            ],
            [
             0.7777777777777778,
             "#fb9f3a"
            ],
            [
             0.8888888888888888,
             "#fdca26"
            ],
            [
             1,
             "#f0f921"
            ]
           ],
           "sequentialminus": [
            [
             0,
             "#0d0887"
            ],
            [
             0.1111111111111111,
             "#46039f"
            ],
            [
             0.2222222222222222,
             "#7201a8"
            ],
            [
             0.3333333333333333,
             "#9c179e"
            ],
            [
             0.4444444444444444,
             "#bd3786"
            ],
            [
             0.5555555555555556,
             "#d8576b"
            ],
            [
             0.6666666666666666,
             "#ed7953"
            ],
            [
             0.7777777777777778,
             "#fb9f3a"
            ],
            [
             0.8888888888888888,
             "#fdca26"
            ],
            [
             1,
             "#f0f921"
            ]
           ]
          },
          "colorway": [
           "#636efa",
           "#EF553B",
           "#00cc96",
           "#ab63fa",
           "#FFA15A",
           "#19d3f3",
           "#FF6692",
           "#B6E880",
           "#FF97FF",
           "#FECB52"
          ],
          "font": {
           "color": "#2a3f5f"
          },
          "geo": {
           "bgcolor": "white",
           "lakecolor": "white",
           "landcolor": "#E5ECF6",
           "showlakes": true,
           "showland": true,
           "subunitcolor": "white"
          },
          "hoverlabel": {
           "align": "left"
          },
          "hovermode": "closest",
          "mapbox": {
           "style": "light"
          },
          "paper_bgcolor": "white",
          "plot_bgcolor": "#E5ECF6",
          "polar": {
           "angularaxis": {
            "gridcolor": "white",
            "linecolor": "white",
            "ticks": ""
           },
           "bgcolor": "#E5ECF6",
           "radialaxis": {
            "gridcolor": "white",
            "linecolor": "white",
            "ticks": ""
           }
          },
          "scene": {
           "xaxis": {
            "backgroundcolor": "#E5ECF6",
            "gridcolor": "white",
            "gridwidth": 2,
            "linecolor": "white",
            "showbackground": true,
            "ticks": "",
            "zerolinecolor": "white"
           },
           "yaxis": {
            "backgroundcolor": "#E5ECF6",
            "gridcolor": "white",
            "gridwidth": 2,
            "linecolor": "white",
            "showbackground": true,
            "ticks": "",
            "zerolinecolor": "white"
           },
           "zaxis": {
            "backgroundcolor": "#E5ECF6",
            "gridcolor": "white",
            "gridwidth": 2,
            "linecolor": "white",
            "showbackground": true,
            "ticks": "",
            "zerolinecolor": "white"
           }
          },
          "shapedefaults": {
           "line": {
            "color": "#2a3f5f"
           }
          },
          "ternary": {
           "aaxis": {
            "gridcolor": "white",
            "linecolor": "white",
            "ticks": ""
           },
           "baxis": {
            "gridcolor": "white",
            "linecolor": "white",
            "ticks": ""
           },
           "bgcolor": "#E5ECF6",
           "caxis": {
            "gridcolor": "white",
            "linecolor": "white",
            "ticks": ""
           }
          },
          "title": {
           "x": 0.05
          },
          "xaxis": {
           "automargin": true,
           "gridcolor": "white",
           "linecolor": "white",
           "ticks": "",
           "title": {
            "standoff": 15
           },
           "zerolinecolor": "white",
           "zerolinewidth": 2
          },
          "yaxis": {
           "automargin": true,
           "gridcolor": "white",
           "linecolor": "white",
           "ticks": "",
           "title": {
            "standoff": 15
           },
           "zerolinecolor": "white",
           "zerolinewidth": 2
          }
         }
        },
        "title": {
         "text": "R² Values for All Oscillator Fits"
        },
        "xaxis": {
         "anchor": "y",
         "domain": [
          0,
          1
         ],
         "title": {
          "text": "Weight (A)"
         }
        },
        "yaxis": {
         "anchor": "x",
         "domain": [
          0,
          1
         ],
         "title": {
          "text": "R² Score"
         }
        }
       }
      }
     },
     "metadata": {},
     "output_type": "display_data"
    }
   ],
   "source": [
    "df_to_plot = merged\n",
    "\n",
    "px.scatter(df_to_plot.groupby(by=df_to_plot.index).head(1).reset_index(), \n",
    "            x='a', \n",
    "            y='r2', \n",
    "            color='beta',\n",
    "            title='R² Values for All Oscillator Fits',\n",
    "            labels={'beta': 'Asymmetry parameter', 'a': 'Weight (A)', 'r2': 'R² Score'},\n",
    "            color_continuous_scale='viridis')"
   ]
  },
  {
   "cell_type": "code",
   "execution_count": 28,
   "metadata": {},
   "outputs": [
    {
     "data": {
      "application/vnd.plotly.v1+json": {
       "config": {
        "plotlyServerURL": "https://plot.ly"
       },
       "data": [
        {
         "hovertemplate": "Number of neutrons (N)=%{x}<br>Number of protons (Z)=%{y}<br>R² Score=%{marker.color}<extra></extra>",
         "legendgroup": "",
         "marker": {
          "color": [
           0.9223252110257784,
           0.3577209190848428,
           0.9979757034961273,
           0.7330203010667158,
           0.7451899629058697,
           0.956018819955663,
           0.9486102409699401,
           0.9885820278919414,
           0.999292019509163,
           0.9945737804958007,
           0.9957116935232959,
           0.9744711482303928,
           0.8914078993357485,
           0.9070928202576597,
           0.922762345953243,
           0.8965899853185989,
           0.7700574783007229,
           0.7161470959294445,
           0.48261303458811244,
           0.9528661818684182,
           0.9198551257872476,
           0.6636862562352849,
           0.944073314371505,
           0.9409946867870855,
           0.6454286309548789,
           0.9322562120180036,
           0.9662064357767187,
           0.8447774839745663,
           0.9682148101332992,
           0.9698948480986572,
           0.9635346584472712,
           0.9038706037049945,
           0.9542687737358098,
           0.8628879420007183,
           0.9676235983911923,
           0.9720028353707674,
           0.9612156823600392,
           0.8529717939983767,
           0.9058085670130983,
           0.9792052556382194,
           0.9462422937379439,
           0.9616835130832639,
           0.9404807898200982,
           0.9483504717027283,
           0.9848454755505707,
           0.9743099389836662,
           0.921564757951804,
           0.9708307798081461,
           0.7685097103677808,
           0.7270577977099798,
           0.9326515855197965,
           0.8876473926784232,
           0.9673133178371707,
           0.4819532169117844,
           0.9436460873954676,
           0.8099690916615236,
           0.20723880041764275,
           0.7979367967601088,
           0.8732556742154182,
           0.8972520665120272,
           0.9079378954942876,
           0.8908946469965049,
           0.9131702011463643,
           0.941916812301769,
           0.963604333067662,
           0.9567727884882121,
           0.858308721761669,
           0.838876426762261,
           0.9244363899097412,
           0.9614944425793471,
           0.9024663295182429,
           0.8090963806732738,
           0.9410771156367188,
           0.8080549209808087,
           0.9305400618533878,
           0.770995628233455,
           0.7698769645276721,
           0.7902025366437713,
           0.7012192194261285,
           0.7131130486568255,
           0.6887353328107528,
           0.6607534815738909,
           0.9317189886405772,
           0.9305732131992597,
           0.9093358268634641,
           0.7839278082163419,
           0.9842330361826168,
           0.9382105774604843,
           0.8116695073807473,
           0.8936106782294185,
           0.9701375375371956,
           0.9683408343127649,
           0.7539369547638369,
           0.695854667027674,
           0.8269220132153816,
           0.6362678265540431,
           0.5702171915177761,
           0.8494623094099254,
           0.9594818306277261,
           0.25810624748255906,
           0.910518943001295,
           0.9835744108505222,
           0.9928093893136953,
           0.9760545972780911,
           0.986028888549463,
           0.9989156323197019,
           0.99839619885763,
           0.9833459650237011,
           0.9790228906692803,
           0.980372789490706,
           0.9802722691576826,
           0.9985595033006237,
           0.9739752765747954,
           0.984679169243768,
           0.9967127415869811,
           0.998827126180645,
           0.9967591296550504,
           0.9902595886845884,
           0.988581759884723,
           0.9996858817911372,
           0.9996995641087522,
           0.9998578064870353,
           0.9920566355831648,
           0.9259050296203044,
           0.9969762813572834,
           0.9910709845888096,
           0.995481983173255,
           0.9956784491993407,
           0.905529683132791,
           0.9935432619344191,
           0.9869269996813735,
           0.9633356310732504,
           0.9737614795349105,
           0.9676620553993953,
           0.9714779850672689,
           0.9814041880946583,
           0.6711507512554353,
           0.7951953737064996,
           0.9799209000603025,
           0.9927791727707382,
           0.41051059173827964,
           -0.5987329772767556
          ],
          "coloraxis": "coloraxis",
          "symbol": "circle"
         },
         "mode": "markers",
         "name": "",
         "orientation": "v",
         "showlegend": false,
         "type": "scatter",
         "x": [
          3,
          5,
          6,
          7,
          8,
          10,
          10,
          12,
          12,
          14,
          14,
          16,
          16,
          18,
          20,
          18,
          20,
          22,
          20,
          22,
          24,
          26,
          24,
          26,
          28,
          28,
          30,
          28,
          30,
          32,
          30,
          32,
          34,
          36,
          34,
          36,
          38,
          38,
          40,
          42,
          44,
          40,
          42,
          44,
          46,
          42,
          44,
          46,
          48,
          50,
          46,
          48,
          50,
          50,
          52,
          54,
          50,
          52,
          54,
          56,
          52,
          54,
          56,
          58,
          60,
          56,
          58,
          60,
          62,
          64,
          58,
          60,
          62,
          64,
          66,
          62,
          64,
          66,
          68,
          70,
          72,
          74,
          68,
          70,
          72,
          74,
          72,
          74,
          76,
          78,
          74,
          78,
          80,
          82,
          78,
          82,
          82,
          86,
          88,
          82,
          88,
          90,
          92,
          90,
          92,
          94,
          96,
          90,
          92,
          94,
          96,
          98,
          94,
          96,
          98,
          100,
          102,
          98,
          100,
          102,
          104,
          106,
          104,
          106,
          108,
          108,
          110,
          112,
          112,
          114,
          116,
          114,
          116,
          118,
          120,
          116,
          118,
          120,
          122,
          124,
          124,
          126
         ],
         "xaxis": "x",
         "y": [
          3,
          5,
          6,
          7,
          8,
          8,
          10,
          10,
          12,
          12,
          14,
          14,
          16,
          16,
          16,
          18,
          18,
          18,
          20,
          20,
          20,
          20,
          22,
          22,
          22,
          24,
          24,
          26,
          26,
          26,
          28,
          28,
          28,
          28,
          30,
          30,
          30,
          32,
          32,
          32,
          32,
          34,
          34,
          34,
          34,
          36,
          36,
          36,
          36,
          36,
          38,
          38,
          38,
          40,
          40,
          40,
          42,
          42,
          42,
          42,
          44,
          44,
          44,
          44,
          44,
          46,
          46,
          46,
          46,
          46,
          48,
          48,
          48,
          48,
          48,
          50,
          50,
          50,
          50,
          50,
          50,
          50,
          52,
          52,
          52,
          52,
          54,
          54,
          54,
          54,
          56,
          56,
          56,
          56,
          58,
          58,
          60,
          60,
          60,
          62,
          62,
          62,
          62,
          64,
          64,
          64,
          64,
          66,
          66,
          66,
          66,
          66,
          68,
          68,
          68,
          68,
          68,
          70,
          70,
          70,
          70,
          70,
          72,
          72,
          72,
          74,
          74,
          74,
          76,
          76,
          76,
          78,
          78,
          78,
          78,
          80,
          80,
          80,
          80,
          80,
          82,
          82
         ],
         "yaxis": "y"
        }
       ],
       "layout": {
        "coloraxis": {
         "colorbar": {
          "title": {
           "text": "R² Score"
          }
         },
         "colorscale": [
          [
           0,
           "red"
          ],
          [
           0.8,
           "white"
          ],
          [
           1,
           "blue"
          ]
         ]
        },
        "height": 600,
        "legend": {
         "tracegroupgap": 0
        },
        "shapes": [
         {
          "line": {
           "color": "gray",
           "dash": "dash"
          },
          "name": "Magic numbers",
          "type": "line",
          "x0": 2,
          "x1": 2,
          "xref": "x",
          "y0": 0,
          "y1": 1,
          "yref": "y domain"
         },
         {
          "line": {
           "color": "gray",
           "dash": "dash"
          },
          "type": "line",
          "x0": 8,
          "x1": 8,
          "xref": "x",
          "y0": 0,
          "y1": 1,
          "yref": "y domain"
         },
         {
          "line": {
           "color": "gray",
           "dash": "dash"
          },
          "type": "line",
          "x0": 20,
          "x1": 20,
          "xref": "x",
          "y0": 0,
          "y1": 1,
          "yref": "y domain"
         },
         {
          "line": {
           "color": "gray",
           "dash": "dash"
          },
          "type": "line",
          "x0": 50,
          "x1": 50,
          "xref": "x",
          "y0": 0,
          "y1": 1,
          "yref": "y domain"
         },
         {
          "line": {
           "color": "gray",
           "dash": "dash"
          },
          "type": "line",
          "x0": 58,
          "x1": 58,
          "xref": "x",
          "y0": 0,
          "y1": 1,
          "yref": "y domain"
         },
         {
          "line": {
           "color": "gray",
           "dash": "dash"
          },
          "type": "line",
          "x0": 82,
          "x1": 82,
          "xref": "x",
          "y0": 0,
          "y1": 1,
          "yref": "y domain"
         },
         {
          "line": {
           "color": "gray",
           "dash": "dash"
          },
          "type": "line",
          "x0": 126,
          "x1": 126,
          "xref": "x",
          "y0": 0,
          "y1": 1,
          "yref": "y domain"
         },
         {
          "line": {
           "color": "gray",
           "dash": "dash"
          },
          "type": "line",
          "x0": 0,
          "x1": 1,
          "xref": "x domain",
          "y0": 2,
          "y1": 2,
          "yref": "y"
         },
         {
          "line": {
           "color": "gray",
           "dash": "dash"
          },
          "type": "line",
          "x0": 0,
          "x1": 1,
          "xref": "x domain",
          "y0": 8,
          "y1": 8,
          "yref": "y"
         },
         {
          "line": {
           "color": "gray",
           "dash": "dash"
          },
          "type": "line",
          "x0": 0,
          "x1": 1,
          "xref": "x domain",
          "y0": 20,
          "y1": 20,
          "yref": "y"
         },
         {
          "line": {
           "color": "gray",
           "dash": "dash"
          },
          "type": "line",
          "x0": 0,
          "x1": 1,
          "xref": "x domain",
          "y0": 50,
          "y1": 50,
          "yref": "y"
         },
         {
          "line": {
           "color": "gray",
           "dash": "dash"
          },
          "type": "line",
          "x0": 0,
          "x1": 1,
          "xref": "x domain",
          "y0": 58,
          "y1": 58,
          "yref": "y"
         },
         {
          "line": {
           "color": "gray",
           "dash": "dash"
          },
          "type": "line",
          "x0": 0,
          "x1": 1,
          "xref": "x domain",
          "y0": 82,
          "y1": 82,
          "yref": "y"
         }
        ],
        "template": {
         "data": {
          "bar": [
           {
            "error_x": {
             "color": "#2a3f5f"
            },
            "error_y": {
             "color": "#2a3f5f"
            },
            "marker": {
             "line": {
              "color": "#E5ECF6",
              "width": 0.5
             },
             "pattern": {
              "fillmode": "overlay",
              "size": 10,
              "solidity": 0.2
             }
            },
            "type": "bar"
           }
          ],
          "barpolar": [
           {
            "marker": {
             "line": {
              "color": "#E5ECF6",
              "width": 0.5
             },
             "pattern": {
              "fillmode": "overlay",
              "size": 10,
              "solidity": 0.2
             }
            },
            "type": "barpolar"
           }
          ],
          "carpet": [
           {
            "aaxis": {
             "endlinecolor": "#2a3f5f",
             "gridcolor": "white",
             "linecolor": "white",
             "minorgridcolor": "white",
             "startlinecolor": "#2a3f5f"
            },
            "baxis": {
             "endlinecolor": "#2a3f5f",
             "gridcolor": "white",
             "linecolor": "white",
             "minorgridcolor": "white",
             "startlinecolor": "#2a3f5f"
            },
            "type": "carpet"
           }
          ],
          "choropleth": [
           {
            "colorbar": {
             "outlinewidth": 0,
             "ticks": ""
            },
            "type": "choropleth"
           }
          ],
          "contour": [
           {
            "colorbar": {
             "outlinewidth": 0,
             "ticks": ""
            },
            "colorscale": [
             [
              0,
              "#0d0887"
             ],
             [
              0.1111111111111111,
              "#46039f"
             ],
             [
              0.2222222222222222,
              "#7201a8"
             ],
             [
              0.3333333333333333,
              "#9c179e"
             ],
             [
              0.4444444444444444,
              "#bd3786"
             ],
             [
              0.5555555555555556,
              "#d8576b"
             ],
             [
              0.6666666666666666,
              "#ed7953"
             ],
             [
              0.7777777777777778,
              "#fb9f3a"
             ],
             [
              0.8888888888888888,
              "#fdca26"
             ],
             [
              1,
              "#f0f921"
             ]
            ],
            "type": "contour"
           }
          ],
          "contourcarpet": [
           {
            "colorbar": {
             "outlinewidth": 0,
             "ticks": ""
            },
            "type": "contourcarpet"
           }
          ],
          "heatmap": [
           {
            "colorbar": {
             "outlinewidth": 0,
             "ticks": ""
            },
            "colorscale": [
             [
              0,
              "#0d0887"
             ],
             [
              0.1111111111111111,
              "#46039f"
             ],
             [
              0.2222222222222222,
              "#7201a8"
             ],
             [
              0.3333333333333333,
              "#9c179e"
             ],
             [
              0.4444444444444444,
              "#bd3786"
             ],
             [
              0.5555555555555556,
              "#d8576b"
             ],
             [
              0.6666666666666666,
              "#ed7953"
             ],
             [
              0.7777777777777778,
              "#fb9f3a"
             ],
             [
              0.8888888888888888,
              "#fdca26"
             ],
             [
              1,
              "#f0f921"
             ]
            ],
            "type": "heatmap"
           }
          ],
          "heatmapgl": [
           {
            "colorbar": {
             "outlinewidth": 0,
             "ticks": ""
            },
            "colorscale": [
             [
              0,
              "#0d0887"
             ],
             [
              0.1111111111111111,
              "#46039f"
             ],
             [
              0.2222222222222222,
              "#7201a8"
             ],
             [
              0.3333333333333333,
              "#9c179e"
             ],
             [
              0.4444444444444444,
              "#bd3786"
             ],
             [
              0.5555555555555556,
              "#d8576b"
             ],
             [
              0.6666666666666666,
              "#ed7953"
             ],
             [
              0.7777777777777778,
              "#fb9f3a"
             ],
             [
              0.8888888888888888,
              "#fdca26"
             ],
             [
              1,
              "#f0f921"
             ]
            ],
            "type": "heatmapgl"
           }
          ],
          "histogram": [
           {
            "marker": {
             "pattern": {
              "fillmode": "overlay",
              "size": 10,
              "solidity": 0.2
             }
            },
            "type": "histogram"
           }
          ],
          "histogram2d": [
           {
            "colorbar": {
             "outlinewidth": 0,
             "ticks": ""
            },
            "colorscale": [
             [
              0,
              "#0d0887"
             ],
             [
              0.1111111111111111,
              "#46039f"
             ],
             [
              0.2222222222222222,
              "#7201a8"
             ],
             [
              0.3333333333333333,
              "#9c179e"
             ],
             [
              0.4444444444444444,
              "#bd3786"
             ],
             [
              0.5555555555555556,
              "#d8576b"
             ],
             [
              0.6666666666666666,
              "#ed7953"
             ],
             [
              0.7777777777777778,
              "#fb9f3a"
             ],
             [
              0.8888888888888888,
              "#fdca26"
             ],
             [
              1,
              "#f0f921"
             ]
            ],
            "type": "histogram2d"
           }
          ],
          "histogram2dcontour": [
           {
            "colorbar": {
             "outlinewidth": 0,
             "ticks": ""
            },
            "colorscale": [
             [
              0,
              "#0d0887"
             ],
             [
              0.1111111111111111,
              "#46039f"
             ],
             [
              0.2222222222222222,
              "#7201a8"
             ],
             [
              0.3333333333333333,
              "#9c179e"
             ],
             [
              0.4444444444444444,
              "#bd3786"
             ],
             [
              0.5555555555555556,
              "#d8576b"
             ],
             [
              0.6666666666666666,
              "#ed7953"
             ],
             [
              0.7777777777777778,
              "#fb9f3a"
             ],
             [
              0.8888888888888888,
              "#fdca26"
             ],
             [
              1,
              "#f0f921"
             ]
            ],
            "type": "histogram2dcontour"
           }
          ],
          "mesh3d": [
           {
            "colorbar": {
             "outlinewidth": 0,
             "ticks": ""
            },
            "type": "mesh3d"
           }
          ],
          "parcoords": [
           {
            "line": {
             "colorbar": {
              "outlinewidth": 0,
              "ticks": ""
             }
            },
            "type": "parcoords"
           }
          ],
          "pie": [
           {
            "automargin": true,
            "type": "pie"
           }
          ],
          "scatter": [
           {
            "fillpattern": {
             "fillmode": "overlay",
             "size": 10,
             "solidity": 0.2
            },
            "type": "scatter"
           }
          ],
          "scatter3d": [
           {
            "line": {
             "colorbar": {
              "outlinewidth": 0,
              "ticks": ""
             }
            },
            "marker": {
             "colorbar": {
              "outlinewidth": 0,
              "ticks": ""
             }
            },
            "type": "scatter3d"
           }
          ],
          "scattercarpet": [
           {
            "marker": {
             "colorbar": {
              "outlinewidth": 0,
              "ticks": ""
             }
            },
            "type": "scattercarpet"
           }
          ],
          "scattergeo": [
           {
            "marker": {
             "colorbar": {
              "outlinewidth": 0,
              "ticks": ""
             }
            },
            "type": "scattergeo"
           }
          ],
          "scattergl": [
           {
            "marker": {
             "colorbar": {
              "outlinewidth": 0,
              "ticks": ""
             }
            },
            "type": "scattergl"
           }
          ],
          "scattermapbox": [
           {
            "marker": {
             "colorbar": {
              "outlinewidth": 0,
              "ticks": ""
             }
            },
            "type": "scattermapbox"
           }
          ],
          "scatterpolar": [
           {
            "marker": {
             "colorbar": {
              "outlinewidth": 0,
              "ticks": ""
             }
            },
            "type": "scatterpolar"
           }
          ],
          "scatterpolargl": [
           {
            "marker": {
             "colorbar": {
              "outlinewidth": 0,
              "ticks": ""
             }
            },
            "type": "scatterpolargl"
           }
          ],
          "scatterternary": [
           {
            "marker": {
             "colorbar": {
              "outlinewidth": 0,
              "ticks": ""
             }
            },
            "type": "scatterternary"
           }
          ],
          "surface": [
           {
            "colorbar": {
             "outlinewidth": 0,
             "ticks": ""
            },
            "colorscale": [
             [
              0,
              "#0d0887"
             ],
             [
              0.1111111111111111,
              "#46039f"
             ],
             [
              0.2222222222222222,
              "#7201a8"
             ],
             [
              0.3333333333333333,
              "#9c179e"
             ],
             [
              0.4444444444444444,
              "#bd3786"
             ],
             [
              0.5555555555555556,
              "#d8576b"
             ],
             [
              0.6666666666666666,
              "#ed7953"
             ],
             [
              0.7777777777777778,
              "#fb9f3a"
             ],
             [
              0.8888888888888888,
              "#fdca26"
             ],
             [
              1,
              "#f0f921"
             ]
            ],
            "type": "surface"
           }
          ],
          "table": [
           {
            "cells": {
             "fill": {
              "color": "#EBF0F8"
             },
             "line": {
              "color": "white"
             }
            },
            "header": {
             "fill": {
              "color": "#C8D4E3"
             },
             "line": {
              "color": "white"
             }
            },
            "type": "table"
           }
          ]
         },
         "layout": {
          "annotationdefaults": {
           "arrowcolor": "#2a3f5f",
           "arrowhead": 0,
           "arrowwidth": 1
          },
          "autotypenumbers": "strict",
          "coloraxis": {
           "colorbar": {
            "outlinewidth": 0,
            "ticks": ""
           }
          },
          "colorscale": {
           "diverging": [
            [
             0,
             "#8e0152"
            ],
            [
             0.1,
             "#c51b7d"
            ],
            [
             0.2,
             "#de77ae"
            ],
            [
             0.3,
             "#f1b6da"
            ],
            [
             0.4,
             "#fde0ef"
            ],
            [
             0.5,
             "#f7f7f7"
            ],
            [
             0.6,
             "#e6f5d0"
            ],
            [
             0.7,
             "#b8e186"
            ],
            [
             0.8,
             "#7fbc41"
            ],
            [
             0.9,
             "#4d9221"
            ],
            [
             1,
             "#276419"
            ]
           ],
           "sequential": [
            [
             0,
             "#0d0887"
            ],
            [
             0.1111111111111111,
             "#46039f"
            ],
            [
             0.2222222222222222,
             "#7201a8"
            ],
            [
             0.3333333333333333,
             "#9c179e"
            ],
            [
             0.4444444444444444,
             "#bd3786"
            ],
            [
             0.5555555555555556,
             "#d8576b"
            ],
            [
             0.6666666666666666,
             "#ed7953"
            ],
            [
             0.7777777777777778,
             "#fb9f3a"
            ],
            [
             0.8888888888888888,
             "#fdca26"
            ],
            [
             1,
             "#f0f921"
            ]
           ],
           "sequentialminus": [
            [
             0,
             "#0d0887"
            ],
            [
             0.1111111111111111,
             "#46039f"
            ],
            [
             0.2222222222222222,
             "#7201a8"
            ],
            [
             0.3333333333333333,
             "#9c179e"
            ],
            [
             0.4444444444444444,
             "#bd3786"
            ],
            [
             0.5555555555555556,
             "#d8576b"
            ],
            [
             0.6666666666666666,
             "#ed7953"
            ],
            [
             0.7777777777777778,
             "#fb9f3a"
            ],
            [
             0.8888888888888888,
             "#fdca26"
            ],
            [
             1,
             "#f0f921"
            ]
           ]
          },
          "colorway": [
           "#636efa",
           "#EF553B",
           "#00cc96",
           "#ab63fa",
           "#FFA15A",
           "#19d3f3",
           "#FF6692",
           "#B6E880",
           "#FF97FF",
           "#FECB52"
          ],
          "font": {
           "color": "#2a3f5f"
          },
          "geo": {
           "bgcolor": "white",
           "lakecolor": "white",
           "landcolor": "#E5ECF6",
           "showlakes": true,
           "showland": true,
           "subunitcolor": "white"
          },
          "hoverlabel": {
           "align": "left"
          },
          "hovermode": "closest",
          "mapbox": {
           "style": "light"
          },
          "paper_bgcolor": "white",
          "plot_bgcolor": "#E5ECF6",
          "polar": {
           "angularaxis": {
            "gridcolor": "white",
            "linecolor": "white",
            "ticks": ""
           },
           "bgcolor": "#E5ECF6",
           "radialaxis": {
            "gridcolor": "white",
            "linecolor": "white",
            "ticks": ""
           }
          },
          "scene": {
           "xaxis": {
            "backgroundcolor": "#E5ECF6",
            "gridcolor": "white",
            "gridwidth": 2,
            "linecolor": "white",
            "showbackground": true,
            "ticks": "",
            "zerolinecolor": "white"
           },
           "yaxis": {
            "backgroundcolor": "#E5ECF6",
            "gridcolor": "white",
            "gridwidth": 2,
            "linecolor": "white",
            "showbackground": true,
            "ticks": "",
            "zerolinecolor": "white"
           },
           "zaxis": {
            "backgroundcolor": "#E5ECF6",
            "gridcolor": "white",
            "gridwidth": 2,
            "linecolor": "white",
            "showbackground": true,
            "ticks": "",
            "zerolinecolor": "white"
           }
          },
          "shapedefaults": {
           "line": {
            "color": "#2a3f5f"
           }
          },
          "ternary": {
           "aaxis": {
            "gridcolor": "white",
            "linecolor": "white",
            "ticks": ""
           },
           "baxis": {
            "gridcolor": "white",
            "linecolor": "white",
            "ticks": ""
           },
           "bgcolor": "#E5ECF6",
           "caxis": {
            "gridcolor": "white",
            "linecolor": "white",
            "ticks": ""
           }
          },
          "title": {
           "x": 0.05
          },
          "xaxis": {
           "automargin": true,
           "gridcolor": "white",
           "linecolor": "white",
           "ticks": "",
           "title": {
            "standoff": 15
           },
           "zerolinecolor": "white",
           "zerolinewidth": 2
          },
          "yaxis": {
           "automargin": true,
           "gridcolor": "white",
           "linecolor": "white",
           "ticks": "",
           "title": {
            "standoff": 15
           },
           "zerolinecolor": "white",
           "zerolinewidth": 2
          }
         }
        },
        "title": {
         "text": "R² Values for All Oscillator Fits"
        },
        "xaxis": {
         "anchor": "y",
         "domain": [
          0,
          1
         ],
         "title": {
          "text": "Number of neutrons (N)"
         }
        },
        "yaxis": {
         "anchor": "x",
         "domain": [
          0,
          1
         ],
         "title": {
          "text": "Number of protons (Z)"
         }
        }
       }
      }
     },
     "metadata": {},
     "output_type": "display_data"
    }
   ],
   "source": [
    "df_to_plot = merged\n",
    "\n",
    "fig = px.scatter(df_to_plot.groupby(by=df_to_plot.index).head(1).reset_index(), \n",
    "          # x='a', \n",
    "          x='n',\n",
    "          y='z', \n",
    "          color='r2',\n",
    "          title='R² Values for All Oscillator Fits',\n",
    "          # labels={'z': 'Number of protons (Z)', 'a': 'Weight (A)', 'r2': 'R² Score'},\n",
    "          labels={'z': 'Number of protons (Z)', 'n': 'Number of neutrons (N)', 'r2': 'R² Score'},\n",
    "          color_continuous_scale=[(0, 'red'), (0.8, 'white'), (1, 'blue')],\n",
    "          height=600)\n",
    "\n",
    "\n",
    "magic_numbers_n = [2, 8, 20, 50, 58, 82, 126]\n",
    "magic_numbers_z = [2, 8, 20, 50, 58, 82]\n",
    "\n",
    "for i, m in enumerate(magic_numbers_n):\n",
    "    fig.add_vline(x=m, line_dash=\"dash\", line_color=\"gray\", name=\"Magic numbers\" if i==0 else None)\n",
    "\n",
    "for i, m in enumerate(magic_numbers_z):\n",
    "    fig.add_hline(y=m, line_dash=\"dash\", line_color=\"gray\")\n",
    "\n",
    "fig.show()"
   ]
  },
  {
   "cell_type": "code",
   "execution_count": 29,
   "metadata": {},
   "outputs": [
    {
     "data": {
      "text/html": [
       "<div>\n",
       "<style scoped>\n",
       "    .dataframe tbody tr th:only-of-type {\n",
       "        vertical-align: middle;\n",
       "    }\n",
       "\n",
       "    .dataframe tbody tr th {\n",
       "        vertical-align: top;\n",
       "    }\n",
       "\n",
       "    .dataframe thead th {\n",
       "        text-align: right;\n",
       "    }\n",
       "</style>\n",
       "<table border=\"1\" class=\"dataframe\">\n",
       "  <thead>\n",
       "    <tr style=\"text-align: right;\">\n",
       "      <th></th>\n",
       "      <th></th>\n",
       "      <th>symbol</th>\n",
       "      <th>n</th>\n",
       "      <th>idx</th>\n",
       "      <th>energy</th>\n",
       "      <th>jp</th>\n",
       "      <th>jp_order</th>\n",
       "      <th>beta</th>\n",
       "      <th>j</th>\n",
       "      <th>p</th>\n",
       "      <th>j_float</th>\n",
       "      <th>j_evenness</th>\n",
       "      <th>p_bit</th>\n",
       "      <th>quanta</th>\n",
       "      <th>energy_quantum</th>\n",
       "      <th>r2</th>\n",
       "      <th>energy_pred</th>\n",
       "    </tr>\n",
       "    <tr>\n",
       "      <th>z</th>\n",
       "      <th>a</th>\n",
       "      <th></th>\n",
       "      <th></th>\n",
       "      <th></th>\n",
       "      <th></th>\n",
       "      <th></th>\n",
       "      <th></th>\n",
       "      <th></th>\n",
       "      <th></th>\n",
       "      <th></th>\n",
       "      <th></th>\n",
       "      <th></th>\n",
       "      <th></th>\n",
       "      <th></th>\n",
       "      <th></th>\n",
       "      <th></th>\n",
       "      <th></th>\n",
       "    </tr>\n",
       "  </thead>\n",
       "  <tbody>\n",
       "    <tr>\n",
       "      <th rowspan=\"6\" valign=\"top\">24</th>\n",
       "      <th>52</th>\n",
       "      <td>Cr</td>\n",
       "      <td>28</td>\n",
       "      <td>0</td>\n",
       "      <td>0.0</td>\n",
       "      <td>0+</td>\n",
       "      <td>1</td>\n",
       "      <td>0.076923</td>\n",
       "      <td>0</td>\n",
       "      <td>+</td>\n",
       "      <td>0.0</td>\n",
       "      <td>True</td>\n",
       "      <td>0</td>\n",
       "      <td>0</td>\n",
       "      <td>0.068003</td>\n",
       "      <td>0.932256</td>\n",
       "      <td>0.000000</td>\n",
       "    </tr>\n",
       "    <tr>\n",
       "      <th>52</th>\n",
       "      <td>Cr</td>\n",
       "      <td>28</td>\n",
       "      <td>1</td>\n",
       "      <td>1.434091</td>\n",
       "      <td>2+</td>\n",
       "      <td>1</td>\n",
       "      <td>0.076923</td>\n",
       "      <td>2</td>\n",
       "      <td>+</td>\n",
       "      <td>2.0</td>\n",
       "      <td>True</td>\n",
       "      <td>0</td>\n",
       "      <td>1</td>\n",
       "      <td>0.068003</td>\n",
       "      <td>0.932256</td>\n",
       "      <td>0.408018</td>\n",
       "    </tr>\n",
       "    <tr>\n",
       "      <th>52</th>\n",
       "      <td>Cr</td>\n",
       "      <td>28</td>\n",
       "      <td>2</td>\n",
       "      <td>2.36963</td>\n",
       "      <td>4+</td>\n",
       "      <td>1</td>\n",
       "      <td>0.076923</td>\n",
       "      <td>4</td>\n",
       "      <td>+</td>\n",
       "      <td>4.0</td>\n",
       "      <td>True</td>\n",
       "      <td>0</td>\n",
       "      <td>2</td>\n",
       "      <td>0.068003</td>\n",
       "      <td>0.932256</td>\n",
       "      <td>1.360060</td>\n",
       "    </tr>\n",
       "    <tr>\n",
       "      <th>52</th>\n",
       "      <td>Cr</td>\n",
       "      <td>28</td>\n",
       "      <td>6</td>\n",
       "      <td>3.113858</td>\n",
       "      <td>6+</td>\n",
       "      <td>1</td>\n",
       "      <td>0.076923</td>\n",
       "      <td>6</td>\n",
       "      <td>+</td>\n",
       "      <td>6.0</td>\n",
       "      <td>True</td>\n",
       "      <td>0</td>\n",
       "      <td>3</td>\n",
       "      <td>0.068003</td>\n",
       "      <td>0.932256</td>\n",
       "      <td>2.856126</td>\n",
       "    </tr>\n",
       "    <tr>\n",
       "      <th>52</th>\n",
       "      <td>Cr</td>\n",
       "      <td>28</td>\n",
       "      <td>26</td>\n",
       "      <td>4.75031</td>\n",
       "      <td>8+</td>\n",
       "      <td>1</td>\n",
       "      <td>0.076923</td>\n",
       "      <td>8</td>\n",
       "      <td>+</td>\n",
       "      <td>8.0</td>\n",
       "      <td>True</td>\n",
       "      <td>0</td>\n",
       "      <td>4</td>\n",
       "      <td>0.068003</td>\n",
       "      <td>0.932256</td>\n",
       "      <td>4.896216</td>\n",
       "    </tr>\n",
       "    <tr>\n",
       "      <th>52</th>\n",
       "      <td>Cr</td>\n",
       "      <td>28</td>\n",
       "      <td>125</td>\n",
       "      <td>7.2379</td>\n",
       "      <td>10+</td>\n",
       "      <td>1</td>\n",
       "      <td>0.076923</td>\n",
       "      <td>10</td>\n",
       "      <td>+</td>\n",
       "      <td>10.0</td>\n",
       "      <td>True</td>\n",
       "      <td>0</td>\n",
       "      <td>5</td>\n",
       "      <td>0.068003</td>\n",
       "      <td>0.932256</td>\n",
       "      <td>7.480330</td>\n",
       "    </tr>\n",
       "  </tbody>\n",
       "</table>\n",
       "</div>"
      ],
      "text/plain": [
       "      symbol   n  idx    energy   jp  jp_order      beta   j  p  j_float  \\\n",
       "z  a                                                                       \n",
       "24 52     Cr  28    0       0.0   0+         1  0.076923   0  +      0.0   \n",
       "   52     Cr  28    1  1.434091   2+         1  0.076923   2  +      2.0   \n",
       "   52     Cr  28    2   2.36963   4+         1  0.076923   4  +      4.0   \n",
       "   52     Cr  28    6  3.113858   6+         1  0.076923   6  +      6.0   \n",
       "   52     Cr  28   26   4.75031   8+         1  0.076923   8  +      8.0   \n",
       "   52     Cr  28  125    7.2379  10+         1  0.076923  10  +     10.0   \n",
       "\n",
       "       j_evenness  p_bit  quanta  energy_quantum        r2  energy_pred  \n",
       "z  a                                                                     \n",
       "24 52        True      0       0        0.068003  0.932256     0.000000  \n",
       "   52        True      0       1        0.068003  0.932256     0.408018  \n",
       "   52        True      0       2        0.068003  0.932256     1.360060  \n",
       "   52        True      0       3        0.068003  0.932256     2.856126  \n",
       "   52        True      0       4        0.068003  0.932256     4.896216  \n",
       "   52        True      0       5        0.068003  0.932256     7.480330  "
      ]
     },
     "execution_count": 29,
     "metadata": {},
     "output_type": "execute_result"
    }
   ],
   "source": [
    "merged.loc[24,52]"
   ]
  },
  {
   "cell_type": "code",
   "execution_count": 30,
   "metadata": {},
   "outputs": [
    {
     "data": {
      "application/vnd.plotly.v1+json": {
       "config": {
        "plotlyServerURL": "https://plot.ly"
       },
       "data": [
        {
         "hovertemplate": "Quanta of oscillation=%{x}<br>Residuals=%{y}<extra></extra>",
         "legendgroup": "",
         "marker": {
          "color": "#636efa",
          "symbol": "circle"
         },
         "mode": "markers",
         "name": "",
         "orientation": "v",
         "showlegend": false,
         "type": "scatter",
         "x": [
          0,
          1,
          2,
          3,
          4,
          5
         ],
         "xaxis": "x",
         "y": [
          0,
          1.026072984614948,
          1.0095699487164929,
          0.2577318923046352,
          -0.14590618462062466,
          -0.24243028205928852
         ],
         "yaxis": "y"
        }
       ],
       "layout": {
        "legend": {
         "tracegroupgap": 0
        },
        "template": {
         "data": {
          "bar": [
           {
            "error_x": {
             "color": "#2a3f5f"
            },
            "error_y": {
             "color": "#2a3f5f"
            },
            "marker": {
             "line": {
              "color": "#E5ECF6",
              "width": 0.5
             },
             "pattern": {
              "fillmode": "overlay",
              "size": 10,
              "solidity": 0.2
             }
            },
            "type": "bar"
           }
          ],
          "barpolar": [
           {
            "marker": {
             "line": {
              "color": "#E5ECF6",
              "width": 0.5
             },
             "pattern": {
              "fillmode": "overlay",
              "size": 10,
              "solidity": 0.2
             }
            },
            "type": "barpolar"
           }
          ],
          "carpet": [
           {
            "aaxis": {
             "endlinecolor": "#2a3f5f",
             "gridcolor": "white",
             "linecolor": "white",
             "minorgridcolor": "white",
             "startlinecolor": "#2a3f5f"
            },
            "baxis": {
             "endlinecolor": "#2a3f5f",
             "gridcolor": "white",
             "linecolor": "white",
             "minorgridcolor": "white",
             "startlinecolor": "#2a3f5f"
            },
            "type": "carpet"
           }
          ],
          "choropleth": [
           {
            "colorbar": {
             "outlinewidth": 0,
             "ticks": ""
            },
            "type": "choropleth"
           }
          ],
          "contour": [
           {
            "colorbar": {
             "outlinewidth": 0,
             "ticks": ""
            },
            "colorscale": [
             [
              0,
              "#0d0887"
             ],
             [
              0.1111111111111111,
              "#46039f"
             ],
             [
              0.2222222222222222,
              "#7201a8"
             ],
             [
              0.3333333333333333,
              "#9c179e"
             ],
             [
              0.4444444444444444,
              "#bd3786"
             ],
             [
              0.5555555555555556,
              "#d8576b"
             ],
             [
              0.6666666666666666,
              "#ed7953"
             ],
             [
              0.7777777777777778,
              "#fb9f3a"
             ],
             [
              0.8888888888888888,
              "#fdca26"
             ],
             [
              1,
              "#f0f921"
             ]
            ],
            "type": "contour"
           }
          ],
          "contourcarpet": [
           {
            "colorbar": {
             "outlinewidth": 0,
             "ticks": ""
            },
            "type": "contourcarpet"
           }
          ],
          "heatmap": [
           {
            "colorbar": {
             "outlinewidth": 0,
             "ticks": ""
            },
            "colorscale": [
             [
              0,
              "#0d0887"
             ],
             [
              0.1111111111111111,
              "#46039f"
             ],
             [
              0.2222222222222222,
              "#7201a8"
             ],
             [
              0.3333333333333333,
              "#9c179e"
             ],
             [
              0.4444444444444444,
              "#bd3786"
             ],
             [
              0.5555555555555556,
              "#d8576b"
             ],
             [
              0.6666666666666666,
              "#ed7953"
             ],
             [
              0.7777777777777778,
              "#fb9f3a"
             ],
             [
              0.8888888888888888,
              "#fdca26"
             ],
             [
              1,
              "#f0f921"
             ]
            ],
            "type": "heatmap"
           }
          ],
          "heatmapgl": [
           {
            "colorbar": {
             "outlinewidth": 0,
             "ticks": ""
            },
            "colorscale": [
             [
              0,
              "#0d0887"
             ],
             [
              0.1111111111111111,
              "#46039f"
             ],
             [
              0.2222222222222222,
              "#7201a8"
             ],
             [
              0.3333333333333333,
              "#9c179e"
             ],
             [
              0.4444444444444444,
              "#bd3786"
             ],
             [
              0.5555555555555556,
              "#d8576b"
             ],
             [
              0.6666666666666666,
              "#ed7953"
             ],
             [
              0.7777777777777778,
              "#fb9f3a"
             ],
             [
              0.8888888888888888,
              "#fdca26"
             ],
             [
              1,
              "#f0f921"
             ]
            ],
            "type": "heatmapgl"
           }
          ],
          "histogram": [
           {
            "marker": {
             "pattern": {
              "fillmode": "overlay",
              "size": 10,
              "solidity": 0.2
             }
            },
            "type": "histogram"
           }
          ],
          "histogram2d": [
           {
            "colorbar": {
             "outlinewidth": 0,
             "ticks": ""
            },
            "colorscale": [
             [
              0,
              "#0d0887"
             ],
             [
              0.1111111111111111,
              "#46039f"
             ],
             [
              0.2222222222222222,
              "#7201a8"
             ],
             [
              0.3333333333333333,
              "#9c179e"
             ],
             [
              0.4444444444444444,
              "#bd3786"
             ],
             [
              0.5555555555555556,
              "#d8576b"
             ],
             [
              0.6666666666666666,
              "#ed7953"
             ],
             [
              0.7777777777777778,
              "#fb9f3a"
             ],
             [
              0.8888888888888888,
              "#fdca26"
             ],
             [
              1,
              "#f0f921"
             ]
            ],
            "type": "histogram2d"
           }
          ],
          "histogram2dcontour": [
           {
            "colorbar": {
             "outlinewidth": 0,
             "ticks": ""
            },
            "colorscale": [
             [
              0,
              "#0d0887"
             ],
             [
              0.1111111111111111,
              "#46039f"
             ],
             [
              0.2222222222222222,
              "#7201a8"
             ],
             [
              0.3333333333333333,
              "#9c179e"
             ],
             [
              0.4444444444444444,
              "#bd3786"
             ],
             [
              0.5555555555555556,
              "#d8576b"
             ],
             [
              0.6666666666666666,
              "#ed7953"
             ],
             [
              0.7777777777777778,
              "#fb9f3a"
             ],
             [
              0.8888888888888888,
              "#fdca26"
             ],
             [
              1,
              "#f0f921"
             ]
            ],
            "type": "histogram2dcontour"
           }
          ],
          "mesh3d": [
           {
            "colorbar": {
             "outlinewidth": 0,
             "ticks": ""
            },
            "type": "mesh3d"
           }
          ],
          "parcoords": [
           {
            "line": {
             "colorbar": {
              "outlinewidth": 0,
              "ticks": ""
             }
            },
            "type": "parcoords"
           }
          ],
          "pie": [
           {
            "automargin": true,
            "type": "pie"
           }
          ],
          "scatter": [
           {
            "fillpattern": {
             "fillmode": "overlay",
             "size": 10,
             "solidity": 0.2
            },
            "type": "scatter"
           }
          ],
          "scatter3d": [
           {
            "line": {
             "colorbar": {
              "outlinewidth": 0,
              "ticks": ""
             }
            },
            "marker": {
             "colorbar": {
              "outlinewidth": 0,
              "ticks": ""
             }
            },
            "type": "scatter3d"
           }
          ],
          "scattercarpet": [
           {
            "marker": {
             "colorbar": {
              "outlinewidth": 0,
              "ticks": ""
             }
            },
            "type": "scattercarpet"
           }
          ],
          "scattergeo": [
           {
            "marker": {
             "colorbar": {
              "outlinewidth": 0,
              "ticks": ""
             }
            },
            "type": "scattergeo"
           }
          ],
          "scattergl": [
           {
            "marker": {
             "colorbar": {
              "outlinewidth": 0,
              "ticks": ""
             }
            },
            "type": "scattergl"
           }
          ],
          "scattermapbox": [
           {
            "marker": {
             "colorbar": {
              "outlinewidth": 0,
              "ticks": ""
             }
            },
            "type": "scattermapbox"
           }
          ],
          "scatterpolar": [
           {
            "marker": {
             "colorbar": {
              "outlinewidth": 0,
              "ticks": ""
             }
            },
            "type": "scatterpolar"
           }
          ],
          "scatterpolargl": [
           {
            "marker": {
             "colorbar": {
              "outlinewidth": 0,
              "ticks": ""
             }
            },
            "type": "scatterpolargl"
           }
          ],
          "scatterternary": [
           {
            "marker": {
             "colorbar": {
              "outlinewidth": 0,
              "ticks": ""
             }
            },
            "type": "scatterternary"
           }
          ],
          "surface": [
           {
            "colorbar": {
             "outlinewidth": 0,
             "ticks": ""
            },
            "colorscale": [
             [
              0,
              "#0d0887"
             ],
             [
              0.1111111111111111,
              "#46039f"
             ],
             [
              0.2222222222222222,
              "#7201a8"
             ],
             [
              0.3333333333333333,
              "#9c179e"
             ],
             [
              0.4444444444444444,
              "#bd3786"
             ],
             [
              0.5555555555555556,
              "#d8576b"
             ],
             [
              0.6666666666666666,
              "#ed7953"
             ],
             [
              0.7777777777777778,
              "#fb9f3a"
             ],
             [
              0.8888888888888888,
              "#fdca26"
             ],
             [
              1,
              "#f0f921"
             ]
            ],
            "type": "surface"
           }
          ],
          "table": [
           {
            "cells": {
             "fill": {
              "color": "#EBF0F8"
             },
             "line": {
              "color": "white"
             }
            },
            "header": {
             "fill": {
              "color": "#C8D4E3"
             },
             "line": {
              "color": "white"
             }
            },
            "type": "table"
           }
          ]
         },
         "layout": {
          "annotationdefaults": {
           "arrowcolor": "#2a3f5f",
           "arrowhead": 0,
           "arrowwidth": 1
          },
          "autotypenumbers": "strict",
          "coloraxis": {
           "colorbar": {
            "outlinewidth": 0,
            "ticks": ""
           }
          },
          "colorscale": {
           "diverging": [
            [
             0,
             "#8e0152"
            ],
            [
             0.1,
             "#c51b7d"
            ],
            [
             0.2,
             "#de77ae"
            ],
            [
             0.3,
             "#f1b6da"
            ],
            [
             0.4,
             "#fde0ef"
            ],
            [
             0.5,
             "#f7f7f7"
            ],
            [
             0.6,
             "#e6f5d0"
            ],
            [
             0.7,
             "#b8e186"
            ],
            [
             0.8,
             "#7fbc41"
            ],
            [
             0.9,
             "#4d9221"
            ],
            [
             1,
             "#276419"
            ]
           ],
           "sequential": [
            [
             0,
             "#0d0887"
            ],
            [
             0.1111111111111111,
             "#46039f"
            ],
            [
             0.2222222222222222,
             "#7201a8"
            ],
            [
             0.3333333333333333,
             "#9c179e"
            ],
            [
             0.4444444444444444,
             "#bd3786"
            ],
            [
             0.5555555555555556,
             "#d8576b"
            ],
            [
             0.6666666666666666,
             "#ed7953"
            ],
            [
             0.7777777777777778,
             "#fb9f3a"
            ],
            [
             0.8888888888888888,
             "#fdca26"
            ],
            [
             1,
             "#f0f921"
            ]
           ],
           "sequentialminus": [
            [
             0,
             "#0d0887"
            ],
            [
             0.1111111111111111,
             "#46039f"
            ],
            [
             0.2222222222222222,
             "#7201a8"
            ],
            [
             0.3333333333333333,
             "#9c179e"
            ],
            [
             0.4444444444444444,
             "#bd3786"
            ],
            [
             0.5555555555555556,
             "#d8576b"
            ],
            [
             0.6666666666666666,
             "#ed7953"
            ],
            [
             0.7777777777777778,
             "#fb9f3a"
            ],
            [
             0.8888888888888888,
             "#fdca26"
            ],
            [
             1,
             "#f0f921"
            ]
           ]
          },
          "colorway": [
           "#636efa",
           "#EF553B",
           "#00cc96",
           "#ab63fa",
           "#FFA15A",
           "#19d3f3",
           "#FF6692",
           "#B6E880",
           "#FF97FF",
           "#FECB52"
          ],
          "font": {
           "color": "#2a3f5f"
          },
          "geo": {
           "bgcolor": "white",
           "lakecolor": "white",
           "landcolor": "#E5ECF6",
           "showlakes": true,
           "showland": true,
           "subunitcolor": "white"
          },
          "hoverlabel": {
           "align": "left"
          },
          "hovermode": "closest",
          "mapbox": {
           "style": "light"
          },
          "paper_bgcolor": "white",
          "plot_bgcolor": "#E5ECF6",
          "polar": {
           "angularaxis": {
            "gridcolor": "white",
            "linecolor": "white",
            "ticks": ""
           },
           "bgcolor": "#E5ECF6",
           "radialaxis": {
            "gridcolor": "white",
            "linecolor": "white",
            "ticks": ""
           }
          },
          "scene": {
           "xaxis": {
            "backgroundcolor": "#E5ECF6",
            "gridcolor": "white",
            "gridwidth": 2,
            "linecolor": "white",
            "showbackground": true,
            "ticks": "",
            "zerolinecolor": "white"
           },
           "yaxis": {
            "backgroundcolor": "#E5ECF6",
            "gridcolor": "white",
            "gridwidth": 2,
            "linecolor": "white",
            "showbackground": true,
            "ticks": "",
            "zerolinecolor": "white"
           },
           "zaxis": {
            "backgroundcolor": "#E5ECF6",
            "gridcolor": "white",
            "gridwidth": 2,
            "linecolor": "white",
            "showbackground": true,
            "ticks": "",
            "zerolinecolor": "white"
           }
          },
          "shapedefaults": {
           "line": {
            "color": "#2a3f5f"
           }
          },
          "ternary": {
           "aaxis": {
            "gridcolor": "white",
            "linecolor": "white",
            "ticks": ""
           },
           "baxis": {
            "gridcolor": "white",
            "linecolor": "white",
            "ticks": ""
           },
           "bgcolor": "#E5ECF6",
           "caxis": {
            "gridcolor": "white",
            "linecolor": "white",
            "ticks": ""
           }
          },
          "title": {
           "x": 0.05
          },
          "xaxis": {
           "automargin": true,
           "gridcolor": "white",
           "linecolor": "white",
           "ticks": "",
           "title": {
            "standoff": 15
           },
           "zerolinecolor": "white",
           "zerolinewidth": 2
          },
          "yaxis": {
           "automargin": true,
           "gridcolor": "white",
           "linecolor": "white",
           "ticks": "",
           "title": {
            "standoff": 15
           },
           "zerolinecolor": "white",
           "zerolinewidth": 2
          }
         }
        },
        "title": {
         "text": "Residuals for 52Cr"
        },
        "xaxis": {
         "anchor": "y",
         "domain": [
          0,
          1
         ],
         "title": {
          "text": "Quanta of oscillation"
         }
        },
        "yaxis": {
         "anchor": "x",
         "domain": [
          0,
          1
         ],
         "title": {
          "text": "Residuals"
         }
        }
       }
      }
     },
     "metadata": {},
     "output_type": "display_data"
    }
   ],
   "source": [
    "test_nucleus = merged.loc[24,52]\n",
    "a = test_nucleus.index[0][1]\n",
    "symbol = test_nucleus.iloc[0]['symbol']\n",
    "\n",
    "px.scatter(x=test_nucleus['quanta'], \n",
    "            y=test_nucleus['energy']-test_nucleus['energy_pred'],\n",
    "            title=f'Residuals for {a}{symbol}',\n",
    "            labels={'x': 'Quanta of oscillation', 'y': 'Residuals'})"
   ]
  },
  {
   "cell_type": "code",
   "execution_count": 31,
   "metadata": {},
   "outputs": [
    {
     "data": {
      "application/vnd.plotly.v1+json": {
       "config": {
        "plotlyServerURL": "https://plot.ly"
       },
       "data": [
        {
         "hovertemplate": "name=12C<br>quanta=%{x}<br>residuals=%{y}<extra></extra>",
         "legendgroup": "",
         "marker": {
          "color": "#636efa",
          "symbol": "circle"
         },
         "mode": "markers",
         "name": "",
         "orientation": "v",
         "showlegend": false,
         "type": "scatter",
         "x": [
          0,
          1,
          2
         ],
         "xaxis": "x17",
         "y": [
          0,
          0.4126788990868713,
          -0.12380366971042633
         ],
         "yaxis": "y17"
        },
        {
         "hovertemplate": "name=24Mg<br>quanta=%{x}<br>residuals=%{y}<extra></extra>",
         "legendgroup": "",
         "marker": {
          "color": "#636efa",
          "symbol": "circle"
         },
         "mode": "markers",
         "name": "",
         "orientation": "v",
         "showlegend": false,
         "type": "scatter",
         "x": [
          0,
          1,
          2,
          3,
          4
         ],
         "xaxis": "x18",
         "y": [
          0,
          0.19026223672124543,
          0.1948371224041514,
          -0.13563334295128193,
          0.009142840654945417
         ],
         "yaxis": "y18"
        },
        {
         "hovertemplate": "name=26Mg<br>quanta=%{x}<br>residuals=%{y}<extra></extra>",
         "legendgroup": "",
         "marker": {
          "color": "#636efa",
          "symbol": "circle"
         },
         "mode": "markers",
         "name": "",
         "orientation": "v",
         "showlegend": false,
         "type": "scatter",
         "x": [
          0,
          1,
          2,
          3
         ],
         "xaxis": "x19",
         "y": [
          0,
          0.4999200727375055,
          -0.04384309087498117,
          -0.0505394908374619
         ],
         "yaxis": "y19"
        },
        {
         "hovertemplate": "name=28Si<br>quanta=%{x}<br>residuals=%{y}<extra></extra>",
         "legendgroup": "",
         "marker": {
          "color": "#636efa",
          "symbol": "circle"
         },
         "mode": "markers",
         "name": "",
         "orientation": "v",
         "showlegend": false,
         "type": "scatter",
         "x": [
          0,
          1,
          2,
          3,
          4
         ],
         "xaxis": "x20",
         "y": [
          0,
          0.5470498537305457,
          0.511259512435152,
          -0.08030102388617877,
          -0.14076175523344858
         ],
         "yaxis": "y20"
        },
        {
         "hovertemplate": "name=154Sm<br>quanta=%{x}<br>residuals=%{y}<extra></extra>",
         "legendgroup": "",
         "marker": {
          "color": "#636efa",
          "symbol": "circle"
         },
         "mode": "markers",
         "name": "",
         "orientation": "v",
         "showlegend": false,
         "type": "scatter",
         "x": [
          0,
          1,
          2,
          3,
          4,
          5,
          6,
          7,
          8,
          9,
          10,
          11
         ],
         "xaxis": "x21",
         "y": [
          0,
          0.01944637718501721,
          0.058368257283390734,
          0.10635764029512051,
          0.1523345262202066,
          0.18653191505864886,
          0.1999998068104476,
          0.18428820147560288,
          0.13329709905411358,
          0.04482649954598106,
          -0.08172359704879462,
          -0.24585319073021505
         ],
         "yaxis": "y21"
        },
        {
         "hovertemplate": "name=158Gd<br>quanta=%{x}<br>residuals=%{y}<extra></extra>",
         "legendgroup": "",
         "marker": {
          "color": "#636efa",
          "symbol": "circle"
         },
         "mode": "markers",
         "name": "",
         "orientation": "v",
         "showlegend": false,
         "type": "scatter",
         "x": [
          0,
          1,
          2,
          3,
          4,
          5,
          6
         ],
         "xaxis": "x22",
         "y": [
          0,
          0.006557639598566742,
          0.018269131995222482,
          0.028325377189967194,
          0.028640075182800873,
          0.0119612259737234,
          -0.031873170437264786
         ],
         "yaxis": "y22"
        },
        {
         "hovertemplate": "name=160Gd<br>quanta=%{x}<br>residuals=%{y}<extra></extra>",
         "legendgroup": "",
         "marker": {
          "color": "#636efa",
          "symbol": "circle"
         },
         "mode": "markers",
         "name": "",
         "orientation": "v",
         "showlegend": false,
         "type": "scatter",
         "x": [
          0,
          1,
          2,
          3,
          4,
          5,
          6,
          7,
          8
         ],
         "xaxis": "x23",
         "y": [
          0,
          0.0073587738789343965,
          0.022154579596447954,
          0.03948041715254069,
          0.05374928654721267,
          0.056389187780463645,
          0.04139012085229421,
          0.0012520857627031923,
          -0.06962491748830812
         ],
         "yaxis": "y23"
        },
        {
         "hovertemplate": "name=164Dy<br>quanta=%{x}<br>residuals=%{y}<extra></extra>",
         "legendgroup": "",
         "marker": {
          "color": "#636efa",
          "symbol": "circle"
         },
         "mode": "markers",
         "name": "",
         "orientation": "v",
         "showlegend": false,
         "type": "scatter",
         "x": [
          0,
          1,
          2,
          3,
          4,
          5,
          6,
          7
         ],
         "xaxis": "x24",
         "y": [
          0,
          0.00656782133756692,
          0.019483404458556425,
          0.0335537493629684,
          0.041757856050803066,
          0.03615172452206017,
          0.008445354776740022,
          -0.048281253185157524
         ],
         "yaxis": "y24"
        },
        {
         "hovertemplate": "name=166Er<br>quanta=%{x}<br>residuals=%{y}<extra></extra>",
         "legendgroup": "",
         "marker": {
          "color": "#636efa",
          "symbol": "circle"
         },
         "mode": "markers",
         "name": "",
         "orientation": "v",
         "showlegend": false,
         "type": "scatter",
         "x": [
          0,
          1,
          2,
          3,
          4,
          5,
          6,
          7
         ],
         "xaxis": "x9",
         "y": [
          0,
          0.010111340486088832,
          0.03010246828696278,
          0.052190183402621826,
          0.06561288583306601,
          0.05764857557829517,
          0.014407252638309664,
          -0.07698908298689089
         ],
         "yaxis": "y9"
        },
        {
         "hovertemplate": "name=168Er<br>quanta=%{x}<br>residuals=%{y}<extra></extra>",
         "legendgroup": "",
         "marker": {
          "color": "#636efa",
          "symbol": "circle"
         },
         "mode": "markers",
         "name": "",
         "orientation": "v",
         "showlegend": false,
         "type": "scatter",
         "x": [
          0,
          1,
          2,
          3,
          4,
          5,
          6,
          7,
          8
         ],
         "xaxis": "x10",
         "y": [
          0,
          0.006436135973933277,
          0.01952925324644425,
          0.035171951817532854,
          0.04788853168719931,
          0.05174849285544347,
          0.039735535322265036,
          0.004024759087664975,
          -0.06650983584835801
         ],
         "yaxis": "y10"
        },
        {
         "hovertemplate": "name=170Er<br>quanta=%{x}<br>residuals=%{y}<extra></extra>",
         "legendgroup": "",
         "marker": {
          "color": "#636efa",
          "symbol": "circle"
         },
         "mode": "markers",
         "name": "",
         "orientation": "v",
         "showlegend": false,
         "type": "scatter",
         "x": [
          0,
          1,
          2,
          3,
          4,
          6,
          7,
          8,
          9,
          10,
          11,
          12,
          13
         ],
         "xaxis": "x11",
         "y": [
          0,
          0.011765301403140985,
          0.037391004677136574,
          0.07290710982198678,
          0.11307361683769179,
          0.18115783648166528,
          0.19833554910993412,
          0.19631366360905744,
          0.16939217997903588,
          0.10937109821986901,
          0.03925041833155607,
          -0.09586985968590156,
          -0.28708973583250597
         ],
         "yaxis": "y11"
        },
        {
         "hovertemplate": "name=168Yb<br>quanta=%{x}<br>residuals=%{y}<extra></extra>",
         "legendgroup": "",
         "marker": {
          "color": "#636efa",
          "symbol": "circle"
         },
         "mode": "markers",
         "name": "",
         "orientation": "v",
         "showlegend": false,
         "type": "scatter",
         "x": [
          0,
          1,
          2,
          3,
          4,
          5,
          6,
          7,
          8,
          9,
          10,
          11,
          12,
          13,
          14,
          15,
          16,
          17,
          18
         ],
         "xaxis": "x12",
         "y": [
          0,
          0.03265944785935507,
          0.10298249286451688,
          0.1997561350154855,
          0.30918337431226073,
          0.41582321075484296,
          0.5041656443432316,
          0.5610306750774274,
          0.5765683029574293,
          0.5478785279832388,
          0.48196135015485453,
          0.3926167694722764,
          0.29034478593550617,
          0.1806453995445425,
          0.06401861029938516,
          -0.06073558179996397,
          -0.19641717675350812,
          -0.34732617456124615,
          -0.5226625752231762
         ],
         "yaxis": "y12"
        },
        {
         "hovertemplate": "name=172Yb<br>quanta=%{x}<br>residuals=%{y}<extra></extra>",
         "legendgroup": "",
         "marker": {
          "color": "#636efa",
          "symbol": "circle"
         },
         "mode": "markers",
         "name": "",
         "orientation": "v",
         "showlegend": false,
         "type": "scatter",
         "x": [
          0,
          1,
          2,
          3,
          4,
          5
         ],
         "xaxis": "x13",
         "y": [
          0,
          0.0033771107499364628,
          0.00904936916645488,
          0.012417875249555177,
          0.007732928999237609,
          -0.011632469584498262
         ],
         "yaxis": "y13"
        },
        {
         "hovertemplate": "name=174Yb<br>quanta=%{x}<br>residuals=%{y}<extra></extra>",
         "legendgroup": "",
         "marker": {
          "color": "#636efa",
          "symbol": "circle"
         },
         "mode": "markers",
         "name": "",
         "orientation": "v",
         "showlegend": false,
         "type": "scatter",
         "x": [
          0,
          1,
          2,
          3,
          4,
          5
         ],
         "xaxis": "x14",
         "y": [
          0,
          0.0029800677608216447,
          0.008147225869405472,
          0.011597474325751533,
          0.008038813129859768,
          -0.011333757718269721
         ],
         "yaxis": "y14"
        },
        {
         "hovertemplate": "name=176Yb<br>quanta=%{x}<br>residuals=%{y}<extra></extra>",
         "legendgroup": "",
         "marker": {
          "color": "#636efa",
          "symbol": "circle"
         },
         "mode": "markers",
         "name": "",
         "orientation": "v",
         "showlegend": false,
         "type": "scatter",
         "x": [
          0,
          1,
          2,
          3,
          4
         ],
         "xaxis": "x15",
         "y": [
          0,
          0.0022436592622537416,
          0.005545530874179139,
          0.005260614835776112,
          -0.004796088852955238
         ],
         "yaxis": "y15"
        },
        {
         "hovertemplate": "name=176Hf<br>quanta=%{x}<br>residuals=%{y}<extra></extra>",
         "legendgroup": "",
         "marker": {
          "color": "#636efa",
          "symbol": "circle"
         },
         "mode": "markers",
         "name": "",
         "orientation": "v",
         "showlegend": false,
         "type": "scatter",
         "x": [
          0,
          1,
          2,
          3,
          4,
          5,
          8,
          9,
          10
         ],
         "xaxis": "x16",
         "y": [
          0,
          0.020507231586335703,
          0.06404077195445235,
          0.12192762110434996,
          0.18362877903602848,
          0.237294245749488,
          0.190706498580552,
          -0.019580799578864827,
          -0.21672378895650102
         ],
         "yaxis": "y16"
        },
        {
         "hovertemplate": "name=180Hf<br>quanta=%{x}<br>residuals=%{y}<extra></extra>",
         "legendgroup": "",
         "marker": {
          "color": "#636efa",
          "symbol": "circle"
         },
         "mode": "markers",
         "name": "",
         "orientation": "v",
         "showlegend": false,
         "type": "scatter",
         "x": [
          0,
          1,
          2,
          3,
          4,
          5,
          6,
          7,
          8,
          9,
          10
         ],
         "xaxis": "x",
         "y": [
          0,
          0.010978308850779592,
          0.034090362835931975,
          0.06442916195545711,
          0.09585770620935508,
          0.12132899559762578,
          0.1333120301202695,
          0.12330080977728608,
          0.08049533456867453,
          -0.011704395505563348,
          -0.21019838044542816
         ],
         "yaxis": "y"
        },
        {
         "hovertemplate": "name=182W<br>quanta=%{x}<br>residuals=%{y}<extra></extra>",
         "legendgroup": "",
         "marker": {
          "color": "#636efa",
          "symbol": "circle"
         },
         "mode": "markers",
         "name": "",
         "orientation": "v",
         "showlegend": false,
         "type": "scatter",
         "x": [
          0,
          1,
          2,
          3,
          4,
          5,
          6,
          7,
          8,
          9,
          10
         ],
         "xaxis": "x2",
         "y": [
          0,
          0.017365942691417294,
          0.053626675638057675,
          0.10123973883992099,
          0.15143955229700756,
          0.195089316009317,
          0.2213490299768499,
          0.2169886941996051,
          0.1592083086775844,
          -0.025292126589213204,
          -0.3632026116007889
         ],
         "yaxis": "y2"
        },
        {
         "hovertemplate": "name=184W<br>quanta=%{x}<br>residuals=%{y}<extra></extra>",
         "legendgroup": "",
         "marker": {
          "color": "#636efa",
          "symbol": "circle"
         },
         "mode": "markers",
         "name": "",
         "orientation": "v",
         "showlegend": false,
         "type": "scatter",
         "x": [
          0,
          1,
          2,
          3,
          4,
          5,
          6,
          7,
          8
         ],
         "xaxis": "x3",
         "y": [
          0,
          0.01671353385515814,
          0.04905611285052719,
          0.08679293698610713,
          0.11815360626189775,
          0.12822912067789938,
          0.09989948023411177,
          0.012264684930535008,
          -0.16727526523283132
         ],
         "yaxis": "y3"
        },
        {
         "hovertemplate": "name=186W<br>quanta=%{x}<br>residuals=%{y}<extra></extra>",
         "legendgroup": "",
         "marker": {
          "color": "#636efa",
          "symbol": "circle"
         },
         "mode": "markers",
         "name": "",
         "orientation": "v",
         "showlegend": false,
         "type": "scatter",
         "x": [
          0,
          1,
          2,
          3,
          4,
          5,
          6,
          7
         ],
         "xaxis": "x4",
         "y": [
          0,
          0.00804067161838061,
          0.014579905394601966,
          0.0071207013286641585,
          -0.026095940579432764,
          -0.09894102032968899,
          0.2088254620778951,
          -0.09739649335667933
         ],
         "yaxis": "y4"
        },
        {
         "hovertemplate": "name=190Os<br>quanta=%{x}<br>residuals=%{y}<extra></extra>",
         "legendgroup": "",
         "marker": {
          "color": "#636efa",
          "symbol": "circle"
         },
         "mode": "markers",
         "name": "",
         "orientation": "v",
         "showlegend": false,
         "type": "scatter",
         "x": [
          0,
          1,
          2,
          3,
          4
         ],
         "xaxis": "x5",
         "y": [
          0,
          0.04354076870183171,
          0.07059656233943912,
          0.048192380912821964,
          -0.05135077557801937
         ],
         "yaxis": "y5"
        },
        {
         "hovertemplate": "name=204Hg<br>quanta=%{x}<br>residuals=%{y}<extra></extra>",
         "legendgroup": "",
         "marker": {
          "color": "#636efa",
          "symbol": "circle"
         },
         "mode": "markers",
         "name": "",
         "orientation": "v",
         "showlegend": false,
         "type": "scatter",
         "x": [
          0,
          1,
          2,
          3
         ],
         "xaxis": "x6",
         "y": [
          0,
          0.11689836728511799,
          0.06271789095039337,
          -0.04656542900417371
         ],
         "yaxis": "y6"
        }
       ],
       "layout": {
        "annotations": [
         {
          "showarrow": false,
          "text": "name=180Hf",
          "x": 0.05375,
          "xanchor": "center",
          "xref": "paper",
          "y": 0.2866666666666666,
          "yanchor": "bottom",
          "yref": "paper"
         },
         {
          "showarrow": false,
          "text": "name=182W",
          "x": 0.18125,
          "xanchor": "center",
          "xref": "paper",
          "y": 0.2866666666666666,
          "yanchor": "bottom",
          "yref": "paper"
         },
         {
          "showarrow": false,
          "text": "name=184W",
          "x": 0.30874999999999997,
          "xanchor": "center",
          "xref": "paper",
          "y": 0.2866666666666666,
          "yanchor": "bottom",
          "yref": "paper"
         },
         {
          "showarrow": false,
          "text": "name=186W",
          "x": 0.43625,
          "xanchor": "center",
          "xref": "paper",
          "y": 0.2866666666666666,
          "yanchor": "bottom",
          "yref": "paper"
         },
         {
          "showarrow": false,
          "text": "name=190Os",
          "x": 0.56375,
          "xanchor": "center",
          "xref": "paper",
          "y": 0.2866666666666666,
          "yanchor": "bottom",
          "yref": "paper"
         },
         {
          "showarrow": false,
          "text": "name=204Hg",
          "x": 0.6912499999999999,
          "xanchor": "center",
          "xref": "paper",
          "y": 0.2866666666666666,
          "yanchor": "bottom",
          "yref": "paper"
         },
         {
          "showarrow": false,
          "text": "name=166Er",
          "x": 0.05375,
          "xanchor": "center",
          "xref": "paper",
          "y": 0.6433333333333333,
          "yanchor": "bottom",
          "yref": "paper"
         },
         {
          "showarrow": false,
          "text": "name=168Er",
          "x": 0.18125,
          "xanchor": "center",
          "xref": "paper",
          "y": 0.6433333333333333,
          "yanchor": "bottom",
          "yref": "paper"
         },
         {
          "showarrow": false,
          "text": "name=170Er",
          "x": 0.30874999999999997,
          "xanchor": "center",
          "xref": "paper",
          "y": 0.6433333333333333,
          "yanchor": "bottom",
          "yref": "paper"
         },
         {
          "showarrow": false,
          "text": "name=168Yb",
          "x": 0.43625,
          "xanchor": "center",
          "xref": "paper",
          "y": 0.6433333333333333,
          "yanchor": "bottom",
          "yref": "paper"
         },
         {
          "showarrow": false,
          "text": "name=172Yb",
          "x": 0.56375,
          "xanchor": "center",
          "xref": "paper",
          "y": 0.6433333333333333,
          "yanchor": "bottom",
          "yref": "paper"
         },
         {
          "showarrow": false,
          "text": "name=174Yb",
          "x": 0.6912499999999999,
          "xanchor": "center",
          "xref": "paper",
          "y": 0.6433333333333333,
          "yanchor": "bottom",
          "yref": "paper"
         },
         {
          "showarrow": false,
          "text": "name=176Yb",
          "x": 0.8187500000000001,
          "xanchor": "center",
          "xref": "paper",
          "y": 0.6433333333333333,
          "yanchor": "bottom",
          "yref": "paper"
         },
         {
          "showarrow": false,
          "text": "name=176Hf",
          "x": 0.94625,
          "xanchor": "center",
          "xref": "paper",
          "y": 0.6433333333333333,
          "yanchor": "bottom",
          "yref": "paper"
         },
         {
          "showarrow": false,
          "text": "name=12C",
          "x": 0.05375,
          "xanchor": "center",
          "xref": "paper",
          "y": 0.9999999999999999,
          "yanchor": "bottom",
          "yref": "paper"
         },
         {
          "showarrow": false,
          "text": "name=24Mg",
          "x": 0.18125,
          "xanchor": "center",
          "xref": "paper",
          "y": 0.9999999999999999,
          "yanchor": "bottom",
          "yref": "paper"
         },
         {
          "showarrow": false,
          "text": "name=26Mg",
          "x": 0.30874999999999997,
          "xanchor": "center",
          "xref": "paper",
          "y": 0.9999999999999999,
          "yanchor": "bottom",
          "yref": "paper"
         },
         {
          "showarrow": false,
          "text": "name=28Si",
          "x": 0.43625,
          "xanchor": "center",
          "xref": "paper",
          "y": 0.9999999999999999,
          "yanchor": "bottom",
          "yref": "paper"
         },
         {
          "showarrow": false,
          "text": "name=154Sm",
          "x": 0.56375,
          "xanchor": "center",
          "xref": "paper",
          "y": 0.9999999999999999,
          "yanchor": "bottom",
          "yref": "paper"
         },
         {
          "showarrow": false,
          "text": "name=158Gd",
          "x": 0.6912499999999999,
          "xanchor": "center",
          "xref": "paper",
          "y": 0.9999999999999999,
          "yanchor": "bottom",
          "yref": "paper"
         },
         {
          "showarrow": false,
          "text": "name=160Gd",
          "x": 0.8187500000000001,
          "xanchor": "center",
          "xref": "paper",
          "y": 0.9999999999999999,
          "yanchor": "bottom",
          "yref": "paper"
         },
         {
          "showarrow": false,
          "text": "name=164Dy",
          "x": 0.94625,
          "xanchor": "center",
          "xref": "paper",
          "y": 0.9999999999999999,
          "yanchor": "bottom",
          "yref": "paper"
         }
        ],
        "legend": {
         "tracegroupgap": 0
        },
        "margin": {
         "t": 60
        },
        "shapes": [
         {
          "line": {
           "color": "black",
           "dash": "dash",
           "width": 1
          },
          "type": "line",
          "x0": 0,
          "x1": 1,
          "xref": "x domain",
          "y0": 0,
          "y1": 0,
          "yref": "y"
         },
         {
          "line": {
           "color": "black",
           "dash": "dash",
           "width": 1
          },
          "type": "line",
          "x0": 0,
          "x1": 1,
          "xref": "x2 domain",
          "y0": 0,
          "y1": 0,
          "yref": "y2"
         },
         {
          "line": {
           "color": "black",
           "dash": "dash",
           "width": 1
          },
          "type": "line",
          "x0": 0,
          "x1": 1,
          "xref": "x3 domain",
          "y0": 0,
          "y1": 0,
          "yref": "y3"
         },
         {
          "line": {
           "color": "black",
           "dash": "dash",
           "width": 1
          },
          "type": "line",
          "x0": 0,
          "x1": 1,
          "xref": "x4 domain",
          "y0": 0,
          "y1": 0,
          "yref": "y4"
         },
         {
          "line": {
           "color": "black",
           "dash": "dash",
           "width": 1
          },
          "type": "line",
          "x0": 0,
          "x1": 1,
          "xref": "x5 domain",
          "y0": 0,
          "y1": 0,
          "yref": "y5"
         },
         {
          "line": {
           "color": "black",
           "dash": "dash",
           "width": 1
          },
          "type": "line",
          "x0": 0,
          "x1": 1,
          "xref": "x6 domain",
          "y0": 0,
          "y1": 0,
          "yref": "y6"
         },
         {
          "line": {
           "color": "black",
           "dash": "dash",
           "width": 1
          },
          "type": "line",
          "x0": 0,
          "x1": 1,
          "xref": "x9 domain",
          "y0": 0,
          "y1": 0,
          "yref": "y9"
         },
         {
          "line": {
           "color": "black",
           "dash": "dash",
           "width": 1
          },
          "type": "line",
          "x0": 0,
          "x1": 1,
          "xref": "x10 domain",
          "y0": 0,
          "y1": 0,
          "yref": "y10"
         },
         {
          "line": {
           "color": "black",
           "dash": "dash",
           "width": 1
          },
          "type": "line",
          "x0": 0,
          "x1": 1,
          "xref": "x11 domain",
          "y0": 0,
          "y1": 0,
          "yref": "y11"
         },
         {
          "line": {
           "color": "black",
           "dash": "dash",
           "width": 1
          },
          "type": "line",
          "x0": 0,
          "x1": 1,
          "xref": "x12 domain",
          "y0": 0,
          "y1": 0,
          "yref": "y12"
         },
         {
          "line": {
           "color": "black",
           "dash": "dash",
           "width": 1
          },
          "type": "line",
          "x0": 0,
          "x1": 1,
          "xref": "x13 domain",
          "y0": 0,
          "y1": 0,
          "yref": "y13"
         },
         {
          "line": {
           "color": "black",
           "dash": "dash",
           "width": 1
          },
          "type": "line",
          "x0": 0,
          "x1": 1,
          "xref": "x14 domain",
          "y0": 0,
          "y1": 0,
          "yref": "y14"
         },
         {
          "line": {
           "color": "black",
           "dash": "dash",
           "width": 1
          },
          "type": "line",
          "x0": 0,
          "x1": 1,
          "xref": "x15 domain",
          "y0": 0,
          "y1": 0,
          "yref": "y15"
         },
         {
          "line": {
           "color": "black",
           "dash": "dash",
           "width": 1
          },
          "type": "line",
          "x0": 0,
          "x1": 1,
          "xref": "x16 domain",
          "y0": 0,
          "y1": 0,
          "yref": "y16"
         },
         {
          "line": {
           "color": "black",
           "dash": "dash",
           "width": 1
          },
          "type": "line",
          "x0": 0,
          "x1": 1,
          "xref": "x17 domain",
          "y0": 0,
          "y1": 0,
          "yref": "y17"
         },
         {
          "line": {
           "color": "black",
           "dash": "dash",
           "width": 1
          },
          "type": "line",
          "x0": 0,
          "x1": 1,
          "xref": "x18 domain",
          "y0": 0,
          "y1": 0,
          "yref": "y18"
         },
         {
          "line": {
           "color": "black",
           "dash": "dash",
           "width": 1
          },
          "type": "line",
          "x0": 0,
          "x1": 1,
          "xref": "x19 domain",
          "y0": 0,
          "y1": 0,
          "yref": "y19"
         },
         {
          "line": {
           "color": "black",
           "dash": "dash",
           "width": 1
          },
          "type": "line",
          "x0": 0,
          "x1": 1,
          "xref": "x20 domain",
          "y0": 0,
          "y1": 0,
          "yref": "y20"
         },
         {
          "line": {
           "color": "black",
           "dash": "dash",
           "width": 1
          },
          "type": "line",
          "x0": 0,
          "x1": 1,
          "xref": "x21 domain",
          "y0": 0,
          "y1": 0,
          "yref": "y21"
         },
         {
          "line": {
           "color": "black",
           "dash": "dash",
           "width": 1
          },
          "type": "line",
          "x0": 0,
          "x1": 1,
          "xref": "x22 domain",
          "y0": 0,
          "y1": 0,
          "yref": "y22"
         },
         {
          "line": {
           "color": "black",
           "dash": "dash",
           "width": 1
          },
          "type": "line",
          "x0": 0,
          "x1": 1,
          "xref": "x23 domain",
          "y0": 0,
          "y1": 0,
          "yref": "y23"
         },
         {
          "line": {
           "color": "black",
           "dash": "dash",
           "width": 1
          },
          "type": "line",
          "x0": 0,
          "x1": 1,
          "xref": "x24 domain",
          "y0": 0,
          "y1": 0,
          "yref": "y24"
         }
        ],
        "template": {
         "data": {
          "bar": [
           {
            "error_x": {
             "color": "#2a3f5f"
            },
            "error_y": {
             "color": "#2a3f5f"
            },
            "marker": {
             "line": {
              "color": "#E5ECF6",
              "width": 0.5
             },
             "pattern": {
              "fillmode": "overlay",
              "size": 10,
              "solidity": 0.2
             }
            },
            "type": "bar"
           }
          ],
          "barpolar": [
           {
            "marker": {
             "line": {
              "color": "#E5ECF6",
              "width": 0.5
             },
             "pattern": {
              "fillmode": "overlay",
              "size": 10,
              "solidity": 0.2
             }
            },
            "type": "barpolar"
           }
          ],
          "carpet": [
           {
            "aaxis": {
             "endlinecolor": "#2a3f5f",
             "gridcolor": "white",
             "linecolor": "white",
             "minorgridcolor": "white",
             "startlinecolor": "#2a3f5f"
            },
            "baxis": {
             "endlinecolor": "#2a3f5f",
             "gridcolor": "white",
             "linecolor": "white",
             "minorgridcolor": "white",
             "startlinecolor": "#2a3f5f"
            },
            "type": "carpet"
           }
          ],
          "choropleth": [
           {
            "colorbar": {
             "outlinewidth": 0,
             "ticks": ""
            },
            "type": "choropleth"
           }
          ],
          "contour": [
           {
            "colorbar": {
             "outlinewidth": 0,
             "ticks": ""
            },
            "colorscale": [
             [
              0,
              "#0d0887"
             ],
             [
              0.1111111111111111,
              "#46039f"
             ],
             [
              0.2222222222222222,
              "#7201a8"
             ],
             [
              0.3333333333333333,
              "#9c179e"
             ],
             [
              0.4444444444444444,
              "#bd3786"
             ],
             [
              0.5555555555555556,
              "#d8576b"
             ],
             [
              0.6666666666666666,
              "#ed7953"
             ],
             [
              0.7777777777777778,
              "#fb9f3a"
             ],
             [
              0.8888888888888888,
              "#fdca26"
             ],
             [
              1,
              "#f0f921"
             ]
            ],
            "type": "contour"
           }
          ],
          "contourcarpet": [
           {
            "colorbar": {
             "outlinewidth": 0,
             "ticks": ""
            },
            "type": "contourcarpet"
           }
          ],
          "heatmap": [
           {
            "colorbar": {
             "outlinewidth": 0,
             "ticks": ""
            },
            "colorscale": [
             [
              0,
              "#0d0887"
             ],
             [
              0.1111111111111111,
              "#46039f"
             ],
             [
              0.2222222222222222,
              "#7201a8"
             ],
             [
              0.3333333333333333,
              "#9c179e"
             ],
             [
              0.4444444444444444,
              "#bd3786"
             ],
             [
              0.5555555555555556,
              "#d8576b"
             ],
             [
              0.6666666666666666,
              "#ed7953"
             ],
             [
              0.7777777777777778,
              "#fb9f3a"
             ],
             [
              0.8888888888888888,
              "#fdca26"
             ],
             [
              1,
              "#f0f921"
             ]
            ],
            "type": "heatmap"
           }
          ],
          "heatmapgl": [
           {
            "colorbar": {
             "outlinewidth": 0,
             "ticks": ""
            },
            "colorscale": [
             [
              0,
              "#0d0887"
             ],
             [
              0.1111111111111111,
              "#46039f"
             ],
             [
              0.2222222222222222,
              "#7201a8"
             ],
             [
              0.3333333333333333,
              "#9c179e"
             ],
             [
              0.4444444444444444,
              "#bd3786"
             ],
             [
              0.5555555555555556,
              "#d8576b"
             ],
             [
              0.6666666666666666,
              "#ed7953"
             ],
             [
              0.7777777777777778,
              "#fb9f3a"
             ],
             [
              0.8888888888888888,
              "#fdca26"
             ],
             [
              1,
              "#f0f921"
             ]
            ],
            "type": "heatmapgl"
           }
          ],
          "histogram": [
           {
            "marker": {
             "pattern": {
              "fillmode": "overlay",
              "size": 10,
              "solidity": 0.2
             }
            },
            "type": "histogram"
           }
          ],
          "histogram2d": [
           {
            "colorbar": {
             "outlinewidth": 0,
             "ticks": ""
            },
            "colorscale": [
             [
              0,
              "#0d0887"
             ],
             [
              0.1111111111111111,
              "#46039f"
             ],
             [
              0.2222222222222222,
              "#7201a8"
             ],
             [
              0.3333333333333333,
              "#9c179e"
             ],
             [
              0.4444444444444444,
              "#bd3786"
             ],
             [
              0.5555555555555556,
              "#d8576b"
             ],
             [
              0.6666666666666666,
              "#ed7953"
             ],
             [
              0.7777777777777778,
              "#fb9f3a"
             ],
             [
              0.8888888888888888,
              "#fdca26"
             ],
             [
              1,
              "#f0f921"
             ]
            ],
            "type": "histogram2d"
           }
          ],
          "histogram2dcontour": [
           {
            "colorbar": {
             "outlinewidth": 0,
             "ticks": ""
            },
            "colorscale": [
             [
              0,
              "#0d0887"
             ],
             [
              0.1111111111111111,
              "#46039f"
             ],
             [
              0.2222222222222222,
              "#7201a8"
             ],
             [
              0.3333333333333333,
              "#9c179e"
             ],
             [
              0.4444444444444444,
              "#bd3786"
             ],
             [
              0.5555555555555556,
              "#d8576b"
             ],
             [
              0.6666666666666666,
              "#ed7953"
             ],
             [
              0.7777777777777778,
              "#fb9f3a"
             ],
             [
              0.8888888888888888,
              "#fdca26"
             ],
             [
              1,
              "#f0f921"
             ]
            ],
            "type": "histogram2dcontour"
           }
          ],
          "mesh3d": [
           {
            "colorbar": {
             "outlinewidth": 0,
             "ticks": ""
            },
            "type": "mesh3d"
           }
          ],
          "parcoords": [
           {
            "line": {
             "colorbar": {
              "outlinewidth": 0,
              "ticks": ""
             }
            },
            "type": "parcoords"
           }
          ],
          "pie": [
           {
            "automargin": true,
            "type": "pie"
           }
          ],
          "scatter": [
           {
            "fillpattern": {
             "fillmode": "overlay",
             "size": 10,
             "solidity": 0.2
            },
            "type": "scatter"
           }
          ],
          "scatter3d": [
           {
            "line": {
             "colorbar": {
              "outlinewidth": 0,
              "ticks": ""
             }
            },
            "marker": {
             "colorbar": {
              "outlinewidth": 0,
              "ticks": ""
             }
            },
            "type": "scatter3d"
           }
          ],
          "scattercarpet": [
           {
            "marker": {
             "colorbar": {
              "outlinewidth": 0,
              "ticks": ""
             }
            },
            "type": "scattercarpet"
           }
          ],
          "scattergeo": [
           {
            "marker": {
             "colorbar": {
              "outlinewidth": 0,
              "ticks": ""
             }
            },
            "type": "scattergeo"
           }
          ],
          "scattergl": [
           {
            "marker": {
             "colorbar": {
              "outlinewidth": 0,
              "ticks": ""
             }
            },
            "type": "scattergl"
           }
          ],
          "scattermapbox": [
           {
            "marker": {
             "colorbar": {
              "outlinewidth": 0,
              "ticks": ""
             }
            },
            "type": "scattermapbox"
           }
          ],
          "scatterpolar": [
           {
            "marker": {
             "colorbar": {
              "outlinewidth": 0,
              "ticks": ""
             }
            },
            "type": "scatterpolar"
           }
          ],
          "scatterpolargl": [
           {
            "marker": {
             "colorbar": {
              "outlinewidth": 0,
              "ticks": ""
             }
            },
            "type": "scatterpolargl"
           }
          ],
          "scatterternary": [
           {
            "marker": {
             "colorbar": {
              "outlinewidth": 0,
              "ticks": ""
             }
            },
            "type": "scatterternary"
           }
          ],
          "surface": [
           {
            "colorbar": {
             "outlinewidth": 0,
             "ticks": ""
            },
            "colorscale": [
             [
              0,
              "#0d0887"
             ],
             [
              0.1111111111111111,
              "#46039f"
             ],
             [
              0.2222222222222222,
              "#7201a8"
             ],
             [
              0.3333333333333333,
              "#9c179e"
             ],
             [
              0.4444444444444444,
              "#bd3786"
             ],
             [
              0.5555555555555556,
              "#d8576b"
             ],
             [
              0.6666666666666666,
              "#ed7953"
             ],
             [
              0.7777777777777778,
              "#fb9f3a"
             ],
             [
              0.8888888888888888,
              "#fdca26"
             ],
             [
              1,
              "#f0f921"
             ]
            ],
            "type": "surface"
           }
          ],
          "table": [
           {
            "cells": {
             "fill": {
              "color": "#EBF0F8"
             },
             "line": {
              "color": "white"
             }
            },
            "header": {
             "fill": {
              "color": "#C8D4E3"
             },
             "line": {
              "color": "white"
             }
            },
            "type": "table"
           }
          ]
         },
         "layout": {
          "annotationdefaults": {
           "arrowcolor": "#2a3f5f",
           "arrowhead": 0,
           "arrowwidth": 1
          },
          "autotypenumbers": "strict",
          "coloraxis": {
           "colorbar": {
            "outlinewidth": 0,
            "ticks": ""
           }
          },
          "colorscale": {
           "diverging": [
            [
             0,
             "#8e0152"
            ],
            [
             0.1,
             "#c51b7d"
            ],
            [
             0.2,
             "#de77ae"
            ],
            [
             0.3,
             "#f1b6da"
            ],
            [
             0.4,
             "#fde0ef"
            ],
            [
             0.5,
             "#f7f7f7"
            ],
            [
             0.6,
             "#e6f5d0"
            ],
            [
             0.7,
             "#b8e186"
            ],
            [
             0.8,
             "#7fbc41"
            ],
            [
             0.9,
             "#4d9221"
            ],
            [
             1,
             "#276419"
            ]
           ],
           "sequential": [
            [
             0,
             "#0d0887"
            ],
            [
             0.1111111111111111,
             "#46039f"
            ],
            [
             0.2222222222222222,
             "#7201a8"
            ],
            [
             0.3333333333333333,
             "#9c179e"
            ],
            [
             0.4444444444444444,
             "#bd3786"
            ],
            [
             0.5555555555555556,
             "#d8576b"
            ],
            [
             0.6666666666666666,
             "#ed7953"
            ],
            [
             0.7777777777777778,
             "#fb9f3a"
            ],
            [
             0.8888888888888888,
             "#fdca26"
            ],
            [
             1,
             "#f0f921"
            ]
           ],
           "sequentialminus": [
            [
             0,
             "#0d0887"
            ],
            [
             0.1111111111111111,
             "#46039f"
            ],
            [
             0.2222222222222222,
             "#7201a8"
            ],
            [
             0.3333333333333333,
             "#9c179e"
            ],
            [
             0.4444444444444444,
             "#bd3786"
            ],
            [
             0.5555555555555556,
             "#d8576b"
            ],
            [
             0.6666666666666666,
             "#ed7953"
            ],
            [
             0.7777777777777778,
             "#fb9f3a"
            ],
            [
             0.8888888888888888,
             "#fdca26"
            ],
            [
             1,
             "#f0f921"
            ]
           ]
          },
          "colorway": [
           "#636efa",
           "#EF553B",
           "#00cc96",
           "#ab63fa",
           "#FFA15A",
           "#19d3f3",
           "#FF6692",
           "#B6E880",
           "#FF97FF",
           "#FECB52"
          ],
          "font": {
           "color": "#2a3f5f"
          },
          "geo": {
           "bgcolor": "white",
           "lakecolor": "white",
           "landcolor": "#E5ECF6",
           "showlakes": true,
           "showland": true,
           "subunitcolor": "white"
          },
          "hoverlabel": {
           "align": "left"
          },
          "hovermode": "closest",
          "mapbox": {
           "style": "light"
          },
          "paper_bgcolor": "white",
          "plot_bgcolor": "#E5ECF6",
          "polar": {
           "angularaxis": {
            "gridcolor": "white",
            "linecolor": "white",
            "ticks": ""
           },
           "bgcolor": "#E5ECF6",
           "radialaxis": {
            "gridcolor": "white",
            "linecolor": "white",
            "ticks": ""
           }
          },
          "scene": {
           "xaxis": {
            "backgroundcolor": "#E5ECF6",
            "gridcolor": "white",
            "gridwidth": 2,
            "linecolor": "white",
            "showbackground": true,
            "ticks": "",
            "zerolinecolor": "white"
           },
           "yaxis": {
            "backgroundcolor": "#E5ECF6",
            "gridcolor": "white",
            "gridwidth": 2,
            "linecolor": "white",
            "showbackground": true,
            "ticks": "",
            "zerolinecolor": "white"
           },
           "zaxis": {
            "backgroundcolor": "#E5ECF6",
            "gridcolor": "white",
            "gridwidth": 2,
            "linecolor": "white",
            "showbackground": true,
            "ticks": "",
            "zerolinecolor": "white"
           }
          },
          "shapedefaults": {
           "line": {
            "color": "#2a3f5f"
           }
          },
          "ternary": {
           "aaxis": {
            "gridcolor": "white",
            "linecolor": "white",
            "ticks": ""
           },
           "baxis": {
            "gridcolor": "white",
            "linecolor": "white",
            "ticks": ""
           },
           "bgcolor": "#E5ECF6",
           "caxis": {
            "gridcolor": "white",
            "linecolor": "white",
            "ticks": ""
           }
          },
          "title": {
           "x": 0.05
          },
          "xaxis": {
           "automargin": true,
           "gridcolor": "white",
           "linecolor": "white",
           "ticks": "",
           "title": {
            "standoff": 15
           },
           "zerolinecolor": "white",
           "zerolinewidth": 2
          },
          "yaxis": {
           "automargin": true,
           "gridcolor": "white",
           "linecolor": "white",
           "ticks": "",
           "title": {
            "standoff": 15
           },
           "zerolinecolor": "white",
           "zerolinewidth": 2
          }
         }
        },
        "xaxis": {
         "anchor": "y",
         "domain": [
          0,
          0.1075
         ],
         "title": {
          "text": "quanta"
         }
        },
        "xaxis10": {
         "anchor": "y10",
         "domain": [
          0.1275,
          0.235
         ],
         "matches": "x",
         "showticklabels": false
        },
        "xaxis11": {
         "anchor": "y11",
         "domain": [
          0.255,
          0.3625
         ],
         "matches": "x",
         "showticklabels": false
        },
        "xaxis12": {
         "anchor": "y12",
         "domain": [
          0.3825,
          0.49
         ],
         "matches": "x",
         "showticklabels": false
        },
        "xaxis13": {
         "anchor": "y13",
         "domain": [
          0.51,
          0.6175
         ],
         "matches": "x",
         "showticklabels": false
        },
        "xaxis14": {
         "anchor": "y14",
         "domain": [
          0.6375,
          0.745
         ],
         "matches": "x",
         "showticklabels": false
        },
        "xaxis15": {
         "anchor": "y15",
         "domain": [
          0.765,
          0.8725
         ],
         "matches": "x",
         "showticklabels": false
        },
        "xaxis16": {
         "anchor": "y16",
         "domain": [
          0.8925,
          1
         ],
         "matches": "x",
         "showticklabels": false
        },
        "xaxis17": {
         "anchor": "y17",
         "domain": [
          0,
          0.1075
         ],
         "matches": "x",
         "showticklabels": false
        },
        "xaxis18": {
         "anchor": "y18",
         "domain": [
          0.1275,
          0.235
         ],
         "matches": "x",
         "showticklabels": false
        },
        "xaxis19": {
         "anchor": "y19",
         "domain": [
          0.255,
          0.3625
         ],
         "matches": "x",
         "showticklabels": false
        },
        "xaxis2": {
         "anchor": "y2",
         "domain": [
          0.1275,
          0.235
         ],
         "matches": "x",
         "title": {
          "text": "quanta"
         }
        },
        "xaxis20": {
         "anchor": "y20",
         "domain": [
          0.3825,
          0.49
         ],
         "matches": "x",
         "showticklabels": false
        },
        "xaxis21": {
         "anchor": "y21",
         "domain": [
          0.51,
          0.6175
         ],
         "matches": "x",
         "showticklabels": false
        },
        "xaxis22": {
         "anchor": "y22",
         "domain": [
          0.6375,
          0.745
         ],
         "matches": "x",
         "showticklabels": false
        },
        "xaxis23": {
         "anchor": "y23",
         "domain": [
          0.765,
          0.8725
         ],
         "matches": "x",
         "showticklabels": false
        },
        "xaxis24": {
         "anchor": "y24",
         "domain": [
          0.8925,
          1
         ],
         "matches": "x",
         "showticklabels": false
        },
        "xaxis3": {
         "anchor": "y3",
         "domain": [
          0.255,
          0.3625
         ],
         "matches": "x",
         "title": {
          "text": "quanta"
         }
        },
        "xaxis4": {
         "anchor": "y4",
         "domain": [
          0.3825,
          0.49
         ],
         "matches": "x",
         "title": {
          "text": "quanta"
         }
        },
        "xaxis5": {
         "anchor": "y5",
         "domain": [
          0.51,
          0.6175
         ],
         "matches": "x",
         "title": {
          "text": "quanta"
         }
        },
        "xaxis6": {
         "anchor": "y6",
         "domain": [
          0.6375,
          0.745
         ],
         "matches": "x",
         "title": {
          "text": "quanta"
         }
        },
        "xaxis7": {
         "anchor": "y7",
         "domain": [
          0.765,
          0.8725
         ],
         "matches": "x",
         "title": {
          "text": "quanta"
         }
        },
        "xaxis8": {
         "anchor": "y8",
         "domain": [
          0.8925,
          1
         ],
         "matches": "x",
         "title": {
          "text": "quanta"
         }
        },
        "xaxis9": {
         "anchor": "y9",
         "domain": [
          0,
          0.1075
         ],
         "matches": "x",
         "showticklabels": false
        },
        "yaxis": {
         "anchor": "x",
         "domain": [
          0,
          0.2866666666666666
         ],
         "title": {
          "text": "residuals"
         }
        },
        "yaxis10": {
         "anchor": "x10",
         "domain": [
          0.35666666666666663,
          0.6433333333333333
         ],
         "matches": "y",
         "showticklabels": false
        },
        "yaxis11": {
         "anchor": "x11",
         "domain": [
          0.35666666666666663,
          0.6433333333333333
         ],
         "matches": "y",
         "showticklabels": false
        },
        "yaxis12": {
         "anchor": "x12",
         "domain": [
          0.35666666666666663,
          0.6433333333333333
         ],
         "matches": "y",
         "showticklabels": false
        },
        "yaxis13": {
         "anchor": "x13",
         "domain": [
          0.35666666666666663,
          0.6433333333333333
         ],
         "matches": "y",
         "showticklabels": false
        },
        "yaxis14": {
         "anchor": "x14",
         "domain": [
          0.35666666666666663,
          0.6433333333333333
         ],
         "matches": "y",
         "showticklabels": false
        },
        "yaxis15": {
         "anchor": "x15",
         "domain": [
          0.35666666666666663,
          0.6433333333333333
         ],
         "matches": "y",
         "showticklabels": false
        },
        "yaxis16": {
         "anchor": "x16",
         "domain": [
          0.35666666666666663,
          0.6433333333333333
         ],
         "matches": "y",
         "showticklabels": false
        },
        "yaxis17": {
         "anchor": "x17",
         "domain": [
          0.7133333333333333,
          0.9999999999999999
         ],
         "matches": "y",
         "title": {
          "text": "residuals"
         }
        },
        "yaxis18": {
         "anchor": "x18",
         "domain": [
          0.7133333333333333,
          0.9999999999999999
         ],
         "matches": "y",
         "showticklabels": false
        },
        "yaxis19": {
         "anchor": "x19",
         "domain": [
          0.7133333333333333,
          0.9999999999999999
         ],
         "matches": "y",
         "showticklabels": false
        },
        "yaxis2": {
         "anchor": "x2",
         "domain": [
          0,
          0.2866666666666666
         ],
         "matches": "y",
         "showticklabels": false
        },
        "yaxis20": {
         "anchor": "x20",
         "domain": [
          0.7133333333333333,
          0.9999999999999999
         ],
         "matches": "y",
         "showticklabels": false
        },
        "yaxis21": {
         "anchor": "x21",
         "domain": [
          0.7133333333333333,
          0.9999999999999999
         ],
         "matches": "y",
         "showticklabels": false
        },
        "yaxis22": {
         "anchor": "x22",
         "domain": [
          0.7133333333333333,
          0.9999999999999999
         ],
         "matches": "y",
         "showticklabels": false
        },
        "yaxis23": {
         "anchor": "x23",
         "domain": [
          0.7133333333333333,
          0.9999999999999999
         ],
         "matches": "y",
         "showticklabels": false
        },
        "yaxis24": {
         "anchor": "x24",
         "domain": [
          0.7133333333333333,
          0.9999999999999999
         ],
         "matches": "y",
         "showticklabels": false
        },
        "yaxis3": {
         "anchor": "x3",
         "domain": [
          0,
          0.2866666666666666
         ],
         "matches": "y",
         "showticklabels": false
        },
        "yaxis4": {
         "anchor": "x4",
         "domain": [
          0,
          0.2866666666666666
         ],
         "matches": "y",
         "showticklabels": false
        },
        "yaxis5": {
         "anchor": "x5",
         "domain": [
          0,
          0.2866666666666666
         ],
         "matches": "y",
         "showticklabels": false
        },
        "yaxis6": {
         "anchor": "x6",
         "domain": [
          0,
          0.2866666666666666
         ],
         "matches": "y",
         "showticklabels": false
        },
        "yaxis7": {
         "anchor": "x7",
         "domain": [
          0,
          0.2866666666666666
         ],
         "matches": "y",
         "showticklabels": false
        },
        "yaxis8": {
         "anchor": "x8",
         "domain": [
          0,
          0.2866666666666666
         ],
         "matches": "y",
         "showticklabels": false
        },
        "yaxis9": {
         "anchor": "x9",
         "domain": [
          0.35666666666666663,
          0.6433333333333333
         ],
         "matches": "y",
         "title": {
          "text": "residuals"
         }
        }
       }
      }
     },
     "metadata": {},
     "output_type": "display_data"
    }
   ],
   "source": [
    "residuals_df = best_osc_merged.copy()\n",
    "residuals_df = residuals_df.reset_index()\n",
    "residuals_df[\"name\"] = residuals_df[\"a\"].astype(str) + residuals_df[\"symbol\"]\n",
    "residuals_df[\"residuals\"] = residuals_df[\"energy\"] - residuals_df[\"energy_pred\"]\n",
    "\n",
    "best_residuals = get_best_r2(residuals_df, 0.99)\n",
    "\n",
    "fig = px.scatter(best_residuals, x=\"quanta\", y=\"residuals\", facet_col=\"name\", facet_col_wrap=8)\n",
    "fig.add_hline(y=0, line_width=1, line_dash=\"dash\", line_color=\"black\")\n",
    "fig.show()"
   ]
  },
  {
   "cell_type": "code",
   "execution_count": 47,
   "metadata": {},
   "outputs": [
    {
     "data": {
      "application/vnd.plotly.v1+json": {
       "config": {
        "plotlyServerURL": "https://plot.ly"
       },
       "data": [
        {
         "hovertemplate": "quanta=%{x}<br>energy=%{y}<extra></extra>",
         "legendgroup": "",
         "marker": {
          "color": "#636efa",
          "symbol": "circle"
         },
         "mode": "markers",
         "name": "",
         "orientation": "v",
         "showlegend": false,
         "type": "scatter",
         "x": [
          0,
          1,
          2,
          3,
          4,
          5,
          6,
          7,
          8,
          9,
          10,
          11,
          12,
          13,
          14,
          15,
          16,
          17,
          18
         ],
         "xaxis": "x",
         "y": [
          0,
          0.08773,
          0.286551,
          0.58525,
          0.97003,
          1.42545,
          1.936,
          2.4885,
          3.0730999999999997,
          3.6869,
          4.3369,
          5.036899999999999,
          5.7974,
          6.6239,
          7.5169,
          8.475200000000001,
          9.496,
          10.575,
          11.703
         ],
         "yaxis": "y"
        }
       ],
       "layout": {
        "legend": {
         "tracegroupgap": 0
        },
        "margin": {
         "t": 60
        },
        "template": {
         "data": {
          "bar": [
           {
            "error_x": {
             "color": "#2a3f5f"
            },
            "error_y": {
             "color": "#2a3f5f"
            },
            "marker": {
             "line": {
              "color": "#E5ECF6",
              "width": 0.5
             },
             "pattern": {
              "fillmode": "overlay",
              "size": 10,
              "solidity": 0.2
             }
            },
            "type": "bar"
           }
          ],
          "barpolar": [
           {
            "marker": {
             "line": {
              "color": "#E5ECF6",
              "width": 0.5
             },
             "pattern": {
              "fillmode": "overlay",
              "size": 10,
              "solidity": 0.2
             }
            },
            "type": "barpolar"
           }
          ],
          "carpet": [
           {
            "aaxis": {
             "endlinecolor": "#2a3f5f",
             "gridcolor": "white",
             "linecolor": "white",
             "minorgridcolor": "white",
             "startlinecolor": "#2a3f5f"
            },
            "baxis": {
             "endlinecolor": "#2a3f5f",
             "gridcolor": "white",
             "linecolor": "white",
             "minorgridcolor": "white",
             "startlinecolor": "#2a3f5f"
            },
            "type": "carpet"
           }
          ],
          "choropleth": [
           {
            "colorbar": {
             "outlinewidth": 0,
             "ticks": ""
            },
            "type": "choropleth"
           }
          ],
          "contour": [
           {
            "colorbar": {
             "outlinewidth": 0,
             "ticks": ""
            },
            "colorscale": [
             [
              0,
              "#0d0887"
             ],
             [
              0.1111111111111111,
              "#46039f"
             ],
             [
              0.2222222222222222,
              "#7201a8"
             ],
             [
              0.3333333333333333,
              "#9c179e"
             ],
             [
              0.4444444444444444,
              "#bd3786"
             ],
             [
              0.5555555555555556,
              "#d8576b"
             ],
             [
              0.6666666666666666,
              "#ed7953"
             ],
             [
              0.7777777777777778,
              "#fb9f3a"
             ],
             [
              0.8888888888888888,
              "#fdca26"
             ],
             [
              1,
              "#f0f921"
             ]
            ],
            "type": "contour"
           }
          ],
          "contourcarpet": [
           {
            "colorbar": {
             "outlinewidth": 0,
             "ticks": ""
            },
            "type": "contourcarpet"
           }
          ],
          "heatmap": [
           {
            "colorbar": {
             "outlinewidth": 0,
             "ticks": ""
            },
            "colorscale": [
             [
              0,
              "#0d0887"
             ],
             [
              0.1111111111111111,
              "#46039f"
             ],
             [
              0.2222222222222222,
              "#7201a8"
             ],
             [
              0.3333333333333333,
              "#9c179e"
             ],
             [
              0.4444444444444444,
              "#bd3786"
             ],
             [
              0.5555555555555556,
              "#d8576b"
             ],
             [
              0.6666666666666666,
              "#ed7953"
             ],
             [
              0.7777777777777778,
              "#fb9f3a"
             ],
             [
              0.8888888888888888,
              "#fdca26"
             ],
             [
              1,
              "#f0f921"
             ]
            ],
            "type": "heatmap"
           }
          ],
          "heatmapgl": [
           {
            "colorbar": {
             "outlinewidth": 0,
             "ticks": ""
            },
            "colorscale": [
             [
              0,
              "#0d0887"
             ],
             [
              0.1111111111111111,
              "#46039f"
             ],
             [
              0.2222222222222222,
              "#7201a8"
             ],
             [
              0.3333333333333333,
              "#9c179e"
             ],
             [
              0.4444444444444444,
              "#bd3786"
             ],
             [
              0.5555555555555556,
              "#d8576b"
             ],
             [
              0.6666666666666666,
              "#ed7953"
             ],
             [
              0.7777777777777778,
              "#fb9f3a"
             ],
             [
              0.8888888888888888,
              "#fdca26"
             ],
             [
              1,
              "#f0f921"
             ]
            ],
            "type": "heatmapgl"
           }
          ],
          "histogram": [
           {
            "marker": {
             "pattern": {
              "fillmode": "overlay",
              "size": 10,
              "solidity": 0.2
             }
            },
            "type": "histogram"
           }
          ],
          "histogram2d": [
           {
            "colorbar": {
             "outlinewidth": 0,
             "ticks": ""
            },
            "colorscale": [
             [
              0,
              "#0d0887"
             ],
             [
              0.1111111111111111,
              "#46039f"
             ],
             [
              0.2222222222222222,
              "#7201a8"
             ],
             [
              0.3333333333333333,
              "#9c179e"
             ],
             [
              0.4444444444444444,
              "#bd3786"
             ],
             [
              0.5555555555555556,
              "#d8576b"
             ],
             [
              0.6666666666666666,
              "#ed7953"
             ],
             [
              0.7777777777777778,
              "#fb9f3a"
             ],
             [
              0.8888888888888888,
              "#fdca26"
             ],
             [
              1,
              "#f0f921"
             ]
            ],
            "type": "histogram2d"
           }
          ],
          "histogram2dcontour": [
           {
            "colorbar": {
             "outlinewidth": 0,
             "ticks": ""
            },
            "colorscale": [
             [
              0,
              "#0d0887"
             ],
             [
              0.1111111111111111,
              "#46039f"
             ],
             [
              0.2222222222222222,
              "#7201a8"
             ],
             [
              0.3333333333333333,
              "#9c179e"
             ],
             [
              0.4444444444444444,
              "#bd3786"
             ],
             [
              0.5555555555555556,
              "#d8576b"
             ],
             [
              0.6666666666666666,
              "#ed7953"
             ],
             [
              0.7777777777777778,
              "#fb9f3a"
             ],
             [
              0.8888888888888888,
              "#fdca26"
             ],
             [
              1,
              "#f0f921"
             ]
            ],
            "type": "histogram2dcontour"
           }
          ],
          "mesh3d": [
           {
            "colorbar": {
             "outlinewidth": 0,
             "ticks": ""
            },
            "type": "mesh3d"
           }
          ],
          "parcoords": [
           {
            "line": {
             "colorbar": {
              "outlinewidth": 0,
              "ticks": ""
             }
            },
            "type": "parcoords"
           }
          ],
          "pie": [
           {
            "automargin": true,
            "type": "pie"
           }
          ],
          "scatter": [
           {
            "fillpattern": {
             "fillmode": "overlay",
             "size": 10,
             "solidity": 0.2
            },
            "type": "scatter"
           }
          ],
          "scatter3d": [
           {
            "line": {
             "colorbar": {
              "outlinewidth": 0,
              "ticks": ""
             }
            },
            "marker": {
             "colorbar": {
              "outlinewidth": 0,
              "ticks": ""
             }
            },
            "type": "scatter3d"
           }
          ],
          "scattercarpet": [
           {
            "marker": {
             "colorbar": {
              "outlinewidth": 0,
              "ticks": ""
             }
            },
            "type": "scattercarpet"
           }
          ],
          "scattergeo": [
           {
            "marker": {
             "colorbar": {
              "outlinewidth": 0,
              "ticks": ""
             }
            },
            "type": "scattergeo"
           }
          ],
          "scattergl": [
           {
            "marker": {
             "colorbar": {
              "outlinewidth": 0,
              "ticks": ""
             }
            },
            "type": "scattergl"
           }
          ],
          "scattermapbox": [
           {
            "marker": {
             "colorbar": {
              "outlinewidth": 0,
              "ticks": ""
             }
            },
            "type": "scattermapbox"
           }
          ],
          "scatterpolar": [
           {
            "marker": {
             "colorbar": {
              "outlinewidth": 0,
              "ticks": ""
             }
            },
            "type": "scatterpolar"
           }
          ],
          "scatterpolargl": [
           {
            "marker": {
             "colorbar": {
              "outlinewidth": 0,
              "ticks": ""
             }
            },
            "type": "scatterpolargl"
           }
          ],
          "scatterternary": [
           {
            "marker": {
             "colorbar": {
              "outlinewidth": 0,
              "ticks": ""
             }
            },
            "type": "scatterternary"
           }
          ],
          "surface": [
           {
            "colorbar": {
             "outlinewidth": 0,
             "ticks": ""
            },
            "colorscale": [
             [
              0,
              "#0d0887"
             ],
             [
              0.1111111111111111,
              "#46039f"
             ],
             [
              0.2222222222222222,
              "#7201a8"
             ],
             [
              0.3333333333333333,
              "#9c179e"
             ],
             [
              0.4444444444444444,
              "#bd3786"
             ],
             [
              0.5555555555555556,
              "#d8576b"
             ],
             [
              0.6666666666666666,
              "#ed7953"
             ],
             [
              0.7777777777777778,
              "#fb9f3a"
             ],
             [
              0.8888888888888888,
              "#fdca26"
             ],
             [
              1,
              "#f0f921"
             ]
            ],
            "type": "surface"
           }
          ],
          "table": [
           {
            "cells": {
             "fill": {
              "color": "#EBF0F8"
             },
             "line": {
              "color": "white"
             }
            },
            "header": {
             "fill": {
              "color": "#C8D4E3"
             },
             "line": {
              "color": "white"
             }
            },
            "type": "table"
           }
          ]
         },
         "layout": {
          "annotationdefaults": {
           "arrowcolor": "#2a3f5f",
           "arrowhead": 0,
           "arrowwidth": 1
          },
          "autotypenumbers": "strict",
          "coloraxis": {
           "colorbar": {
            "outlinewidth": 0,
            "ticks": ""
           }
          },
          "colorscale": {
           "diverging": [
            [
             0,
             "#8e0152"
            ],
            [
             0.1,
             "#c51b7d"
            ],
            [
             0.2,
             "#de77ae"
            ],
            [
             0.3,
             "#f1b6da"
            ],
            [
             0.4,
             "#fde0ef"
            ],
            [
             0.5,
             "#f7f7f7"
            ],
            [
             0.6,
             "#e6f5d0"
            ],
            [
             0.7,
             "#b8e186"
            ],
            [
             0.8,
             "#7fbc41"
            ],
            [
             0.9,
             "#4d9221"
            ],
            [
             1,
             "#276419"
            ]
           ],
           "sequential": [
            [
             0,
             "#0d0887"
            ],
            [
             0.1111111111111111,
             "#46039f"
            ],
            [
             0.2222222222222222,
             "#7201a8"
            ],
            [
             0.3333333333333333,
             "#9c179e"
            ],
            [
             0.4444444444444444,
             "#bd3786"
            ],
            [
             0.5555555555555556,
             "#d8576b"
            ],
            [
             0.6666666666666666,
             "#ed7953"
            ],
            [
             0.7777777777777778,
             "#fb9f3a"
            ],
            [
             0.8888888888888888,
             "#fdca26"
            ],
            [
             1,
             "#f0f921"
            ]
           ],
           "sequentialminus": [
            [
             0,
             "#0d0887"
            ],
            [
             0.1111111111111111,
             "#46039f"
            ],
            [
             0.2222222222222222,
             "#7201a8"
            ],
            [
             0.3333333333333333,
             "#9c179e"
            ],
            [
             0.4444444444444444,
             "#bd3786"
            ],
            [
             0.5555555555555556,
             "#d8576b"
            ],
            [
             0.6666666666666666,
             "#ed7953"
            ],
            [
             0.7777777777777778,
             "#fb9f3a"
            ],
            [
             0.8888888888888888,
             "#fdca26"
            ],
            [
             1,
             "#f0f921"
            ]
           ]
          },
          "colorway": [
           "#636efa",
           "#EF553B",
           "#00cc96",
           "#ab63fa",
           "#FFA15A",
           "#19d3f3",
           "#FF6692",
           "#B6E880",
           "#FF97FF",
           "#FECB52"
          ],
          "font": {
           "color": "#2a3f5f"
          },
          "geo": {
           "bgcolor": "white",
           "lakecolor": "white",
           "landcolor": "#E5ECF6",
           "showlakes": true,
           "showland": true,
           "subunitcolor": "white"
          },
          "hoverlabel": {
           "align": "left"
          },
          "hovermode": "closest",
          "mapbox": {
           "style": "light"
          },
          "paper_bgcolor": "white",
          "plot_bgcolor": "#E5ECF6",
          "polar": {
           "angularaxis": {
            "gridcolor": "white",
            "linecolor": "white",
            "ticks": ""
           },
           "bgcolor": "#E5ECF6",
           "radialaxis": {
            "gridcolor": "white",
            "linecolor": "white",
            "ticks": ""
           }
          },
          "scene": {
           "xaxis": {
            "backgroundcolor": "#E5ECF6",
            "gridcolor": "white",
            "gridwidth": 2,
            "linecolor": "white",
            "showbackground": true,
            "ticks": "",
            "zerolinecolor": "white"
           },
           "yaxis": {
            "backgroundcolor": "#E5ECF6",
            "gridcolor": "white",
            "gridwidth": 2,
            "linecolor": "white",
            "showbackground": true,
            "ticks": "",
            "zerolinecolor": "white"
           },
           "zaxis": {
            "backgroundcolor": "#E5ECF6",
            "gridcolor": "white",
            "gridwidth": 2,
            "linecolor": "white",
            "showbackground": true,
            "ticks": "",
            "zerolinecolor": "white"
           }
          },
          "shapedefaults": {
           "line": {
            "color": "#2a3f5f"
           }
          },
          "ternary": {
           "aaxis": {
            "gridcolor": "white",
            "linecolor": "white",
            "ticks": ""
           },
           "baxis": {
            "gridcolor": "white",
            "linecolor": "white",
            "ticks": ""
           },
           "bgcolor": "#E5ECF6",
           "caxis": {
            "gridcolor": "white",
            "linecolor": "white",
            "ticks": ""
           }
          },
          "title": {
           "x": 0.05
          },
          "xaxis": {
           "automargin": true,
           "gridcolor": "white",
           "linecolor": "white",
           "ticks": "",
           "title": {
            "standoff": 15
           },
           "zerolinecolor": "white",
           "zerolinewidth": 2
          },
          "yaxis": {
           "automargin": true,
           "gridcolor": "white",
           "linecolor": "white",
           "ticks": "",
           "title": {
            "standoff": 15
           },
           "zerolinecolor": "white",
           "zerolinewidth": 2
          }
         }
        },
        "xaxis": {
         "anchor": "y",
         "domain": [
          0,
          1
         ],
         "title": {
          "text": "quanta"
         }
        },
        "yaxis": {
         "anchor": "x",
         "domain": [
          0,
          1
         ],
         "title": {
          "text": "energy"
         }
        }
       }
      }
     },
     "metadata": {},
     "output_type": "display_data"
    }
   ],
   "source": [
    "test_nuclei = residuals_df[(residuals_df['a'] == 168) & (residuals_df['symbol'] == \"Yb\")]\n",
    "fig = px.scatter(test_nuclei, x=\"quanta\", y=\"energy\")\n",
    "fig.show()"
   ]
  },
  {
   "cell_type": "code",
   "execution_count": 48,
   "metadata": {},
   "outputs": [
    {
     "name": "stdout",
     "output_type": "stream",
     "text": [
      "2.266282913484555\n"
     ]
    }
   ],
   "source": [
    "gaps = np.diff(test_nuclei.iloc[:3]['energy'])\n",
    "print(gaps[1] / gaps[0])"
   ]
  },
  {
   "cell_type": "code",
   "execution_count": 236,
   "metadata": {},
   "outputs": [
    {
     "data": {
      "application/vnd.plotly.v1+json": {
       "config": {
        "plotlyServerURL": "https://plot.ly"
       },
       "data": [
        {
         "hovertemplate": "z=8<br>n=8<br>quanta=%{x}<br>residuals=%{y}<br>r2=%{marker.color}<extra></extra>",
         "legendgroup": "",
         "marker": {
          "color": [
           0.9784751192006406,
           0.9784751192006406,
           0.9784751192006406,
           0.9784751192006406
          ],
          "coloraxis": "coloraxis",
          "symbol": "circle"
         },
         "mode": "markers",
         "name": "",
         "orientation": "v",
         "showlegend": false,
         "type": "scatter",
         "x": [
          0,
          1,
          2,
          3
         ],
         "xaxis": "x193",
         "y": [
          -0.8393799999996505,
          1.2892399999920876,
          -0.060340000016175566,
          -0.3895200000244383
         ],
         "yaxis": "y193"
        },
        {
         "hovertemplate": "z=16<br>n=20<br>quanta=%{x}<br>residuals=%{y}<br>r2=%{marker.color}<extra></extra>",
         "legendgroup": "",
         "marker": {
          "color": [
           0.9999643192315976,
           0.9999643192315976,
           0.9999643192315976
          ],
          "coloraxis": "coloraxis",
          "symbol": "circle"
         },
         "mode": "markers",
         "name": "",
         "orientation": "v",
         "showlegend": false,
         "type": "scatter",
         "x": [
          0,
          1,
          2
         ],
         "xaxis": "x178",
         "y": [
          -0.011233330325937464,
          0.022466667869625923,
          -0.011233333934811185
         ],
         "yaxis": "y178"
        },
        {
         "hovertemplate": "z=18<br>n=20<br>quanta=%{x}<br>residuals=%{y}<br>r2=%{marker.color}<extra></extra>",
         "legendgroup": "",
         "marker": {
          "color": [
           0.9805890358563157,
           0.9805890358563157,
           0.9805890358563157,
           0.9805890358563157,
           0.9805890358563157
          ],
          "coloraxis": "coloraxis",
          "symbol": "circle"
         },
         "mode": "markers",
         "name": "",
         "orientation": "v",
         "showlegend": false,
         "type": "scatter",
         "x": [
          0,
          1,
          2,
          3,
          4
         ],
         "xaxis": "x162",
         "y": [
          -0.22295079999830592,
          -0.19348160000078796,
          0.850443599996729,
          -0.22863920000575266,
          -0.20537200000823574
         ],
         "yaxis": "y162"
        },
        {
         "hovertemplate": "z=20<br>n=20<br>quanta=%{x}<br>residuals=%{y}<br>r2=%{marker.color}<extra></extra>",
         "legendgroup": "",
         "marker": {
          "color": [
           0.9360178830892232,
           0.9360178830892232,
           0.9360178830892232,
           0.9360178830892232,
           0.9360178830892232
          ],
          "coloraxis": "coloraxis",
          "symbol": "circle"
         },
         "mode": "markers",
         "name": "",
         "orientation": "v",
         "showlegend": false,
         "type": "scatter",
         "x": [
          0,
          1,
          2,
          3,
          4
         ],
         "xaxis": "x146",
         "y": [
          -0.9974919999999938,
          0.9842859999979936,
          0.43610399999598126,
          0.16490199999396804,
          -0.587800000008043
         ],
         "yaxis": "y146"
        },
        {
         "hovertemplate": "z=20<br>n=22<br>quanta=%{x}<br>residuals=%{y}<br>r2=%{marker.color}<extra></extra>",
         "legendgroup": "",
         "marker": {
          "color": [
           0.9392441060976223,
           0.9392441060976223,
           0.9392441060976223,
           0.9392441060976223,
           0.9392441060976223,
           0.9392441060976223
          ],
          "coloraxis": "coloraxis",
          "symbol": "circle"
         },
         "mode": "markers",
         "name": "",
         "orientation": "v",
         "showlegend": false,
         "type": "scatter",
         "x": [
          0,
          1,
          2,
          3,
          4,
          5
         ],
         "xaxis": "x147",
         "y": [
          0.49324478335254274,
          0.2794782035932115,
          -0.23130837616611988,
          -1.5329249559254507,
          0.17563846431521757,
          0.8158718845558859
         ],
         "yaxis": "y147"
        },
        {
         "hovertemplate": "z=20<br>n=24<br>quanta=%{x}<br>residuals=%{y}<br>r2=%{marker.color}<extra></extra>",
         "legendgroup": "",
         "marker": {
          "color": [
           0.988167640637415,
           0.988167640637415,
           0.988167640637415,
           0.988167640637415,
           0.988167640637415
          ],
          "coloraxis": "coloraxis",
          "symbol": "circle"
         },
         "mode": "markers",
         "name": "",
         "orientation": "v",
         "showlegend": false,
         "type": "scatter",
         "x": [
          0,
          1,
          2,
          3,
          4
         ],
         "xaxis": "x148",
         "y": [
          0.09809188000239444,
          0.024790360001892164,
          -0.07943375999860969,
          -0.3078710799991127,
          0.264422600000386
         ],
         "yaxis": "y148"
        },
        {
         "hovertemplate": "z=20<br>n=26<br>quanta=%{x}<br>residuals=%{y}<br>r2=%{marker.color}<extra></extra>",
         "legendgroup": "",
         "marker": {
          "color": [
           0.9538105903465829,
           0.9538105903465829,
           0.9538105903465829,
           0.9538105903465829
          ],
          "coloraxis": "coloraxis",
          "symbol": "circle"
         },
         "mode": "markers",
         "name": "",
         "orientation": "v",
         "showlegend": false,
         "type": "scatter",
         "x": [
          0,
          1,
          2,
          3
         ],
         "xaxis": "x149",
         "y": [
          -0.20108999999825727,
          0.12987000000171012,
          0.3435300000016772,
          -0.2723099999983556
         ],
         "yaxis": "y149"
        },
        {
         "hovertemplate": "z=36<br>n=50<br>quanta=%{x}<br>residuals=%{y}<br>r2=%{marker.color}<extra></extra>",
         "legendgroup": "",
         "marker": {
          "color": [
           0.9515677334323395,
           0.9515677334323395,
           0.9515677334323395
          ],
          "coloraxis": "coloraxis",
          "symbol": "circle"
         },
         "mode": "markers",
         "name": "",
         "orientation": "v",
         "showlegend": false,
         "type": "scatter",
         "x": [
          0,
          1,
          2
         ],
         "xaxis": "x134",
         "y": [
          -0.14653499999813846,
          0.2930700000015889,
          -0.14653499999868336
         ],
         "yaxis": "y134"
        },
        {
         "hovertemplate": "z=38<br>n=50<br>quanta=%{x}<br>residuals=%{y}<br>r2=%{marker.color}<extra></extra>",
         "legendgroup": "",
         "marker": {
          "color": [
           0.9942009291902432,
           0.9942009291902432,
           0.9942009291902432
          ],
          "coloraxis": "coloraxis",
          "symbol": "circle"
         },
         "mode": "markers",
         "name": "",
         "orientation": "v",
         "showlegend": false,
         "type": "scatter",
         "x": [
          0,
          1,
          2
         ],
         "xaxis": "x118",
         "y": [
          0.09330333333571783,
          -0.18660666666671633,
          0.09330333333084972
         ],
         "yaxis": "y118"
        },
        {
         "hovertemplate": "z=44<br>n=58<br>quanta=%{x}<br>residuals=%{y}<br>r2=%{marker.color}<extra></extra>",
         "legendgroup": "",
         "marker": {
          "color": [
           0.9805928001799629,
           0.9805928001799629,
           0.9805928001799629,
           0.9805928001799629,
           0.9805928001799629,
           0.9805928001799629,
           0.9805928001799629,
           0.9805928001799629,
           0.9805928001799629,
           0.9805928001799629,
           0.9805928001799629,
           0.9805928001799629,
           0.9805928001799629
          ],
          "coloraxis": "coloraxis",
          "symbol": "circle"
         },
         "mode": "markers",
         "name": "",
         "orientation": "v",
         "showlegend": false,
         "type": "scatter",
         "x": [
          0,
          1,
          2,
          3,
          4,
          5,
          6,
          7,
          8,
          9,
          10,
          11,
          12
         ],
         "xaxis": "x103",
         "y": [
          0.6756550945091497,
          0.28192190439954573,
          0.044426314289941704,
          -0.057583075819662266,
          -0.09356246592926665,
          -0.2342918560388707,
          -0.48172124614847434,
          -0.5977506362580787,
          -0.5503800263676819,
          -0.3534094164772865,
          -0.01433880658689013,
          0.4230318033035054,
          0.9580024131939009
         ],
         "yaxis": "y103"
        },
        {
         "hovertemplate": "z=46<br>n=58<br>quanta=%{x}<br>residuals=%{y}<br>r2=%{marker.color}<extra></extra>",
         "legendgroup": "",
         "marker": {
          "color": [
           0.9971692901668271,
           0.9971692901668271,
           0.9971692901668271,
           0.9971692901668271,
           0.9971692901668271,
           0.9971692901668271,
           0.9971692901668271,
           0.9971692901668271,
           0.9971692901668271,
           0.9971692901668271
          ],
          "coloraxis": "coloraxis",
          "symbol": "circle"
         },
         "mode": "markers",
         "name": "",
         "orientation": "v",
         "showlegend": false,
         "type": "scatter",
         "x": [
          0,
          1,
          2,
          3,
          4,
          5,
          6,
          7,
          8,
          9
         ],
         "xaxis": "x87",
         "y": [
          0.1848721818207668,
          -0.08307830302733377,
          -0.13905878787543435,
          -0.03690927272353495,
          0.11053024242836473,
          0.08916975758026435,
          -0.12269072726783659,
          -0.1493512121159366,
          -0.0469116969640373,
          0.19342781818786214
         ],
         "yaxis": "y87"
        },
        {
         "hovertemplate": "z=48<br>n=58<br>quanta=%{x}<br>residuals=%{y}<br>r2=%{marker.color}<extra></extra>",
         "legendgroup": "",
         "marker": {
          "color": [
           0.988760615570537,
           0.988760615570537,
           0.988760615570537,
           0.988760615570537,
           0.988760615570537,
           0.988760615570537,
           0.988760615570537,
           0.988760615570537,
           0.988760615570537,
           0.988760615570537,
           0.988760615570537,
           0.988760615570537,
           0.988760615570537,
           0.988760615570537
          ],
          "coloraxis": "coloraxis",
          "symbol": "circle"
         },
         "mode": "markers",
         "name": "",
         "orientation": "v",
         "showlegend": false,
         "type": "scatter",
         "x": [
          0,
          1,
          2,
          3,
          4,
          5,
          6,
          7,
          8,
          9,
          10,
          11,
          12,
          13
         ],
         "xaxis": "x71",
         "y": [
          0.6047288719064784,
          0.213031353679767,
          0.04983383545305542,
          0.023376317226344145,
          -0.4484912010003672,
          0.29934128077292144,
          -0.3002962374537903,
          -0.339033755680501,
          -0.4710712739072127,
          -0.5146087921339237,
          -0.38834631036063527,
          -0.10208382858734488,
          0.36117865318594333,
          1.0124411349592304
         ],
         "yaxis": "y71"
        },
        {
         "hovertemplate": "z=50<br>n=62<br>quanta=%{x}<br>residuals=%{y}<br>r2=%{marker.color}<extra></extra>",
         "legendgroup": "",
         "marker": {
          "color": [
           0.9959237665763164,
           0.9959237665763164,
           0.9959237665763164,
           0.9959237665763164,
           0.9959237665763164,
           0.9959237665763164,
           0.9959237665763164,
           0.9959237665763164,
           0.9959237665763164,
           0.9959237665763164,
           0.9959237665763164,
           0.9959237665763164
          ],
          "coloraxis": "coloraxis",
          "symbol": "circle"
         },
         "mode": "markers",
         "name": "",
         "orientation": "v",
         "showlegend": false,
         "type": "scatter",
         "x": [
          0,
          1,
          2,
          3,
          4,
          5,
          6,
          7,
          8,
          9,
          10,
          11
         ],
         "xaxis": "x56",
         "y": [
          -0.19895461538286785,
          0.15813531468728126,
          0.24923524475742997,
          -0.3485348251724214,
          0.28023510489772807,
          0.12241503496787765,
          -0.032255034961973905,
          -0.13325510489182513,
          -0.1815551748216757,
          -0.1482552447515264,
          -0.008355314681375958,
          0.2411446153887713
         ],
         "yaxis": "y56"
        },
        {
         "hovertemplate": "z=50<br>n=64<br>quanta=%{x}<br>residuals=%{y}<br>r2=%{marker.color}<extra></extra>",
         "legendgroup": "",
         "marker": {
          "color": [
           0.9910562386978656,
           0.9910562386978656,
           0.9910562386978656,
           0.9910562386978656,
           0.9910562386978656,
           0.9910562386978656,
           0.9910562386978656,
           0.9910562386978656,
           0.9910562386978656,
           0.9910562386978656,
           0.9910562386978656
          ],
          "coloraxis": "coloraxis",
          "symbol": "circle"
         },
         "mode": "markers",
         "name": "",
         "orientation": "v",
         "showlegend": false,
         "type": "scatter",
         "x": [
          0,
          1,
          2,
          3,
          4,
          5,
          6,
          7,
          8,
          9,
          10
         ],
         "xaxis": "x57",
         "y": [
          -0.2552614427418941,
          0.1840829554817458,
          0.21121535370538602,
          0.3128407519290257,
          0.17376815015266578,
          -0.41838445162369364,
          -0.2369170534000533,
          -0.23366965517641436,
          -0.21406225695277392,
          0.1423751412708647,
          0.33401253949450727
         ],
         "yaxis": "y57"
        },
        {
         "hovertemplate": "z=50<br>n=66<br>quanta=%{x}<br>residuals=%{y}<br>r2=%{marker.color}<extra></extra>",
         "legendgroup": "",
         "marker": {
          "color": [
           0.9715038161918393,
           0.9715038161918393,
           0.9715038161918393,
           0.9715038161918393,
           0.9715038161918393,
           0.9715038161918393,
           0.9715038161918393,
           0.9715038161918393,
           0.9715038161918393,
           0.9715038161918393
          ],
          "coloraxis": "coloraxis",
          "symbol": "circle"
         },
         "mode": "markers",
         "name": "",
         "orientation": "v",
         "showlegend": false,
         "type": "scatter",
         "x": [
          0,
          1,
          2,
          3,
          4,
          5,
          6,
          7,
          8,
          9
         ],
         "xaxis": "x58",
         "y": [
          -0.21836867272556715,
          0.23660638788084554,
          0.4953404484872581,
          0.2985765090936705,
          -0.07972843029991639,
          -0.864133369693505,
          -0.36792830908709107,
          -0.26478324848067825,
          0.30215181212573317,
          0.46226687273214573
         ],
         "yaxis": "y58"
        },
        {
         "hovertemplate": "z=50<br>n=68<br>quanta=%{x}<br>residuals=%{y}<br>r2=%{marker.color}<extra></extra>",
         "legendgroup": "",
         "marker": {
          "color": [
           0.982819241170226,
           0.982819241170226,
           0.982819241170226,
           0.982819241170226,
           0.982819241170226
          ],
          "coloraxis": "coloraxis",
          "symbol": "circle"
         },
         "mode": "markers",
         "name": "",
         "orientation": "v",
         "showlegend": false,
         "type": "scatter",
         "x": [
          0,
          1,
          2,
          3,
          4
         ],
         "xaxis": "x59",
         "y": [
          -0.20953480009363104,
          0.10475279976702367,
          0.2400503996276786,
          0.04377999948833322,
          -0.1790484006510118
         ],
         "yaxis": "y59"
        },
        {
         "hovertemplate": "z=50<br>n=70<br>quanta=%{x}<br>residuals=%{y}<br>r2=%{marker.color}<extra></extra>",
         "legendgroup": "",
         "marker": {
          "color": [
           0.9709930046814991,
           0.9709930046814991,
           0.9709930046814991,
           0.9709930046814991
          ],
          "coloraxis": "coloraxis",
          "symbol": "circle"
         },
         "mode": "markers",
         "name": "",
         "orientation": "v",
         "showlegend": false,
         "type": "scatter",
         "x": [
          0,
          1,
          2,
          3
         ],
         "xaxis": "x60",
         "y": [
          -0.15090389999814757,
          0.1125097000020534,
          0.22769230000225416,
          -0.18929809999754532
         ],
         "yaxis": "y60"
        },
        {
         "hovertemplate": "z=50<br>n=72<br>quanta=%{x}<br>residuals=%{y}<br>r2=%{marker.color}<extra></extra>",
         "legendgroup": "",
         "marker": {
          "color": [
           0.9635076699256668,
           0.9635076699256668,
           0.9635076699256668,
           0.9635076699256668
          ],
          "coloraxis": "coloraxis",
          "symbol": "circle"
         },
         "mode": "markers",
         "name": "",
         "orientation": "v",
         "showlegend": false,
         "type": "scatter",
         "x": [
          0,
          1,
          2,
          3
         ],
         "xaxis": "x61",
         "y": [
          -0.15932599999816588,
          0.11440300000212433,
          0.24917200000241468,
          -0.20424899999729496
         ],
         "yaxis": "y61"
        },
        {
         "hovertemplate": "z=50<br>n=74<br>quanta=%{x}<br>residuals=%{y}<br>r2=%{marker.color}<extra></extra>",
         "legendgroup": "",
         "marker": {
          "color": [
           0.9553859320404818,
           0.9553859320404818,
           0.9553859320404818,
           0.9553859320404818
          ],
          "coloraxis": "coloraxis",
          "symbol": "circle"
         },
         "mode": "markers",
         "name": "",
         "orientation": "v",
         "showlegend": false,
         "type": "scatter",
         "x": [
          0,
          1,
          2,
          3
         ],
         "xaxis": "x62",
         "y": [
          -0.17199869999819328,
          0.12644110000217013,
          0.2631139000025333,
          -0.2175562999971028
         ],
         "yaxis": "y62"
        },
        {
         "hovertemplate": "z=56<br>n=82<br>quanta=%{x}<br>residuals=%{y}<br>r2=%{marker.color}<extra></extra>",
         "legendgroup": "",
         "marker": {
          "color": [
           0.9661455712500561,
           0.9661455712500561,
           0.9661455712500561,
           0.9661455712500561,
           0.9661455712500561,
           0.9661455712500561,
           0.9661455712500561
          ],
          "coloraxis": "coloraxis",
          "symbol": "circle"
         },
         "mode": "markers",
         "name": "",
         "orientation": "v",
         "showlegend": false,
         "type": "scatter",
         "x": [
          0,
          1,
          2,
          3,
          4,
          5,
          6
         ],
         "xaxis": "x47",
         "y": [
          -0.3037396428556244,
          0.4276152857164488,
          0.18594821428852204,
          -0.3265538571394049,
          0.06206007143266801,
          -0.20388999999525836,
          0.1585599285768149
         ],
         "yaxis": "y47"
        },
        {
         "hovertemplate": "z=58<br>n=82<br>quanta=%{x}<br>residuals=%{y}<br>r2=%{marker.color}<extra></extra>",
         "legendgroup": "",
         "marker": {
          "color": [
           0.9478884483785037,
           0.9478884483785037,
           0.9478884483785037,
           0.9478884483785037,
           0.9478884483785037,
           0.9478884483785037,
           0.9478884483785037
          ],
          "coloraxis": "coloraxis",
          "symbol": "circle"
         },
         "mode": "markers",
         "name": "",
         "orientation": "v",
         "showlegend": false,
         "type": "scatter",
         "x": [
          0,
          1,
          2,
          3,
          4,
          5,
          6
         ],
         "xaxis": "x31",
         "y": [
          -0.38588425648734737,
          0.4882603521525899,
          0.253197960792527,
          -0.44429543056753573,
          0.23806217807240193,
          -0.282026213287661,
          0.13268539535227664
         ],
         "yaxis": "y31"
        },
        {
         "hovertemplate": "z=58<br>n=78<br>quanta=%{x}<br>residuals=%{y}<br>r2=%{marker.color}<extra></extra>",
         "legendgroup": "",
         "marker": {
          "color": [
           0.9874969918943329,
           0.9874969918943329,
           0.9874969918943329,
           0.9874969918943329,
           0.9874969918943329,
           0.9874969918943329,
           0.9874969918943329,
           0.9874969918943329,
           0.9874969918943329
          ],
          "coloraxis": "coloraxis",
          "symbol": "circle"
         },
         "mode": "markers",
         "name": "",
         "orientation": "v",
         "showlegend": false,
         "type": "scatter",
         "x": [
          0,
          1,
          2,
          3,
          4,
          5,
          6,
          7,
          8
         ],
         "xaxis": "x32",
         "y": [
          0.03058355555780312,
          -0.10147594444150798,
          -0.023895444440819036,
          0.19195505555987014,
          0.28354555556055905,
          -0.29496394443875174,
          -0.31397344443806263,
          0.027917055562626025,
          0.2003075555633158
         ],
         "yaxis": "y32"
        },
        {
         "hovertemplate": "z=60<br>n=82<br>quanta=%{x}<br>residuals=%{y}<br>r2=%{marker.color}<extra></extra>",
         "legendgroup": "",
         "marker": {
          "color": [
           0.9393669644770828,
           0.9393669644770828,
           0.9393669644770828,
           0.9393669644770828,
           0.9393669644770828,
           0.9393669644770828
          ],
          "coloraxis": "coloraxis",
          "symbol": "circle"
         },
         "mode": "markers",
         "name": "",
         "orientation": "v",
         "showlegend": false,
         "type": "scatter",
         "x": [
          0,
          1,
          2,
          3,
          4,
          5
         ],
         "xaxis": "x15",
         "y": [
          -0.3988324348232257,
          0.45220253844979963,
          0.2524645117228248,
          -0.36376451500414975,
          0.15548745826887567,
          -0.09755756845809938
         ],
         "yaxis": "y15"
        }
       ],
       "layout": {
        "annotations": [
         {
          "showarrow": false,
          "text": "n=8",
          "x": 0.021249999999999998,
          "xanchor": "center",
          "xref": "paper",
          "y": 1,
          "yanchor": "bottom",
          "yref": "paper"
         },
         {
          "showarrow": false,
          "text": "n=20",
          "x": 0.08374999999999999,
          "xanchor": "center",
          "xref": "paper",
          "y": 1,
          "yanchor": "bottom",
          "yref": "paper"
         },
         {
          "showarrow": false,
          "text": "n=22",
          "x": 0.14625,
          "xanchor": "center",
          "xref": "paper",
          "y": 1,
          "yanchor": "bottom",
          "yref": "paper"
         },
         {
          "showarrow": false,
          "text": "n=24",
          "x": 0.20875,
          "xanchor": "center",
          "xref": "paper",
          "y": 1,
          "yanchor": "bottom",
          "yref": "paper"
         },
         {
          "showarrow": false,
          "text": "n=26",
          "x": 0.27125,
          "xanchor": "center",
          "xref": "paper",
          "y": 1,
          "yanchor": "bottom",
          "yref": "paper"
         },
         {
          "showarrow": false,
          "text": "n=50",
          "x": 0.33375,
          "xanchor": "center",
          "xref": "paper",
          "y": 1,
          "yanchor": "bottom",
          "yref": "paper"
         },
         {
          "showarrow": false,
          "text": "n=58",
          "x": 0.39625,
          "xanchor": "center",
          "xref": "paper",
          "y": 1,
          "yanchor": "bottom",
          "yref": "paper"
         },
         {
          "showarrow": false,
          "text": "n=62",
          "x": 0.45875,
          "xanchor": "center",
          "xref": "paper",
          "y": 1,
          "yanchor": "bottom",
          "yref": "paper"
         },
         {
          "showarrow": false,
          "text": "n=64",
          "x": 0.52125,
          "xanchor": "center",
          "xref": "paper",
          "y": 1,
          "yanchor": "bottom",
          "yref": "paper"
         },
         {
          "showarrow": false,
          "text": "n=66",
          "x": 0.58375,
          "xanchor": "center",
          "xref": "paper",
          "y": 1,
          "yanchor": "bottom",
          "yref": "paper"
         },
         {
          "showarrow": false,
          "text": "n=68",
          "x": 0.64625,
          "xanchor": "center",
          "xref": "paper",
          "y": 1,
          "yanchor": "bottom",
          "yref": "paper"
         },
         {
          "showarrow": false,
          "text": "n=70",
          "x": 0.70875,
          "xanchor": "center",
          "xref": "paper",
          "y": 1,
          "yanchor": "bottom",
          "yref": "paper"
         },
         {
          "showarrow": false,
          "text": "n=72",
          "x": 0.77125,
          "xanchor": "center",
          "xref": "paper",
          "y": 1,
          "yanchor": "bottom",
          "yref": "paper"
         },
         {
          "showarrow": false,
          "text": "n=74",
          "x": 0.83375,
          "xanchor": "center",
          "xref": "paper",
          "y": 1,
          "yanchor": "bottom",
          "yref": "paper"
         },
         {
          "showarrow": false,
          "text": "n=82",
          "x": 0.89625,
          "xanchor": "center",
          "xref": "paper",
          "y": 1,
          "yanchor": "bottom",
          "yref": "paper"
         },
         {
          "showarrow": false,
          "text": "n=78",
          "x": 0.95875,
          "xanchor": "center",
          "xref": "paper",
          "y": 1,
          "yanchor": "bottom",
          "yref": "paper"
         },
         {
          "showarrow": false,
          "text": "z=60",
          "textangle": 90,
          "x": 0.98,
          "xanchor": "left",
          "xref": "paper",
          "y": 0.02461538461538462,
          "yanchor": "middle",
          "yref": "paper"
         },
         {
          "showarrow": false,
          "text": "z=58",
          "textangle": 90,
          "x": 0.98,
          "xanchor": "left",
          "xref": "paper",
          "y": 0.10384615384615387,
          "yanchor": "middle",
          "yref": "paper"
         },
         {
          "showarrow": false,
          "text": "z=56",
          "textangle": 90,
          "x": 0.98,
          "xanchor": "left",
          "xref": "paper",
          "y": 0.1830769230769231,
          "yanchor": "middle",
          "yref": "paper"
         },
         {
          "showarrow": false,
          "text": "z=50",
          "textangle": 90,
          "x": 0.98,
          "xanchor": "left",
          "xref": "paper",
          "y": 0.26230769230769235,
          "yanchor": "middle",
          "yref": "paper"
         },
         {
          "showarrow": false,
          "text": "z=48",
          "textangle": 90,
          "x": 0.98,
          "xanchor": "left",
          "xref": "paper",
          "y": 0.34153846153846157,
          "yanchor": "middle",
          "yref": "paper"
         },
         {
          "showarrow": false,
          "text": "z=46",
          "textangle": 90,
          "x": 0.98,
          "xanchor": "left",
          "xref": "paper",
          "y": 0.4207692307692308,
          "yanchor": "middle",
          "yref": "paper"
         },
         {
          "showarrow": false,
          "text": "z=44",
          "textangle": 90,
          "x": 0.98,
          "xanchor": "left",
          "xref": "paper",
          "y": 0.5,
          "yanchor": "middle",
          "yref": "paper"
         },
         {
          "showarrow": false,
          "text": "z=38",
          "textangle": 90,
          "x": 0.98,
          "xanchor": "left",
          "xref": "paper",
          "y": 0.5792307692307692,
          "yanchor": "middle",
          "yref": "paper"
         },
         {
          "showarrow": false,
          "text": "z=36",
          "textangle": 90,
          "x": 0.98,
          "xanchor": "left",
          "xref": "paper",
          "y": 0.6584615384615385,
          "yanchor": "middle",
          "yref": "paper"
         },
         {
          "showarrow": false,
          "text": "z=20",
          "textangle": 90,
          "x": 0.98,
          "xanchor": "left",
          "xref": "paper",
          "y": 0.7376923076923078,
          "yanchor": "middle",
          "yref": "paper"
         },
         {
          "showarrow": false,
          "text": "z=18",
          "textangle": 90,
          "x": 0.98,
          "xanchor": "left",
          "xref": "paper",
          "y": 0.816923076923077,
          "yanchor": "middle",
          "yref": "paper"
         },
         {
          "showarrow": false,
          "text": "z=16",
          "textangle": 90,
          "x": 0.98,
          "xanchor": "left",
          "xref": "paper",
          "y": 0.8961538461538462,
          "yanchor": "middle",
          "yref": "paper"
         },
         {
          "showarrow": false,
          "text": "z=8",
          "textangle": 90,
          "x": 0.98,
          "xanchor": "left",
          "xref": "paper",
          "y": 0.9753846153846154,
          "yanchor": "middle",
          "yref": "paper"
         }
        ],
        "coloraxis": {
         "colorbar": {
          "title": {
           "text": "r2"
          }
         },
         "colorscale": [
          [
           0,
           "#0d0887"
          ],
          [
           0.1111111111111111,
           "#46039f"
          ],
          [
           0.2222222222222222,
           "#7201a8"
          ],
          [
           0.3333333333333333,
           "#9c179e"
          ],
          [
           0.4444444444444444,
           "#bd3786"
          ],
          [
           0.5555555555555556,
           "#d8576b"
          ],
          [
           0.6666666666666666,
           "#ed7953"
          ],
          [
           0.7777777777777778,
           "#fb9f3a"
          ],
          [
           0.8888888888888888,
           "#fdca26"
          ],
          [
           1,
           "#f0f921"
          ]
         ]
        },
        "height": 1000,
        "legend": {
         "tracegroupgap": 0
        },
        "margin": {
         "t": 60
        },
        "shapes": [
         {
          "line": {
           "color": "black",
           "dash": "dash",
           "width": 1
          },
          "type": "line",
          "x0": 0,
          "x1": 1,
          "xref": "x15 domain",
          "y0": 0,
          "y1": 0,
          "yref": "y15"
         },
         {
          "line": {
           "color": "black",
           "dash": "dash",
           "width": 1
          },
          "type": "line",
          "x0": 0,
          "x1": 1,
          "xref": "x31 domain",
          "y0": 0,
          "y1": 0,
          "yref": "y31"
         },
         {
          "line": {
           "color": "black",
           "dash": "dash",
           "width": 1
          },
          "type": "line",
          "x0": 0,
          "x1": 1,
          "xref": "x32 domain",
          "y0": 0,
          "y1": 0,
          "yref": "y32"
         },
         {
          "line": {
           "color": "black",
           "dash": "dash",
           "width": 1
          },
          "type": "line",
          "x0": 0,
          "x1": 1,
          "xref": "x47 domain",
          "y0": 0,
          "y1": 0,
          "yref": "y47"
         },
         {
          "line": {
           "color": "black",
           "dash": "dash",
           "width": 1
          },
          "type": "line",
          "x0": 0,
          "x1": 1,
          "xref": "x56 domain",
          "y0": 0,
          "y1": 0,
          "yref": "y56"
         },
         {
          "line": {
           "color": "black",
           "dash": "dash",
           "width": 1
          },
          "type": "line",
          "x0": 0,
          "x1": 1,
          "xref": "x57 domain",
          "y0": 0,
          "y1": 0,
          "yref": "y57"
         },
         {
          "line": {
           "color": "black",
           "dash": "dash",
           "width": 1
          },
          "type": "line",
          "x0": 0,
          "x1": 1,
          "xref": "x58 domain",
          "y0": 0,
          "y1": 0,
          "yref": "y58"
         },
         {
          "line": {
           "color": "black",
           "dash": "dash",
           "width": 1
          },
          "type": "line",
          "x0": 0,
          "x1": 1,
          "xref": "x59 domain",
          "y0": 0,
          "y1": 0,
          "yref": "y59"
         },
         {
          "line": {
           "color": "black",
           "dash": "dash",
           "width": 1
          },
          "type": "line",
          "x0": 0,
          "x1": 1,
          "xref": "x60 domain",
          "y0": 0,
          "y1": 0,
          "yref": "y60"
         },
         {
          "line": {
           "color": "black",
           "dash": "dash",
           "width": 1
          },
          "type": "line",
          "x0": 0,
          "x1": 1,
          "xref": "x61 domain",
          "y0": 0,
          "y1": 0,
          "yref": "y61"
         },
         {
          "line": {
           "color": "black",
           "dash": "dash",
           "width": 1
          },
          "type": "line",
          "x0": 0,
          "x1": 1,
          "xref": "x62 domain",
          "y0": 0,
          "y1": 0,
          "yref": "y62"
         },
         {
          "line": {
           "color": "black",
           "dash": "dash",
           "width": 1
          },
          "type": "line",
          "x0": 0,
          "x1": 1,
          "xref": "x71 domain",
          "y0": 0,
          "y1": 0,
          "yref": "y71"
         },
         {
          "line": {
           "color": "black",
           "dash": "dash",
           "width": 1
          },
          "type": "line",
          "x0": 0,
          "x1": 1,
          "xref": "x87 domain",
          "y0": 0,
          "y1": 0,
          "yref": "y87"
         },
         {
          "line": {
           "color": "black",
           "dash": "dash",
           "width": 1
          },
          "type": "line",
          "x0": 0,
          "x1": 1,
          "xref": "x103 domain",
          "y0": 0,
          "y1": 0,
          "yref": "y103"
         },
         {
          "line": {
           "color": "black",
           "dash": "dash",
           "width": 1
          },
          "type": "line",
          "x0": 0,
          "x1": 1,
          "xref": "x118 domain",
          "y0": 0,
          "y1": 0,
          "yref": "y118"
         },
         {
          "line": {
           "color": "black",
           "dash": "dash",
           "width": 1
          },
          "type": "line",
          "x0": 0,
          "x1": 1,
          "xref": "x134 domain",
          "y0": 0,
          "y1": 0,
          "yref": "y134"
         },
         {
          "line": {
           "color": "black",
           "dash": "dash",
           "width": 1
          },
          "type": "line",
          "x0": 0,
          "x1": 1,
          "xref": "x146 domain",
          "y0": 0,
          "y1": 0,
          "yref": "y146"
         },
         {
          "line": {
           "color": "black",
           "dash": "dash",
           "width": 1
          },
          "type": "line",
          "x0": 0,
          "x1": 1,
          "xref": "x147 domain",
          "y0": 0,
          "y1": 0,
          "yref": "y147"
         },
         {
          "line": {
           "color": "black",
           "dash": "dash",
           "width": 1
          },
          "type": "line",
          "x0": 0,
          "x1": 1,
          "xref": "x148 domain",
          "y0": 0,
          "y1": 0,
          "yref": "y148"
         },
         {
          "line": {
           "color": "black",
           "dash": "dash",
           "width": 1
          },
          "type": "line",
          "x0": 0,
          "x1": 1,
          "xref": "x149 domain",
          "y0": 0,
          "y1": 0,
          "yref": "y149"
         },
         {
          "line": {
           "color": "black",
           "dash": "dash",
           "width": 1
          },
          "type": "line",
          "x0": 0,
          "x1": 1,
          "xref": "x162 domain",
          "y0": 0,
          "y1": 0,
          "yref": "y162"
         },
         {
          "line": {
           "color": "black",
           "dash": "dash",
           "width": 1
          },
          "type": "line",
          "x0": 0,
          "x1": 1,
          "xref": "x178 domain",
          "y0": 0,
          "y1": 0,
          "yref": "y178"
         },
         {
          "line": {
           "color": "black",
           "dash": "dash",
           "width": 1
          },
          "type": "line",
          "x0": 0,
          "x1": 1,
          "xref": "x193 domain",
          "y0": 0,
          "y1": 0,
          "yref": "y193"
         }
        ],
        "template": {
         "data": {
          "bar": [
           {
            "error_x": {
             "color": "#2a3f5f"
            },
            "error_y": {
             "color": "#2a3f5f"
            },
            "marker": {
             "line": {
              "color": "#E5ECF6",
              "width": 0.5
             },
             "pattern": {
              "fillmode": "overlay",
              "size": 10,
              "solidity": 0.2
             }
            },
            "type": "bar"
           }
          ],
          "barpolar": [
           {
            "marker": {
             "line": {
              "color": "#E5ECF6",
              "width": 0.5
             },
             "pattern": {
              "fillmode": "overlay",
              "size": 10,
              "solidity": 0.2
             }
            },
            "type": "barpolar"
           }
          ],
          "carpet": [
           {
            "aaxis": {
             "endlinecolor": "#2a3f5f",
             "gridcolor": "white",
             "linecolor": "white",
             "minorgridcolor": "white",
             "startlinecolor": "#2a3f5f"
            },
            "baxis": {
             "endlinecolor": "#2a3f5f",
             "gridcolor": "white",
             "linecolor": "white",
             "minorgridcolor": "white",
             "startlinecolor": "#2a3f5f"
            },
            "type": "carpet"
           }
          ],
          "choropleth": [
           {
            "colorbar": {
             "outlinewidth": 0,
             "ticks": ""
            },
            "type": "choropleth"
           }
          ],
          "contour": [
           {
            "colorbar": {
             "outlinewidth": 0,
             "ticks": ""
            },
            "colorscale": [
             [
              0,
              "#0d0887"
             ],
             [
              0.1111111111111111,
              "#46039f"
             ],
             [
              0.2222222222222222,
              "#7201a8"
             ],
             [
              0.3333333333333333,
              "#9c179e"
             ],
             [
              0.4444444444444444,
              "#bd3786"
             ],
             [
              0.5555555555555556,
              "#d8576b"
             ],
             [
              0.6666666666666666,
              "#ed7953"
             ],
             [
              0.7777777777777778,
              "#fb9f3a"
             ],
             [
              0.8888888888888888,
              "#fdca26"
             ],
             [
              1,
              "#f0f921"
             ]
            ],
            "type": "contour"
           }
          ],
          "contourcarpet": [
           {
            "colorbar": {
             "outlinewidth": 0,
             "ticks": ""
            },
            "type": "contourcarpet"
           }
          ],
          "heatmap": [
           {
            "colorbar": {
             "outlinewidth": 0,
             "ticks": ""
            },
            "colorscale": [
             [
              0,
              "#0d0887"
             ],
             [
              0.1111111111111111,
              "#46039f"
             ],
             [
              0.2222222222222222,
              "#7201a8"
             ],
             [
              0.3333333333333333,
              "#9c179e"
             ],
             [
              0.4444444444444444,
              "#bd3786"
             ],
             [
              0.5555555555555556,
              "#d8576b"
             ],
             [
              0.6666666666666666,
              "#ed7953"
             ],
             [
              0.7777777777777778,
              "#fb9f3a"
             ],
             [
              0.8888888888888888,
              "#fdca26"
             ],
             [
              1,
              "#f0f921"
             ]
            ],
            "type": "heatmap"
           }
          ],
          "heatmapgl": [
           {
            "colorbar": {
             "outlinewidth": 0,
             "ticks": ""
            },
            "colorscale": [
             [
              0,
              "#0d0887"
             ],
             [
              0.1111111111111111,
              "#46039f"
             ],
             [
              0.2222222222222222,
              "#7201a8"
             ],
             [
              0.3333333333333333,
              "#9c179e"
             ],
             [
              0.4444444444444444,
              "#bd3786"
             ],
             [
              0.5555555555555556,
              "#d8576b"
             ],
             [
              0.6666666666666666,
              "#ed7953"
             ],
             [
              0.7777777777777778,
              "#fb9f3a"
             ],
             [
              0.8888888888888888,
              "#fdca26"
             ],
             [
              1,
              "#f0f921"
             ]
            ],
            "type": "heatmapgl"
           }
          ],
          "histogram": [
           {
            "marker": {
             "pattern": {
              "fillmode": "overlay",
              "size": 10,
              "solidity": 0.2
             }
            },
            "type": "histogram"
           }
          ],
          "histogram2d": [
           {
            "colorbar": {
             "outlinewidth": 0,
             "ticks": ""
            },
            "colorscale": [
             [
              0,
              "#0d0887"
             ],
             [
              0.1111111111111111,
              "#46039f"
             ],
             [
              0.2222222222222222,
              "#7201a8"
             ],
             [
              0.3333333333333333,
              "#9c179e"
             ],
             [
              0.4444444444444444,
              "#bd3786"
             ],
             [
              0.5555555555555556,
              "#d8576b"
             ],
             [
              0.6666666666666666,
              "#ed7953"
             ],
             [
              0.7777777777777778,
              "#fb9f3a"
             ],
             [
              0.8888888888888888,
              "#fdca26"
             ],
             [
              1,
              "#f0f921"
             ]
            ],
            "type": "histogram2d"
           }
          ],
          "histogram2dcontour": [
           {
            "colorbar": {
             "outlinewidth": 0,
             "ticks": ""
            },
            "colorscale": [
             [
              0,
              "#0d0887"
             ],
             [
              0.1111111111111111,
              "#46039f"
             ],
             [
              0.2222222222222222,
              "#7201a8"
             ],
             [
              0.3333333333333333,
              "#9c179e"
             ],
             [
              0.4444444444444444,
              "#bd3786"
             ],
             [
              0.5555555555555556,
              "#d8576b"
             ],
             [
              0.6666666666666666,
              "#ed7953"
             ],
             [
              0.7777777777777778,
              "#fb9f3a"
             ],
             [
              0.8888888888888888,
              "#fdca26"
             ],
             [
              1,
              "#f0f921"
             ]
            ],
            "type": "histogram2dcontour"
           }
          ],
          "mesh3d": [
           {
            "colorbar": {
             "outlinewidth": 0,
             "ticks": ""
            },
            "type": "mesh3d"
           }
          ],
          "parcoords": [
           {
            "line": {
             "colorbar": {
              "outlinewidth": 0,
              "ticks": ""
             }
            },
            "type": "parcoords"
           }
          ],
          "pie": [
           {
            "automargin": true,
            "type": "pie"
           }
          ],
          "scatter": [
           {
            "fillpattern": {
             "fillmode": "overlay",
             "size": 10,
             "solidity": 0.2
            },
            "type": "scatter"
           }
          ],
          "scatter3d": [
           {
            "line": {
             "colorbar": {
              "outlinewidth": 0,
              "ticks": ""
             }
            },
            "marker": {
             "colorbar": {
              "outlinewidth": 0,
              "ticks": ""
             }
            },
            "type": "scatter3d"
           }
          ],
          "scattercarpet": [
           {
            "marker": {
             "colorbar": {
              "outlinewidth": 0,
              "ticks": ""
             }
            },
            "type": "scattercarpet"
           }
          ],
          "scattergeo": [
           {
            "marker": {
             "colorbar": {
              "outlinewidth": 0,
              "ticks": ""
             }
            },
            "type": "scattergeo"
           }
          ],
          "scattergl": [
           {
            "marker": {
             "colorbar": {
              "outlinewidth": 0,
              "ticks": ""
             }
            },
            "type": "scattergl"
           }
          ],
          "scattermapbox": [
           {
            "marker": {
             "colorbar": {
              "outlinewidth": 0,
              "ticks": ""
             }
            },
            "type": "scattermapbox"
           }
          ],
          "scatterpolar": [
           {
            "marker": {
             "colorbar": {
              "outlinewidth": 0,
              "ticks": ""
             }
            },
            "type": "scatterpolar"
           }
          ],
          "scatterpolargl": [
           {
            "marker": {
             "colorbar": {
              "outlinewidth": 0,
              "ticks": ""
             }
            },
            "type": "scatterpolargl"
           }
          ],
          "scatterternary": [
           {
            "marker": {
             "colorbar": {
              "outlinewidth": 0,
              "ticks": ""
             }
            },
            "type": "scatterternary"
           }
          ],
          "surface": [
           {
            "colorbar": {
             "outlinewidth": 0,
             "ticks": ""
            },
            "colorscale": [
             [
              0,
              "#0d0887"
             ],
             [
              0.1111111111111111,
              "#46039f"
             ],
             [
              0.2222222222222222,
              "#7201a8"
             ],
             [
              0.3333333333333333,
              "#9c179e"
             ],
             [
              0.4444444444444444,
              "#bd3786"
             ],
             [
              0.5555555555555556,
              "#d8576b"
             ],
             [
              0.6666666666666666,
              "#ed7953"
             ],
             [
              0.7777777777777778,
              "#fb9f3a"
             ],
             [
              0.8888888888888888,
              "#fdca26"
             ],
             [
              1,
              "#f0f921"
             ]
            ],
            "type": "surface"
           }
          ],
          "table": [
           {
            "cells": {
             "fill": {
              "color": "#EBF0F8"
             },
             "line": {
              "color": "white"
             }
            },
            "header": {
             "fill": {
              "color": "#C8D4E3"
             },
             "line": {
              "color": "white"
             }
            },
            "type": "table"
           }
          ]
         },
         "layout": {
          "annotationdefaults": {
           "arrowcolor": "#2a3f5f",
           "arrowhead": 0,
           "arrowwidth": 1
          },
          "autotypenumbers": "strict",
          "coloraxis": {
           "colorbar": {
            "outlinewidth": 0,
            "ticks": ""
           }
          },
          "colorscale": {
           "diverging": [
            [
             0,
             "#8e0152"
            ],
            [
             0.1,
             "#c51b7d"
            ],
            [
             0.2,
             "#de77ae"
            ],
            [
             0.3,
             "#f1b6da"
            ],
            [
             0.4,
             "#fde0ef"
            ],
            [
             0.5,
             "#f7f7f7"
            ],
            [
             0.6,
             "#e6f5d0"
            ],
            [
             0.7,
             "#b8e186"
            ],
            [
             0.8,
             "#7fbc41"
            ],
            [
             0.9,
             "#4d9221"
            ],
            [
             1,
             "#276419"
            ]
           ],
           "sequential": [
            [
             0,
             "#0d0887"
            ],
            [
             0.1111111111111111,
             "#46039f"
            ],
            [
             0.2222222222222222,
             "#7201a8"
            ],
            [
             0.3333333333333333,
             "#9c179e"
            ],
            [
             0.4444444444444444,
             "#bd3786"
            ],
            [
             0.5555555555555556,
             "#d8576b"
            ],
            [
             0.6666666666666666,
             "#ed7953"
            ],
            [
             0.7777777777777778,
             "#fb9f3a"
            ],
            [
             0.8888888888888888,
             "#fdca26"
            ],
            [
             1,
             "#f0f921"
            ]
           ],
           "sequentialminus": [
            [
             0,
             "#0d0887"
            ],
            [
             0.1111111111111111,
             "#46039f"
            ],
            [
             0.2222222222222222,
             "#7201a8"
            ],
            [
             0.3333333333333333,
             "#9c179e"
            ],
            [
             0.4444444444444444,
             "#bd3786"
            ],
            [
             0.5555555555555556,
             "#d8576b"
            ],
            [
             0.6666666666666666,
             "#ed7953"
            ],
            [
             0.7777777777777778,
             "#fb9f3a"
            ],
            [
             0.8888888888888888,
             "#fdca26"
            ],
            [
             1,
             "#f0f921"
            ]
           ]
          },
          "colorway": [
           "#636efa",
           "#EF553B",
           "#00cc96",
           "#ab63fa",
           "#FFA15A",
           "#19d3f3",
           "#FF6692",
           "#B6E880",
           "#FF97FF",
           "#FECB52"
          ],
          "font": {
           "color": "#2a3f5f"
          },
          "geo": {
           "bgcolor": "white",
           "lakecolor": "white",
           "landcolor": "#E5ECF6",
           "showlakes": true,
           "showland": true,
           "subunitcolor": "white"
          },
          "hoverlabel": {
           "align": "left"
          },
          "hovermode": "closest",
          "mapbox": {
           "style": "light"
          },
          "paper_bgcolor": "white",
          "plot_bgcolor": "#E5ECF6",
          "polar": {
           "angularaxis": {
            "gridcolor": "white",
            "linecolor": "white",
            "ticks": ""
           },
           "bgcolor": "#E5ECF6",
           "radialaxis": {
            "gridcolor": "white",
            "linecolor": "white",
            "ticks": ""
           }
          },
          "scene": {
           "xaxis": {
            "backgroundcolor": "#E5ECF6",
            "gridcolor": "white",
            "gridwidth": 2,
            "linecolor": "white",
            "showbackground": true,
            "ticks": "",
            "zerolinecolor": "white"
           },
           "yaxis": {
            "backgroundcolor": "#E5ECF6",
            "gridcolor": "white",
            "gridwidth": 2,
            "linecolor": "white",
            "showbackground": true,
            "ticks": "",
            "zerolinecolor": "white"
           },
           "zaxis": {
            "backgroundcolor": "#E5ECF6",
            "gridcolor": "white",
            "gridwidth": 2,
            "linecolor": "white",
            "showbackground": true,
            "ticks": "",
            "zerolinecolor": "white"
           }
          },
          "shapedefaults": {
           "line": {
            "color": "#2a3f5f"
           }
          },
          "ternary": {
           "aaxis": {
            "gridcolor": "white",
            "linecolor": "white",
            "ticks": ""
           },
           "baxis": {
            "gridcolor": "white",
            "linecolor": "white",
            "ticks": ""
           },
           "bgcolor": "#E5ECF6",
           "caxis": {
            "gridcolor": "white",
            "linecolor": "white",
            "ticks": ""
           }
          },
          "title": {
           "x": 0.05
          },
          "xaxis": {
           "automargin": true,
           "gridcolor": "white",
           "linecolor": "white",
           "ticks": "",
           "title": {
            "standoff": 15
           },
           "zerolinecolor": "white",
           "zerolinewidth": 2
          },
          "yaxis": {
           "automargin": true,
           "gridcolor": "white",
           "linecolor": "white",
           "ticks": "",
           "title": {
            "standoff": 15
           },
           "zerolinecolor": "white",
           "zerolinewidth": 2
          }
         }
        },
        "xaxis": {
         "anchor": "y",
         "domain": [
          0,
          0.042499999999999996
         ],
         "title": {
          "text": "quanta"
         }
        },
        "xaxis10": {
         "anchor": "y10",
         "domain": [
          0.5625,
          0.605
         ],
         "matches": "x",
         "title": {
          "text": "quanta"
         }
        },
        "xaxis100": {
         "anchor": "y100",
         "domain": [
          0.1875,
          0.22999999999999998
         ],
         "matches": "x",
         "showticklabels": false
        },
        "xaxis101": {
         "anchor": "y101",
         "domain": [
          0.25,
          0.2925
         ],
         "matches": "x",
         "showticklabels": false
        },
        "xaxis102": {
         "anchor": "y102",
         "domain": [
          0.3125,
          0.355
         ],
         "matches": "x",
         "showticklabels": false
        },
        "xaxis103": {
         "anchor": "y103",
         "domain": [
          0.375,
          0.4175
         ],
         "matches": "x",
         "showticklabels": false
        },
        "xaxis104": {
         "anchor": "y104",
         "domain": [
          0.4375,
          0.48
         ],
         "matches": "x",
         "showticklabels": false
        },
        "xaxis105": {
         "anchor": "y105",
         "domain": [
          0.5,
          0.5425
         ],
         "matches": "x",
         "showticklabels": false
        },
        "xaxis106": {
         "anchor": "y106",
         "domain": [
          0.5625,
          0.605
         ],
         "matches": "x",
         "showticklabels": false
        },
        "xaxis107": {
         "anchor": "y107",
         "domain": [
          0.625,
          0.6675
         ],
         "matches": "x",
         "showticklabels": false
        },
        "xaxis108": {
         "anchor": "y108",
         "domain": [
          0.6875,
          0.73
         ],
         "matches": "x",
         "showticklabels": false
        },
        "xaxis109": {
         "anchor": "y109",
         "domain": [
          0.75,
          0.7925
         ],
         "matches": "x",
         "showticklabels": false
        },
        "xaxis11": {
         "anchor": "y11",
         "domain": [
          0.625,
          0.6675
         ],
         "matches": "x",
         "title": {
          "text": "quanta"
         }
        },
        "xaxis110": {
         "anchor": "y110",
         "domain": [
          0.8125,
          0.855
         ],
         "matches": "x",
         "showticklabels": false
        },
        "xaxis111": {
         "anchor": "y111",
         "domain": [
          0.875,
          0.9175
         ],
         "matches": "x",
         "showticklabels": false
        },
        "xaxis112": {
         "anchor": "y112",
         "domain": [
          0.9375,
          0.98
         ],
         "matches": "x",
         "showticklabels": false
        },
        "xaxis113": {
         "anchor": "y113",
         "domain": [
          0,
          0.042499999999999996
         ],
         "matches": "x",
         "showticklabels": false
        },
        "xaxis114": {
         "anchor": "y114",
         "domain": [
          0.0625,
          0.105
         ],
         "matches": "x",
         "showticklabels": false
        },
        "xaxis115": {
         "anchor": "y115",
         "domain": [
          0.125,
          0.16749999999999998
         ],
         "matches": "x",
         "showticklabels": false
        },
        "xaxis116": {
         "anchor": "y116",
         "domain": [
          0.1875,
          0.22999999999999998
         ],
         "matches": "x",
         "showticklabels": false
        },
        "xaxis117": {
         "anchor": "y117",
         "domain": [
          0.25,
          0.2925
         ],
         "matches": "x",
         "showticklabels": false
        },
        "xaxis118": {
         "anchor": "y118",
         "domain": [
          0.3125,
          0.355
         ],
         "matches": "x",
         "showticklabels": false
        },
        "xaxis119": {
         "anchor": "y119",
         "domain": [
          0.375,
          0.4175
         ],
         "matches": "x",
         "showticklabels": false
        },
        "xaxis12": {
         "anchor": "y12",
         "domain": [
          0.6875,
          0.73
         ],
         "matches": "x",
         "title": {
          "text": "quanta"
         }
        },
        "xaxis120": {
         "anchor": "y120",
         "domain": [
          0.4375,
          0.48
         ],
         "matches": "x",
         "showticklabels": false
        },
        "xaxis121": {
         "anchor": "y121",
         "domain": [
          0.5,
          0.5425
         ],
         "matches": "x",
         "showticklabels": false
        },
        "xaxis122": {
         "anchor": "y122",
         "domain": [
          0.5625,
          0.605
         ],
         "matches": "x",
         "showticklabels": false
        },
        "xaxis123": {
         "anchor": "y123",
         "domain": [
          0.625,
          0.6675
         ],
         "matches": "x",
         "showticklabels": false
        },
        "xaxis124": {
         "anchor": "y124",
         "domain": [
          0.6875,
          0.73
         ],
         "matches": "x",
         "showticklabels": false
        },
        "xaxis125": {
         "anchor": "y125",
         "domain": [
          0.75,
          0.7925
         ],
         "matches": "x",
         "showticklabels": false
        },
        "xaxis126": {
         "anchor": "y126",
         "domain": [
          0.8125,
          0.855
         ],
         "matches": "x",
         "showticklabels": false
        },
        "xaxis127": {
         "anchor": "y127",
         "domain": [
          0.875,
          0.9175
         ],
         "matches": "x",
         "showticklabels": false
        },
        "xaxis128": {
         "anchor": "y128",
         "domain": [
          0.9375,
          0.98
         ],
         "matches": "x",
         "showticklabels": false
        },
        "xaxis129": {
         "anchor": "y129",
         "domain": [
          0,
          0.042499999999999996
         ],
         "matches": "x",
         "showticklabels": false
        },
        "xaxis13": {
         "anchor": "y13",
         "domain": [
          0.75,
          0.7925
         ],
         "matches": "x",
         "title": {
          "text": "quanta"
         }
        },
        "xaxis130": {
         "anchor": "y130",
         "domain": [
          0.0625,
          0.105
         ],
         "matches": "x",
         "showticklabels": false
        },
        "xaxis131": {
         "anchor": "y131",
         "domain": [
          0.125,
          0.16749999999999998
         ],
         "matches": "x",
         "showticklabels": false
        },
        "xaxis132": {
         "anchor": "y132",
         "domain": [
          0.1875,
          0.22999999999999998
         ],
         "matches": "x",
         "showticklabels": false
        },
        "xaxis133": {
         "anchor": "y133",
         "domain": [
          0.25,
          0.2925
         ],
         "matches": "x",
         "showticklabels": false
        },
        "xaxis134": {
         "anchor": "y134",
         "domain": [
          0.3125,
          0.355
         ],
         "matches": "x",
         "showticklabels": false
        },
        "xaxis135": {
         "anchor": "y135",
         "domain": [
          0.375,
          0.4175
         ],
         "matches": "x",
         "showticklabels": false
        },
        "xaxis136": {
         "anchor": "y136",
         "domain": [
          0.4375,
          0.48
         ],
         "matches": "x",
         "showticklabels": false
        },
        "xaxis137": {
         "anchor": "y137",
         "domain": [
          0.5,
          0.5425
         ],
         "matches": "x",
         "showticklabels": false
        },
        "xaxis138": {
         "anchor": "y138",
         "domain": [
          0.5625,
          0.605
         ],
         "matches": "x",
         "showticklabels": false
        },
        "xaxis139": {
         "anchor": "y139",
         "domain": [
          0.625,
          0.6675
         ],
         "matches": "x",
         "showticklabels": false
        },
        "xaxis14": {
         "anchor": "y14",
         "domain": [
          0.8125,
          0.855
         ],
         "matches": "x",
         "title": {
          "text": "quanta"
         }
        },
        "xaxis140": {
         "anchor": "y140",
         "domain": [
          0.6875,
          0.73
         ],
         "matches": "x",
         "showticklabels": false
        },
        "xaxis141": {
         "anchor": "y141",
         "domain": [
          0.75,
          0.7925
         ],
         "matches": "x",
         "showticklabels": false
        },
        "xaxis142": {
         "anchor": "y142",
         "domain": [
          0.8125,
          0.855
         ],
         "matches": "x",
         "showticklabels": false
        },
        "xaxis143": {
         "anchor": "y143",
         "domain": [
          0.875,
          0.9175
         ],
         "matches": "x",
         "showticklabels": false
        },
        "xaxis144": {
         "anchor": "y144",
         "domain": [
          0.9375,
          0.98
         ],
         "matches": "x",
         "showticklabels": false
        },
        "xaxis145": {
         "anchor": "y145",
         "domain": [
          0,
          0.042499999999999996
         ],
         "matches": "x",
         "showticklabels": false
        },
        "xaxis146": {
         "anchor": "y146",
         "domain": [
          0.0625,
          0.105
         ],
         "matches": "x",
         "showticklabels": false
        },
        "xaxis147": {
         "anchor": "y147",
         "domain": [
          0.125,
          0.16749999999999998
         ],
         "matches": "x",
         "showticklabels": false
        },
        "xaxis148": {
         "anchor": "y148",
         "domain": [
          0.1875,
          0.22999999999999998
         ],
         "matches": "x",
         "showticklabels": false
        },
        "xaxis149": {
         "anchor": "y149",
         "domain": [
          0.25,
          0.2925
         ],
         "matches": "x",
         "showticklabels": false
        },
        "xaxis15": {
         "anchor": "y15",
         "domain": [
          0.875,
          0.9175
         ],
         "matches": "x",
         "title": {
          "text": "quanta"
         }
        },
        "xaxis150": {
         "anchor": "y150",
         "domain": [
          0.3125,
          0.355
         ],
         "matches": "x",
         "showticklabels": false
        },
        "xaxis151": {
         "anchor": "y151",
         "domain": [
          0.375,
          0.4175
         ],
         "matches": "x",
         "showticklabels": false
        },
        "xaxis152": {
         "anchor": "y152",
         "domain": [
          0.4375,
          0.48
         ],
         "matches": "x",
         "showticklabels": false
        },
        "xaxis153": {
         "anchor": "y153",
         "domain": [
          0.5,
          0.5425
         ],
         "matches": "x",
         "showticklabels": false
        },
        "xaxis154": {
         "anchor": "y154",
         "domain": [
          0.5625,
          0.605
         ],
         "matches": "x",
         "showticklabels": false
        },
        "xaxis155": {
         "anchor": "y155",
         "domain": [
          0.625,
          0.6675
         ],
         "matches": "x",
         "showticklabels": false
        },
        "xaxis156": {
         "anchor": "y156",
         "domain": [
          0.6875,
          0.73
         ],
         "matches": "x",
         "showticklabels": false
        },
        "xaxis157": {
         "anchor": "y157",
         "domain": [
          0.75,
          0.7925
         ],
         "matches": "x",
         "showticklabels": false
        },
        "xaxis158": {
         "anchor": "y158",
         "domain": [
          0.8125,
          0.855
         ],
         "matches": "x",
         "showticklabels": false
        },
        "xaxis159": {
         "anchor": "y159",
         "domain": [
          0.875,
          0.9175
         ],
         "matches": "x",
         "showticklabels": false
        },
        "xaxis16": {
         "anchor": "y16",
         "domain": [
          0.9375,
          0.98
         ],
         "matches": "x",
         "title": {
          "text": "quanta"
         }
        },
        "xaxis160": {
         "anchor": "y160",
         "domain": [
          0.9375,
          0.98
         ],
         "matches": "x",
         "showticklabels": false
        },
        "xaxis161": {
         "anchor": "y161",
         "domain": [
          0,
          0.042499999999999996
         ],
         "matches": "x",
         "showticklabels": false
        },
        "xaxis162": {
         "anchor": "y162",
         "domain": [
          0.0625,
          0.105
         ],
         "matches": "x",
         "showticklabels": false
        },
        "xaxis163": {
         "anchor": "y163",
         "domain": [
          0.125,
          0.16749999999999998
         ],
         "matches": "x",
         "showticklabels": false
        },
        "xaxis164": {
         "anchor": "y164",
         "domain": [
          0.1875,
          0.22999999999999998
         ],
         "matches": "x",
         "showticklabels": false
        },
        "xaxis165": {
         "anchor": "y165",
         "domain": [
          0.25,
          0.2925
         ],
         "matches": "x",
         "showticklabels": false
        },
        "xaxis166": {
         "anchor": "y166",
         "domain": [
          0.3125,
          0.355
         ],
         "matches": "x",
         "showticklabels": false
        },
        "xaxis167": {
         "anchor": "y167",
         "domain": [
          0.375,
          0.4175
         ],
         "matches": "x",
         "showticklabels": false
        },
        "xaxis168": {
         "anchor": "y168",
         "domain": [
          0.4375,
          0.48
         ],
         "matches": "x",
         "showticklabels": false
        },
        "xaxis169": {
         "anchor": "y169",
         "domain": [
          0.5,
          0.5425
         ],
         "matches": "x",
         "showticklabels": false
        },
        "xaxis17": {
         "anchor": "y17",
         "domain": [
          0,
          0.042499999999999996
         ],
         "matches": "x",
         "showticklabels": false
        },
        "xaxis170": {
         "anchor": "y170",
         "domain": [
          0.5625,
          0.605
         ],
         "matches": "x",
         "showticklabels": false
        },
        "xaxis171": {
         "anchor": "y171",
         "domain": [
          0.625,
          0.6675
         ],
         "matches": "x",
         "showticklabels": false
        },
        "xaxis172": {
         "anchor": "y172",
         "domain": [
          0.6875,
          0.73
         ],
         "matches": "x",
         "showticklabels": false
        },
        "xaxis173": {
         "anchor": "y173",
         "domain": [
          0.75,
          0.7925
         ],
         "matches": "x",
         "showticklabels": false
        },
        "xaxis174": {
         "anchor": "y174",
         "domain": [
          0.8125,
          0.855
         ],
         "matches": "x",
         "showticklabels": false
        },
        "xaxis175": {
         "anchor": "y175",
         "domain": [
          0.875,
          0.9175
         ],
         "matches": "x",
         "showticklabels": false
        },
        "xaxis176": {
         "anchor": "y176",
         "domain": [
          0.9375,
          0.98
         ],
         "matches": "x",
         "showticklabels": false
        },
        "xaxis177": {
         "anchor": "y177",
         "domain": [
          0,
          0.042499999999999996
         ],
         "matches": "x",
         "showticklabels": false
        },
        "xaxis178": {
         "anchor": "y178",
         "domain": [
          0.0625,
          0.105
         ],
         "matches": "x",
         "showticklabels": false
        },
        "xaxis179": {
         "anchor": "y179",
         "domain": [
          0.125,
          0.16749999999999998
         ],
         "matches": "x",
         "showticklabels": false
        },
        "xaxis18": {
         "anchor": "y18",
         "domain": [
          0.0625,
          0.105
         ],
         "matches": "x",
         "showticklabels": false
        },
        "xaxis180": {
         "anchor": "y180",
         "domain": [
          0.1875,
          0.22999999999999998
         ],
         "matches": "x",
         "showticklabels": false
        },
        "xaxis181": {
         "anchor": "y181",
         "domain": [
          0.25,
          0.2925
         ],
         "matches": "x",
         "showticklabels": false
        },
        "xaxis182": {
         "anchor": "y182",
         "domain": [
          0.3125,
          0.355
         ],
         "matches": "x",
         "showticklabels": false
        },
        "xaxis183": {
         "anchor": "y183",
         "domain": [
          0.375,
          0.4175
         ],
         "matches": "x",
         "showticklabels": false
        },
        "xaxis184": {
         "anchor": "y184",
         "domain": [
          0.4375,
          0.48
         ],
         "matches": "x",
         "showticklabels": false
        },
        "xaxis185": {
         "anchor": "y185",
         "domain": [
          0.5,
          0.5425
         ],
         "matches": "x",
         "showticklabels": false
        },
        "xaxis186": {
         "anchor": "y186",
         "domain": [
          0.5625,
          0.605
         ],
         "matches": "x",
         "showticklabels": false
        },
        "xaxis187": {
         "anchor": "y187",
         "domain": [
          0.625,
          0.6675
         ],
         "matches": "x",
         "showticklabels": false
        },
        "xaxis188": {
         "anchor": "y188",
         "domain": [
          0.6875,
          0.73
         ],
         "matches": "x",
         "showticklabels": false
        },
        "xaxis189": {
         "anchor": "y189",
         "domain": [
          0.75,
          0.7925
         ],
         "matches": "x",
         "showticklabels": false
        },
        "xaxis19": {
         "anchor": "y19",
         "domain": [
          0.125,
          0.16749999999999998
         ],
         "matches": "x",
         "showticklabels": false
        },
        "xaxis190": {
         "anchor": "y190",
         "domain": [
          0.8125,
          0.855
         ],
         "matches": "x",
         "showticklabels": false
        },
        "xaxis191": {
         "anchor": "y191",
         "domain": [
          0.875,
          0.9175
         ],
         "matches": "x",
         "showticklabels": false
        },
        "xaxis192": {
         "anchor": "y192",
         "domain": [
          0.9375,
          0.98
         ],
         "matches": "x",
         "showticklabels": false
        },
        "xaxis193": {
         "anchor": "y193",
         "domain": [
          0,
          0.042499999999999996
         ],
         "matches": "x",
         "showticklabels": false
        },
        "xaxis194": {
         "anchor": "y194",
         "domain": [
          0.0625,
          0.105
         ],
         "matches": "x",
         "showticklabels": false
        },
        "xaxis195": {
         "anchor": "y195",
         "domain": [
          0.125,
          0.16749999999999998
         ],
         "matches": "x",
         "showticklabels": false
        },
        "xaxis196": {
         "anchor": "y196",
         "domain": [
          0.1875,
          0.22999999999999998
         ],
         "matches": "x",
         "showticklabels": false
        },
        "xaxis197": {
         "anchor": "y197",
         "domain": [
          0.25,
          0.2925
         ],
         "matches": "x",
         "showticklabels": false
        },
        "xaxis198": {
         "anchor": "y198",
         "domain": [
          0.3125,
          0.355
         ],
         "matches": "x",
         "showticklabels": false
        },
        "xaxis199": {
         "anchor": "y199",
         "domain": [
          0.375,
          0.4175
         ],
         "matches": "x",
         "showticklabels": false
        },
        "xaxis2": {
         "anchor": "y2",
         "domain": [
          0.0625,
          0.105
         ],
         "matches": "x",
         "title": {
          "text": "quanta"
         }
        },
        "xaxis20": {
         "anchor": "y20",
         "domain": [
          0.1875,
          0.22999999999999998
         ],
         "matches": "x",
         "showticklabels": false
        },
        "xaxis200": {
         "anchor": "y200",
         "domain": [
          0.4375,
          0.48
         ],
         "matches": "x",
         "showticklabels": false
        },
        "xaxis201": {
         "anchor": "y201",
         "domain": [
          0.5,
          0.5425
         ],
         "matches": "x",
         "showticklabels": false
        },
        "xaxis202": {
         "anchor": "y202",
         "domain": [
          0.5625,
          0.605
         ],
         "matches": "x",
         "showticklabels": false
        },
        "xaxis203": {
         "anchor": "y203",
         "domain": [
          0.625,
          0.6675
         ],
         "matches": "x",
         "showticklabels": false
        },
        "xaxis204": {
         "anchor": "y204",
         "domain": [
          0.6875,
          0.73
         ],
         "matches": "x",
         "showticklabels": false
        },
        "xaxis205": {
         "anchor": "y205",
         "domain": [
          0.75,
          0.7925
         ],
         "matches": "x",
         "showticklabels": false
        },
        "xaxis206": {
         "anchor": "y206",
         "domain": [
          0.8125,
          0.855
         ],
         "matches": "x",
         "showticklabels": false
        },
        "xaxis207": {
         "anchor": "y207",
         "domain": [
          0.875,
          0.9175
         ],
         "matches": "x",
         "showticklabels": false
        },
        "xaxis208": {
         "anchor": "y208",
         "domain": [
          0.9375,
          0.98
         ],
         "matches": "x",
         "showticklabels": false
        },
        "xaxis21": {
         "anchor": "y21",
         "domain": [
          0.25,
          0.2925
         ],
         "matches": "x",
         "showticklabels": false
        },
        "xaxis22": {
         "anchor": "y22",
         "domain": [
          0.3125,
          0.355
         ],
         "matches": "x",
         "showticklabels": false
        },
        "xaxis23": {
         "anchor": "y23",
         "domain": [
          0.375,
          0.4175
         ],
         "matches": "x",
         "showticklabels": false
        },
        "xaxis24": {
         "anchor": "y24",
         "domain": [
          0.4375,
          0.48
         ],
         "matches": "x",
         "showticklabels": false
        },
        "xaxis25": {
         "anchor": "y25",
         "domain": [
          0.5,
          0.5425
         ],
         "matches": "x",
         "showticklabels": false
        },
        "xaxis26": {
         "anchor": "y26",
         "domain": [
          0.5625,
          0.605
         ],
         "matches": "x",
         "showticklabels": false
        },
        "xaxis27": {
         "anchor": "y27",
         "domain": [
          0.625,
          0.6675
         ],
         "matches": "x",
         "showticklabels": false
        },
        "xaxis28": {
         "anchor": "y28",
         "domain": [
          0.6875,
          0.73
         ],
         "matches": "x",
         "showticklabels": false
        },
        "xaxis29": {
         "anchor": "y29",
         "domain": [
          0.75,
          0.7925
         ],
         "matches": "x",
         "showticklabels": false
        },
        "xaxis3": {
         "anchor": "y3",
         "domain": [
          0.125,
          0.16749999999999998
         ],
         "matches": "x",
         "title": {
          "text": "quanta"
         }
        },
        "xaxis30": {
         "anchor": "y30",
         "domain": [
          0.8125,
          0.855
         ],
         "matches": "x",
         "showticklabels": false
        },
        "xaxis31": {
         "anchor": "y31",
         "domain": [
          0.875,
          0.9175
         ],
         "matches": "x",
         "showticklabels": false
        },
        "xaxis32": {
         "anchor": "y32",
         "domain": [
          0.9375,
          0.98
         ],
         "matches": "x",
         "showticklabels": false
        },
        "xaxis33": {
         "anchor": "y33",
         "domain": [
          0,
          0.042499999999999996
         ],
         "matches": "x",
         "showticklabels": false
        },
        "xaxis34": {
         "anchor": "y34",
         "domain": [
          0.0625,
          0.105
         ],
         "matches": "x",
         "showticklabels": false
        },
        "xaxis35": {
         "anchor": "y35",
         "domain": [
          0.125,
          0.16749999999999998
         ],
         "matches": "x",
         "showticklabels": false
        },
        "xaxis36": {
         "anchor": "y36",
         "domain": [
          0.1875,
          0.22999999999999998
         ],
         "matches": "x",
         "showticklabels": false
        },
        "xaxis37": {
         "anchor": "y37",
         "domain": [
          0.25,
          0.2925
         ],
         "matches": "x",
         "showticklabels": false
        },
        "xaxis38": {
         "anchor": "y38",
         "domain": [
          0.3125,
          0.355
         ],
         "matches": "x",
         "showticklabels": false
        },
        "xaxis39": {
         "anchor": "y39",
         "domain": [
          0.375,
          0.4175
         ],
         "matches": "x",
         "showticklabels": false
        },
        "xaxis4": {
         "anchor": "y4",
         "domain": [
          0.1875,
          0.22999999999999998
         ],
         "matches": "x",
         "title": {
          "text": "quanta"
         }
        },
        "xaxis40": {
         "anchor": "y40",
         "domain": [
          0.4375,
          0.48
         ],
         "matches": "x",
         "showticklabels": false
        },
        "xaxis41": {
         "anchor": "y41",
         "domain": [
          0.5,
          0.5425
         ],
         "matches": "x",
         "showticklabels": false
        },
        "xaxis42": {
         "anchor": "y42",
         "domain": [
          0.5625,
          0.605
         ],
         "matches": "x",
         "showticklabels": false
        },
        "xaxis43": {
         "anchor": "y43",
         "domain": [
          0.625,
          0.6675
         ],
         "matches": "x",
         "showticklabels": false
        },
        "xaxis44": {
         "anchor": "y44",
         "domain": [
          0.6875,
          0.73
         ],
         "matches": "x",
         "showticklabels": false
        },
        "xaxis45": {
         "anchor": "y45",
         "domain": [
          0.75,
          0.7925
         ],
         "matches": "x",
         "showticklabels": false
        },
        "xaxis46": {
         "anchor": "y46",
         "domain": [
          0.8125,
          0.855
         ],
         "matches": "x",
         "showticklabels": false
        },
        "xaxis47": {
         "anchor": "y47",
         "domain": [
          0.875,
          0.9175
         ],
         "matches": "x",
         "showticklabels": false
        },
        "xaxis48": {
         "anchor": "y48",
         "domain": [
          0.9375,
          0.98
         ],
         "matches": "x",
         "showticklabels": false
        },
        "xaxis49": {
         "anchor": "y49",
         "domain": [
          0,
          0.042499999999999996
         ],
         "matches": "x",
         "showticklabels": false
        },
        "xaxis5": {
         "anchor": "y5",
         "domain": [
          0.25,
          0.2925
         ],
         "matches": "x",
         "title": {
          "text": "quanta"
         }
        },
        "xaxis50": {
         "anchor": "y50",
         "domain": [
          0.0625,
          0.105
         ],
         "matches": "x",
         "showticklabels": false
        },
        "xaxis51": {
         "anchor": "y51",
         "domain": [
          0.125,
          0.16749999999999998
         ],
         "matches": "x",
         "showticklabels": false
        },
        "xaxis52": {
         "anchor": "y52",
         "domain": [
          0.1875,
          0.22999999999999998
         ],
         "matches": "x",
         "showticklabels": false
        },
        "xaxis53": {
         "anchor": "y53",
         "domain": [
          0.25,
          0.2925
         ],
         "matches": "x",
         "showticklabels": false
        },
        "xaxis54": {
         "anchor": "y54",
         "domain": [
          0.3125,
          0.355
         ],
         "matches": "x",
         "showticklabels": false
        },
        "xaxis55": {
         "anchor": "y55",
         "domain": [
          0.375,
          0.4175
         ],
         "matches": "x",
         "showticklabels": false
        },
        "xaxis56": {
         "anchor": "y56",
         "domain": [
          0.4375,
          0.48
         ],
         "matches": "x",
         "showticklabels": false
        },
        "xaxis57": {
         "anchor": "y57",
         "domain": [
          0.5,
          0.5425
         ],
         "matches": "x",
         "showticklabels": false
        },
        "xaxis58": {
         "anchor": "y58",
         "domain": [
          0.5625,
          0.605
         ],
         "matches": "x",
         "showticklabels": false
        },
        "xaxis59": {
         "anchor": "y59",
         "domain": [
          0.625,
          0.6675
         ],
         "matches": "x",
         "showticklabels": false
        },
        "xaxis6": {
         "anchor": "y6",
         "domain": [
          0.3125,
          0.355
         ],
         "matches": "x",
         "title": {
          "text": "quanta"
         }
        },
        "xaxis60": {
         "anchor": "y60",
         "domain": [
          0.6875,
          0.73
         ],
         "matches": "x",
         "showticklabels": false
        },
        "xaxis61": {
         "anchor": "y61",
         "domain": [
          0.75,
          0.7925
         ],
         "matches": "x",
         "showticklabels": false
        },
        "xaxis62": {
         "anchor": "y62",
         "domain": [
          0.8125,
          0.855
         ],
         "matches": "x",
         "showticklabels": false
        },
        "xaxis63": {
         "anchor": "y63",
         "domain": [
          0.875,
          0.9175
         ],
         "matches": "x",
         "showticklabels": false
        },
        "xaxis64": {
         "anchor": "y64",
         "domain": [
          0.9375,
          0.98
         ],
         "matches": "x",
         "showticklabels": false
        },
        "xaxis65": {
         "anchor": "y65",
         "domain": [
          0,
          0.042499999999999996
         ],
         "matches": "x",
         "showticklabels": false
        },
        "xaxis66": {
         "anchor": "y66",
         "domain": [
          0.0625,
          0.105
         ],
         "matches": "x",
         "showticklabels": false
        },
        "xaxis67": {
         "anchor": "y67",
         "domain": [
          0.125,
          0.16749999999999998
         ],
         "matches": "x",
         "showticklabels": false
        },
        "xaxis68": {
         "anchor": "y68",
         "domain": [
          0.1875,
          0.22999999999999998
         ],
         "matches": "x",
         "showticklabels": false
        },
        "xaxis69": {
         "anchor": "y69",
         "domain": [
          0.25,
          0.2925
         ],
         "matches": "x",
         "showticklabels": false
        },
        "xaxis7": {
         "anchor": "y7",
         "domain": [
          0.375,
          0.4175
         ],
         "matches": "x",
         "title": {
          "text": "quanta"
         }
        },
        "xaxis70": {
         "anchor": "y70",
         "domain": [
          0.3125,
          0.355
         ],
         "matches": "x",
         "showticklabels": false
        },
        "xaxis71": {
         "anchor": "y71",
         "domain": [
          0.375,
          0.4175
         ],
         "matches": "x",
         "showticklabels": false
        },
        "xaxis72": {
         "anchor": "y72",
         "domain": [
          0.4375,
          0.48
         ],
         "matches": "x",
         "showticklabels": false
        },
        "xaxis73": {
         "anchor": "y73",
         "domain": [
          0.5,
          0.5425
         ],
         "matches": "x",
         "showticklabels": false
        },
        "xaxis74": {
         "anchor": "y74",
         "domain": [
          0.5625,
          0.605
         ],
         "matches": "x",
         "showticklabels": false
        },
        "xaxis75": {
         "anchor": "y75",
         "domain": [
          0.625,
          0.6675
         ],
         "matches": "x",
         "showticklabels": false
        },
        "xaxis76": {
         "anchor": "y76",
         "domain": [
          0.6875,
          0.73
         ],
         "matches": "x",
         "showticklabels": false
        },
        "xaxis77": {
         "anchor": "y77",
         "domain": [
          0.75,
          0.7925
         ],
         "matches": "x",
         "showticklabels": false
        },
        "xaxis78": {
         "anchor": "y78",
         "domain": [
          0.8125,
          0.855
         ],
         "matches": "x",
         "showticklabels": false
        },
        "xaxis79": {
         "anchor": "y79",
         "domain": [
          0.875,
          0.9175
         ],
         "matches": "x",
         "showticklabels": false
        },
        "xaxis8": {
         "anchor": "y8",
         "domain": [
          0.4375,
          0.48
         ],
         "matches": "x",
         "title": {
          "text": "quanta"
         }
        },
        "xaxis80": {
         "anchor": "y80",
         "domain": [
          0.9375,
          0.98
         ],
         "matches": "x",
         "showticklabels": false
        },
        "xaxis81": {
         "anchor": "y81",
         "domain": [
          0,
          0.042499999999999996
         ],
         "matches": "x",
         "showticklabels": false
        },
        "xaxis82": {
         "anchor": "y82",
         "domain": [
          0.0625,
          0.105
         ],
         "matches": "x",
         "showticklabels": false
        },
        "xaxis83": {
         "anchor": "y83",
         "domain": [
          0.125,
          0.16749999999999998
         ],
         "matches": "x",
         "showticklabels": false
        },
        "xaxis84": {
         "anchor": "y84",
         "domain": [
          0.1875,
          0.22999999999999998
         ],
         "matches": "x",
         "showticklabels": false
        },
        "xaxis85": {
         "anchor": "y85",
         "domain": [
          0.25,
          0.2925
         ],
         "matches": "x",
         "showticklabels": false
        },
        "xaxis86": {
         "anchor": "y86",
         "domain": [
          0.3125,
          0.355
         ],
         "matches": "x",
         "showticklabels": false
        },
        "xaxis87": {
         "anchor": "y87",
         "domain": [
          0.375,
          0.4175
         ],
         "matches": "x",
         "showticklabels": false
        },
        "xaxis88": {
         "anchor": "y88",
         "domain": [
          0.4375,
          0.48
         ],
         "matches": "x",
         "showticklabels": false
        },
        "xaxis89": {
         "anchor": "y89",
         "domain": [
          0.5,
          0.5425
         ],
         "matches": "x",
         "showticklabels": false
        },
        "xaxis9": {
         "anchor": "y9",
         "domain": [
          0.5,
          0.5425
         ],
         "matches": "x",
         "title": {
          "text": "quanta"
         }
        },
        "xaxis90": {
         "anchor": "y90",
         "domain": [
          0.5625,
          0.605
         ],
         "matches": "x",
         "showticklabels": false
        },
        "xaxis91": {
         "anchor": "y91",
         "domain": [
          0.625,
          0.6675
         ],
         "matches": "x",
         "showticklabels": false
        },
        "xaxis92": {
         "anchor": "y92",
         "domain": [
          0.6875,
          0.73
         ],
         "matches": "x",
         "showticklabels": false
        },
        "xaxis93": {
         "anchor": "y93",
         "domain": [
          0.75,
          0.7925
         ],
         "matches": "x",
         "showticklabels": false
        },
        "xaxis94": {
         "anchor": "y94",
         "domain": [
          0.8125,
          0.855
         ],
         "matches": "x",
         "showticklabels": false
        },
        "xaxis95": {
         "anchor": "y95",
         "domain": [
          0.875,
          0.9175
         ],
         "matches": "x",
         "showticklabels": false
        },
        "xaxis96": {
         "anchor": "y96",
         "domain": [
          0.9375,
          0.98
         ],
         "matches": "x",
         "showticklabels": false
        },
        "xaxis97": {
         "anchor": "y97",
         "domain": [
          0,
          0.042499999999999996
         ],
         "matches": "x",
         "showticklabels": false
        },
        "xaxis98": {
         "anchor": "y98",
         "domain": [
          0.0625,
          0.105
         ],
         "matches": "x",
         "showticklabels": false
        },
        "xaxis99": {
         "anchor": "y99",
         "domain": [
          0.125,
          0.16749999999999998
         ],
         "matches": "x",
         "showticklabels": false
        },
        "yaxis": {
         "anchor": "x",
         "domain": [
          0,
          0.04923076923076924
         ],
         "title": {
          "text": "residuals"
         }
        },
        "yaxis10": {
         "anchor": "x10",
         "domain": [
          0,
          0.04923076923076924
         ],
         "matches": "y",
         "showticklabels": false
        },
        "yaxis100": {
         "anchor": "x100",
         "domain": [
          0.4753846153846154,
          0.5246153846153846
         ],
         "matches": "y",
         "showticklabels": false
        },
        "yaxis101": {
         "anchor": "x101",
         "domain": [
          0.4753846153846154,
          0.5246153846153846
         ],
         "matches": "y",
         "showticklabels": false
        },
        "yaxis102": {
         "anchor": "x102",
         "domain": [
          0.4753846153846154,
          0.5246153846153846
         ],
         "matches": "y",
         "showticklabels": false
        },
        "yaxis103": {
         "anchor": "x103",
         "domain": [
          0.4753846153846154,
          0.5246153846153846
         ],
         "matches": "y",
         "showticklabels": false
        },
        "yaxis104": {
         "anchor": "x104",
         "domain": [
          0.4753846153846154,
          0.5246153846153846
         ],
         "matches": "y",
         "showticklabels": false
        },
        "yaxis105": {
         "anchor": "x105",
         "domain": [
          0.4753846153846154,
          0.5246153846153846
         ],
         "matches": "y",
         "showticklabels": false
        },
        "yaxis106": {
         "anchor": "x106",
         "domain": [
          0.4753846153846154,
          0.5246153846153846
         ],
         "matches": "y",
         "showticklabels": false
        },
        "yaxis107": {
         "anchor": "x107",
         "domain": [
          0.4753846153846154,
          0.5246153846153846
         ],
         "matches": "y",
         "showticklabels": false
        },
        "yaxis108": {
         "anchor": "x108",
         "domain": [
          0.4753846153846154,
          0.5246153846153846
         ],
         "matches": "y",
         "showticklabels": false
        },
        "yaxis109": {
         "anchor": "x109",
         "domain": [
          0.4753846153846154,
          0.5246153846153846
         ],
         "matches": "y",
         "showticklabels": false
        },
        "yaxis11": {
         "anchor": "x11",
         "domain": [
          0,
          0.04923076923076924
         ],
         "matches": "y",
         "showticklabels": false
        },
        "yaxis110": {
         "anchor": "x110",
         "domain": [
          0.4753846153846154,
          0.5246153846153846
         ],
         "matches": "y",
         "showticklabels": false
        },
        "yaxis111": {
         "anchor": "x111",
         "domain": [
          0.4753846153846154,
          0.5246153846153846
         ],
         "matches": "y",
         "showticklabels": false
        },
        "yaxis112": {
         "anchor": "x112",
         "domain": [
          0.4753846153846154,
          0.5246153846153846
         ],
         "matches": "y",
         "showticklabels": false
        },
        "yaxis113": {
         "anchor": "x113",
         "domain": [
          0.5546153846153846,
          0.6038461538461538
         ],
         "matches": "y",
         "title": {
          "text": "residuals"
         }
        },
        "yaxis114": {
         "anchor": "x114",
         "domain": [
          0.5546153846153846,
          0.6038461538461538
         ],
         "matches": "y",
         "showticklabels": false
        },
        "yaxis115": {
         "anchor": "x115",
         "domain": [
          0.5546153846153846,
          0.6038461538461538
         ],
         "matches": "y",
         "showticklabels": false
        },
        "yaxis116": {
         "anchor": "x116",
         "domain": [
          0.5546153846153846,
          0.6038461538461538
         ],
         "matches": "y",
         "showticklabels": false
        },
        "yaxis117": {
         "anchor": "x117",
         "domain": [
          0.5546153846153846,
          0.6038461538461538
         ],
         "matches": "y",
         "showticklabels": false
        },
        "yaxis118": {
         "anchor": "x118",
         "domain": [
          0.5546153846153846,
          0.6038461538461538
         ],
         "matches": "y",
         "showticklabels": false
        },
        "yaxis119": {
         "anchor": "x119",
         "domain": [
          0.5546153846153846,
          0.6038461538461538
         ],
         "matches": "y",
         "showticklabels": false
        },
        "yaxis12": {
         "anchor": "x12",
         "domain": [
          0,
          0.04923076923076924
         ],
         "matches": "y",
         "showticklabels": false
        },
        "yaxis120": {
         "anchor": "x120",
         "domain": [
          0.5546153846153846,
          0.6038461538461538
         ],
         "matches": "y",
         "showticklabels": false
        },
        "yaxis121": {
         "anchor": "x121",
         "domain": [
          0.5546153846153846,
          0.6038461538461538
         ],
         "matches": "y",
         "showticklabels": false
        },
        "yaxis122": {
         "anchor": "x122",
         "domain": [
          0.5546153846153846,
          0.6038461538461538
         ],
         "matches": "y",
         "showticklabels": false
        },
        "yaxis123": {
         "anchor": "x123",
         "domain": [
          0.5546153846153846,
          0.6038461538461538
         ],
         "matches": "y",
         "showticklabels": false
        },
        "yaxis124": {
         "anchor": "x124",
         "domain": [
          0.5546153846153846,
          0.6038461538461538
         ],
         "matches": "y",
         "showticklabels": false
        },
        "yaxis125": {
         "anchor": "x125",
         "domain": [
          0.5546153846153846,
          0.6038461538461538
         ],
         "matches": "y",
         "showticklabels": false
        },
        "yaxis126": {
         "anchor": "x126",
         "domain": [
          0.5546153846153846,
          0.6038461538461538
         ],
         "matches": "y",
         "showticklabels": false
        },
        "yaxis127": {
         "anchor": "x127",
         "domain": [
          0.5546153846153846,
          0.6038461538461538
         ],
         "matches": "y",
         "showticklabels": false
        },
        "yaxis128": {
         "anchor": "x128",
         "domain": [
          0.5546153846153846,
          0.6038461538461538
         ],
         "matches": "y",
         "showticklabels": false
        },
        "yaxis129": {
         "anchor": "x129",
         "domain": [
          0.633846153846154,
          0.6830769230769231
         ],
         "matches": "y",
         "title": {
          "text": "residuals"
         }
        },
        "yaxis13": {
         "anchor": "x13",
         "domain": [
          0,
          0.04923076923076924
         ],
         "matches": "y",
         "showticklabels": false
        },
        "yaxis130": {
         "anchor": "x130",
         "domain": [
          0.633846153846154,
          0.6830769230769231
         ],
         "matches": "y",
         "showticklabels": false
        },
        "yaxis131": {
         "anchor": "x131",
         "domain": [
          0.633846153846154,
          0.6830769230769231
         ],
         "matches": "y",
         "showticklabels": false
        },
        "yaxis132": {
         "anchor": "x132",
         "domain": [
          0.633846153846154,
          0.6830769230769231
         ],
         "matches": "y",
         "showticklabels": false
        },
        "yaxis133": {
         "anchor": "x133",
         "domain": [
          0.633846153846154,
          0.6830769230769231
         ],
         "matches": "y",
         "showticklabels": false
        },
        "yaxis134": {
         "anchor": "x134",
         "domain": [
          0.633846153846154,
          0.6830769230769231
         ],
         "matches": "y",
         "showticklabels": false
        },
        "yaxis135": {
         "anchor": "x135",
         "domain": [
          0.633846153846154,
          0.6830769230769231
         ],
         "matches": "y",
         "showticklabels": false
        },
        "yaxis136": {
         "anchor": "x136",
         "domain": [
          0.633846153846154,
          0.6830769230769231
         ],
         "matches": "y",
         "showticklabels": false
        },
        "yaxis137": {
         "anchor": "x137",
         "domain": [
          0.633846153846154,
          0.6830769230769231
         ],
         "matches": "y",
         "showticklabels": false
        },
        "yaxis138": {
         "anchor": "x138",
         "domain": [
          0.633846153846154,
          0.6830769230769231
         ],
         "matches": "y",
         "showticklabels": false
        },
        "yaxis139": {
         "anchor": "x139",
         "domain": [
          0.633846153846154,
          0.6830769230769231
         ],
         "matches": "y",
         "showticklabels": false
        },
        "yaxis14": {
         "anchor": "x14",
         "domain": [
          0,
          0.04923076923076924
         ],
         "matches": "y",
         "showticklabels": false
        },
        "yaxis140": {
         "anchor": "x140",
         "domain": [
          0.633846153846154,
          0.6830769230769231
         ],
         "matches": "y",
         "showticklabels": false
        },
        "yaxis141": {
         "anchor": "x141",
         "domain": [
          0.633846153846154,
          0.6830769230769231
         ],
         "matches": "y",
         "showticklabels": false
        },
        "yaxis142": {
         "anchor": "x142",
         "domain": [
          0.633846153846154,
          0.6830769230769231
         ],
         "matches": "y",
         "showticklabels": false
        },
        "yaxis143": {
         "anchor": "x143",
         "domain": [
          0.633846153846154,
          0.6830769230769231
         ],
         "matches": "y",
         "showticklabels": false
        },
        "yaxis144": {
         "anchor": "x144",
         "domain": [
          0.633846153846154,
          0.6830769230769231
         ],
         "matches": "y",
         "showticklabels": false
        },
        "yaxis145": {
         "anchor": "x145",
         "domain": [
          0.7130769230769232,
          0.7623076923076924
         ],
         "matches": "y",
         "title": {
          "text": "residuals"
         }
        },
        "yaxis146": {
         "anchor": "x146",
         "domain": [
          0.7130769230769232,
          0.7623076923076924
         ],
         "matches": "y",
         "showticklabels": false
        },
        "yaxis147": {
         "anchor": "x147",
         "domain": [
          0.7130769230769232,
          0.7623076923076924
         ],
         "matches": "y",
         "showticklabels": false
        },
        "yaxis148": {
         "anchor": "x148",
         "domain": [
          0.7130769230769232,
          0.7623076923076924
         ],
         "matches": "y",
         "showticklabels": false
        },
        "yaxis149": {
         "anchor": "x149",
         "domain": [
          0.7130769230769232,
          0.7623076923076924
         ],
         "matches": "y",
         "showticklabels": false
        },
        "yaxis15": {
         "anchor": "x15",
         "domain": [
          0,
          0.04923076923076924
         ],
         "matches": "y",
         "showticklabels": false
        },
        "yaxis150": {
         "anchor": "x150",
         "domain": [
          0.7130769230769232,
          0.7623076923076924
         ],
         "matches": "y",
         "showticklabels": false
        },
        "yaxis151": {
         "anchor": "x151",
         "domain": [
          0.7130769230769232,
          0.7623076923076924
         ],
         "matches": "y",
         "showticklabels": false
        },
        "yaxis152": {
         "anchor": "x152",
         "domain": [
          0.7130769230769232,
          0.7623076923076924
         ],
         "matches": "y",
         "showticklabels": false
        },
        "yaxis153": {
         "anchor": "x153",
         "domain": [
          0.7130769230769232,
          0.7623076923076924
         ],
         "matches": "y",
         "showticklabels": false
        },
        "yaxis154": {
         "anchor": "x154",
         "domain": [
          0.7130769230769232,
          0.7623076923076924
         ],
         "matches": "y",
         "showticklabels": false
        },
        "yaxis155": {
         "anchor": "x155",
         "domain": [
          0.7130769230769232,
          0.7623076923076924
         ],
         "matches": "y",
         "showticklabels": false
        },
        "yaxis156": {
         "anchor": "x156",
         "domain": [
          0.7130769230769232,
          0.7623076923076924
         ],
         "matches": "y",
         "showticklabels": false
        },
        "yaxis157": {
         "anchor": "x157",
         "domain": [
          0.7130769230769232,
          0.7623076923076924
         ],
         "matches": "y",
         "showticklabels": false
        },
        "yaxis158": {
         "anchor": "x158",
         "domain": [
          0.7130769230769232,
          0.7623076923076924
         ],
         "matches": "y",
         "showticklabels": false
        },
        "yaxis159": {
         "anchor": "x159",
         "domain": [
          0.7130769230769232,
          0.7623076923076924
         ],
         "matches": "y",
         "showticklabels": false
        },
        "yaxis16": {
         "anchor": "x16",
         "domain": [
          0,
          0.04923076923076924
         ],
         "matches": "y",
         "showticklabels": false
        },
        "yaxis160": {
         "anchor": "x160",
         "domain": [
          0.7130769230769232,
          0.7623076923076924
         ],
         "matches": "y",
         "showticklabels": false
        },
        "yaxis161": {
         "anchor": "x161",
         "domain": [
          0.7923076923076924,
          0.8415384615384616
         ],
         "matches": "y",
         "title": {
          "text": "residuals"
         }
        },
        "yaxis162": {
         "anchor": "x162",
         "domain": [
          0.7923076923076924,
          0.8415384615384616
         ],
         "matches": "y",
         "showticklabels": false
        },
        "yaxis163": {
         "anchor": "x163",
         "domain": [
          0.7923076923076924,
          0.8415384615384616
         ],
         "matches": "y",
         "showticklabels": false
        },
        "yaxis164": {
         "anchor": "x164",
         "domain": [
          0.7923076923076924,
          0.8415384615384616
         ],
         "matches": "y",
         "showticklabels": false
        },
        "yaxis165": {
         "anchor": "x165",
         "domain": [
          0.7923076923076924,
          0.8415384615384616
         ],
         "matches": "y",
         "showticklabels": false
        },
        "yaxis166": {
         "anchor": "x166",
         "domain": [
          0.7923076923076924,
          0.8415384615384616
         ],
         "matches": "y",
         "showticklabels": false
        },
        "yaxis167": {
         "anchor": "x167",
         "domain": [
          0.7923076923076924,
          0.8415384615384616
         ],
         "matches": "y",
         "showticklabels": false
        },
        "yaxis168": {
         "anchor": "x168",
         "domain": [
          0.7923076923076924,
          0.8415384615384616
         ],
         "matches": "y",
         "showticklabels": false
        },
        "yaxis169": {
         "anchor": "x169",
         "domain": [
          0.7923076923076924,
          0.8415384615384616
         ],
         "matches": "y",
         "showticklabels": false
        },
        "yaxis17": {
         "anchor": "x17",
         "domain": [
          0.07923076923076924,
          0.1284615384615385
         ],
         "matches": "y",
         "title": {
          "text": "residuals"
         }
        },
        "yaxis170": {
         "anchor": "x170",
         "domain": [
          0.7923076923076924,
          0.8415384615384616
         ],
         "matches": "y",
         "showticklabels": false
        },
        "yaxis171": {
         "anchor": "x171",
         "domain": [
          0.7923076923076924,
          0.8415384615384616
         ],
         "matches": "y",
         "showticklabels": false
        },
        "yaxis172": {
         "anchor": "x172",
         "domain": [
          0.7923076923076924,
          0.8415384615384616
         ],
         "matches": "y",
         "showticklabels": false
        },
        "yaxis173": {
         "anchor": "x173",
         "domain": [
          0.7923076923076924,
          0.8415384615384616
         ],
         "matches": "y",
         "showticklabels": false
        },
        "yaxis174": {
         "anchor": "x174",
         "domain": [
          0.7923076923076924,
          0.8415384615384616
         ],
         "matches": "y",
         "showticklabels": false
        },
        "yaxis175": {
         "anchor": "x175",
         "domain": [
          0.7923076923076924,
          0.8415384615384616
         ],
         "matches": "y",
         "showticklabels": false
        },
        "yaxis176": {
         "anchor": "x176",
         "domain": [
          0.7923076923076924,
          0.8415384615384616
         ],
         "matches": "y",
         "showticklabels": false
        },
        "yaxis177": {
         "anchor": "x177",
         "domain": [
          0.8715384615384616,
          0.9207692307692308
         ],
         "matches": "y",
         "title": {
          "text": "residuals"
         }
        },
        "yaxis178": {
         "anchor": "x178",
         "domain": [
          0.8715384615384616,
          0.9207692307692308
         ],
         "matches": "y",
         "showticklabels": false
        },
        "yaxis179": {
         "anchor": "x179",
         "domain": [
          0.8715384615384616,
          0.9207692307692308
         ],
         "matches": "y",
         "showticklabels": false
        },
        "yaxis18": {
         "anchor": "x18",
         "domain": [
          0.07923076923076924,
          0.1284615384615385
         ],
         "matches": "y",
         "showticklabels": false
        },
        "yaxis180": {
         "anchor": "x180",
         "domain": [
          0.8715384615384616,
          0.9207692307692308
         ],
         "matches": "y",
         "showticklabels": false
        },
        "yaxis181": {
         "anchor": "x181",
         "domain": [
          0.8715384615384616,
          0.9207692307692308
         ],
         "matches": "y",
         "showticklabels": false
        },
        "yaxis182": {
         "anchor": "x182",
         "domain": [
          0.8715384615384616,
          0.9207692307692308
         ],
         "matches": "y",
         "showticklabels": false
        },
        "yaxis183": {
         "anchor": "x183",
         "domain": [
          0.8715384615384616,
          0.9207692307692308
         ],
         "matches": "y",
         "showticklabels": false
        },
        "yaxis184": {
         "anchor": "x184",
         "domain": [
          0.8715384615384616,
          0.9207692307692308
         ],
         "matches": "y",
         "showticklabels": false
        },
        "yaxis185": {
         "anchor": "x185",
         "domain": [
          0.8715384615384616,
          0.9207692307692308
         ],
         "matches": "y",
         "showticklabels": false
        },
        "yaxis186": {
         "anchor": "x186",
         "domain": [
          0.8715384615384616,
          0.9207692307692308
         ],
         "matches": "y",
         "showticklabels": false
        },
        "yaxis187": {
         "anchor": "x187",
         "domain": [
          0.8715384615384616,
          0.9207692307692308
         ],
         "matches": "y",
         "showticklabels": false
        },
        "yaxis188": {
         "anchor": "x188",
         "domain": [
          0.8715384615384616,
          0.9207692307692308
         ],
         "matches": "y",
         "showticklabels": false
        },
        "yaxis189": {
         "anchor": "x189",
         "domain": [
          0.8715384615384616,
          0.9207692307692308
         ],
         "matches": "y",
         "showticklabels": false
        },
        "yaxis19": {
         "anchor": "x19",
         "domain": [
          0.07923076923076924,
          0.1284615384615385
         ],
         "matches": "y",
         "showticklabels": false
        },
        "yaxis190": {
         "anchor": "x190",
         "domain": [
          0.8715384615384616,
          0.9207692307692308
         ],
         "matches": "y",
         "showticklabels": false
        },
        "yaxis191": {
         "anchor": "x191",
         "domain": [
          0.8715384615384616,
          0.9207692307692308
         ],
         "matches": "y",
         "showticklabels": false
        },
        "yaxis192": {
         "anchor": "x192",
         "domain": [
          0.8715384615384616,
          0.9207692307692308
         ],
         "matches": "y",
         "showticklabels": false
        },
        "yaxis193": {
         "anchor": "x193",
         "domain": [
          0.9507692307692308,
          1
         ],
         "matches": "y",
         "title": {
          "text": "residuals"
         }
        },
        "yaxis194": {
         "anchor": "x194",
         "domain": [
          0.9507692307692308,
          1
         ],
         "matches": "y",
         "showticklabels": false
        },
        "yaxis195": {
         "anchor": "x195",
         "domain": [
          0.9507692307692308,
          1
         ],
         "matches": "y",
         "showticklabels": false
        },
        "yaxis196": {
         "anchor": "x196",
         "domain": [
          0.9507692307692308,
          1
         ],
         "matches": "y",
         "showticklabels": false
        },
        "yaxis197": {
         "anchor": "x197",
         "domain": [
          0.9507692307692308,
          1
         ],
         "matches": "y",
         "showticklabels": false
        },
        "yaxis198": {
         "anchor": "x198",
         "domain": [
          0.9507692307692308,
          1
         ],
         "matches": "y",
         "showticklabels": false
        },
        "yaxis199": {
         "anchor": "x199",
         "domain": [
          0.9507692307692308,
          1
         ],
         "matches": "y",
         "showticklabels": false
        },
        "yaxis2": {
         "anchor": "x2",
         "domain": [
          0,
          0.04923076923076924
         ],
         "matches": "y",
         "showticklabels": false
        },
        "yaxis20": {
         "anchor": "x20",
         "domain": [
          0.07923076923076924,
          0.1284615384615385
         ],
         "matches": "y",
         "showticklabels": false
        },
        "yaxis200": {
         "anchor": "x200",
         "domain": [
          0.9507692307692308,
          1
         ],
         "matches": "y",
         "showticklabels": false
        },
        "yaxis201": {
         "anchor": "x201",
         "domain": [
          0.9507692307692308,
          1
         ],
         "matches": "y",
         "showticklabels": false
        },
        "yaxis202": {
         "anchor": "x202",
         "domain": [
          0.9507692307692308,
          1
         ],
         "matches": "y",
         "showticklabels": false
        },
        "yaxis203": {
         "anchor": "x203",
         "domain": [
          0.9507692307692308,
          1
         ],
         "matches": "y",
         "showticklabels": false
        },
        "yaxis204": {
         "anchor": "x204",
         "domain": [
          0.9507692307692308,
          1
         ],
         "matches": "y",
         "showticklabels": false
        },
        "yaxis205": {
         "anchor": "x205",
         "domain": [
          0.9507692307692308,
          1
         ],
         "matches": "y",
         "showticklabels": false
        },
        "yaxis206": {
         "anchor": "x206",
         "domain": [
          0.9507692307692308,
          1
         ],
         "matches": "y",
         "showticklabels": false
        },
        "yaxis207": {
         "anchor": "x207",
         "domain": [
          0.9507692307692308,
          1
         ],
         "matches": "y",
         "showticklabels": false
        },
        "yaxis208": {
         "anchor": "x208",
         "domain": [
          0.9507692307692308,
          1
         ],
         "matches": "y",
         "showticklabels": false
        },
        "yaxis21": {
         "anchor": "x21",
         "domain": [
          0.07923076923076924,
          0.1284615384615385
         ],
         "matches": "y",
         "showticklabels": false
        },
        "yaxis22": {
         "anchor": "x22",
         "domain": [
          0.07923076923076924,
          0.1284615384615385
         ],
         "matches": "y",
         "showticklabels": false
        },
        "yaxis23": {
         "anchor": "x23",
         "domain": [
          0.07923076923076924,
          0.1284615384615385
         ],
         "matches": "y",
         "showticklabels": false
        },
        "yaxis24": {
         "anchor": "x24",
         "domain": [
          0.07923076923076924,
          0.1284615384615385
         ],
         "matches": "y",
         "showticklabels": false
        },
        "yaxis25": {
         "anchor": "x25",
         "domain": [
          0.07923076923076924,
          0.1284615384615385
         ],
         "matches": "y",
         "showticklabels": false
        },
        "yaxis26": {
         "anchor": "x26",
         "domain": [
          0.07923076923076924,
          0.1284615384615385
         ],
         "matches": "y",
         "showticklabels": false
        },
        "yaxis27": {
         "anchor": "x27",
         "domain": [
          0.07923076923076924,
          0.1284615384615385
         ],
         "matches": "y",
         "showticklabels": false
        },
        "yaxis28": {
         "anchor": "x28",
         "domain": [
          0.07923076923076924,
          0.1284615384615385
         ],
         "matches": "y",
         "showticklabels": false
        },
        "yaxis29": {
         "anchor": "x29",
         "domain": [
          0.07923076923076924,
          0.1284615384615385
         ],
         "matches": "y",
         "showticklabels": false
        },
        "yaxis3": {
         "anchor": "x3",
         "domain": [
          0,
          0.04923076923076924
         ],
         "matches": "y",
         "showticklabels": false
        },
        "yaxis30": {
         "anchor": "x30",
         "domain": [
          0.07923076923076924,
          0.1284615384615385
         ],
         "matches": "y",
         "showticklabels": false
        },
        "yaxis31": {
         "anchor": "x31",
         "domain": [
          0.07923076923076924,
          0.1284615384615385
         ],
         "matches": "y",
         "showticklabels": false
        },
        "yaxis32": {
         "anchor": "x32",
         "domain": [
          0.07923076923076924,
          0.1284615384615385
         ],
         "matches": "y",
         "showticklabels": false
        },
        "yaxis33": {
         "anchor": "x33",
         "domain": [
          0.1584615384615385,
          0.20769230769230773
         ],
         "matches": "y",
         "title": {
          "text": "residuals"
         }
        },
        "yaxis34": {
         "anchor": "x34",
         "domain": [
          0.1584615384615385,
          0.20769230769230773
         ],
         "matches": "y",
         "showticklabels": false
        },
        "yaxis35": {
         "anchor": "x35",
         "domain": [
          0.1584615384615385,
          0.20769230769230773
         ],
         "matches": "y",
         "showticklabels": false
        },
        "yaxis36": {
         "anchor": "x36",
         "domain": [
          0.1584615384615385,
          0.20769230769230773
         ],
         "matches": "y",
         "showticklabels": false
        },
        "yaxis37": {
         "anchor": "x37",
         "domain": [
          0.1584615384615385,
          0.20769230769230773
         ],
         "matches": "y",
         "showticklabels": false
        },
        "yaxis38": {
         "anchor": "x38",
         "domain": [
          0.1584615384615385,
          0.20769230769230773
         ],
         "matches": "y",
         "showticklabels": false
        },
        "yaxis39": {
         "anchor": "x39",
         "domain": [
          0.1584615384615385,
          0.20769230769230773
         ],
         "matches": "y",
         "showticklabels": false
        },
        "yaxis4": {
         "anchor": "x4",
         "domain": [
          0,
          0.04923076923076924
         ],
         "matches": "y",
         "showticklabels": false
        },
        "yaxis40": {
         "anchor": "x40",
         "domain": [
          0.1584615384615385,
          0.20769230769230773
         ],
         "matches": "y",
         "showticklabels": false
        },
        "yaxis41": {
         "anchor": "x41",
         "domain": [
          0.1584615384615385,
          0.20769230769230773
         ],
         "matches": "y",
         "showticklabels": false
        },
        "yaxis42": {
         "anchor": "x42",
         "domain": [
          0.1584615384615385,
          0.20769230769230773
         ],
         "matches": "y",
         "showticklabels": false
        },
        "yaxis43": {
         "anchor": "x43",
         "domain": [
          0.1584615384615385,
          0.20769230769230773
         ],
         "matches": "y",
         "showticklabels": false
        },
        "yaxis44": {
         "anchor": "x44",
         "domain": [
          0.1584615384615385,
          0.20769230769230773
         ],
         "matches": "y",
         "showticklabels": false
        },
        "yaxis45": {
         "anchor": "x45",
         "domain": [
          0.1584615384615385,
          0.20769230769230773
         ],
         "matches": "y",
         "showticklabels": false
        },
        "yaxis46": {
         "anchor": "x46",
         "domain": [
          0.1584615384615385,
          0.20769230769230773
         ],
         "matches": "y",
         "showticklabels": false
        },
        "yaxis47": {
         "anchor": "x47",
         "domain": [
          0.1584615384615385,
          0.20769230769230773
         ],
         "matches": "y",
         "showticklabels": false
        },
        "yaxis48": {
         "anchor": "x48",
         "domain": [
          0.1584615384615385,
          0.20769230769230773
         ],
         "matches": "y",
         "showticklabels": false
        },
        "yaxis49": {
         "anchor": "x49",
         "domain": [
          0.2376923076923077,
          0.28692307692307695
         ],
         "matches": "y",
         "title": {
          "text": "residuals"
         }
        },
        "yaxis5": {
         "anchor": "x5",
         "domain": [
          0,
          0.04923076923076924
         ],
         "matches": "y",
         "showticklabels": false
        },
        "yaxis50": {
         "anchor": "x50",
         "domain": [
          0.2376923076923077,
          0.28692307692307695
         ],
         "matches": "y",
         "showticklabels": false
        },
        "yaxis51": {
         "anchor": "x51",
         "domain": [
          0.2376923076923077,
          0.28692307692307695
         ],
         "matches": "y",
         "showticklabels": false
        },
        "yaxis52": {
         "anchor": "x52",
         "domain": [
          0.2376923076923077,
          0.28692307692307695
         ],
         "matches": "y",
         "showticklabels": false
        },
        "yaxis53": {
         "anchor": "x53",
         "domain": [
          0.2376923076923077,
          0.28692307692307695
         ],
         "matches": "y",
         "showticklabels": false
        },
        "yaxis54": {
         "anchor": "x54",
         "domain": [
          0.2376923076923077,
          0.28692307692307695
         ],
         "matches": "y",
         "showticklabels": false
        },
        "yaxis55": {
         "anchor": "x55",
         "domain": [
          0.2376923076923077,
          0.28692307692307695
         ],
         "matches": "y",
         "showticklabels": false
        },
        "yaxis56": {
         "anchor": "x56",
         "domain": [
          0.2376923076923077,
          0.28692307692307695
         ],
         "matches": "y",
         "showticklabels": false
        },
        "yaxis57": {
         "anchor": "x57",
         "domain": [
          0.2376923076923077,
          0.28692307692307695
         ],
         "matches": "y",
         "showticklabels": false
        },
        "yaxis58": {
         "anchor": "x58",
         "domain": [
          0.2376923076923077,
          0.28692307692307695
         ],
         "matches": "y",
         "showticklabels": false
        },
        "yaxis59": {
         "anchor": "x59",
         "domain": [
          0.2376923076923077,
          0.28692307692307695
         ],
         "matches": "y",
         "showticklabels": false
        },
        "yaxis6": {
         "anchor": "x6",
         "domain": [
          0,
          0.04923076923076924
         ],
         "matches": "y",
         "showticklabels": false
        },
        "yaxis60": {
         "anchor": "x60",
         "domain": [
          0.2376923076923077,
          0.28692307692307695
         ],
         "matches": "y",
         "showticklabels": false
        },
        "yaxis61": {
         "anchor": "x61",
         "domain": [
          0.2376923076923077,
          0.28692307692307695
         ],
         "matches": "y",
         "showticklabels": false
        },
        "yaxis62": {
         "anchor": "x62",
         "domain": [
          0.2376923076923077,
          0.28692307692307695
         ],
         "matches": "y",
         "showticklabels": false
        },
        "yaxis63": {
         "anchor": "x63",
         "domain": [
          0.2376923076923077,
          0.28692307692307695
         ],
         "matches": "y",
         "showticklabels": false
        },
        "yaxis64": {
         "anchor": "x64",
         "domain": [
          0.2376923076923077,
          0.28692307692307695
         ],
         "matches": "y",
         "showticklabels": false
        },
        "yaxis65": {
         "anchor": "x65",
         "domain": [
          0.316923076923077,
          0.3661538461538462
         ],
         "matches": "y",
         "title": {
          "text": "residuals"
         }
        },
        "yaxis66": {
         "anchor": "x66",
         "domain": [
          0.316923076923077,
          0.3661538461538462
         ],
         "matches": "y",
         "showticklabels": false
        },
        "yaxis67": {
         "anchor": "x67",
         "domain": [
          0.316923076923077,
          0.3661538461538462
         ],
         "matches": "y",
         "showticklabels": false
        },
        "yaxis68": {
         "anchor": "x68",
         "domain": [
          0.316923076923077,
          0.3661538461538462
         ],
         "matches": "y",
         "showticklabels": false
        },
        "yaxis69": {
         "anchor": "x69",
         "domain": [
          0.316923076923077,
          0.3661538461538462
         ],
         "matches": "y",
         "showticklabels": false
        },
        "yaxis7": {
         "anchor": "x7",
         "domain": [
          0,
          0.04923076923076924
         ],
         "matches": "y",
         "showticklabels": false
        },
        "yaxis70": {
         "anchor": "x70",
         "domain": [
          0.316923076923077,
          0.3661538461538462
         ],
         "matches": "y",
         "showticklabels": false
        },
        "yaxis71": {
         "anchor": "x71",
         "domain": [
          0.316923076923077,
          0.3661538461538462
         ],
         "matches": "y",
         "showticklabels": false
        },
        "yaxis72": {
         "anchor": "x72",
         "domain": [
          0.316923076923077,
          0.3661538461538462
         ],
         "matches": "y",
         "showticklabels": false
        },
        "yaxis73": {
         "anchor": "x73",
         "domain": [
          0.316923076923077,
          0.3661538461538462
         ],
         "matches": "y",
         "showticklabels": false
        },
        "yaxis74": {
         "anchor": "x74",
         "domain": [
          0.316923076923077,
          0.3661538461538462
         ],
         "matches": "y",
         "showticklabels": false
        },
        "yaxis75": {
         "anchor": "x75",
         "domain": [
          0.316923076923077,
          0.3661538461538462
         ],
         "matches": "y",
         "showticklabels": false
        },
        "yaxis76": {
         "anchor": "x76",
         "domain": [
          0.316923076923077,
          0.3661538461538462
         ],
         "matches": "y",
         "showticklabels": false
        },
        "yaxis77": {
         "anchor": "x77",
         "domain": [
          0.316923076923077,
          0.3661538461538462
         ],
         "matches": "y",
         "showticklabels": false
        },
        "yaxis78": {
         "anchor": "x78",
         "domain": [
          0.316923076923077,
          0.3661538461538462
         ],
         "matches": "y",
         "showticklabels": false
        },
        "yaxis79": {
         "anchor": "x79",
         "domain": [
          0.316923076923077,
          0.3661538461538462
         ],
         "matches": "y",
         "showticklabels": false
        },
        "yaxis8": {
         "anchor": "x8",
         "domain": [
          0,
          0.04923076923076924
         ],
         "matches": "y",
         "showticklabels": false
        },
        "yaxis80": {
         "anchor": "x80",
         "domain": [
          0.316923076923077,
          0.3661538461538462
         ],
         "matches": "y",
         "showticklabels": false
        },
        "yaxis81": {
         "anchor": "x81",
         "domain": [
          0.3961538461538462,
          0.44538461538461543
         ],
         "matches": "y",
         "title": {
          "text": "residuals"
         }
        },
        "yaxis82": {
         "anchor": "x82",
         "domain": [
          0.3961538461538462,
          0.44538461538461543
         ],
         "matches": "y",
         "showticklabels": false
        },
        "yaxis83": {
         "anchor": "x83",
         "domain": [
          0.3961538461538462,
          0.44538461538461543
         ],
         "matches": "y",
         "showticklabels": false
        },
        "yaxis84": {
         "anchor": "x84",
         "domain": [
          0.3961538461538462,
          0.44538461538461543
         ],
         "matches": "y",
         "showticklabels": false
        },
        "yaxis85": {
         "anchor": "x85",
         "domain": [
          0.3961538461538462,
          0.44538461538461543
         ],
         "matches": "y",
         "showticklabels": false
        },
        "yaxis86": {
         "anchor": "x86",
         "domain": [
          0.3961538461538462,
          0.44538461538461543
         ],
         "matches": "y",
         "showticklabels": false
        },
        "yaxis87": {
         "anchor": "x87",
         "domain": [
          0.3961538461538462,
          0.44538461538461543
         ],
         "matches": "y",
         "showticklabels": false
        },
        "yaxis88": {
         "anchor": "x88",
         "domain": [
          0.3961538461538462,
          0.44538461538461543
         ],
         "matches": "y",
         "showticklabels": false
        },
        "yaxis89": {
         "anchor": "x89",
         "domain": [
          0.3961538461538462,
          0.44538461538461543
         ],
         "matches": "y",
         "showticklabels": false
        },
        "yaxis9": {
         "anchor": "x9",
         "domain": [
          0,
          0.04923076923076924
         ],
         "matches": "y",
         "showticklabels": false
        },
        "yaxis90": {
         "anchor": "x90",
         "domain": [
          0.3961538461538462,
          0.44538461538461543
         ],
         "matches": "y",
         "showticklabels": false
        },
        "yaxis91": {
         "anchor": "x91",
         "domain": [
          0.3961538461538462,
          0.44538461538461543
         ],
         "matches": "y",
         "showticklabels": false
        },
        "yaxis92": {
         "anchor": "x92",
         "domain": [
          0.3961538461538462,
          0.44538461538461543
         ],
         "matches": "y",
         "showticklabels": false
        },
        "yaxis93": {
         "anchor": "x93",
         "domain": [
          0.3961538461538462,
          0.44538461538461543
         ],
         "matches": "y",
         "showticklabels": false
        },
        "yaxis94": {
         "anchor": "x94",
         "domain": [
          0.3961538461538462,
          0.44538461538461543
         ],
         "matches": "y",
         "showticklabels": false
        },
        "yaxis95": {
         "anchor": "x95",
         "domain": [
          0.3961538461538462,
          0.44538461538461543
         ],
         "matches": "y",
         "showticklabels": false
        },
        "yaxis96": {
         "anchor": "x96",
         "domain": [
          0.3961538461538462,
          0.44538461538461543
         ],
         "matches": "y",
         "showticklabels": false
        },
        "yaxis97": {
         "anchor": "x97",
         "domain": [
          0.4753846153846154,
          0.5246153846153846
         ],
         "matches": "y",
         "title": {
          "text": "residuals"
         }
        },
        "yaxis98": {
         "anchor": "x98",
         "domain": [
          0.4753846153846154,
          0.5246153846153846
         ],
         "matches": "y",
         "showticklabels": false
        },
        "yaxis99": {
         "anchor": "x99",
         "domain": [
          0.4753846153846154,
          0.5246153846153846
         ],
         "matches": "y",
         "showticklabels": false
        }
       }
      }
     },
     "metadata": {},
     "output_type": "display_data"
    }
   ],
   "source": [
    "magic_numbers = [2, 8, 20, 50, 58, 82, 126]\n",
    "\n",
    "magic_residuals_df = merged.copy().reset_index()\n",
    "magic_residuals_df = magic_residuals_df[magic_residuals_df['z'].isin(magic_numbers) | magic_residuals_df['n'].isin(magic_numbers)]\n",
    "\n",
    "magic_residuals_df[\"name\"] = magic_residuals_df[\"a\"].astype(str) + magic_residuals_df[\"symbol\"]\n",
    "magic_residuals_df[\"residuals\"] = magic_residuals_df[\"energy\"] - magic_residuals_df[\"energy_pred\"]\n",
    "\n",
    "best_magic_residuals = get_best_r2(magic_residuals_df, 0.90)\n",
    "\n",
    "fig = px.scatter(best_magic_residuals, x=\"quanta\", y=\"residuals\", facet_row=\"z\", facet_col=\"n\", height=1000, color='r2')\n",
    "fig.add_hline(y=0, line_width=1, line_dash=\"dash\", line_color=\"black\")\n",
    "fig.show()"
   ]
  },
  {
   "cell_type": "code",
   "execution_count": 237,
   "metadata": {},
   "outputs": [],
   "source": [
    "#What if any fit, not linear?\n",
    "# Note some seem to have two different bands, (W shape)\n",
    "# Note test multiple models, and only show best fit\n",
    "\n",
    "\n",
    "# Just use even-even??"
   ]
  },
  {
   "cell_type": "code",
   "execution_count": 238,
   "metadata": {},
   "outputs": [
    {
     "data": {
      "text/html": [
       "<div>\n",
       "<style scoped>\n",
       "    .dataframe tbody tr th:only-of-type {\n",
       "        vertical-align: middle;\n",
       "    }\n",
       "\n",
       "    .dataframe tbody tr th {\n",
       "        vertical-align: top;\n",
       "    }\n",
       "\n",
       "    .dataframe thead th {\n",
       "        text-align: right;\n",
       "    }\n",
       "</style>\n",
       "<table border=\"1\" class=\"dataframe\">\n",
       "  <thead>\n",
       "    <tr style=\"text-align: right;\">\n",
       "      <th></th>\n",
       "      <th>z</th>\n",
       "      <th>a</th>\n",
       "      <th>symbol</th>\n",
       "      <th>n</th>\n",
       "      <th>idx</th>\n",
       "      <th>energy</th>\n",
       "      <th>jp</th>\n",
       "      <th>jp_order</th>\n",
       "      <th>beta</th>\n",
       "      <th>j</th>\n",
       "      <th>...</th>\n",
       "      <th>j_evenness</th>\n",
       "      <th>p_bit</th>\n",
       "      <th>quanta</th>\n",
       "      <th>energy_quantum</th>\n",
       "      <th>zero_point_energy</th>\n",
       "      <th>r2</th>\n",
       "      <th>j_float_y</th>\n",
       "      <th>energy_pred</th>\n",
       "      <th>name</th>\n",
       "      <th>residuals</th>\n",
       "    </tr>\n",
       "  </thead>\n",
       "  <tbody>\n",
       "    <tr>\n",
       "      <th>348</th>\n",
       "      <td>46</td>\n",
       "      <td>104</td>\n",
       "      <td>Pd</td>\n",
       "      <td>58</td>\n",
       "      <td>0</td>\n",
       "      <td>0.0</td>\n",
       "      <td>0+</td>\n",
       "      <td>1</td>\n",
       "      <td>0.115385</td>\n",
       "      <td>0</td>\n",
       "      <td>...</td>\n",
       "      <td>True</td>\n",
       "      <td>0</td>\n",
       "      <td>0</td>\n",
       "      <td>0.82376</td>\n",
       "      <td>-0.184872</td>\n",
       "      <td>0.997169</td>\n",
       "      <td>0</td>\n",
       "      <td>-0.184872</td>\n",
       "      <td>104Pd</td>\n",
       "      <td>0.184872</td>\n",
       "    </tr>\n",
       "    <tr>\n",
       "      <th>349</th>\n",
       "      <td>46</td>\n",
       "      <td>104</td>\n",
       "      <td>Pd</td>\n",
       "      <td>58</td>\n",
       "      <td>1</td>\n",
       "      <td>0.55581</td>\n",
       "      <td>2+</td>\n",
       "      <td>1</td>\n",
       "      <td>0.115385</td>\n",
       "      <td>2</td>\n",
       "      <td>...</td>\n",
       "      <td>True</td>\n",
       "      <td>0</td>\n",
       "      <td>1</td>\n",
       "      <td>0.82376</td>\n",
       "      <td>-0.184872</td>\n",
       "      <td>0.997169</td>\n",
       "      <td>1</td>\n",
       "      <td>0.638888</td>\n",
       "      <td>104Pd</td>\n",
       "      <td>-0.083078</td>\n",
       "    </tr>\n",
       "    <tr>\n",
       "      <th>350</th>\n",
       "      <td>46</td>\n",
       "      <td>104</td>\n",
       "      <td>Pd</td>\n",
       "      <td>58</td>\n",
       "      <td>2</td>\n",
       "      <td>1.32359</td>\n",
       "      <td>4+</td>\n",
       "      <td>1</td>\n",
       "      <td>0.115385</td>\n",
       "      <td>4</td>\n",
       "      <td>...</td>\n",
       "      <td>True</td>\n",
       "      <td>0</td>\n",
       "      <td>2</td>\n",
       "      <td>0.82376</td>\n",
       "      <td>-0.184872</td>\n",
       "      <td>0.997169</td>\n",
       "      <td>2</td>\n",
       "      <td>1.462649</td>\n",
       "      <td>104Pd</td>\n",
       "      <td>-0.139059</td>\n",
       "    </tr>\n",
       "    <tr>\n",
       "      <th>351</th>\n",
       "      <td>46</td>\n",
       "      <td>104</td>\n",
       "      <td>Pd</td>\n",
       "      <td>58</td>\n",
       "      <td>21</td>\n",
       "      <td>2.2495</td>\n",
       "      <td>6+</td>\n",
       "      <td>1</td>\n",
       "      <td>0.115385</td>\n",
       "      <td>6</td>\n",
       "      <td>...</td>\n",
       "      <td>True</td>\n",
       "      <td>0</td>\n",
       "      <td>3</td>\n",
       "      <td>0.82376</td>\n",
       "      <td>-0.184872</td>\n",
       "      <td>0.997169</td>\n",
       "      <td>3</td>\n",
       "      <td>2.286409</td>\n",
       "      <td>104Pd</td>\n",
       "      <td>-0.036909</td>\n",
       "    </tr>\n",
       "    <tr>\n",
       "      <th>352</th>\n",
       "      <td>46</td>\n",
       "      <td>104</td>\n",
       "      <td>Pd</td>\n",
       "      <td>58</td>\n",
       "      <td>88</td>\n",
       "      <td>3.2207</td>\n",
       "      <td>8+</td>\n",
       "      <td>1</td>\n",
       "      <td>0.115385</td>\n",
       "      <td>8</td>\n",
       "      <td>...</td>\n",
       "      <td>True</td>\n",
       "      <td>0</td>\n",
       "      <td>4</td>\n",
       "      <td>0.82376</td>\n",
       "      <td>-0.184872</td>\n",
       "      <td>0.997169</td>\n",
       "      <td>4</td>\n",
       "      <td>3.110170</td>\n",
       "      <td>104Pd</td>\n",
       "      <td>0.11053</td>\n",
       "    </tr>\n",
       "    <tr>\n",
       "      <th>353</th>\n",
       "      <td>46</td>\n",
       "      <td>104</td>\n",
       "      <td>Pd</td>\n",
       "      <td>58</td>\n",
       "      <td>134</td>\n",
       "      <td>4.0231</td>\n",
       "      <td>10+</td>\n",
       "      <td>1</td>\n",
       "      <td>0.115385</td>\n",
       "      <td>10</td>\n",
       "      <td>...</td>\n",
       "      <td>True</td>\n",
       "      <td>0</td>\n",
       "      <td>5</td>\n",
       "      <td>0.82376</td>\n",
       "      <td>-0.184872</td>\n",
       "      <td>0.997169</td>\n",
       "      <td>5</td>\n",
       "      <td>3.933930</td>\n",
       "      <td>104Pd</td>\n",
       "      <td>0.08917</td>\n",
       "    </tr>\n",
       "    <tr>\n",
       "      <th>354</th>\n",
       "      <td>46</td>\n",
       "      <td>104</td>\n",
       "      <td>Pd</td>\n",
       "      <td>58</td>\n",
       "      <td>138</td>\n",
       "      <td>4.635</td>\n",
       "      <td>12+</td>\n",
       "      <td>1</td>\n",
       "      <td>0.115385</td>\n",
       "      <td>12</td>\n",
       "      <td>...</td>\n",
       "      <td>True</td>\n",
       "      <td>0</td>\n",
       "      <td>6</td>\n",
       "      <td>0.82376</td>\n",
       "      <td>-0.184872</td>\n",
       "      <td>0.997169</td>\n",
       "      <td>6</td>\n",
       "      <td>4.757691</td>\n",
       "      <td>104Pd</td>\n",
       "      <td>-0.122691</td>\n",
       "    </tr>\n",
       "    <tr>\n",
       "      <th>355</th>\n",
       "      <td>46</td>\n",
       "      <td>104</td>\n",
       "      <td>Pd</td>\n",
       "      <td>58</td>\n",
       "      <td>141</td>\n",
       "      <td>5.4321</td>\n",
       "      <td>14+</td>\n",
       "      <td>1</td>\n",
       "      <td>0.115385</td>\n",
       "      <td>14</td>\n",
       "      <td>...</td>\n",
       "      <td>True</td>\n",
       "      <td>0</td>\n",
       "      <td>7</td>\n",
       "      <td>0.82376</td>\n",
       "      <td>-0.184872</td>\n",
       "      <td>0.997169</td>\n",
       "      <td>7</td>\n",
       "      <td>5.581451</td>\n",
       "      <td>104Pd</td>\n",
       "      <td>-0.149351</td>\n",
       "    </tr>\n",
       "    <tr>\n",
       "      <th>356</th>\n",
       "      <td>46</td>\n",
       "      <td>104</td>\n",
       "      <td>Pd</td>\n",
       "      <td>58</td>\n",
       "      <td>144</td>\n",
       "      <td>6.3583</td>\n",
       "      <td>16+</td>\n",
       "      <td>1</td>\n",
       "      <td>0.115385</td>\n",
       "      <td>16</td>\n",
       "      <td>...</td>\n",
       "      <td>True</td>\n",
       "      <td>0</td>\n",
       "      <td>8</td>\n",
       "      <td>0.82376</td>\n",
       "      <td>-0.184872</td>\n",
       "      <td>0.997169</td>\n",
       "      <td>8</td>\n",
       "      <td>6.405212</td>\n",
       "      <td>104Pd</td>\n",
       "      <td>-0.046912</td>\n",
       "    </tr>\n",
       "    <tr>\n",
       "      <th>357</th>\n",
       "      <td>46</td>\n",
       "      <td>104</td>\n",
       "      <td>Pd</td>\n",
       "      <td>58</td>\n",
       "      <td>145</td>\n",
       "      <td>7.4224</td>\n",
       "      <td>18+</td>\n",
       "      <td>1</td>\n",
       "      <td>0.115385</td>\n",
       "      <td>18</td>\n",
       "      <td>...</td>\n",
       "      <td>True</td>\n",
       "      <td>0</td>\n",
       "      <td>9</td>\n",
       "      <td>0.82376</td>\n",
       "      <td>-0.184872</td>\n",
       "      <td>0.997169</td>\n",
       "      <td>9</td>\n",
       "      <td>7.228972</td>\n",
       "      <td>104Pd</td>\n",
       "      <td>0.193428</td>\n",
       "    </tr>\n",
       "  </tbody>\n",
       "</table>\n",
       "<p>10 rows × 22 columns</p>\n",
       "</div>"
      ],
      "text/plain": [
       "      z    a symbol   n  idx   energy   jp  jp_order      beta   j  ...  \\\n",
       "348  46  104     Pd  58    0      0.0   0+         1  0.115385   0  ...   \n",
       "349  46  104     Pd  58    1  0.55581   2+         1  0.115385   2  ...   \n",
       "350  46  104     Pd  58    2  1.32359   4+         1  0.115385   4  ...   \n",
       "351  46  104     Pd  58   21   2.2495   6+         1  0.115385   6  ...   \n",
       "352  46  104     Pd  58   88   3.2207   8+         1  0.115385   8  ...   \n",
       "353  46  104     Pd  58  134   4.0231  10+         1  0.115385  10  ...   \n",
       "354  46  104     Pd  58  138    4.635  12+         1  0.115385  12  ...   \n",
       "355  46  104     Pd  58  141   5.4321  14+         1  0.115385  14  ...   \n",
       "356  46  104     Pd  58  144   6.3583  16+         1  0.115385  16  ...   \n",
       "357  46  104     Pd  58  145   7.4224  18+         1  0.115385  18  ...   \n",
       "\n",
       "    j_evenness  p_bit  quanta  energy_quantum  zero_point_energy        r2  \\\n",
       "348       True      0       0         0.82376          -0.184872  0.997169   \n",
       "349       True      0       1         0.82376          -0.184872  0.997169   \n",
       "350       True      0       2         0.82376          -0.184872  0.997169   \n",
       "351       True      0       3         0.82376          -0.184872  0.997169   \n",
       "352       True      0       4         0.82376          -0.184872  0.997169   \n",
       "353       True      0       5         0.82376          -0.184872  0.997169   \n",
       "354       True      0       6         0.82376          -0.184872  0.997169   \n",
       "355       True      0       7         0.82376          -0.184872  0.997169   \n",
       "356       True      0       8         0.82376          -0.184872  0.997169   \n",
       "357       True      0       9         0.82376          -0.184872  0.997169   \n",
       "\n",
       "     j_float_y  energy_pred   name  residuals  \n",
       "348          0    -0.184872  104Pd   0.184872  \n",
       "349          1     0.638888  104Pd  -0.083078  \n",
       "350          2     1.462649  104Pd  -0.139059  \n",
       "351          3     2.286409  104Pd  -0.036909  \n",
       "352          4     3.110170  104Pd    0.11053  \n",
       "353          5     3.933930  104Pd    0.08917  \n",
       "354          6     4.757691  104Pd  -0.122691  \n",
       "355          7     5.581451  104Pd  -0.149351  \n",
       "356          8     6.405212  104Pd  -0.046912  \n",
       "357          9     7.228972  104Pd   0.193428  \n",
       "\n",
       "[10 rows x 22 columns]"
      ]
     },
     "execution_count": 238,
     "metadata": {},
     "output_type": "execute_result"
    }
   ],
   "source": [
    "residuals_df[residuals_df['name'] == '104Pd']"
   ]
  },
  {
   "cell_type": "code",
   "execution_count": 239,
   "metadata": {},
   "outputs": [
    {
     "data": {
      "text/html": [
       "<div>\n",
       "<style scoped>\n",
       "    .dataframe tbody tr th:only-of-type {\n",
       "        vertical-align: middle;\n",
       "    }\n",
       "\n",
       "    .dataframe tbody tr th {\n",
       "        vertical-align: top;\n",
       "    }\n",
       "\n",
       "    .dataframe thead th {\n",
       "        text-align: right;\n",
       "    }\n",
       "</style>\n",
       "<table border=\"1\" class=\"dataframe\">\n",
       "  <thead>\n",
       "    <tr style=\"text-align: right;\">\n",
       "      <th></th>\n",
       "      <th></th>\n",
       "      <th>symbol</th>\n",
       "      <th>n</th>\n",
       "      <th>idx</th>\n",
       "      <th>energy</th>\n",
       "      <th>jp</th>\n",
       "      <th>jp_order</th>\n",
       "      <th>beta</th>\n",
       "      <th>j</th>\n",
       "      <th>p</th>\n",
       "      <th>j_float</th>\n",
       "      <th>j_evenness</th>\n",
       "      <th>p_bit</th>\n",
       "    </tr>\n",
       "    <tr>\n",
       "      <th>z</th>\n",
       "      <th>a</th>\n",
       "      <th></th>\n",
       "      <th></th>\n",
       "      <th></th>\n",
       "      <th></th>\n",
       "      <th></th>\n",
       "      <th></th>\n",
       "      <th></th>\n",
       "      <th></th>\n",
       "      <th></th>\n",
       "      <th></th>\n",
       "      <th></th>\n",
       "      <th></th>\n",
       "    </tr>\n",
       "  </thead>\n",
       "  <tbody>\n",
       "    <tr>\n",
       "      <th rowspan=\"11\" valign=\"top\">46</th>\n",
       "      <th>104</th>\n",
       "      <td>Pd</td>\n",
       "      <td>58</td>\n",
       "      <td>0</td>\n",
       "      <td>0.0</td>\n",
       "      <td>0+</td>\n",
       "      <td>1</td>\n",
       "      <td>0.115385</td>\n",
       "      <td>0</td>\n",
       "      <td>+</td>\n",
       "      <td>0.0</td>\n",
       "      <td>True</td>\n",
       "      <td>0</td>\n",
       "    </tr>\n",
       "    <tr>\n",
       "      <th>104</th>\n",
       "      <td>Pd</td>\n",
       "      <td>58</td>\n",
       "      <td>1</td>\n",
       "      <td>0.55581</td>\n",
       "      <td>2+</td>\n",
       "      <td>1</td>\n",
       "      <td>0.115385</td>\n",
       "      <td>2</td>\n",
       "      <td>+</td>\n",
       "      <td>2.0</td>\n",
       "      <td>True</td>\n",
       "      <td>0</td>\n",
       "    </tr>\n",
       "    <tr>\n",
       "      <th>104</th>\n",
       "      <td>Pd</td>\n",
       "      <td>58</td>\n",
       "      <td>2</td>\n",
       "      <td>1.32359</td>\n",
       "      <td>4+</td>\n",
       "      <td>1</td>\n",
       "      <td>0.115385</td>\n",
       "      <td>4</td>\n",
       "      <td>+</td>\n",
       "      <td>4.0</td>\n",
       "      <td>True</td>\n",
       "      <td>0</td>\n",
       "    </tr>\n",
       "    <tr>\n",
       "      <th>104</th>\n",
       "      <td>Pd</td>\n",
       "      <td>58</td>\n",
       "      <td>3</td>\n",
       "      <td>1.33359</td>\n",
       "      <td>0+</td>\n",
       "      <td>2</td>\n",
       "      <td>0.115385</td>\n",
       "      <td>0</td>\n",
       "      <td>+</td>\n",
       "      <td>0.0</td>\n",
       "      <td>True</td>\n",
       "      <td>0</td>\n",
       "    </tr>\n",
       "    <tr>\n",
       "      <th>104</th>\n",
       "      <td>Pd</td>\n",
       "      <td>58</td>\n",
       "      <td>4</td>\n",
       "      <td>1.34168</td>\n",
       "      <td>2+</td>\n",
       "      <td>2</td>\n",
       "      <td>0.115385</td>\n",
       "      <td>2</td>\n",
       "      <td>+</td>\n",
       "      <td>2.0</td>\n",
       "      <td>True</td>\n",
       "      <td>0</td>\n",
       "    </tr>\n",
       "    <tr>\n",
       "      <th>...</th>\n",
       "      <td>...</td>\n",
       "      <td>...</td>\n",
       "      <td>...</td>\n",
       "      <td>...</td>\n",
       "      <td>...</td>\n",
       "      <td>...</td>\n",
       "      <td>...</td>\n",
       "      <td>...</td>\n",
       "      <td>...</td>\n",
       "      <td>...</td>\n",
       "      <td>...</td>\n",
       "      <td>...</td>\n",
       "    </tr>\n",
       "    <tr>\n",
       "      <th>104</th>\n",
       "      <td>Pd</td>\n",
       "      <td>58</td>\n",
       "      <td>141</td>\n",
       "      <td>5.4321</td>\n",
       "      <td>14+</td>\n",
       "      <td>1</td>\n",
       "      <td>0.115385</td>\n",
       "      <td>14</td>\n",
       "      <td>+</td>\n",
       "      <td>14.0</td>\n",
       "      <td>True</td>\n",
       "      <td>0</td>\n",
       "    </tr>\n",
       "    <tr>\n",
       "      <th>104</th>\n",
       "      <td>Pd</td>\n",
       "      <td>58</td>\n",
       "      <td>142</td>\n",
       "      <td>5.6812</td>\n",
       "      <td>14-</td>\n",
       "      <td>1</td>\n",
       "      <td>0.115385</td>\n",
       "      <td>14</td>\n",
       "      <td>-</td>\n",
       "      <td>14.0</td>\n",
       "      <td>True</td>\n",
       "      <td>1</td>\n",
       "    </tr>\n",
       "    <tr>\n",
       "      <th>104</th>\n",
       "      <td>Pd</td>\n",
       "      <td>58</td>\n",
       "      <td>143</td>\n",
       "      <td>6.0218</td>\n",
       "      <td>15-</td>\n",
       "      <td>1</td>\n",
       "      <td>0.115385</td>\n",
       "      <td>15</td>\n",
       "      <td>-</td>\n",
       "      <td>15.0</td>\n",
       "      <td>False</td>\n",
       "      <td>1</td>\n",
       "    </tr>\n",
       "    <tr>\n",
       "      <th>104</th>\n",
       "      <td>Pd</td>\n",
       "      <td>58</td>\n",
       "      <td>144</td>\n",
       "      <td>6.3583</td>\n",
       "      <td>16+</td>\n",
       "      <td>1</td>\n",
       "      <td>0.115385</td>\n",
       "      <td>16</td>\n",
       "      <td>+</td>\n",
       "      <td>16.0</td>\n",
       "      <td>True</td>\n",
       "      <td>0</td>\n",
       "    </tr>\n",
       "    <tr>\n",
       "      <th>104</th>\n",
       "      <td>Pd</td>\n",
       "      <td>58</td>\n",
       "      <td>145</td>\n",
       "      <td>7.4224</td>\n",
       "      <td>18+</td>\n",
       "      <td>1</td>\n",
       "      <td>0.115385</td>\n",
       "      <td>18</td>\n",
       "      <td>+</td>\n",
       "      <td>18.0</td>\n",
       "      <td>True</td>\n",
       "      <td>0</td>\n",
       "    </tr>\n",
       "  </tbody>\n",
       "</table>\n",
       "<p>75 rows × 12 columns</p>\n",
       "</div>"
      ],
      "text/plain": [
       "       symbol   n  idx   energy   jp  jp_order      beta   j  p  j_float  \\\n",
       "z  a                                                                       \n",
       "46 104     Pd  58    0      0.0   0+         1  0.115385   0  +      0.0   \n",
       "   104     Pd  58    1  0.55581   2+         1  0.115385   2  +      2.0   \n",
       "   104     Pd  58    2  1.32359   4+         1  0.115385   4  +      4.0   \n",
       "   104     Pd  58    3  1.33359   0+         2  0.115385   0  +      0.0   \n",
       "   104     Pd  58    4  1.34168   2+         2  0.115385   2  +      2.0   \n",
       "...       ...  ..  ...      ...  ...       ...       ...  .. ..      ...   \n",
       "   104     Pd  58  141   5.4321  14+         1  0.115385  14  +     14.0   \n",
       "   104     Pd  58  142   5.6812  14-         1  0.115385  14  -     14.0   \n",
       "   104     Pd  58  143   6.0218  15-         1  0.115385  15  -     15.0   \n",
       "   104     Pd  58  144   6.3583  16+         1  0.115385  16  +     16.0   \n",
       "   104     Pd  58  145   7.4224  18+         1  0.115385  18  +     18.0   \n",
       "\n",
       "        j_evenness  p_bit  \n",
       "z  a                       \n",
       "46 104        True      0  \n",
       "   104        True      0  \n",
       "   104        True      0  \n",
       "   104        True      0  \n",
       "   104        True      0  \n",
       "...            ...    ...  \n",
       "   104        True      0  \n",
       "   104        True      1  \n",
       "   104       False      1  \n",
       "   104        True      0  \n",
       "   104        True      0  \n",
       "\n",
       "[75 rows x 12 columns]"
      ]
     },
     "execution_count": 239,
     "metadata": {},
     "output_type": "execute_result"
    }
   ],
   "source": [
    "df.loc[46,104]"
   ]
  },
  {
   "cell_type": "code",
   "execution_count": 240,
   "metadata": {},
   "outputs": [],
   "source": [
    "#TODO compare with paper, check their r2 for \"perfect\" and for \"deviation\"\n",
    "#TODO look at paper?"
   ]
  },
  {
   "cell_type": "code",
   "execution_count": 241,
   "metadata": {},
   "outputs": [],
   "source": [
    "# Using r2 not mse because scale independent, some energy levels may be inherently larger?\n",
    "#https://stats.stackexchange.com/a/250735"
   ]
  },
  {
   "cell_type": "code",
   "execution_count": 242,
   "metadata": {},
   "outputs": [],
   "source": [
    "#TODO figure out way to combine r2 and number of points used"
   ]
  },
  {
   "cell_type": "code",
   "execution_count": 243,
   "metadata": {},
   "outputs": [],
   "source": [
    "#Quadrupole axial: Even positive only?\n",
    "\n",
    "#TODO use bands"
   ]
  }
 ],
 "metadata": {
  "kernelspec": {
   "display_name": "nuclei",
   "language": "python",
   "name": "python3"
  },
  "language_info": {
   "codemirror_mode": {
    "name": "ipython",
    "version": 3
   },
   "file_extension": ".py",
   "mimetype": "text/x-python",
   "name": "python",
   "nbconvert_exporter": "python",
   "pygments_lexer": "ipython3",
   "version": "3.13.0"
  }
 },
 "nbformat": 4,
 "nbformat_minor": 2
}
