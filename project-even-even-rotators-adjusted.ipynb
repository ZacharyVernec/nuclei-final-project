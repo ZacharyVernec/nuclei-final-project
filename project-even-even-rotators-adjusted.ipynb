{
 "cells": [
  {
   "cell_type": "code",
   "execution_count": null,
   "metadata": {},
   "outputs": [],
   "source": [
    "import pandas as pd\n",
    "import numpy as np\n",
    "\n",
    "from scipy.optimize import curve_fit\n",
    "\n",
    "import plotly.express as px"
   ]
  },
  {
   "cell_type": "code",
   "execution_count": 2,
   "metadata": {},
   "outputs": [],
   "source": [
    "dtypes = {\n",
    "    'z': 'UInt8',\n",
    "    'n': 'UInt8',\n",
    "    'symbol': 'string',\n",
    "    'idx': 'UInt16',\n",
    "    'energy_shift': 'category',\n",
    "    'energy': 'Float64',\n",
    "    'unc_e': 'Float64',\n",
    "    'ripl_shift': 'Float64',\n",
    "    'jp': 'string',\n",
    "    'jp_order': 'UInt8',\n",
    "    'half_life': 'string',\n",
    "    'operator_hl': 'string',\n",
    "    'unc_hl': 'string',\n",
    "    'unit_hl': 'category',\n",
    "    'half_life_sec': 'Float64',\n",
    "    'unc_hl.1': 'Float64',\n",
    "    'decay_1': 'string',\n",
    "    'decay_1_%': 'Float64',\n",
    "    'unc_1': 'Float64',\n",
    "    'decay_2': 'string',\n",
    "    'decay_2_%': 'Float64',\n",
    "    'unc_2': 'Float64',\n",
    "    'decay_3': 'string',\n",
    "    'decay_3_%': 'Float64',\n",
    "    'unc_3': 'Float64',\n",
    "    'isospin': 'string',\n",
    "    'magnetic_dipole': 'Float64',\n",
    "    'unc_mn': 'Float64',\n",
    "    'electric_quadrupole': 'Float64',\n",
    "    'unc_eq': 'Float64',\n",
    "    'ENSDF_publication_cut-off': 'string',\n",
    "    'ENSlevels_df_authors': 'string',\n",
    "    'Extraction_date': 'string'\n",
    "}\n",
    "parse_dates = ['ENSDF_publication_cut-off', 'Extraction_date']"
   ]
  },
  {
   "cell_type": "code",
   "execution_count": 3,
   "metadata": {},
   "outputs": [],
   "source": [
    "# the service URL\n",
    "livechart = \"https://nds.iaea.org/relnsd/v1/data?\"\n",
    "\n",
    "# There have been cases in which the service returns an HTTP Error 403: Forbidden\n",
    "# use this workaround\n",
    "import urllib.request\n",
    "def lc_pd_dataframe(url, dtype=None, parse_dates=None):\n",
    "    req = urllib.request.Request(url)\n",
    "    req.add_header('User-Agent''','' 'Mozilla/5.0 (X11; Ubuntu; Linux x86_64; rv:77.0) Gecko/20100101 Firefox/77.0')\n",
    "    return pd.read_csv(urllib.request.urlopen(req), dtype=dtype, parse_dates=parse_dates)\n",
    "\n",
    "ground_states_df = lc_pd_dataframe(livechart + \"fields=ground_states&nuclides=all\", dtype=dtypes)\n",
    "ground_states_df = ground_states_df[['z', 'n', 'symbol', 'half_life', 'electric_quadrupole']]\n",
    "ground_states_df = ground_states_df[ground_states_df['half_life'] == 'STABLE']\n",
    "ground_states_df = ground_states_df.copy()\n",
    "ground_states_df['a'] = ground_states_df['z'] + ground_states_df['n']\n",
    "ground_states_df = ground_states_df.set_index(['z', 'a'], drop=True)"
   ]
  },
  {
   "cell_type": "markdown",
   "metadata": {},
   "source": [
    "## Load saved data"
   ]
  },
  {
   "cell_type": "code",
   "execution_count": 4,
   "metadata": {},
   "outputs": [],
   "source": [
    "levels_df = pd.read_csv('levels.csv', parse_dates=parse_dates, dtype=dtypes)\n",
    "\n",
    "\n",
    "levels_df.loc[levels_df['half_life'] == 'STABLE', 'half_life'] = 'inf'\n",
    "levels_df['half_life'] = levels_df['half_life'].astype('Float64')\n",
    "\n",
    "levels_df['a'] = levels_df['z'] + levels_df['n']\n",
    "\n",
    "levels_df = levels_df[['symbol', 'a', 'z', 'n', 'idx', 'energy', 'energy_shift', 'ripl_shift', 'jp', 'jp_order']]\n",
    "levels_df['energy'] = levels_df['energy'] / 1000 #MeV\n",
    "levels_df['ripl_shift'] = levels_df['ripl_shift'] / 1000 #MeV\n",
    "#TODO also take into account energy uncertainty\n",
    "\n",
    "levels_df = levels_df.set_index(['z', 'a'], drop=True)"
   ]
  },
  {
   "cell_type": "code",
   "execution_count": 5,
   "metadata": {},
   "outputs": [],
   "source": [
    "# Filter out unknown energies\n",
    "\n",
    "levels_df = levels_df[levels_df['energy_shift'].isna()]\n",
    "levels_df = levels_df.drop(['energy_shift', 'ripl_shift'], axis='columns')"
   ]
  },
  {
   "cell_type": "code",
   "execution_count": 6,
   "metadata": {},
   "outputs": [],
   "source": [
    "# Keep only even-even nuclei\n",
    "\n",
    "df = levels_df[(levels_df.index.get_level_values('z') % 2 == 0) & (levels_df.index.get_level_values('a') % 2 == 0)]"
   ]
  },
  {
   "cell_type": "code",
   "execution_count": 7,
   "metadata": {},
   "outputs": [],
   "source": [
    "# Filter out uncertain jp\n",
    "\n",
    "df = df[df['jp'].str.fullmatch(r'^[0-9]+(/[0-9]+)?[+-]$')]\n",
    "\n",
    "# Extract j and p\n",
    "\n",
    "df['j'] = df['jp'].str[:-1]\n",
    "df['p'] = df['jp'].str[-1]\n",
    "\n",
    "odd_spins = df['j'].str.contains('/')\n",
    "even_spins = ~odd_spins\n",
    "\n",
    "df.loc[odd_spins,'j_float'] = df[odd_spins]['j'].str.split('/').apply(lambda x: float(x[0]) / float(x[1]))\n",
    "df.loc[even_spins,'j_float'] = df[even_spins]['j'].astype(float)\n",
    "\n",
    "df['j_evenness'] = pd.Series(data=pd.NA, dtype='boolean')\n",
    "df.loc[even_spins,'j_evenness'] = (df[even_spins]['j'].str.split('/', expand=True)[0].astype(int) % 2 == 0)\n",
    "\n",
    "df['p_bit'] = df['p'].str.fullmatch(r'\\-').astype(int)"
   ]
  },
  {
   "cell_type": "code",
   "execution_count": 8,
   "metadata": {},
   "outputs": [],
   "source": [
    "# Only consider first even levels i.e. 0^+_1, 2^+_1, 4^+_1, 6^+_1, 8^+_1, ...\n",
    "\n",
    "first_even_levels = df[(df['jp_order'] == 1) & df['j_evenness'].fillna(False) & (df['p_bit'] == 0)].copy()\n",
    "\n",
    "# Remove extraenous information\n",
    "first_even_levels = first_even_levels.drop(columns=['idx', 'jp', 'jp_order', 'j', 'p', 'j_evenness', 'p_bit'])"
   ]
  },
  {
   "cell_type": "code",
   "execution_count": 9,
   "metadata": {},
   "outputs": [],
   "source": [
    "# Filter out not enough levels\n",
    "first_even_levels = first_even_levels.loc[first_even_levels.groupby(level=first_even_levels.index.names).size() >= 3]"
   ]
  },
  {
   "cell_type": "code",
   "execution_count": 10,
   "metadata": {},
   "outputs": [],
   "source": [
    "def get_rot_energy(j, energy_quantum):\n",
    "    return j * energy_quantum\n",
    "\n",
    "def fit(group, func):\n",
    "\n",
    "    x = group['j_float']\n",
    "    y = group['energy']\n",
    "\n",
    "    # fit\n",
    "    popt, pcov = curve_fit(func, x, y)\n",
    "\n",
    "    # prediction\n",
    "    y_pred = func(x, *popt)\n",
    "\n",
    "    # r-squared\n",
    "    ss_res = np.sum((y - y_pred)**2)\n",
    "    ss_tot = np.sum((y - y.mean())**2)\n",
    "    dof_res = len(x) - 1 - 1\n",
    "    dof_tot = len(x) - 1\n",
    "    r2 = 1 - ((ss_res/dof_res) / (ss_tot/dof_tot))\n",
    "\n",
    "    # results\n",
    "    results = pd.DataFrame({'energy_quantum': popt[0], 'r2': r2, 'j_float': x, 'energy_pred': y_pred})\n",
    "    \n",
    "    return  results"
   ]
  },
  {
   "cell_type": "code",
   "execution_count": 11,
   "metadata": {},
   "outputs": [],
   "source": [
    "first_even_levels_groups = first_even_levels.groupby(level=df.index.names, as_index=False)\n",
    "\n",
    "oscillator_fit = first_even_levels_groups.apply(lambda group: fit(group, get_rot_energy)).droplevel(0)"
   ]
  },
  {
   "cell_type": "code",
   "execution_count": 12,
   "metadata": {},
   "outputs": [],
   "source": [
    "merged = first_even_levels.merge(oscillator_fit, how='left', on=['z','a', 'j_float'])\n",
    "\n",
    "rotators = merged.groupby(level=merged.index.names, as_index=True).head(1)[['symbol', 'n', 'energy_quantum', 'r2']]\n",
    "\n",
    "def get_best_r2(df, min_r2):\n",
    "    return df[df['r2'] >= min_r2]\n",
    "\n",
    "def get_worst_r2(df, max_r2):\n",
    "    return df[df['r2'] < max_r2]"
   ]
  },
  {
   "cell_type": "code",
   "execution_count": 13,
   "metadata": {},
   "outputs": [
    {
     "name": "stdout",
     "output_type": "stream",
     "text": [
      "67.6% have R² >= 0.928\n",
      "95.0% have R² >= 0.835\n",
      "99.3% have R² >= 0.623\n",
      "100.0% have R² >= 0.175\n"
     ]
    },
    {
     "data": {
      "application/vnd.plotly.v1+json": {
       "config": {
        "plotlyServerURL": "https://plot.ly"
       },
       "data": [
        {
         "alignmentgroup": "True",
         "bingroup": "x",
         "hovertemplate": "r2=%{x}<br>count=%{y}<extra></extra>",
         "legendgroup": "",
         "marker": {
          "color": "#636efa",
          "pattern": {
           "shape": ""
          }
         },
         "name": "",
         "nbinsx": 100,
         "offsetgroup": "",
         "orientation": "v",
         "showlegend": false,
         "type": "histogram",
         "x": [
          0.9147688452544951,
          0.9548273685506843,
          0.7358478791408414,
          0.7478377152210447,
          0.9545236569396298,
          0.8819679891027467,
          0.9044754661549015,
          0.9056238223900628,
          0.9650030956384299,
          0.9139821213927032,
          0.9835412137049254,
          0.9999143661558342,
          0.9875573299865396,
          0.9717491089705402,
          0.9421295169892621,
          0.8587003524676518,
          0.9137449981055838,
          0.9828276461851123,
          0.9146723533597729,
          0.9753914482563227,
          0.9771049314646529,
          0.9113073437945676,
          0.9456352259600138,
          0.9723601848366793,
          0.9200817983801625,
          0.9635427260647125,
          0.9632787532567324,
          0.9307115000027578,
          0.9854064994960312,
          0.9364090748605418,
          0.8347645806299524,
          0.9727317512593224,
          0.9816579909685597,
          0.9905924802517535,
          0.9972624779429902,
          0.9960710518284847,
          0.9726784913523246,
          0.9761854158750692,
          0.9564374658958542,
          0.9782258437364145,
          0.9795020537272437,
          0.962971199246674,
          0.94383013398351,
          0.9849309692971745,
          0.9828535909628806,
          0.9624945111204829,
          0.8837625602376147,
          0.9718339029796822,
          0.9222769787499558,
          0.9860822300565837,
          0.8083474826714752,
          0.9486735933519881,
          0.950896272497239,
          0.6942794576942892,
          0.990546334006642,
          0.9886170190444853,
          0.9989594532621616,
          0.9772768621931325,
          0.9929350184768945,
          0.9829171394012934,
          0.9658898772752734,
          0.9647382213231745,
          0.9584567174333206,
          0.9948329305112691,
          0.9943779442522057,
          0.9779333734237492,
          0.971222280336483,
          0.9814423554033396,
          0.9926233637425104,
          0.960911369315463,
          0.9947572469947041,
          0.9931520097901707,
          0.9942453977158321,
          0.9872943140507373,
          0.9653414017901973,
          0.9656484720054692,
          0.9449918140200951,
          0.9313096185042422,
          0.9156347222174857,
          0.9860228729929557,
          0.983839903622219,
          0.9867985090671165,
          0.9862407084905817,
          0.9221069269133634,
          0.9687831683156171,
          0.9913263972158379,
          0.9986323495899393,
          0.958606085415185,
          0.9851916156192847,
          0.9464687294099154,
          0.9427947444495421,
          0.9856113383262629,
          0.9124783103647597,
          0.8854165160723748,
          0.9953025703735285,
          0.9726373658365886,
          0.6232286965920448,
          0.9853305223102935,
          0.9307131030591098,
          0.9096192264696956,
          0.9391816801648888,
          0.9240286063831805,
          0.8882285943334339,
          0.8892879264314432,
          0.9257235644221549,
          0.9347709678640634,
          0.9321384089174624,
          0.9291266308711088,
          0.8893018914935652,
          0.9392995530043134,
          0.9237457571610704,
          0.899010669680824,
          0.8860374474008079,
          0.90547992435586,
          0.9141323778950815,
          0.9164210120100053,
          0.8814040444517753,
          0.8810211090603377,
          0.8801602394953589,
          0.9200139455250295,
          0.937929665308081,
          0.8938109665600209,
          0.9098592524422393,
          0.9022022773270685,
          0.8656855319010988,
          0.9550239204233023,
          0.9207782135765223,
          0.931111038922269,
          0.9653700137742,
          0.9661453301807785,
          0.9656939518103067,
          0.953435204584594,
          0.9692403005711017,
          0.9549293695154859,
          0.9788663726191887,
          0.9577713344802911,
          0.9281200306243689,
          0.7059731806066232,
          0.1750037841472647
         ],
         "xaxis": "x",
         "yaxis": "y"
        }
       ],
       "layout": {
        "annotations": [
         {
          "showarrow": false,
          "text": "67.6%",
          "x": 0.9281200306243689,
          "xanchor": "left",
          "xref": "x",
          "y": 1,
          "yanchor": "top",
          "yref": "y domain"
         },
         {
          "showarrow": false,
          "text": "95.0%",
          "x": 0.8347645806299524,
          "xanchor": "left",
          "xref": "x",
          "y": 1,
          "yanchor": "top",
          "yref": "y domain"
         },
         {
          "showarrow": false,
          "text": "99.3%",
          "x": 0.6232286965920448,
          "xanchor": "left",
          "xref": "x",
          "y": 1,
          "yanchor": "top",
          "yref": "y domain"
         },
         {
          "showarrow": false,
          "text": "100.0%",
          "x": 0.1750037841472647,
          "xanchor": "left",
          "xref": "x",
          "y": 1,
          "yanchor": "top",
          "yref": "y domain"
         }
        ],
        "barmode": "relative",
        "legend": {
         "tracegroupgap": 0
        },
        "shapes": [
         {
          "line": {
           "color": "red",
           "dash": "dash"
          },
          "type": "line",
          "x0": 0.9281200306243689,
          "x1": 0.9281200306243689,
          "xref": "x",
          "y0": 0,
          "y1": 1,
          "yref": "y domain"
         },
         {
          "line": {
           "color": "red",
           "dash": "dash"
          },
          "type": "line",
          "x0": 0.8347645806299524,
          "x1": 0.8347645806299524,
          "xref": "x",
          "y0": 0,
          "y1": 1,
          "yref": "y domain"
         },
         {
          "line": {
           "color": "red",
           "dash": "dash"
          },
          "type": "line",
          "x0": 0.6232286965920448,
          "x1": 0.6232286965920448,
          "xref": "x",
          "y0": 0,
          "y1": 1,
          "yref": "y domain"
         },
         {
          "line": {
           "color": "red",
           "dash": "dash"
          },
          "type": "line",
          "x0": 0.1750037841472647,
          "x1": 0.1750037841472647,
          "xref": "x",
          "y0": 0,
          "y1": 1,
          "yref": "y domain"
         }
        ],
        "showlegend": false,
        "template": {
         "data": {
          "bar": [
           {
            "error_x": {
             "color": "#2a3f5f"
            },
            "error_y": {
             "color": "#2a3f5f"
            },
            "marker": {
             "line": {
              "color": "#E5ECF6",
              "width": 0.5
             },
             "pattern": {
              "fillmode": "overlay",
              "size": 10,
              "solidity": 0.2
             }
            },
            "type": "bar"
           }
          ],
          "barpolar": [
           {
            "marker": {
             "line": {
              "color": "#E5ECF6",
              "width": 0.5
             },
             "pattern": {
              "fillmode": "overlay",
              "size": 10,
              "solidity": 0.2
             }
            },
            "type": "barpolar"
           }
          ],
          "carpet": [
           {
            "aaxis": {
             "endlinecolor": "#2a3f5f",
             "gridcolor": "white",
             "linecolor": "white",
             "minorgridcolor": "white",
             "startlinecolor": "#2a3f5f"
            },
            "baxis": {
             "endlinecolor": "#2a3f5f",
             "gridcolor": "white",
             "linecolor": "white",
             "minorgridcolor": "white",
             "startlinecolor": "#2a3f5f"
            },
            "type": "carpet"
           }
          ],
          "choropleth": [
           {
            "colorbar": {
             "outlinewidth": 0,
             "ticks": ""
            },
            "type": "choropleth"
           }
          ],
          "contour": [
           {
            "colorbar": {
             "outlinewidth": 0,
             "ticks": ""
            },
            "colorscale": [
             [
              0,
              "#0d0887"
             ],
             [
              0.1111111111111111,
              "#46039f"
             ],
             [
              0.2222222222222222,
              "#7201a8"
             ],
             [
              0.3333333333333333,
              "#9c179e"
             ],
             [
              0.4444444444444444,
              "#bd3786"
             ],
             [
              0.5555555555555556,
              "#d8576b"
             ],
             [
              0.6666666666666666,
              "#ed7953"
             ],
             [
              0.7777777777777778,
              "#fb9f3a"
             ],
             [
              0.8888888888888888,
              "#fdca26"
             ],
             [
              1,
              "#f0f921"
             ]
            ],
            "type": "contour"
           }
          ],
          "contourcarpet": [
           {
            "colorbar": {
             "outlinewidth": 0,
             "ticks": ""
            },
            "type": "contourcarpet"
           }
          ],
          "heatmap": [
           {
            "colorbar": {
             "outlinewidth": 0,
             "ticks": ""
            },
            "colorscale": [
             [
              0,
              "#0d0887"
             ],
             [
              0.1111111111111111,
              "#46039f"
             ],
             [
              0.2222222222222222,
              "#7201a8"
             ],
             [
              0.3333333333333333,
              "#9c179e"
             ],
             [
              0.4444444444444444,
              "#bd3786"
             ],
             [
              0.5555555555555556,
              "#d8576b"
             ],
             [
              0.6666666666666666,
              "#ed7953"
             ],
             [
              0.7777777777777778,
              "#fb9f3a"
             ],
             [
              0.8888888888888888,
              "#fdca26"
             ],
             [
              1,
              "#f0f921"
             ]
            ],
            "type": "heatmap"
           }
          ],
          "heatmapgl": [
           {
            "colorbar": {
             "outlinewidth": 0,
             "ticks": ""
            },
            "colorscale": [
             [
              0,
              "#0d0887"
             ],
             [
              0.1111111111111111,
              "#46039f"
             ],
             [
              0.2222222222222222,
              "#7201a8"
             ],
             [
              0.3333333333333333,
              "#9c179e"
             ],
             [
              0.4444444444444444,
              "#bd3786"
             ],
             [
              0.5555555555555556,
              "#d8576b"
             ],
             [
              0.6666666666666666,
              "#ed7953"
             ],
             [
              0.7777777777777778,
              "#fb9f3a"
             ],
             [
              0.8888888888888888,
              "#fdca26"
             ],
             [
              1,
              "#f0f921"
             ]
            ],
            "type": "heatmapgl"
           }
          ],
          "histogram": [
           {
            "marker": {
             "pattern": {
              "fillmode": "overlay",
              "size": 10,
              "solidity": 0.2
             }
            },
            "type": "histogram"
           }
          ],
          "histogram2d": [
           {
            "colorbar": {
             "outlinewidth": 0,
             "ticks": ""
            },
            "colorscale": [
             [
              0,
              "#0d0887"
             ],
             [
              0.1111111111111111,
              "#46039f"
             ],
             [
              0.2222222222222222,
              "#7201a8"
             ],
             [
              0.3333333333333333,
              "#9c179e"
             ],
             [
              0.4444444444444444,
              "#bd3786"
             ],
             [
              0.5555555555555556,
              "#d8576b"
             ],
             [
              0.6666666666666666,
              "#ed7953"
             ],
             [
              0.7777777777777778,
              "#fb9f3a"
             ],
             [
              0.8888888888888888,
              "#fdca26"
             ],
             [
              1,
              "#f0f921"
             ]
            ],
            "type": "histogram2d"
           }
          ],
          "histogram2dcontour": [
           {
            "colorbar": {
             "outlinewidth": 0,
             "ticks": ""
            },
            "colorscale": [
             [
              0,
              "#0d0887"
             ],
             [
              0.1111111111111111,
              "#46039f"
             ],
             [
              0.2222222222222222,
              "#7201a8"
             ],
             [
              0.3333333333333333,
              "#9c179e"
             ],
             [
              0.4444444444444444,
              "#bd3786"
             ],
             [
              0.5555555555555556,
              "#d8576b"
             ],
             [
              0.6666666666666666,
              "#ed7953"
             ],
             [
              0.7777777777777778,
              "#fb9f3a"
             ],
             [
              0.8888888888888888,
              "#fdca26"
             ],
             [
              1,
              "#f0f921"
             ]
            ],
            "type": "histogram2dcontour"
           }
          ],
          "mesh3d": [
           {
            "colorbar": {
             "outlinewidth": 0,
             "ticks": ""
            },
            "type": "mesh3d"
           }
          ],
          "parcoords": [
           {
            "line": {
             "colorbar": {
              "outlinewidth": 0,
              "ticks": ""
             }
            },
            "type": "parcoords"
           }
          ],
          "pie": [
           {
            "automargin": true,
            "type": "pie"
           }
          ],
          "scatter": [
           {
            "fillpattern": {
             "fillmode": "overlay",
             "size": 10,
             "solidity": 0.2
            },
            "type": "scatter"
           }
          ],
          "scatter3d": [
           {
            "line": {
             "colorbar": {
              "outlinewidth": 0,
              "ticks": ""
             }
            },
            "marker": {
             "colorbar": {
              "outlinewidth": 0,
              "ticks": ""
             }
            },
            "type": "scatter3d"
           }
          ],
          "scattercarpet": [
           {
            "marker": {
             "colorbar": {
              "outlinewidth": 0,
              "ticks": ""
             }
            },
            "type": "scattercarpet"
           }
          ],
          "scattergeo": [
           {
            "marker": {
             "colorbar": {
              "outlinewidth": 0,
              "ticks": ""
             }
            },
            "type": "scattergeo"
           }
          ],
          "scattergl": [
           {
            "marker": {
             "colorbar": {
              "outlinewidth": 0,
              "ticks": ""
             }
            },
            "type": "scattergl"
           }
          ],
          "scattermapbox": [
           {
            "marker": {
             "colorbar": {
              "outlinewidth": 0,
              "ticks": ""
             }
            },
            "type": "scattermapbox"
           }
          ],
          "scatterpolar": [
           {
            "marker": {
             "colorbar": {
              "outlinewidth": 0,
              "ticks": ""
             }
            },
            "type": "scatterpolar"
           }
          ],
          "scatterpolargl": [
           {
            "marker": {
             "colorbar": {
              "outlinewidth": 0,
              "ticks": ""
             }
            },
            "type": "scatterpolargl"
           }
          ],
          "scatterternary": [
           {
            "marker": {
             "colorbar": {
              "outlinewidth": 0,
              "ticks": ""
             }
            },
            "type": "scatterternary"
           }
          ],
          "surface": [
           {
            "colorbar": {
             "outlinewidth": 0,
             "ticks": ""
            },
            "colorscale": [
             [
              0,
              "#0d0887"
             ],
             [
              0.1111111111111111,
              "#46039f"
             ],
             [
              0.2222222222222222,
              "#7201a8"
             ],
             [
              0.3333333333333333,
              "#9c179e"
             ],
             [
              0.4444444444444444,
              "#bd3786"
             ],
             [
              0.5555555555555556,
              "#d8576b"
             ],
             [
              0.6666666666666666,
              "#ed7953"
             ],
             [
              0.7777777777777778,
              "#fb9f3a"
             ],
             [
              0.8888888888888888,
              "#fdca26"
             ],
             [
              1,
              "#f0f921"
             ]
            ],
            "type": "surface"
           }
          ],
          "table": [
           {
            "cells": {
             "fill": {
              "color": "#EBF0F8"
             },
             "line": {
              "color": "white"
             }
            },
            "header": {
             "fill": {
              "color": "#C8D4E3"
             },
             "line": {
              "color": "white"
             }
            },
            "type": "table"
           }
          ]
         },
         "layout": {
          "annotationdefaults": {
           "arrowcolor": "#2a3f5f",
           "arrowhead": 0,
           "arrowwidth": 1
          },
          "autotypenumbers": "strict",
          "coloraxis": {
           "colorbar": {
            "outlinewidth": 0,
            "ticks": ""
           }
          },
          "colorscale": {
           "diverging": [
            [
             0,
             "#8e0152"
            ],
            [
             0.1,
             "#c51b7d"
            ],
            [
             0.2,
             "#de77ae"
            ],
            [
             0.3,
             "#f1b6da"
            ],
            [
             0.4,
             "#fde0ef"
            ],
            [
             0.5,
             "#f7f7f7"
            ],
            [
             0.6,
             "#e6f5d0"
            ],
            [
             0.7,
             "#b8e186"
            ],
            [
             0.8,
             "#7fbc41"
            ],
            [
             0.9,
             "#4d9221"
            ],
            [
             1,
             "#276419"
            ]
           ],
           "sequential": [
            [
             0,
             "#0d0887"
            ],
            [
             0.1111111111111111,
             "#46039f"
            ],
            [
             0.2222222222222222,
             "#7201a8"
            ],
            [
             0.3333333333333333,
             "#9c179e"
            ],
            [
             0.4444444444444444,
             "#bd3786"
            ],
            [
             0.5555555555555556,
             "#d8576b"
            ],
            [
             0.6666666666666666,
             "#ed7953"
            ],
            [
             0.7777777777777778,
             "#fb9f3a"
            ],
            [
             0.8888888888888888,
             "#fdca26"
            ],
            [
             1,
             "#f0f921"
            ]
           ],
           "sequentialminus": [
            [
             0,
             "#0d0887"
            ],
            [
             0.1111111111111111,
             "#46039f"
            ],
            [
             0.2222222222222222,
             "#7201a8"
            ],
            [
             0.3333333333333333,
             "#9c179e"
            ],
            [
             0.4444444444444444,
             "#bd3786"
            ],
            [
             0.5555555555555556,
             "#d8576b"
            ],
            [
             0.6666666666666666,
             "#ed7953"
            ],
            [
             0.7777777777777778,
             "#fb9f3a"
            ],
            [
             0.8888888888888888,
             "#fdca26"
            ],
            [
             1,
             "#f0f921"
            ]
           ]
          },
          "colorway": [
           "#636efa",
           "#EF553B",
           "#00cc96",
           "#ab63fa",
           "#FFA15A",
           "#19d3f3",
           "#FF6692",
           "#B6E880",
           "#FF97FF",
           "#FECB52"
          ],
          "font": {
           "color": "#2a3f5f"
          },
          "geo": {
           "bgcolor": "white",
           "lakecolor": "white",
           "landcolor": "#E5ECF6",
           "showlakes": true,
           "showland": true,
           "subunitcolor": "white"
          },
          "hoverlabel": {
           "align": "left"
          },
          "hovermode": "closest",
          "mapbox": {
           "style": "light"
          },
          "paper_bgcolor": "white",
          "plot_bgcolor": "#E5ECF6",
          "polar": {
           "angularaxis": {
            "gridcolor": "white",
            "linecolor": "white",
            "ticks": ""
           },
           "bgcolor": "#E5ECF6",
           "radialaxis": {
            "gridcolor": "white",
            "linecolor": "white",
            "ticks": ""
           }
          },
          "scene": {
           "xaxis": {
            "backgroundcolor": "#E5ECF6",
            "gridcolor": "white",
            "gridwidth": 2,
            "linecolor": "white",
            "showbackground": true,
            "ticks": "",
            "zerolinecolor": "white"
           },
           "yaxis": {
            "backgroundcolor": "#E5ECF6",
            "gridcolor": "white",
            "gridwidth": 2,
            "linecolor": "white",
            "showbackground": true,
            "ticks": "",
            "zerolinecolor": "white"
           },
           "zaxis": {
            "backgroundcolor": "#E5ECF6",
            "gridcolor": "white",
            "gridwidth": 2,
            "linecolor": "white",
            "showbackground": true,
            "ticks": "",
            "zerolinecolor": "white"
           }
          },
          "shapedefaults": {
           "line": {
            "color": "#2a3f5f"
           }
          },
          "ternary": {
           "aaxis": {
            "gridcolor": "white",
            "linecolor": "white",
            "ticks": ""
           },
           "baxis": {
            "gridcolor": "white",
            "linecolor": "white",
            "ticks": ""
           },
           "bgcolor": "#E5ECF6",
           "caxis": {
            "gridcolor": "white",
            "linecolor": "white",
            "ticks": ""
           }
          },
          "title": {
           "x": 0.05
          },
          "xaxis": {
           "automargin": true,
           "gridcolor": "white",
           "linecolor": "white",
           "ticks": "",
           "title": {
            "standoff": 15
           },
           "zerolinecolor": "white",
           "zerolinewidth": 2
          },
          "yaxis": {
           "automargin": true,
           "gridcolor": "white",
           "linecolor": "white",
           "ticks": "",
           "title": {
            "standoff": 15
           },
           "zerolinecolor": "white",
           "zerolinewidth": 2
          }
         }
        },
        "title": {
         "text": "Distribution of R² Values For Rotator"
        },
        "width": 800,
        "xaxis": {
         "anchor": "y",
         "domain": [
          0,
          1
         ],
         "title": {
          "text": "Coefficient of Determination (R²)"
         }
        },
        "yaxis": {
         "anchor": "x",
         "domain": [
          0,
          1
         ],
         "title": {
          "text": "Count"
         }
        }
       }
      }
     },
     "metadata": {},
     "output_type": "display_data"
    }
   ],
   "source": [
    "mean = rotators['r2'].mean()\n",
    "\n",
    "percentages = [68, 95, 99.7, 100]\n",
    "\n",
    "count = rotators['r2'].count()\n",
    "stdevs_indices = [int(count * percentage/100) for percentage in percentages]\n",
    "stdevs_r2 = [rotators.sort_values(by='r2', ascending=False).iloc[stdevs_idx-1]['r2'] for stdevs_idx in stdevs_indices]\n",
    "percentages = [stdev_idx / count * 100 for stdev_idx in stdevs_indices]\n",
    "\n",
    "\n",
    "fig = px.histogram(rotators, x='r2', nbins=100, title='Distribution of R² Values For Rotator')\n",
    "fig.update_layout(\n",
    "    xaxis_title='Coefficient of Determination (R²)',\n",
    "    yaxis_title='Count',\n",
    "    width=800,\n",
    "    showlegend=False\n",
    ")\n",
    "# fig.add_vline(x=mean, line_color=\"black\", annotation_text=\"Mean\")\n",
    "\n",
    "\n",
    "for percentage, stdev_r2 in zip(percentages, stdevs_r2):\n",
    "    print(f\"{percentage:.1f}% have R² >= {stdev_r2:.3f}\")\n",
    "    fig.add_vline(x=stdev_r2, line_dash=\"dash\", line_color=\"red\", annotation_text=f\"{percentage:.1f}%\")\n",
    "\n",
    "fig.show()"
   ]
  },
  {
   "cell_type": "code",
   "execution_count": 14,
   "metadata": {},
   "outputs": [
    {
     "data": {
      "text/html": [
       "<div>\n",
       "<style scoped>\n",
       "    .dataframe tbody tr th:only-of-type {\n",
       "        vertical-align: middle;\n",
       "    }\n",
       "\n",
       "    .dataframe tbody tr th {\n",
       "        vertical-align: top;\n",
       "    }\n",
       "\n",
       "    .dataframe thead th {\n",
       "        text-align: right;\n",
       "    }\n",
       "</style>\n",
       "<table border=\"1\" class=\"dataframe\">\n",
       "  <thead>\n",
       "    <tr style=\"text-align: right;\">\n",
       "      <th></th>\n",
       "      <th></th>\n",
       "      <th>symbol</th>\n",
       "      <th>n</th>\n",
       "      <th>energy_quantum</th>\n",
       "      <th>r2</th>\n",
       "    </tr>\n",
       "    <tr>\n",
       "      <th>z</th>\n",
       "      <th>a</th>\n",
       "      <th></th>\n",
       "      <th></th>\n",
       "      <th></th>\n",
       "      <th></th>\n",
       "    </tr>\n",
       "  </thead>\n",
       "  <tbody>\n",
       "    <tr>\n",
       "      <th>82</th>\n",
       "      <th>208</th>\n",
       "      <td>Pb</td>\n",
       "      <td>126</td>\n",
       "      <td>0.579822</td>\n",
       "      <td>0.175004</td>\n",
       "    </tr>\n",
       "    <tr>\n",
       "      <th>62</th>\n",
       "      <th>144</th>\n",
       "      <td>Sm</td>\n",
       "      <td>82</td>\n",
       "      <td>0.464736</td>\n",
       "      <td>0.623229</td>\n",
       "    </tr>\n",
       "    <tr>\n",
       "      <th>42</th>\n",
       "      <th>92</th>\n",
       "      <td>Mo</td>\n",
       "      <td>50</td>\n",
       "      <td>0.415901</td>\n",
       "      <td>0.694279</td>\n",
       "    </tr>\n",
       "    <tr>\n",
       "      <th>82</th>\n",
       "      <th>206</th>\n",
       "      <td>Pb</td>\n",
       "      <td>124</td>\n",
       "      <td>0.445755</td>\n",
       "      <td>0.705973</td>\n",
       "    </tr>\n",
       "    <tr>\n",
       "      <th>8</th>\n",
       "      <th>18</th>\n",
       "      <td>O</td>\n",
       "      <td>10</td>\n",
       "      <td>1.577205</td>\n",
       "      <td>0.735848</td>\n",
       "    </tr>\n",
       "    <tr>\n",
       "      <th>10</th>\n",
       "      <th>20</th>\n",
       "      <td>Ne</td>\n",
       "      <td>10</td>\n",
       "      <td>2.016053</td>\n",
       "      <td>0.747838</td>\n",
       "    </tr>\n",
       "    <tr>\n",
       "      <th>40</th>\n",
       "      <th>90</th>\n",
       "      <td>Zr</td>\n",
       "      <td>50</td>\n",
       "      <td>0.556933</td>\n",
       "      <td>0.808347</td>\n",
       "    </tr>\n",
       "  </tbody>\n",
       "</table>\n",
       "</div>"
      ],
      "text/plain": [
       "       symbol    n  energy_quantum        r2\n",
       "z  a                                        \n",
       "82 208     Pb  126        0.579822  0.175004\n",
       "62 144     Sm   82        0.464736  0.623229\n",
       "42 92      Mo   50        0.415901  0.694279\n",
       "82 206     Pb  124        0.445755  0.705973\n",
       "8  18       O   10        1.577205  0.735848\n",
       "10 20      Ne   10        2.016053  0.747838\n",
       "40 90      Zr   50        0.556933  0.808347"
      ]
     },
     "execution_count": 14,
     "metadata": {},
     "output_type": "execute_result"
    }
   ],
   "source": [
    "get_worst_r2(rotators, stdevs_r2[1]).sort_values(by='r2', axis=0, ascending=True)"
   ]
  },
  {
   "cell_type": "code",
   "execution_count": 15,
   "metadata": {},
   "outputs": [
    {
     "data": {
      "application/vnd.plotly.v1+json": {
       "config": {
        "plotlyServerURL": "https://plot.ly"
       },
       "data": [
        {
         "hovertemplate": "Number of neutrons (N)=%{x}<br>Number of protons (Z)=%{y}<br>R² Score=%{marker.color}<extra></extra>",
         "legendgroup": "",
         "marker": {
          "color": [
           0.7358478791408414,
           0.7478377152210447,
           0.8083474826714752,
           0.6942794576942892,
           0.6232286965920448,
           0.7059731806066232,
           0.1750037841472647
          ],
          "coloraxis": "coloraxis",
          "symbol": "circle"
         },
         "mode": "markers",
         "name": "",
         "orientation": "v",
         "showlegend": false,
         "type": "scatter",
         "x": [
          10,
          10,
          50,
          50,
          82,
          124,
          126
         ],
         "xaxis": "x",
         "y": [
          8,
          10,
          40,
          42,
          62,
          82,
          82
         ],
         "yaxis": "y"
        }
       ],
       "layout": {
        "coloraxis": {
         "colorbar": {
          "title": {
           "text": "R² Score"
          }
         },
         "colorscale": [
          [
           0,
           "#0d0887"
          ],
          [
           0.8,
           "#cc4778"
          ],
          [
           1,
           "#f0f921"
          ]
         ]
        },
        "height": 600,
        "legend": {
         "tracegroupgap": 0
        },
        "shapes": [
         {
          "line": {
           "color": "gray",
           "dash": "dash"
          },
          "name": "Magic numbers",
          "type": "line",
          "x0": 2,
          "x1": 2,
          "xref": "x",
          "y0": 0,
          "y1": 1,
          "yref": "y domain"
         },
         {
          "line": {
           "color": "gray",
           "dash": "dash"
          },
          "type": "line",
          "x0": 8,
          "x1": 8,
          "xref": "x",
          "y0": 0,
          "y1": 1,
          "yref": "y domain"
         },
         {
          "line": {
           "color": "gray",
           "dash": "dash"
          },
          "type": "line",
          "x0": 20,
          "x1": 20,
          "xref": "x",
          "y0": 0,
          "y1": 1,
          "yref": "y domain"
         },
         {
          "line": {
           "color": "gray",
           "dash": "dash"
          },
          "type": "line",
          "x0": 50,
          "x1": 50,
          "xref": "x",
          "y0": 0,
          "y1": 1,
          "yref": "y domain"
         },
         {
          "line": {
           "color": "gray",
           "dash": "dash"
          },
          "type": "line",
          "x0": 82,
          "x1": 82,
          "xref": "x",
          "y0": 0,
          "y1": 1,
          "yref": "y domain"
         },
         {
          "line": {
           "color": "gray",
           "dash": "dash"
          },
          "type": "line",
          "x0": 126,
          "x1": 126,
          "xref": "x",
          "y0": 0,
          "y1": 1,
          "yref": "y domain"
         },
         {
          "line": {
           "color": "gray",
           "dash": "dash"
          },
          "type": "line",
          "x0": 0,
          "x1": 1,
          "xref": "x domain",
          "y0": 2,
          "y1": 2,
          "yref": "y"
         },
         {
          "line": {
           "color": "gray",
           "dash": "dash"
          },
          "type": "line",
          "x0": 0,
          "x1": 1,
          "xref": "x domain",
          "y0": 8,
          "y1": 8,
          "yref": "y"
         },
         {
          "line": {
           "color": "gray",
           "dash": "dash"
          },
          "type": "line",
          "x0": 0,
          "x1": 1,
          "xref": "x domain",
          "y0": 20,
          "y1": 20,
          "yref": "y"
         },
         {
          "line": {
           "color": "gray",
           "dash": "dash"
          },
          "type": "line",
          "x0": 0,
          "x1": 1,
          "xref": "x domain",
          "y0": 50,
          "y1": 50,
          "yref": "y"
         },
         {
          "line": {
           "color": "gray",
           "dash": "dash"
          },
          "type": "line",
          "x0": 0,
          "x1": 1,
          "xref": "x domain",
          "y0": 82,
          "y1": 82,
          "yref": "y"
         }
        ],
        "template": {
         "data": {
          "bar": [
           {
            "error_x": {
             "color": "#2a3f5f"
            },
            "error_y": {
             "color": "#2a3f5f"
            },
            "marker": {
             "line": {
              "color": "#E5ECF6",
              "width": 0.5
             },
             "pattern": {
              "fillmode": "overlay",
              "size": 10,
              "solidity": 0.2
             }
            },
            "type": "bar"
           }
          ],
          "barpolar": [
           {
            "marker": {
             "line": {
              "color": "#E5ECF6",
              "width": 0.5
             },
             "pattern": {
              "fillmode": "overlay",
              "size": 10,
              "solidity": 0.2
             }
            },
            "type": "barpolar"
           }
          ],
          "carpet": [
           {
            "aaxis": {
             "endlinecolor": "#2a3f5f",
             "gridcolor": "white",
             "linecolor": "white",
             "minorgridcolor": "white",
             "startlinecolor": "#2a3f5f"
            },
            "baxis": {
             "endlinecolor": "#2a3f5f",
             "gridcolor": "white",
             "linecolor": "white",
             "minorgridcolor": "white",
             "startlinecolor": "#2a3f5f"
            },
            "type": "carpet"
           }
          ],
          "choropleth": [
           {
            "colorbar": {
             "outlinewidth": 0,
             "ticks": ""
            },
            "type": "choropleth"
           }
          ],
          "contour": [
           {
            "colorbar": {
             "outlinewidth": 0,
             "ticks": ""
            },
            "colorscale": [
             [
              0,
              "#0d0887"
             ],
             [
              0.1111111111111111,
              "#46039f"
             ],
             [
              0.2222222222222222,
              "#7201a8"
             ],
             [
              0.3333333333333333,
              "#9c179e"
             ],
             [
              0.4444444444444444,
              "#bd3786"
             ],
             [
              0.5555555555555556,
              "#d8576b"
             ],
             [
              0.6666666666666666,
              "#ed7953"
             ],
             [
              0.7777777777777778,
              "#fb9f3a"
             ],
             [
              0.8888888888888888,
              "#fdca26"
             ],
             [
              1,
              "#f0f921"
             ]
            ],
            "type": "contour"
           }
          ],
          "contourcarpet": [
           {
            "colorbar": {
             "outlinewidth": 0,
             "ticks": ""
            },
            "type": "contourcarpet"
           }
          ],
          "heatmap": [
           {
            "colorbar": {
             "outlinewidth": 0,
             "ticks": ""
            },
            "colorscale": [
             [
              0,
              "#0d0887"
             ],
             [
              0.1111111111111111,
              "#46039f"
             ],
             [
              0.2222222222222222,
              "#7201a8"
             ],
             [
              0.3333333333333333,
              "#9c179e"
             ],
             [
              0.4444444444444444,
              "#bd3786"
             ],
             [
              0.5555555555555556,
              "#d8576b"
             ],
             [
              0.6666666666666666,
              "#ed7953"
             ],
             [
              0.7777777777777778,
              "#fb9f3a"
             ],
             [
              0.8888888888888888,
              "#fdca26"
             ],
             [
              1,
              "#f0f921"
             ]
            ],
            "type": "heatmap"
           }
          ],
          "heatmapgl": [
           {
            "colorbar": {
             "outlinewidth": 0,
             "ticks": ""
            },
            "colorscale": [
             [
              0,
              "#0d0887"
             ],
             [
              0.1111111111111111,
              "#46039f"
             ],
             [
              0.2222222222222222,
              "#7201a8"
             ],
             [
              0.3333333333333333,
              "#9c179e"
             ],
             [
              0.4444444444444444,
              "#bd3786"
             ],
             [
              0.5555555555555556,
              "#d8576b"
             ],
             [
              0.6666666666666666,
              "#ed7953"
             ],
             [
              0.7777777777777778,
              "#fb9f3a"
             ],
             [
              0.8888888888888888,
              "#fdca26"
             ],
             [
              1,
              "#f0f921"
             ]
            ],
            "type": "heatmapgl"
           }
          ],
          "histogram": [
           {
            "marker": {
             "pattern": {
              "fillmode": "overlay",
              "size": 10,
              "solidity": 0.2
             }
            },
            "type": "histogram"
           }
          ],
          "histogram2d": [
           {
            "colorbar": {
             "outlinewidth": 0,
             "ticks": ""
            },
            "colorscale": [
             [
              0,
              "#0d0887"
             ],
             [
              0.1111111111111111,
              "#46039f"
             ],
             [
              0.2222222222222222,
              "#7201a8"
             ],
             [
              0.3333333333333333,
              "#9c179e"
             ],
             [
              0.4444444444444444,
              "#bd3786"
             ],
             [
              0.5555555555555556,
              "#d8576b"
             ],
             [
              0.6666666666666666,
              "#ed7953"
             ],
             [
              0.7777777777777778,
              "#fb9f3a"
             ],
             [
              0.8888888888888888,
              "#fdca26"
             ],
             [
              1,
              "#f0f921"
             ]
            ],
            "type": "histogram2d"
           }
          ],
          "histogram2dcontour": [
           {
            "colorbar": {
             "outlinewidth": 0,
             "ticks": ""
            },
            "colorscale": [
             [
              0,
              "#0d0887"
             ],
             [
              0.1111111111111111,
              "#46039f"
             ],
             [
              0.2222222222222222,
              "#7201a8"
             ],
             [
              0.3333333333333333,
              "#9c179e"
             ],
             [
              0.4444444444444444,
              "#bd3786"
             ],
             [
              0.5555555555555556,
              "#d8576b"
             ],
             [
              0.6666666666666666,
              "#ed7953"
             ],
             [
              0.7777777777777778,
              "#fb9f3a"
             ],
             [
              0.8888888888888888,
              "#fdca26"
             ],
             [
              1,
              "#f0f921"
             ]
            ],
            "type": "histogram2dcontour"
           }
          ],
          "mesh3d": [
           {
            "colorbar": {
             "outlinewidth": 0,
             "ticks": ""
            },
            "type": "mesh3d"
           }
          ],
          "parcoords": [
           {
            "line": {
             "colorbar": {
              "outlinewidth": 0,
              "ticks": ""
             }
            },
            "type": "parcoords"
           }
          ],
          "pie": [
           {
            "automargin": true,
            "type": "pie"
           }
          ],
          "scatter": [
           {
            "fillpattern": {
             "fillmode": "overlay",
             "size": 10,
             "solidity": 0.2
            },
            "type": "scatter"
           }
          ],
          "scatter3d": [
           {
            "line": {
             "colorbar": {
              "outlinewidth": 0,
              "ticks": ""
             }
            },
            "marker": {
             "colorbar": {
              "outlinewidth": 0,
              "ticks": ""
             }
            },
            "type": "scatter3d"
           }
          ],
          "scattercarpet": [
           {
            "marker": {
             "colorbar": {
              "outlinewidth": 0,
              "ticks": ""
             }
            },
            "type": "scattercarpet"
           }
          ],
          "scattergeo": [
           {
            "marker": {
             "colorbar": {
              "outlinewidth": 0,
              "ticks": ""
             }
            },
            "type": "scattergeo"
           }
          ],
          "scattergl": [
           {
            "marker": {
             "colorbar": {
              "outlinewidth": 0,
              "ticks": ""
             }
            },
            "type": "scattergl"
           }
          ],
          "scattermapbox": [
           {
            "marker": {
             "colorbar": {
              "outlinewidth": 0,
              "ticks": ""
             }
            },
            "type": "scattermapbox"
           }
          ],
          "scatterpolar": [
           {
            "marker": {
             "colorbar": {
              "outlinewidth": 0,
              "ticks": ""
             }
            },
            "type": "scatterpolar"
           }
          ],
          "scatterpolargl": [
           {
            "marker": {
             "colorbar": {
              "outlinewidth": 0,
              "ticks": ""
             }
            },
            "type": "scatterpolargl"
           }
          ],
          "scatterternary": [
           {
            "marker": {
             "colorbar": {
              "outlinewidth": 0,
              "ticks": ""
             }
            },
            "type": "scatterternary"
           }
          ],
          "surface": [
           {
            "colorbar": {
             "outlinewidth": 0,
             "ticks": ""
            },
            "colorscale": [
             [
              0,
              "#0d0887"
             ],
             [
              0.1111111111111111,
              "#46039f"
             ],
             [
              0.2222222222222222,
              "#7201a8"
             ],
             [
              0.3333333333333333,
              "#9c179e"
             ],
             [
              0.4444444444444444,
              "#bd3786"
             ],
             [
              0.5555555555555556,
              "#d8576b"
             ],
             [
              0.6666666666666666,
              "#ed7953"
             ],
             [
              0.7777777777777778,
              "#fb9f3a"
             ],
             [
              0.8888888888888888,
              "#fdca26"
             ],
             [
              1,
              "#f0f921"
             ]
            ],
            "type": "surface"
           }
          ],
          "table": [
           {
            "cells": {
             "fill": {
              "color": "#EBF0F8"
             },
             "line": {
              "color": "white"
             }
            },
            "header": {
             "fill": {
              "color": "#C8D4E3"
             },
             "line": {
              "color": "white"
             }
            },
            "type": "table"
           }
          ]
         },
         "layout": {
          "annotationdefaults": {
           "arrowcolor": "#2a3f5f",
           "arrowhead": 0,
           "arrowwidth": 1
          },
          "autotypenumbers": "strict",
          "coloraxis": {
           "colorbar": {
            "outlinewidth": 0,
            "ticks": ""
           }
          },
          "colorscale": {
           "diverging": [
            [
             0,
             "#8e0152"
            ],
            [
             0.1,
             "#c51b7d"
            ],
            [
             0.2,
             "#de77ae"
            ],
            [
             0.3,
             "#f1b6da"
            ],
            [
             0.4,
             "#fde0ef"
            ],
            [
             0.5,
             "#f7f7f7"
            ],
            [
             0.6,
             "#e6f5d0"
            ],
            [
             0.7,
             "#b8e186"
            ],
            [
             0.8,
             "#7fbc41"
            ],
            [
             0.9,
             "#4d9221"
            ],
            [
             1,
             "#276419"
            ]
           ],
           "sequential": [
            [
             0,
             "#0d0887"
            ],
            [
             0.1111111111111111,
             "#46039f"
            ],
            [
             0.2222222222222222,
             "#7201a8"
            ],
            [
             0.3333333333333333,
             "#9c179e"
            ],
            [
             0.4444444444444444,
             "#bd3786"
            ],
            [
             0.5555555555555556,
             "#d8576b"
            ],
            [
             0.6666666666666666,
             "#ed7953"
            ],
            [
             0.7777777777777778,
             "#fb9f3a"
            ],
            [
             0.8888888888888888,
             "#fdca26"
            ],
            [
             1,
             "#f0f921"
            ]
           ],
           "sequentialminus": [
            [
             0,
             "#0d0887"
            ],
            [
             0.1111111111111111,
             "#46039f"
            ],
            [
             0.2222222222222222,
             "#7201a8"
            ],
            [
             0.3333333333333333,
             "#9c179e"
            ],
            [
             0.4444444444444444,
             "#bd3786"
            ],
            [
             0.5555555555555556,
             "#d8576b"
            ],
            [
             0.6666666666666666,
             "#ed7953"
            ],
            [
             0.7777777777777778,
             "#fb9f3a"
            ],
            [
             0.8888888888888888,
             "#fdca26"
            ],
            [
             1,
             "#f0f921"
            ]
           ]
          },
          "colorway": [
           "#636efa",
           "#EF553B",
           "#00cc96",
           "#ab63fa",
           "#FFA15A",
           "#19d3f3",
           "#FF6692",
           "#B6E880",
           "#FF97FF",
           "#FECB52"
          ],
          "font": {
           "color": "#2a3f5f"
          },
          "geo": {
           "bgcolor": "white",
           "lakecolor": "white",
           "landcolor": "#E5ECF6",
           "showlakes": true,
           "showland": true,
           "subunitcolor": "white"
          },
          "hoverlabel": {
           "align": "left"
          },
          "hovermode": "closest",
          "mapbox": {
           "style": "light"
          },
          "paper_bgcolor": "white",
          "plot_bgcolor": "#E5ECF6",
          "polar": {
           "angularaxis": {
            "gridcolor": "white",
            "linecolor": "white",
            "ticks": ""
           },
           "bgcolor": "#E5ECF6",
           "radialaxis": {
            "gridcolor": "white",
            "linecolor": "white",
            "ticks": ""
           }
          },
          "scene": {
           "xaxis": {
            "backgroundcolor": "#E5ECF6",
            "gridcolor": "white",
            "gridwidth": 2,
            "linecolor": "white",
            "showbackground": true,
            "ticks": "",
            "zerolinecolor": "white"
           },
           "yaxis": {
            "backgroundcolor": "#E5ECF6",
            "gridcolor": "white",
            "gridwidth": 2,
            "linecolor": "white",
            "showbackground": true,
            "ticks": "",
            "zerolinecolor": "white"
           },
           "zaxis": {
            "backgroundcolor": "#E5ECF6",
            "gridcolor": "white",
            "gridwidth": 2,
            "linecolor": "white",
            "showbackground": true,
            "ticks": "",
            "zerolinecolor": "white"
           }
          },
          "shapedefaults": {
           "line": {
            "color": "#2a3f5f"
           }
          },
          "ternary": {
           "aaxis": {
            "gridcolor": "white",
            "linecolor": "white",
            "ticks": ""
           },
           "baxis": {
            "gridcolor": "white",
            "linecolor": "white",
            "ticks": ""
           },
           "bgcolor": "#E5ECF6",
           "caxis": {
            "gridcolor": "white",
            "linecolor": "white",
            "ticks": ""
           }
          },
          "title": {
           "x": 0.05
          },
          "xaxis": {
           "automargin": true,
           "gridcolor": "white",
           "linecolor": "white",
           "ticks": "",
           "title": {
            "standoff": 15
           },
           "zerolinecolor": "white",
           "zerolinewidth": 2
          },
          "yaxis": {
           "automargin": true,
           "gridcolor": "white",
           "linecolor": "white",
           "ticks": "",
           "title": {
            "standoff": 15
           },
           "zerolinecolor": "white",
           "zerolinewidth": 2
          }
         }
        },
        "title": {
         "text": "R² Values for Lowest 5% of Rotator Fits"
        },
        "width": 600,
        "xaxis": {
         "anchor": "y",
         "domain": [
          0,
          1
         ],
         "title": {
          "text": "Number of neutrons (N)"
         }
        },
        "yaxis": {
         "anchor": "x",
         "domain": [
          0,
          1
         ],
         "title": {
          "text": "Number of protons (Z)"
         }
        }
       }
      }
     },
     "metadata": {},
     "output_type": "display_data"
    }
   ],
   "source": [
    "fig = px.scatter(get_worst_r2(rotators, stdevs_r2[1]).reset_index(), \n",
    "          x='n',\n",
    "          y='z', \n",
    "          color='r2',\n",
    "          title='R² Values for Lowest 5% of Rotator Fits',\n",
    "          labels={'z': 'Number of protons (Z)', 'n': 'Number of neutrons (N)', 'r2': 'R² Score'},\n",
    "          color_continuous_scale=[(0,'#0d0887'), (0.8,'#cc4778'), (1,'#f0f921')],\n",
    "          height=600,\n",
    "          width=600)\n",
    "\n",
    "magic_numbers_n = [2, 8, 20, 50, 82, 126]\n",
    "magic_numbers_z = [2, 8, 20, 50, 82]\n",
    "\n",
    "for i, m in enumerate(magic_numbers_n):\n",
    "    fig.add_vline(x=m, line_dash=\"dash\", line_color=\"gray\", name=\"Magic numbers\" if i==0 else None)\n",
    "\n",
    "for i, m in enumerate(magic_numbers_z):\n",
    "    fig.add_hline(y=m, line_dash=\"dash\", line_color=\"gray\")\n",
    "\n",
    "\n",
    "fig.show()"
   ]
  },
  {
   "cell_type": "code",
   "execution_count": 16,
   "metadata": {},
   "outputs": [
    {
     "data": {
      "application/vnd.plotly.v1+json": {
       "config": {
        "plotlyServerURL": "https://plot.ly"
       },
       "data": [
        {
         "hovertemplate": "Number of neutrons (N)=%{x}<br>Number of protons (Z)=%{y}<br>R² Score=%{marker.color}<extra></extra>",
         "legendgroup": "",
         "marker": {
          "color": [
           0.9999143661558342,
           0.9905924802517535,
           0.9972624779429902,
           0.9960710518284847,
           0.990546334006642,
           0.9989594532621616,
           0.9929350184768945,
           0.9948329305112691,
           0.9943779442522057,
           0.9926233637425104,
           0.9947572469947041,
           0.9931520097901707,
           0.9942453977158321,
           0.9913263972158379,
           0.9986323495899393,
           0.9953025703735285
          ],
          "coloraxis": "coloraxis",
          "symbol": "circle"
         },
         "mode": "markers",
         "name": "",
         "orientation": "v",
         "showlegend": false,
         "type": "scatter",
         "x": [
          20,
          38,
          38,
          40,
          52,
          56,
          54,
          58,
          60,
          60,
          64,
          66,
          62,
          76,
          78,
          86
         ],
         "xaxis": "x",
         "y": [
          16,
          30,
          32,
          32,
          42,
          42,
          44,
          46,
          46,
          48,
          48,
          48,
          50,
          54,
          54,
          60
         ],
         "yaxis": "y"
        }
       ],
       "layout": {
        "coloraxis": {
         "colorbar": {
          "title": {
           "text": "R² Score"
          }
         },
         "colorscale": [
          [
           0,
           "#0d0887"
          ],
          [
           0.1111111111111111,
           "#46039f"
          ],
          [
           0.2222222222222222,
           "#7201a8"
          ],
          [
           0.3333333333333333,
           "#9c179e"
          ],
          [
           0.4444444444444444,
           "#bd3786"
          ],
          [
           0.5555555555555556,
           "#d8576b"
          ],
          [
           0.6666666666666666,
           "#ed7953"
          ],
          [
           0.7777777777777778,
           "#fb9f3a"
          ],
          [
           0.8888888888888888,
           "#fdca26"
          ],
          [
           1,
           "#f0f921"
          ]
         ]
        },
        "height": 600,
        "legend": {
         "tracegroupgap": 0
        },
        "shapes": [
         {
          "line": {
           "color": "gray",
           "dash": "dash"
          },
          "name": "Magic numbers",
          "type": "line",
          "x0": 2,
          "x1": 2,
          "xref": "x",
          "y0": 0,
          "y1": 1,
          "yref": "y domain"
         },
         {
          "line": {
           "color": "gray",
           "dash": "dash"
          },
          "type": "line",
          "x0": 8,
          "x1": 8,
          "xref": "x",
          "y0": 0,
          "y1": 1,
          "yref": "y domain"
         },
         {
          "line": {
           "color": "gray",
           "dash": "dash"
          },
          "type": "line",
          "x0": 20,
          "x1": 20,
          "xref": "x",
          "y0": 0,
          "y1": 1,
          "yref": "y domain"
         },
         {
          "line": {
           "color": "gray",
           "dash": "dash"
          },
          "type": "line",
          "x0": 50,
          "x1": 50,
          "xref": "x",
          "y0": 0,
          "y1": 1,
          "yref": "y domain"
         },
         {
          "line": {
           "color": "gray",
           "dash": "dash"
          },
          "type": "line",
          "x0": 82,
          "x1": 82,
          "xref": "x",
          "y0": 0,
          "y1": 1,
          "yref": "y domain"
         },
         {
          "line": {
           "color": "gray",
           "dash": "dash"
          },
          "type": "line",
          "x0": 126,
          "x1": 126,
          "xref": "x",
          "y0": 0,
          "y1": 1,
          "yref": "y domain"
         },
         {
          "line": {
           "color": "gray",
           "dash": "dash"
          },
          "type": "line",
          "x0": 0,
          "x1": 1,
          "xref": "x domain",
          "y0": 2,
          "y1": 2,
          "yref": "y"
         },
         {
          "line": {
           "color": "gray",
           "dash": "dash"
          },
          "type": "line",
          "x0": 0,
          "x1": 1,
          "xref": "x domain",
          "y0": 8,
          "y1": 8,
          "yref": "y"
         },
         {
          "line": {
           "color": "gray",
           "dash": "dash"
          },
          "type": "line",
          "x0": 0,
          "x1": 1,
          "xref": "x domain",
          "y0": 20,
          "y1": 20,
          "yref": "y"
         },
         {
          "line": {
           "color": "gray",
           "dash": "dash"
          },
          "type": "line",
          "x0": 0,
          "x1": 1,
          "xref": "x domain",
          "y0": 50,
          "y1": 50,
          "yref": "y"
         },
         {
          "line": {
           "color": "gray",
           "dash": "dash"
          },
          "type": "line",
          "x0": 0,
          "x1": 1,
          "xref": "x domain",
          "y0": 82,
          "y1": 82,
          "yref": "y"
         }
        ],
        "template": {
         "data": {
          "bar": [
           {
            "error_x": {
             "color": "#2a3f5f"
            },
            "error_y": {
             "color": "#2a3f5f"
            },
            "marker": {
             "line": {
              "color": "#E5ECF6",
              "width": 0.5
             },
             "pattern": {
              "fillmode": "overlay",
              "size": 10,
              "solidity": 0.2
             }
            },
            "type": "bar"
           }
          ],
          "barpolar": [
           {
            "marker": {
             "line": {
              "color": "#E5ECF6",
              "width": 0.5
             },
             "pattern": {
              "fillmode": "overlay",
              "size": 10,
              "solidity": 0.2
             }
            },
            "type": "barpolar"
           }
          ],
          "carpet": [
           {
            "aaxis": {
             "endlinecolor": "#2a3f5f",
             "gridcolor": "white",
             "linecolor": "white",
             "minorgridcolor": "white",
             "startlinecolor": "#2a3f5f"
            },
            "baxis": {
             "endlinecolor": "#2a3f5f",
             "gridcolor": "white",
             "linecolor": "white",
             "minorgridcolor": "white",
             "startlinecolor": "#2a3f5f"
            },
            "type": "carpet"
           }
          ],
          "choropleth": [
           {
            "colorbar": {
             "outlinewidth": 0,
             "ticks": ""
            },
            "type": "choropleth"
           }
          ],
          "contour": [
           {
            "colorbar": {
             "outlinewidth": 0,
             "ticks": ""
            },
            "colorscale": [
             [
              0,
              "#0d0887"
             ],
             [
              0.1111111111111111,
              "#46039f"
             ],
             [
              0.2222222222222222,
              "#7201a8"
             ],
             [
              0.3333333333333333,
              "#9c179e"
             ],
             [
              0.4444444444444444,
              "#bd3786"
             ],
             [
              0.5555555555555556,
              "#d8576b"
             ],
             [
              0.6666666666666666,
              "#ed7953"
             ],
             [
              0.7777777777777778,
              "#fb9f3a"
             ],
             [
              0.8888888888888888,
              "#fdca26"
             ],
             [
              1,
              "#f0f921"
             ]
            ],
            "type": "contour"
           }
          ],
          "contourcarpet": [
           {
            "colorbar": {
             "outlinewidth": 0,
             "ticks": ""
            },
            "type": "contourcarpet"
           }
          ],
          "heatmap": [
           {
            "colorbar": {
             "outlinewidth": 0,
             "ticks": ""
            },
            "colorscale": [
             [
              0,
              "#0d0887"
             ],
             [
              0.1111111111111111,
              "#46039f"
             ],
             [
              0.2222222222222222,
              "#7201a8"
             ],
             [
              0.3333333333333333,
              "#9c179e"
             ],
             [
              0.4444444444444444,
              "#bd3786"
             ],
             [
              0.5555555555555556,
              "#d8576b"
             ],
             [
              0.6666666666666666,
              "#ed7953"
             ],
             [
              0.7777777777777778,
              "#fb9f3a"
             ],
             [
              0.8888888888888888,
              "#fdca26"
             ],
             [
              1,
              "#f0f921"
             ]
            ],
            "type": "heatmap"
           }
          ],
          "heatmapgl": [
           {
            "colorbar": {
             "outlinewidth": 0,
             "ticks": ""
            },
            "colorscale": [
             [
              0,
              "#0d0887"
             ],
             [
              0.1111111111111111,
              "#46039f"
             ],
             [
              0.2222222222222222,
              "#7201a8"
             ],
             [
              0.3333333333333333,
              "#9c179e"
             ],
             [
              0.4444444444444444,
              "#bd3786"
             ],
             [
              0.5555555555555556,
              "#d8576b"
             ],
             [
              0.6666666666666666,
              "#ed7953"
             ],
             [
              0.7777777777777778,
              "#fb9f3a"
             ],
             [
              0.8888888888888888,
              "#fdca26"
             ],
             [
              1,
              "#f0f921"
             ]
            ],
            "type": "heatmapgl"
           }
          ],
          "histogram": [
           {
            "marker": {
             "pattern": {
              "fillmode": "overlay",
              "size": 10,
              "solidity": 0.2
             }
            },
            "type": "histogram"
           }
          ],
          "histogram2d": [
           {
            "colorbar": {
             "outlinewidth": 0,
             "ticks": ""
            },
            "colorscale": [
             [
              0,
              "#0d0887"
             ],
             [
              0.1111111111111111,
              "#46039f"
             ],
             [
              0.2222222222222222,
              "#7201a8"
             ],
             [
              0.3333333333333333,
              "#9c179e"
             ],
             [
              0.4444444444444444,
              "#bd3786"
             ],
             [
              0.5555555555555556,
              "#d8576b"
             ],
             [
              0.6666666666666666,
              "#ed7953"
             ],
             [
              0.7777777777777778,
              "#fb9f3a"
             ],
             [
              0.8888888888888888,
              "#fdca26"
             ],
             [
              1,
              "#f0f921"
             ]
            ],
            "type": "histogram2d"
           }
          ],
          "histogram2dcontour": [
           {
            "colorbar": {
             "outlinewidth": 0,
             "ticks": ""
            },
            "colorscale": [
             [
              0,
              "#0d0887"
             ],
             [
              0.1111111111111111,
              "#46039f"
             ],
             [
              0.2222222222222222,
              "#7201a8"
             ],
             [
              0.3333333333333333,
              "#9c179e"
             ],
             [
              0.4444444444444444,
              "#bd3786"
             ],
             [
              0.5555555555555556,
              "#d8576b"
             ],
             [
              0.6666666666666666,
              "#ed7953"
             ],
             [
              0.7777777777777778,
              "#fb9f3a"
             ],
             [
              0.8888888888888888,
              "#fdca26"
             ],
             [
              1,
              "#f0f921"
             ]
            ],
            "type": "histogram2dcontour"
           }
          ],
          "mesh3d": [
           {
            "colorbar": {
             "outlinewidth": 0,
             "ticks": ""
            },
            "type": "mesh3d"
           }
          ],
          "parcoords": [
           {
            "line": {
             "colorbar": {
              "outlinewidth": 0,
              "ticks": ""
             }
            },
            "type": "parcoords"
           }
          ],
          "pie": [
           {
            "automargin": true,
            "type": "pie"
           }
          ],
          "scatter": [
           {
            "fillpattern": {
             "fillmode": "overlay",
             "size": 10,
             "solidity": 0.2
            },
            "type": "scatter"
           }
          ],
          "scatter3d": [
           {
            "line": {
             "colorbar": {
              "outlinewidth": 0,
              "ticks": ""
             }
            },
            "marker": {
             "colorbar": {
              "outlinewidth": 0,
              "ticks": ""
             }
            },
            "type": "scatter3d"
           }
          ],
          "scattercarpet": [
           {
            "marker": {
             "colorbar": {
              "outlinewidth": 0,
              "ticks": ""
             }
            },
            "type": "scattercarpet"
           }
          ],
          "scattergeo": [
           {
            "marker": {
             "colorbar": {
              "outlinewidth": 0,
              "ticks": ""
             }
            },
            "type": "scattergeo"
           }
          ],
          "scattergl": [
           {
            "marker": {
             "colorbar": {
              "outlinewidth": 0,
              "ticks": ""
             }
            },
            "type": "scattergl"
           }
          ],
          "scattermapbox": [
           {
            "marker": {
             "colorbar": {
              "outlinewidth": 0,
              "ticks": ""
             }
            },
            "type": "scattermapbox"
           }
          ],
          "scatterpolar": [
           {
            "marker": {
             "colorbar": {
              "outlinewidth": 0,
              "ticks": ""
             }
            },
            "type": "scatterpolar"
           }
          ],
          "scatterpolargl": [
           {
            "marker": {
             "colorbar": {
              "outlinewidth": 0,
              "ticks": ""
             }
            },
            "type": "scatterpolargl"
           }
          ],
          "scatterternary": [
           {
            "marker": {
             "colorbar": {
              "outlinewidth": 0,
              "ticks": ""
             }
            },
            "type": "scatterternary"
           }
          ],
          "surface": [
           {
            "colorbar": {
             "outlinewidth": 0,
             "ticks": ""
            },
            "colorscale": [
             [
              0,
              "#0d0887"
             ],
             [
              0.1111111111111111,
              "#46039f"
             ],
             [
              0.2222222222222222,
              "#7201a8"
             ],
             [
              0.3333333333333333,
              "#9c179e"
             ],
             [
              0.4444444444444444,
              "#bd3786"
             ],
             [
              0.5555555555555556,
              "#d8576b"
             ],
             [
              0.6666666666666666,
              "#ed7953"
             ],
             [
              0.7777777777777778,
              "#fb9f3a"
             ],
             [
              0.8888888888888888,
              "#fdca26"
             ],
             [
              1,
              "#f0f921"
             ]
            ],
            "type": "surface"
           }
          ],
          "table": [
           {
            "cells": {
             "fill": {
              "color": "#EBF0F8"
             },
             "line": {
              "color": "white"
             }
            },
            "header": {
             "fill": {
              "color": "#C8D4E3"
             },
             "line": {
              "color": "white"
             }
            },
            "type": "table"
           }
          ]
         },
         "layout": {
          "annotationdefaults": {
           "arrowcolor": "#2a3f5f",
           "arrowhead": 0,
           "arrowwidth": 1
          },
          "autotypenumbers": "strict",
          "coloraxis": {
           "colorbar": {
            "outlinewidth": 0,
            "ticks": ""
           }
          },
          "colorscale": {
           "diverging": [
            [
             0,
             "#8e0152"
            ],
            [
             0.1,
             "#c51b7d"
            ],
            [
             0.2,
             "#de77ae"
            ],
            [
             0.3,
             "#f1b6da"
            ],
            [
             0.4,
             "#fde0ef"
            ],
            [
             0.5,
             "#f7f7f7"
            ],
            [
             0.6,
             "#e6f5d0"
            ],
            [
             0.7,
             "#b8e186"
            ],
            [
             0.8,
             "#7fbc41"
            ],
            [
             0.9,
             "#4d9221"
            ],
            [
             1,
             "#276419"
            ]
           ],
           "sequential": [
            [
             0,
             "#0d0887"
            ],
            [
             0.1111111111111111,
             "#46039f"
            ],
            [
             0.2222222222222222,
             "#7201a8"
            ],
            [
             0.3333333333333333,
             "#9c179e"
            ],
            [
             0.4444444444444444,
             "#bd3786"
            ],
            [
             0.5555555555555556,
             "#d8576b"
            ],
            [
             0.6666666666666666,
             "#ed7953"
            ],
            [
             0.7777777777777778,
             "#fb9f3a"
            ],
            [
             0.8888888888888888,
             "#fdca26"
            ],
            [
             1,
             "#f0f921"
            ]
           ],
           "sequentialminus": [
            [
             0,
             "#0d0887"
            ],
            [
             0.1111111111111111,
             "#46039f"
            ],
            [
             0.2222222222222222,
             "#7201a8"
            ],
            [
             0.3333333333333333,
             "#9c179e"
            ],
            [
             0.4444444444444444,
             "#bd3786"
            ],
            [
             0.5555555555555556,
             "#d8576b"
            ],
            [
             0.6666666666666666,
             "#ed7953"
            ],
            [
             0.7777777777777778,
             "#fb9f3a"
            ],
            [
             0.8888888888888888,
             "#fdca26"
            ],
            [
             1,
             "#f0f921"
            ]
           ]
          },
          "colorway": [
           "#636efa",
           "#EF553B",
           "#00cc96",
           "#ab63fa",
           "#FFA15A",
           "#19d3f3",
           "#FF6692",
           "#B6E880",
           "#FF97FF",
           "#FECB52"
          ],
          "font": {
           "color": "#2a3f5f"
          },
          "geo": {
           "bgcolor": "white",
           "lakecolor": "white",
           "landcolor": "#E5ECF6",
           "showlakes": true,
           "showland": true,
           "subunitcolor": "white"
          },
          "hoverlabel": {
           "align": "left"
          },
          "hovermode": "closest",
          "mapbox": {
           "style": "light"
          },
          "paper_bgcolor": "white",
          "plot_bgcolor": "#E5ECF6",
          "polar": {
           "angularaxis": {
            "gridcolor": "white",
            "linecolor": "white",
            "ticks": ""
           },
           "bgcolor": "#E5ECF6",
           "radialaxis": {
            "gridcolor": "white",
            "linecolor": "white",
            "ticks": ""
           }
          },
          "scene": {
           "xaxis": {
            "backgroundcolor": "#E5ECF6",
            "gridcolor": "white",
            "gridwidth": 2,
            "linecolor": "white",
            "showbackground": true,
            "ticks": "",
            "zerolinecolor": "white"
           },
           "yaxis": {
            "backgroundcolor": "#E5ECF6",
            "gridcolor": "white",
            "gridwidth": 2,
            "linecolor": "white",
            "showbackground": true,
            "ticks": "",
            "zerolinecolor": "white"
           },
           "zaxis": {
            "backgroundcolor": "#E5ECF6",
            "gridcolor": "white",
            "gridwidth": 2,
            "linecolor": "white",
            "showbackground": true,
            "ticks": "",
            "zerolinecolor": "white"
           }
          },
          "shapedefaults": {
           "line": {
            "color": "#2a3f5f"
           }
          },
          "ternary": {
           "aaxis": {
            "gridcolor": "white",
            "linecolor": "white",
            "ticks": ""
           },
           "baxis": {
            "gridcolor": "white",
            "linecolor": "white",
            "ticks": ""
           },
           "bgcolor": "#E5ECF6",
           "caxis": {
            "gridcolor": "white",
            "linecolor": "white",
            "ticks": ""
           }
          },
          "title": {
           "x": 0.05
          },
          "xaxis": {
           "automargin": true,
           "gridcolor": "white",
           "linecolor": "white",
           "ticks": "",
           "title": {
            "standoff": 15
           },
           "zerolinecolor": "white",
           "zerolinewidth": 2
          },
          "yaxis": {
           "automargin": true,
           "gridcolor": "white",
           "linecolor": "white",
           "ticks": "",
           "title": {
            "standoff": 15
           },
           "zerolinecolor": "white",
           "zerolinewidth": 2
          }
         }
        },
        "title": {
         "text": "R² Values for Best Rotator Fits (R² > 0.99)"
        },
        "width": 600,
        "xaxis": {
         "anchor": "y",
         "domain": [
          0,
          1
         ],
         "title": {
          "text": "Number of neutrons (N)"
         }
        },
        "yaxis": {
         "anchor": "x",
         "domain": [
          0,
          1
         ],
         "title": {
          "text": "Number of protons (Z)"
         }
        }
       }
      }
     },
     "metadata": {},
     "output_type": "display_data"
    }
   ],
   "source": [
    "fig = px.scatter(get_best_r2(rotators, 0.99).reset_index(), \n",
    "          x='n',\n",
    "          y='z', \n",
    "          color='r2',\n",
    "          title='R² Values for Best Rotator Fits (R² > 0.99)',\n",
    "          labels={'z': 'Number of protons (Z)', 'n': 'Number of neutrons (N)', 'r2': 'R² Score'},\n",
    "        #   color_continuous_scale=[(0,'#0d0887'), (0.8,'#cc4778'), (1,'#f0f921')],\n",
    "          color_continuous_scale='plasma',\n",
    "          height=600,\n",
    "          width=600)\n",
    "\n",
    "magic_numbers_n = [2, 8, 20, 50, 82, 126]\n",
    "magic_numbers_z = [2, 8, 20, 50, 82]\n",
    "\n",
    "for i, m in enumerate(magic_numbers_n):\n",
    "    fig.add_vline(x=m, line_dash=\"dash\", line_color=\"gray\", name=\"Magic numbers\" if i==0 else None)\n",
    "\n",
    "for i, m in enumerate(magic_numbers_z):\n",
    "    fig.add_hline(y=m, line_dash=\"dash\", line_color=\"gray\")\n",
    "\n",
    "fig.show()"
   ]
  },
  {
   "cell_type": "code",
   "execution_count": 17,
   "metadata": {},
   "outputs": [
    {
     "data": {
      "application/vnd.plotly.v1+json": {
       "config": {
        "plotlyServerURL": "https://plot.ly"
       },
       "data": [
        {
         "hovertemplate": "Atomic Number (Z)=6<br>Weight (A)=%{x}<br>Coefficient of Determination (R²)=%{y}<extra></extra>",
         "legendgroup": "",
         "line": {
          "color": "#636efa",
          "dash": "solid"
         },
         "marker": {
          "symbol": "circle"
         },
         "mode": "lines",
         "name": "",
         "orientation": "v",
         "showlegend": false,
         "type": "scatter",
         "x": [
          12
         ],
         "xaxis": "x",
         "y": [
          0.9147688452544951
         ],
         "yaxis": "y"
        },
        {
         "hovertemplate": "Atomic Number (Z)=8<br>Weight (A)=%{x}<br>Coefficient of Determination (R²)=%{y}<extra></extra>",
         "legendgroup": "",
         "line": {
          "color": "#636efa",
          "dash": "solid"
         },
         "marker": {
          "symbol": "circle"
         },
         "mode": "lines",
         "name": "",
         "orientation": "v",
         "showlegend": false,
         "type": "scatter",
         "x": [
          16,
          18
         ],
         "xaxis": "x",
         "y": [
          0.9548273685506843,
          0.7358478791408414
         ],
         "yaxis": "y"
        },
        {
         "hovertemplate": "Atomic Number (Z)=10<br>Weight (A)=%{x}<br>Coefficient of Determination (R²)=%{y}<extra></extra>",
         "legendgroup": "",
         "line": {
          "color": "#636efa",
          "dash": "solid"
         },
         "marker": {
          "symbol": "circle"
         },
         "mode": "lines",
         "name": "",
         "orientation": "v",
         "showlegend": false,
         "type": "scatter",
         "x": [
          20,
          22
         ],
         "xaxis": "x",
         "y": [
          0.7478377152210447,
          0.9545236569396298
         ],
         "yaxis": "y"
        },
        {
         "hovertemplate": "Atomic Number (Z)=12<br>Weight (A)=%{x}<br>Coefficient of Determination (R²)=%{y}<extra></extra>",
         "legendgroup": "",
         "line": {
          "color": "#636efa",
          "dash": "solid"
         },
         "marker": {
          "symbol": "circle"
         },
         "mode": "lines",
         "name": "",
         "orientation": "v",
         "showlegend": false,
         "type": "scatter",
         "x": [
          24,
          26
         ],
         "xaxis": "x",
         "y": [
          0.8819679891027467,
          0.9044754661549015
         ],
         "yaxis": "y"
        },
        {
         "hovertemplate": "Atomic Number (Z)=14<br>Weight (A)=%{x}<br>Coefficient of Determination (R²)=%{y}<extra></extra>",
         "legendgroup": "",
         "line": {
          "color": "#636efa",
          "dash": "solid"
         },
         "marker": {
          "symbol": "circle"
         },
         "mode": "lines",
         "name": "",
         "orientation": "v",
         "showlegend": false,
         "type": "scatter",
         "x": [
          28,
          30
         ],
         "xaxis": "x",
         "y": [
          0.9056238223900628,
          0.9650030956384299
         ],
         "yaxis": "y"
        },
        {
         "hovertemplate": "Atomic Number (Z)=16<br>Weight (A)=%{x}<br>Coefficient of Determination (R²)=%{y}<extra></extra>",
         "legendgroup": "",
         "line": {
          "color": "#636efa",
          "dash": "solid"
         },
         "marker": {
          "symbol": "circle"
         },
         "mode": "lines",
         "name": "",
         "orientation": "v",
         "showlegend": false,
         "type": "scatter",
         "x": [
          32,
          34,
          36
         ],
         "xaxis": "x",
         "y": [
          0.9139821213927032,
          0.9835412137049254,
          0.9999143661558342
         ],
         "yaxis": "y"
        },
        {
         "hovertemplate": "Atomic Number (Z)=18<br>Weight (A)=%{x}<br>Coefficient of Determination (R²)=%{y}<extra></extra>",
         "legendgroup": "",
         "line": {
          "color": "#636efa",
          "dash": "solid"
         },
         "marker": {
          "symbol": "circle"
         },
         "mode": "lines",
         "name": "",
         "orientation": "v",
         "showlegend": false,
         "type": "scatter",
         "x": [
          36,
          38,
          40
         ],
         "xaxis": "x",
         "y": [
          0.9875573299865396,
          0.9717491089705402,
          0.9421295169892621
         ],
         "yaxis": "y"
        },
        {
         "hovertemplate": "Atomic Number (Z)=20<br>Weight (A)=%{x}<br>Coefficient of Determination (R²)=%{y}<extra></extra>",
         "legendgroup": "",
         "line": {
          "color": "#636efa",
          "dash": "solid"
         },
         "marker": {
          "symbol": "circle"
         },
         "mode": "lines",
         "name": "",
         "orientation": "v",
         "showlegend": false,
         "type": "scatter",
         "x": [
          40,
          42,
          44,
          46
         ],
         "xaxis": "x",
         "y": [
          0.8587003524676518,
          0.9137449981055838,
          0.9828276461851123,
          0.9146723533597729
         ],
         "yaxis": "y"
        },
        {
         "hovertemplate": "Atomic Number (Z)=22<br>Weight (A)=%{x}<br>Coefficient of Determination (R²)=%{y}<extra></extra>",
         "legendgroup": "",
         "line": {
          "color": "#636efa",
          "dash": "solid"
         },
         "marker": {
          "symbol": "circle"
         },
         "mode": "lines",
         "name": "",
         "orientation": "v",
         "showlegend": false,
         "type": "scatter",
         "x": [
          46,
          48,
          50
         ],
         "xaxis": "x",
         "y": [
          0.9753914482563227,
          0.9771049314646529,
          0.9113073437945676
         ],
         "yaxis": "y"
        },
        {
         "hovertemplate": "Atomic Number (Z)=24<br>Weight (A)=%{x}<br>Coefficient of Determination (R²)=%{y}<extra></extra>",
         "legendgroup": "",
         "line": {
          "color": "#636efa",
          "dash": "solid"
         },
         "marker": {
          "symbol": "circle"
         },
         "mode": "lines",
         "name": "",
         "orientation": "v",
         "showlegend": false,
         "type": "scatter",
         "x": [
          52,
          54
         ],
         "xaxis": "x",
         "y": [
          0.9456352259600138,
          0.9723601848366793
         ],
         "yaxis": "y"
        },
        {
         "hovertemplate": "Atomic Number (Z)=26<br>Weight (A)=%{x}<br>Coefficient of Determination (R²)=%{y}<extra></extra>",
         "legendgroup": "",
         "line": {
          "color": "#636efa",
          "dash": "solid"
         },
         "marker": {
          "symbol": "circle"
         },
         "mode": "lines",
         "name": "",
         "orientation": "v",
         "showlegend": false,
         "type": "scatter",
         "x": [
          54,
          56,
          58
         ],
         "xaxis": "x",
         "y": [
          0.9200817983801625,
          0.9635427260647125,
          0.9632787532567324
         ],
         "yaxis": "y"
        },
        {
         "hovertemplate": "Atomic Number (Z)=28<br>Weight (A)=%{x}<br>Coefficient of Determination (R²)=%{y}<extra></extra>",
         "legendgroup": "",
         "line": {
          "color": "#636efa",
          "dash": "solid"
         },
         "marker": {
          "symbol": "circle"
         },
         "mode": "lines",
         "name": "",
         "orientation": "v",
         "showlegend": false,
         "type": "scatter",
         "x": [
          58,
          60,
          62,
          64
         ],
         "xaxis": "x",
         "y": [
          0.9307115000027578,
          0.9854064994960312,
          0.9364090748605418,
          0.8347645806299524
         ],
         "yaxis": "y"
        },
        {
         "hovertemplate": "Atomic Number (Z)=30<br>Weight (A)=%{x}<br>Coefficient of Determination (R²)=%{y}<extra></extra>",
         "legendgroup": "",
         "line": {
          "color": "#636efa",
          "dash": "solid"
         },
         "marker": {
          "symbol": "circle"
         },
         "mode": "lines",
         "name": "",
         "orientation": "v",
         "showlegend": false,
         "type": "scatter",
         "x": [
          64,
          66,
          68
         ],
         "xaxis": "x",
         "y": [
          0.9727317512593224,
          0.9816579909685597,
          0.9905924802517535
         ],
         "yaxis": "y"
        },
        {
         "hovertemplate": "Atomic Number (Z)=32<br>Weight (A)=%{x}<br>Coefficient of Determination (R²)=%{y}<extra></extra>",
         "legendgroup": "",
         "line": {
          "color": "#636efa",
          "dash": "solid"
         },
         "marker": {
          "symbol": "circle"
         },
         "mode": "lines",
         "name": "",
         "orientation": "v",
         "showlegend": false,
         "type": "scatter",
         "x": [
          70,
          72,
          74,
          76
         ],
         "xaxis": "x",
         "y": [
          0.9972624779429902,
          0.9960710518284847,
          0.9726784913523246,
          0.9761854158750692
         ],
         "yaxis": "y"
        },
        {
         "hovertemplate": "Atomic Number (Z)=34<br>Weight (A)=%{x}<br>Coefficient of Determination (R²)=%{y}<extra></extra>",
         "legendgroup": "",
         "line": {
          "color": "#636efa",
          "dash": "solid"
         },
         "marker": {
          "symbol": "circle"
         },
         "mode": "lines",
         "name": "",
         "orientation": "v",
         "showlegend": false,
         "type": "scatter",
         "x": [
          74,
          76,
          78,
          80
         ],
         "xaxis": "x",
         "y": [
          0.9564374658958542,
          0.9782258437364145,
          0.9795020537272437,
          0.962971199246674
         ],
         "yaxis": "y"
        },
        {
         "hovertemplate": "Atomic Number (Z)=36<br>Weight (A)=%{x}<br>Coefficient of Determination (R²)=%{y}<extra></extra>",
         "legendgroup": "",
         "line": {
          "color": "#636efa",
          "dash": "solid"
         },
         "marker": {
          "symbol": "circle"
         },
         "mode": "lines",
         "name": "",
         "orientation": "v",
         "showlegend": false,
         "type": "scatter",
         "x": [
          78,
          80,
          82,
          84,
          86
         ],
         "xaxis": "x",
         "y": [
          0.94383013398351,
          0.9849309692971745,
          0.9828535909628806,
          0.9624945111204829,
          0.8837625602376147
         ],
         "yaxis": "y"
        },
        {
         "hovertemplate": "Atomic Number (Z)=38<br>Weight (A)=%{x}<br>Coefficient of Determination (R²)=%{y}<extra></extra>",
         "legendgroup": "",
         "line": {
          "color": "#636efa",
          "dash": "solid"
         },
         "marker": {
          "symbol": "circle"
         },
         "mode": "lines",
         "name": "",
         "orientation": "v",
         "showlegend": false,
         "type": "scatter",
         "x": [
          84,
          86,
          88
         ],
         "xaxis": "x",
         "y": [
          0.9718339029796822,
          0.9222769787499558,
          0.9860822300565837
         ],
         "yaxis": "y"
        },
        {
         "hovertemplate": "Atomic Number (Z)=40<br>Weight (A)=%{x}<br>Coefficient of Determination (R²)=%{y}<extra></extra>",
         "legendgroup": "",
         "line": {
          "color": "#636efa",
          "dash": "solid"
         },
         "marker": {
          "symbol": "circle"
         },
         "mode": "lines",
         "name": "",
         "orientation": "v",
         "showlegend": false,
         "type": "scatter",
         "x": [
          90,
          92,
          94
         ],
         "xaxis": "x",
         "y": [
          0.8083474826714752,
          0.9486735933519881,
          0.950896272497239
         ],
         "yaxis": "y"
        },
        {
         "hovertemplate": "Atomic Number (Z)=42<br>Weight (A)=%{x}<br>Coefficient of Determination (R²)=%{y}<extra></extra>",
         "legendgroup": "",
         "line": {
          "color": "#636efa",
          "dash": "solid"
         },
         "marker": {
          "symbol": "circle"
         },
         "mode": "lines",
         "name": "",
         "orientation": "v",
         "showlegend": false,
         "type": "scatter",
         "x": [
          92,
          94,
          96,
          98
         ],
         "xaxis": "x",
         "y": [
          0.6942794576942892,
          0.990546334006642,
          0.9886170190444853,
          0.9989594532621616
         ],
         "yaxis": "y"
        },
        {
         "hovertemplate": "Atomic Number (Z)=44<br>Weight (A)=%{x}<br>Coefficient of Determination (R²)=%{y}<extra></extra>",
         "legendgroup": "",
         "line": {
          "color": "#636efa",
          "dash": "solid"
         },
         "marker": {
          "symbol": "circle"
         },
         "mode": "lines",
         "name": "",
         "orientation": "v",
         "showlegend": false,
         "type": "scatter",
         "x": [
          96,
          98,
          100,
          102,
          104
         ],
         "xaxis": "x",
         "y": [
          0.9772768621931325,
          0.9929350184768945,
          0.9829171394012934,
          0.9658898772752734,
          0.9647382213231745
         ],
         "yaxis": "y"
        },
        {
         "hovertemplate": "Atomic Number (Z)=46<br>Weight (A)=%{x}<br>Coefficient of Determination (R²)=%{y}<extra></extra>",
         "legendgroup": "",
         "line": {
          "color": "#636efa",
          "dash": "solid"
         },
         "marker": {
          "symbol": "circle"
         },
         "mode": "lines",
         "name": "",
         "orientation": "v",
         "showlegend": false,
         "type": "scatter",
         "x": [
          102,
          104,
          106,
          108,
          110
         ],
         "xaxis": "x",
         "y": [
          0.9584567174333206,
          0.9948329305112691,
          0.9943779442522057,
          0.9779333734237492,
          0.971222280336483
         ],
         "yaxis": "y"
        },
        {
         "hovertemplate": "Atomic Number (Z)=48<br>Weight (A)=%{x}<br>Coefficient of Determination (R²)=%{y}<extra></extra>",
         "legendgroup": "",
         "line": {
          "color": "#636efa",
          "dash": "solid"
         },
         "marker": {
          "symbol": "circle"
         },
         "mode": "lines",
         "name": "",
         "orientation": "v",
         "showlegend": false,
         "type": "scatter",
         "x": [
          106,
          108,
          110,
          112,
          114
         ],
         "xaxis": "x",
         "y": [
          0.9814423554033396,
          0.9926233637425104,
          0.960911369315463,
          0.9947572469947041,
          0.9931520097901707
         ],
         "yaxis": "y"
        },
        {
         "hovertemplate": "Atomic Number (Z)=50<br>Weight (A)=%{x}<br>Coefficient of Determination (R²)=%{y}<extra></extra>",
         "legendgroup": "",
         "line": {
          "color": "#636efa",
          "dash": "solid"
         },
         "marker": {
          "symbol": "circle"
         },
         "mode": "lines",
         "name": "",
         "orientation": "v",
         "showlegend": false,
         "type": "scatter",
         "x": [
          112,
          114,
          116,
          118,
          120,
          122,
          124
         ],
         "xaxis": "x",
         "y": [
          0.9942453977158321,
          0.9872943140507373,
          0.9653414017901973,
          0.9656484720054692,
          0.9449918140200951,
          0.9313096185042422,
          0.9156347222174857
         ],
         "yaxis": "y"
        },
        {
         "hovertemplate": "Atomic Number (Z)=52<br>Weight (A)=%{x}<br>Coefficient of Determination (R²)=%{y}<extra></extra>",
         "legendgroup": "",
         "line": {
          "color": "#636efa",
          "dash": "solid"
         },
         "marker": {
          "symbol": "circle"
         },
         "mode": "lines",
         "name": "",
         "orientation": "v",
         "showlegend": false,
         "type": "scatter",
         "x": [
          120,
          122,
          124,
          126
         ],
         "xaxis": "x",
         "y": [
          0.9860228729929557,
          0.983839903622219,
          0.9867985090671165,
          0.9862407084905817
         ],
         "yaxis": "y"
        },
        {
         "hovertemplate": "Atomic Number (Z)=54<br>Weight (A)=%{x}<br>Coefficient of Determination (R²)=%{y}<extra></extra>",
         "legendgroup": "",
         "line": {
          "color": "#636efa",
          "dash": "solid"
         },
         "marker": {
          "symbol": "circle"
         },
         "mode": "lines",
         "name": "",
         "orientation": "v",
         "showlegend": false,
         "type": "scatter",
         "x": [
          126,
          128,
          130,
          132
         ],
         "xaxis": "x",
         "y": [
          0.9221069269133634,
          0.9687831683156171,
          0.9913263972158379,
          0.9986323495899393
         ],
         "yaxis": "y"
        },
        {
         "hovertemplate": "Atomic Number (Z)=56<br>Weight (A)=%{x}<br>Coefficient of Determination (R²)=%{y}<extra></extra>",
         "legendgroup": "",
         "line": {
          "color": "#636efa",
          "dash": "solid"
         },
         "marker": {
          "symbol": "circle"
         },
         "mode": "lines",
         "name": "",
         "orientation": "v",
         "showlegend": false,
         "type": "scatter",
         "x": [
          130,
          134,
          136,
          138
         ],
         "xaxis": "x",
         "y": [
          0.958606085415185,
          0.9851916156192847,
          0.9464687294099154,
          0.9427947444495421
         ],
         "yaxis": "y"
        },
        {
         "hovertemplate": "Atomic Number (Z)=58<br>Weight (A)=%{x}<br>Coefficient of Determination (R²)=%{y}<extra></extra>",
         "legendgroup": "",
         "line": {
          "color": "#636efa",
          "dash": "solid"
         },
         "marker": {
          "symbol": "circle"
         },
         "mode": "lines",
         "name": "",
         "orientation": "v",
         "showlegend": false,
         "type": "scatter",
         "x": [
          136,
          140
         ],
         "xaxis": "x",
         "y": [
          0.9856113383262629,
          0.9124783103647597
         ],
         "yaxis": "y"
        },
        {
         "hovertemplate": "Atomic Number (Z)=60<br>Weight (A)=%{x}<br>Coefficient of Determination (R²)=%{y}<extra></extra>",
         "legendgroup": "",
         "line": {
          "color": "#636efa",
          "dash": "solid"
         },
         "marker": {
          "symbol": "circle"
         },
         "mode": "lines",
         "name": "",
         "orientation": "v",
         "showlegend": false,
         "type": "scatter",
         "x": [
          142,
          146,
          148
         ],
         "xaxis": "x",
         "y": [
          0.8854165160723748,
          0.9953025703735285,
          0.9726373658365886
         ],
         "yaxis": "y"
        },
        {
         "hovertemplate": "Atomic Number (Z)=62<br>Weight (A)=%{x}<br>Coefficient of Determination (R²)=%{y}<extra></extra>",
         "legendgroup": "",
         "line": {
          "color": "#636efa",
          "dash": "solid"
         },
         "marker": {
          "symbol": "circle"
         },
         "mode": "lines",
         "name": "",
         "orientation": "v",
         "showlegend": false,
         "type": "scatter",
         "x": [
          144,
          150,
          152,
          154
         ],
         "xaxis": "x",
         "y": [
          0.6232286965920448,
          0.9853305223102935,
          0.9307131030591098,
          0.9096192264696956
         ],
         "yaxis": "y"
        },
        {
         "hovertemplate": "Atomic Number (Z)=64<br>Weight (A)=%{x}<br>Coefficient of Determination (R²)=%{y}<extra></extra>",
         "legendgroup": "",
         "line": {
          "color": "#636efa",
          "dash": "solid"
         },
         "marker": {
          "symbol": "circle"
         },
         "mode": "lines",
         "name": "",
         "orientation": "v",
         "showlegend": false,
         "type": "scatter",
         "x": [
          154,
          156,
          158,
          160
         ],
         "xaxis": "x",
         "y": [
          0.9391816801648888,
          0.9240286063831805,
          0.8882285943334339,
          0.8892879264314432
         ],
         "yaxis": "y"
        },
        {
         "hovertemplate": "Atomic Number (Z)=66<br>Weight (A)=%{x}<br>Coefficient of Determination (R²)=%{y}<extra></extra>",
         "legendgroup": "",
         "line": {
          "color": "#636efa",
          "dash": "solid"
         },
         "marker": {
          "symbol": "circle"
         },
         "mode": "lines",
         "name": "",
         "orientation": "v",
         "showlegend": false,
         "type": "scatter",
         "x": [
          156,
          158,
          160,
          162,
          164
         ],
         "xaxis": "x",
         "y": [
          0.9257235644221549,
          0.9347709678640634,
          0.9321384089174624,
          0.9291266308711088,
          0.8893018914935652
         ],
         "yaxis": "y"
        },
        {
         "hovertemplate": "Atomic Number (Z)=68<br>Weight (A)=%{x}<br>Coefficient of Determination (R²)=%{y}<extra></extra>",
         "legendgroup": "",
         "line": {
          "color": "#636efa",
          "dash": "solid"
         },
         "marker": {
          "symbol": "circle"
         },
         "mode": "lines",
         "name": "",
         "orientation": "v",
         "showlegend": false,
         "type": "scatter",
         "x": [
          162,
          164,
          166,
          168,
          170
         ],
         "xaxis": "x",
         "y": [
          0.9392995530043134,
          0.9237457571610704,
          0.899010669680824,
          0.8860374474008079,
          0.90547992435586
         ],
         "yaxis": "y"
        },
        {
         "hovertemplate": "Atomic Number (Z)=70<br>Weight (A)=%{x}<br>Coefficient of Determination (R²)=%{y}<extra></extra>",
         "legendgroup": "",
         "line": {
          "color": "#636efa",
          "dash": "solid"
         },
         "marker": {
          "symbol": "circle"
         },
         "mode": "lines",
         "name": "",
         "orientation": "v",
         "showlegend": false,
         "type": "scatter",
         "x": [
          168,
          170,
          172,
          174,
          176
         ],
         "xaxis": "x",
         "y": [
          0.9141323778950815,
          0.9164210120100053,
          0.8814040444517753,
          0.8810211090603377,
          0.8801602394953589
         ],
         "yaxis": "y"
        },
        {
         "hovertemplate": "Atomic Number (Z)=72<br>Weight (A)=%{x}<br>Coefficient of Determination (R²)=%{y}<extra></extra>",
         "legendgroup": "",
         "line": {
          "color": "#636efa",
          "dash": "solid"
         },
         "marker": {
          "symbol": "circle"
         },
         "mode": "lines",
         "name": "",
         "orientation": "v",
         "showlegend": false,
         "type": "scatter",
         "x": [
          176,
          178,
          180
         ],
         "xaxis": "x",
         "y": [
          0.9200139455250295,
          0.937929665308081,
          0.8938109665600209
         ],
         "yaxis": "y"
        },
        {
         "hovertemplate": "Atomic Number (Z)=74<br>Weight (A)=%{x}<br>Coefficient of Determination (R²)=%{y}<extra></extra>",
         "legendgroup": "",
         "line": {
          "color": "#636efa",
          "dash": "solid"
         },
         "marker": {
          "symbol": "circle"
         },
         "mode": "lines",
         "name": "",
         "orientation": "v",
         "showlegend": false,
         "type": "scatter",
         "x": [
          182,
          184,
          186
         ],
         "xaxis": "x",
         "y": [
          0.9098592524422393,
          0.9022022773270685,
          0.8656855319010988
         ],
         "yaxis": "y"
        },
        {
         "hovertemplate": "Atomic Number (Z)=76<br>Weight (A)=%{x}<br>Coefficient of Determination (R²)=%{y}<extra></extra>",
         "legendgroup": "",
         "line": {
          "color": "#636efa",
          "dash": "solid"
         },
         "marker": {
          "symbol": "circle"
         },
         "mode": "lines",
         "name": "",
         "orientation": "v",
         "showlegend": false,
         "type": "scatter",
         "x": [
          188,
          190,
          192
         ],
         "xaxis": "x",
         "y": [
          0.9550239204233023,
          0.9207782135765223,
          0.931111038922269
         ],
         "yaxis": "y"
        },
        {
         "hovertemplate": "Atomic Number (Z)=78<br>Weight (A)=%{x}<br>Coefficient of Determination (R²)=%{y}<extra></extra>",
         "legendgroup": "",
         "line": {
          "color": "#636efa",
          "dash": "solid"
         },
         "marker": {
          "symbol": "circle"
         },
         "mode": "lines",
         "name": "",
         "orientation": "v",
         "showlegend": false,
         "type": "scatter",
         "x": [
          192,
          194,
          196,
          198
         ],
         "xaxis": "x",
         "y": [
          0.9653700137742,
          0.9661453301807785,
          0.9656939518103067,
          0.953435204584594
         ],
         "yaxis": "y"
        },
        {
         "hovertemplate": "Atomic Number (Z)=80<br>Weight (A)=%{x}<br>Coefficient of Determination (R²)=%{y}<extra></extra>",
         "legendgroup": "",
         "line": {
          "color": "#636efa",
          "dash": "solid"
         },
         "marker": {
          "symbol": "circle"
         },
         "mode": "lines",
         "name": "",
         "orientation": "v",
         "showlegend": false,
         "type": "scatter",
         "x": [
          196,
          198,
          200,
          202,
          204
         ],
         "xaxis": "x",
         "y": [
          0.9692403005711017,
          0.9549293695154859,
          0.9788663726191887,
          0.9577713344802911,
          0.9281200306243689
         ],
         "yaxis": "y"
        },
        {
         "hovertemplate": "Atomic Number (Z)=82<br>Weight (A)=%{x}<br>Coefficient of Determination (R²)=%{y}<extra></extra>",
         "legendgroup": "",
         "line": {
          "color": "#636efa",
          "dash": "solid"
         },
         "marker": {
          "symbol": "circle"
         },
         "mode": "lines",
         "name": "",
         "orientation": "v",
         "showlegend": false,
         "type": "scatter",
         "x": [
          206
         ],
         "xaxis": "x",
         "y": [
          0.7059731806066232
         ],
         "yaxis": "y"
        }
       ],
       "layout": {
        "legend": {
         "tracegroupgap": 0
        },
        "template": {
         "data": {
          "bar": [
           {
            "error_x": {
             "color": "#2a3f5f"
            },
            "error_y": {
             "color": "#2a3f5f"
            },
            "marker": {
             "line": {
              "color": "#E5ECF6",
              "width": 0.5
             },
             "pattern": {
              "fillmode": "overlay",
              "size": 10,
              "solidity": 0.2
             }
            },
            "type": "bar"
           }
          ],
          "barpolar": [
           {
            "marker": {
             "line": {
              "color": "#E5ECF6",
              "width": 0.5
             },
             "pattern": {
              "fillmode": "overlay",
              "size": 10,
              "solidity": 0.2
             }
            },
            "type": "barpolar"
           }
          ],
          "carpet": [
           {
            "aaxis": {
             "endlinecolor": "#2a3f5f",
             "gridcolor": "white",
             "linecolor": "white",
             "minorgridcolor": "white",
             "startlinecolor": "#2a3f5f"
            },
            "baxis": {
             "endlinecolor": "#2a3f5f",
             "gridcolor": "white",
             "linecolor": "white",
             "minorgridcolor": "white",
             "startlinecolor": "#2a3f5f"
            },
            "type": "carpet"
           }
          ],
          "choropleth": [
           {
            "colorbar": {
             "outlinewidth": 0,
             "ticks": ""
            },
            "type": "choropleth"
           }
          ],
          "contour": [
           {
            "colorbar": {
             "outlinewidth": 0,
             "ticks": ""
            },
            "colorscale": [
             [
              0,
              "#0d0887"
             ],
             [
              0.1111111111111111,
              "#46039f"
             ],
             [
              0.2222222222222222,
              "#7201a8"
             ],
             [
              0.3333333333333333,
              "#9c179e"
             ],
             [
              0.4444444444444444,
              "#bd3786"
             ],
             [
              0.5555555555555556,
              "#d8576b"
             ],
             [
              0.6666666666666666,
              "#ed7953"
             ],
             [
              0.7777777777777778,
              "#fb9f3a"
             ],
             [
              0.8888888888888888,
              "#fdca26"
             ],
             [
              1,
              "#f0f921"
             ]
            ],
            "type": "contour"
           }
          ],
          "contourcarpet": [
           {
            "colorbar": {
             "outlinewidth": 0,
             "ticks": ""
            },
            "type": "contourcarpet"
           }
          ],
          "heatmap": [
           {
            "colorbar": {
             "outlinewidth": 0,
             "ticks": ""
            },
            "colorscale": [
             [
              0,
              "#0d0887"
             ],
             [
              0.1111111111111111,
              "#46039f"
             ],
             [
              0.2222222222222222,
              "#7201a8"
             ],
             [
              0.3333333333333333,
              "#9c179e"
             ],
             [
              0.4444444444444444,
              "#bd3786"
             ],
             [
              0.5555555555555556,
              "#d8576b"
             ],
             [
              0.6666666666666666,
              "#ed7953"
             ],
             [
              0.7777777777777778,
              "#fb9f3a"
             ],
             [
              0.8888888888888888,
              "#fdca26"
             ],
             [
              1,
              "#f0f921"
             ]
            ],
            "type": "heatmap"
           }
          ],
          "heatmapgl": [
           {
            "colorbar": {
             "outlinewidth": 0,
             "ticks": ""
            },
            "colorscale": [
             [
              0,
              "#0d0887"
             ],
             [
              0.1111111111111111,
              "#46039f"
             ],
             [
              0.2222222222222222,
              "#7201a8"
             ],
             [
              0.3333333333333333,
              "#9c179e"
             ],
             [
              0.4444444444444444,
              "#bd3786"
             ],
             [
              0.5555555555555556,
              "#d8576b"
             ],
             [
              0.6666666666666666,
              "#ed7953"
             ],
             [
              0.7777777777777778,
              "#fb9f3a"
             ],
             [
              0.8888888888888888,
              "#fdca26"
             ],
             [
              1,
              "#f0f921"
             ]
            ],
            "type": "heatmapgl"
           }
          ],
          "histogram": [
           {
            "marker": {
             "pattern": {
              "fillmode": "overlay",
              "size": 10,
              "solidity": 0.2
             }
            },
            "type": "histogram"
           }
          ],
          "histogram2d": [
           {
            "colorbar": {
             "outlinewidth": 0,
             "ticks": ""
            },
            "colorscale": [
             [
              0,
              "#0d0887"
             ],
             [
              0.1111111111111111,
              "#46039f"
             ],
             [
              0.2222222222222222,
              "#7201a8"
             ],
             [
              0.3333333333333333,
              "#9c179e"
             ],
             [
              0.4444444444444444,
              "#bd3786"
             ],
             [
              0.5555555555555556,
              "#d8576b"
             ],
             [
              0.6666666666666666,
              "#ed7953"
             ],
             [
              0.7777777777777778,
              "#fb9f3a"
             ],
             [
              0.8888888888888888,
              "#fdca26"
             ],
             [
              1,
              "#f0f921"
             ]
            ],
            "type": "histogram2d"
           }
          ],
          "histogram2dcontour": [
           {
            "colorbar": {
             "outlinewidth": 0,
             "ticks": ""
            },
            "colorscale": [
             [
              0,
              "#0d0887"
             ],
             [
              0.1111111111111111,
              "#46039f"
             ],
             [
              0.2222222222222222,
              "#7201a8"
             ],
             [
              0.3333333333333333,
              "#9c179e"
             ],
             [
              0.4444444444444444,
              "#bd3786"
             ],
             [
              0.5555555555555556,
              "#d8576b"
             ],
             [
              0.6666666666666666,
              "#ed7953"
             ],
             [
              0.7777777777777778,
              "#fb9f3a"
             ],
             [
              0.8888888888888888,
              "#fdca26"
             ],
             [
              1,
              "#f0f921"
             ]
            ],
            "type": "histogram2dcontour"
           }
          ],
          "mesh3d": [
           {
            "colorbar": {
             "outlinewidth": 0,
             "ticks": ""
            },
            "type": "mesh3d"
           }
          ],
          "parcoords": [
           {
            "line": {
             "colorbar": {
              "outlinewidth": 0,
              "ticks": ""
             }
            },
            "type": "parcoords"
           }
          ],
          "pie": [
           {
            "automargin": true,
            "type": "pie"
           }
          ],
          "scatter": [
           {
            "fillpattern": {
             "fillmode": "overlay",
             "size": 10,
             "solidity": 0.2
            },
            "type": "scatter"
           }
          ],
          "scatter3d": [
           {
            "line": {
             "colorbar": {
              "outlinewidth": 0,
              "ticks": ""
             }
            },
            "marker": {
             "colorbar": {
              "outlinewidth": 0,
              "ticks": ""
             }
            },
            "type": "scatter3d"
           }
          ],
          "scattercarpet": [
           {
            "marker": {
             "colorbar": {
              "outlinewidth": 0,
              "ticks": ""
             }
            },
            "type": "scattercarpet"
           }
          ],
          "scattergeo": [
           {
            "marker": {
             "colorbar": {
              "outlinewidth": 0,
              "ticks": ""
             }
            },
            "type": "scattergeo"
           }
          ],
          "scattergl": [
           {
            "marker": {
             "colorbar": {
              "outlinewidth": 0,
              "ticks": ""
             }
            },
            "type": "scattergl"
           }
          ],
          "scattermapbox": [
           {
            "marker": {
             "colorbar": {
              "outlinewidth": 0,
              "ticks": ""
             }
            },
            "type": "scattermapbox"
           }
          ],
          "scatterpolar": [
           {
            "marker": {
             "colorbar": {
              "outlinewidth": 0,
              "ticks": ""
             }
            },
            "type": "scatterpolar"
           }
          ],
          "scatterpolargl": [
           {
            "marker": {
             "colorbar": {
              "outlinewidth": 0,
              "ticks": ""
             }
            },
            "type": "scatterpolargl"
           }
          ],
          "scatterternary": [
           {
            "marker": {
             "colorbar": {
              "outlinewidth": 0,
              "ticks": ""
             }
            },
            "type": "scatterternary"
           }
          ],
          "surface": [
           {
            "colorbar": {
             "outlinewidth": 0,
             "ticks": ""
            },
            "colorscale": [
             [
              0,
              "#0d0887"
             ],
             [
              0.1111111111111111,
              "#46039f"
             ],
             [
              0.2222222222222222,
              "#7201a8"
             ],
             [
              0.3333333333333333,
              "#9c179e"
             ],
             [
              0.4444444444444444,
              "#bd3786"
             ],
             [
              0.5555555555555556,
              "#d8576b"
             ],
             [
              0.6666666666666666,
              "#ed7953"
             ],
             [
              0.7777777777777778,
              "#fb9f3a"
             ],
             [
              0.8888888888888888,
              "#fdca26"
             ],
             [
              1,
              "#f0f921"
             ]
            ],
            "type": "surface"
           }
          ],
          "table": [
           {
            "cells": {
             "fill": {
              "color": "#EBF0F8"
             },
             "line": {
              "color": "white"
             }
            },
            "header": {
             "fill": {
              "color": "#C8D4E3"
             },
             "line": {
              "color": "white"
             }
            },
            "type": "table"
           }
          ]
         },
         "layout": {
          "annotationdefaults": {
           "arrowcolor": "#2a3f5f",
           "arrowhead": 0,
           "arrowwidth": 1
          },
          "autotypenumbers": "strict",
          "coloraxis": {
           "colorbar": {
            "outlinewidth": 0,
            "ticks": ""
           }
          },
          "colorscale": {
           "diverging": [
            [
             0,
             "#8e0152"
            ],
            [
             0.1,
             "#c51b7d"
            ],
            [
             0.2,
             "#de77ae"
            ],
            [
             0.3,
             "#f1b6da"
            ],
            [
             0.4,
             "#fde0ef"
            ],
            [
             0.5,
             "#f7f7f7"
            ],
            [
             0.6,
             "#e6f5d0"
            ],
            [
             0.7,
             "#b8e186"
            ],
            [
             0.8,
             "#7fbc41"
            ],
            [
             0.9,
             "#4d9221"
            ],
            [
             1,
             "#276419"
            ]
           ],
           "sequential": [
            [
             0,
             "#0d0887"
            ],
            [
             0.1111111111111111,
             "#46039f"
            ],
            [
             0.2222222222222222,
             "#7201a8"
            ],
            [
             0.3333333333333333,
             "#9c179e"
            ],
            [
             0.4444444444444444,
             "#bd3786"
            ],
            [
             0.5555555555555556,
             "#d8576b"
            ],
            [
             0.6666666666666666,
             "#ed7953"
            ],
            [
             0.7777777777777778,
             "#fb9f3a"
            ],
            [
             0.8888888888888888,
             "#fdca26"
            ],
            [
             1,
             "#f0f921"
            ]
           ],
           "sequentialminus": [
            [
             0,
             "#0d0887"
            ],
            [
             0.1111111111111111,
             "#46039f"
            ],
            [
             0.2222222222222222,
             "#7201a8"
            ],
            [
             0.3333333333333333,
             "#9c179e"
            ],
            [
             0.4444444444444444,
             "#bd3786"
            ],
            [
             0.5555555555555556,
             "#d8576b"
            ],
            [
             0.6666666666666666,
             "#ed7953"
            ],
            [
             0.7777777777777778,
             "#fb9f3a"
            ],
            [
             0.8888888888888888,
             "#fdca26"
            ],
            [
             1,
             "#f0f921"
            ]
           ]
          },
          "colorway": [
           "#636efa",
           "#EF553B",
           "#00cc96",
           "#ab63fa",
           "#FFA15A",
           "#19d3f3",
           "#FF6692",
           "#B6E880",
           "#FF97FF",
           "#FECB52"
          ],
          "font": {
           "color": "#2a3f5f"
          },
          "geo": {
           "bgcolor": "white",
           "lakecolor": "white",
           "landcolor": "#E5ECF6",
           "showlakes": true,
           "showland": true,
           "subunitcolor": "white"
          },
          "hoverlabel": {
           "align": "left"
          },
          "hovermode": "closest",
          "mapbox": {
           "style": "light"
          },
          "paper_bgcolor": "white",
          "plot_bgcolor": "#E5ECF6",
          "polar": {
           "angularaxis": {
            "gridcolor": "white",
            "linecolor": "white",
            "ticks": ""
           },
           "bgcolor": "#E5ECF6",
           "radialaxis": {
            "gridcolor": "white",
            "linecolor": "white",
            "ticks": ""
           }
          },
          "scene": {
           "xaxis": {
            "backgroundcolor": "#E5ECF6",
            "gridcolor": "white",
            "gridwidth": 2,
            "linecolor": "white",
            "showbackground": true,
            "ticks": "",
            "zerolinecolor": "white"
           },
           "yaxis": {
            "backgroundcolor": "#E5ECF6",
            "gridcolor": "white",
            "gridwidth": 2,
            "linecolor": "white",
            "showbackground": true,
            "ticks": "",
            "zerolinecolor": "white"
           },
           "zaxis": {
            "backgroundcolor": "#E5ECF6",
            "gridcolor": "white",
            "gridwidth": 2,
            "linecolor": "white",
            "showbackground": true,
            "ticks": "",
            "zerolinecolor": "white"
           }
          },
          "shapedefaults": {
           "line": {
            "color": "#2a3f5f"
           }
          },
          "ternary": {
           "aaxis": {
            "gridcolor": "white",
            "linecolor": "white",
            "ticks": ""
           },
           "baxis": {
            "gridcolor": "white",
            "linecolor": "white",
            "ticks": ""
           },
           "bgcolor": "#E5ECF6",
           "caxis": {
            "gridcolor": "white",
            "linecolor": "white",
            "ticks": ""
           }
          },
          "title": {
           "x": 0.05
          },
          "xaxis": {
           "automargin": true,
           "gridcolor": "white",
           "linecolor": "white",
           "ticks": "",
           "title": {
            "standoff": 15
           },
           "zerolinecolor": "white",
           "zerolinewidth": 2
          },
          "yaxis": {
           "automargin": true,
           "gridcolor": "white",
           "linecolor": "white",
           "ticks": "",
           "title": {
            "standoff": 15
           },
           "zerolinecolor": "white",
           "zerolinewidth": 2
          }
         }
        },
        "title": {
         "text": "R² Scores vs Weight for Rotators, Grouped by Isotopes"
        },
        "xaxis": {
         "anchor": "y",
         "domain": [
          0,
          1
         ],
         "title": {
          "text": "Weight (A)"
         }
        },
        "yaxis": {
         "anchor": "x",
         "domain": [
          0,
          1
         ],
         "title": {
          "text": "Coefficient of Determination (R²)"
         }
        }
       }
      }
     },
     "metadata": {},
     "output_type": "display_data"
    },
    {
     "data": {
      "application/vnd.plotly.v1+json": {
       "config": {
        "plotlyServerURL": "https://plot.ly"
       },
       "data": [
        {
         "hovertemplate": "n=6<br>Weight (A)=%{x}<br>Coefficient of Determination (R²)=%{y}<extra></extra>",
         "legendgroup": "",
         "line": {
          "color": "#636efa",
          "dash": "solid"
         },
         "marker": {
          "symbol": "circle"
         },
         "mode": "lines",
         "name": "",
         "orientation": "v",
         "showlegend": false,
         "type": "scatter",
         "x": [
          12
         ],
         "xaxis": "x",
         "y": [
          0.9147688452544951
         ],
         "yaxis": "y"
        },
        {
         "hovertemplate": "n=8<br>Weight (A)=%{x}<br>Coefficient of Determination (R²)=%{y}<extra></extra>",
         "legendgroup": "",
         "line": {
          "color": "#636efa",
          "dash": "solid"
         },
         "marker": {
          "symbol": "circle"
         },
         "mode": "lines",
         "name": "",
         "orientation": "v",
         "showlegend": false,
         "type": "scatter",
         "x": [
          16
         ],
         "xaxis": "x",
         "y": [
          0.9548273685506843
         ],
         "yaxis": "y"
        },
        {
         "hovertemplate": "n=10<br>Weight (A)=%{x}<br>Coefficient of Determination (R²)=%{y}<extra></extra>",
         "legendgroup": "",
         "line": {
          "color": "#636efa",
          "dash": "solid"
         },
         "marker": {
          "symbol": "circle"
         },
         "mode": "lines",
         "name": "",
         "orientation": "v",
         "showlegend": false,
         "type": "scatter",
         "x": [
          18,
          20
         ],
         "xaxis": "x",
         "y": [
          0.7358478791408414,
          0.7478377152210447
         ],
         "yaxis": "y"
        },
        {
         "hovertemplate": "n=12<br>Weight (A)=%{x}<br>Coefficient of Determination (R²)=%{y}<extra></extra>",
         "legendgroup": "",
         "line": {
          "color": "#636efa",
          "dash": "solid"
         },
         "marker": {
          "symbol": "circle"
         },
         "mode": "lines",
         "name": "",
         "orientation": "v",
         "showlegend": false,
         "type": "scatter",
         "x": [
          22,
          24
         ],
         "xaxis": "x",
         "y": [
          0.9545236569396298,
          0.8819679891027467
         ],
         "yaxis": "y"
        },
        {
         "hovertemplate": "n=14<br>Weight (A)=%{x}<br>Coefficient of Determination (R²)=%{y}<extra></extra>",
         "legendgroup": "",
         "line": {
          "color": "#636efa",
          "dash": "solid"
         },
         "marker": {
          "symbol": "circle"
         },
         "mode": "lines",
         "name": "",
         "orientation": "v",
         "showlegend": false,
         "type": "scatter",
         "x": [
          26,
          28
         ],
         "xaxis": "x",
         "y": [
          0.9044754661549015,
          0.9056238223900628
         ],
         "yaxis": "y"
        },
        {
         "hovertemplate": "n=16<br>Weight (A)=%{x}<br>Coefficient of Determination (R²)=%{y}<extra></extra>",
         "legendgroup": "",
         "line": {
          "color": "#636efa",
          "dash": "solid"
         },
         "marker": {
          "symbol": "circle"
         },
         "mode": "lines",
         "name": "",
         "orientation": "v",
         "showlegend": false,
         "type": "scatter",
         "x": [
          30,
          32
         ],
         "xaxis": "x",
         "y": [
          0.9650030956384299,
          0.9139821213927032
         ],
         "yaxis": "y"
        },
        {
         "hovertemplate": "n=18<br>Weight (A)=%{x}<br>Coefficient of Determination (R²)=%{y}<extra></extra>",
         "legendgroup": "",
         "line": {
          "color": "#636efa",
          "dash": "solid"
         },
         "marker": {
          "symbol": "circle"
         },
         "mode": "lines",
         "name": "",
         "orientation": "v",
         "showlegend": false,
         "type": "scatter",
         "x": [
          34,
          36
         ],
         "xaxis": "x",
         "y": [
          0.9835412137049254,
          0.9875573299865396
         ],
         "yaxis": "y"
        },
        {
         "hovertemplate": "n=20<br>Weight (A)=%{x}<br>Coefficient of Determination (R²)=%{y}<extra></extra>",
         "legendgroup": "",
         "line": {
          "color": "#636efa",
          "dash": "solid"
         },
         "marker": {
          "symbol": "circle"
         },
         "mode": "lines",
         "name": "",
         "orientation": "v",
         "showlegend": false,
         "type": "scatter",
         "x": [
          36,
          38,
          40
         ],
         "xaxis": "x",
         "y": [
          0.9999143661558342,
          0.9717491089705402,
          0.8587003524676518
         ],
         "yaxis": "y"
        },
        {
         "hovertemplate": "n=22<br>Weight (A)=%{x}<br>Coefficient of Determination (R²)=%{y}<extra></extra>",
         "legendgroup": "",
         "line": {
          "color": "#636efa",
          "dash": "solid"
         },
         "marker": {
          "symbol": "circle"
         },
         "mode": "lines",
         "name": "",
         "orientation": "v",
         "showlegend": false,
         "type": "scatter",
         "x": [
          40,
          42
         ],
         "xaxis": "x",
         "y": [
          0.9421295169892621,
          0.9137449981055838
         ],
         "yaxis": "y"
        },
        {
         "hovertemplate": "n=24<br>Weight (A)=%{x}<br>Coefficient of Determination (R²)=%{y}<extra></extra>",
         "legendgroup": "",
         "line": {
          "color": "#636efa",
          "dash": "solid"
         },
         "marker": {
          "symbol": "circle"
         },
         "mode": "lines",
         "name": "",
         "orientation": "v",
         "showlegend": false,
         "type": "scatter",
         "x": [
          44,
          46
         ],
         "xaxis": "x",
         "y": [
          0.9828276461851123,
          0.9753914482563227
         ],
         "yaxis": "y"
        },
        {
         "hovertemplate": "n=26<br>Weight (A)=%{x}<br>Coefficient of Determination (R²)=%{y}<extra></extra>",
         "legendgroup": "",
         "line": {
          "color": "#636efa",
          "dash": "solid"
         },
         "marker": {
          "symbol": "circle"
         },
         "mode": "lines",
         "name": "",
         "orientation": "v",
         "showlegend": false,
         "type": "scatter",
         "x": [
          46,
          48
         ],
         "xaxis": "x",
         "y": [
          0.9146723533597729,
          0.9771049314646529
         ],
         "yaxis": "y"
        },
        {
         "hovertemplate": "n=28<br>Weight (A)=%{x}<br>Coefficient of Determination (R²)=%{y}<extra></extra>",
         "legendgroup": "",
         "line": {
          "color": "#636efa",
          "dash": "solid"
         },
         "marker": {
          "symbol": "circle"
         },
         "mode": "lines",
         "name": "",
         "orientation": "v",
         "showlegend": false,
         "type": "scatter",
         "x": [
          50,
          52,
          54
         ],
         "xaxis": "x",
         "y": [
          0.9113073437945676,
          0.9456352259600138,
          0.9200817983801625
         ],
         "yaxis": "y"
        },
        {
         "hovertemplate": "n=30<br>Weight (A)=%{x}<br>Coefficient of Determination (R²)=%{y}<extra></extra>",
         "legendgroup": "",
         "line": {
          "color": "#636efa",
          "dash": "solid"
         },
         "marker": {
          "symbol": "circle"
         },
         "mode": "lines",
         "name": "",
         "orientation": "v",
         "showlegend": false,
         "type": "scatter",
         "x": [
          54,
          56,
          58
         ],
         "xaxis": "x",
         "y": [
          0.9723601848366793,
          0.9635427260647125,
          0.9307115000027578
         ],
         "yaxis": "y"
        },
        {
         "hovertemplate": "n=32<br>Weight (A)=%{x}<br>Coefficient of Determination (R²)=%{y}<extra></extra>",
         "legendgroup": "",
         "line": {
          "color": "#636efa",
          "dash": "solid"
         },
         "marker": {
          "symbol": "circle"
         },
         "mode": "lines",
         "name": "",
         "orientation": "v",
         "showlegend": false,
         "type": "scatter",
         "x": [
          58,
          60
         ],
         "xaxis": "x",
         "y": [
          0.9632787532567324,
          0.9854064994960312
         ],
         "yaxis": "y"
        },
        {
         "hovertemplate": "n=34<br>Weight (A)=%{x}<br>Coefficient of Determination (R²)=%{y}<extra></extra>",
         "legendgroup": "",
         "line": {
          "color": "#636efa",
          "dash": "solid"
         },
         "marker": {
          "symbol": "circle"
         },
         "mode": "lines",
         "name": "",
         "orientation": "v",
         "showlegend": false,
         "type": "scatter",
         "x": [
          62,
          64
         ],
         "xaxis": "x",
         "y": [
          0.9364090748605418,
          0.9727317512593224
         ],
         "yaxis": "y"
        },
        {
         "hovertemplate": "n=36<br>Weight (A)=%{x}<br>Coefficient of Determination (R²)=%{y}<extra></extra>",
         "legendgroup": "",
         "line": {
          "color": "#636efa",
          "dash": "solid"
         },
         "marker": {
          "symbol": "circle"
         },
         "mode": "lines",
         "name": "",
         "orientation": "v",
         "showlegend": false,
         "type": "scatter",
         "x": [
          64,
          66
         ],
         "xaxis": "x",
         "y": [
          0.8347645806299524,
          0.9816579909685597
         ],
         "yaxis": "y"
        },
        {
         "hovertemplate": "n=38<br>Weight (A)=%{x}<br>Coefficient of Determination (R²)=%{y}<extra></extra>",
         "legendgroup": "",
         "line": {
          "color": "#636efa",
          "dash": "solid"
         },
         "marker": {
          "symbol": "circle"
         },
         "mode": "lines",
         "name": "",
         "orientation": "v",
         "showlegend": false,
         "type": "scatter",
         "x": [
          68,
          70
         ],
         "xaxis": "x",
         "y": [
          0.9905924802517535,
          0.9972624779429902
         ],
         "yaxis": "y"
        },
        {
         "hovertemplate": "n=40<br>Weight (A)=%{x}<br>Coefficient of Determination (R²)=%{y}<extra></extra>",
         "legendgroup": "",
         "line": {
          "color": "#636efa",
          "dash": "solid"
         },
         "marker": {
          "symbol": "circle"
         },
         "mode": "lines",
         "name": "",
         "orientation": "v",
         "showlegend": false,
         "type": "scatter",
         "x": [
          72,
          74
         ],
         "xaxis": "x",
         "y": [
          0.9960710518284847,
          0.9564374658958542
         ],
         "yaxis": "y"
        },
        {
         "hovertemplate": "n=42<br>Weight (A)=%{x}<br>Coefficient of Determination (R²)=%{y}<extra></extra>",
         "legendgroup": "",
         "line": {
          "color": "#636efa",
          "dash": "solid"
         },
         "marker": {
          "symbol": "circle"
         },
         "mode": "lines",
         "name": "",
         "orientation": "v",
         "showlegend": false,
         "type": "scatter",
         "x": [
          74,
          76,
          78
         ],
         "xaxis": "x",
         "y": [
          0.9726784913523246,
          0.9782258437364145,
          0.94383013398351
         ],
         "yaxis": "y"
        },
        {
         "hovertemplate": "n=44<br>Weight (A)=%{x}<br>Coefficient of Determination (R²)=%{y}<extra></extra>",
         "legendgroup": "",
         "line": {
          "color": "#636efa",
          "dash": "solid"
         },
         "marker": {
          "symbol": "circle"
         },
         "mode": "lines",
         "name": "",
         "orientation": "v",
         "showlegend": false,
         "type": "scatter",
         "x": [
          76,
          78,
          80
         ],
         "xaxis": "x",
         "y": [
          0.9761854158750692,
          0.9795020537272437,
          0.9849309692971745
         ],
         "yaxis": "y"
        },
        {
         "hovertemplate": "n=46<br>Weight (A)=%{x}<br>Coefficient of Determination (R²)=%{y}<extra></extra>",
         "legendgroup": "",
         "line": {
          "color": "#636efa",
          "dash": "solid"
         },
         "marker": {
          "symbol": "circle"
         },
         "mode": "lines",
         "name": "",
         "orientation": "v",
         "showlegend": false,
         "type": "scatter",
         "x": [
          80,
          82,
          84
         ],
         "xaxis": "x",
         "y": [
          0.962971199246674,
          0.9828535909628806,
          0.9718339029796822
         ],
         "yaxis": "y"
        },
        {
         "hovertemplate": "n=48<br>Weight (A)=%{x}<br>Coefficient of Determination (R²)=%{y}<extra></extra>",
         "legendgroup": "",
         "line": {
          "color": "#636efa",
          "dash": "solid"
         },
         "marker": {
          "symbol": "circle"
         },
         "mode": "lines",
         "name": "",
         "orientation": "v",
         "showlegend": false,
         "type": "scatter",
         "x": [
          84,
          86
         ],
         "xaxis": "x",
         "y": [
          0.9624945111204829,
          0.9222769787499558
         ],
         "yaxis": "y"
        },
        {
         "hovertemplate": "n=50<br>Weight (A)=%{x}<br>Coefficient of Determination (R²)=%{y}<extra></extra>",
         "legendgroup": "",
         "line": {
          "color": "#636efa",
          "dash": "solid"
         },
         "marker": {
          "symbol": "circle"
         },
         "mode": "lines",
         "name": "",
         "orientation": "v",
         "showlegend": false,
         "type": "scatter",
         "x": [
          86,
          88,
          90,
          92
         ],
         "xaxis": "x",
         "y": [
          0.8837625602376147,
          0.9860822300565837,
          0.8083474826714752,
          0.6942794576942892
         ],
         "yaxis": "y"
        },
        {
         "hovertemplate": "n=52<br>Weight (A)=%{x}<br>Coefficient of Determination (R²)=%{y}<extra></extra>",
         "legendgroup": "",
         "line": {
          "color": "#636efa",
          "dash": "solid"
         },
         "marker": {
          "symbol": "circle"
         },
         "mode": "lines",
         "name": "",
         "orientation": "v",
         "showlegend": false,
         "type": "scatter",
         "x": [
          92,
          94,
          96
         ],
         "xaxis": "x",
         "y": [
          0.9486735933519881,
          0.990546334006642,
          0.9772768621931325
         ],
         "yaxis": "y"
        },
        {
         "hovertemplate": "n=54<br>Weight (A)=%{x}<br>Coefficient of Determination (R²)=%{y}<extra></extra>",
         "legendgroup": "",
         "line": {
          "color": "#636efa",
          "dash": "solid"
         },
         "marker": {
          "symbol": "circle"
         },
         "mode": "lines",
         "name": "",
         "orientation": "v",
         "showlegend": false,
         "type": "scatter",
         "x": [
          94,
          96,
          98
         ],
         "xaxis": "x",
         "y": [
          0.950896272497239,
          0.9886170190444853,
          0.9929350184768945
         ],
         "yaxis": "y"
        },
        {
         "hovertemplate": "n=56<br>Weight (A)=%{x}<br>Coefficient of Determination (R²)=%{y}<extra></extra>",
         "legendgroup": "",
         "line": {
          "color": "#636efa",
          "dash": "solid"
         },
         "marker": {
          "symbol": "circle"
         },
         "mode": "lines",
         "name": "",
         "orientation": "v",
         "showlegend": false,
         "type": "scatter",
         "x": [
          98,
          100,
          102
         ],
         "xaxis": "x",
         "y": [
          0.9989594532621616,
          0.9829171394012934,
          0.9584567174333206
         ],
         "yaxis": "y"
        },
        {
         "hovertemplate": "n=58<br>Weight (A)=%{x}<br>Coefficient of Determination (R²)=%{y}<extra></extra>",
         "legendgroup": "",
         "line": {
          "color": "#636efa",
          "dash": "solid"
         },
         "marker": {
          "symbol": "circle"
         },
         "mode": "lines",
         "name": "",
         "orientation": "v",
         "showlegend": false,
         "type": "scatter",
         "x": [
          102,
          104,
          106
         ],
         "xaxis": "x",
         "y": [
          0.9658898772752734,
          0.9948329305112691,
          0.9814423554033396
         ],
         "yaxis": "y"
        },
        {
         "hovertemplate": "n=60<br>Weight (A)=%{x}<br>Coefficient of Determination (R²)=%{y}<extra></extra>",
         "legendgroup": "",
         "line": {
          "color": "#636efa",
          "dash": "solid"
         },
         "marker": {
          "symbol": "circle"
         },
         "mode": "lines",
         "name": "",
         "orientation": "v",
         "showlegend": false,
         "type": "scatter",
         "x": [
          104,
          106,
          108
         ],
         "xaxis": "x",
         "y": [
          0.9647382213231745,
          0.9943779442522057,
          0.9926233637425104
         ],
         "yaxis": "y"
        },
        {
         "hovertemplate": "n=62<br>Weight (A)=%{x}<br>Coefficient of Determination (R²)=%{y}<extra></extra>",
         "legendgroup": "",
         "line": {
          "color": "#636efa",
          "dash": "solid"
         },
         "marker": {
          "symbol": "circle"
         },
         "mode": "lines",
         "name": "",
         "orientation": "v",
         "showlegend": false,
         "type": "scatter",
         "x": [
          108,
          110,
          112
         ],
         "xaxis": "x",
         "y": [
          0.9779333734237492,
          0.960911369315463,
          0.9942453977158321
         ],
         "yaxis": "y"
        },
        {
         "hovertemplate": "n=64<br>Weight (A)=%{x}<br>Coefficient of Determination (R²)=%{y}<extra></extra>",
         "legendgroup": "",
         "line": {
          "color": "#636efa",
          "dash": "solid"
         },
         "marker": {
          "symbol": "circle"
         },
         "mode": "lines",
         "name": "",
         "orientation": "v",
         "showlegend": false,
         "type": "scatter",
         "x": [
          110,
          112,
          114
         ],
         "xaxis": "x",
         "y": [
          0.971222280336483,
          0.9947572469947041,
          0.9872943140507373
         ],
         "yaxis": "y"
        },
        {
         "hovertemplate": "n=66<br>Weight (A)=%{x}<br>Coefficient of Determination (R²)=%{y}<extra></extra>",
         "legendgroup": "",
         "line": {
          "color": "#636efa",
          "dash": "solid"
         },
         "marker": {
          "symbol": "circle"
         },
         "mode": "lines",
         "name": "",
         "orientation": "v",
         "showlegend": false,
         "type": "scatter",
         "x": [
          114,
          116
         ],
         "xaxis": "x",
         "y": [
          0.9931520097901707,
          0.9653414017901973
         ],
         "yaxis": "y"
        },
        {
         "hovertemplate": "n=68<br>Weight (A)=%{x}<br>Coefficient of Determination (R²)=%{y}<extra></extra>",
         "legendgroup": "",
         "line": {
          "color": "#636efa",
          "dash": "solid"
         },
         "marker": {
          "symbol": "circle"
         },
         "mode": "lines",
         "name": "",
         "orientation": "v",
         "showlegend": false,
         "type": "scatter",
         "x": [
          118,
          120
         ],
         "xaxis": "x",
         "y": [
          0.9656484720054692,
          0.9860228729929557
         ],
         "yaxis": "y"
        },
        {
         "hovertemplate": "n=70<br>Weight (A)=%{x}<br>Coefficient of Determination (R²)=%{y}<extra></extra>",
         "legendgroup": "",
         "line": {
          "color": "#636efa",
          "dash": "solid"
         },
         "marker": {
          "symbol": "circle"
         },
         "mode": "lines",
         "name": "",
         "orientation": "v",
         "showlegend": false,
         "type": "scatter",
         "x": [
          120,
          122
         ],
         "xaxis": "x",
         "y": [
          0.9449918140200951,
          0.983839903622219
         ],
         "yaxis": "y"
        },
        {
         "hovertemplate": "n=72<br>Weight (A)=%{x}<br>Coefficient of Determination (R²)=%{y}<extra></extra>",
         "legendgroup": "",
         "line": {
          "color": "#636efa",
          "dash": "solid"
         },
         "marker": {
          "symbol": "circle"
         },
         "mode": "lines",
         "name": "",
         "orientation": "v",
         "showlegend": false,
         "type": "scatter",
         "x": [
          122,
          124,
          126
         ],
         "xaxis": "x",
         "y": [
          0.9313096185042422,
          0.9867985090671165,
          0.9221069269133634
         ],
         "yaxis": "y"
        },
        {
         "hovertemplate": "n=74<br>Weight (A)=%{x}<br>Coefficient of Determination (R²)=%{y}<extra></extra>",
         "legendgroup": "",
         "line": {
          "color": "#636efa",
          "dash": "solid"
         },
         "marker": {
          "symbol": "circle"
         },
         "mode": "lines",
         "name": "",
         "orientation": "v",
         "showlegend": false,
         "type": "scatter",
         "x": [
          124,
          126,
          128,
          130
         ],
         "xaxis": "x",
         "y": [
          0.9156347222174857,
          0.9862407084905817,
          0.9687831683156171,
          0.958606085415185
         ],
         "yaxis": "y"
        },
        {
         "hovertemplate": "n=76<br>Weight (A)=%{x}<br>Coefficient of Determination (R²)=%{y}<extra></extra>",
         "legendgroup": "",
         "line": {
          "color": "#636efa",
          "dash": "solid"
         },
         "marker": {
          "symbol": "circle"
         },
         "mode": "lines",
         "name": "",
         "orientation": "v",
         "showlegend": false,
         "type": "scatter",
         "x": [
          130
         ],
         "xaxis": "x",
         "y": [
          0.9913263972158379
         ],
         "yaxis": "y"
        },
        {
         "hovertemplate": "n=78<br>Weight (A)=%{x}<br>Coefficient of Determination (R²)=%{y}<extra></extra>",
         "legendgroup": "",
         "line": {
          "color": "#636efa",
          "dash": "solid"
         },
         "marker": {
          "symbol": "circle"
         },
         "mode": "lines",
         "name": "",
         "orientation": "v",
         "showlegend": false,
         "type": "scatter",
         "x": [
          132,
          134,
          136
         ],
         "xaxis": "x",
         "y": [
          0.9986323495899393,
          0.9851916156192847,
          0.9856113383262629
         ],
         "yaxis": "y"
        },
        {
         "hovertemplate": "n=80<br>Weight (A)=%{x}<br>Coefficient of Determination (R²)=%{y}<extra></extra>",
         "legendgroup": "",
         "line": {
          "color": "#636efa",
          "dash": "solid"
         },
         "marker": {
          "symbol": "circle"
         },
         "mode": "lines",
         "name": "",
         "orientation": "v",
         "showlegend": false,
         "type": "scatter",
         "x": [
          136
         ],
         "xaxis": "x",
         "y": [
          0.9464687294099154
         ],
         "yaxis": "y"
        },
        {
         "hovertemplate": "n=82<br>Weight (A)=%{x}<br>Coefficient of Determination (R²)=%{y}<extra></extra>",
         "legendgroup": "",
         "line": {
          "color": "#636efa",
          "dash": "solid"
         },
         "marker": {
          "symbol": "circle"
         },
         "mode": "lines",
         "name": "",
         "orientation": "v",
         "showlegend": false,
         "type": "scatter",
         "x": [
          138,
          140,
          142,
          144
         ],
         "xaxis": "x",
         "y": [
          0.9427947444495421,
          0.9124783103647597,
          0.8854165160723748,
          0.6232286965920448
         ],
         "yaxis": "y"
        },
        {
         "hovertemplate": "n=86<br>Weight (A)=%{x}<br>Coefficient of Determination (R²)=%{y}<extra></extra>",
         "legendgroup": "",
         "line": {
          "color": "#636efa",
          "dash": "solid"
         },
         "marker": {
          "symbol": "circle"
         },
         "mode": "lines",
         "name": "",
         "orientation": "v",
         "showlegend": false,
         "type": "scatter",
         "x": [
          146
         ],
         "xaxis": "x",
         "y": [
          0.9953025703735285
         ],
         "yaxis": "y"
        },
        {
         "hovertemplate": "n=88<br>Weight (A)=%{x}<br>Coefficient of Determination (R²)=%{y}<extra></extra>",
         "legendgroup": "",
         "line": {
          "color": "#636efa",
          "dash": "solid"
         },
         "marker": {
          "symbol": "circle"
         },
         "mode": "lines",
         "name": "",
         "orientation": "v",
         "showlegend": false,
         "type": "scatter",
         "x": [
          148,
          150
         ],
         "xaxis": "x",
         "y": [
          0.9726373658365886,
          0.9853305223102935
         ],
         "yaxis": "y"
        },
        {
         "hovertemplate": "n=90<br>Weight (A)=%{x}<br>Coefficient of Determination (R²)=%{y}<extra></extra>",
         "legendgroup": "",
         "line": {
          "color": "#636efa",
          "dash": "solid"
         },
         "marker": {
          "symbol": "circle"
         },
         "mode": "lines",
         "name": "",
         "orientation": "v",
         "showlegend": false,
         "type": "scatter",
         "x": [
          152,
          154,
          156
         ],
         "xaxis": "x",
         "y": [
          0.9307131030591098,
          0.9391816801648888,
          0.9257235644221549
         ],
         "yaxis": "y"
        },
        {
         "hovertemplate": "n=92<br>Weight (A)=%{x}<br>Coefficient of Determination (R²)=%{y}<extra></extra>",
         "legendgroup": "",
         "line": {
          "color": "#636efa",
          "dash": "solid"
         },
         "marker": {
          "symbol": "circle"
         },
         "mode": "lines",
         "name": "",
         "orientation": "v",
         "showlegend": false,
         "type": "scatter",
         "x": [
          154,
          156,
          158
         ],
         "xaxis": "x",
         "y": [
          0.9096192264696956,
          0.9240286063831805,
          0.9347709678640634
         ],
         "yaxis": "y"
        },
        {
         "hovertemplate": "n=94<br>Weight (A)=%{x}<br>Coefficient of Determination (R²)=%{y}<extra></extra>",
         "legendgroup": "",
         "line": {
          "color": "#636efa",
          "dash": "solid"
         },
         "marker": {
          "symbol": "circle"
         },
         "mode": "lines",
         "name": "",
         "orientation": "v",
         "showlegend": false,
         "type": "scatter",
         "x": [
          158,
          160,
          162
         ],
         "xaxis": "x",
         "y": [
          0.8882285943334339,
          0.9321384089174624,
          0.9392995530043134
         ],
         "yaxis": "y"
        },
        {
         "hovertemplate": "n=96<br>Weight (A)=%{x}<br>Coefficient of Determination (R²)=%{y}<extra></extra>",
         "legendgroup": "",
         "line": {
          "color": "#636efa",
          "dash": "solid"
         },
         "marker": {
          "symbol": "circle"
         },
         "mode": "lines",
         "name": "",
         "orientation": "v",
         "showlegend": false,
         "type": "scatter",
         "x": [
          160,
          162,
          164
         ],
         "xaxis": "x",
         "y": [
          0.8892879264314432,
          0.9291266308711088,
          0.9237457571610704
         ],
         "yaxis": "y"
        },
        {
         "hovertemplate": "n=98<br>Weight (A)=%{x}<br>Coefficient of Determination (R²)=%{y}<extra></extra>",
         "legendgroup": "",
         "line": {
          "color": "#636efa",
          "dash": "solid"
         },
         "marker": {
          "symbol": "circle"
         },
         "mode": "lines",
         "name": "",
         "orientation": "v",
         "showlegend": false,
         "type": "scatter",
         "x": [
          164,
          166,
          168
         ],
         "xaxis": "x",
         "y": [
          0.8893018914935652,
          0.899010669680824,
          0.9141323778950815
         ],
         "yaxis": "y"
        },
        {
         "hovertemplate": "n=100<br>Weight (A)=%{x}<br>Coefficient of Determination (R²)=%{y}<extra></extra>",
         "legendgroup": "",
         "line": {
          "color": "#636efa",
          "dash": "solid"
         },
         "marker": {
          "symbol": "circle"
         },
         "mode": "lines",
         "name": "",
         "orientation": "v",
         "showlegend": false,
         "type": "scatter",
         "x": [
          168,
          170
         ],
         "xaxis": "x",
         "y": [
          0.8860374474008079,
          0.9164210120100053
         ],
         "yaxis": "y"
        },
        {
         "hovertemplate": "n=102<br>Weight (A)=%{x}<br>Coefficient of Determination (R²)=%{y}<extra></extra>",
         "legendgroup": "",
         "line": {
          "color": "#636efa",
          "dash": "solid"
         },
         "marker": {
          "symbol": "circle"
         },
         "mode": "lines",
         "name": "",
         "orientation": "v",
         "showlegend": false,
         "type": "scatter",
         "x": [
          170,
          172
         ],
         "xaxis": "x",
         "y": [
          0.90547992435586,
          0.8814040444517753
         ],
         "yaxis": "y"
        },
        {
         "hovertemplate": "n=104<br>Weight (A)=%{x}<br>Coefficient of Determination (R²)=%{y}<extra></extra>",
         "legendgroup": "",
         "line": {
          "color": "#636efa",
          "dash": "solid"
         },
         "marker": {
          "symbol": "circle"
         },
         "mode": "lines",
         "name": "",
         "orientation": "v",
         "showlegend": false,
         "type": "scatter",
         "x": [
          174,
          176
         ],
         "xaxis": "x",
         "y": [
          0.8810211090603377,
          0.9200139455250295
         ],
         "yaxis": "y"
        },
        {
         "hovertemplate": "n=106<br>Weight (A)=%{x}<br>Coefficient of Determination (R²)=%{y}<extra></extra>",
         "legendgroup": "",
         "line": {
          "color": "#636efa",
          "dash": "solid"
         },
         "marker": {
          "symbol": "circle"
         },
         "mode": "lines",
         "name": "",
         "orientation": "v",
         "showlegend": false,
         "type": "scatter",
         "x": [
          176,
          178
         ],
         "xaxis": "x",
         "y": [
          0.8801602394953589,
          0.937929665308081
         ],
         "yaxis": "y"
        },
        {
         "hovertemplate": "n=108<br>Weight (A)=%{x}<br>Coefficient of Determination (R²)=%{y}<extra></extra>",
         "legendgroup": "",
         "line": {
          "color": "#636efa",
          "dash": "solid"
         },
         "marker": {
          "symbol": "circle"
         },
         "mode": "lines",
         "name": "",
         "orientation": "v",
         "showlegend": false,
         "type": "scatter",
         "x": [
          180,
          182
         ],
         "xaxis": "x",
         "y": [
          0.8938109665600209,
          0.9098592524422393
         ],
         "yaxis": "y"
        },
        {
         "hovertemplate": "n=110<br>Weight (A)=%{x}<br>Coefficient of Determination (R²)=%{y}<extra></extra>",
         "legendgroup": "",
         "line": {
          "color": "#636efa",
          "dash": "solid"
         },
         "marker": {
          "symbol": "circle"
         },
         "mode": "lines",
         "name": "",
         "orientation": "v",
         "showlegend": false,
         "type": "scatter",
         "x": [
          184
         ],
         "xaxis": "x",
         "y": [
          0.9022022773270685
         ],
         "yaxis": "y"
        },
        {
         "hovertemplate": "n=112<br>Weight (A)=%{x}<br>Coefficient of Determination (R²)=%{y}<extra></extra>",
         "legendgroup": "",
         "line": {
          "color": "#636efa",
          "dash": "solid"
         },
         "marker": {
          "symbol": "circle"
         },
         "mode": "lines",
         "name": "",
         "orientation": "v",
         "showlegend": false,
         "type": "scatter",
         "x": [
          186,
          188
         ],
         "xaxis": "x",
         "y": [
          0.8656855319010988,
          0.9550239204233023
         ],
         "yaxis": "y"
        },
        {
         "hovertemplate": "n=114<br>Weight (A)=%{x}<br>Coefficient of Determination (R²)=%{y}<extra></extra>",
         "legendgroup": "",
         "line": {
          "color": "#636efa",
          "dash": "solid"
         },
         "marker": {
          "symbol": "circle"
         },
         "mode": "lines",
         "name": "",
         "orientation": "v",
         "showlegend": false,
         "type": "scatter",
         "x": [
          190,
          192
         ],
         "xaxis": "x",
         "y": [
          0.9207782135765223,
          0.9653700137742
         ],
         "yaxis": "y"
        },
        {
         "hovertemplate": "n=116<br>Weight (A)=%{x}<br>Coefficient of Determination (R²)=%{y}<extra></extra>",
         "legendgroup": "",
         "line": {
          "color": "#636efa",
          "dash": "solid"
         },
         "marker": {
          "symbol": "circle"
         },
         "mode": "lines",
         "name": "",
         "orientation": "v",
         "showlegend": false,
         "type": "scatter",
         "x": [
          192,
          194,
          196
         ],
         "xaxis": "x",
         "y": [
          0.931111038922269,
          0.9661453301807785,
          0.9692403005711017
         ],
         "yaxis": "y"
        },
        {
         "hovertemplate": "n=118<br>Weight (A)=%{x}<br>Coefficient of Determination (R²)=%{y}<extra></extra>",
         "legendgroup": "",
         "line": {
          "color": "#636efa",
          "dash": "solid"
         },
         "marker": {
          "symbol": "circle"
         },
         "mode": "lines",
         "name": "",
         "orientation": "v",
         "showlegend": false,
         "type": "scatter",
         "x": [
          196,
          198
         ],
         "xaxis": "x",
         "y": [
          0.9656939518103067,
          0.9549293695154859
         ],
         "yaxis": "y"
        },
        {
         "hovertemplate": "n=120<br>Weight (A)=%{x}<br>Coefficient of Determination (R²)=%{y}<extra></extra>",
         "legendgroup": "",
         "line": {
          "color": "#636efa",
          "dash": "solid"
         },
         "marker": {
          "symbol": "circle"
         },
         "mode": "lines",
         "name": "",
         "orientation": "v",
         "showlegend": false,
         "type": "scatter",
         "x": [
          198,
          200
         ],
         "xaxis": "x",
         "y": [
          0.953435204584594,
          0.9788663726191887
         ],
         "yaxis": "y"
        },
        {
         "hovertemplate": "n=122<br>Weight (A)=%{x}<br>Coefficient of Determination (R²)=%{y}<extra></extra>",
         "legendgroup": "",
         "line": {
          "color": "#636efa",
          "dash": "solid"
         },
         "marker": {
          "symbol": "circle"
         },
         "mode": "lines",
         "name": "",
         "orientation": "v",
         "showlegend": false,
         "type": "scatter",
         "x": [
          202
         ],
         "xaxis": "x",
         "y": [
          0.9577713344802911
         ],
         "yaxis": "y"
        },
        {
         "hovertemplate": "n=124<br>Weight (A)=%{x}<br>Coefficient of Determination (R²)=%{y}<extra></extra>",
         "legendgroup": "",
         "line": {
          "color": "#636efa",
          "dash": "solid"
         },
         "marker": {
          "symbol": "circle"
         },
         "mode": "lines",
         "name": "",
         "orientation": "v",
         "showlegend": false,
         "type": "scatter",
         "x": [
          204,
          206
         ],
         "xaxis": "x",
         "y": [
          0.9281200306243689,
          0.7059731806066232
         ],
         "yaxis": "y"
        }
       ],
       "layout": {
        "legend": {
         "tracegroupgap": 0
        },
        "template": {
         "data": {
          "bar": [
           {
            "error_x": {
             "color": "#2a3f5f"
            },
            "error_y": {
             "color": "#2a3f5f"
            },
            "marker": {
             "line": {
              "color": "#E5ECF6",
              "width": 0.5
             },
             "pattern": {
              "fillmode": "overlay",
              "size": 10,
              "solidity": 0.2
             }
            },
            "type": "bar"
           }
          ],
          "barpolar": [
           {
            "marker": {
             "line": {
              "color": "#E5ECF6",
              "width": 0.5
             },
             "pattern": {
              "fillmode": "overlay",
              "size": 10,
              "solidity": 0.2
             }
            },
            "type": "barpolar"
           }
          ],
          "carpet": [
           {
            "aaxis": {
             "endlinecolor": "#2a3f5f",
             "gridcolor": "white",
             "linecolor": "white",
             "minorgridcolor": "white",
             "startlinecolor": "#2a3f5f"
            },
            "baxis": {
             "endlinecolor": "#2a3f5f",
             "gridcolor": "white",
             "linecolor": "white",
             "minorgridcolor": "white",
             "startlinecolor": "#2a3f5f"
            },
            "type": "carpet"
           }
          ],
          "choropleth": [
           {
            "colorbar": {
             "outlinewidth": 0,
             "ticks": ""
            },
            "type": "choropleth"
           }
          ],
          "contour": [
           {
            "colorbar": {
             "outlinewidth": 0,
             "ticks": ""
            },
            "colorscale": [
             [
              0,
              "#0d0887"
             ],
             [
              0.1111111111111111,
              "#46039f"
             ],
             [
              0.2222222222222222,
              "#7201a8"
             ],
             [
              0.3333333333333333,
              "#9c179e"
             ],
             [
              0.4444444444444444,
              "#bd3786"
             ],
             [
              0.5555555555555556,
              "#d8576b"
             ],
             [
              0.6666666666666666,
              "#ed7953"
             ],
             [
              0.7777777777777778,
              "#fb9f3a"
             ],
             [
              0.8888888888888888,
              "#fdca26"
             ],
             [
              1,
              "#f0f921"
             ]
            ],
            "type": "contour"
           }
          ],
          "contourcarpet": [
           {
            "colorbar": {
             "outlinewidth": 0,
             "ticks": ""
            },
            "type": "contourcarpet"
           }
          ],
          "heatmap": [
           {
            "colorbar": {
             "outlinewidth": 0,
             "ticks": ""
            },
            "colorscale": [
             [
              0,
              "#0d0887"
             ],
             [
              0.1111111111111111,
              "#46039f"
             ],
             [
              0.2222222222222222,
              "#7201a8"
             ],
             [
              0.3333333333333333,
              "#9c179e"
             ],
             [
              0.4444444444444444,
              "#bd3786"
             ],
             [
              0.5555555555555556,
              "#d8576b"
             ],
             [
              0.6666666666666666,
              "#ed7953"
             ],
             [
              0.7777777777777778,
              "#fb9f3a"
             ],
             [
              0.8888888888888888,
              "#fdca26"
             ],
             [
              1,
              "#f0f921"
             ]
            ],
            "type": "heatmap"
           }
          ],
          "heatmapgl": [
           {
            "colorbar": {
             "outlinewidth": 0,
             "ticks": ""
            },
            "colorscale": [
             [
              0,
              "#0d0887"
             ],
             [
              0.1111111111111111,
              "#46039f"
             ],
             [
              0.2222222222222222,
              "#7201a8"
             ],
             [
              0.3333333333333333,
              "#9c179e"
             ],
             [
              0.4444444444444444,
              "#bd3786"
             ],
             [
              0.5555555555555556,
              "#d8576b"
             ],
             [
              0.6666666666666666,
              "#ed7953"
             ],
             [
              0.7777777777777778,
              "#fb9f3a"
             ],
             [
              0.8888888888888888,
              "#fdca26"
             ],
             [
              1,
              "#f0f921"
             ]
            ],
            "type": "heatmapgl"
           }
          ],
          "histogram": [
           {
            "marker": {
             "pattern": {
              "fillmode": "overlay",
              "size": 10,
              "solidity": 0.2
             }
            },
            "type": "histogram"
           }
          ],
          "histogram2d": [
           {
            "colorbar": {
             "outlinewidth": 0,
             "ticks": ""
            },
            "colorscale": [
             [
              0,
              "#0d0887"
             ],
             [
              0.1111111111111111,
              "#46039f"
             ],
             [
              0.2222222222222222,
              "#7201a8"
             ],
             [
              0.3333333333333333,
              "#9c179e"
             ],
             [
              0.4444444444444444,
              "#bd3786"
             ],
             [
              0.5555555555555556,
              "#d8576b"
             ],
             [
              0.6666666666666666,
              "#ed7953"
             ],
             [
              0.7777777777777778,
              "#fb9f3a"
             ],
             [
              0.8888888888888888,
              "#fdca26"
             ],
             [
              1,
              "#f0f921"
             ]
            ],
            "type": "histogram2d"
           }
          ],
          "histogram2dcontour": [
           {
            "colorbar": {
             "outlinewidth": 0,
             "ticks": ""
            },
            "colorscale": [
             [
              0,
              "#0d0887"
             ],
             [
              0.1111111111111111,
              "#46039f"
             ],
             [
              0.2222222222222222,
              "#7201a8"
             ],
             [
              0.3333333333333333,
              "#9c179e"
             ],
             [
              0.4444444444444444,
              "#bd3786"
             ],
             [
              0.5555555555555556,
              "#d8576b"
             ],
             [
              0.6666666666666666,
              "#ed7953"
             ],
             [
              0.7777777777777778,
              "#fb9f3a"
             ],
             [
              0.8888888888888888,
              "#fdca26"
             ],
             [
              1,
              "#f0f921"
             ]
            ],
            "type": "histogram2dcontour"
           }
          ],
          "mesh3d": [
           {
            "colorbar": {
             "outlinewidth": 0,
             "ticks": ""
            },
            "type": "mesh3d"
           }
          ],
          "parcoords": [
           {
            "line": {
             "colorbar": {
              "outlinewidth": 0,
              "ticks": ""
             }
            },
            "type": "parcoords"
           }
          ],
          "pie": [
           {
            "automargin": true,
            "type": "pie"
           }
          ],
          "scatter": [
           {
            "fillpattern": {
             "fillmode": "overlay",
             "size": 10,
             "solidity": 0.2
            },
            "type": "scatter"
           }
          ],
          "scatter3d": [
           {
            "line": {
             "colorbar": {
              "outlinewidth": 0,
              "ticks": ""
             }
            },
            "marker": {
             "colorbar": {
              "outlinewidth": 0,
              "ticks": ""
             }
            },
            "type": "scatter3d"
           }
          ],
          "scattercarpet": [
           {
            "marker": {
             "colorbar": {
              "outlinewidth": 0,
              "ticks": ""
             }
            },
            "type": "scattercarpet"
           }
          ],
          "scattergeo": [
           {
            "marker": {
             "colorbar": {
              "outlinewidth": 0,
              "ticks": ""
             }
            },
            "type": "scattergeo"
           }
          ],
          "scattergl": [
           {
            "marker": {
             "colorbar": {
              "outlinewidth": 0,
              "ticks": ""
             }
            },
            "type": "scattergl"
           }
          ],
          "scattermapbox": [
           {
            "marker": {
             "colorbar": {
              "outlinewidth": 0,
              "ticks": ""
             }
            },
            "type": "scattermapbox"
           }
          ],
          "scatterpolar": [
           {
            "marker": {
             "colorbar": {
              "outlinewidth": 0,
              "ticks": ""
             }
            },
            "type": "scatterpolar"
           }
          ],
          "scatterpolargl": [
           {
            "marker": {
             "colorbar": {
              "outlinewidth": 0,
              "ticks": ""
             }
            },
            "type": "scatterpolargl"
           }
          ],
          "scatterternary": [
           {
            "marker": {
             "colorbar": {
              "outlinewidth": 0,
              "ticks": ""
             }
            },
            "type": "scatterternary"
           }
          ],
          "surface": [
           {
            "colorbar": {
             "outlinewidth": 0,
             "ticks": ""
            },
            "colorscale": [
             [
              0,
              "#0d0887"
             ],
             [
              0.1111111111111111,
              "#46039f"
             ],
             [
              0.2222222222222222,
              "#7201a8"
             ],
             [
              0.3333333333333333,
              "#9c179e"
             ],
             [
              0.4444444444444444,
              "#bd3786"
             ],
             [
              0.5555555555555556,
              "#d8576b"
             ],
             [
              0.6666666666666666,
              "#ed7953"
             ],
             [
              0.7777777777777778,
              "#fb9f3a"
             ],
             [
              0.8888888888888888,
              "#fdca26"
             ],
             [
              1,
              "#f0f921"
             ]
            ],
            "type": "surface"
           }
          ],
          "table": [
           {
            "cells": {
             "fill": {
              "color": "#EBF0F8"
             },
             "line": {
              "color": "white"
             }
            },
            "header": {
             "fill": {
              "color": "#C8D4E3"
             },
             "line": {
              "color": "white"
             }
            },
            "type": "table"
           }
          ]
         },
         "layout": {
          "annotationdefaults": {
           "arrowcolor": "#2a3f5f",
           "arrowhead": 0,
           "arrowwidth": 1
          },
          "autotypenumbers": "strict",
          "coloraxis": {
           "colorbar": {
            "outlinewidth": 0,
            "ticks": ""
           }
          },
          "colorscale": {
           "diverging": [
            [
             0,
             "#8e0152"
            ],
            [
             0.1,
             "#c51b7d"
            ],
            [
             0.2,
             "#de77ae"
            ],
            [
             0.3,
             "#f1b6da"
            ],
            [
             0.4,
             "#fde0ef"
            ],
            [
             0.5,
             "#f7f7f7"
            ],
            [
             0.6,
             "#e6f5d0"
            ],
            [
             0.7,
             "#b8e186"
            ],
            [
             0.8,
             "#7fbc41"
            ],
            [
             0.9,
             "#4d9221"
            ],
            [
             1,
             "#276419"
            ]
           ],
           "sequential": [
            [
             0,
             "#0d0887"
            ],
            [
             0.1111111111111111,
             "#46039f"
            ],
            [
             0.2222222222222222,
             "#7201a8"
            ],
            [
             0.3333333333333333,
             "#9c179e"
            ],
            [
             0.4444444444444444,
             "#bd3786"
            ],
            [
             0.5555555555555556,
             "#d8576b"
            ],
            [
             0.6666666666666666,
             "#ed7953"
            ],
            [
             0.7777777777777778,
             "#fb9f3a"
            ],
            [
             0.8888888888888888,
             "#fdca26"
            ],
            [
             1,
             "#f0f921"
            ]
           ],
           "sequentialminus": [
            [
             0,
             "#0d0887"
            ],
            [
             0.1111111111111111,
             "#46039f"
            ],
            [
             0.2222222222222222,
             "#7201a8"
            ],
            [
             0.3333333333333333,
             "#9c179e"
            ],
            [
             0.4444444444444444,
             "#bd3786"
            ],
            [
             0.5555555555555556,
             "#d8576b"
            ],
            [
             0.6666666666666666,
             "#ed7953"
            ],
            [
             0.7777777777777778,
             "#fb9f3a"
            ],
            [
             0.8888888888888888,
             "#fdca26"
            ],
            [
             1,
             "#f0f921"
            ]
           ]
          },
          "colorway": [
           "#636efa",
           "#EF553B",
           "#00cc96",
           "#ab63fa",
           "#FFA15A",
           "#19d3f3",
           "#FF6692",
           "#B6E880",
           "#FF97FF",
           "#FECB52"
          ],
          "font": {
           "color": "#2a3f5f"
          },
          "geo": {
           "bgcolor": "white",
           "lakecolor": "white",
           "landcolor": "#E5ECF6",
           "showlakes": true,
           "showland": true,
           "subunitcolor": "white"
          },
          "hoverlabel": {
           "align": "left"
          },
          "hovermode": "closest",
          "mapbox": {
           "style": "light"
          },
          "paper_bgcolor": "white",
          "plot_bgcolor": "#E5ECF6",
          "polar": {
           "angularaxis": {
            "gridcolor": "white",
            "linecolor": "white",
            "ticks": ""
           },
           "bgcolor": "#E5ECF6",
           "radialaxis": {
            "gridcolor": "white",
            "linecolor": "white",
            "ticks": ""
           }
          },
          "scene": {
           "xaxis": {
            "backgroundcolor": "#E5ECF6",
            "gridcolor": "white",
            "gridwidth": 2,
            "linecolor": "white",
            "showbackground": true,
            "ticks": "",
            "zerolinecolor": "white"
           },
           "yaxis": {
            "backgroundcolor": "#E5ECF6",
            "gridcolor": "white",
            "gridwidth": 2,
            "linecolor": "white",
            "showbackground": true,
            "ticks": "",
            "zerolinecolor": "white"
           },
           "zaxis": {
            "backgroundcolor": "#E5ECF6",
            "gridcolor": "white",
            "gridwidth": 2,
            "linecolor": "white",
            "showbackground": true,
            "ticks": "",
            "zerolinecolor": "white"
           }
          },
          "shapedefaults": {
           "line": {
            "color": "#2a3f5f"
           }
          },
          "ternary": {
           "aaxis": {
            "gridcolor": "white",
            "linecolor": "white",
            "ticks": ""
           },
           "baxis": {
            "gridcolor": "white",
            "linecolor": "white",
            "ticks": ""
           },
           "bgcolor": "#E5ECF6",
           "caxis": {
            "gridcolor": "white",
            "linecolor": "white",
            "ticks": ""
           }
          },
          "title": {
           "x": 0.05
          },
          "xaxis": {
           "automargin": true,
           "gridcolor": "white",
           "linecolor": "white",
           "ticks": "",
           "title": {
            "standoff": 15
           },
           "zerolinecolor": "white",
           "zerolinewidth": 2
          },
          "yaxis": {
           "automargin": true,
           "gridcolor": "white",
           "linecolor": "white",
           "ticks": "",
           "title": {
            "standoff": 15
           },
           "zerolinecolor": "white",
           "zerolinewidth": 2
          }
         }
        },
        "title": {
         "text": "R² Scores vs Weight for Rotators, Grouped by Isotones"
        },
        "xaxis": {
         "anchor": "y",
         "domain": [
          0,
          1
         ],
         "title": {
          "text": "Weight (A)"
         }
        },
        "yaxis": {
         "anchor": "x",
         "domain": [
          0,
          1
         ],
         "title": {
          "text": "Coefficient of Determination (R²)"
         }
        }
       }
      }
     },
     "metadata": {},
     "output_type": "display_data"
    }
   ],
   "source": [
    "fig = px.line(get_best_r2(rotators, 0.5).reset_index(), \n",
    "                 x='a', \n",
    "                 y='r2', \n",
    "                 line_group='z',\n",
    "                 title='R² Scores vs Weight for Rotators, Grouped by Isotopes',\n",
    "                 labels={'a': 'Weight (A)', \n",
    "                        'r2': 'Coefficient of Determination (R²)',\n",
    "                        'z': 'Atomic Number (Z)'})\n",
    "\n",
    "fig.show()\n",
    "\n",
    "fig = px.line(get_best_r2(rotators, 0.5).reset_index(), \n",
    "                 x='a', \n",
    "                 y='r2', \n",
    "                 line_group='n',\n",
    "                 title='R² Scores vs Weight for Rotators, Grouped by Isotones',\n",
    "                 labels={'a': 'Weight (A)', \n",
    "                        'r2': 'Coefficient of Determination (R²)',\n",
    "                        'z': 'Atomic Number (Z)'})\n",
    "\n",
    "fig.show()"
   ]
  },
  {
   "cell_type": "code",
   "execution_count": 18,
   "metadata": {},
   "outputs": [
    {
     "data": {
      "application/vnd.plotly.v1+json": {
       "config": {
        "plotlyServerURL": "https://plot.ly"
       },
       "data": [
        {
         "hovertemplate": "Nuclide=36S<br>Angular Momentum (J)=%{x}<br>Normalized Residuals=%{y}<extra></extra>",
         "legendgroup": "",
         "marker": {
          "color": "#636efa",
          "symbol": "circle"
         },
         "mode": "markers",
         "name": "",
         "orientation": "v",
         "showlegend": false,
         "type": "scatter",
         "x": [
          0,
          2,
          4
         ],
         "xaxis": "x25",
         "y": [
          0,
          0.016519911516278265,
          -0.008259955762362547
         ],
         "yaxis": "y25"
        },
        {
         "hovertemplate": "Nuclide=36Ar<br>Angular Momentum (J)=%{x}<br>Normalized Residuals=%{y}<extra></extra>",
         "legendgroup": "",
         "marker": {
          "color": "#636efa",
          "symbol": "circle"
         },
         "mode": "markers",
         "name": "",
         "orientation": "v",
         "showlegend": false,
         "type": "scatter",
         "x": [
          0,
          2,
          4,
          6,
          8,
          10,
          12,
          14,
          16
         ],
         "xaxis": "x26",
         "y": [
          0,
          -0.49011915195606154,
          -0.6172931030536438,
          -0.0482320431808735,
          -0.39304744337022485,
          -0.8795497104600326,
          -0.23684826167902145,
          0.022018943562565303,
          1.1382870972894026
         ],
         "yaxis": "y26"
        },
        {
         "hovertemplate": "Nuclide=60Ni<br>Angular Momentum (J)=%{x}<br>Normalized Residuals=%{y}<extra></extra>",
         "legendgroup": "",
         "marker": {
          "color": "#636efa",
          "symbol": "circle"
         },
         "mode": "markers",
         "name": "",
         "orientation": "v",
         "showlegend": false,
         "type": "scatter",
         "x": [
          0,
          2,
          4,
          6,
          8,
          10,
          12,
          14,
          16,
          18,
          20
         ],
         "xaxis": "x27",
         "y": [
          0,
          -0.5477843120050685,
          -1.2691515309855175,
          -1.351868791398527,
          -0.9584899057690559,
          -0.5305415659926132,
          0.036251302734787445,
          -0.2916638700415547,
          -0.038873243710932884,
          0.3553775070924874,
          1.25650887339896
         ],
         "yaxis": "y27"
        },
        {
         "hovertemplate": "Nuclide=68Zn<br>Angular Momentum (J)=%{x}<br>Normalized Residuals=%{y}<extra></extra>",
         "legendgroup": "",
         "marker": {
          "color": "#636efa",
          "symbol": "circle"
         },
         "mode": "markers",
         "name": "",
         "orientation": "v",
         "showlegend": false,
         "type": "scatter",
         "x": [
          0,
          2,
          4
         ],
         "xaxis": "x28",
         "y": [
          0,
          -0.177708015835768,
          0.08885400792542493
         ],
         "yaxis": "y28"
        },
        {
         "hovertemplate": "Nuclide=70Ge<br>Angular Momentum (J)=%{x}<br>Normalized Residuals=%{y}<extra></extra>",
         "legendgroup": "",
         "marker": {
          "color": "#636efa",
          "symbol": "circle"
         },
         "mode": "markers",
         "name": "",
         "orientation": "v",
         "showlegend": false,
         "type": "scatter",
         "x": [
          0,
          2,
          4,
          6,
          8,
          10,
          12,
          14
         ],
         "xaxis": "x29",
         "y": [
          0,
          -0.09688371312251275,
          -0.05815721370023147,
          0.03607515060936378,
          -0.30427788594821253,
          -0.40172182054494854,
          0.2970444381260957,
          0.22120381528047459
         ],
         "yaxis": "y29"
        },
        {
         "hovertemplate": "Nuclide=72Ge<br>Angular Momentum (J)=%{x}<br>Normalized Residuals=%{y}<extra></extra>",
         "legendgroup": "",
         "marker": {
          "color": "#636efa",
          "symbol": "circle"
         },
         "mode": "markers",
         "name": "",
         "orientation": "v",
         "showlegend": false,
         "type": "scatter",
         "x": [
          0,
          2,
          4,
          6,
          8
         ],
         "xaxis": "x30",
         "y": [
          0,
          -0.1901261835003489,
          -0.2494440516295983,
          0.015537583498932467,
          0.16060038410397265
         ],
         "yaxis": "y30"
        },
        {
         "hovertemplate": "Nuclide=88Sr<br>Angular Momentum (J)=%{x}<br>Normalized Residuals=%{y}<extra></extra>",
         "legendgroup": "",
         "marker": {
          "color": "#636efa",
          "symbol": "circle"
         },
         "mode": "markers",
         "name": "",
         "orientation": "v",
         "showlegend": false,
         "type": "scatter",
         "x": [
          0,
          2,
          4
         ],
         "xaxis": "x19",
         "y": [
          0,
          -0.2174039255968799,
          0.10870196279812241
         ],
         "yaxis": "y19"
        },
        {
         "hovertemplate": "Nuclide=94Mo<br>Angular Momentum (J)=%{x}<br>Normalized Residuals=%{y}<extra></extra>",
         "legendgroup": "",
         "marker": {
          "color": "#636efa",
          "symbol": "circle"
         },
         "mode": "markers",
         "name": "",
         "orientation": "v",
         "showlegend": false,
         "type": "scatter",
         "x": [
          0,
          2,
          4,
          6,
          8
         ],
         "xaxis": "x20",
         "y": [
          0,
          0.2614988563183811,
          0.08571301979756103,
          0.2916335513854702,
          -0.32695638746525413
         ],
         "yaxis": "y20"
        },
        {
         "hovertemplate": "Nuclide=96Mo<br>Angular Momentum (J)=%{x}<br>Normalized Residuals=%{y}<extra></extra>",
         "legendgroup": "",
         "marker": {
          "color": "#636efa",
          "symbol": "circle"
         },
         "mode": "markers",
         "name": "",
         "orientation": "v",
         "showlegend": false,
         "type": "scatter",
         "x": [
          0,
          2,
          4,
          6,
          8,
          10
         ],
         "xaxis": "x21",
         "y": [
          0,
          -0.07609182530554857,
          0.025103153845692266,
          0.03389213885645378,
          -0.6370625011857397,
          0.49449182122818847
         ],
         "yaxis": "y21"
        },
        {
         "hovertemplate": "Nuclide=98Mo<br>Angular Momentum (J)=%{x}<br>Normalized Residuals=%{y}<extra></extra>",
         "legendgroup": "",
         "marker": {
          "color": "#636efa",
          "symbol": "circle"
         },
         "mode": "markers",
         "name": "",
         "orientation": "v",
         "showlegend": false,
         "type": "scatter",
         "x": [
          0,
          2,
          4,
          6
         ],
         "xaxis": "x22",
         "y": [
          0,
          0.03414508756565297,
          -0.09891147515919613,
          0.05455928761648117
         ],
         "yaxis": "y22"
        },
        {
         "hovertemplate": "Nuclide=98Ru<br>Angular Momentum (J)=%{x}<br>Normalized Residuals=%{y}<extra></extra>",
         "legendgroup": "",
         "marker": {
          "color": "#636efa",
          "symbol": "circle"
         },
         "mode": "markers",
         "name": "",
         "orientation": "v",
         "showlegend": false,
         "type": "scatter",
         "x": [
          0,
          2,
          4,
          6,
          8,
          10,
          12,
          14,
          16
         ],
         "xaxis": "x23",
         "y": [
          0,
          -0.4136934854782199,
          -0.6013031607835859,
          -0.5961374268126255,
          -0.3983664724750281,
          -0.272026234804583,
          -0.05030726960342675,
          0.14877657060892316,
          0.7023395970047595
         ],
         "yaxis": "y23"
        },
        {
         "hovertemplate": "Nuclide=104Pd<br>Angular Momentum (J)=%{x}<br>Normalized Residuals=%{y}<extra></extra>",
         "legendgroup": "",
         "marker": {
          "color": "#636efa",
          "symbol": "circle"
         },
         "mode": "markers",
         "name": "",
         "orientation": "v",
         "showlegend": false,
         "type": "scatter",
         "x": [
          0,
          2,
          4,
          6,
          8,
          10,
          12,
          14,
          16,
          18
         ],
         "xaxis": "x24",
         "y": [
          0,
          -0.600979393068063,
          -0.6684124338730096,
          -0.33781893939764884,
          0.10677330157012284,
          0.1264817181192794,
          -0.33331441836323705,
          -0.3269465484338595,
          0.004376900479185407,
          0.6828062699332683
         ],
         "yaxis": "y24"
        },
        {
         "hovertemplate": "Nuclide=106Pd<br>Angular Momentum (J)=%{x}<br>Normalized Residuals=%{y}<extra></extra>",
         "legendgroup": "",
         "marker": {
          "color": "#636efa",
          "symbol": "circle"
         },
         "mode": "markers",
         "name": "",
         "orientation": "v",
         "showlegend": false,
         "type": "scatter",
         "x": [
          0,
          2,
          4,
          6,
          8,
          10,
          12,
          14
         ],
         "xaxis": "x13",
         "y": [
          0,
          -0.5302192252987209,
          -0.4700566448368031,
          -0.03585158374073785,
          0.5082747590893616,
          0.14646940980164028,
          -0.259269994097647,
          0.05258016065863133
         ],
         "yaxis": "y13"
        },
        {
         "hovertemplate": "Nuclide=108Cd<br>Angular Momentum (J)=%{x}<br>Normalized Residuals=%{y}<extra></extra>",
         "legendgroup": "",
         "marker": {
          "color": "#636efa",
          "symbol": "circle"
         },
         "mode": "markers",
         "name": "",
         "orientation": "v",
         "showlegend": false,
         "type": "scatter",
         "x": [
          0,
          2,
          4,
          6,
          8,
          10,
          12,
          14,
          16,
          18
         ],
         "xaxis": "x14",
         "y": [
          0,
          -0.45340834854145673,
          -0.3143362558072786,
          0.2093533516443963,
          0.9993060980644963,
          0.1462489358871233,
          -0.4950457624964459,
          -0.555514651568108,
          -0.2189197585798785,
          0.48175410902372595
         ],
         "yaxis": "y14"
        },
        {
         "hovertemplate": "Nuclide=112Cd<br>Angular Momentum (J)=%{x}<br>Normalized Residuals=%{y}<extra></extra>",
         "legendgroup": "",
         "marker": {
          "color": "#636efa",
          "symbol": "circle"
         },
         "mode": "markers",
         "name": "",
         "orientation": "v",
         "showlegend": false,
         "type": "scatter",
         "x": [
          0,
          2,
          4,
          6,
          8,
          10,
          12,
          14
         ],
         "xaxis": "x15",
         "y": [
          0,
          -0.19463328254168447,
          0.1382769105158012,
          0.337631867309842,
          0.4229085149449181,
          -0.2866792837075081,
          -0.5080282912387998,
          0.24215942384944456
         ],
         "yaxis": "y15"
        },
        {
         "hovertemplate": "Nuclide=114Cd<br>Angular Momentum (J)=%{x}<br>Normalized Residuals=%{y}<extra></extra>",
         "legendgroup": "",
         "marker": {
          "color": "#636efa",
          "symbol": "circle"
         },
         "mode": "markers",
         "name": "",
         "orientation": "v",
         "showlegend": false,
         "type": "scatter",
         "x": [
          0,
          2,
          4,
          6
         ],
         "xaxis": "x16",
         "y": [
          0,
          -0.2810758116427232,
          -0.04865912688272339,
          0.12613135517836235
         ],
         "yaxis": "y16"
        },
        {
         "hovertemplate": "Nuclide=112Sn<br>Angular Momentum (J)=%{x}<br>Normalized Residuals=%{y}<extra></extra>",
         "legendgroup": "",
         "marker": {
          "color": "#636efa",
          "symbol": "circle"
         },
         "mode": "markers",
         "name": "",
         "orientation": "v",
         "showlegend": false,
         "type": "scatter",
         "x": [
          0,
          2,
          4,
          6,
          8,
          10,
          12,
          14,
          16,
          18,
          20,
          22
         ],
         "xaxis": "x17",
         "y": [
          0,
          0.7155509430614093,
          0.8563305460589163,
          -0.4914523270886179,
          0.8111653390396761,
          0.4140597509822334,
          0.02376092152925576,
          -0.2505637065581489,
          -0.41101018275500145,
          -0.3951291979600317,
          -0.14889885848702517,
          0.33416346290637244
         ],
         "yaxis": "y17"
        },
        {
         "hovertemplate": "Nuclide=114Sn<br>Angular Momentum (J)=%{x}<br>Normalized Residuals=%{y}<extra></extra>",
         "legendgroup": "",
         "marker": {
          "color": "#636efa",
          "symbol": "circle"
         },
         "mode": "markers",
         "name": "",
         "orientation": "v",
         "showlegend": false,
         "type": "scatter",
         "x": [
          0,
          2,
          4,
          6,
          8,
          10,
          12,
          14,
          16,
          18,
          20
         ],
         "xaxis": "x18",
         "y": [
          0,
          0.8982512105463843,
          0.8774413436451162,
          1.0227198410862444,
          0.6313420470572184,
          -0.7702154432688173,
          -0.4469225392951851,
          -0.5209860083109923,
          -0.5585734911181376,
          0.15482963944039538,
          0.5007974077014365
         ],
         "yaxis": "y18"
        },
        {
         "hovertemplate": "Nuclide=120Te<br>Angular Momentum (J)=%{x}<br>Normalized Residuals=%{y}<extra></extra>",
         "legendgroup": "",
         "marker": {
          "color": "#636efa",
          "symbol": "circle"
         },
         "mode": "markers",
         "name": "",
         "orientation": "v",
         "showlegend": false,
         "type": "scatter",
         "x": [
          0,
          2,
          4,
          6,
          8
         ],
         "xaxis": "x7",
         "y": [
          0,
          -0.21366068058183332,
          -0.29764523486386435,
          -0.3384469123611707,
          0.4560729719198438
         ],
         "yaxis": "y7"
        },
        {
         "hovertemplate": "Nuclide=124Te<br>Angular Momentum (J)=%{x}<br>Normalized Residuals=%{y}<extra></extra>",
         "legendgroup": "",
         "marker": {
          "color": "#636efa",
          "symbol": "circle"
         },
         "mode": "markers",
         "name": "",
         "orientation": "v",
         "showlegend": false,
         "type": "scatter",
         "x": [
          0,
          2,
          4,
          6,
          8
         ],
         "xaxis": "x8",
         "y": [
          0,
          -0.09649931353078407,
          -0.05679754409169772,
          -0.48285011204425854,
          0.41466118588192413
         ],
         "yaxis": "y8"
        },
        {
         "hovertemplate": "Nuclide=126Te<br>Angular Momentum (J)=%{x}<br>Normalized Residuals=%{y}<extra></extra>",
         "legendgroup": "",
         "marker": {
          "color": "#636efa",
          "symbol": "circle"
         },
         "mode": "markers",
         "name": "",
         "orientation": "v",
         "showlegend": false,
         "type": "scatter",
         "x": [
          0,
          2,
          4,
          6,
          8,
          10,
          12
         ],
         "xaxis": "x9",
         "y": [
          0,
          0.13553034695767868,
          0.36299895807435056,
          -0.30733664549534306,
          0.8650382358849492,
          -0.46543121838161317,
          -0.1787525319577487
         ],
         "yaxis": "y9"
        },
        {
         "hovertemplate": "Nuclide=130Xe<br>Angular Momentum (J)=%{x}<br>Normalized Residuals=%{y}<extra></extra>",
         "legendgroup": "",
         "marker": {
          "color": "#636efa",
          "symbol": "circle"
         },
         "mode": "markers",
         "name": "",
         "orientation": "v",
         "showlegend": false,
         "type": "scatter",
         "x": [
          0,
          2,
          4,
          6,
          8,
          10,
          12
         ],
         "xaxis": "x10",
         "y": [
          0,
          -0.275857435334583,
          -0.12562907804258636,
          0.2528905393879587,
          0.6741351652670856,
          -0.43990948790613826,
          -0.12142487557204516
         ],
         "yaxis": "y10"
        },
        {
         "hovertemplate": "Nuclide=132Xe<br>Angular Momentum (J)=%{x}<br>Normalized Residuals=%{y}<extra></extra>",
         "legendgroup": "",
         "marker": {
          "color": "#636efa",
          "symbol": "circle"
         },
         "mode": "markers",
         "name": "",
         "orientation": "v",
         "showlegend": false,
         "type": "scatter",
         "x": [
          0,
          2,
          4,
          6
         ],
         "xaxis": "x11",
         "y": [
          0,
          -0.10845628201830992,
          0.08023471468297341,
          -0.017337715745232497
         ],
         "yaxis": "y11"
        },
        {
         "hovertemplate": "Nuclide=134Ba<br>Angular Momentum (J)=%{x}<br>Normalized Residuals=%{y}<extra></extra>",
         "legendgroup": "",
         "marker": {
          "color": "#636efa",
          "symbol": "circle"
         },
         "mode": "markers",
         "name": "",
         "orientation": "v",
         "showlegend": false,
         "type": "scatter",
         "x": [
          0,
          2,
          4
         ],
         "xaxis": "x12",
         "y": [
          0,
          -0.22448723792648495,
          0.11224361898435736
         ],
         "yaxis": "y12"
        },
        {
         "hovertemplate": "Nuclide=136Ce<br>Angular Momentum (J)=%{x}<br>Normalized Residuals=%{y}<extra></extra>",
         "legendgroup": "",
         "marker": {
          "color": "#636efa",
          "symbol": "circle"
         },
         "mode": "markers",
         "name": "",
         "orientation": "v",
         "showlegend": false,
         "type": "scatter",
         "x": [
          0,
          2,
          4,
          6,
          8,
          10,
          12,
          14,
          16
         ],
         "xaxis": "x",
         "y": [
          0,
          -0.3732432222912552,
          -0.1287284681693931,
          0.5232342701093171,
          0.8090330790372663,
          -0.8797894628954512,
          -0.9199018931932756,
          0.10347000052862053,
          0.6273667129777482
         ],
         "yaxis": "y"
        },
        {
         "hovertemplate": "Nuclide=146Nd<br>Angular Momentum (J)=%{x}<br>Normalized Residuals=%{y}<extra></extra>",
         "legendgroup": "",
         "marker": {
          "color": "#636efa",
          "symbol": "circle"
         },
         "mode": "markers",
         "name": "",
         "orientation": "v",
         "showlegend": false,
         "type": "scatter",
         "x": [
          0,
          2,
          4,
          6,
          8,
          10,
          12,
          14,
          16,
          18,
          20
         ],
         "xaxis": "x2",
         "y": [
          0,
          -0.6066741898221145,
          -0.7972602273143135,
          -0.5352241420440282,
          -0.40302180547906424,
          -0.40961785574236914,
          -0.019866378035544727,
          0.4116382087370757,
          0.46429473236860686,
          0.11262151600272303,
          -0.0023177121232175186
         ],
         "yaxis": "y2"
        },
        {
         "hovertemplate": "Nuclide=150Sm<br>Angular Momentum (J)=%{x}<br>Normalized Residuals=%{y}<extra></extra>",
         "legendgroup": "",
         "marker": {
          "color": "#636efa",
          "symbol": "circle"
         },
         "mode": "markers",
         "name": "",
         "orientation": "v",
         "showlegend": false,
         "type": "scatter",
         "x": [
          0,
          2,
          4,
          6,
          8,
          10,
          12,
          14,
          16,
          18,
          20
         ],
         "xaxis": "x3",
         "y": [
          0,
          -0.739412756902209,
          -1.080728246190322,
          -1.1724251527388025,
          -1.0657226776423923,
          -0.8153844858345747,
          -0.49313784234610625,
          -0.12449986703846447,
          0.2531974407643819,
          0.6059815842054228,
          1.1108870191283737
         ],
         "yaxis": "y3"
        }
       ],
       "layout": {
        "annotations": [
         {
          "font": {},
          "showarrow": false,
          "text": "Nuclide=136Ce",
          "x": 0.075,
          "xanchor": "center",
          "xref": "paper",
          "y": 0.144,
          "yanchor": "bottom",
          "yref": "paper"
         },
         {
          "font": {},
          "showarrow": false,
          "text": "Nuclide=146Nd",
          "x": 0.24499999999999997,
          "xanchor": "center",
          "xref": "paper",
          "y": 0.144,
          "yanchor": "bottom",
          "yref": "paper"
         },
         {
          "font": {},
          "showarrow": false,
          "text": "Nuclide=150Sm",
          "x": 0.415,
          "xanchor": "center",
          "xref": "paper",
          "y": 0.144,
          "yanchor": "bottom",
          "yref": "paper"
         },
         {
          "font": {},
          "showarrow": false,
          "text": "Nuclide=120Te",
          "x": 0.075,
          "xanchor": "center",
          "xref": "paper",
          "y": 0.358,
          "yanchor": "bottom",
          "yref": "paper"
         },
         {
          "font": {},
          "showarrow": false,
          "text": "Nuclide=124Te",
          "x": 0.24499999999999997,
          "xanchor": "center",
          "xref": "paper",
          "y": 0.358,
          "yanchor": "bottom",
          "yref": "paper"
         },
         {
          "font": {},
          "showarrow": false,
          "text": "Nuclide=126Te",
          "x": 0.415,
          "xanchor": "center",
          "xref": "paper",
          "y": 0.358,
          "yanchor": "bottom",
          "yref": "paper"
         },
         {
          "font": {},
          "showarrow": false,
          "text": "Nuclide=130Xe",
          "x": 0.585,
          "xanchor": "center",
          "xref": "paper",
          "y": 0.358,
          "yanchor": "bottom",
          "yref": "paper"
         },
         {
          "font": {},
          "showarrow": false,
          "text": "Nuclide=132Xe",
          "x": 0.7549999999999999,
          "xanchor": "center",
          "xref": "paper",
          "y": 0.358,
          "yanchor": "bottom",
          "yref": "paper"
         },
         {
          "font": {},
          "showarrow": false,
          "text": "Nuclide=134Ba",
          "x": 0.925,
          "xanchor": "center",
          "xref": "paper",
          "y": 0.358,
          "yanchor": "bottom",
          "yref": "paper"
         },
         {
          "font": {},
          "showarrow": false,
          "text": "Nuclide=106Pd",
          "x": 0.075,
          "xanchor": "center",
          "xref": "paper",
          "y": 0.572,
          "yanchor": "bottom",
          "yref": "paper"
         },
         {
          "font": {},
          "showarrow": false,
          "text": "Nuclide=108Cd",
          "x": 0.24499999999999997,
          "xanchor": "center",
          "xref": "paper",
          "y": 0.572,
          "yanchor": "bottom",
          "yref": "paper"
         },
         {
          "font": {},
          "showarrow": false,
          "text": "Nuclide=112Cd",
          "x": 0.415,
          "xanchor": "center",
          "xref": "paper",
          "y": 0.572,
          "yanchor": "bottom",
          "yref": "paper"
         },
         {
          "font": {},
          "showarrow": false,
          "text": "Nuclide=114Cd",
          "x": 0.585,
          "xanchor": "center",
          "xref": "paper",
          "y": 0.572,
          "yanchor": "bottom",
          "yref": "paper"
         },
         {
          "font": {},
          "showarrow": false,
          "text": "Nuclide=112Sn",
          "x": 0.7549999999999999,
          "xanchor": "center",
          "xref": "paper",
          "y": 0.572,
          "yanchor": "bottom",
          "yref": "paper"
         },
         {
          "font": {},
          "showarrow": false,
          "text": "Nuclide=114Sn",
          "x": 0.925,
          "xanchor": "center",
          "xref": "paper",
          "y": 0.572,
          "yanchor": "bottom",
          "yref": "paper"
         },
         {
          "font": {},
          "showarrow": false,
          "text": "Nuclide=88Sr",
          "x": 0.075,
          "xanchor": "center",
          "xref": "paper",
          "y": 0.7859999999999999,
          "yanchor": "bottom",
          "yref": "paper"
         },
         {
          "font": {},
          "showarrow": false,
          "text": "Nuclide=94Mo",
          "x": 0.24499999999999997,
          "xanchor": "center",
          "xref": "paper",
          "y": 0.7859999999999999,
          "yanchor": "bottom",
          "yref": "paper"
         },
         {
          "font": {},
          "showarrow": false,
          "text": "Nuclide=96Mo",
          "x": 0.415,
          "xanchor": "center",
          "xref": "paper",
          "y": 0.7859999999999999,
          "yanchor": "bottom",
          "yref": "paper"
         },
         {
          "font": {},
          "showarrow": false,
          "text": "Nuclide=98Mo",
          "x": 0.585,
          "xanchor": "center",
          "xref": "paper",
          "y": 0.7859999999999999,
          "yanchor": "bottom",
          "yref": "paper"
         },
         {
          "font": {},
          "showarrow": false,
          "text": "Nuclide=98Ru",
          "x": 0.7549999999999999,
          "xanchor": "center",
          "xref": "paper",
          "y": 0.7859999999999999,
          "yanchor": "bottom",
          "yref": "paper"
         },
         {
          "font": {},
          "showarrow": false,
          "text": "Nuclide=104Pd",
          "x": 0.925,
          "xanchor": "center",
          "xref": "paper",
          "y": 0.7859999999999999,
          "yanchor": "bottom",
          "yref": "paper"
         },
         {
          "font": {},
          "showarrow": false,
          "text": "Nuclide=36S",
          "x": 0.075,
          "xanchor": "center",
          "xref": "paper",
          "y": 1,
          "yanchor": "bottom",
          "yref": "paper"
         },
         {
          "font": {},
          "showarrow": false,
          "text": "Nuclide=36Ar",
          "x": 0.24499999999999997,
          "xanchor": "center",
          "xref": "paper",
          "y": 1,
          "yanchor": "bottom",
          "yref": "paper"
         },
         {
          "font": {},
          "showarrow": false,
          "text": "Nuclide=60Ni",
          "x": 0.415,
          "xanchor": "center",
          "xref": "paper",
          "y": 1,
          "yanchor": "bottom",
          "yref": "paper"
         },
         {
          "font": {},
          "showarrow": false,
          "text": "Nuclide=68Zn",
          "x": 0.585,
          "xanchor": "center",
          "xref": "paper",
          "y": 1,
          "yanchor": "bottom",
          "yref": "paper"
         },
         {
          "font": {},
          "showarrow": false,
          "text": "Nuclide=70Ge",
          "x": 0.7549999999999999,
          "xanchor": "center",
          "xref": "paper",
          "y": 1,
          "yanchor": "bottom",
          "yref": "paper"
         },
         {
          "font": {},
          "showarrow": false,
          "text": "Nuclide=72Ge",
          "x": 0.925,
          "xanchor": "center",
          "xref": "paper",
          "y": 1,
          "yanchor": "bottom",
          "yref": "paper"
         }
        ],
        "height": 800,
        "legend": {
         "tracegroupgap": 0
        },
        "margin": {
         "t": 60
        },
        "template": {
         "data": {
          "bar": [
           {
            "error_x": {
             "color": "#2a3f5f"
            },
            "error_y": {
             "color": "#2a3f5f"
            },
            "marker": {
             "line": {
              "color": "#E5ECF6",
              "width": 0.5
             },
             "pattern": {
              "fillmode": "overlay",
              "size": 10,
              "solidity": 0.2
             }
            },
            "type": "bar"
           }
          ],
          "barpolar": [
           {
            "marker": {
             "line": {
              "color": "#E5ECF6",
              "width": 0.5
             },
             "pattern": {
              "fillmode": "overlay",
              "size": 10,
              "solidity": 0.2
             }
            },
            "type": "barpolar"
           }
          ],
          "carpet": [
           {
            "aaxis": {
             "endlinecolor": "#2a3f5f",
             "gridcolor": "white",
             "linecolor": "white",
             "minorgridcolor": "white",
             "startlinecolor": "#2a3f5f"
            },
            "baxis": {
             "endlinecolor": "#2a3f5f",
             "gridcolor": "white",
             "linecolor": "white",
             "minorgridcolor": "white",
             "startlinecolor": "#2a3f5f"
            },
            "type": "carpet"
           }
          ],
          "choropleth": [
           {
            "colorbar": {
             "outlinewidth": 0,
             "ticks": ""
            },
            "type": "choropleth"
           }
          ],
          "contour": [
           {
            "colorbar": {
             "outlinewidth": 0,
             "ticks": ""
            },
            "colorscale": [
             [
              0,
              "#0d0887"
             ],
             [
              0.1111111111111111,
              "#46039f"
             ],
             [
              0.2222222222222222,
              "#7201a8"
             ],
             [
              0.3333333333333333,
              "#9c179e"
             ],
             [
              0.4444444444444444,
              "#bd3786"
             ],
             [
              0.5555555555555556,
              "#d8576b"
             ],
             [
              0.6666666666666666,
              "#ed7953"
             ],
             [
              0.7777777777777778,
              "#fb9f3a"
             ],
             [
              0.8888888888888888,
              "#fdca26"
             ],
             [
              1,
              "#f0f921"
             ]
            ],
            "type": "contour"
           }
          ],
          "contourcarpet": [
           {
            "colorbar": {
             "outlinewidth": 0,
             "ticks": ""
            },
            "type": "contourcarpet"
           }
          ],
          "heatmap": [
           {
            "colorbar": {
             "outlinewidth": 0,
             "ticks": ""
            },
            "colorscale": [
             [
              0,
              "#0d0887"
             ],
             [
              0.1111111111111111,
              "#46039f"
             ],
             [
              0.2222222222222222,
              "#7201a8"
             ],
             [
              0.3333333333333333,
              "#9c179e"
             ],
             [
              0.4444444444444444,
              "#bd3786"
             ],
             [
              0.5555555555555556,
              "#d8576b"
             ],
             [
              0.6666666666666666,
              "#ed7953"
             ],
             [
              0.7777777777777778,
              "#fb9f3a"
             ],
             [
              0.8888888888888888,
              "#fdca26"
             ],
             [
              1,
              "#f0f921"
             ]
            ],
            "type": "heatmap"
           }
          ],
          "heatmapgl": [
           {
            "colorbar": {
             "outlinewidth": 0,
             "ticks": ""
            },
            "colorscale": [
             [
              0,
              "#0d0887"
             ],
             [
              0.1111111111111111,
              "#46039f"
             ],
             [
              0.2222222222222222,
              "#7201a8"
             ],
             [
              0.3333333333333333,
              "#9c179e"
             ],
             [
              0.4444444444444444,
              "#bd3786"
             ],
             [
              0.5555555555555556,
              "#d8576b"
             ],
             [
              0.6666666666666666,
              "#ed7953"
             ],
             [
              0.7777777777777778,
              "#fb9f3a"
             ],
             [
              0.8888888888888888,
              "#fdca26"
             ],
             [
              1,
              "#f0f921"
             ]
            ],
            "type": "heatmapgl"
           }
          ],
          "histogram": [
           {
            "marker": {
             "pattern": {
              "fillmode": "overlay",
              "size": 10,
              "solidity": 0.2
             }
            },
            "type": "histogram"
           }
          ],
          "histogram2d": [
           {
            "colorbar": {
             "outlinewidth": 0,
             "ticks": ""
            },
            "colorscale": [
             [
              0,
              "#0d0887"
             ],
             [
              0.1111111111111111,
              "#46039f"
             ],
             [
              0.2222222222222222,
              "#7201a8"
             ],
             [
              0.3333333333333333,
              "#9c179e"
             ],
             [
              0.4444444444444444,
              "#bd3786"
             ],
             [
              0.5555555555555556,
              "#d8576b"
             ],
             [
              0.6666666666666666,
              "#ed7953"
             ],
             [
              0.7777777777777778,
              "#fb9f3a"
             ],
             [
              0.8888888888888888,
              "#fdca26"
             ],
             [
              1,
              "#f0f921"
             ]
            ],
            "type": "histogram2d"
           }
          ],
          "histogram2dcontour": [
           {
            "colorbar": {
             "outlinewidth": 0,
             "ticks": ""
            },
            "colorscale": [
             [
              0,
              "#0d0887"
             ],
             [
              0.1111111111111111,
              "#46039f"
             ],
             [
              0.2222222222222222,
              "#7201a8"
             ],
             [
              0.3333333333333333,
              "#9c179e"
             ],
             [
              0.4444444444444444,
              "#bd3786"
             ],
             [
              0.5555555555555556,
              "#d8576b"
             ],
             [
              0.6666666666666666,
              "#ed7953"
             ],
             [
              0.7777777777777778,
              "#fb9f3a"
             ],
             [
              0.8888888888888888,
              "#fdca26"
             ],
             [
              1,
              "#f0f921"
             ]
            ],
            "type": "histogram2dcontour"
           }
          ],
          "mesh3d": [
           {
            "colorbar": {
             "outlinewidth": 0,
             "ticks": ""
            },
            "type": "mesh3d"
           }
          ],
          "parcoords": [
           {
            "line": {
             "colorbar": {
              "outlinewidth": 0,
              "ticks": ""
             }
            },
            "type": "parcoords"
           }
          ],
          "pie": [
           {
            "automargin": true,
            "type": "pie"
           }
          ],
          "scatter": [
           {
            "fillpattern": {
             "fillmode": "overlay",
             "size": 10,
             "solidity": 0.2
            },
            "type": "scatter"
           }
          ],
          "scatter3d": [
           {
            "line": {
             "colorbar": {
              "outlinewidth": 0,
              "ticks": ""
             }
            },
            "marker": {
             "colorbar": {
              "outlinewidth": 0,
              "ticks": ""
             }
            },
            "type": "scatter3d"
           }
          ],
          "scattercarpet": [
           {
            "marker": {
             "colorbar": {
              "outlinewidth": 0,
              "ticks": ""
             }
            },
            "type": "scattercarpet"
           }
          ],
          "scattergeo": [
           {
            "marker": {
             "colorbar": {
              "outlinewidth": 0,
              "ticks": ""
             }
            },
            "type": "scattergeo"
           }
          ],
          "scattergl": [
           {
            "marker": {
             "colorbar": {
              "outlinewidth": 0,
              "ticks": ""
             }
            },
            "type": "scattergl"
           }
          ],
          "scattermapbox": [
           {
            "marker": {
             "colorbar": {
              "outlinewidth": 0,
              "ticks": ""
             }
            },
            "type": "scattermapbox"
           }
          ],
          "scatterpolar": [
           {
            "marker": {
             "colorbar": {
              "outlinewidth": 0,
              "ticks": ""
             }
            },
            "type": "scatterpolar"
           }
          ],
          "scatterpolargl": [
           {
            "marker": {
             "colorbar": {
              "outlinewidth": 0,
              "ticks": ""
             }
            },
            "type": "scatterpolargl"
           }
          ],
          "scatterternary": [
           {
            "marker": {
             "colorbar": {
              "outlinewidth": 0,
              "ticks": ""
             }
            },
            "type": "scatterternary"
           }
          ],
          "surface": [
           {
            "colorbar": {
             "outlinewidth": 0,
             "ticks": ""
            },
            "colorscale": [
             [
              0,
              "#0d0887"
             ],
             [
              0.1111111111111111,
              "#46039f"
             ],
             [
              0.2222222222222222,
              "#7201a8"
             ],
             [
              0.3333333333333333,
              "#9c179e"
             ],
             [
              0.4444444444444444,
              "#bd3786"
             ],
             [
              0.5555555555555556,
              "#d8576b"
             ],
             [
              0.6666666666666666,
              "#ed7953"
             ],
             [
              0.7777777777777778,
              "#fb9f3a"
             ],
             [
              0.8888888888888888,
              "#fdca26"
             ],
             [
              1,
              "#f0f921"
             ]
            ],
            "type": "surface"
           }
          ],
          "table": [
           {
            "cells": {
             "fill": {
              "color": "#EBF0F8"
             },
             "line": {
              "color": "white"
             }
            },
            "header": {
             "fill": {
              "color": "#C8D4E3"
             },
             "line": {
              "color": "white"
             }
            },
            "type": "table"
           }
          ]
         },
         "layout": {
          "annotationdefaults": {
           "arrowcolor": "#2a3f5f",
           "arrowhead": 0,
           "arrowwidth": 1
          },
          "autotypenumbers": "strict",
          "coloraxis": {
           "colorbar": {
            "outlinewidth": 0,
            "ticks": ""
           }
          },
          "colorscale": {
           "diverging": [
            [
             0,
             "#8e0152"
            ],
            [
             0.1,
             "#c51b7d"
            ],
            [
             0.2,
             "#de77ae"
            ],
            [
             0.3,
             "#f1b6da"
            ],
            [
             0.4,
             "#fde0ef"
            ],
            [
             0.5,
             "#f7f7f7"
            ],
            [
             0.6,
             "#e6f5d0"
            ],
            [
             0.7,
             "#b8e186"
            ],
            [
             0.8,
             "#7fbc41"
            ],
            [
             0.9,
             "#4d9221"
            ],
            [
             1,
             "#276419"
            ]
           ],
           "sequential": [
            [
             0,
             "#0d0887"
            ],
            [
             0.1111111111111111,
             "#46039f"
            ],
            [
             0.2222222222222222,
             "#7201a8"
            ],
            [
             0.3333333333333333,
             "#9c179e"
            ],
            [
             0.4444444444444444,
             "#bd3786"
            ],
            [
             0.5555555555555556,
             "#d8576b"
            ],
            [
             0.6666666666666666,
             "#ed7953"
            ],
            [
             0.7777777777777778,
             "#fb9f3a"
            ],
            [
             0.8888888888888888,
             "#fdca26"
            ],
            [
             1,
             "#f0f921"
            ]
           ],
           "sequentialminus": [
            [
             0,
             "#0d0887"
            ],
            [
             0.1111111111111111,
             "#46039f"
            ],
            [
             0.2222222222222222,
             "#7201a8"
            ],
            [
             0.3333333333333333,
             "#9c179e"
            ],
            [
             0.4444444444444444,
             "#bd3786"
            ],
            [
             0.5555555555555556,
             "#d8576b"
            ],
            [
             0.6666666666666666,
             "#ed7953"
            ],
            [
             0.7777777777777778,
             "#fb9f3a"
            ],
            [
             0.8888888888888888,
             "#fdca26"
            ],
            [
             1,
             "#f0f921"
            ]
           ]
          },
          "colorway": [
           "#636efa",
           "#EF553B",
           "#00cc96",
           "#ab63fa",
           "#FFA15A",
           "#19d3f3",
           "#FF6692",
           "#B6E880",
           "#FF97FF",
           "#FECB52"
          ],
          "font": {
           "color": "#2a3f5f"
          },
          "geo": {
           "bgcolor": "white",
           "lakecolor": "white",
           "landcolor": "#E5ECF6",
           "showlakes": true,
           "showland": true,
           "subunitcolor": "white"
          },
          "hoverlabel": {
           "align": "left"
          },
          "hovermode": "closest",
          "mapbox": {
           "style": "light"
          },
          "paper_bgcolor": "white",
          "plot_bgcolor": "#E5ECF6",
          "polar": {
           "angularaxis": {
            "gridcolor": "white",
            "linecolor": "white",
            "ticks": ""
           },
           "bgcolor": "#E5ECF6",
           "radialaxis": {
            "gridcolor": "white",
            "linecolor": "white",
            "ticks": ""
           }
          },
          "scene": {
           "xaxis": {
            "backgroundcolor": "#E5ECF6",
            "gridcolor": "white",
            "gridwidth": 2,
            "linecolor": "white",
            "showbackground": true,
            "ticks": "",
            "zerolinecolor": "white"
           },
           "yaxis": {
            "backgroundcolor": "#E5ECF6",
            "gridcolor": "white",
            "gridwidth": 2,
            "linecolor": "white",
            "showbackground": true,
            "ticks": "",
            "zerolinecolor": "white"
           },
           "zaxis": {
            "backgroundcolor": "#E5ECF6",
            "gridcolor": "white",
            "gridwidth": 2,
            "linecolor": "white",
            "showbackground": true,
            "ticks": "",
            "zerolinecolor": "white"
           }
          },
          "shapedefaults": {
           "line": {
            "color": "#2a3f5f"
           }
          },
          "ternary": {
           "aaxis": {
            "gridcolor": "white",
            "linecolor": "white",
            "ticks": ""
           },
           "baxis": {
            "gridcolor": "white",
            "linecolor": "white",
            "ticks": ""
           },
           "bgcolor": "#E5ECF6",
           "caxis": {
            "gridcolor": "white",
            "linecolor": "white",
            "ticks": ""
           }
          },
          "title": {
           "x": 0.05
          },
          "xaxis": {
           "automargin": true,
           "gridcolor": "white",
           "linecolor": "white",
           "ticks": "",
           "title": {
            "standoff": 15
           },
           "zerolinecolor": "white",
           "zerolinewidth": 2
          },
          "yaxis": {
           "automargin": true,
           "gridcolor": "white",
           "linecolor": "white",
           "ticks": "",
           "title": {
            "standoff": 15
           },
           "zerolinecolor": "white",
           "zerolinewidth": 2
          }
         }
        },
        "xaxis": {
         "anchor": "y",
         "domain": [
          0,
          0.15
         ],
         "title": {
          "text": "Angular Momentum (J)"
         }
        },
        "xaxis10": {
         "anchor": "y10",
         "domain": [
          0.51,
          0.66
         ],
         "matches": "x",
         "showticklabels": false
        },
        "xaxis11": {
         "anchor": "y11",
         "domain": [
          0.6799999999999999,
          0.83
         ],
         "matches": "x",
         "showticklabels": false
        },
        "xaxis12": {
         "anchor": "y12",
         "domain": [
          0.85,
          1
         ],
         "matches": "x",
         "showticklabels": false
        },
        "xaxis13": {
         "anchor": "y13",
         "domain": [
          0,
          0.15
         ],
         "matches": "x",
         "showticklabels": false
        },
        "xaxis14": {
         "anchor": "y14",
         "domain": [
          0.16999999999999998,
          0.31999999999999995
         ],
         "matches": "x",
         "showticklabels": false
        },
        "xaxis15": {
         "anchor": "y15",
         "domain": [
          0.33999999999999997,
          0.49
         ],
         "matches": "x",
         "showticklabels": false
        },
        "xaxis16": {
         "anchor": "y16",
         "domain": [
          0.51,
          0.66
         ],
         "matches": "x",
         "showticklabels": false
        },
        "xaxis17": {
         "anchor": "y17",
         "domain": [
          0.6799999999999999,
          0.83
         ],
         "matches": "x",
         "showticklabels": false
        },
        "xaxis18": {
         "anchor": "y18",
         "domain": [
          0.85,
          1
         ],
         "matches": "x",
         "showticklabels": false
        },
        "xaxis19": {
         "anchor": "y19",
         "domain": [
          0,
          0.15
         ],
         "matches": "x",
         "showticklabels": false
        },
        "xaxis2": {
         "anchor": "y2",
         "domain": [
          0.16999999999999998,
          0.31999999999999995
         ],
         "matches": "x",
         "title": {
          "text": "Angular Momentum (J)"
         }
        },
        "xaxis20": {
         "anchor": "y20",
         "domain": [
          0.16999999999999998,
          0.31999999999999995
         ],
         "matches": "x",
         "showticklabels": false
        },
        "xaxis21": {
         "anchor": "y21",
         "domain": [
          0.33999999999999997,
          0.49
         ],
         "matches": "x",
         "showticklabels": false
        },
        "xaxis22": {
         "anchor": "y22",
         "domain": [
          0.51,
          0.66
         ],
         "matches": "x",
         "showticklabels": false
        },
        "xaxis23": {
         "anchor": "y23",
         "domain": [
          0.6799999999999999,
          0.83
         ],
         "matches": "x",
         "showticklabels": false
        },
        "xaxis24": {
         "anchor": "y24",
         "domain": [
          0.85,
          1
         ],
         "matches": "x",
         "showticklabels": false
        },
        "xaxis25": {
         "anchor": "y25",
         "domain": [
          0,
          0.15
         ],
         "matches": "x",
         "showticklabels": false
        },
        "xaxis26": {
         "anchor": "y26",
         "domain": [
          0.16999999999999998,
          0.31999999999999995
         ],
         "matches": "x",
         "showticklabels": false
        },
        "xaxis27": {
         "anchor": "y27",
         "domain": [
          0.33999999999999997,
          0.49
         ],
         "matches": "x",
         "showticklabels": false
        },
        "xaxis28": {
         "anchor": "y28",
         "domain": [
          0.51,
          0.66
         ],
         "matches": "x",
         "showticklabels": false
        },
        "xaxis29": {
         "anchor": "y29",
         "domain": [
          0.6799999999999999,
          0.83
         ],
         "matches": "x",
         "showticklabels": false
        },
        "xaxis3": {
         "anchor": "y3",
         "domain": [
          0.33999999999999997,
          0.49
         ],
         "matches": "x",
         "title": {
          "text": "Angular Momentum (J)"
         }
        },
        "xaxis30": {
         "anchor": "y30",
         "domain": [
          0.85,
          1
         ],
         "matches": "x",
         "showticklabels": false
        },
        "xaxis4": {
         "anchor": "y4",
         "domain": [
          0.51,
          0.66
         ],
         "matches": "x",
         "title": {
          "text": "Angular Momentum (J)"
         }
        },
        "xaxis5": {
         "anchor": "y5",
         "domain": [
          0.6799999999999999,
          0.83
         ],
         "matches": "x",
         "title": {
          "text": "Angular Momentum (J)"
         }
        },
        "xaxis6": {
         "anchor": "y6",
         "domain": [
          0.85,
          1
         ],
         "matches": "x",
         "title": {
          "text": "Angular Momentum (J)"
         }
        },
        "xaxis7": {
         "anchor": "y7",
         "domain": [
          0,
          0.15
         ],
         "matches": "x",
         "showticklabels": false
        },
        "xaxis8": {
         "anchor": "y8",
         "domain": [
          0.16999999999999998,
          0.31999999999999995
         ],
         "matches": "x",
         "showticklabels": false
        },
        "xaxis9": {
         "anchor": "y9",
         "domain": [
          0.33999999999999997,
          0.49
         ],
         "matches": "x",
         "showticklabels": false
        },
        "yaxis": {
         "anchor": "x",
         "domain": [
          0,
          0.144
         ],
         "range": [
          -0.7,
          0.7
         ],
         "title": {
          "text": "Normalized Residuals"
         }
        },
        "yaxis10": {
         "anchor": "x10",
         "domain": [
          0.214,
          0.358
         ],
         "matches": "y",
         "range": [
          -0.7,
          0.7
         ],
         "showticklabels": false
        },
        "yaxis11": {
         "anchor": "x11",
         "domain": [
          0.214,
          0.358
         ],
         "matches": "y",
         "range": [
          -0.7,
          0.7
         ],
         "showticklabels": false
        },
        "yaxis12": {
         "anchor": "x12",
         "domain": [
          0.214,
          0.358
         ],
         "matches": "y",
         "range": [
          -0.7,
          0.7
         ],
         "showticklabels": false
        },
        "yaxis13": {
         "anchor": "x13",
         "domain": [
          0.428,
          0.572
         ],
         "matches": "y",
         "range": [
          -0.7,
          0.7
         ],
         "title": {
          "text": "Normalized Residuals"
         }
        },
        "yaxis14": {
         "anchor": "x14",
         "domain": [
          0.428,
          0.572
         ],
         "matches": "y",
         "range": [
          -0.7,
          0.7
         ],
         "showticklabels": false
        },
        "yaxis15": {
         "anchor": "x15",
         "domain": [
          0.428,
          0.572
         ],
         "matches": "y",
         "range": [
          -0.7,
          0.7
         ],
         "showticklabels": false
        },
        "yaxis16": {
         "anchor": "x16",
         "domain": [
          0.428,
          0.572
         ],
         "matches": "y",
         "range": [
          -0.7,
          0.7
         ],
         "showticklabels": false
        },
        "yaxis17": {
         "anchor": "x17",
         "domain": [
          0.428,
          0.572
         ],
         "matches": "y",
         "range": [
          -0.7,
          0.7
         ],
         "showticklabels": false
        },
        "yaxis18": {
         "anchor": "x18",
         "domain": [
          0.428,
          0.572
         ],
         "matches": "y",
         "range": [
          -0.7,
          0.7
         ],
         "showticklabels": false
        },
        "yaxis19": {
         "anchor": "x19",
         "domain": [
          0.6419999999999999,
          0.7859999999999999
         ],
         "matches": "y",
         "range": [
          -0.7,
          0.7
         ],
         "title": {
          "text": "Normalized Residuals"
         }
        },
        "yaxis2": {
         "anchor": "x2",
         "domain": [
          0,
          0.144
         ],
         "matches": "y",
         "range": [
          -0.7,
          0.7
         ],
         "showticklabels": false
        },
        "yaxis20": {
         "anchor": "x20",
         "domain": [
          0.6419999999999999,
          0.7859999999999999
         ],
         "matches": "y",
         "range": [
          -0.7,
          0.7
         ],
         "showticklabels": false
        },
        "yaxis21": {
         "anchor": "x21",
         "domain": [
          0.6419999999999999,
          0.7859999999999999
         ],
         "matches": "y",
         "range": [
          -0.7,
          0.7
         ],
         "showticklabels": false
        },
        "yaxis22": {
         "anchor": "x22",
         "domain": [
          0.6419999999999999,
          0.7859999999999999
         ],
         "matches": "y",
         "range": [
          -0.7,
          0.7
         ],
         "showticklabels": false
        },
        "yaxis23": {
         "anchor": "x23",
         "domain": [
          0.6419999999999999,
          0.7859999999999999
         ],
         "matches": "y",
         "range": [
          -0.7,
          0.7
         ],
         "showticklabels": false
        },
        "yaxis24": {
         "anchor": "x24",
         "domain": [
          0.6419999999999999,
          0.7859999999999999
         ],
         "matches": "y",
         "range": [
          -0.7,
          0.7
         ],
         "showticklabels": false
        },
        "yaxis25": {
         "anchor": "x25",
         "domain": [
          0.856,
          1
         ],
         "matches": "y",
         "range": [
          -0.7,
          0.7
         ],
         "title": {
          "text": "Normalized Residuals"
         }
        },
        "yaxis26": {
         "anchor": "x26",
         "domain": [
          0.856,
          1
         ],
         "matches": "y",
         "range": [
          -0.7,
          0.7
         ],
         "showticklabels": false
        },
        "yaxis27": {
         "anchor": "x27",
         "domain": [
          0.856,
          1
         ],
         "matches": "y",
         "range": [
          -0.7,
          0.7
         ],
         "showticklabels": false
        },
        "yaxis28": {
         "anchor": "x28",
         "domain": [
          0.856,
          1
         ],
         "matches": "y",
         "range": [
          -0.7,
          0.7
         ],
         "showticklabels": false
        },
        "yaxis29": {
         "anchor": "x29",
         "domain": [
          0.856,
          1
         ],
         "matches": "y",
         "range": [
          -0.7,
          0.7
         ],
         "showticklabels": false
        },
        "yaxis3": {
         "anchor": "x3",
         "domain": [
          0,
          0.144
         ],
         "matches": "y",
         "range": [
          -0.7,
          0.7
         ],
         "showticklabels": false
        },
        "yaxis30": {
         "anchor": "x30",
         "domain": [
          0.856,
          1
         ],
         "matches": "y",
         "range": [
          -0.7,
          0.7
         ],
         "showticklabels": false
        },
        "yaxis4": {
         "anchor": "x4",
         "domain": [
          0,
          0.144
         ],
         "matches": "y",
         "range": [
          -0.7,
          0.7
         ],
         "showticklabels": false
        },
        "yaxis5": {
         "anchor": "x5",
         "domain": [
          0,
          0.144
         ],
         "matches": "y",
         "range": [
          -0.7,
          0.7
         ],
         "showticklabels": false
        },
        "yaxis6": {
         "anchor": "x6",
         "domain": [
          0,
          0.144
         ],
         "matches": "y",
         "range": [
          -0.7,
          0.7
         ],
         "showticklabels": false
        },
        "yaxis7": {
         "anchor": "x7",
         "domain": [
          0.214,
          0.358
         ],
         "matches": "y",
         "range": [
          -0.7,
          0.7
         ],
         "title": {
          "text": "Normalized Residuals"
         }
        },
        "yaxis8": {
         "anchor": "x8",
         "domain": [
          0.214,
          0.358
         ],
         "matches": "y",
         "range": [
          -0.7,
          0.7
         ],
         "showticklabels": false
        },
        "yaxis9": {
         "anchor": "x9",
         "domain": [
          0.214,
          0.358
         ],
         "matches": "y",
         "range": [
          -0.7,
          0.7
         ],
         "showticklabels": false
        }
       }
      }
     },
     "metadata": {},
     "output_type": "display_data"
    }
   ],
   "source": [
    "residuals_df = merged.copy()\n",
    "residuals_df = residuals_df.reset_index()\n",
    "residuals_df[\"name\"] = residuals_df[\"a\"].astype(str) + residuals_df[\"symbol\"]\n",
    "residuals_df[\"residuals\"] = residuals_df[\"energy\"] - residuals_df[\"energy_pred\"]\n",
    "residuals_df[\"normalized_residuals\"] = residuals_df[\"residuals\"] / residuals_df[\"energy_quantum\"]\n",
    "\n",
    "best_residuals = get_best_r2(residuals_df, 0.985)\n",
    "fig = px.scatter(best_residuals, x=\"j_float\", y=\"normalized_residuals\", facet_col=\"name\", facet_col_wrap=6, \n",
    "                 labels={\"j_float\": \"Angular Momentum (J)\", \"normalized_residuals\": \"Normalized Residuals\", \"name\": \"Nuclide\"},\n",
    "                 height=800)\n",
    "\n",
    "fig.update_yaxes(range=[-0.7, 0.7])\n",
    "fig.show()"
   ]
  }
 ],
 "metadata": {
  "kernelspec": {
   "display_name": "nuclei",
   "language": "python",
   "name": "python3"
  },
  "language_info": {
   "codemirror_mode": {
    "name": "ipython",
    "version": 3
   },
   "file_extension": ".py",
   "mimetype": "text/x-python",
   "name": "python",
   "nbconvert_exporter": "python",
   "pygments_lexer": "ipython3",
   "version": "3.13.0"
  }
 },
 "nbformat": 4,
 "nbformat_minor": 2
}
