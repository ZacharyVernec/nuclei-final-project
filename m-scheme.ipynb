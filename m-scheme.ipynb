{
 "cells": [
  {
   "cell_type": "code",
   "execution_count": 47,
   "metadata": {},
   "outputs": [],
   "source": [
    "import numpy as np\n",
    "\n",
    "from itertools import product"
   ]
  },
  {
   "cell_type": "code",
   "execution_count": null,
   "metadata": {},
   "outputs": [],
   "source": [
    "# def m_generator(j, disallowed=set()):\n",
    "#     m = j\n",
    "\n",
    "#     while m in disallowed:\n",
    "#         m -= 1\n",
    "\n",
    "#     while m >= 0:\n",
    "#         yield m\n",
    "#         m -= 1\n",
    "#         while m in disallowed:\n",
    "#             m -= 1"
   ]
  },
  {
   "cell_type": "code",
   "execution_count": 111,
   "metadata": {},
   "outputs": [],
   "source": [
    "def m_generator(j, allow_neg=True):\n",
    "    m = j\n",
    "\n",
    "    last = -j if allow_neg else 0\n",
    "    \n",
    "    while m >= last:\n",
    "        yield m\n",
    "        m -= 1"
   ]
  },
  {
   "cell_type": "code",
   "execution_count": 68,
   "metadata": {},
   "outputs": [],
   "source": [
    "def is_fermion(j):\n",
    "    return j != int(j)"
   ]
  },
  {
   "cell_type": "code",
   "execution_count": null,
   "metadata": {},
   "outputs": [],
   "source": [
    "def total_m_generator(particle_js, allow_neg=False):\n",
    "\n",
    "    are_fermions = np.array([is_fermion(j) for j in particle_js])\n",
    "\n",
    "    m_generators = [m_generator(particle_js[0], allow_neg=False)] + [m_generator(j) for j in particle_js[1:]]\n",
    "\n",
    "    for ms in product(*m_generators):\n",
    "        ms = np.array(ms)\n",
    "\n",
    "        # ordering\n",
    "        if np.any(np.diff(ms) > 0):\n",
    "            continue\n",
    "        \n",
    "        # Pauli exclusion\n",
    "        fermion_ms = ms[are_fermions]\n",
    "        if fermion_ms.size != np.unique(fermion_ms).size:\n",
    "            continue\n",
    "        \n",
    "        # negative m\n",
    "        if not allow_neg and np.sum(ms) < 0:\n",
    "            continue\n",
    "\n",
    "        yield ms, np.sum(ms)\n",
    "        "
   ]
  },
  {
   "cell_type": "code",
   "execution_count": 207,
   "metadata": {},
   "outputs": [],
   "source": [
    "def allowed_total_j(particle_js):\n",
    "    m_tots = [m_tots for ms, m_tots in total_m_generator(particle_js)]\n",
    "    allowed_total_j = []\n",
    "\n",
    "    while m_tots:\n",
    "        # print(m_tots)\n",
    "        biggest_m_tot = m_tots.pop(0)\n",
    "        allowed_total_j.append(biggest_m_tot)\n",
    "\n",
    "        for j in m_generator(biggest_m_tot-1, allow_neg=False):\n",
    "            m_tots.remove(np.float64(j))\n",
    "\n",
    "    return np.array(allowed_total_j)"
   ]
  },
  {
   "cell_type": "code",
   "execution_count": 208,
   "metadata": {},
   "outputs": [
    {
     "name": "stdout",
     "output_type": "stream",
     "text": [
      "[2.5 1.5 0.5] 4.5\n",
      "[ 2.5  1.5 -0.5] 3.5\n",
      "[ 2.5  1.5 -1.5] 2.5\n",
      "[ 2.5  1.5 -2.5] 1.5\n",
      "[ 2.5  0.5 -0.5] 2.5\n",
      "[ 2.5  0.5 -1.5] 1.5\n",
      "[ 2.5  0.5 -2.5] 0.5\n",
      "[ 2.5 -0.5 -1.5] 0.5\n",
      "[ 1.5  0.5 -0.5] 1.5\n",
      "[ 1.5  0.5 -1.5] 0.5\n"
     ]
    },
    {
     "data": {
      "text/plain": [
       "array([4.5, 2.5, 1.5])"
      ]
     },
     "execution_count": 208,
     "metadata": {},
     "output_type": "execute_result"
    }
   ],
   "source": [
    "for ms, m_tots in total_m_generator([5/2, 5/2, 5/2]):\n",
    "    print(ms, m_tots)\n",
    "allowed_total_j([5/2, 5/2, 5/2])"
   ]
  },
  {
   "cell_type": "code",
   "execution_count": 209,
   "metadata": {},
   "outputs": [
    {
     "name": "stdout",
     "output_type": "stream",
     "text": [
      "[2 2 2] 6\n",
      "[2 2 1] 5\n",
      "[2 2 0] 4\n",
      "[ 2  2 -1] 3\n",
      "[ 2  2 -2] 2\n",
      "[2 1 1] 4\n",
      "[2 1 0] 3\n",
      "[ 2  1 -1] 2\n",
      "[ 2  1 -2] 1\n",
      "[2 0 0] 2\n",
      "[ 2  0 -1] 1\n",
      "[ 2  0 -2] 0\n",
      "[ 2 -1 -1] 0\n",
      "[1 1 1] 3\n",
      "[1 1 0] 2\n",
      "[ 1  1 -1] 1\n",
      "[ 1  1 -2] 0\n",
      "[1 0 0] 1\n",
      "[ 1  0 -1] 0\n",
      "[0 0 0] 0\n"
     ]
    },
    {
     "data": {
      "text/plain": [
       "array([6, 4, 2, 3, 0])"
      ]
     },
     "execution_count": 209,
     "metadata": {},
     "output_type": "execute_result"
    }
   ],
   "source": [
    "for ms, m_tots in total_m_generator([2,2,2]):\n",
    "    print(ms, m_tots)\n",
    "allowed_total_j([2,2,2])"
   ]
  },
  {
   "cell_type": "code",
   "execution_count": 210,
   "metadata": {},
   "outputs": [
    {
     "name": "stdout",
     "output_type": "stream",
     "text": [
      "Allowed J for n quadrupole phonons:\n",
      "n J\n",
      "1 [2]\n",
      "2 [4 2 0]\n",
      "3 [6 4 2 3 0]\n",
      "4 [8 6 4 5 2 4 2 0]\n",
      "5 [10  8  6  7  4  6  4  2  5  3  2  0]\n",
      "6 [12 10  8  9  6  8  6  4  7  5  4  2  6  4  3  2  0  0]\n",
      "7 [14 12 10 11  8 10  8  6  9  7  6  4  8  6  5  4  2  2  7  5  4  3  2  0]\n",
      "8 [16 14 12 13 10 12 10  8 11  9  8  6 10  8  7  6  4  4  9  7  6  5  4  2\n",
      "  8  6  5  4  2  3  2  0  0]\n"
     ]
    }
   ],
   "source": [
    "print(\"Allowed J for n quadrupole phonons:\")\n",
    "print(\"n\", \"J\")\n",
    "for i in range(1, 9):\n",
    "    print(i, allowed_total_j([2]*i))"
   ]
  },
  {
   "cell_type": "code",
   "execution_count": 228,
   "metadata": {},
   "outputs": [
    {
     "name": "stdout",
     "output_type": "stream",
     "text": [
      "\n",
      "[12 11 10  9  8 10  9  8  7  8  7  6  6  5  4  9  8  7  6  7  6  5  5  4\n",
      "  3  6  5  4  4  3  2  3  2  1  0  8  7  6  5  6  5  4  4  3  2  5  4  3\n",
      "  3  2  1  2  1  0  4  3  2  2  1  0  1  0  0  7  6  5  4  5  4  3  3  2\n",
      "  1  4  3  2  2  1  0  1  0  3  2  1  1  0  0  2  1  0  0  6  5  4  3  4\n",
      "  3  2  2  1  0  3  2  1  1  0  0  2  1  0  0  1  0  0]\n",
      "\n",
      "[12 11 10  9  8  7  6  5  4  3  2  1  0]\n",
      "[ 1  1  2  3  5  6  9 10 13 14 16 16 18]\n"
     ]
    }
   ],
   "source": [
    "total_ms = []\n",
    "for i,j in total_m_generator([2]*6): \n",
    "    total_ms.append(j)\n",
    "    # print(i,j)\n",
    "\n",
    "print()\n",
    "print(np.array(total_ms))\n",
    "unique_vals, counts = np.unique(total_ms, return_counts=True)\n",
    "\n",
    "print()\n",
    "\n",
    "unique_vals = unique_vals[::-1]\n",
    "counts = counts[::-1]\n",
    "\n",
    "print(unique_vals)\n",
    "print(counts)"
   ]
  },
  {
   "cell_type": "code",
   "execution_count": null,
   "metadata": {},
   "outputs": [
    {
     "name": "stdout",
     "output_type": "stream",
     "text": [
      "[np.int64(12), np.int64(11), np.int64(10), np.int64(9), np.int64(8), np.int64(10), np.int64(9), np.int64(8), np.int64(7), np.int64(8), np.int64(7), np.int64(6), np.int64(6), np.int64(5), np.int64(4), np.int64(9), np.int64(8), np.int64(7), np.int64(6), np.int64(7), np.int64(6), np.int64(5), np.int64(5), np.int64(4), np.int64(3), np.int64(6), np.int64(5), np.int64(4), np.int64(4), np.int64(3), np.int64(2), np.int64(3), np.int64(2), np.int64(1), np.int64(0), np.int64(8), np.int64(7), np.int64(6), np.int64(5), np.int64(6), np.int64(5), np.int64(4), np.int64(4), np.int64(3), np.int64(2), np.int64(5), np.int64(4), np.int64(3), np.int64(3), np.int64(2), np.int64(1), np.int64(2), np.int64(1), np.int64(0), np.int64(4), np.int64(3), np.int64(2), np.int64(2), np.int64(1), np.int64(0), np.int64(1), np.int64(0), np.int64(0), np.int64(7), np.int64(6), np.int64(5), np.int64(4), np.int64(5), np.int64(4), np.int64(3), np.int64(3), np.int64(2), np.int64(1), np.int64(4), np.int64(3), np.int64(2), np.int64(2), np.int64(1), np.int64(0), np.int64(1), np.int64(0), np.int64(3), np.int64(2), np.int64(1), np.int64(1), np.int64(0), np.int64(0), np.int64(2), np.int64(1), np.int64(0), np.int64(0), np.int64(6), np.int64(5), np.int64(4), np.int64(3), np.int64(4), np.int64(3), np.int64(2), np.int64(2), np.int64(1), np.int64(0), np.int64(3), np.int64(2), np.int64(1), np.int64(1), np.int64(0), np.int64(0), np.int64(2), np.int64(1), np.int64(0), np.int64(0), np.int64(1), np.int64(0), np.int64(0)]\n",
      "[np.int64(10), np.int64(9), np.int64(8), np.int64(8), np.int64(7), np.int64(6), np.int64(9), np.int64(8), np.int64(7), np.int64(6), np.int64(7), np.int64(6), np.int64(5), np.int64(5), np.int64(4), np.int64(6), np.int64(5), np.int64(4), np.int64(4), np.int64(3), np.int64(3), np.int64(2), np.int64(8), np.int64(7), np.int64(6), np.int64(5), np.int64(6), np.int64(5), np.int64(4), np.int64(4), np.int64(3), np.int64(2), np.int64(5), np.int64(4), np.int64(3), np.int64(3), np.int64(2), np.int64(1), np.int64(2), np.int64(1), np.int64(0), np.int64(4), np.int64(3), np.int64(2), np.int64(2), np.int64(1), np.int64(0), np.int64(1), np.int64(0), np.int64(0), np.int64(7), np.int64(6), np.int64(5), np.int64(4), np.int64(5), np.int64(4), np.int64(3), np.int64(3), np.int64(2), np.int64(1), np.int64(4), np.int64(3), np.int64(2), np.int64(2), np.int64(1), np.int64(0), np.int64(1), np.int64(0), np.int64(3), np.int64(2), np.int64(1), np.int64(1), np.int64(0), np.int64(0), np.int64(2), np.int64(1), np.int64(0), np.int64(0), np.int64(6), np.int64(5), np.int64(4), np.int64(3), np.int64(4), np.int64(3), np.int64(2), np.int64(2), np.int64(1), np.int64(0), np.int64(3), np.int64(2), np.int64(1), np.int64(1), np.int64(0), np.int64(0), np.int64(2), np.int64(1), np.int64(0), np.int64(0), np.int64(1), np.int64(0), np.int64(0)]\n",
      "[np.int64(8), np.int64(9), np.int64(8), np.int64(7), np.int64(6), np.int64(7), np.int64(6), np.int64(5), np.int64(6), np.int64(5), np.int64(4), np.int64(4), np.int64(3), np.int64(8), np.int64(7), np.int64(6), np.int64(5), np.int64(6), np.int64(5), np.int64(4), np.int64(4), np.int64(3), np.int64(2), np.int64(5), np.int64(4), np.int64(3), np.int64(3), np.int64(2), np.int64(2), np.int64(1), np.int64(4), np.int64(3), np.int64(2), np.int64(2), np.int64(1), np.int64(0), np.int64(1), np.int64(0), np.int64(0), np.int64(7), np.int64(6), np.int64(5), np.int64(4), np.int64(5), np.int64(4), np.int64(3), np.int64(3), np.int64(2), np.int64(1), np.int64(4), np.int64(3), np.int64(2), np.int64(2), np.int64(1), np.int64(0), np.int64(1), np.int64(0), np.int64(3), np.int64(2), np.int64(1), np.int64(1), np.int64(0), np.int64(0), np.int64(2), np.int64(1), np.int64(0), np.int64(0), np.int64(6), np.int64(5), np.int64(4), np.int64(3), np.int64(4), np.int64(3), np.int64(2), np.int64(2), np.int64(1), np.int64(0), np.int64(3), np.int64(2), np.int64(1), np.int64(1), np.int64(0), np.int64(0), np.int64(2), np.int64(1), np.int64(0), np.int64(0), np.int64(1), np.int64(0), np.int64(0)]\n",
      "[np.int64(9), np.int64(8), np.int64(7), np.int64(6), np.int64(6), np.int64(5), np.int64(4), np.int64(8), np.int64(7), np.int64(6), np.int64(5), np.int64(6), np.int64(5), np.int64(4), np.int64(4), np.int64(3), np.int64(5), np.int64(4), np.int64(3), np.int64(3), np.int64(2), np.int64(2), np.int64(4), np.int64(3), np.int64(2), np.int64(2), np.int64(1), np.int64(1), np.int64(0), np.int64(0), np.int64(7), np.int64(6), np.int64(5), np.int64(4), np.int64(5), np.int64(4), np.int64(3), np.int64(3), np.int64(2), np.int64(1), np.int64(4), np.int64(3), np.int64(2), np.int64(2), np.int64(1), np.int64(0), np.int64(1), np.int64(0), np.int64(3), np.int64(2), np.int64(1), np.int64(1), np.int64(0), np.int64(0), np.int64(2), np.int64(1), np.int64(0), np.int64(0), np.int64(6), np.int64(5), np.int64(4), np.int64(3), np.int64(4), np.int64(3), np.int64(2), np.int64(2), np.int64(1), np.int64(0), np.int64(3), np.int64(2), np.int64(1), np.int64(1), np.int64(0), np.int64(0), np.int64(2), np.int64(1), np.int64(0), np.int64(0), np.int64(1), np.int64(0), np.int64(0)]\n",
      "[np.int64(6), np.int64(8), np.int64(7), np.int64(6), np.int64(5), np.int64(6), np.int64(5), np.int64(4), np.int64(4), np.int64(5), np.int64(4), np.int64(3), np.int64(3), np.int64(2), np.int64(4), np.int64(3), np.int64(2), np.int64(2), np.int64(1), np.int64(0), np.int64(7), np.int64(6), np.int64(5), np.int64(4), np.int64(5), np.int64(4), np.int64(3), np.int64(3), np.int64(2), np.int64(1), np.int64(4), np.int64(3), np.int64(2), np.int64(2), np.int64(1), np.int64(0), np.int64(1), np.int64(0), np.int64(3), np.int64(2), np.int64(1), np.int64(1), np.int64(0), np.int64(0), np.int64(2), np.int64(1), np.int64(0), np.int64(0), np.int64(6), np.int64(5), np.int64(4), np.int64(3), np.int64(4), np.int64(3), np.int64(2), np.int64(2), np.int64(1), np.int64(0), np.int64(3), np.int64(2), np.int64(1), np.int64(1), np.int64(0), np.int64(0), np.int64(2), np.int64(1), np.int64(0), np.int64(0), np.int64(1), np.int64(0), np.int64(0)]\n",
      "[np.int64(8), np.int64(7), np.int64(6), np.int64(6), np.int64(5), np.int64(4), np.int64(5), np.int64(4), np.int64(3), np.int64(4), np.int64(3), np.int64(2), np.int64(2), np.int64(7), np.int64(6), np.int64(5), np.int64(4), np.int64(5), np.int64(4), np.int64(3), np.int64(3), np.int64(2), np.int64(1), np.int64(4), np.int64(3), np.int64(2), np.int64(2), np.int64(1), np.int64(0), np.int64(1), np.int64(0), np.int64(3), np.int64(2), np.int64(1), np.int64(1), np.int64(0), np.int64(0), np.int64(2), np.int64(1), np.int64(0), np.int64(0), np.int64(6), np.int64(5), np.int64(4), np.int64(3), np.int64(4), np.int64(3), np.int64(2), np.int64(2), np.int64(1), np.int64(0), np.int64(3), np.int64(2), np.int64(1), np.int64(1), np.int64(0), np.int64(0), np.int64(2), np.int64(1), np.int64(0), np.int64(0), np.int64(1), np.int64(0), np.int64(0)]\n",
      "[np.int64(6), np.int64(5), np.int64(4), np.int64(4), np.int64(3), np.int64(2), np.int64(7), np.int64(6), np.int64(5), np.int64(4), np.int64(5), np.int64(4), np.int64(3), np.int64(3), np.int64(2), np.int64(4), np.int64(3), np.int64(2), np.int64(2), np.int64(1), np.int64(1), np.int64(0), np.int64(3), np.int64(2), np.int64(1), np.int64(1), np.int64(0), np.int64(0), np.int64(2), np.int64(1), np.int64(0), np.int64(0), np.int64(6), np.int64(5), np.int64(4), np.int64(3), np.int64(4), np.int64(3), np.int64(2), np.int64(2), np.int64(1), np.int64(0), np.int64(3), np.int64(2), np.int64(1), np.int64(1), np.int64(0), np.int64(0), np.int64(2), np.int64(1), np.int64(0), np.int64(0), np.int64(1), np.int64(0), np.int64(0)]\n",
      "[np.int64(4), np.int64(7), np.int64(6), np.int64(5), np.int64(4), np.int64(5), np.int64(4), np.int64(3), np.int64(3), np.int64(2), np.int64(4), np.int64(3), np.int64(2), np.int64(2), np.int64(1), np.int64(3), np.int64(2), np.int64(1), np.int64(1), np.int64(0), np.int64(0), np.int64(2), np.int64(1), np.int64(0), np.int64(0), np.int64(6), np.int64(5), np.int64(4), np.int64(3), np.int64(4), np.int64(3), np.int64(2), np.int64(2), np.int64(1), np.int64(0), np.int64(3), np.int64(2), np.int64(1), np.int64(1), np.int64(0), np.int64(0), np.int64(2), np.int64(1), np.int64(0), np.int64(0), np.int64(1), np.int64(0), np.int64(0)]\n",
      "[np.int64(7), np.int64(6), np.int64(5), np.int64(4), np.int64(5), np.int64(4), np.int64(3), np.int64(4), np.int64(3), np.int64(2), np.int64(2), np.int64(3), np.int64(2), np.int64(1), np.int64(1), np.int64(0), np.int64(2), np.int64(1), np.int64(0), np.int64(0), np.int64(6), np.int64(5), np.int64(4), np.int64(3), np.int64(4), np.int64(3), np.int64(2), np.int64(2), np.int64(1), np.int64(0), np.int64(3), np.int64(2), np.int64(1), np.int64(1), np.int64(0), np.int64(0), np.int64(2), np.int64(1), np.int64(0), np.int64(0), np.int64(1), np.int64(0), np.int64(0)]\n",
      "[np.int64(5), np.int64(4), np.int64(4), np.int64(3), np.int64(2), np.int64(3), np.int64(2), np.int64(1), np.int64(2), np.int64(1), np.int64(0), np.int64(0), np.int64(6), np.int64(5), np.int64(4), np.int64(3), np.int64(4), np.int64(3), np.int64(2), np.int64(2), np.int64(1), np.int64(0), np.int64(3), np.int64(2), np.int64(1), np.int64(1), np.int64(0), np.int64(0), np.int64(2), np.int64(1), np.int64(0), np.int64(0), np.int64(1), np.int64(0), np.int64(0)]\n",
      "[np.int64(4), np.int64(3), np.int64(2), np.int64(2), np.int64(1), np.int64(0), np.int64(6), np.int64(5), np.int64(4), np.int64(3), np.int64(4), np.int64(3), np.int64(2), np.int64(2), np.int64(1), np.int64(0), np.int64(3), np.int64(2), np.int64(1), np.int64(1), np.int64(0), np.int64(0), np.int64(2), np.int64(1), np.int64(0), np.int64(0), np.int64(1), np.int64(0), np.int64(0)]\n",
      "[np.int64(2), np.int64(6), np.int64(5), np.int64(4), np.int64(3), np.int64(4), np.int64(3), np.int64(2), np.int64(2), np.int64(1), np.int64(0), np.int64(3), np.int64(2), np.int64(1), np.int64(1), np.int64(0), np.int64(0), np.int64(2), np.int64(1), np.int64(0), np.int64(0), np.int64(1), np.int64(0), np.int64(0)]\n",
      "[np.int64(6), np.int64(5), np.int64(4), np.int64(3), np.int64(4), np.int64(3), np.int64(2), np.int64(2), np.int64(3), np.int64(2), np.int64(1), np.int64(1), np.int64(0), np.int64(0), np.int64(2), np.int64(1), np.int64(0), np.int64(0), np.int64(1), np.int64(0), np.int64(0)]\n",
      "[np.int64(4), np.int64(3), np.int64(2), np.int64(3), np.int64(2), np.int64(1), np.int64(0), np.int64(2), np.int64(1), np.int64(0), np.int64(0), np.int64(1), np.int64(0), np.int64(0)]\n",
      "[np.int64(3), np.int64(2), np.int64(2), np.int64(1), np.int64(0), np.int64(0), np.int64(1), np.int64(0), np.int64(0)]\n",
      "[np.int64(2), np.int64(0), np.int64(1), np.int64(0), np.int64(0)]\n",
      "[np.int64(0), np.int64(0)]\n",
      "[np.int64(0)]\n"
     ]
    },
    {
     "data": {
      "text/plain": [
       "array([12, 10,  8,  9,  6,  8,  6,  4,  7,  5,  4,  2,  6,  4,  3,  2,  0,\n",
       "        0])"
      ]
     },
     "execution_count": 206,
     "metadata": {},
     "output_type": "execute_result"
    }
   ],
   "source": []
  }
 ],
 "metadata": {
  "kernelspec": {
   "display_name": "nuclei",
   "language": "python",
   "name": "python3"
  },
  "language_info": {
   "codemirror_mode": {
    "name": "ipython",
    "version": 3
   },
   "file_extension": ".py",
   "mimetype": "text/x-python",
   "name": "python",
   "nbconvert_exporter": "python",
   "pygments_lexer": "ipython3",
   "version": "3.13.0"
  }
 },
 "nbformat": 4,
 "nbformat_minor": 2
}
