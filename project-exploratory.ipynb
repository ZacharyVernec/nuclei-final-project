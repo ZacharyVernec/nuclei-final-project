{
 "cells": [
  {
   "cell_type": "code",
   "execution_count": 213,
   "metadata": {},
   "outputs": [],
   "source": [
    "import pandas as pd\n",
    "import numpy as np\n",
    "\n",
    "from scipy.optimize import curve_fit\n",
    "\n",
    "import plotly.express as px"
   ]
  },
  {
   "cell_type": "markdown",
   "metadata": {},
   "source": [
    "## Obtain and save data from the web"
   ]
  },
  {
   "cell_type": "code",
   "execution_count": 214,
   "metadata": {},
   "outputs": [],
   "source": [
    "# # the service URL\n",
    "# livechart = \"https://nds.iaea.org/relnsd/v1/data?\"\n",
    "\n",
    "# # There have been cases in which the service returns an HTTP Error 403: Forbidden\n",
    "# # use this workaround\n",
    "# import urllib.request\n",
    "# def lc_pd_dataframe(url):\n",
    "#     req = urllib.request.Request(url)\n",
    "#     req.add_header('User-Agent''','' 'Mozilla/5.0 (X11; Ubuntu; Linux x86_64; rv:77.0) Gecko/20100101 Firefox/77.0')\n",
    "#     return pd.read_csv(urllib.request.urlopen(req))"
   ]
  },
  {
   "cell_type": "code",
   "execution_count": 215,
   "metadata": {},
   "outputs": [],
   "source": [
    "# ground_states_df = lc_pd_dataframe(livechart + \"fields=ground_states&nuclides=all\")\n",
    "# ground_states_df = ground_states_df[['z', 'n', 'symbol', 'half_life']]\n",
    "# ground_states_df = ground_states_df[ground_states_df['half_life'] == 'STABLE']\n",
    "# ground_states_df = ground_states_df.copy()\n",
    "# ground_states_df['a'] = ground_states_df['z'] + ground_states_df['n']\n",
    "# ground_states_df['symbol'] = ground_states_df['symbol'].str.lower()\n",
    "# ground_states_df['name'] = ground_states_df['a'].astype(str).str.cat(ground_states_df['symbol'])\n",
    "# names = ground_states_df['name'].values"
   ]
  },
  {
   "cell_type": "code",
   "execution_count": 216,
   "metadata": {},
   "outputs": [],
   "source": [
    "# levels_dfs = [lc_pd_dataframe(livechart + f\"fields=levels&nuclides={name}\") for name in names]\n",
    "# levels_dfs =  pd.concat(levels_dfs, ignore_index=True)\n",
    "\n",
    "# print(levels_dfs.columns)\n",
    "# print(levels_dfs.head())"
   ]
  },
  {
   "cell_type": "code",
   "execution_count": 217,
   "metadata": {},
   "outputs": [],
   "source": [
    "# levels_dfs.to_csv(\"levels.csv\", index=False)"
   ]
  },
  {
   "cell_type": "markdown",
   "metadata": {},
   "source": [
    "## Load saved data"
   ]
  },
  {
   "cell_type": "code",
   "execution_count": 218,
   "metadata": {},
   "outputs": [
    {
     "data": {
      "text/html": [
       "<div>\n",
       "<style scoped>\n",
       "    .dataframe tbody tr th:only-of-type {\n",
       "        vertical-align: middle;\n",
       "    }\n",
       "\n",
       "    .dataframe tbody tr th {\n",
       "        vertical-align: top;\n",
       "    }\n",
       "\n",
       "    .dataframe thead th {\n",
       "        text-align: right;\n",
       "    }\n",
       "</style>\n",
       "<table border=\"1\" class=\"dataframe\">\n",
       "  <thead>\n",
       "    <tr style=\"text-align: right;\">\n",
       "      <th></th>\n",
       "      <th></th>\n",
       "      <th>symbol</th>\n",
       "      <th>n</th>\n",
       "      <th>idx</th>\n",
       "      <th>energy</th>\n",
       "      <th>energy_shift</th>\n",
       "      <th>ripl_shift</th>\n",
       "      <th>jp</th>\n",
       "      <th>jp_order</th>\n",
       "      <th>beta</th>\n",
       "    </tr>\n",
       "    <tr>\n",
       "      <th>z</th>\n",
       "      <th>a</th>\n",
       "      <th></th>\n",
       "      <th></th>\n",
       "      <th></th>\n",
       "      <th></th>\n",
       "      <th></th>\n",
       "      <th></th>\n",
       "      <th></th>\n",
       "      <th></th>\n",
       "      <th></th>\n",
       "    </tr>\n",
       "  </thead>\n",
       "  <tbody>\n",
       "    <tr>\n",
       "      <th rowspan=\"2\" valign=\"top\">1</th>\n",
       "      <th>1</th>\n",
       "      <td>H</td>\n",
       "      <td>0</td>\n",
       "      <td>0</td>\n",
       "      <td>0.0</td>\n",
       "      <td>NaN</td>\n",
       "      <td>&lt;NA&gt;</td>\n",
       "      <td>1/2+</td>\n",
       "      <td>1</td>\n",
       "      <td>-1.0</td>\n",
       "    </tr>\n",
       "    <tr>\n",
       "      <th>2</th>\n",
       "      <td>H</td>\n",
       "      <td>1</td>\n",
       "      <td>0</td>\n",
       "      <td>0.0</td>\n",
       "      <td>NaN</td>\n",
       "      <td>&lt;NA&gt;</td>\n",
       "      <td>1+</td>\n",
       "      <td>1</td>\n",
       "      <td>0.0</td>\n",
       "    </tr>\n",
       "    <tr>\n",
       "      <th rowspan=\"3\" valign=\"top\">2</th>\n",
       "      <th>3</th>\n",
       "      <td>He</td>\n",
       "      <td>1</td>\n",
       "      <td>0</td>\n",
       "      <td>0.0</td>\n",
       "      <td>NaN</td>\n",
       "      <td>&lt;NA&gt;</td>\n",
       "      <td>1/2+</td>\n",
       "      <td>1</td>\n",
       "      <td>-0.333333</td>\n",
       "    </tr>\n",
       "    <tr>\n",
       "      <th>4</th>\n",
       "      <td>He</td>\n",
       "      <td>2</td>\n",
       "      <td>0</td>\n",
       "      <td>0.0</td>\n",
       "      <td>NaN</td>\n",
       "      <td>&lt;NA&gt;</td>\n",
       "      <td>0+</td>\n",
       "      <td>1</td>\n",
       "      <td>0.0</td>\n",
       "    </tr>\n",
       "    <tr>\n",
       "      <th>4</th>\n",
       "      <td>He</td>\n",
       "      <td>2</td>\n",
       "      <td>1</td>\n",
       "      <td>20.21</td>\n",
       "      <td>NaN</td>\n",
       "      <td>&lt;NA&gt;</td>\n",
       "      <td>0+</td>\n",
       "      <td>2</td>\n",
       "      <td>0.0</td>\n",
       "    </tr>\n",
       "  </tbody>\n",
       "</table>\n",
       "</div>"
      ],
      "text/plain": [
       "    symbol  n  idx  energy energy_shift  ripl_shift    jp  jp_order      beta\n",
       "z a                                                                          \n",
       "1 1      H  0    0     0.0          NaN        <NA>  1/2+         1      -1.0\n",
       "  2      H  1    0     0.0          NaN        <NA>    1+         1       0.0\n",
       "2 3     He  1    0     0.0          NaN        <NA>  1/2+         1 -0.333333\n",
       "  4     He  2    0     0.0          NaN        <NA>    0+         1       0.0\n",
       "  4     He  2    1   20.21          NaN        <NA>    0+         2       0.0"
      ]
     },
     "execution_count": 218,
     "metadata": {},
     "output_type": "execute_result"
    }
   ],
   "source": [
    "dtypes = {\n",
    "    'z': 'UInt8',\n",
    "    'n': 'UInt8',\n",
    "    'symbol': 'string',\n",
    "    'idx': 'UInt16',\n",
    "    'energy_shift': 'category',\n",
    "    'energy': 'Float64',\n",
    "    'unc_e': 'Float64',\n",
    "    'ripl_shift': 'Float64',\n",
    "    'jp': 'string',\n",
    "    'jp_order': 'UInt8',\n",
    "    'half_life': 'string',\n",
    "    'operator_hl': 'string',\n",
    "    'unc_hl': 'string',\n",
    "    'unit_hl': 'category',\n",
    "    'half_life_sec': 'Float64',\n",
    "    'unc_hl.1': 'Float64',\n",
    "    'decay_1': 'string',\n",
    "    'decay_1_%': 'Float64',\n",
    "    'unc_1': 'Float64',\n",
    "    'decay_2': 'string',\n",
    "    'decay_2_%': 'Float64',\n",
    "    'unc_2': 'Float64',\n",
    "    'decay_3': 'string',\n",
    "    'decay_3_%': 'Float64',\n",
    "    'unc_3': 'Float64',\n",
    "    'isospin': 'string',\n",
    "    'magnetic_dipole': 'Float64',\n",
    "    'unc_mn': 'Float64',\n",
    "    'electric_quadrupole': 'Float64',\n",
    "    'unc_eq': 'Float64',\n",
    "    'ENSDF_publication_cut-off': 'string',\n",
    "    'ENSDF_authors': 'string',\n",
    "    'Extraction_date': 'string'\n",
    "}\n",
    "parse_dates = ['ENSDF_publication_cut-off', 'Extraction_date']\n",
    "\n",
    "\n",
    "df = pd.read_csv('levels.csv', parse_dates=parse_dates, dtype=dtypes)\n",
    "\n",
    "\n",
    "df.loc[df['half_life'] == 'STABLE', 'half_life'] = 'inf'\n",
    "df['half_life'] = df['half_life'].astype('Float64')\n",
    "\n",
    "df['a'] = df['z'] + df['n']\n",
    "\n",
    "df = df[['symbol', 'a', 'z', 'n', 'idx', 'energy', 'energy_shift', 'ripl_shift', 'jp', 'jp_order']]\n",
    "df['energy'] = df['energy'] / 1000 #MeV\n",
    "df['ripl_shift'] = df['ripl_shift'] / 1000 #MeV\n",
    "#TODO also take into account energy uncertainty\n",
    "\n",
    "df['beta'] = (df['n'].astype('Float64') - df['z'].astype('Float64')) / df['a'].astype('Float64')\n",
    "\n",
    "df = df.set_index(['z', 'a'], drop=True)\n",
    "\n",
    "df.head()"
   ]
  },
  {
   "cell_type": "code",
   "execution_count": 219,
   "metadata": {},
   "outputs": [
    {
     "data": {
      "text/html": [
       "<div>\n",
       "<style scoped>\n",
       "    .dataframe tbody tr th:only-of-type {\n",
       "        vertical-align: middle;\n",
       "    }\n",
       "\n",
       "    .dataframe tbody tr th {\n",
       "        vertical-align: top;\n",
       "    }\n",
       "\n",
       "    .dataframe thead th {\n",
       "        text-align: right;\n",
       "    }\n",
       "</style>\n",
       "<table border=\"1\" class=\"dataframe\">\n",
       "  <thead>\n",
       "    <tr style=\"text-align: right;\">\n",
       "      <th></th>\n",
       "      <th></th>\n",
       "      <th>symbol</th>\n",
       "      <th>n</th>\n",
       "      <th>idx</th>\n",
       "      <th>energy</th>\n",
       "      <th>jp</th>\n",
       "      <th>jp_order</th>\n",
       "      <th>beta</th>\n",
       "    </tr>\n",
       "    <tr>\n",
       "      <th>z</th>\n",
       "      <th>a</th>\n",
       "      <th></th>\n",
       "      <th></th>\n",
       "      <th></th>\n",
       "      <th></th>\n",
       "      <th></th>\n",
       "      <th></th>\n",
       "      <th></th>\n",
       "    </tr>\n",
       "  </thead>\n",
       "  <tbody>\n",
       "    <tr>\n",
       "      <th rowspan=\"2\" valign=\"top\">1</th>\n",
       "      <th>1</th>\n",
       "      <td>H</td>\n",
       "      <td>0</td>\n",
       "      <td>0</td>\n",
       "      <td>0.0</td>\n",
       "      <td>1/2+</td>\n",
       "      <td>1</td>\n",
       "      <td>-1.0</td>\n",
       "    </tr>\n",
       "    <tr>\n",
       "      <th>2</th>\n",
       "      <td>H</td>\n",
       "      <td>1</td>\n",
       "      <td>0</td>\n",
       "      <td>0.0</td>\n",
       "      <td>1+</td>\n",
       "      <td>1</td>\n",
       "      <td>0.0</td>\n",
       "    </tr>\n",
       "    <tr>\n",
       "      <th rowspan=\"3\" valign=\"top\">2</th>\n",
       "      <th>3</th>\n",
       "      <td>He</td>\n",
       "      <td>1</td>\n",
       "      <td>0</td>\n",
       "      <td>0.0</td>\n",
       "      <td>1/2+</td>\n",
       "      <td>1</td>\n",
       "      <td>-0.333333</td>\n",
       "    </tr>\n",
       "    <tr>\n",
       "      <th>4</th>\n",
       "      <td>He</td>\n",
       "      <td>2</td>\n",
       "      <td>0</td>\n",
       "      <td>0.0</td>\n",
       "      <td>0+</td>\n",
       "      <td>1</td>\n",
       "      <td>0.0</td>\n",
       "    </tr>\n",
       "    <tr>\n",
       "      <th>4</th>\n",
       "      <td>He</td>\n",
       "      <td>2</td>\n",
       "      <td>1</td>\n",
       "      <td>20.21</td>\n",
       "      <td>0+</td>\n",
       "      <td>2</td>\n",
       "      <td>0.0</td>\n",
       "    </tr>\n",
       "  </tbody>\n",
       "</table>\n",
       "</div>"
      ],
      "text/plain": [
       "    symbol  n  idx  energy    jp  jp_order      beta\n",
       "z a                                                 \n",
       "1 1      H  0    0     0.0  1/2+         1      -1.0\n",
       "  2      H  1    0     0.0    1+         1       0.0\n",
       "2 3     He  1    0     0.0  1/2+         1 -0.333333\n",
       "  4     He  2    0     0.0    0+         1       0.0\n",
       "  4     He  2    1   20.21    0+         2       0.0"
      ]
     },
     "execution_count": 219,
     "metadata": {},
     "output_type": "execute_result"
    }
   ],
   "source": [
    "# Filter out shifts\n",
    "#TODO take into account energy shifts with ripl_shift\n",
    "#TODO take into account energy shifts without ripl_shift\n",
    "\n",
    "df = df[df['energy_shift'].isna()]\n",
    "df = df.drop(['energy_shift', 'ripl_shift'], axis='columns')\n",
    "df.head()"
   ]
  },
  {
   "cell_type": "code",
   "execution_count": 220,
   "metadata": {},
   "outputs": [],
   "source": [
    "# Filter out not enough levels\n",
    "# Just removes 1H, 2H, and 3He\n",
    "\n",
    "df = df.loc[df.groupby(level=df.index.names).size() >= 3]\n",
    "\n",
    "# Filter out uncertain jp\n",
    "\n",
    "df = df[df['jp'].str.fullmatch(r'^[0-9]+(/[0-9]+)?[+-]$')]\n",
    "\n",
    "# Extract j and p\n",
    "\n",
    "df['j'] = df['jp'].str[:-1]\n",
    "df['p'] = df['jp'].str[-1]\n",
    "\n",
    "odd_spins = df['j'].str.contains('/')\n",
    "even_spins = ~odd_spins\n",
    "\n",
    "df.loc[odd_spins,'j_float'] = df[odd_spins]['j'].str.split('/').apply(lambda x: float(x[0]) / float(x[1]))\n",
    "df.loc[even_spins,'j_float'] = df[even_spins]['j'].astype(float)\n",
    "\n",
    "df['j_evenness'] = pd.Series(data=pd.NA, dtype='boolean')\n",
    "df.loc[even_spins,'j_evenness'] = (df[even_spins]['j'].str.split('/', expand=True)[0].astype(int) % 2 == 0)\n",
    "#TODO similar for odd_spins\n",
    "\n",
    "df['p_bit'] = df['p'].str.fullmatch(r'\\-').astype(int)"
   ]
  },
  {
   "cell_type": "markdown",
   "metadata": {},
   "source": [
    "# Theory\n",
    "\n",
    "https://chem.libretexts.org/Courses/Grinnell_College/CHM_364%3A_Physical_Chemistry_2_(Grinnell_College)/05%3A_The_Harmonic_Oscillator_and_the_Rigid_Rotor/5.08%3A_The_Energy_Levels_of_a_Rigid_Rotor\n",
    "\n",
    "## Rigid rotator:\n",
    "$$H = T+V$$\n",
    "$V = 0$ because rigid\n",
    "$$T = \\frac{1}{2}  I \\omega^2 = \\frac{L}{2} \\omega$$\n",
    "where $\\omega$ is the angular velocity of the rigid body\n",
    "where  $I$ is the moment of inertia of the rigid body relative to the axis of rotation.\n",
    "\n",
    "$$E = \\dfrac {\\hbar ^2 \\lambda}{2I} = L(L + 1) \\dfrac {\\hbar ^2}{2I}$$\n",
    "where $L$ is a non-negative integer.\n",
    "\n",
    "## Harmonic oscillator:\n",
    "$$H = n \\hbar \\omega$$\n",
    "where $n$ is a non-negative integer."
   ]
  },
  {
   "cell_type": "markdown",
   "metadata": {},
   "source": [
    "# Search"
   ]
  },
  {
   "cell_type": "markdown",
   "metadata": {},
   "source": [
    "## For quadrupole oscillator"
   ]
  },
  {
   "cell_type": "markdown",
   "metadata": {},
   "source": [
    "### Cr52"
   ]
  },
  {
   "cell_type": "code",
   "execution_count": 221,
   "metadata": {},
   "outputs": [
    {
     "data": {
      "text/html": [
       "<div>\n",
       "<style scoped>\n",
       "    .dataframe tbody tr th:only-of-type {\n",
       "        vertical-align: middle;\n",
       "    }\n",
       "\n",
       "    .dataframe tbody tr th {\n",
       "        vertical-align: top;\n",
       "    }\n",
       "\n",
       "    .dataframe thead th {\n",
       "        text-align: right;\n",
       "    }\n",
       "</style>\n",
       "<table border=\"1\" class=\"dataframe\">\n",
       "  <thead>\n",
       "    <tr style=\"text-align: right;\">\n",
       "      <th></th>\n",
       "      <th></th>\n",
       "      <th>symbol</th>\n",
       "      <th>n</th>\n",
       "      <th>idx</th>\n",
       "      <th>energy</th>\n",
       "      <th>jp</th>\n",
       "      <th>jp_order</th>\n",
       "      <th>beta</th>\n",
       "      <th>j</th>\n",
       "      <th>p</th>\n",
       "      <th>j_float</th>\n",
       "      <th>j_evenness</th>\n",
       "      <th>p_bit</th>\n",
       "    </tr>\n",
       "    <tr>\n",
       "      <th>z</th>\n",
       "      <th>a</th>\n",
       "      <th></th>\n",
       "      <th></th>\n",
       "      <th></th>\n",
       "      <th></th>\n",
       "      <th></th>\n",
       "      <th></th>\n",
       "      <th></th>\n",
       "      <th></th>\n",
       "      <th></th>\n",
       "      <th></th>\n",
       "      <th></th>\n",
       "      <th></th>\n",
       "    </tr>\n",
       "  </thead>\n",
       "  <tbody>\n",
       "    <tr>\n",
       "      <th rowspan=\"6\" valign=\"top\">24</th>\n",
       "      <th>52</th>\n",
       "      <td>Cr</td>\n",
       "      <td>28</td>\n",
       "      <td>0</td>\n",
       "      <td>0.0</td>\n",
       "      <td>0+</td>\n",
       "      <td>1</td>\n",
       "      <td>0.076923</td>\n",
       "      <td>0</td>\n",
       "      <td>+</td>\n",
       "      <td>0.0</td>\n",
       "      <td>True</td>\n",
       "      <td>0</td>\n",
       "    </tr>\n",
       "    <tr>\n",
       "      <th>52</th>\n",
       "      <td>Cr</td>\n",
       "      <td>28</td>\n",
       "      <td>1</td>\n",
       "      <td>1.434091</td>\n",
       "      <td>2+</td>\n",
       "      <td>1</td>\n",
       "      <td>0.076923</td>\n",
       "      <td>2</td>\n",
       "      <td>+</td>\n",
       "      <td>2.0</td>\n",
       "      <td>True</td>\n",
       "      <td>0</td>\n",
       "    </tr>\n",
       "    <tr>\n",
       "      <th>52</th>\n",
       "      <td>Cr</td>\n",
       "      <td>28</td>\n",
       "      <td>2</td>\n",
       "      <td>2.36963</td>\n",
       "      <td>4+</td>\n",
       "      <td>1</td>\n",
       "      <td>0.076923</td>\n",
       "      <td>4</td>\n",
       "      <td>+</td>\n",
       "      <td>4.0</td>\n",
       "      <td>True</td>\n",
       "      <td>0</td>\n",
       "    </tr>\n",
       "    <tr>\n",
       "      <th>52</th>\n",
       "      <td>Cr</td>\n",
       "      <td>28</td>\n",
       "      <td>6</td>\n",
       "      <td>3.113858</td>\n",
       "      <td>6+</td>\n",
       "      <td>1</td>\n",
       "      <td>0.076923</td>\n",
       "      <td>6</td>\n",
       "      <td>+</td>\n",
       "      <td>6.0</td>\n",
       "      <td>True</td>\n",
       "      <td>0</td>\n",
       "    </tr>\n",
       "    <tr>\n",
       "      <th>52</th>\n",
       "      <td>Cr</td>\n",
       "      <td>28</td>\n",
       "      <td>26</td>\n",
       "      <td>4.75031</td>\n",
       "      <td>8+</td>\n",
       "      <td>1</td>\n",
       "      <td>0.076923</td>\n",
       "      <td>8</td>\n",
       "      <td>+</td>\n",
       "      <td>8.0</td>\n",
       "      <td>True</td>\n",
       "      <td>0</td>\n",
       "    </tr>\n",
       "    <tr>\n",
       "      <th>52</th>\n",
       "      <td>Cr</td>\n",
       "      <td>28</td>\n",
       "      <td>125</td>\n",
       "      <td>7.2379</td>\n",
       "      <td>10+</td>\n",
       "      <td>1</td>\n",
       "      <td>0.076923</td>\n",
       "      <td>10</td>\n",
       "      <td>+</td>\n",
       "      <td>10.0</td>\n",
       "      <td>True</td>\n",
       "      <td>0</td>\n",
       "    </tr>\n",
       "  </tbody>\n",
       "</table>\n",
       "</div>"
      ],
      "text/plain": [
       "      symbol   n  idx    energy   jp  jp_order      beta   j  p  j_float  \\\n",
       "z  a                                                                       \n",
       "24 52     Cr  28    0       0.0   0+         1  0.076923   0  +      0.0   \n",
       "   52     Cr  28    1  1.434091   2+         1  0.076923   2  +      2.0   \n",
       "   52     Cr  28    2   2.36963   4+         1  0.076923   4  +      4.0   \n",
       "   52     Cr  28    6  3.113858   6+         1  0.076923   6  +      6.0   \n",
       "   52     Cr  28   26   4.75031   8+         1  0.076923   8  +      8.0   \n",
       "   52     Cr  28  125    7.2379  10+         1  0.076923  10  +     10.0   \n",
       "\n",
       "       j_evenness  p_bit  \n",
       "z  a                      \n",
       "24 52        True      0  \n",
       "   52        True      0  \n",
       "   52        True      0  \n",
       "   52        True      0  \n",
       "   52        True      0  \n",
       "   52        True      0  "
      ]
     },
     "execution_count": 221,
     "metadata": {},
     "output_type": "execute_result"
    }
   ],
   "source": [
    "Cr52 = df.loc[24,52]\n",
    "Cr52_levels = Cr52[(Cr52['jp_order'] == 1) & Cr52['j_evenness'].fillna(False) & (Cr52['p_bit'] == 0)]\n",
    "Cr52_levels"
   ]
  },
  {
   "cell_type": "markdown",
   "metadata": {},
   "source": [
    "### Quadrupole, positive, first band "
   ]
  },
  {
   "cell_type": "code",
   "execution_count": 222,
   "metadata": {},
   "outputs": [],
   "source": [
    "def get_osc_energy(n, energy_quantum, zero_point_energy):\n",
    "    return n * energy_quantum + zero_point_energy\n",
    "\n",
    "# def get_rot_energy(l, energy_quantum, zero_point_energy):\n",
    "#     return l*(l+1) * energy_quantum + zero_point_energy #TODO remove zero point energy\n",
    "\n",
    "def fit(group, func):\n",
    "\n",
    "    x = group['quanta']\n",
    "    y = group['energy']\n",
    "\n",
    "    # fit\n",
    "    popt, pcov = curve_fit(func, x, y)\n",
    "\n",
    "    # prediction\n",
    "    y_pred = func(x, *popt)\n",
    "\n",
    "    # r-squared\n",
    "    ss_res = np.sum((y - y_pred)**2)\n",
    "    ss_tot = np.sum((y - y.mean())**2)\n",
    "    r2 = 1 - (ss_res / ss_tot)\n",
    "\n",
    "    # results\n",
    "    results = pd.DataFrame({'energy_quantum': popt[0], 'zero_point_energy': popt[1], 'r2': r2,  'j_float': x, 'quanta': x, 'energy_pred': y_pred})\n",
    "\n",
    "    # results = pd.Series(list(popt)+[r2], index=['energy_quantum', 'zero_point_energy', 'r2'])\n",
    "    return  results"
   ]
  },
  {
   "cell_type": "code",
   "execution_count": 223,
   "metadata": {},
   "outputs": [],
   "source": [
    "quad_pos_first = df[(df['jp_order'] == 1) & df['j_evenness'].fillna(False) & (df['p_bit'] == 0)]\n",
    "quad_pos_first = quad_pos_first.loc[quad_pos_first.groupby(level=df.index.names).size() >= 3]\n",
    "quad_pos_first['quanta'] = (quad_pos_first['j_float'].astype(int) // 2)\n",
    "\n",
    "quad_pos_first_groups = quad_pos_first.groupby(level=df.index.names, as_index=False)\n",
    "\n",
    "oscillator_fit = quad_pos_first_groups.apply(lambda group: fit(group, get_osc_energy)).droplevel(0)"
   ]
  },
  {
   "cell_type": "code",
   "execution_count": 224,
   "metadata": {},
   "outputs": [
    {
     "name": "stdout",
     "output_type": "stream",
     "text": [
      "Oscillator osc:\n",
      "z   a  \n",
      "5   10     0.993705\n",
      "6   12     0.964487\n",
      "7   14     0.996703\n",
      "8   16     0.978475\n",
      "10  22     0.981052\n",
      "             ...   \n",
      "80  196    0.987183\n",
      "    198    0.965498\n",
      "    200    0.981028\n",
      "    202    0.979505\n",
      "    204    0.963941\n",
      "Name: r2, Length: 133, dtype: float64\n"
     ]
    }
   ],
   "source": [
    "min_r2 = 0.9\n",
    "\n",
    "print(\"Oscillator osc:\")\n",
    "best_oscillator_fit = oscillator_fit[oscillator_fit['r2'] > min_r2]\n",
    "\n",
    "print(best_oscillator_fit.groupby(by=best_oscillator_fit.index)['r2'].head(1))"
   ]
  },
  {
   "cell_type": "code",
   "execution_count": 225,
   "metadata": {},
   "outputs": [],
   "source": [
    "#TODO plot r^2 on grid\n",
    "#TODO change starting point"
   ]
  },
  {
   "cell_type": "code",
   "execution_count": 226,
   "metadata": {},
   "outputs": [],
   "source": [
    "merged = quad_pos_first.merge(oscillator_fit, how='left', on=['z','a', 'quanta'])\n",
    "best_osc_merged = merged[merged['r2'] > min_r2]\n",
    "\n",
    "def get_best_r2(df, min_r2):\n",
    "    return df[df['r2'] > min_r2]\n",
    "\n",
    "# merged = merged.merge(rotator_fit, how='left', on=['z','a', 'idx'], suffixes=('_osc', '_rot'))\n",
    "# lowest_merged = merged.groupby(['z','a']).head(3)\n",
    "lowest_merged = merged\n",
    "# best_rot_merged = lowest_merged[lowest_merged['r2_rot'] > min_r2]\n",
    "# best_rot_merged"
   ]
  },
  {
   "cell_type": "code",
   "execution_count": 227,
   "metadata": {},
   "outputs": [
    {
     "data": {
      "text/html": [
       "<div>\n",
       "<style scoped>\n",
       "    .dataframe tbody tr th:only-of-type {\n",
       "        vertical-align: middle;\n",
       "    }\n",
       "\n",
       "    .dataframe tbody tr th {\n",
       "        vertical-align: top;\n",
       "    }\n",
       "\n",
       "    .dataframe thead th {\n",
       "        text-align: right;\n",
       "    }\n",
       "</style>\n",
       "<table border=\"1\" class=\"dataframe\">\n",
       "  <thead>\n",
       "    <tr style=\"text-align: right;\">\n",
       "      <th></th>\n",
       "      <th></th>\n",
       "      <th>symbol</th>\n",
       "      <th>n</th>\n",
       "      <th>idx</th>\n",
       "      <th>energy</th>\n",
       "      <th>jp</th>\n",
       "      <th>jp_order</th>\n",
       "      <th>beta</th>\n",
       "      <th>j</th>\n",
       "      <th>p</th>\n",
       "      <th>j_float_x</th>\n",
       "      <th>j_evenness</th>\n",
       "      <th>p_bit</th>\n",
       "      <th>quanta</th>\n",
       "      <th>energy_quantum</th>\n",
       "      <th>zero_point_energy</th>\n",
       "      <th>r2</th>\n",
       "      <th>j_float_y</th>\n",
       "      <th>energy_pred</th>\n",
       "    </tr>\n",
       "    <tr>\n",
       "      <th>z</th>\n",
       "      <th>a</th>\n",
       "      <th></th>\n",
       "      <th></th>\n",
       "      <th></th>\n",
       "      <th></th>\n",
       "      <th></th>\n",
       "      <th></th>\n",
       "      <th></th>\n",
       "      <th></th>\n",
       "      <th></th>\n",
       "      <th></th>\n",
       "      <th></th>\n",
       "      <th></th>\n",
       "      <th></th>\n",
       "      <th></th>\n",
       "      <th></th>\n",
       "      <th></th>\n",
       "      <th></th>\n",
       "      <th></th>\n",
       "    </tr>\n",
       "  </thead>\n",
       "  <tbody>\n",
       "    <tr>\n",
       "      <th rowspan=\"3\" valign=\"top\">5</th>\n",
       "      <th>10</th>\n",
       "      <td>B</td>\n",
       "      <td>5</td>\n",
       "      <td>2</td>\n",
       "      <td>1.74005</td>\n",
       "      <td>0+</td>\n",
       "      <td>1</td>\n",
       "      <td>0.0</td>\n",
       "      <td>0</td>\n",
       "      <td>+</td>\n",
       "      <td>0.0</td>\n",
       "      <td>True</td>\n",
       "      <td>0</td>\n",
       "      <td>0</td>\n",
       "      <td>2.142425</td>\n",
       "      <td>1.641602</td>\n",
       "      <td>0.993705</td>\n",
       "      <td>0</td>\n",
       "      <td>1.641602</td>\n",
       "    </tr>\n",
       "    <tr>\n",
       "      <th>10</th>\n",
       "      <td>B</td>\n",
       "      <td>5</td>\n",
       "      <td>4</td>\n",
       "      <td>3.58713</td>\n",
       "      <td>2+</td>\n",
       "      <td>1</td>\n",
       "      <td>0.0</td>\n",
       "      <td>2</td>\n",
       "      <td>+</td>\n",
       "      <td>2.0</td>\n",
       "      <td>True</td>\n",
       "      <td>0</td>\n",
       "      <td>1</td>\n",
       "      <td>2.142425</td>\n",
       "      <td>1.641602</td>\n",
       "      <td>0.993705</td>\n",
       "      <td>1</td>\n",
       "      <td>3.784027</td>\n",
       "    </tr>\n",
       "    <tr>\n",
       "      <th>10</th>\n",
       "      <td>B</td>\n",
       "      <td>5</td>\n",
       "      <td>10</td>\n",
       "      <td>6.0249</td>\n",
       "      <td>4+</td>\n",
       "      <td>1</td>\n",
       "      <td>0.0</td>\n",
       "      <td>4</td>\n",
       "      <td>+</td>\n",
       "      <td>4.0</td>\n",
       "      <td>True</td>\n",
       "      <td>0</td>\n",
       "      <td>2</td>\n",
       "      <td>2.142425</td>\n",
       "      <td>1.641602</td>\n",
       "      <td>0.993705</td>\n",
       "      <td>2</td>\n",
       "      <td>5.926452</td>\n",
       "    </tr>\n",
       "    <tr>\n",
       "      <th rowspan=\"2\" valign=\"top\">6</th>\n",
       "      <th>12</th>\n",
       "      <td>C</td>\n",
       "      <td>6</td>\n",
       "      <td>0</td>\n",
       "      <td>0.0</td>\n",
       "      <td>0+</td>\n",
       "      <td>1</td>\n",
       "      <td>0.0</td>\n",
       "      <td>0</td>\n",
       "      <td>+</td>\n",
       "      <td>0.0</td>\n",
       "      <td>True</td>\n",
       "      <td>0</td>\n",
       "      <td>0</td>\n",
       "      <td>6.650000</td>\n",
       "      <td>-0.736727</td>\n",
       "      <td>0.964487</td>\n",
       "      <td>0</td>\n",
       "      <td>-0.736727</td>\n",
       "    </tr>\n",
       "    <tr>\n",
       "      <th>12</th>\n",
       "      <td>C</td>\n",
       "      <td>6</td>\n",
       "      <td>1</td>\n",
       "      <td>4.43982</td>\n",
       "      <td>2+</td>\n",
       "      <td>1</td>\n",
       "      <td>0.0</td>\n",
       "      <td>2</td>\n",
       "      <td>+</td>\n",
       "      <td>2.0</td>\n",
       "      <td>True</td>\n",
       "      <td>0</td>\n",
       "      <td>1</td>\n",
       "      <td>6.650000</td>\n",
       "      <td>-0.736727</td>\n",
       "      <td>0.964487</td>\n",
       "      <td>1</td>\n",
       "      <td>5.913273</td>\n",
       "    </tr>\n",
       "    <tr>\n",
       "      <th>...</th>\n",
       "      <th>...</th>\n",
       "      <td>...</td>\n",
       "      <td>...</td>\n",
       "      <td>...</td>\n",
       "      <td>...</td>\n",
       "      <td>...</td>\n",
       "      <td>...</td>\n",
       "      <td>...</td>\n",
       "      <td>...</td>\n",
       "      <td>...</td>\n",
       "      <td>...</td>\n",
       "      <td>...</td>\n",
       "      <td>...</td>\n",
       "      <td>...</td>\n",
       "      <td>...</td>\n",
       "      <td>...</td>\n",
       "      <td>...</td>\n",
       "      <td>...</td>\n",
       "      <td>...</td>\n",
       "    </tr>\n",
       "    <tr>\n",
       "      <th rowspan=\"5\" valign=\"top\">80</th>\n",
       "      <th>202</th>\n",
       "      <td>Hg</td>\n",
       "      <td>122</td>\n",
       "      <td>34</td>\n",
       "      <td>1.98882</td>\n",
       "      <td>6+</td>\n",
       "      <td>1</td>\n",
       "      <td>0.207921</td>\n",
       "      <td>6</td>\n",
       "      <td>+</td>\n",
       "      <td>6.0</td>\n",
       "      <td>True</td>\n",
       "      <td>0</td>\n",
       "      <td>3</td>\n",
       "      <td>0.664681</td>\n",
       "      <td>-0.109947</td>\n",
       "      <td>0.979505</td>\n",
       "      <td>3</td>\n",
       "      <td>1.884094</td>\n",
       "    </tr>\n",
       "    <tr>\n",
       "      <th>204</th>\n",
       "      <td>Hg</td>\n",
       "      <td>124</td>\n",
       "      <td>0</td>\n",
       "      <td>0.0</td>\n",
       "      <td>0+</td>\n",
       "      <td>1</td>\n",
       "      <td>0.215686</td>\n",
       "      <td>0</td>\n",
       "      <td>+</td>\n",
       "      <td>0.0</td>\n",
       "      <td>True</td>\n",
       "      <td>0</td>\n",
       "      <td>0</td>\n",
       "      <td>0.726471</td>\n",
       "      <td>-0.150758</td>\n",
       "      <td>0.963941</td>\n",
       "      <td>0</td>\n",
       "      <td>-0.150758</td>\n",
       "    </tr>\n",
       "    <tr>\n",
       "      <th>204</th>\n",
       "      <td>Hg</td>\n",
       "      <td>124</td>\n",
       "      <td>1</td>\n",
       "      <td>0.436552</td>\n",
       "      <td>2+</td>\n",
       "      <td>1</td>\n",
       "      <td>0.215686</td>\n",
       "      <td>2</td>\n",
       "      <td>+</td>\n",
       "      <td>2.0</td>\n",
       "      <td>True</td>\n",
       "      <td>0</td>\n",
       "      <td>1</td>\n",
       "      <td>0.726471</td>\n",
       "      <td>-0.150758</td>\n",
       "      <td>0.963941</td>\n",
       "      <td>1</td>\n",
       "      <td>0.575713</td>\n",
       "    </tr>\n",
       "    <tr>\n",
       "      <th>204</th>\n",
       "      <td>Hg</td>\n",
       "      <td>124</td>\n",
       "      <td>2</td>\n",
       "      <td>1.12823</td>\n",
       "      <td>4+</td>\n",
       "      <td>1</td>\n",
       "      <td>0.215686</td>\n",
       "      <td>4</td>\n",
       "      <td>+</td>\n",
       "      <td>4.0</td>\n",
       "      <td>True</td>\n",
       "      <td>0</td>\n",
       "      <td>2</td>\n",
       "      <td>0.726471</td>\n",
       "      <td>-0.150758</td>\n",
       "      <td>0.963941</td>\n",
       "      <td>2</td>\n",
       "      <td>1.302183</td>\n",
       "    </tr>\n",
       "    <tr>\n",
       "      <th>204</th>\n",
       "      <td>Hg</td>\n",
       "      <td>124</td>\n",
       "      <td>15</td>\n",
       "      <td>2.19101</td>\n",
       "      <td>6+</td>\n",
       "      <td>1</td>\n",
       "      <td>0.215686</td>\n",
       "      <td>6</td>\n",
       "      <td>+</td>\n",
       "      <td>6.0</td>\n",
       "      <td>True</td>\n",
       "      <td>0</td>\n",
       "      <td>3</td>\n",
       "      <td>0.726471</td>\n",
       "      <td>-0.150758</td>\n",
       "      <td>0.963941</td>\n",
       "      <td>3</td>\n",
       "      <td>2.028654</td>\n",
       "    </tr>\n",
       "  </tbody>\n",
       "</table>\n",
       "<p>1008 rows × 18 columns</p>\n",
       "</div>"
      ],
      "text/plain": [
       "       symbol    n  idx    energy  jp  jp_order      beta  j  p  j_float_x  \\\n",
       "z  a                                                                         \n",
       "5  10       B    5    2   1.74005  0+         1       0.0  0  +        0.0   \n",
       "   10       B    5    4   3.58713  2+         1       0.0  2  +        2.0   \n",
       "   10       B    5   10    6.0249  4+         1       0.0  4  +        4.0   \n",
       "6  12       C    6    0       0.0  0+         1       0.0  0  +        0.0   \n",
       "   12       C    6    1   4.43982  2+         1       0.0  2  +        2.0   \n",
       "...       ...  ...  ...       ...  ..       ...       ... .. ..        ...   \n",
       "80 202     Hg  122   34   1.98882  6+         1  0.207921  6  +        6.0   \n",
       "   204     Hg  124    0       0.0  0+         1  0.215686  0  +        0.0   \n",
       "   204     Hg  124    1  0.436552  2+         1  0.215686  2  +        2.0   \n",
       "   204     Hg  124    2   1.12823  4+         1  0.215686  4  +        4.0   \n",
       "   204     Hg  124   15   2.19101  6+         1  0.215686  6  +        6.0   \n",
       "\n",
       "        j_evenness  p_bit  quanta  energy_quantum  zero_point_energy  \\\n",
       "z  a                                                                   \n",
       "5  10         True      0       0        2.142425           1.641602   \n",
       "   10         True      0       1        2.142425           1.641602   \n",
       "   10         True      0       2        2.142425           1.641602   \n",
       "6  12         True      0       0        6.650000          -0.736727   \n",
       "   12         True      0       1        6.650000          -0.736727   \n",
       "...            ...    ...     ...             ...                ...   \n",
       "80 202        True      0       3        0.664681          -0.109947   \n",
       "   204        True      0       0        0.726471          -0.150758   \n",
       "   204        True      0       1        0.726471          -0.150758   \n",
       "   204        True      0       2        0.726471          -0.150758   \n",
       "   204        True      0       3        0.726471          -0.150758   \n",
       "\n",
       "              r2  j_float_y  energy_pred  \n",
       "z  a                                      \n",
       "5  10   0.993705          0     1.641602  \n",
       "   10   0.993705          1     3.784027  \n",
       "   10   0.993705          2     5.926452  \n",
       "6  12   0.964487          0    -0.736727  \n",
       "   12   0.964487          1     5.913273  \n",
       "...          ...        ...          ...  \n",
       "80 202  0.979505          3     1.884094  \n",
       "   204  0.963941          0    -0.150758  \n",
       "   204  0.963941          1     0.575713  \n",
       "   204  0.963941          2     1.302183  \n",
       "   204  0.963941          3     2.028654  \n",
       "\n",
       "[1008 rows x 18 columns]"
      ]
     },
     "execution_count": 227,
     "metadata": {},
     "output_type": "execute_result"
    }
   ],
   "source": [
    "best_osc_merged"
   ]
  },
  {
   "cell_type": "code",
   "execution_count": 228,
   "metadata": {},
   "outputs": [
    {
     "data": {
      "text/html": [
       "<div>\n",
       "<style scoped>\n",
       "    .dataframe tbody tr th:only-of-type {\n",
       "        vertical-align: middle;\n",
       "    }\n",
       "\n",
       "    .dataframe tbody tr th {\n",
       "        vertical-align: top;\n",
       "    }\n",
       "\n",
       "    .dataframe thead th {\n",
       "        text-align: right;\n",
       "    }\n",
       "</style>\n",
       "<table border=\"1\" class=\"dataframe\">\n",
       "  <thead>\n",
       "    <tr style=\"text-align: right;\">\n",
       "      <th></th>\n",
       "      <th></th>\n",
       "      <th>symbol</th>\n",
       "      <th>n</th>\n",
       "      <th>idx</th>\n",
       "      <th>energy</th>\n",
       "      <th>jp</th>\n",
       "      <th>jp_order</th>\n",
       "      <th>beta</th>\n",
       "      <th>j</th>\n",
       "      <th>p</th>\n",
       "      <th>j_float_x</th>\n",
       "      <th>j_evenness</th>\n",
       "      <th>p_bit</th>\n",
       "      <th>quanta</th>\n",
       "      <th>energy_quantum</th>\n",
       "      <th>zero_point_energy</th>\n",
       "      <th>r2</th>\n",
       "      <th>j_float_y</th>\n",
       "      <th>energy_pred</th>\n",
       "    </tr>\n",
       "    <tr>\n",
       "      <th>z</th>\n",
       "      <th>a</th>\n",
       "      <th></th>\n",
       "      <th></th>\n",
       "      <th></th>\n",
       "      <th></th>\n",
       "      <th></th>\n",
       "      <th></th>\n",
       "      <th></th>\n",
       "      <th></th>\n",
       "      <th></th>\n",
       "      <th></th>\n",
       "      <th></th>\n",
       "      <th></th>\n",
       "      <th></th>\n",
       "      <th></th>\n",
       "      <th></th>\n",
       "      <th></th>\n",
       "      <th></th>\n",
       "      <th></th>\n",
       "    </tr>\n",
       "  </thead>\n",
       "  <tbody>\n",
       "    <tr>\n",
       "      <th rowspan=\"3\" valign=\"top\">3</th>\n",
       "      <th>6</th>\n",
       "      <td>Li</td>\n",
       "      <td>3</td>\n",
       "      <td>2</td>\n",
       "      <td>3.56288</td>\n",
       "      <td>0+</td>\n",
       "      <td>1</td>\n",
       "      <td>0.0</td>\n",
       "      <td>0</td>\n",
       "      <td>+</td>\n",
       "      <td>0.0</td>\n",
       "      <td>True</td>\n",
       "      <td>0</td>\n",
       "      <td>0</td>\n",
       "      <td>9.718560</td>\n",
       "      <td>0.573067</td>\n",
       "      <td>0.778861</td>\n",
       "      <td>0</td>\n",
       "      <td>0.573067</td>\n",
       "    </tr>\n",
       "    <tr>\n",
       "      <th>6</th>\n",
       "      <td>Li</td>\n",
       "      <td>3</td>\n",
       "      <td>3</td>\n",
       "      <td>4.312</td>\n",
       "      <td>2+</td>\n",
       "      <td>1</td>\n",
       "      <td>0.0</td>\n",
       "      <td>2</td>\n",
       "      <td>+</td>\n",
       "      <td>2.0</td>\n",
       "      <td>True</td>\n",
       "      <td>0</td>\n",
       "      <td>1</td>\n",
       "      <td>9.718560</td>\n",
       "      <td>0.573067</td>\n",
       "      <td>0.778861</td>\n",
       "      <td>1</td>\n",
       "      <td>10.291627</td>\n",
       "    </tr>\n",
       "    <tr>\n",
       "      <th>6</th>\n",
       "      <td>Li</td>\n",
       "      <td>3</td>\n",
       "      <td>9</td>\n",
       "      <td>23.0</td>\n",
       "      <td>4+</td>\n",
       "      <td>1</td>\n",
       "      <td>0.0</td>\n",
       "      <td>4</td>\n",
       "      <td>+</td>\n",
       "      <td>4.0</td>\n",
       "      <td>True</td>\n",
       "      <td>0</td>\n",
       "      <td>2</td>\n",
       "      <td>9.718560</td>\n",
       "      <td>0.573067</td>\n",
       "      <td>0.778861</td>\n",
       "      <td>2</td>\n",
       "      <td>20.010187</td>\n",
       "    </tr>\n",
       "    <tr>\n",
       "      <th rowspan=\"2\" valign=\"top\">5</th>\n",
       "      <th>10</th>\n",
       "      <td>B</td>\n",
       "      <td>5</td>\n",
       "      <td>2</td>\n",
       "      <td>1.74005</td>\n",
       "      <td>0+</td>\n",
       "      <td>1</td>\n",
       "      <td>0.0</td>\n",
       "      <td>0</td>\n",
       "      <td>+</td>\n",
       "      <td>0.0</td>\n",
       "      <td>True</td>\n",
       "      <td>0</td>\n",
       "      <td>0</td>\n",
       "      <td>2.142425</td>\n",
       "      <td>1.641602</td>\n",
       "      <td>0.993705</td>\n",
       "      <td>0</td>\n",
       "      <td>1.641602</td>\n",
       "    </tr>\n",
       "    <tr>\n",
       "      <th>10</th>\n",
       "      <td>B</td>\n",
       "      <td>5</td>\n",
       "      <td>4</td>\n",
       "      <td>3.58713</td>\n",
       "      <td>2+</td>\n",
       "      <td>1</td>\n",
       "      <td>0.0</td>\n",
       "      <td>2</td>\n",
       "      <td>+</td>\n",
       "      <td>2.0</td>\n",
       "      <td>True</td>\n",
       "      <td>0</td>\n",
       "      <td>1</td>\n",
       "      <td>2.142425</td>\n",
       "      <td>1.641602</td>\n",
       "      <td>0.993705</td>\n",
       "      <td>1</td>\n",
       "      <td>3.784027</td>\n",
       "    </tr>\n",
       "    <tr>\n",
       "      <th>...</th>\n",
       "      <th>...</th>\n",
       "      <td>...</td>\n",
       "      <td>...</td>\n",
       "      <td>...</td>\n",
       "      <td>...</td>\n",
       "      <td>...</td>\n",
       "      <td>...</td>\n",
       "      <td>...</td>\n",
       "      <td>...</td>\n",
       "      <td>...</td>\n",
       "      <td>...</td>\n",
       "      <td>...</td>\n",
       "      <td>...</td>\n",
       "      <td>...</td>\n",
       "      <td>...</td>\n",
       "      <td>...</td>\n",
       "      <td>...</td>\n",
       "      <td>...</td>\n",
       "      <td>...</td>\n",
       "    </tr>\n",
       "    <tr>\n",
       "      <th rowspan=\"5\" valign=\"top\">82</th>\n",
       "      <th>208</th>\n",
       "      <td>Pb</td>\n",
       "      <td>126</td>\n",
       "      <td>20</td>\n",
       "      <td>4.323946</td>\n",
       "      <td>4+</td>\n",
       "      <td>1</td>\n",
       "      <td>0.211538</td>\n",
       "      <td>4</td>\n",
       "      <td>+</td>\n",
       "      <td>4.0</td>\n",
       "      <td>True</td>\n",
       "      <td>0</td>\n",
       "      <td>2</td>\n",
       "      <td>0.721725</td>\n",
       "      <td>1.897652</td>\n",
       "      <td>0.667453</td>\n",
       "      <td>2</td>\n",
       "      <td>3.341101</td>\n",
       "    </tr>\n",
       "    <tr>\n",
       "      <th>208</th>\n",
       "      <td>Pb</td>\n",
       "      <td>126</td>\n",
       "      <td>23</td>\n",
       "      <td>4.423647</td>\n",
       "      <td>6+</td>\n",
       "      <td>1</td>\n",
       "      <td>0.211538</td>\n",
       "      <td>6</td>\n",
       "      <td>+</td>\n",
       "      <td>6.0</td>\n",
       "      <td>True</td>\n",
       "      <td>0</td>\n",
       "      <td>3</td>\n",
       "      <td>0.721725</td>\n",
       "      <td>1.897652</td>\n",
       "      <td>0.667453</td>\n",
       "      <td>3</td>\n",
       "      <td>4.062826</td>\n",
       "    </tr>\n",
       "    <tr>\n",
       "      <th>208</th>\n",
       "      <td>Pb</td>\n",
       "      <td>126</td>\n",
       "      <td>26</td>\n",
       "      <td>4.610748</td>\n",
       "      <td>8+</td>\n",
       "      <td>1</td>\n",
       "      <td>0.211538</td>\n",
       "      <td>8</td>\n",
       "      <td>+</td>\n",
       "      <td>8.0</td>\n",
       "      <td>True</td>\n",
       "      <td>0</td>\n",
       "      <td>4</td>\n",
       "      <td>0.721725</td>\n",
       "      <td>1.897652</td>\n",
       "      <td>0.667453</td>\n",
       "      <td>4</td>\n",
       "      <td>4.784551</td>\n",
       "    </tr>\n",
       "    <tr>\n",
       "      <th>208</th>\n",
       "      <td>Pb</td>\n",
       "      <td>126</td>\n",
       "      <td>38</td>\n",
       "      <td>4.89523</td>\n",
       "      <td>10+</td>\n",
       "      <td>1</td>\n",
       "      <td>0.211538</td>\n",
       "      <td>10</td>\n",
       "      <td>+</td>\n",
       "      <td>10.0</td>\n",
       "      <td>True</td>\n",
       "      <td>0</td>\n",
       "      <td>5</td>\n",
       "      <td>0.721725</td>\n",
       "      <td>1.897652</td>\n",
       "      <td>0.667453</td>\n",
       "      <td>5</td>\n",
       "      <td>5.506275</td>\n",
       "    </tr>\n",
       "    <tr>\n",
       "      <th>208</th>\n",
       "      <td>Pb</td>\n",
       "      <td>126</td>\n",
       "      <td>184</td>\n",
       "      <td>6.10069</td>\n",
       "      <td>12+</td>\n",
       "      <td>1</td>\n",
       "      <td>0.211538</td>\n",
       "      <td>12</td>\n",
       "      <td>+</td>\n",
       "      <td>12.0</td>\n",
       "      <td>True</td>\n",
       "      <td>0</td>\n",
       "      <td>6</td>\n",
       "      <td>0.721725</td>\n",
       "      <td>1.897652</td>\n",
       "      <td>0.667453</td>\n",
       "      <td>6</td>\n",
       "      <td>6.228000</td>\n",
       "    </tr>\n",
       "  </tbody>\n",
       "</table>\n",
       "<p>1056 rows × 18 columns</p>\n",
       "</div>"
      ],
      "text/plain": [
       "       symbol    n  idx    energy   jp  jp_order      beta   j  p  j_float_x  \\\n",
       "z  a                                                                           \n",
       "3  6       Li    3    2   3.56288   0+         1       0.0   0  +        0.0   \n",
       "   6       Li    3    3     4.312   2+         1       0.0   2  +        2.0   \n",
       "   6       Li    3    9      23.0   4+         1       0.0   4  +        4.0   \n",
       "5  10       B    5    2   1.74005   0+         1       0.0   0  +        0.0   \n",
       "   10       B    5    4   3.58713   2+         1       0.0   2  +        2.0   \n",
       "...       ...  ...  ...       ...  ...       ...       ...  .. ..        ...   \n",
       "82 208     Pb  126   20  4.323946   4+         1  0.211538   4  +        4.0   \n",
       "   208     Pb  126   23  4.423647   6+         1  0.211538   6  +        6.0   \n",
       "   208     Pb  126   26  4.610748   8+         1  0.211538   8  +        8.0   \n",
       "   208     Pb  126   38   4.89523  10+         1  0.211538  10  +       10.0   \n",
       "   208     Pb  126  184   6.10069  12+         1  0.211538  12  +       12.0   \n",
       "\n",
       "        j_evenness  p_bit  quanta  energy_quantum  zero_point_energy  \\\n",
       "z  a                                                                   \n",
       "3  6          True      0       0        9.718560           0.573067   \n",
       "   6          True      0       1        9.718560           0.573067   \n",
       "   6          True      0       2        9.718560           0.573067   \n",
       "5  10         True      0       0        2.142425           1.641602   \n",
       "   10         True      0       1        2.142425           1.641602   \n",
       "...            ...    ...     ...             ...                ...   \n",
       "82 208        True      0       2        0.721725           1.897652   \n",
       "   208        True      0       3        0.721725           1.897652   \n",
       "   208        True      0       4        0.721725           1.897652   \n",
       "   208        True      0       5        0.721725           1.897652   \n",
       "   208        True      0       6        0.721725           1.897652   \n",
       "\n",
       "              r2  j_float_y  energy_pred  \n",
       "z  a                                      \n",
       "3  6    0.778861          0     0.573067  \n",
       "   6    0.778861          1    10.291627  \n",
       "   6    0.778861          2    20.010187  \n",
       "5  10   0.993705          0     1.641602  \n",
       "   10   0.993705          1     3.784027  \n",
       "...          ...        ...          ...  \n",
       "82 208  0.667453          2     3.341101  \n",
       "   208  0.667453          3     4.062826  \n",
       "   208  0.667453          4     4.784551  \n",
       "   208  0.667453          5     5.506275  \n",
       "   208  0.667453          6     6.228000  \n",
       "\n",
       "[1056 rows x 18 columns]"
      ]
     },
     "execution_count": 228,
     "metadata": {},
     "output_type": "execute_result"
    }
   ],
   "source": [
    "merged"
   ]
  },
  {
   "cell_type": "code",
   "execution_count": 229,
   "metadata": {},
   "outputs": [
    {
     "data": {
      "text/html": [
       "<div>\n",
       "<style scoped>\n",
       "    .dataframe tbody tr th:only-of-type {\n",
       "        vertical-align: middle;\n",
       "    }\n",
       "\n",
       "    .dataframe tbody tr th {\n",
       "        vertical-align: top;\n",
       "    }\n",
       "\n",
       "    .dataframe thead th {\n",
       "        text-align: right;\n",
       "    }\n",
       "</style>\n",
       "<table border=\"1\" class=\"dataframe\">\n",
       "  <thead>\n",
       "    <tr style=\"text-align: right;\">\n",
       "      <th></th>\n",
       "      <th></th>\n",
       "      <th>symbol</th>\n",
       "      <th>n</th>\n",
       "      <th>idx</th>\n",
       "      <th>energy</th>\n",
       "      <th>jp</th>\n",
       "      <th>jp_order</th>\n",
       "      <th>beta</th>\n",
       "      <th>j</th>\n",
       "      <th>p</th>\n",
       "      <th>j_float_x</th>\n",
       "      <th>j_evenness</th>\n",
       "      <th>p_bit</th>\n",
       "      <th>quanta</th>\n",
       "      <th>energy_quantum</th>\n",
       "      <th>zero_point_energy</th>\n",
       "      <th>r2</th>\n",
       "      <th>j_float_y</th>\n",
       "      <th>energy_pred</th>\n",
       "    </tr>\n",
       "    <tr>\n",
       "      <th>z</th>\n",
       "      <th>a</th>\n",
       "      <th></th>\n",
       "      <th></th>\n",
       "      <th></th>\n",
       "      <th></th>\n",
       "      <th></th>\n",
       "      <th></th>\n",
       "      <th></th>\n",
       "      <th></th>\n",
       "      <th></th>\n",
       "      <th></th>\n",
       "      <th></th>\n",
       "      <th></th>\n",
       "      <th></th>\n",
       "      <th></th>\n",
       "      <th></th>\n",
       "      <th></th>\n",
       "      <th></th>\n",
       "      <th></th>\n",
       "    </tr>\n",
       "  </thead>\n",
       "  <tbody>\n",
       "    <tr>\n",
       "      <th rowspan=\"6\" valign=\"top\">24</th>\n",
       "      <th>52</th>\n",
       "      <td>Cr</td>\n",
       "      <td>28</td>\n",
       "      <td>0</td>\n",
       "      <td>0.0</td>\n",
       "      <td>0+</td>\n",
       "      <td>1</td>\n",
       "      <td>0.076923</td>\n",
       "      <td>0</td>\n",
       "      <td>+</td>\n",
       "      <td>0.0</td>\n",
       "      <td>True</td>\n",
       "      <td>0</td>\n",
       "      <td>0</td>\n",
       "      <td>1.339497</td>\n",
       "      <td>-0.197777</td>\n",
       "      <td>0.958788</td>\n",
       "      <td>0</td>\n",
       "      <td>-0.197777</td>\n",
       "    </tr>\n",
       "    <tr>\n",
       "      <th>52</th>\n",
       "      <td>Cr</td>\n",
       "      <td>28</td>\n",
       "      <td>1</td>\n",
       "      <td>1.434091</td>\n",
       "      <td>2+</td>\n",
       "      <td>1</td>\n",
       "      <td>0.076923</td>\n",
       "      <td>2</td>\n",
       "      <td>+</td>\n",
       "      <td>2.0</td>\n",
       "      <td>True</td>\n",
       "      <td>0</td>\n",
       "      <td>1</td>\n",
       "      <td>1.339497</td>\n",
       "      <td>-0.197777</td>\n",
       "      <td>0.958788</td>\n",
       "      <td>1</td>\n",
       "      <td>1.141720</td>\n",
       "    </tr>\n",
       "    <tr>\n",
       "      <th>52</th>\n",
       "      <td>Cr</td>\n",
       "      <td>28</td>\n",
       "      <td>2</td>\n",
       "      <td>2.36963</td>\n",
       "      <td>4+</td>\n",
       "      <td>1</td>\n",
       "      <td>0.076923</td>\n",
       "      <td>4</td>\n",
       "      <td>+</td>\n",
       "      <td>4.0</td>\n",
       "      <td>True</td>\n",
       "      <td>0</td>\n",
       "      <td>2</td>\n",
       "      <td>1.339497</td>\n",
       "      <td>-0.197777</td>\n",
       "      <td>0.958788</td>\n",
       "      <td>2</td>\n",
       "      <td>2.481216</td>\n",
       "    </tr>\n",
       "    <tr>\n",
       "      <th>52</th>\n",
       "      <td>Cr</td>\n",
       "      <td>28</td>\n",
       "      <td>6</td>\n",
       "      <td>3.113858</td>\n",
       "      <td>6+</td>\n",
       "      <td>1</td>\n",
       "      <td>0.076923</td>\n",
       "      <td>6</td>\n",
       "      <td>+</td>\n",
       "      <td>6.0</td>\n",
       "      <td>True</td>\n",
       "      <td>0</td>\n",
       "      <td>3</td>\n",
       "      <td>1.339497</td>\n",
       "      <td>-0.197777</td>\n",
       "      <td>0.958788</td>\n",
       "      <td>3</td>\n",
       "      <td>3.820713</td>\n",
       "    </tr>\n",
       "    <tr>\n",
       "      <th>52</th>\n",
       "      <td>Cr</td>\n",
       "      <td>28</td>\n",
       "      <td>26</td>\n",
       "      <td>4.75031</td>\n",
       "      <td>8+</td>\n",
       "      <td>1</td>\n",
       "      <td>0.076923</td>\n",
       "      <td>8</td>\n",
       "      <td>+</td>\n",
       "      <td>8.0</td>\n",
       "      <td>True</td>\n",
       "      <td>0</td>\n",
       "      <td>4</td>\n",
       "      <td>1.339497</td>\n",
       "      <td>-0.197777</td>\n",
       "      <td>0.958788</td>\n",
       "      <td>4</td>\n",
       "      <td>5.160210</td>\n",
       "    </tr>\n",
       "    <tr>\n",
       "      <th>52</th>\n",
       "      <td>Cr</td>\n",
       "      <td>28</td>\n",
       "      <td>125</td>\n",
       "      <td>7.2379</td>\n",
       "      <td>10+</td>\n",
       "      <td>1</td>\n",
       "      <td>0.076923</td>\n",
       "      <td>10</td>\n",
       "      <td>+</td>\n",
       "      <td>10.0</td>\n",
       "      <td>True</td>\n",
       "      <td>0</td>\n",
       "      <td>5</td>\n",
       "      <td>1.339497</td>\n",
       "      <td>-0.197777</td>\n",
       "      <td>0.958788</td>\n",
       "      <td>5</td>\n",
       "      <td>6.499707</td>\n",
       "    </tr>\n",
       "  </tbody>\n",
       "</table>\n",
       "</div>"
      ],
      "text/plain": [
       "      symbol   n  idx    energy   jp  jp_order      beta   j  p  j_float_x  \\\n",
       "z  a                                                                         \n",
       "24 52     Cr  28    0       0.0   0+         1  0.076923   0  +        0.0   \n",
       "   52     Cr  28    1  1.434091   2+         1  0.076923   2  +        2.0   \n",
       "   52     Cr  28    2   2.36963   4+         1  0.076923   4  +        4.0   \n",
       "   52     Cr  28    6  3.113858   6+         1  0.076923   6  +        6.0   \n",
       "   52     Cr  28   26   4.75031   8+         1  0.076923   8  +        8.0   \n",
       "   52     Cr  28  125    7.2379  10+         1  0.076923  10  +       10.0   \n",
       "\n",
       "       j_evenness  p_bit  quanta  energy_quantum  zero_point_energy        r2  \\\n",
       "z  a                                                                            \n",
       "24 52        True      0       0        1.339497          -0.197777  0.958788   \n",
       "   52        True      0       1        1.339497          -0.197777  0.958788   \n",
       "   52        True      0       2        1.339497          -0.197777  0.958788   \n",
       "   52        True      0       3        1.339497          -0.197777  0.958788   \n",
       "   52        True      0       4        1.339497          -0.197777  0.958788   \n",
       "   52        True      0       5        1.339497          -0.197777  0.958788   \n",
       "\n",
       "       j_float_y  energy_pred  \n",
       "z  a                           \n",
       "24 52          0    -0.197777  \n",
       "   52          1     1.141720  \n",
       "   52          2     2.481216  \n",
       "   52          3     3.820713  \n",
       "   52          4     5.160210  \n",
       "   52          5     6.499707  "
      ]
     },
     "execution_count": 229,
     "metadata": {},
     "output_type": "execute_result"
    }
   ],
   "source": [
    "merged.loc[24,52]"
   ]
  },
  {
   "cell_type": "code",
   "execution_count": 230,
   "metadata": {},
   "outputs": [
    {
     "data": {
      "application/vnd.plotly.v1+json": {
       "config": {
        "plotlyServerURL": "https://plot.ly"
       },
       "data": [
        {
         "hovertemplate": "Number of neutrons (N)=%{x}<br>Number of protons (Z)=%{y}<br>R² Score=%{marker.color}<extra></extra>",
         "legendgroup": "",
         "marker": {
          "color": [
           0.9937051659729156,
           0.9644870188560396,
           0.9967033705948096,
           0.9784751192006406,
           0.9810515237248457,
           0.9385503736629797,
           0.9498673410233893,
           0.949590073106205,
           0.9825644346600345,
           0.9459225917675725,
           0.9901679151221034,
           0.9999643192315976,
           0.9923197781975721,
           0.9805890358563157,
           0.9678761436585087,
           0.9360178830892232,
           0.9392441060976223,
           0.988167640637415,
           0.9538105903465829,
           0.9876309131604877,
           0.9863689744011626,
           0.9556414020088807,
           0.9587884146474221,
           0.9856463318267962,
           0.9369222146599897,
           0.9810312556580304,
           0.9822242944935183,
           0.9577983777443965,
           0.9937924009016439,
           0.9636786094010601,
           0.9865047482924069,
           0.9923574962368998,
           0.9960802001048973,
           0.9978805412246683,
           0.9980395495302838,
           0.9886160380634686,
           0.9893557794626257,
           0.9781279213429266,
           0.9902391449466502,
           0.9904481199250054,
           0.9845713330194474,
           0.9734295121833336,
           0.9933515628321831,
           0.9928556629012003,
           0.9692504917013335,
           0.9515677334323395,
           0.9827380843023328,
           0.9360491936835089,
           0.9942009291902432,
           0.9672239209094887,
           0.9795401135405162,
           0.9944557121836785,
           0.9910784419936323,
           0.9993099349969601,
           0.9829772772283991,
           0.9969427328704714,
           0.9922422940260669,
           0.9805928001799629,
           0.983312579476703,
           0.9789078059570957,
           0.9971692901668271,
           0.9959949983090988,
           0.9881628940562779,
           0.986139456936586,
           0.988760615570537,
           0.993484370750749,
           0.9743364541123121,
           0.9955637103613257,
           0.9967964791025483,
           0.9959237665763164,
           0.9910562386978656,
           0.9715038161918393,
           0.982819241170226,
           0.9709930046814991,
           0.9635076699256668,
           0.9553859320404818,
           0.9916511718859189,
           0.9898914839257797,
           0.9907966954652008,
           0.9892619724117084,
           0.9611192266112276,
           0.9825461293663847,
           0.9927772506385908,
           0.9991598376930682,
           0.9801390423615711,
           0.9938298398413686,
           0.96679039000128,
           0.9661455712500561,
           0.9874969918943329,
           0.9478884483785037,
           0.9393669644770828,
           0.997896749576908,
           0.9869697443808739,
           0.9944415312239829,
           0.9697558485531131,
           0.9597987232107902,
           0.9748714476866034,
           0.9680723336703339,
           0.9447524284837765,
           0.9468405704774575,
           0.9669370566620853,
           0.9736343105338052,
           0.9729017751449296,
           0.9725504999573884,
           0.9461778081102604,
           0.9760664597772435,
           0.9659559575854718,
           0.9519260123299784,
           0.9449811438456577,
           0.9555131006423753,
           0.961874379692147,
           0.9643076902425506,
           0.9402461383243461,
           0.940072262862869,
           0.9395133529087442,
           0.9676954541981988,
           0.9651705062973879,
           0.9510291098252687,
           0.9606288651022671,
           0.9545369469817276,
           0.9305739596211873,
           0.9800456829416758,
           0.9607897791507237,
           0.9670415260911968,
           0.9835101423040932,
           0.9835888125577297,
           0.9832553158490557,
           0.9769045164502173,
           0.9871834585712924,
           0.9654983119028322,
           0.9810279982921292,
           0.9795049773012928,
           0.9639406519175264
          ],
          "coloraxis": "coloraxis",
          "symbol": "circle"
         },
         "mode": "markers",
         "name": "",
         "orientation": "v",
         "showlegend": false,
         "type": "scatter",
         "x": [
          5,
          6,
          7,
          8,
          12,
          12,
          14,
          14,
          16,
          16,
          18,
          20,
          18,
          20,
          22,
          20,
          22,
          24,
          26,
          24,
          26,
          28,
          28,
          30,
          28,
          30,
          32,
          30,
          32,
          34,
          34,
          36,
          38,
          38,
          40,
          42,
          44,
          40,
          42,
          44,
          46,
          42,
          44,
          46,
          48,
          50,
          46,
          48,
          50,
          52,
          54,
          52,
          54,
          56,
          52,
          54,
          56,
          58,
          60,
          56,
          58,
          60,
          62,
          64,
          58,
          60,
          62,
          64,
          66,
          62,
          64,
          66,
          68,
          70,
          72,
          74,
          68,
          70,
          72,
          74,
          72,
          74,
          76,
          78,
          74,
          78,
          80,
          82,
          78,
          82,
          82,
          86,
          88,
          88,
          90,
          92,
          90,
          92,
          94,
          96,
          90,
          92,
          94,
          96,
          98,
          94,
          96,
          98,
          100,
          102,
          98,
          100,
          102,
          104,
          106,
          104,
          106,
          108,
          108,
          110,
          112,
          112,
          114,
          116,
          114,
          116,
          118,
          120,
          116,
          118,
          120,
          122,
          124
         ],
         "xaxis": "x",
         "y": [
          5,
          6,
          7,
          8,
          10,
          12,
          12,
          14,
          14,
          16,
          16,
          16,
          18,
          18,
          18,
          20,
          20,
          20,
          20,
          22,
          22,
          22,
          24,
          24,
          26,
          26,
          26,
          28,
          28,
          28,
          30,
          30,
          30,
          32,
          32,
          32,
          32,
          34,
          34,
          34,
          34,
          36,
          36,
          36,
          36,
          36,
          38,
          38,
          38,
          40,
          40,
          42,
          42,
          42,
          44,
          44,
          44,
          44,
          44,
          46,
          46,
          46,
          46,
          46,
          48,
          48,
          48,
          48,
          48,
          50,
          50,
          50,
          50,
          50,
          50,
          50,
          52,
          52,
          52,
          52,
          54,
          54,
          54,
          54,
          56,
          56,
          56,
          56,
          58,
          58,
          60,
          60,
          60,
          62,
          62,
          62,
          64,
          64,
          64,
          64,
          66,
          66,
          66,
          66,
          66,
          68,
          68,
          68,
          68,
          68,
          70,
          70,
          70,
          70,
          70,
          72,
          72,
          72,
          74,
          74,
          74,
          76,
          76,
          76,
          78,
          78,
          78,
          78,
          80,
          80,
          80,
          80,
          80
         ],
         "yaxis": "y"
        }
       ],
       "layout": {
        "coloraxis": {
         "colorbar": {
          "title": {
           "text": "R² Score"
          }
         },
         "colorscale": [
          [
           0,
           "rgb(103,0,31)"
          ],
          [
           0.1,
           "rgb(178,24,43)"
          ],
          [
           0.2,
           "rgb(214,96,77)"
          ],
          [
           0.3,
           "rgb(244,165,130)"
          ],
          [
           0.4,
           "rgb(253,219,199)"
          ],
          [
           0.5,
           "rgb(247,247,247)"
          ],
          [
           0.6,
           "rgb(209,229,240)"
          ],
          [
           0.7,
           "rgb(146,197,222)"
          ],
          [
           0.8,
           "rgb(67,147,195)"
          ],
          [
           0.9,
           "rgb(33,102,172)"
          ],
          [
           1,
           "rgb(5,48,97)"
          ]
         ]
        },
        "height": 600,
        "legend": {
         "tracegroupgap": 0
        },
        "shapes": [
         {
          "line": {
           "color": "gray",
           "dash": "dash"
          },
          "name": "Magic numbers",
          "type": "line",
          "x0": 2,
          "x1": 2,
          "xref": "x",
          "y0": 0,
          "y1": 1,
          "yref": "y domain"
         },
         {
          "line": {
           "color": "gray",
           "dash": "dash"
          },
          "type": "line",
          "x0": 8,
          "x1": 8,
          "xref": "x",
          "y0": 0,
          "y1": 1,
          "yref": "y domain"
         },
         {
          "line": {
           "color": "gray",
           "dash": "dash"
          },
          "type": "line",
          "x0": 20,
          "x1": 20,
          "xref": "x",
          "y0": 0,
          "y1": 1,
          "yref": "y domain"
         },
         {
          "line": {
           "color": "gray",
           "dash": "dash"
          },
          "type": "line",
          "x0": 50,
          "x1": 50,
          "xref": "x",
          "y0": 0,
          "y1": 1,
          "yref": "y domain"
         },
         {
          "line": {
           "color": "gray",
           "dash": "dash"
          },
          "type": "line",
          "x0": 58,
          "x1": 58,
          "xref": "x",
          "y0": 0,
          "y1": 1,
          "yref": "y domain"
         },
         {
          "line": {
           "color": "gray",
           "dash": "dash"
          },
          "type": "line",
          "x0": 82,
          "x1": 82,
          "xref": "x",
          "y0": 0,
          "y1": 1,
          "yref": "y domain"
         },
         {
          "line": {
           "color": "gray",
           "dash": "dash"
          },
          "type": "line",
          "x0": 126,
          "x1": 126,
          "xref": "x",
          "y0": 0,
          "y1": 1,
          "yref": "y domain"
         },
         {
          "line": {
           "color": "gray",
           "dash": "dash"
          },
          "type": "line",
          "x0": 0,
          "x1": 1,
          "xref": "x domain",
          "y0": 2,
          "y1": 2,
          "yref": "y"
         },
         {
          "line": {
           "color": "gray",
           "dash": "dash"
          },
          "type": "line",
          "x0": 0,
          "x1": 1,
          "xref": "x domain",
          "y0": 8,
          "y1": 8,
          "yref": "y"
         },
         {
          "line": {
           "color": "gray",
           "dash": "dash"
          },
          "type": "line",
          "x0": 0,
          "x1": 1,
          "xref": "x domain",
          "y0": 20,
          "y1": 20,
          "yref": "y"
         },
         {
          "line": {
           "color": "gray",
           "dash": "dash"
          },
          "type": "line",
          "x0": 0,
          "x1": 1,
          "xref": "x domain",
          "y0": 50,
          "y1": 50,
          "yref": "y"
         },
         {
          "line": {
           "color": "gray",
           "dash": "dash"
          },
          "type": "line",
          "x0": 0,
          "x1": 1,
          "xref": "x domain",
          "y0": 58,
          "y1": 58,
          "yref": "y"
         },
         {
          "line": {
           "color": "gray",
           "dash": "dash"
          },
          "type": "line",
          "x0": 0,
          "x1": 1,
          "xref": "x domain",
          "y0": 82,
          "y1": 82,
          "yref": "y"
         }
        ],
        "template": {
         "data": {
          "bar": [
           {
            "error_x": {
             "color": "#2a3f5f"
            },
            "error_y": {
             "color": "#2a3f5f"
            },
            "marker": {
             "line": {
              "color": "#E5ECF6",
              "width": 0.5
             },
             "pattern": {
              "fillmode": "overlay",
              "size": 10,
              "solidity": 0.2
             }
            },
            "type": "bar"
           }
          ],
          "barpolar": [
           {
            "marker": {
             "line": {
              "color": "#E5ECF6",
              "width": 0.5
             },
             "pattern": {
              "fillmode": "overlay",
              "size": 10,
              "solidity": 0.2
             }
            },
            "type": "barpolar"
           }
          ],
          "carpet": [
           {
            "aaxis": {
             "endlinecolor": "#2a3f5f",
             "gridcolor": "white",
             "linecolor": "white",
             "minorgridcolor": "white",
             "startlinecolor": "#2a3f5f"
            },
            "baxis": {
             "endlinecolor": "#2a3f5f",
             "gridcolor": "white",
             "linecolor": "white",
             "minorgridcolor": "white",
             "startlinecolor": "#2a3f5f"
            },
            "type": "carpet"
           }
          ],
          "choropleth": [
           {
            "colorbar": {
             "outlinewidth": 0,
             "ticks": ""
            },
            "type": "choropleth"
           }
          ],
          "contour": [
           {
            "colorbar": {
             "outlinewidth": 0,
             "ticks": ""
            },
            "colorscale": [
             [
              0,
              "#0d0887"
             ],
             [
              0.1111111111111111,
              "#46039f"
             ],
             [
              0.2222222222222222,
              "#7201a8"
             ],
             [
              0.3333333333333333,
              "#9c179e"
             ],
             [
              0.4444444444444444,
              "#bd3786"
             ],
             [
              0.5555555555555556,
              "#d8576b"
             ],
             [
              0.6666666666666666,
              "#ed7953"
             ],
             [
              0.7777777777777778,
              "#fb9f3a"
             ],
             [
              0.8888888888888888,
              "#fdca26"
             ],
             [
              1,
              "#f0f921"
             ]
            ],
            "type": "contour"
           }
          ],
          "contourcarpet": [
           {
            "colorbar": {
             "outlinewidth": 0,
             "ticks": ""
            },
            "type": "contourcarpet"
           }
          ],
          "heatmap": [
           {
            "colorbar": {
             "outlinewidth": 0,
             "ticks": ""
            },
            "colorscale": [
             [
              0,
              "#0d0887"
             ],
             [
              0.1111111111111111,
              "#46039f"
             ],
             [
              0.2222222222222222,
              "#7201a8"
             ],
             [
              0.3333333333333333,
              "#9c179e"
             ],
             [
              0.4444444444444444,
              "#bd3786"
             ],
             [
              0.5555555555555556,
              "#d8576b"
             ],
             [
              0.6666666666666666,
              "#ed7953"
             ],
             [
              0.7777777777777778,
              "#fb9f3a"
             ],
             [
              0.8888888888888888,
              "#fdca26"
             ],
             [
              1,
              "#f0f921"
             ]
            ],
            "type": "heatmap"
           }
          ],
          "heatmapgl": [
           {
            "colorbar": {
             "outlinewidth": 0,
             "ticks": ""
            },
            "colorscale": [
             [
              0,
              "#0d0887"
             ],
             [
              0.1111111111111111,
              "#46039f"
             ],
             [
              0.2222222222222222,
              "#7201a8"
             ],
             [
              0.3333333333333333,
              "#9c179e"
             ],
             [
              0.4444444444444444,
              "#bd3786"
             ],
             [
              0.5555555555555556,
              "#d8576b"
             ],
             [
              0.6666666666666666,
              "#ed7953"
             ],
             [
              0.7777777777777778,
              "#fb9f3a"
             ],
             [
              0.8888888888888888,
              "#fdca26"
             ],
             [
              1,
              "#f0f921"
             ]
            ],
            "type": "heatmapgl"
           }
          ],
          "histogram": [
           {
            "marker": {
             "pattern": {
              "fillmode": "overlay",
              "size": 10,
              "solidity": 0.2
             }
            },
            "type": "histogram"
           }
          ],
          "histogram2d": [
           {
            "colorbar": {
             "outlinewidth": 0,
             "ticks": ""
            },
            "colorscale": [
             [
              0,
              "#0d0887"
             ],
             [
              0.1111111111111111,
              "#46039f"
             ],
             [
              0.2222222222222222,
              "#7201a8"
             ],
             [
              0.3333333333333333,
              "#9c179e"
             ],
             [
              0.4444444444444444,
              "#bd3786"
             ],
             [
              0.5555555555555556,
              "#d8576b"
             ],
             [
              0.6666666666666666,
              "#ed7953"
             ],
             [
              0.7777777777777778,
              "#fb9f3a"
             ],
             [
              0.8888888888888888,
              "#fdca26"
             ],
             [
              1,
              "#f0f921"
             ]
            ],
            "type": "histogram2d"
           }
          ],
          "histogram2dcontour": [
           {
            "colorbar": {
             "outlinewidth": 0,
             "ticks": ""
            },
            "colorscale": [
             [
              0,
              "#0d0887"
             ],
             [
              0.1111111111111111,
              "#46039f"
             ],
             [
              0.2222222222222222,
              "#7201a8"
             ],
             [
              0.3333333333333333,
              "#9c179e"
             ],
             [
              0.4444444444444444,
              "#bd3786"
             ],
             [
              0.5555555555555556,
              "#d8576b"
             ],
             [
              0.6666666666666666,
              "#ed7953"
             ],
             [
              0.7777777777777778,
              "#fb9f3a"
             ],
             [
              0.8888888888888888,
              "#fdca26"
             ],
             [
              1,
              "#f0f921"
             ]
            ],
            "type": "histogram2dcontour"
           }
          ],
          "mesh3d": [
           {
            "colorbar": {
             "outlinewidth": 0,
             "ticks": ""
            },
            "type": "mesh3d"
           }
          ],
          "parcoords": [
           {
            "line": {
             "colorbar": {
              "outlinewidth": 0,
              "ticks": ""
             }
            },
            "type": "parcoords"
           }
          ],
          "pie": [
           {
            "automargin": true,
            "type": "pie"
           }
          ],
          "scatter": [
           {
            "fillpattern": {
             "fillmode": "overlay",
             "size": 10,
             "solidity": 0.2
            },
            "type": "scatter"
           }
          ],
          "scatter3d": [
           {
            "line": {
             "colorbar": {
              "outlinewidth": 0,
              "ticks": ""
             }
            },
            "marker": {
             "colorbar": {
              "outlinewidth": 0,
              "ticks": ""
             }
            },
            "type": "scatter3d"
           }
          ],
          "scattercarpet": [
           {
            "marker": {
             "colorbar": {
              "outlinewidth": 0,
              "ticks": ""
             }
            },
            "type": "scattercarpet"
           }
          ],
          "scattergeo": [
           {
            "marker": {
             "colorbar": {
              "outlinewidth": 0,
              "ticks": ""
             }
            },
            "type": "scattergeo"
           }
          ],
          "scattergl": [
           {
            "marker": {
             "colorbar": {
              "outlinewidth": 0,
              "ticks": ""
             }
            },
            "type": "scattergl"
           }
          ],
          "scattermapbox": [
           {
            "marker": {
             "colorbar": {
              "outlinewidth": 0,
              "ticks": ""
             }
            },
            "type": "scattermapbox"
           }
          ],
          "scatterpolar": [
           {
            "marker": {
             "colorbar": {
              "outlinewidth": 0,
              "ticks": ""
             }
            },
            "type": "scatterpolar"
           }
          ],
          "scatterpolargl": [
           {
            "marker": {
             "colorbar": {
              "outlinewidth": 0,
              "ticks": ""
             }
            },
            "type": "scatterpolargl"
           }
          ],
          "scatterternary": [
           {
            "marker": {
             "colorbar": {
              "outlinewidth": 0,
              "ticks": ""
             }
            },
            "type": "scatterternary"
           }
          ],
          "surface": [
           {
            "colorbar": {
             "outlinewidth": 0,
             "ticks": ""
            },
            "colorscale": [
             [
              0,
              "#0d0887"
             ],
             [
              0.1111111111111111,
              "#46039f"
             ],
             [
              0.2222222222222222,
              "#7201a8"
             ],
             [
              0.3333333333333333,
              "#9c179e"
             ],
             [
              0.4444444444444444,
              "#bd3786"
             ],
             [
              0.5555555555555556,
              "#d8576b"
             ],
             [
              0.6666666666666666,
              "#ed7953"
             ],
             [
              0.7777777777777778,
              "#fb9f3a"
             ],
             [
              0.8888888888888888,
              "#fdca26"
             ],
             [
              1,
              "#f0f921"
             ]
            ],
            "type": "surface"
           }
          ],
          "table": [
           {
            "cells": {
             "fill": {
              "color": "#EBF0F8"
             },
             "line": {
              "color": "white"
             }
            },
            "header": {
             "fill": {
              "color": "#C8D4E3"
             },
             "line": {
              "color": "white"
             }
            },
            "type": "table"
           }
          ]
         },
         "layout": {
          "annotationdefaults": {
           "arrowcolor": "#2a3f5f",
           "arrowhead": 0,
           "arrowwidth": 1
          },
          "autotypenumbers": "strict",
          "coloraxis": {
           "colorbar": {
            "outlinewidth": 0,
            "ticks": ""
           }
          },
          "colorscale": {
           "diverging": [
            [
             0,
             "#8e0152"
            ],
            [
             0.1,
             "#c51b7d"
            ],
            [
             0.2,
             "#de77ae"
            ],
            [
             0.3,
             "#f1b6da"
            ],
            [
             0.4,
             "#fde0ef"
            ],
            [
             0.5,
             "#f7f7f7"
            ],
            [
             0.6,
             "#e6f5d0"
            ],
            [
             0.7,
             "#b8e186"
            ],
            [
             0.8,
             "#7fbc41"
            ],
            [
             0.9,
             "#4d9221"
            ],
            [
             1,
             "#276419"
            ]
           ],
           "sequential": [
            [
             0,
             "#0d0887"
            ],
            [
             0.1111111111111111,
             "#46039f"
            ],
            [
             0.2222222222222222,
             "#7201a8"
            ],
            [
             0.3333333333333333,
             "#9c179e"
            ],
            [
             0.4444444444444444,
             "#bd3786"
            ],
            [
             0.5555555555555556,
             "#d8576b"
            ],
            [
             0.6666666666666666,
             "#ed7953"
            ],
            [
             0.7777777777777778,
             "#fb9f3a"
            ],
            [
             0.8888888888888888,
             "#fdca26"
            ],
            [
             1,
             "#f0f921"
            ]
           ],
           "sequentialminus": [
            [
             0,
             "#0d0887"
            ],
            [
             0.1111111111111111,
             "#46039f"
            ],
            [
             0.2222222222222222,
             "#7201a8"
            ],
            [
             0.3333333333333333,
             "#9c179e"
            ],
            [
             0.4444444444444444,
             "#bd3786"
            ],
            [
             0.5555555555555556,
             "#d8576b"
            ],
            [
             0.6666666666666666,
             "#ed7953"
            ],
            [
             0.7777777777777778,
             "#fb9f3a"
            ],
            [
             0.8888888888888888,
             "#fdca26"
            ],
            [
             1,
             "#f0f921"
            ]
           ]
          },
          "colorway": [
           "#636efa",
           "#EF553B",
           "#00cc96",
           "#ab63fa",
           "#FFA15A",
           "#19d3f3",
           "#FF6692",
           "#B6E880",
           "#FF97FF",
           "#FECB52"
          ],
          "font": {
           "color": "#2a3f5f"
          },
          "geo": {
           "bgcolor": "white",
           "lakecolor": "white",
           "landcolor": "#E5ECF6",
           "showlakes": true,
           "showland": true,
           "subunitcolor": "white"
          },
          "hoverlabel": {
           "align": "left"
          },
          "hovermode": "closest",
          "mapbox": {
           "style": "light"
          },
          "paper_bgcolor": "white",
          "plot_bgcolor": "#E5ECF6",
          "polar": {
           "angularaxis": {
            "gridcolor": "white",
            "linecolor": "white",
            "ticks": ""
           },
           "bgcolor": "#E5ECF6",
           "radialaxis": {
            "gridcolor": "white",
            "linecolor": "white",
            "ticks": ""
           }
          },
          "scene": {
           "xaxis": {
            "backgroundcolor": "#E5ECF6",
            "gridcolor": "white",
            "gridwidth": 2,
            "linecolor": "white",
            "showbackground": true,
            "ticks": "",
            "zerolinecolor": "white"
           },
           "yaxis": {
            "backgroundcolor": "#E5ECF6",
            "gridcolor": "white",
            "gridwidth": 2,
            "linecolor": "white",
            "showbackground": true,
            "ticks": "",
            "zerolinecolor": "white"
           },
           "zaxis": {
            "backgroundcolor": "#E5ECF6",
            "gridcolor": "white",
            "gridwidth": 2,
            "linecolor": "white",
            "showbackground": true,
            "ticks": "",
            "zerolinecolor": "white"
           }
          },
          "shapedefaults": {
           "line": {
            "color": "#2a3f5f"
           }
          },
          "ternary": {
           "aaxis": {
            "gridcolor": "white",
            "linecolor": "white",
            "ticks": ""
           },
           "baxis": {
            "gridcolor": "white",
            "linecolor": "white",
            "ticks": ""
           },
           "bgcolor": "#E5ECF6",
           "caxis": {
            "gridcolor": "white",
            "linecolor": "white",
            "ticks": ""
           }
          },
          "title": {
           "x": 0.05
          },
          "xaxis": {
           "automargin": true,
           "gridcolor": "white",
           "linecolor": "white",
           "ticks": "",
           "title": {
            "standoff": 15
           },
           "zerolinecolor": "white",
           "zerolinewidth": 2
          },
          "yaxis": {
           "automargin": true,
           "gridcolor": "white",
           "linecolor": "white",
           "ticks": "",
           "title": {
            "standoff": 15
           },
           "zerolinecolor": "white",
           "zerolinewidth": 2
          }
         }
        },
        "title": {
         "text": "R² Values for Best Oscillator Fits"
        },
        "xaxis": {
         "anchor": "y",
         "domain": [
          0,
          1
         ],
         "title": {
          "text": "Number of neutrons (N)"
         }
        },
        "yaxis": {
         "anchor": "x",
         "domain": [
          0,
          1
         ],
         "title": {
          "text": "Number of protons (Z)"
         }
        }
       }
      }
     },
     "metadata": {},
     "output_type": "display_data"
    }
   ],
   "source": [
    "df_to_plot = best_osc_merged\n",
    "# df_to_plot = merged\n",
    "\n",
    "fig = px.scatter(df_to_plot.groupby(by=df_to_plot.index).head(1).reset_index(), \n",
    "          # x='a', \n",
    "          x='n',\n",
    "          y='z', \n",
    "          color='r2',\n",
    "          title='R² Values for Best Oscillator Fits',\n",
    "          # labels={'z': 'Number of protons (Z)', 'a': 'Weight (A)', 'r2': 'R² Score'},\n",
    "          labels={'z': 'Number of protons (Z)', 'n': 'Number of neutrons (N)', 'r2': 'R² Score'},\n",
    "          color_continuous_scale='RdBu',\n",
    "          height=600)\n",
    "\n",
    "\n",
    "magic_numbers_n = [2, 8, 20, 50, 58, 82, 126]\n",
    "magic_numbers_z = [2, 8, 20, 50, 58, 82]\n",
    "\n",
    "for i, m in enumerate(magic_numbers_n):\n",
    "    fig.add_vline(x=m, line_dash=\"dash\", line_color=\"gray\", name=\"Magic numbers\" if i==0 else None)\n",
    "\n",
    "for i, m in enumerate(magic_numbers_z):\n",
    "    fig.add_hline(y=m, line_dash=\"dash\", line_color=\"gray\")\n",
    "\n",
    "fig.show()"
   ]
  },
  {
   "cell_type": "code",
   "execution_count": 231,
   "metadata": {},
   "outputs": [
    {
     "data": {
      "application/vnd.plotly.v1+json": {
       "config": {
        "plotlyServerURL": "https://plot.ly"
       },
       "data": [
        {
         "hovertemplate": "Weight (A)=%{x}<br>R² Score=%{y}<br>Asymmetry parameter=%{marker.color}<extra></extra>",
         "legendgroup": "",
         "marker": {
          "color": [
           0,
           0,
           0,
           0,
           0,
           0.1111111111111111,
           0,
           0.09090909090909091,
           0,
           0.07692307692307693,
           0,
           0.06666666666666667,
           0,
           0.058823529411764705,
           0.1111111111111111,
           0,
           0.05263157894736842,
           0.1,
           0,
           0.047619047619047616,
           0.09090909090909091,
           0.13043478260869565,
           0.043478260869565216,
           0.08333333333333333,
           0.12,
           0.07692307692307693,
           0.1111111111111111,
           0.037037037037037035,
           0.07142857142857142,
           0.10344827586206896,
           0.034482758620689655,
           0.06666666666666667,
           0.0967741935483871,
           0.125,
           0.0625,
           0.09090909090909091,
           0.11764705882352941,
           0.08571428571428572,
           0.1111111111111111,
           0.13513513513513514,
           0.15789473684210525,
           0.08108108108108109,
           0.10526315789473684,
           0.1282051282051282,
           0.15,
           0.07692307692307693,
           0.1,
           0.12195121951219512,
           0.14285714285714285,
           0.16279069767441862,
           0.09523809523809523,
           0.11627906976744186,
           0.13636363636363635,
           0.1111111111111111,
           0.13043478260869565,
           0.14893617021276595,
           0.08695652173913043,
           0.10638297872340426,
           0.125,
           0.14285714285714285,
           0.08333333333333333,
           0.10204081632653061,
           0.12,
           0.13725490196078433,
           0.15384615384615385,
           0.09803921568627451,
           0.11538461538461539,
           0.1320754716981132,
           0.14814814814814814,
           0.16363636363636364,
           0.09433962264150944,
           0.1111111111111111,
           0.12727272727272726,
           0.14285714285714285,
           0.15789473684210525,
           0.10714285714285714,
           0.12280701754385964,
           0.13793103448275862,
           0.15254237288135594,
           0.16666666666666666,
           0.18032786885245902,
           0.1935483870967742,
           0.13333333333333333,
           0.14754098360655737,
           0.16129032258064516,
           0.1746031746031746,
           0.14285714285714285,
           0.15625,
           0.16923076923076924,
           0.18181818181818182,
           0.13846153846153847,
           0.16417910447761194,
           0.17647058823529413,
           0.18840579710144928,
           0.14705882352941177,
           0.17142857142857143,
           0.15492957746478872,
           0.1780821917808219,
           0.1891891891891892,
           0.1388888888888889,
           0.17333333333333334,
           0.18421052631578946,
           0.19480519480519481,
           0.16883116883116883,
           0.1794871794871795,
           0.189873417721519,
           0.2,
           0.15384615384615385,
           0.16455696202531644,
           0.175,
           0.18518518518518517,
           0.1951219512195122,
           0.16049382716049382,
           0.17073170731707318,
           0.18072289156626506,
           0.19047619047619047,
           0.2,
           0.16666666666666666,
           0.17647058823529413,
           0.18604651162790697,
           0.19540229885057472,
           0.20454545454545456,
           0.18181818181818182,
           0.19101123595505617,
           0.2,
           0.18681318681318682,
           0.1956521739130435,
           0.20430107526881722,
           0.19148936170212766,
           0.2,
           0.20833333333333334,
           0.1875,
           0.1958762886597938,
           0.20408163265306123,
           0.21212121212121213,
           0.1836734693877551,
           0.1919191919191919,
           0.2,
           0.2079207920792079,
           0.21568627450980393,
           0.20388349514563106,
           0.21153846153846154
          ],
          "coloraxis": "coloraxis",
          "symbol": "circle"
         },
         "mode": "markers",
         "name": "",
         "orientation": "v",
         "showlegend": false,
         "type": "scatter",
         "x": [
          6,
          10,
          12,
          14,
          16,
          18,
          20,
          22,
          24,
          26,
          28,
          30,
          32,
          34,
          36,
          36,
          38,
          40,
          40,
          42,
          44,
          46,
          46,
          48,
          50,
          52,
          54,
          54,
          56,
          58,
          58,
          60,
          62,
          64,
          64,
          66,
          68,
          70,
          72,
          74,
          76,
          74,
          76,
          78,
          80,
          78,
          80,
          82,
          84,
          86,
          84,
          86,
          88,
          90,
          92,
          94,
          92,
          94,
          96,
          98,
          96,
          98,
          100,
          102,
          104,
          102,
          104,
          106,
          108,
          110,
          106,
          108,
          110,
          112,
          114,
          112,
          114,
          116,
          118,
          120,
          122,
          124,
          120,
          122,
          124,
          126,
          126,
          128,
          130,
          132,
          130,
          134,
          136,
          138,
          136,
          140,
          142,
          146,
          148,
          144,
          150,
          152,
          154,
          154,
          156,
          158,
          160,
          156,
          158,
          160,
          162,
          164,
          162,
          164,
          166,
          168,
          170,
          168,
          170,
          172,
          174,
          176,
          176,
          178,
          180,
          182,
          184,
          186,
          188,
          190,
          192,
          192,
          194,
          196,
          198,
          196,
          198,
          200,
          202,
          204,
          206,
          208
         ],
         "xaxis": "x",
         "y": [
          0.7788609288303405,
          0.9937051659729156,
          0.9644870188560396,
          0.9967033705948096,
          0.9784751192006406,
          0.8494830451957567,
          0.8400610899239027,
          0.9810515237248457,
          0.9385503736629797,
          0.9498673410233893,
          0.949590073106205,
          0.9825644346600345,
          0.9459225917675725,
          0.9901679151221034,
          0.9999643192315976,
          0.9923197781975721,
          0.9805890358563157,
          0.9678761436585087,
          0.9360178830892232,
          0.9392441060976223,
          0.988167640637415,
          0.9538105903465829,
          0.9876309131604877,
          0.9863689744011626,
          0.9556414020088807,
          0.9587884146474221,
          0.9856463318267962,
          0.9369222146599897,
          0.9810312556580304,
          0.9822242944935183,
          0.9577983777443965,
          0.9937924009016439,
          0.9636786094010601,
          0.877009635255544,
          0.9865047482924069,
          0.9923574962368998,
          0.9960802001048973,
          0.9978805412246683,
          0.9980395495302838,
          0.9886160380634686,
          0.9893557794626257,
          0.9781279213429266,
          0.9902391449466502,
          0.9904481199250054,
          0.9845713330194474,
          0.9734295121833336,
          0.9933515628321831,
          0.9928556629012003,
          0.9692504917013335,
          0.9515677334323395,
          0.9827380843023328,
          0.9360491936835089,
          0.9942009291902432,
          0.8932511822175686,
          0.9672239209094887,
          0.9795401135405162,
          0.8545514970019703,
          0.9944557121836785,
          0.9910784419936323,
          0.9993099349969601,
          0.9829772772283991,
          0.9969427328704714,
          0.9922422940260669,
          0.9805928001799629,
          0.983312579476703,
          0.9789078059570957,
          0.9971692901668271,
          0.9959949983090988,
          0.9881628940562779,
          0.986139456936586,
          0.988760615570537,
          0.993484370750749,
          0.9743364541123121,
          0.9955637103613257,
          0.9967964791025483,
          0.9959237665763164,
          0.9910562386978656,
          0.9715038161918393,
          0.982819241170226,
          0.9709930046814991,
          0.9635076699256668,
          0.9553859320404818,
          0.9916511718859189,
          0.9898914839257797,
          0.9907966954652008,
          0.9892619724117084,
          0.9611192266112276,
          0.9825461293663847,
          0.9927772506385908,
          0.9991598376930682,
          0.9801390423615711,
          0.9938298398413686,
          0.96679039000128,
          0.9661455712500561,
          0.9874969918943329,
          0.9478884483785037,
          0.9393669644770828,
          0.997896749576908,
          0.9869697443808739,
          0.8218582050008416,
          0.9944415312239829,
          0.9697558485531131,
          0.9597987232107902,
          0.9748714476866034,
          0.9680723336703339,
          0.9447524284837765,
          0.9468405704774575,
          0.9669370566620853,
          0.9736343105338052,
          0.9729017751449296,
          0.9725504999573884,
          0.9461778081102604,
          0.9760664597772435,
          0.9659559575854718,
          0.9519260123299784,
          0.9449811438456577,
          0.9555131006423753,
          0.961874379692147,
          0.9643076902425506,
          0.9402461383243461,
          0.940072262862869,
          0.9395133529087442,
          0.9676954541981988,
          0.9651705062973879,
          0.9510291098252687,
          0.9606288651022671,
          0.9545369469817276,
          0.9305739596211873,
          0.9800456829416758,
          0.9607897791507237,
          0.9670415260911968,
          0.9835101423040932,
          0.9835888125577297,
          0.9832553158490557,
          0.9769045164502173,
          0.9871834585712924,
          0.9654983119028322,
          0.9810279982921292,
          0.9795049773012928,
          0.9639406519175264,
          0.7587849622126971,
          0.6674533562601971
         ],
         "yaxis": "y"
        }
       ],
       "layout": {
        "coloraxis": {
         "colorbar": {
          "title": {
           "text": "Asymmetry parameter"
          }
         },
         "colorscale": [
          [
           0,
           "#440154"
          ],
          [
           0.1111111111111111,
           "#482878"
          ],
          [
           0.2222222222222222,
           "#3e4989"
          ],
          [
           0.3333333333333333,
           "#31688e"
          ],
          [
           0.4444444444444444,
           "#26828e"
          ],
          [
           0.5555555555555556,
           "#1f9e89"
          ],
          [
           0.6666666666666666,
           "#35b779"
          ],
          [
           0.7777777777777778,
           "#6ece58"
          ],
          [
           0.8888888888888888,
           "#b5de2b"
          ],
          [
           1,
           "#fde725"
          ]
         ]
        },
        "legend": {
         "tracegroupgap": 0
        },
        "template": {
         "data": {
          "bar": [
           {
            "error_x": {
             "color": "#2a3f5f"
            },
            "error_y": {
             "color": "#2a3f5f"
            },
            "marker": {
             "line": {
              "color": "#E5ECF6",
              "width": 0.5
             },
             "pattern": {
              "fillmode": "overlay",
              "size": 10,
              "solidity": 0.2
             }
            },
            "type": "bar"
           }
          ],
          "barpolar": [
           {
            "marker": {
             "line": {
              "color": "#E5ECF6",
              "width": 0.5
             },
             "pattern": {
              "fillmode": "overlay",
              "size": 10,
              "solidity": 0.2
             }
            },
            "type": "barpolar"
           }
          ],
          "carpet": [
           {
            "aaxis": {
             "endlinecolor": "#2a3f5f",
             "gridcolor": "white",
             "linecolor": "white",
             "minorgridcolor": "white",
             "startlinecolor": "#2a3f5f"
            },
            "baxis": {
             "endlinecolor": "#2a3f5f",
             "gridcolor": "white",
             "linecolor": "white",
             "minorgridcolor": "white",
             "startlinecolor": "#2a3f5f"
            },
            "type": "carpet"
           }
          ],
          "choropleth": [
           {
            "colorbar": {
             "outlinewidth": 0,
             "ticks": ""
            },
            "type": "choropleth"
           }
          ],
          "contour": [
           {
            "colorbar": {
             "outlinewidth": 0,
             "ticks": ""
            },
            "colorscale": [
             [
              0,
              "#0d0887"
             ],
             [
              0.1111111111111111,
              "#46039f"
             ],
             [
              0.2222222222222222,
              "#7201a8"
             ],
             [
              0.3333333333333333,
              "#9c179e"
             ],
             [
              0.4444444444444444,
              "#bd3786"
             ],
             [
              0.5555555555555556,
              "#d8576b"
             ],
             [
              0.6666666666666666,
              "#ed7953"
             ],
             [
              0.7777777777777778,
              "#fb9f3a"
             ],
             [
              0.8888888888888888,
              "#fdca26"
             ],
             [
              1,
              "#f0f921"
             ]
            ],
            "type": "contour"
           }
          ],
          "contourcarpet": [
           {
            "colorbar": {
             "outlinewidth": 0,
             "ticks": ""
            },
            "type": "contourcarpet"
           }
          ],
          "heatmap": [
           {
            "colorbar": {
             "outlinewidth": 0,
             "ticks": ""
            },
            "colorscale": [
             [
              0,
              "#0d0887"
             ],
             [
              0.1111111111111111,
              "#46039f"
             ],
             [
              0.2222222222222222,
              "#7201a8"
             ],
             [
              0.3333333333333333,
              "#9c179e"
             ],
             [
              0.4444444444444444,
              "#bd3786"
             ],
             [
              0.5555555555555556,
              "#d8576b"
             ],
             [
              0.6666666666666666,
              "#ed7953"
             ],
             [
              0.7777777777777778,
              "#fb9f3a"
             ],
             [
              0.8888888888888888,
              "#fdca26"
             ],
             [
              1,
              "#f0f921"
             ]
            ],
            "type": "heatmap"
           }
          ],
          "heatmapgl": [
           {
            "colorbar": {
             "outlinewidth": 0,
             "ticks": ""
            },
            "colorscale": [
             [
              0,
              "#0d0887"
             ],
             [
              0.1111111111111111,
              "#46039f"
             ],
             [
              0.2222222222222222,
              "#7201a8"
             ],
             [
              0.3333333333333333,
              "#9c179e"
             ],
             [
              0.4444444444444444,
              "#bd3786"
             ],
             [
              0.5555555555555556,
              "#d8576b"
             ],
             [
              0.6666666666666666,
              "#ed7953"
             ],
             [
              0.7777777777777778,
              "#fb9f3a"
             ],
             [
              0.8888888888888888,
              "#fdca26"
             ],
             [
              1,
              "#f0f921"
             ]
            ],
            "type": "heatmapgl"
           }
          ],
          "histogram": [
           {
            "marker": {
             "pattern": {
              "fillmode": "overlay",
              "size": 10,
              "solidity": 0.2
             }
            },
            "type": "histogram"
           }
          ],
          "histogram2d": [
           {
            "colorbar": {
             "outlinewidth": 0,
             "ticks": ""
            },
            "colorscale": [
             [
              0,
              "#0d0887"
             ],
             [
              0.1111111111111111,
              "#46039f"
             ],
             [
              0.2222222222222222,
              "#7201a8"
             ],
             [
              0.3333333333333333,
              "#9c179e"
             ],
             [
              0.4444444444444444,
              "#bd3786"
             ],
             [
              0.5555555555555556,
              "#d8576b"
             ],
             [
              0.6666666666666666,
              "#ed7953"
             ],
             [
              0.7777777777777778,
              "#fb9f3a"
             ],
             [
              0.8888888888888888,
              "#fdca26"
             ],
             [
              1,
              "#f0f921"
             ]
            ],
            "type": "histogram2d"
           }
          ],
          "histogram2dcontour": [
           {
            "colorbar": {
             "outlinewidth": 0,
             "ticks": ""
            },
            "colorscale": [
             [
              0,
              "#0d0887"
             ],
             [
              0.1111111111111111,
              "#46039f"
             ],
             [
              0.2222222222222222,
              "#7201a8"
             ],
             [
              0.3333333333333333,
              "#9c179e"
             ],
             [
              0.4444444444444444,
              "#bd3786"
             ],
             [
              0.5555555555555556,
              "#d8576b"
             ],
             [
              0.6666666666666666,
              "#ed7953"
             ],
             [
              0.7777777777777778,
              "#fb9f3a"
             ],
             [
              0.8888888888888888,
              "#fdca26"
             ],
             [
              1,
              "#f0f921"
             ]
            ],
            "type": "histogram2dcontour"
           }
          ],
          "mesh3d": [
           {
            "colorbar": {
             "outlinewidth": 0,
             "ticks": ""
            },
            "type": "mesh3d"
           }
          ],
          "parcoords": [
           {
            "line": {
             "colorbar": {
              "outlinewidth": 0,
              "ticks": ""
             }
            },
            "type": "parcoords"
           }
          ],
          "pie": [
           {
            "automargin": true,
            "type": "pie"
           }
          ],
          "scatter": [
           {
            "fillpattern": {
             "fillmode": "overlay",
             "size": 10,
             "solidity": 0.2
            },
            "type": "scatter"
           }
          ],
          "scatter3d": [
           {
            "line": {
             "colorbar": {
              "outlinewidth": 0,
              "ticks": ""
             }
            },
            "marker": {
             "colorbar": {
              "outlinewidth": 0,
              "ticks": ""
             }
            },
            "type": "scatter3d"
           }
          ],
          "scattercarpet": [
           {
            "marker": {
             "colorbar": {
              "outlinewidth": 0,
              "ticks": ""
             }
            },
            "type": "scattercarpet"
           }
          ],
          "scattergeo": [
           {
            "marker": {
             "colorbar": {
              "outlinewidth": 0,
              "ticks": ""
             }
            },
            "type": "scattergeo"
           }
          ],
          "scattergl": [
           {
            "marker": {
             "colorbar": {
              "outlinewidth": 0,
              "ticks": ""
             }
            },
            "type": "scattergl"
           }
          ],
          "scattermapbox": [
           {
            "marker": {
             "colorbar": {
              "outlinewidth": 0,
              "ticks": ""
             }
            },
            "type": "scattermapbox"
           }
          ],
          "scatterpolar": [
           {
            "marker": {
             "colorbar": {
              "outlinewidth": 0,
              "ticks": ""
             }
            },
            "type": "scatterpolar"
           }
          ],
          "scatterpolargl": [
           {
            "marker": {
             "colorbar": {
              "outlinewidth": 0,
              "ticks": ""
             }
            },
            "type": "scatterpolargl"
           }
          ],
          "scatterternary": [
           {
            "marker": {
             "colorbar": {
              "outlinewidth": 0,
              "ticks": ""
             }
            },
            "type": "scatterternary"
           }
          ],
          "surface": [
           {
            "colorbar": {
             "outlinewidth": 0,
             "ticks": ""
            },
            "colorscale": [
             [
              0,
              "#0d0887"
             ],
             [
              0.1111111111111111,
              "#46039f"
             ],
             [
              0.2222222222222222,
              "#7201a8"
             ],
             [
              0.3333333333333333,
              "#9c179e"
             ],
             [
              0.4444444444444444,
              "#bd3786"
             ],
             [
              0.5555555555555556,
              "#d8576b"
             ],
             [
              0.6666666666666666,
              "#ed7953"
             ],
             [
              0.7777777777777778,
              "#fb9f3a"
             ],
             [
              0.8888888888888888,
              "#fdca26"
             ],
             [
              1,
              "#f0f921"
             ]
            ],
            "type": "surface"
           }
          ],
          "table": [
           {
            "cells": {
             "fill": {
              "color": "#EBF0F8"
             },
             "line": {
              "color": "white"
             }
            },
            "header": {
             "fill": {
              "color": "#C8D4E3"
             },
             "line": {
              "color": "white"
             }
            },
            "type": "table"
           }
          ]
         },
         "layout": {
          "annotationdefaults": {
           "arrowcolor": "#2a3f5f",
           "arrowhead": 0,
           "arrowwidth": 1
          },
          "autotypenumbers": "strict",
          "coloraxis": {
           "colorbar": {
            "outlinewidth": 0,
            "ticks": ""
           }
          },
          "colorscale": {
           "diverging": [
            [
             0,
             "#8e0152"
            ],
            [
             0.1,
             "#c51b7d"
            ],
            [
             0.2,
             "#de77ae"
            ],
            [
             0.3,
             "#f1b6da"
            ],
            [
             0.4,
             "#fde0ef"
            ],
            [
             0.5,
             "#f7f7f7"
            ],
            [
             0.6,
             "#e6f5d0"
            ],
            [
             0.7,
             "#b8e186"
            ],
            [
             0.8,
             "#7fbc41"
            ],
            [
             0.9,
             "#4d9221"
            ],
            [
             1,
             "#276419"
            ]
           ],
           "sequential": [
            [
             0,
             "#0d0887"
            ],
            [
             0.1111111111111111,
             "#46039f"
            ],
            [
             0.2222222222222222,
             "#7201a8"
            ],
            [
             0.3333333333333333,
             "#9c179e"
            ],
            [
             0.4444444444444444,
             "#bd3786"
            ],
            [
             0.5555555555555556,
             "#d8576b"
            ],
            [
             0.6666666666666666,
             "#ed7953"
            ],
            [
             0.7777777777777778,
             "#fb9f3a"
            ],
            [
             0.8888888888888888,
             "#fdca26"
            ],
            [
             1,
             "#f0f921"
            ]
           ],
           "sequentialminus": [
            [
             0,
             "#0d0887"
            ],
            [
             0.1111111111111111,
             "#46039f"
            ],
            [
             0.2222222222222222,
             "#7201a8"
            ],
            [
             0.3333333333333333,
             "#9c179e"
            ],
            [
             0.4444444444444444,
             "#bd3786"
            ],
            [
             0.5555555555555556,
             "#d8576b"
            ],
            [
             0.6666666666666666,
             "#ed7953"
            ],
            [
             0.7777777777777778,
             "#fb9f3a"
            ],
            [
             0.8888888888888888,
             "#fdca26"
            ],
            [
             1,
             "#f0f921"
            ]
           ]
          },
          "colorway": [
           "#636efa",
           "#EF553B",
           "#00cc96",
           "#ab63fa",
           "#FFA15A",
           "#19d3f3",
           "#FF6692",
           "#B6E880",
           "#FF97FF",
           "#FECB52"
          ],
          "font": {
           "color": "#2a3f5f"
          },
          "geo": {
           "bgcolor": "white",
           "lakecolor": "white",
           "landcolor": "#E5ECF6",
           "showlakes": true,
           "showland": true,
           "subunitcolor": "white"
          },
          "hoverlabel": {
           "align": "left"
          },
          "hovermode": "closest",
          "mapbox": {
           "style": "light"
          },
          "paper_bgcolor": "white",
          "plot_bgcolor": "#E5ECF6",
          "polar": {
           "angularaxis": {
            "gridcolor": "white",
            "linecolor": "white",
            "ticks": ""
           },
           "bgcolor": "#E5ECF6",
           "radialaxis": {
            "gridcolor": "white",
            "linecolor": "white",
            "ticks": ""
           }
          },
          "scene": {
           "xaxis": {
            "backgroundcolor": "#E5ECF6",
            "gridcolor": "white",
            "gridwidth": 2,
            "linecolor": "white",
            "showbackground": true,
            "ticks": "",
            "zerolinecolor": "white"
           },
           "yaxis": {
            "backgroundcolor": "#E5ECF6",
            "gridcolor": "white",
            "gridwidth": 2,
            "linecolor": "white",
            "showbackground": true,
            "ticks": "",
            "zerolinecolor": "white"
           },
           "zaxis": {
            "backgroundcolor": "#E5ECF6",
            "gridcolor": "white",
            "gridwidth": 2,
            "linecolor": "white",
            "showbackground": true,
            "ticks": "",
            "zerolinecolor": "white"
           }
          },
          "shapedefaults": {
           "line": {
            "color": "#2a3f5f"
           }
          },
          "ternary": {
           "aaxis": {
            "gridcolor": "white",
            "linecolor": "white",
            "ticks": ""
           },
           "baxis": {
            "gridcolor": "white",
            "linecolor": "white",
            "ticks": ""
           },
           "bgcolor": "#E5ECF6",
           "caxis": {
            "gridcolor": "white",
            "linecolor": "white",
            "ticks": ""
           }
          },
          "title": {
           "x": 0.05
          },
          "xaxis": {
           "automargin": true,
           "gridcolor": "white",
           "linecolor": "white",
           "ticks": "",
           "title": {
            "standoff": 15
           },
           "zerolinecolor": "white",
           "zerolinewidth": 2
          },
          "yaxis": {
           "automargin": true,
           "gridcolor": "white",
           "linecolor": "white",
           "ticks": "",
           "title": {
            "standoff": 15
           },
           "zerolinecolor": "white",
           "zerolinewidth": 2
          }
         }
        },
        "title": {
         "text": "R² Values for All Oscillator Fits"
        },
        "xaxis": {
         "anchor": "y",
         "domain": [
          0,
          1
         ],
         "title": {
          "text": "Weight (A)"
         }
        },
        "yaxis": {
         "anchor": "x",
         "domain": [
          0,
          1
         ],
         "title": {
          "text": "R² Score"
         }
        }
       }
      }
     },
     "metadata": {},
     "output_type": "display_data"
    }
   ],
   "source": [
    "df_to_plot = merged\n",
    "\n",
    "px.scatter(df_to_plot.groupby(by=df_to_plot.index).head(1).reset_index(), \n",
    "            x='a', \n",
    "            y='r2', \n",
    "            color='beta',\n",
    "            title='R² Values for All Oscillator Fits',\n",
    "            labels={'beta': 'Asymmetry parameter', 'a': 'Weight (A)', 'r2': 'R² Score'},\n",
    "            color_continuous_scale='viridis')"
   ]
  },
  {
   "cell_type": "code",
   "execution_count": 232,
   "metadata": {},
   "outputs": [
    {
     "data": {
      "application/vnd.plotly.v1+json": {
       "config": {
        "plotlyServerURL": "https://plot.ly"
       },
       "data": [
        {
         "hovertemplate": "Number of neutrons (N)=%{x}<br>Number of protons (Z)=%{y}<br>R² Score=%{marker.color}<extra></extra>",
         "legendgroup": "",
         "marker": {
          "color": [
           0.7788609288303405,
           0.9937051659729156,
           0.9644870188560396,
           0.9967033705948096,
           0.9784751192006406,
           0.8494830451957567,
           0.8400610899239027,
           0.9810515237248457,
           0.9385503736629797,
           0.9498673410233893,
           0.949590073106205,
           0.9825644346600345,
           0.9459225917675725,
           0.9901679151221034,
           0.9999643192315976,
           0.9923197781975721,
           0.9805890358563157,
           0.9678761436585087,
           0.9360178830892232,
           0.9392441060976223,
           0.988167640637415,
           0.9538105903465829,
           0.9876309131604877,
           0.9863689744011626,
           0.9556414020088807,
           0.9587884146474221,
           0.9856463318267962,
           0.9369222146599897,
           0.9810312556580304,
           0.9822242944935183,
           0.9577983777443965,
           0.9937924009016439,
           0.9636786094010601,
           0.877009635255544,
           0.9865047482924069,
           0.9923574962368998,
           0.9960802001048973,
           0.9978805412246683,
           0.9980395495302838,
           0.9886160380634686,
           0.9893557794626257,
           0.9781279213429266,
           0.9902391449466502,
           0.9904481199250054,
           0.9845713330194474,
           0.9734295121833336,
           0.9933515628321831,
           0.9928556629012003,
           0.9692504917013335,
           0.9515677334323395,
           0.9827380843023328,
           0.9360491936835089,
           0.9942009291902432,
           0.8932511822175686,
           0.9672239209094887,
           0.9795401135405162,
           0.8545514970019703,
           0.9944557121836785,
           0.9910784419936323,
           0.9993099349969601,
           0.9829772772283991,
           0.9969427328704714,
           0.9922422940260669,
           0.9805928001799629,
           0.983312579476703,
           0.9789078059570957,
           0.9971692901668271,
           0.9959949983090988,
           0.9881628940562779,
           0.986139456936586,
           0.988760615570537,
           0.993484370750749,
           0.9743364541123121,
           0.9955637103613257,
           0.9967964791025483,
           0.9959237665763164,
           0.9910562386978656,
           0.9715038161918393,
           0.982819241170226,
           0.9709930046814991,
           0.9635076699256668,
           0.9553859320404818,
           0.9916511718859189,
           0.9898914839257797,
           0.9907966954652008,
           0.9892619724117084,
           0.9611192266112276,
           0.9825461293663847,
           0.9927772506385908,
           0.9991598376930682,
           0.9801390423615711,
           0.9938298398413686,
           0.96679039000128,
           0.9661455712500561,
           0.9874969918943329,
           0.9478884483785037,
           0.9393669644770828,
           0.997896749576908,
           0.9869697443808739,
           0.8218582050008416,
           0.9944415312239829,
           0.9697558485531131,
           0.9597987232107902,
           0.9748714476866034,
           0.9680723336703339,
           0.9447524284837765,
           0.9468405704774575,
           0.9669370566620853,
           0.9736343105338052,
           0.9729017751449296,
           0.9725504999573884,
           0.9461778081102604,
           0.9760664597772435,
           0.9659559575854718,
           0.9519260123299784,
           0.9449811438456577,
           0.9555131006423753,
           0.961874379692147,
           0.9643076902425506,
           0.9402461383243461,
           0.940072262862869,
           0.9395133529087442,
           0.9676954541981988,
           0.9651705062973879,
           0.9510291098252687,
           0.9606288651022671,
           0.9545369469817276,
           0.9305739596211873,
           0.9800456829416758,
           0.9607897791507237,
           0.9670415260911968,
           0.9835101423040932,
           0.9835888125577297,
           0.9832553158490557,
           0.9769045164502173,
           0.9871834585712924,
           0.9654983119028322,
           0.9810279982921292,
           0.9795049773012928,
           0.9639406519175264,
           0.7587849622126971,
           0.6674533562601971
          ],
          "coloraxis": "coloraxis",
          "symbol": "circle"
         },
         "mode": "markers",
         "name": "",
         "orientation": "v",
         "showlegend": false,
         "type": "scatter",
         "x": [
          3,
          5,
          6,
          7,
          8,
          10,
          10,
          12,
          12,
          14,
          14,
          16,
          16,
          18,
          20,
          18,
          20,
          22,
          20,
          22,
          24,
          26,
          24,
          26,
          28,
          28,
          30,
          28,
          30,
          32,
          30,
          32,
          34,
          36,
          34,
          36,
          38,
          38,
          40,
          42,
          44,
          40,
          42,
          44,
          46,
          42,
          44,
          46,
          48,
          50,
          46,
          48,
          50,
          50,
          52,
          54,
          50,
          52,
          54,
          56,
          52,
          54,
          56,
          58,
          60,
          56,
          58,
          60,
          62,
          64,
          58,
          60,
          62,
          64,
          66,
          62,
          64,
          66,
          68,
          70,
          72,
          74,
          68,
          70,
          72,
          74,
          72,
          74,
          76,
          78,
          74,
          78,
          80,
          82,
          78,
          82,
          82,
          86,
          88,
          82,
          88,
          90,
          92,
          90,
          92,
          94,
          96,
          90,
          92,
          94,
          96,
          98,
          94,
          96,
          98,
          100,
          102,
          98,
          100,
          102,
          104,
          106,
          104,
          106,
          108,
          108,
          110,
          112,
          112,
          114,
          116,
          114,
          116,
          118,
          120,
          116,
          118,
          120,
          122,
          124,
          124,
          126
         ],
         "xaxis": "x",
         "y": [
          3,
          5,
          6,
          7,
          8,
          8,
          10,
          10,
          12,
          12,
          14,
          14,
          16,
          16,
          16,
          18,
          18,
          18,
          20,
          20,
          20,
          20,
          22,
          22,
          22,
          24,
          24,
          26,
          26,
          26,
          28,
          28,
          28,
          28,
          30,
          30,
          30,
          32,
          32,
          32,
          32,
          34,
          34,
          34,
          34,
          36,
          36,
          36,
          36,
          36,
          38,
          38,
          38,
          40,
          40,
          40,
          42,
          42,
          42,
          42,
          44,
          44,
          44,
          44,
          44,
          46,
          46,
          46,
          46,
          46,
          48,
          48,
          48,
          48,
          48,
          50,
          50,
          50,
          50,
          50,
          50,
          50,
          52,
          52,
          52,
          52,
          54,
          54,
          54,
          54,
          56,
          56,
          56,
          56,
          58,
          58,
          60,
          60,
          60,
          62,
          62,
          62,
          62,
          64,
          64,
          64,
          64,
          66,
          66,
          66,
          66,
          66,
          68,
          68,
          68,
          68,
          68,
          70,
          70,
          70,
          70,
          70,
          72,
          72,
          72,
          74,
          74,
          74,
          76,
          76,
          76,
          78,
          78,
          78,
          78,
          80,
          80,
          80,
          80,
          80,
          82,
          82
         ],
         "yaxis": "y"
        }
       ],
       "layout": {
        "coloraxis": {
         "colorbar": {
          "title": {
           "text": "R² Score"
          }
         },
         "colorscale": [
          [
           0,
           "red"
          ],
          [
           0.8,
           "white"
          ],
          [
           1,
           "blue"
          ]
         ]
        },
        "height": 600,
        "legend": {
         "tracegroupgap": 0
        },
        "shapes": [
         {
          "line": {
           "color": "gray",
           "dash": "dash"
          },
          "name": "Magic numbers",
          "type": "line",
          "x0": 2,
          "x1": 2,
          "xref": "x",
          "y0": 0,
          "y1": 1,
          "yref": "y domain"
         },
         {
          "line": {
           "color": "gray",
           "dash": "dash"
          },
          "type": "line",
          "x0": 8,
          "x1": 8,
          "xref": "x",
          "y0": 0,
          "y1": 1,
          "yref": "y domain"
         },
         {
          "line": {
           "color": "gray",
           "dash": "dash"
          },
          "type": "line",
          "x0": 20,
          "x1": 20,
          "xref": "x",
          "y0": 0,
          "y1": 1,
          "yref": "y domain"
         },
         {
          "line": {
           "color": "gray",
           "dash": "dash"
          },
          "type": "line",
          "x0": 50,
          "x1": 50,
          "xref": "x",
          "y0": 0,
          "y1": 1,
          "yref": "y domain"
         },
         {
          "line": {
           "color": "gray",
           "dash": "dash"
          },
          "type": "line",
          "x0": 58,
          "x1": 58,
          "xref": "x",
          "y0": 0,
          "y1": 1,
          "yref": "y domain"
         },
         {
          "line": {
           "color": "gray",
           "dash": "dash"
          },
          "type": "line",
          "x0": 82,
          "x1": 82,
          "xref": "x",
          "y0": 0,
          "y1": 1,
          "yref": "y domain"
         },
         {
          "line": {
           "color": "gray",
           "dash": "dash"
          },
          "type": "line",
          "x0": 126,
          "x1": 126,
          "xref": "x",
          "y0": 0,
          "y1": 1,
          "yref": "y domain"
         },
         {
          "line": {
           "color": "gray",
           "dash": "dash"
          },
          "type": "line",
          "x0": 0,
          "x1": 1,
          "xref": "x domain",
          "y0": 2,
          "y1": 2,
          "yref": "y"
         },
         {
          "line": {
           "color": "gray",
           "dash": "dash"
          },
          "type": "line",
          "x0": 0,
          "x1": 1,
          "xref": "x domain",
          "y0": 8,
          "y1": 8,
          "yref": "y"
         },
         {
          "line": {
           "color": "gray",
           "dash": "dash"
          },
          "type": "line",
          "x0": 0,
          "x1": 1,
          "xref": "x domain",
          "y0": 20,
          "y1": 20,
          "yref": "y"
         },
         {
          "line": {
           "color": "gray",
           "dash": "dash"
          },
          "type": "line",
          "x0": 0,
          "x1": 1,
          "xref": "x domain",
          "y0": 50,
          "y1": 50,
          "yref": "y"
         },
         {
          "line": {
           "color": "gray",
           "dash": "dash"
          },
          "type": "line",
          "x0": 0,
          "x1": 1,
          "xref": "x domain",
          "y0": 58,
          "y1": 58,
          "yref": "y"
         },
         {
          "line": {
           "color": "gray",
           "dash": "dash"
          },
          "type": "line",
          "x0": 0,
          "x1": 1,
          "xref": "x domain",
          "y0": 82,
          "y1": 82,
          "yref": "y"
         }
        ],
        "template": {
         "data": {
          "bar": [
           {
            "error_x": {
             "color": "#2a3f5f"
            },
            "error_y": {
             "color": "#2a3f5f"
            },
            "marker": {
             "line": {
              "color": "#E5ECF6",
              "width": 0.5
             },
             "pattern": {
              "fillmode": "overlay",
              "size": 10,
              "solidity": 0.2
             }
            },
            "type": "bar"
           }
          ],
          "barpolar": [
           {
            "marker": {
             "line": {
              "color": "#E5ECF6",
              "width": 0.5
             },
             "pattern": {
              "fillmode": "overlay",
              "size": 10,
              "solidity": 0.2
             }
            },
            "type": "barpolar"
           }
          ],
          "carpet": [
           {
            "aaxis": {
             "endlinecolor": "#2a3f5f",
             "gridcolor": "white",
             "linecolor": "white",
             "minorgridcolor": "white",
             "startlinecolor": "#2a3f5f"
            },
            "baxis": {
             "endlinecolor": "#2a3f5f",
             "gridcolor": "white",
             "linecolor": "white",
             "minorgridcolor": "white",
             "startlinecolor": "#2a3f5f"
            },
            "type": "carpet"
           }
          ],
          "choropleth": [
           {
            "colorbar": {
             "outlinewidth": 0,
             "ticks": ""
            },
            "type": "choropleth"
           }
          ],
          "contour": [
           {
            "colorbar": {
             "outlinewidth": 0,
             "ticks": ""
            },
            "colorscale": [
             [
              0,
              "#0d0887"
             ],
             [
              0.1111111111111111,
              "#46039f"
             ],
             [
              0.2222222222222222,
              "#7201a8"
             ],
             [
              0.3333333333333333,
              "#9c179e"
             ],
             [
              0.4444444444444444,
              "#bd3786"
             ],
             [
              0.5555555555555556,
              "#d8576b"
             ],
             [
              0.6666666666666666,
              "#ed7953"
             ],
             [
              0.7777777777777778,
              "#fb9f3a"
             ],
             [
              0.8888888888888888,
              "#fdca26"
             ],
             [
              1,
              "#f0f921"
             ]
            ],
            "type": "contour"
           }
          ],
          "contourcarpet": [
           {
            "colorbar": {
             "outlinewidth": 0,
             "ticks": ""
            },
            "type": "contourcarpet"
           }
          ],
          "heatmap": [
           {
            "colorbar": {
             "outlinewidth": 0,
             "ticks": ""
            },
            "colorscale": [
             [
              0,
              "#0d0887"
             ],
             [
              0.1111111111111111,
              "#46039f"
             ],
             [
              0.2222222222222222,
              "#7201a8"
             ],
             [
              0.3333333333333333,
              "#9c179e"
             ],
             [
              0.4444444444444444,
              "#bd3786"
             ],
             [
              0.5555555555555556,
              "#d8576b"
             ],
             [
              0.6666666666666666,
              "#ed7953"
             ],
             [
              0.7777777777777778,
              "#fb9f3a"
             ],
             [
              0.8888888888888888,
              "#fdca26"
             ],
             [
              1,
              "#f0f921"
             ]
            ],
            "type": "heatmap"
           }
          ],
          "heatmapgl": [
           {
            "colorbar": {
             "outlinewidth": 0,
             "ticks": ""
            },
            "colorscale": [
             [
              0,
              "#0d0887"
             ],
             [
              0.1111111111111111,
              "#46039f"
             ],
             [
              0.2222222222222222,
              "#7201a8"
             ],
             [
              0.3333333333333333,
              "#9c179e"
             ],
             [
              0.4444444444444444,
              "#bd3786"
             ],
             [
              0.5555555555555556,
              "#d8576b"
             ],
             [
              0.6666666666666666,
              "#ed7953"
             ],
             [
              0.7777777777777778,
              "#fb9f3a"
             ],
             [
              0.8888888888888888,
              "#fdca26"
             ],
             [
              1,
              "#f0f921"
             ]
            ],
            "type": "heatmapgl"
           }
          ],
          "histogram": [
           {
            "marker": {
             "pattern": {
              "fillmode": "overlay",
              "size": 10,
              "solidity": 0.2
             }
            },
            "type": "histogram"
           }
          ],
          "histogram2d": [
           {
            "colorbar": {
             "outlinewidth": 0,
             "ticks": ""
            },
            "colorscale": [
             [
              0,
              "#0d0887"
             ],
             [
              0.1111111111111111,
              "#46039f"
             ],
             [
              0.2222222222222222,
              "#7201a8"
             ],
             [
              0.3333333333333333,
              "#9c179e"
             ],
             [
              0.4444444444444444,
              "#bd3786"
             ],
             [
              0.5555555555555556,
              "#d8576b"
             ],
             [
              0.6666666666666666,
              "#ed7953"
             ],
             [
              0.7777777777777778,
              "#fb9f3a"
             ],
             [
              0.8888888888888888,
              "#fdca26"
             ],
             [
              1,
              "#f0f921"
             ]
            ],
            "type": "histogram2d"
           }
          ],
          "histogram2dcontour": [
           {
            "colorbar": {
             "outlinewidth": 0,
             "ticks": ""
            },
            "colorscale": [
             [
              0,
              "#0d0887"
             ],
             [
              0.1111111111111111,
              "#46039f"
             ],
             [
              0.2222222222222222,
              "#7201a8"
             ],
             [
              0.3333333333333333,
              "#9c179e"
             ],
             [
              0.4444444444444444,
              "#bd3786"
             ],
             [
              0.5555555555555556,
              "#d8576b"
             ],
             [
              0.6666666666666666,
              "#ed7953"
             ],
             [
              0.7777777777777778,
              "#fb9f3a"
             ],
             [
              0.8888888888888888,
              "#fdca26"
             ],
             [
              1,
              "#f0f921"
             ]
            ],
            "type": "histogram2dcontour"
           }
          ],
          "mesh3d": [
           {
            "colorbar": {
             "outlinewidth": 0,
             "ticks": ""
            },
            "type": "mesh3d"
           }
          ],
          "parcoords": [
           {
            "line": {
             "colorbar": {
              "outlinewidth": 0,
              "ticks": ""
             }
            },
            "type": "parcoords"
           }
          ],
          "pie": [
           {
            "automargin": true,
            "type": "pie"
           }
          ],
          "scatter": [
           {
            "fillpattern": {
             "fillmode": "overlay",
             "size": 10,
             "solidity": 0.2
            },
            "type": "scatter"
           }
          ],
          "scatter3d": [
           {
            "line": {
             "colorbar": {
              "outlinewidth": 0,
              "ticks": ""
             }
            },
            "marker": {
             "colorbar": {
              "outlinewidth": 0,
              "ticks": ""
             }
            },
            "type": "scatter3d"
           }
          ],
          "scattercarpet": [
           {
            "marker": {
             "colorbar": {
              "outlinewidth": 0,
              "ticks": ""
             }
            },
            "type": "scattercarpet"
           }
          ],
          "scattergeo": [
           {
            "marker": {
             "colorbar": {
              "outlinewidth": 0,
              "ticks": ""
             }
            },
            "type": "scattergeo"
           }
          ],
          "scattergl": [
           {
            "marker": {
             "colorbar": {
              "outlinewidth": 0,
              "ticks": ""
             }
            },
            "type": "scattergl"
           }
          ],
          "scattermapbox": [
           {
            "marker": {
             "colorbar": {
              "outlinewidth": 0,
              "ticks": ""
             }
            },
            "type": "scattermapbox"
           }
          ],
          "scatterpolar": [
           {
            "marker": {
             "colorbar": {
              "outlinewidth": 0,
              "ticks": ""
             }
            },
            "type": "scatterpolar"
           }
          ],
          "scatterpolargl": [
           {
            "marker": {
             "colorbar": {
              "outlinewidth": 0,
              "ticks": ""
             }
            },
            "type": "scatterpolargl"
           }
          ],
          "scatterternary": [
           {
            "marker": {
             "colorbar": {
              "outlinewidth": 0,
              "ticks": ""
             }
            },
            "type": "scatterternary"
           }
          ],
          "surface": [
           {
            "colorbar": {
             "outlinewidth": 0,
             "ticks": ""
            },
            "colorscale": [
             [
              0,
              "#0d0887"
             ],
             [
              0.1111111111111111,
              "#46039f"
             ],
             [
              0.2222222222222222,
              "#7201a8"
             ],
             [
              0.3333333333333333,
              "#9c179e"
             ],
             [
              0.4444444444444444,
              "#bd3786"
             ],
             [
              0.5555555555555556,
              "#d8576b"
             ],
             [
              0.6666666666666666,
              "#ed7953"
             ],
             [
              0.7777777777777778,
              "#fb9f3a"
             ],
             [
              0.8888888888888888,
              "#fdca26"
             ],
             [
              1,
              "#f0f921"
             ]
            ],
            "type": "surface"
           }
          ],
          "table": [
           {
            "cells": {
             "fill": {
              "color": "#EBF0F8"
             },
             "line": {
              "color": "white"
             }
            },
            "header": {
             "fill": {
              "color": "#C8D4E3"
             },
             "line": {
              "color": "white"
             }
            },
            "type": "table"
           }
          ]
         },
         "layout": {
          "annotationdefaults": {
           "arrowcolor": "#2a3f5f",
           "arrowhead": 0,
           "arrowwidth": 1
          },
          "autotypenumbers": "strict",
          "coloraxis": {
           "colorbar": {
            "outlinewidth": 0,
            "ticks": ""
           }
          },
          "colorscale": {
           "diverging": [
            [
             0,
             "#8e0152"
            ],
            [
             0.1,
             "#c51b7d"
            ],
            [
             0.2,
             "#de77ae"
            ],
            [
             0.3,
             "#f1b6da"
            ],
            [
             0.4,
             "#fde0ef"
            ],
            [
             0.5,
             "#f7f7f7"
            ],
            [
             0.6,
             "#e6f5d0"
            ],
            [
             0.7,
             "#b8e186"
            ],
            [
             0.8,
             "#7fbc41"
            ],
            [
             0.9,
             "#4d9221"
            ],
            [
             1,
             "#276419"
            ]
           ],
           "sequential": [
            [
             0,
             "#0d0887"
            ],
            [
             0.1111111111111111,
             "#46039f"
            ],
            [
             0.2222222222222222,
             "#7201a8"
            ],
            [
             0.3333333333333333,
             "#9c179e"
            ],
            [
             0.4444444444444444,
             "#bd3786"
            ],
            [
             0.5555555555555556,
             "#d8576b"
            ],
            [
             0.6666666666666666,
             "#ed7953"
            ],
            [
             0.7777777777777778,
             "#fb9f3a"
            ],
            [
             0.8888888888888888,
             "#fdca26"
            ],
            [
             1,
             "#f0f921"
            ]
           ],
           "sequentialminus": [
            [
             0,
             "#0d0887"
            ],
            [
             0.1111111111111111,
             "#46039f"
            ],
            [
             0.2222222222222222,
             "#7201a8"
            ],
            [
             0.3333333333333333,
             "#9c179e"
            ],
            [
             0.4444444444444444,
             "#bd3786"
            ],
            [
             0.5555555555555556,
             "#d8576b"
            ],
            [
             0.6666666666666666,
             "#ed7953"
            ],
            [
             0.7777777777777778,
             "#fb9f3a"
            ],
            [
             0.8888888888888888,
             "#fdca26"
            ],
            [
             1,
             "#f0f921"
            ]
           ]
          },
          "colorway": [
           "#636efa",
           "#EF553B",
           "#00cc96",
           "#ab63fa",
           "#FFA15A",
           "#19d3f3",
           "#FF6692",
           "#B6E880",
           "#FF97FF",
           "#FECB52"
          ],
          "font": {
           "color": "#2a3f5f"
          },
          "geo": {
           "bgcolor": "white",
           "lakecolor": "white",
           "landcolor": "#E5ECF6",
           "showlakes": true,
           "showland": true,
           "subunitcolor": "white"
          },
          "hoverlabel": {
           "align": "left"
          },
          "hovermode": "closest",
          "mapbox": {
           "style": "light"
          },
          "paper_bgcolor": "white",
          "plot_bgcolor": "#E5ECF6",
          "polar": {
           "angularaxis": {
            "gridcolor": "white",
            "linecolor": "white",
            "ticks": ""
           },
           "bgcolor": "#E5ECF6",
           "radialaxis": {
            "gridcolor": "white",
            "linecolor": "white",
            "ticks": ""
           }
          },
          "scene": {
           "xaxis": {
            "backgroundcolor": "#E5ECF6",
            "gridcolor": "white",
            "gridwidth": 2,
            "linecolor": "white",
            "showbackground": true,
            "ticks": "",
            "zerolinecolor": "white"
           },
           "yaxis": {
            "backgroundcolor": "#E5ECF6",
            "gridcolor": "white",
            "gridwidth": 2,
            "linecolor": "white",
            "showbackground": true,
            "ticks": "",
            "zerolinecolor": "white"
           },
           "zaxis": {
            "backgroundcolor": "#E5ECF6",
            "gridcolor": "white",
            "gridwidth": 2,
            "linecolor": "white",
            "showbackground": true,
            "ticks": "",
            "zerolinecolor": "white"
           }
          },
          "shapedefaults": {
           "line": {
            "color": "#2a3f5f"
           }
          },
          "ternary": {
           "aaxis": {
            "gridcolor": "white",
            "linecolor": "white",
            "ticks": ""
           },
           "baxis": {
            "gridcolor": "white",
            "linecolor": "white",
            "ticks": ""
           },
           "bgcolor": "#E5ECF6",
           "caxis": {
            "gridcolor": "white",
            "linecolor": "white",
            "ticks": ""
           }
          },
          "title": {
           "x": 0.05
          },
          "xaxis": {
           "automargin": true,
           "gridcolor": "white",
           "linecolor": "white",
           "ticks": "",
           "title": {
            "standoff": 15
           },
           "zerolinecolor": "white",
           "zerolinewidth": 2
          },
          "yaxis": {
           "automargin": true,
           "gridcolor": "white",
           "linecolor": "white",
           "ticks": "",
           "title": {
            "standoff": 15
           },
           "zerolinecolor": "white",
           "zerolinewidth": 2
          }
         }
        },
        "title": {
         "text": "R² Values for All Oscillator Fits"
        },
        "xaxis": {
         "anchor": "y",
         "domain": [
          0,
          1
         ],
         "title": {
          "text": "Number of neutrons (N)"
         }
        },
        "yaxis": {
         "anchor": "x",
         "domain": [
          0,
          1
         ],
         "title": {
          "text": "Number of protons (Z)"
         }
        }
       }
      }
     },
     "metadata": {},
     "output_type": "display_data"
    }
   ],
   "source": [
    "df_to_plot = merged\n",
    "\n",
    "fig = px.scatter(df_to_plot.groupby(by=df_to_plot.index).head(1).reset_index(), \n",
    "          # x='a', \n",
    "          x='n',\n",
    "          y='z', \n",
    "          color='r2',\n",
    "          title='R² Values for All Oscillator Fits',\n",
    "          # labels={'z': 'Number of protons (Z)', 'a': 'Weight (A)', 'r2': 'R² Score'},\n",
    "          labels={'z': 'Number of protons (Z)', 'n': 'Number of neutrons (N)', 'r2': 'R² Score'},\n",
    "          color_continuous_scale=[(0, 'red'), (0.8, 'white'), (1, 'blue')],\n",
    "          height=600)\n",
    "\n",
    "\n",
    "magic_numbers_n = [2, 8, 20, 50, 58, 82, 126]\n",
    "magic_numbers_z = [2, 8, 20, 50, 58, 82]\n",
    "\n",
    "for i, m in enumerate(magic_numbers_n):\n",
    "    fig.add_vline(x=m, line_dash=\"dash\", line_color=\"gray\", name=\"Magic numbers\" if i==0 else None)\n",
    "\n",
    "for i, m in enumerate(magic_numbers_z):\n",
    "    fig.add_hline(y=m, line_dash=\"dash\", line_color=\"gray\")\n",
    "\n",
    "fig.show()"
   ]
  },
  {
   "cell_type": "code",
   "execution_count": 233,
   "metadata": {},
   "outputs": [
    {
     "data": {
      "text/html": [
       "<div>\n",
       "<style scoped>\n",
       "    .dataframe tbody tr th:only-of-type {\n",
       "        vertical-align: middle;\n",
       "    }\n",
       "\n",
       "    .dataframe tbody tr th {\n",
       "        vertical-align: top;\n",
       "    }\n",
       "\n",
       "    .dataframe thead th {\n",
       "        text-align: right;\n",
       "    }\n",
       "</style>\n",
       "<table border=\"1\" class=\"dataframe\">\n",
       "  <thead>\n",
       "    <tr style=\"text-align: right;\">\n",
       "      <th></th>\n",
       "      <th></th>\n",
       "      <th>symbol</th>\n",
       "      <th>n</th>\n",
       "      <th>idx</th>\n",
       "      <th>energy</th>\n",
       "      <th>jp</th>\n",
       "      <th>jp_order</th>\n",
       "      <th>beta</th>\n",
       "      <th>j</th>\n",
       "      <th>p</th>\n",
       "      <th>j_float_x</th>\n",
       "      <th>j_evenness</th>\n",
       "      <th>p_bit</th>\n",
       "      <th>quanta</th>\n",
       "      <th>energy_quantum</th>\n",
       "      <th>zero_point_energy</th>\n",
       "      <th>r2</th>\n",
       "      <th>j_float_y</th>\n",
       "      <th>energy_pred</th>\n",
       "    </tr>\n",
       "    <tr>\n",
       "      <th>z</th>\n",
       "      <th>a</th>\n",
       "      <th></th>\n",
       "      <th></th>\n",
       "      <th></th>\n",
       "      <th></th>\n",
       "      <th></th>\n",
       "      <th></th>\n",
       "      <th></th>\n",
       "      <th></th>\n",
       "      <th></th>\n",
       "      <th></th>\n",
       "      <th></th>\n",
       "      <th></th>\n",
       "      <th></th>\n",
       "      <th></th>\n",
       "      <th></th>\n",
       "      <th></th>\n",
       "      <th></th>\n",
       "      <th></th>\n",
       "    </tr>\n",
       "  </thead>\n",
       "  <tbody>\n",
       "    <tr>\n",
       "      <th rowspan=\"6\" valign=\"top\">24</th>\n",
       "      <th>52</th>\n",
       "      <td>Cr</td>\n",
       "      <td>28</td>\n",
       "      <td>0</td>\n",
       "      <td>0.0</td>\n",
       "      <td>0+</td>\n",
       "      <td>1</td>\n",
       "      <td>0.076923</td>\n",
       "      <td>0</td>\n",
       "      <td>+</td>\n",
       "      <td>0.0</td>\n",
       "      <td>True</td>\n",
       "      <td>0</td>\n",
       "      <td>0</td>\n",
       "      <td>1.339497</td>\n",
       "      <td>-0.197777</td>\n",
       "      <td>0.958788</td>\n",
       "      <td>0</td>\n",
       "      <td>-0.197777</td>\n",
       "    </tr>\n",
       "    <tr>\n",
       "      <th>52</th>\n",
       "      <td>Cr</td>\n",
       "      <td>28</td>\n",
       "      <td>1</td>\n",
       "      <td>1.434091</td>\n",
       "      <td>2+</td>\n",
       "      <td>1</td>\n",
       "      <td>0.076923</td>\n",
       "      <td>2</td>\n",
       "      <td>+</td>\n",
       "      <td>2.0</td>\n",
       "      <td>True</td>\n",
       "      <td>0</td>\n",
       "      <td>1</td>\n",
       "      <td>1.339497</td>\n",
       "      <td>-0.197777</td>\n",
       "      <td>0.958788</td>\n",
       "      <td>1</td>\n",
       "      <td>1.141720</td>\n",
       "    </tr>\n",
       "    <tr>\n",
       "      <th>52</th>\n",
       "      <td>Cr</td>\n",
       "      <td>28</td>\n",
       "      <td>2</td>\n",
       "      <td>2.36963</td>\n",
       "      <td>4+</td>\n",
       "      <td>1</td>\n",
       "      <td>0.076923</td>\n",
       "      <td>4</td>\n",
       "      <td>+</td>\n",
       "      <td>4.0</td>\n",
       "      <td>True</td>\n",
       "      <td>0</td>\n",
       "      <td>2</td>\n",
       "      <td>1.339497</td>\n",
       "      <td>-0.197777</td>\n",
       "      <td>0.958788</td>\n",
       "      <td>2</td>\n",
       "      <td>2.481216</td>\n",
       "    </tr>\n",
       "    <tr>\n",
       "      <th>52</th>\n",
       "      <td>Cr</td>\n",
       "      <td>28</td>\n",
       "      <td>6</td>\n",
       "      <td>3.113858</td>\n",
       "      <td>6+</td>\n",
       "      <td>1</td>\n",
       "      <td>0.076923</td>\n",
       "      <td>6</td>\n",
       "      <td>+</td>\n",
       "      <td>6.0</td>\n",
       "      <td>True</td>\n",
       "      <td>0</td>\n",
       "      <td>3</td>\n",
       "      <td>1.339497</td>\n",
       "      <td>-0.197777</td>\n",
       "      <td>0.958788</td>\n",
       "      <td>3</td>\n",
       "      <td>3.820713</td>\n",
       "    </tr>\n",
       "    <tr>\n",
       "      <th>52</th>\n",
       "      <td>Cr</td>\n",
       "      <td>28</td>\n",
       "      <td>26</td>\n",
       "      <td>4.75031</td>\n",
       "      <td>8+</td>\n",
       "      <td>1</td>\n",
       "      <td>0.076923</td>\n",
       "      <td>8</td>\n",
       "      <td>+</td>\n",
       "      <td>8.0</td>\n",
       "      <td>True</td>\n",
       "      <td>0</td>\n",
       "      <td>4</td>\n",
       "      <td>1.339497</td>\n",
       "      <td>-0.197777</td>\n",
       "      <td>0.958788</td>\n",
       "      <td>4</td>\n",
       "      <td>5.160210</td>\n",
       "    </tr>\n",
       "    <tr>\n",
       "      <th>52</th>\n",
       "      <td>Cr</td>\n",
       "      <td>28</td>\n",
       "      <td>125</td>\n",
       "      <td>7.2379</td>\n",
       "      <td>10+</td>\n",
       "      <td>1</td>\n",
       "      <td>0.076923</td>\n",
       "      <td>10</td>\n",
       "      <td>+</td>\n",
       "      <td>10.0</td>\n",
       "      <td>True</td>\n",
       "      <td>0</td>\n",
       "      <td>5</td>\n",
       "      <td>1.339497</td>\n",
       "      <td>-0.197777</td>\n",
       "      <td>0.958788</td>\n",
       "      <td>5</td>\n",
       "      <td>6.499707</td>\n",
       "    </tr>\n",
       "  </tbody>\n",
       "</table>\n",
       "</div>"
      ],
      "text/plain": [
       "      symbol   n  idx    energy   jp  jp_order      beta   j  p  j_float_x  \\\n",
       "z  a                                                                         \n",
       "24 52     Cr  28    0       0.0   0+         1  0.076923   0  +        0.0   \n",
       "   52     Cr  28    1  1.434091   2+         1  0.076923   2  +        2.0   \n",
       "   52     Cr  28    2   2.36963   4+         1  0.076923   4  +        4.0   \n",
       "   52     Cr  28    6  3.113858   6+         1  0.076923   6  +        6.0   \n",
       "   52     Cr  28   26   4.75031   8+         1  0.076923   8  +        8.0   \n",
       "   52     Cr  28  125    7.2379  10+         1  0.076923  10  +       10.0   \n",
       "\n",
       "       j_evenness  p_bit  quanta  energy_quantum  zero_point_energy        r2  \\\n",
       "z  a                                                                            \n",
       "24 52        True      0       0        1.339497          -0.197777  0.958788   \n",
       "   52        True      0       1        1.339497          -0.197777  0.958788   \n",
       "   52        True      0       2        1.339497          -0.197777  0.958788   \n",
       "   52        True      0       3        1.339497          -0.197777  0.958788   \n",
       "   52        True      0       4        1.339497          -0.197777  0.958788   \n",
       "   52        True      0       5        1.339497          -0.197777  0.958788   \n",
       "\n",
       "       j_float_y  energy_pred  \n",
       "z  a                           \n",
       "24 52          0    -0.197777  \n",
       "   52          1     1.141720  \n",
       "   52          2     2.481216  \n",
       "   52          3     3.820713  \n",
       "   52          4     5.160210  \n",
       "   52          5     6.499707  "
      ]
     },
     "execution_count": 233,
     "metadata": {},
     "output_type": "execute_result"
    }
   ],
   "source": [
    "merged.loc[24,52]"
   ]
  },
  {
   "cell_type": "code",
   "execution_count": 234,
   "metadata": {},
   "outputs": [
    {
     "data": {
      "application/vnd.plotly.v1+json": {
       "config": {
        "plotlyServerURL": "https://plot.ly"
       },
       "data": [
        {
         "hovertemplate": "Quanta of oscillation=%{x}<br>Residuals=%{y}<extra></extra>",
         "legendgroup": "",
         "marker": {
          "color": "#636efa",
          "symbol": "circle"
         },
         "mode": "markers",
         "name": "",
         "orientation": "v",
         "showlegend": false,
         "type": "scatter",
         "x": [
          0,
          1,
          2,
          3,
          4,
          5
         ],
         "xaxis": "x",
         "y": [
          0.19777697659373142,
          0.2923712554573914,
          -0.1115864656789487,
          -0.7068551868152881,
          -0.4098999079516279,
          0.7381933709120307
         ],
         "yaxis": "y"
        }
       ],
       "layout": {
        "legend": {
         "tracegroupgap": 0
        },
        "template": {
         "data": {
          "bar": [
           {
            "error_x": {
             "color": "#2a3f5f"
            },
            "error_y": {
             "color": "#2a3f5f"
            },
            "marker": {
             "line": {
              "color": "#E5ECF6",
              "width": 0.5
             },
             "pattern": {
              "fillmode": "overlay",
              "size": 10,
              "solidity": 0.2
             }
            },
            "type": "bar"
           }
          ],
          "barpolar": [
           {
            "marker": {
             "line": {
              "color": "#E5ECF6",
              "width": 0.5
             },
             "pattern": {
              "fillmode": "overlay",
              "size": 10,
              "solidity": 0.2
             }
            },
            "type": "barpolar"
           }
          ],
          "carpet": [
           {
            "aaxis": {
             "endlinecolor": "#2a3f5f",
             "gridcolor": "white",
             "linecolor": "white",
             "minorgridcolor": "white",
             "startlinecolor": "#2a3f5f"
            },
            "baxis": {
             "endlinecolor": "#2a3f5f",
             "gridcolor": "white",
             "linecolor": "white",
             "minorgridcolor": "white",
             "startlinecolor": "#2a3f5f"
            },
            "type": "carpet"
           }
          ],
          "choropleth": [
           {
            "colorbar": {
             "outlinewidth": 0,
             "ticks": ""
            },
            "type": "choropleth"
           }
          ],
          "contour": [
           {
            "colorbar": {
             "outlinewidth": 0,
             "ticks": ""
            },
            "colorscale": [
             [
              0,
              "#0d0887"
             ],
             [
              0.1111111111111111,
              "#46039f"
             ],
             [
              0.2222222222222222,
              "#7201a8"
             ],
             [
              0.3333333333333333,
              "#9c179e"
             ],
             [
              0.4444444444444444,
              "#bd3786"
             ],
             [
              0.5555555555555556,
              "#d8576b"
             ],
             [
              0.6666666666666666,
              "#ed7953"
             ],
             [
              0.7777777777777778,
              "#fb9f3a"
             ],
             [
              0.8888888888888888,
              "#fdca26"
             ],
             [
              1,
              "#f0f921"
             ]
            ],
            "type": "contour"
           }
          ],
          "contourcarpet": [
           {
            "colorbar": {
             "outlinewidth": 0,
             "ticks": ""
            },
            "type": "contourcarpet"
           }
          ],
          "heatmap": [
           {
            "colorbar": {
             "outlinewidth": 0,
             "ticks": ""
            },
            "colorscale": [
             [
              0,
              "#0d0887"
             ],
             [
              0.1111111111111111,
              "#46039f"
             ],
             [
              0.2222222222222222,
              "#7201a8"
             ],
             [
              0.3333333333333333,
              "#9c179e"
             ],
             [
              0.4444444444444444,
              "#bd3786"
             ],
             [
              0.5555555555555556,
              "#d8576b"
             ],
             [
              0.6666666666666666,
              "#ed7953"
             ],
             [
              0.7777777777777778,
              "#fb9f3a"
             ],
             [
              0.8888888888888888,
              "#fdca26"
             ],
             [
              1,
              "#f0f921"
             ]
            ],
            "type": "heatmap"
           }
          ],
          "heatmapgl": [
           {
            "colorbar": {
             "outlinewidth": 0,
             "ticks": ""
            },
            "colorscale": [
             [
              0,
              "#0d0887"
             ],
             [
              0.1111111111111111,
              "#46039f"
             ],
             [
              0.2222222222222222,
              "#7201a8"
             ],
             [
              0.3333333333333333,
              "#9c179e"
             ],
             [
              0.4444444444444444,
              "#bd3786"
             ],
             [
              0.5555555555555556,
              "#d8576b"
             ],
             [
              0.6666666666666666,
              "#ed7953"
             ],
             [
              0.7777777777777778,
              "#fb9f3a"
             ],
             [
              0.8888888888888888,
              "#fdca26"
             ],
             [
              1,
              "#f0f921"
             ]
            ],
            "type": "heatmapgl"
           }
          ],
          "histogram": [
           {
            "marker": {
             "pattern": {
              "fillmode": "overlay",
              "size": 10,
              "solidity": 0.2
             }
            },
            "type": "histogram"
           }
          ],
          "histogram2d": [
           {
            "colorbar": {
             "outlinewidth": 0,
             "ticks": ""
            },
            "colorscale": [
             [
              0,
              "#0d0887"
             ],
             [
              0.1111111111111111,
              "#46039f"
             ],
             [
              0.2222222222222222,
              "#7201a8"
             ],
             [
              0.3333333333333333,
              "#9c179e"
             ],
             [
              0.4444444444444444,
              "#bd3786"
             ],
             [
              0.5555555555555556,
              "#d8576b"
             ],
             [
              0.6666666666666666,
              "#ed7953"
             ],
             [
              0.7777777777777778,
              "#fb9f3a"
             ],
             [
              0.8888888888888888,
              "#fdca26"
             ],
             [
              1,
              "#f0f921"
             ]
            ],
            "type": "histogram2d"
           }
          ],
          "histogram2dcontour": [
           {
            "colorbar": {
             "outlinewidth": 0,
             "ticks": ""
            },
            "colorscale": [
             [
              0,
              "#0d0887"
             ],
             [
              0.1111111111111111,
              "#46039f"
             ],
             [
              0.2222222222222222,
              "#7201a8"
             ],
             [
              0.3333333333333333,
              "#9c179e"
             ],
             [
              0.4444444444444444,
              "#bd3786"
             ],
             [
              0.5555555555555556,
              "#d8576b"
             ],
             [
              0.6666666666666666,
              "#ed7953"
             ],
             [
              0.7777777777777778,
              "#fb9f3a"
             ],
             [
              0.8888888888888888,
              "#fdca26"
             ],
             [
              1,
              "#f0f921"
             ]
            ],
            "type": "histogram2dcontour"
           }
          ],
          "mesh3d": [
           {
            "colorbar": {
             "outlinewidth": 0,
             "ticks": ""
            },
            "type": "mesh3d"
           }
          ],
          "parcoords": [
           {
            "line": {
             "colorbar": {
              "outlinewidth": 0,
              "ticks": ""
             }
            },
            "type": "parcoords"
           }
          ],
          "pie": [
           {
            "automargin": true,
            "type": "pie"
           }
          ],
          "scatter": [
           {
            "fillpattern": {
             "fillmode": "overlay",
             "size": 10,
             "solidity": 0.2
            },
            "type": "scatter"
           }
          ],
          "scatter3d": [
           {
            "line": {
             "colorbar": {
              "outlinewidth": 0,
              "ticks": ""
             }
            },
            "marker": {
             "colorbar": {
              "outlinewidth": 0,
              "ticks": ""
             }
            },
            "type": "scatter3d"
           }
          ],
          "scattercarpet": [
           {
            "marker": {
             "colorbar": {
              "outlinewidth": 0,
              "ticks": ""
             }
            },
            "type": "scattercarpet"
           }
          ],
          "scattergeo": [
           {
            "marker": {
             "colorbar": {
              "outlinewidth": 0,
              "ticks": ""
             }
            },
            "type": "scattergeo"
           }
          ],
          "scattergl": [
           {
            "marker": {
             "colorbar": {
              "outlinewidth": 0,
              "ticks": ""
             }
            },
            "type": "scattergl"
           }
          ],
          "scattermapbox": [
           {
            "marker": {
             "colorbar": {
              "outlinewidth": 0,
              "ticks": ""
             }
            },
            "type": "scattermapbox"
           }
          ],
          "scatterpolar": [
           {
            "marker": {
             "colorbar": {
              "outlinewidth": 0,
              "ticks": ""
             }
            },
            "type": "scatterpolar"
           }
          ],
          "scatterpolargl": [
           {
            "marker": {
             "colorbar": {
              "outlinewidth": 0,
              "ticks": ""
             }
            },
            "type": "scatterpolargl"
           }
          ],
          "scatterternary": [
           {
            "marker": {
             "colorbar": {
              "outlinewidth": 0,
              "ticks": ""
             }
            },
            "type": "scatterternary"
           }
          ],
          "surface": [
           {
            "colorbar": {
             "outlinewidth": 0,
             "ticks": ""
            },
            "colorscale": [
             [
              0,
              "#0d0887"
             ],
             [
              0.1111111111111111,
              "#46039f"
             ],
             [
              0.2222222222222222,
              "#7201a8"
             ],
             [
              0.3333333333333333,
              "#9c179e"
             ],
             [
              0.4444444444444444,
              "#bd3786"
             ],
             [
              0.5555555555555556,
              "#d8576b"
             ],
             [
              0.6666666666666666,
              "#ed7953"
             ],
             [
              0.7777777777777778,
              "#fb9f3a"
             ],
             [
              0.8888888888888888,
              "#fdca26"
             ],
             [
              1,
              "#f0f921"
             ]
            ],
            "type": "surface"
           }
          ],
          "table": [
           {
            "cells": {
             "fill": {
              "color": "#EBF0F8"
             },
             "line": {
              "color": "white"
             }
            },
            "header": {
             "fill": {
              "color": "#C8D4E3"
             },
             "line": {
              "color": "white"
             }
            },
            "type": "table"
           }
          ]
         },
         "layout": {
          "annotationdefaults": {
           "arrowcolor": "#2a3f5f",
           "arrowhead": 0,
           "arrowwidth": 1
          },
          "autotypenumbers": "strict",
          "coloraxis": {
           "colorbar": {
            "outlinewidth": 0,
            "ticks": ""
           }
          },
          "colorscale": {
           "diverging": [
            [
             0,
             "#8e0152"
            ],
            [
             0.1,
             "#c51b7d"
            ],
            [
             0.2,
             "#de77ae"
            ],
            [
             0.3,
             "#f1b6da"
            ],
            [
             0.4,
             "#fde0ef"
            ],
            [
             0.5,
             "#f7f7f7"
            ],
            [
             0.6,
             "#e6f5d0"
            ],
            [
             0.7,
             "#b8e186"
            ],
            [
             0.8,
             "#7fbc41"
            ],
            [
             0.9,
             "#4d9221"
            ],
            [
             1,
             "#276419"
            ]
           ],
           "sequential": [
            [
             0,
             "#0d0887"
            ],
            [
             0.1111111111111111,
             "#46039f"
            ],
            [
             0.2222222222222222,
             "#7201a8"
            ],
            [
             0.3333333333333333,
             "#9c179e"
            ],
            [
             0.4444444444444444,
             "#bd3786"
            ],
            [
             0.5555555555555556,
             "#d8576b"
            ],
            [
             0.6666666666666666,
             "#ed7953"
            ],
            [
             0.7777777777777778,
             "#fb9f3a"
            ],
            [
             0.8888888888888888,
             "#fdca26"
            ],
            [
             1,
             "#f0f921"
            ]
           ],
           "sequentialminus": [
            [
             0,
             "#0d0887"
            ],
            [
             0.1111111111111111,
             "#46039f"
            ],
            [
             0.2222222222222222,
             "#7201a8"
            ],
            [
             0.3333333333333333,
             "#9c179e"
            ],
            [
             0.4444444444444444,
             "#bd3786"
            ],
            [
             0.5555555555555556,
             "#d8576b"
            ],
            [
             0.6666666666666666,
             "#ed7953"
            ],
            [
             0.7777777777777778,
             "#fb9f3a"
            ],
            [
             0.8888888888888888,
             "#fdca26"
            ],
            [
             1,
             "#f0f921"
            ]
           ]
          },
          "colorway": [
           "#636efa",
           "#EF553B",
           "#00cc96",
           "#ab63fa",
           "#FFA15A",
           "#19d3f3",
           "#FF6692",
           "#B6E880",
           "#FF97FF",
           "#FECB52"
          ],
          "font": {
           "color": "#2a3f5f"
          },
          "geo": {
           "bgcolor": "white",
           "lakecolor": "white",
           "landcolor": "#E5ECF6",
           "showlakes": true,
           "showland": true,
           "subunitcolor": "white"
          },
          "hoverlabel": {
           "align": "left"
          },
          "hovermode": "closest",
          "mapbox": {
           "style": "light"
          },
          "paper_bgcolor": "white",
          "plot_bgcolor": "#E5ECF6",
          "polar": {
           "angularaxis": {
            "gridcolor": "white",
            "linecolor": "white",
            "ticks": ""
           },
           "bgcolor": "#E5ECF6",
           "radialaxis": {
            "gridcolor": "white",
            "linecolor": "white",
            "ticks": ""
           }
          },
          "scene": {
           "xaxis": {
            "backgroundcolor": "#E5ECF6",
            "gridcolor": "white",
            "gridwidth": 2,
            "linecolor": "white",
            "showbackground": true,
            "ticks": "",
            "zerolinecolor": "white"
           },
           "yaxis": {
            "backgroundcolor": "#E5ECF6",
            "gridcolor": "white",
            "gridwidth": 2,
            "linecolor": "white",
            "showbackground": true,
            "ticks": "",
            "zerolinecolor": "white"
           },
           "zaxis": {
            "backgroundcolor": "#E5ECF6",
            "gridcolor": "white",
            "gridwidth": 2,
            "linecolor": "white",
            "showbackground": true,
            "ticks": "",
            "zerolinecolor": "white"
           }
          },
          "shapedefaults": {
           "line": {
            "color": "#2a3f5f"
           }
          },
          "ternary": {
           "aaxis": {
            "gridcolor": "white",
            "linecolor": "white",
            "ticks": ""
           },
           "baxis": {
            "gridcolor": "white",
            "linecolor": "white",
            "ticks": ""
           },
           "bgcolor": "#E5ECF6",
           "caxis": {
            "gridcolor": "white",
            "linecolor": "white",
            "ticks": ""
           }
          },
          "title": {
           "x": 0.05
          },
          "xaxis": {
           "automargin": true,
           "gridcolor": "white",
           "linecolor": "white",
           "ticks": "",
           "title": {
            "standoff": 15
           },
           "zerolinecolor": "white",
           "zerolinewidth": 2
          },
          "yaxis": {
           "automargin": true,
           "gridcolor": "white",
           "linecolor": "white",
           "ticks": "",
           "title": {
            "standoff": 15
           },
           "zerolinecolor": "white",
           "zerolinewidth": 2
          }
         }
        },
        "title": {
         "text": "Residuals for 52Cr"
        },
        "xaxis": {
         "anchor": "y",
         "domain": [
          0,
          1
         ],
         "title": {
          "text": "Quanta of oscillation"
         }
        },
        "yaxis": {
         "anchor": "x",
         "domain": [
          0,
          1
         ],
         "title": {
          "text": "Residuals"
         }
        }
       }
      }
     },
     "metadata": {},
     "output_type": "display_data"
    }
   ],
   "source": [
    "test_nucleus = merged.loc[24,52]\n",
    "a = test_nucleus.index[0][1]\n",
    "symbol = test_nucleus.iloc[0]['symbol']\n",
    "\n",
    "px.scatter(x=test_nucleus['quanta'], \n",
    "            y=test_nucleus['energy']-test_nucleus['energy_pred'],\n",
    "            title=f'Residuals for {a}{symbol}',\n",
    "            labels={'x': 'Quanta of oscillation', 'y': 'Residuals'})"
   ]
  },
  {
   "cell_type": "code",
   "execution_count": 235,
   "metadata": {},
   "outputs": [
    {
     "data": {
      "application/vnd.plotly.v1+json": {
       "config": {
        "plotlyServerURL": "https://plot.ly"
       },
       "data": [
        {
         "hovertemplate": "name=10B<br>quanta=%{x}<br>residuals=%{y}<extra></extra>",
         "legendgroup": "",
         "marker": {
          "color": "#636efa",
          "symbol": "circle"
         },
         "mode": "markers",
         "name": "",
         "orientation": "v",
         "showlegend": false,
         "type": "scatter",
         "x": [
          0,
          1,
          2
         ],
         "xaxis": "x33",
         "y": [
          0.09844833407803,
          -0.19689666636878744,
          0.09844833318439417
         ],
         "yaxis": "y33"
        },
        {
         "hovertemplate": "name=14N<br>quanta=%{x}<br>residuals=%{y}<extra></extra>",
         "legendgroup": "",
         "marker": {
          "color": "#636efa",
          "symbol": "circle"
         },
         "mode": "markers",
         "name": "",
         "orientation": "v",
         "showlegend": false,
         "type": "scatter",
         "x": [
          0,
          1,
          2
         ],
         "xaxis": "x34",
         "y": [
          0.17392633333333363,
          -0.3478526666666655,
          0.17392633333333407
         ],
         "yaxis": "y34"
        },
        {
         "hovertemplate": "name=34S<br>quanta=%{x}<br>residuals=%{y}<extra></extra>",
         "legendgroup": "",
         "marker": {
          "color": "#636efa",
          "symbol": "circle"
         },
         "mode": "markers",
         "name": "",
         "orientation": "v",
         "showlegend": false,
         "type": "scatter",
         "x": [
          0,
          1,
          2,
          3,
          4
         ],
         "xaxis": "x35",
         "y": [
          0.34149840497376077,
          -0.2988811973744232,
          -0.5054087997226073,
          0.5414675979292092,
          -0.07867600441897515
         ],
         "yaxis": "y35"
        },
        {
         "hovertemplate": "name=36S<br>quanta=%{x}<br>residuals=%{y}<extra></extra>",
         "legendgroup": "",
         "marker": {
          "color": "#636efa",
          "symbol": "circle"
         },
         "mode": "markers",
         "name": "",
         "orientation": "v",
         "showlegend": false,
         "type": "scatter",
         "x": [
          0,
          1,
          2
         ],
         "xaxis": "x36",
         "y": [
          -0.011233330325937464,
          0.022466667869625923,
          -0.011233333934811185
         ],
         "yaxis": "y36"
        },
        {
         "hovertemplate": "name=36Ar<br>quanta=%{x}<br>residuals=%{y}<extra></extra>",
         "legendgroup": "",
         "marker": {
          "color": "#636efa",
          "symbol": "circle"
         },
         "mode": "markers",
         "name": "",
         "orientation": "v",
         "showlegend": false,
         "type": "scatter",
         "x": [
          0,
          1,
          2,
          3,
          4,
          5,
          6,
          7,
          8
         ],
         "xaxis": "x37",
         "y": [
          0.7418528888926867,
          -0.028663111111109973,
          -0.3255391111149075,
          0.28616488888129776,
          -0.29473111112250017,
          -1.0605271111262962,
          -0.3527231111300928,
          -0.14581911113389268,
          1.179984888862311
         ],
         "yaxis": "y37"
        },
        {
         "hovertemplate": "name=60Ni<br>quanta=%{x}<br>residuals=%{y}<extra></extra>",
         "legendgroup": "",
         "marker": {
          "color": "#636efa",
          "symbol": "circle"
         },
         "mode": "markers",
         "name": "",
         "orientation": "v",
         "showlegend": false,
         "type": "scatter",
         "x": [
          0,
          1,
          2,
          3,
          4,
          5,
          6,
          7,
          8,
          9,
          10
         ],
         "xaxis": "x38",
         "y": [
          0.9751986818224907,
          0.33325245454763786,
          -0.4679687727272146,
          -0.6831820000020681,
          -0.4615422272769205,
          -0.20818245455177475,
          0.17257731817337252,
          -0.2676229091014779,
          -0.17498313637633167,
          0.047456636348815806,
          0.7349964090739611
         ],
         "yaxis": "y38"
        },
        {
         "hovertemplate": "name=66Zn<br>quanta=%{x}<br>residuals=%{y}<extra></extra>",
         "legendgroup": "",
         "marker": {
          "color": "#636efa",
          "symbol": "circle"
         },
         "mode": "markers",
         "name": "",
         "orientation": "v",
         "showlegend": false,
         "type": "scatter",
         "x": [
          0,
          1,
          2
         ],
         "xaxis": "x39",
         "y": [
          0.062092366668983434,
          -0.12418473333150848,
          0.06209236666799978
         ],
         "yaxis": "y39"
        },
        {
         "hovertemplate": "name=68Zn<br>quanta=%{x}<br>residuals=%{y}<extra></extra>",
         "legendgroup": "",
         "marker": {
          "color": "#636efa",
          "symbol": "circle"
         },
         "mode": "markers",
         "name": "",
         "orientation": "v",
         "showlegend": false,
         "type": "scatter",
         "x": [
          0,
          1,
          2
         ],
         "xaxis": "x40",
         "y": [
          0.04377666666894364,
          -0.08755333333151172,
          0.04377666666803348
         ],
         "yaxis": "y40"
        },
        {
         "hovertemplate": "name=70Ge<br>quanta=%{x}<br>residuals=%{y}<extra></extra>",
         "legendgroup": "",
         "marker": {
          "color": "#636efa",
          "symbol": "circle"
         },
         "mode": "markers",
         "name": "",
         "orientation": "v",
         "showlegend": false,
         "type": "scatter",
         "x": [
          0,
          1,
          2,
          3,
          4,
          5,
          6,
          7
         ],
         "xaxis": "x25",
         "y": [
          0.0698053333356663,
          0.0029251666687675204,
          0.010117000001868437,
          0.04762683333496964,
          -0.15223933333192896,
          -0.21942549999882743,
          0.14828833333427305,
          0.09290216666737461
         ],
         "yaxis": "y25"
        },
        {
         "hovertemplate": "name=72Ge<br>quanta=%{x}<br>residuals=%{y}<extra></extra>",
         "legendgroup": "",
         "marker": {
          "color": "#636efa",
          "symbol": "circle"
         },
         "mode": "markers",
         "name": "",
         "orientation": "v",
         "showlegend": false,
         "type": "scatter",
         "x": [
          0,
          1,
          2,
          3,
          4
         ],
         "xaxis": "x26",
         "y": [
          0.07283560000233957,
          -0.039055299997542425,
          -0.09066819999742437,
          0.007159900002693398,
          0.04972800000281152
         ],
         "yaxis": "y26"
        },
        {
         "hovertemplate": "name=76Se<br>quanta=%{x}<br>residuals=%{y}<extra></extra>",
         "legendgroup": "",
         "marker": {
          "color": "#636efa",
          "symbol": "circle"
         },
         "mode": "markers",
         "name": "",
         "orientation": "v",
         "showlegend": false,
         "type": "scatter",
         "x": [
          0,
          1,
          2,
          3,
          4,
          5,
          6
         ],
         "xaxis": "x27",
         "y": [
          0.3046941428599885,
          -0.05459828571126224,
          -0.20122471428251276,
          -0.18807214285376306,
          -0.09913757142501378,
          0.012217000003735379,
          0.22612157143248446
         ],
         "yaxis": "y27"
        },
        {
         "hovertemplate": "name=78Se<br>quanta=%{x}<br>residuals=%{y}<extra></extra>",
         "legendgroup": "",
         "marker": {
          "color": "#636efa",
          "symbol": "circle"
         },
         "mode": "markers",
         "name": "",
         "orientation": "v",
         "showlegend": false,
         "type": "scatter",
         "x": [
          0,
          1,
          2,
          3,
          4
         ],
         "xaxis": "x28",
         "y": [
          0.17094420000255361,
          -0.12560709999725062,
          -0.1467873999970548,
          -0.013380699996858869,
          0.11483100000333657
         ],
         "yaxis": "y28"
        },
        {
         "hovertemplate": "name=80Kr<br>quanta=%{x}<br>residuals=%{y}<extra></extra>",
         "legendgroup": "",
         "marker": {
          "color": "#636efa",
          "symbol": "circle"
         },
         "mode": "markers",
         "name": "",
         "orientation": "v",
         "showlegend": false,
         "type": "scatter",
         "x": [
          0,
          1,
          2,
          3,
          4,
          5,
          6,
          7
         ],
         "xaxis": "x29",
         "y": [
          0.31931916666954363,
          -0.02502309523513302,
          -0.16647535713980988,
          -0.17144761904448647,
          -0.1144698809491631,
          -0.10749214285384046,
          -0.008534404758516523,
          0.2741233333368065
         ],
         "yaxis": "y29"
        },
        {
         "hovertemplate": "name=82Kr<br>quanta=%{x}<br>residuals=%{y}<extra></extra>",
         "legendgroup": "",
         "marker": {
          "color": "#636efa",
          "symbol": "circle"
         },
         "mode": "markers",
         "name": "",
         "orientation": "v",
         "showlegend": false,
         "type": "scatter",
         "x": [
          0,
          1,
          2
         ],
         "xaxis": "x30",
         "y": [
          0.04458066783081992,
          -0.08916133286767214,
          0.04458066643383596
         ],
         "yaxis": "y30"
        },
        {
         "hovertemplate": "name=88Sr<br>quanta=%{x}<br>residuals=%{y}<extra></extra>",
         "legendgroup": "",
         "marker": {
          "color": "#636efa",
          "symbol": "circle"
         },
         "mode": "markers",
         "name": "",
         "orientation": "v",
         "showlegend": false,
         "type": "scatter",
         "x": [
          0,
          1,
          2
         ],
         "xaxis": "x31",
         "y": [
          0.09330333333571783,
          -0.18660666666671633,
          0.09330333333084972
         ],
         "yaxis": "y31"
        },
        {
         "hovertemplate": "name=94Mo<br>quanta=%{x}<br>residuals=%{y}<extra></extra>",
         "legendgroup": "",
         "marker": {
          "color": "#636efa",
          "symbol": "circle"
         },
         "mode": "markers",
         "name": "",
         "orientation": "v",
         "showlegend": false,
         "type": "scatter",
         "x": [
          0,
          1,
          2,
          3,
          4
         ],
         "xaxis": "x32",
         "y": [
          -0.07208120042337429,
          0.05267159968037061,
          0.008988399784115586,
          0.1123331998878605,
          -0.10191200000839418
         ],
         "yaxis": "y32"
        },
        {
         "hovertemplate": "name=96Mo<br>quanta=%{x}<br>residuals=%{y}<extra></extra>",
         "legendgroup": "",
         "marker": {
          "color": "#636efa",
          "symbol": "circle"
         },
         "mode": "markers",
         "name": "",
         "orientation": "v",
         "showlegend": false,
         "type": "scatter",
         "x": [
          0,
          1,
          2,
          3,
          4,
          5
         ],
         "xaxis": "x17",
         "y": [
          0.03383114285939759,
          -0.006175314283063171,
          0.025532228574476346,
          0.01986077143201559,
          -0.2607726857104451,
          0.18772385714709294
         ],
         "yaxis": "y17"
        },
        {
         "hovertemplate": "name=98Mo<br>quanta=%{x}<br>residuals=%{y}<extra></extra>",
         "legendgroup": "",
         "marker": {
          "color": "#636efa",
          "symbol": "circle"
         },
         "mode": "markers",
         "name": "",
         "orientation": "v",
         "showlegend": false,
         "type": "scatter",
         "x": [
          0,
          1,
          2,
          3
         ],
         "xaxis": "x18",
         "y": [
          0.0027657000021876765,
          0.014797400002677485,
          -0.037891899996832734,
          0.020328800003657665
         ],
         "yaxis": "y18"
        },
        {
         "hovertemplate": "name=98Ru<br>quanta=%{x}<br>residuals=%{y}<extra></extra>",
         "legendgroup": "",
         "marker": {
          "color": "#636efa",
          "symbol": "circle"
         },
         "mode": "markers",
         "name": "",
         "orientation": "v",
         "showlegend": false,
         "type": "scatter",
         "x": [
          0,
          1,
          2,
          3,
          4,
          5,
          6,
          7,
          8
         ],
         "xaxis": "x19",
         "y": [
          0.23007822143700452,
          0.019320888248235524,
          -0.09844644494053356,
          -0.13692377812930223,
          -0.09618111131807128,
          -0.0848184445068405,
          -0.034225777695609416,
          0.007056889115620635,
          0.19413955592685284
         ],
         "yaxis": "y19"
        },
        {
         "hovertemplate": "name=100Ru<br>quanta=%{x}<br>residuals=%{y}<extra></extra>",
         "legendgroup": "",
         "marker": {
          "color": "#636efa",
          "symbol": "circle"
         },
         "mode": "markers",
         "name": "",
         "orientation": "v",
         "showlegend": false,
         "type": "scatter",
         "x": [
          0,
          1,
          2,
          3,
          4,
          5,
          6,
          7,
          8,
          9,
          10,
          11
         ],
         "xaxis": "x20",
         "y": [
          0.5405817179520782,
          0.13947135256759235,
          -0.1141926128168933,
          -0.20560527820137908,
          -0.16184994358586513,
          -0.07922160897035102,
          -0.18517227435483719,
          -0.3304529397393212,
          -0.26957360512380735,
          -0.09798427050829428,
          0.19210506410721884,
          0.5718943987227334
         ],
         "yaxis": "y20"
        },
        {
         "hovertemplate": "name=104Pd<br>quanta=%{x}<br>residuals=%{y}<extra></extra>",
         "legendgroup": "",
         "marker": {
          "color": "#636efa",
          "symbol": "circle"
         },
         "mode": "markers",
         "name": "",
         "orientation": "v",
         "showlegend": false,
         "type": "scatter",
         "x": [
          0,
          1,
          2,
          3,
          4,
          5,
          6,
          7,
          8,
          9
         ],
         "xaxis": "x21",
         "y": [
          0.1848721818207668,
          -0.08307830302733377,
          -0.13905878787543435,
          -0.03690927272353495,
          0.11053024242836473,
          0.08916975758026435,
          -0.12269072726783659,
          -0.1493512121159366,
          -0.0469116969640373,
          0.19342781818786214
         ],
         "yaxis": "y21"
        },
        {
         "hovertemplate": "name=106Pd<br>quanta=%{x}<br>residuals=%{y}<extra></extra>",
         "legendgroup": "",
         "marker": {
          "color": "#636efa",
          "symbol": "circle"
         },
         "mode": "markers",
         "name": "",
         "orientation": "v",
         "showlegend": false,
         "type": "scatter",
         "x": [
          0,
          1,
          2,
          3,
          4,
          5,
          6,
          7
         ],
         "xaxis": "x22",
         "y": [
          0.08533166666903402,
          -0.11638309523510315,
          -0.11249785713924032,
          0.021647380956621998,
          0.19407261905248507,
          0.0510078571483481,
          -0.10735690475578963,
          -0.015821666659926237
         ],
         "yaxis": "y22"
        },
        {
         "hovertemplate": "name=108Cd<br>quanta=%{x}<br>residuals=%{y}<extra></extra>",
         "legendgroup": "",
         "marker": {
          "color": "#636efa",
          "symbol": "circle"
         },
         "mode": "markers",
         "name": "",
         "orientation": "v",
         "showlegend": false,
         "type": "scatter",
         "x": [
          0,
          1,
          2,
          3,
          4,
          5,
          6,
          7,
          8,
          9
         ],
         "xaxis": "x23",
         "y": [
          0.02835698182042501,
          -0.16169110302767375,
          -0.10924918787577287,
          0.10060872727612846,
          0.41944264242802953,
          0.06582655757993017,
          -0.20111952726816806,
          -0.2303456121162677,
          -0.09706169696436628,
          0.18523221818753477
         ],
         "yaxis": "y23"
        },
        {
         "hovertemplate": "name=112Cd<br>quanta=%{x}<br>residuals=%{y}<extra></extra>",
         "legendgroup": "",
         "marker": {
          "color": "#636efa",
          "symbol": "circle"
         },
         "mode": "markers",
         "name": "",
         "orientation": "v",
         "showlegend": false,
         "type": "scatter",
         "x": [
          0,
          1,
          2,
          3,
          4,
          5,
          6,
          7
         ],
         "xaxis": "x24",
         "y": [
          -0.021610999997865532,
          -0.08386228571145282,
          0.03433042857495994,
          0.1068411428613727,
          0.14033185714778496,
          -0.09805742856580224,
          -0.16944671427938918,
          0.09147400000702355
         ],
         "yaxis": "y24"
        },
        {
         "hovertemplate": "name=114Cd<br>quanta=%{x}<br>residuals=%{y}<extra></extra>",
         "legendgroup": "",
         "marker": {
          "color": "#636efa",
          "symbol": "circle"
         },
         "mode": "markers",
         "name": "",
         "orientation": "v",
         "showlegend": false,
         "type": "scatter",
         "x": [
          0,
          1,
          2,
          3
         ],
         "xaxis": "x9",
         "y": [
          0.046303700002282566,
          -0.06485859999699684,
          -0.0091938999962764,
          0.02774880000444413
         ],
         "yaxis": "y9"
        },
        {
         "hovertemplate": "name=112Sn<br>quanta=%{x}<br>residuals=%{y}<extra></extra>",
         "legendgroup": "",
         "marker": {
          "color": "#636efa",
          "symbol": "circle"
         },
         "mode": "markers",
         "name": "",
         "orientation": "v",
         "showlegend": false,
         "type": "scatter",
         "x": [
          0,
          1,
          2,
          3,
          4,
          5,
          6,
          7,
          8,
          9,
          10,
          11
         ],
         "xaxis": "x10",
         "y": [
          -0.19895461538286785,
          0.15813531468728126,
          0.24923524475742997,
          -0.3485348251724214,
          0.28023510489772807,
          0.12241503496787765,
          -0.032255034961973905,
          -0.13325510489182513,
          -0.1815551748216757,
          -0.1482552447515264,
          -0.008355314681375958,
          0.2411446153887713
         ],
         "yaxis": "y10"
        },
        {
         "hovertemplate": "name=114Sn<br>quanta=%{x}<br>residuals=%{y}<extra></extra>",
         "legendgroup": "",
         "marker": {
          "color": "#636efa",
          "symbol": "circle"
         },
         "mode": "markers",
         "name": "",
         "orientation": "v",
         "showlegend": false,
         "type": "scatter",
         "x": [
          0,
          1,
          2,
          3,
          4,
          5,
          6,
          7,
          8,
          9,
          10
         ],
         "xaxis": "x11",
         "y": [
          -0.2552614427418941,
          0.1840829554817458,
          0.21121535370538602,
          0.3128407519290257,
          0.17376815015266578,
          -0.41838445162369364,
          -0.2369170534000533,
          -0.23366965517641436,
          -0.21406225695277392,
          0.1423751412708647,
          0.33401253949450727
         ],
         "yaxis": "y11"
        },
        {
         "hovertemplate": "name=120Te<br>quanta=%{x}<br>residuals=%{y}<extra></extra>",
         "legendgroup": "",
         "marker": {
          "color": "#636efa",
          "symbol": "circle"
         },
         "mode": "markers",
         "name": "",
         "orientation": "v",
         "showlegend": false,
         "type": "scatter",
         "x": [
          0,
          1,
          2,
          3,
          4
         ],
         "xaxis": "x12",
         "y": [
          0.07410680000234215,
          -0.017628399996899025,
          -0.06867959999614026,
          -0.1061827999953815,
          0.1183840000053773
         ],
         "yaxis": "y12"
        },
        {
         "hovertemplate": "name=124Te<br>quanta=%{x}<br>residuals=%{y}<extra></extra>",
         "legendgroup": "",
         "marker": {
          "color": "#636efa",
          "symbol": "circle"
         },
         "mode": "markers",
         "name": "",
         "orientation": "v",
         "showlegend": false,
         "type": "scatter",
         "x": [
          0,
          1,
          2,
          3,
          4
         ],
         "xaxis": "x13",
         "y": [
          0.04207894076563096,
          -0.002503049430920057,
          -0.003958139627470825,
          -0.15289032982402162,
          0.11727257997942697
         ],
         "yaxis": "y13"
        },
        {
         "hovertemplate": "name=130Xe<br>quanta=%{x}<br>residuals=%{y}<extra></extra>",
         "legendgroup": "",
         "marker": {
          "color": "#636efa",
          "symbol": "circle"
         },
         "mode": "markers",
         "name": "",
         "orientation": "v",
         "showlegend": false,
         "type": "scatter",
         "x": [
          0,
          1,
          2,
          3,
          4,
          5,
          6
         ],
         "xaxis": "x14",
         "y": [
          0.005167214287906008,
          -0.08179442856841468,
          -0.03627807142473527,
          0.08021828571894418,
          0.20999864286262282,
          -0.13757099999369782,
          -0.03974064285001777
         ],
         "yaxis": "y14"
        },
        {
         "hovertemplate": "name=132Xe<br>quanta=%{x}<br>residuals=%{y}<extra></extra>",
         "legendgroup": "",
         "marker": {
          "color": "#636efa",
          "symbol": "circle"
         },
         "mode": "markers",
         "name": "",
         "orientation": "v",
         "showlegend": false,
         "type": "scatter",
         "x": [
          0,
          1,
          2,
          3
         ],
         "xaxis": "x15",
         "y": [
          0.011257700002205828,
          -0.03185209999716365,
          0.02993110000346677,
          -0.009336699995902364
         ],
         "yaxis": "y15"
        },
        {
         "hovertemplate": "name=134Ba<br>quanta=%{x}<br>residuals=%{y}<extra></extra>",
         "legendgroup": "",
         "marker": {
          "color": "#636efa",
          "symbol": "circle"
         },
         "mode": "markers",
         "name": "",
         "orientation": "v",
         "showlegend": false,
         "type": "scatter",
         "x": [
          0,
          1,
          2
         ],
         "xaxis": "x16",
         "y": [
          0.03185756666891759,
          -0.06371513333042877,
          0.03185756667022477
         ],
         "yaxis": "y16"
        },
        {
         "hovertemplate": "name=146Nd<br>quanta=%{x}<br>residuals=%{y}<extra></extra>",
         "legendgroup": "",
         "marker": {
          "color": "#636efa",
          "symbol": "circle"
         },
         "mode": "markers",
         "name": "",
         "orientation": "v",
         "showlegend": false,
         "type": "scatter",
         "x": [
          0,
          1,
          2,
          3,
          4,
          5,
          6,
          7,
          8,
          9,
          10
         ],
         "xaxis": "x",
         "y": [
          0.18504090909349347,
          -0.03900199999671311,
          -0.12751490908691965,
          -0.06859781817712607,
          -0.05197072726733243,
          -0.0805536363575392,
          0.019963454552254234,
          0.13408054546204795,
          0.12479763637184149,
          -0.016185272718364452,
          -0.08005818180857194
         ],
         "yaxis": "y"
        },
        {
         "hovertemplate": "name=150Sm<br>quanta=%{x}<br>residuals=%{y}<extra></extra>",
         "legendgroup": "",
         "marker": {
          "color": "#636efa",
          "symbol": "circle"
         },
         "mode": "markers",
         "name": "",
         "orientation": "v",
         "showlegend": false,
         "type": "scatter",
         "x": [
          0,
          1,
          2,
          3,
          4,
          5,
          6,
          7,
          8,
          9,
          10
         ],
         "xaxis": "x2",
         "y": [
          0.296815545457374,
          0.05852796364012525,
          -0.07429561817712349,
          -0.14099019999437212,
          -0.15512478181162104,
          -0.13120736362886953,
          -0.08823994544611846,
          -0.032982527263367256,
          0.024674890919384573,
          0.07573230910213535,
          0.16708972728488636
         ],
         "yaxis": "y2"
        }
       ],
       "layout": {
        "annotations": [
         {
          "showarrow": false,
          "text": "name=146Nd",
          "x": 0.05375,
          "xanchor": "center",
          "xref": "paper",
          "y": 0.144,
          "yanchor": "bottom",
          "yref": "paper"
         },
         {
          "showarrow": false,
          "text": "name=150Sm",
          "x": 0.18125,
          "xanchor": "center",
          "xref": "paper",
          "y": 0.144,
          "yanchor": "bottom",
          "yref": "paper"
         },
         {
          "showarrow": false,
          "text": "name=114Cd",
          "x": 0.05375,
          "xanchor": "center",
          "xref": "paper",
          "y": 0.358,
          "yanchor": "bottom",
          "yref": "paper"
         },
         {
          "showarrow": false,
          "text": "name=112Sn",
          "x": 0.18125,
          "xanchor": "center",
          "xref": "paper",
          "y": 0.358,
          "yanchor": "bottom",
          "yref": "paper"
         },
         {
          "showarrow": false,
          "text": "name=114Sn",
          "x": 0.30874999999999997,
          "xanchor": "center",
          "xref": "paper",
          "y": 0.358,
          "yanchor": "bottom",
          "yref": "paper"
         },
         {
          "showarrow": false,
          "text": "name=120Te",
          "x": 0.43625,
          "xanchor": "center",
          "xref": "paper",
          "y": 0.358,
          "yanchor": "bottom",
          "yref": "paper"
         },
         {
          "showarrow": false,
          "text": "name=124Te",
          "x": 0.56375,
          "xanchor": "center",
          "xref": "paper",
          "y": 0.358,
          "yanchor": "bottom",
          "yref": "paper"
         },
         {
          "showarrow": false,
          "text": "name=130Xe",
          "x": 0.6912499999999999,
          "xanchor": "center",
          "xref": "paper",
          "y": 0.358,
          "yanchor": "bottom",
          "yref": "paper"
         },
         {
          "showarrow": false,
          "text": "name=132Xe",
          "x": 0.8187500000000001,
          "xanchor": "center",
          "xref": "paper",
          "y": 0.358,
          "yanchor": "bottom",
          "yref": "paper"
         },
         {
          "showarrow": false,
          "text": "name=134Ba",
          "x": 0.94625,
          "xanchor": "center",
          "xref": "paper",
          "y": 0.358,
          "yanchor": "bottom",
          "yref": "paper"
         },
         {
          "showarrow": false,
          "text": "name=96Mo",
          "x": 0.05375,
          "xanchor": "center",
          "xref": "paper",
          "y": 0.572,
          "yanchor": "bottom",
          "yref": "paper"
         },
         {
          "showarrow": false,
          "text": "name=98Mo",
          "x": 0.18125,
          "xanchor": "center",
          "xref": "paper",
          "y": 0.572,
          "yanchor": "bottom",
          "yref": "paper"
         },
         {
          "showarrow": false,
          "text": "name=98Ru",
          "x": 0.30874999999999997,
          "xanchor": "center",
          "xref": "paper",
          "y": 0.572,
          "yanchor": "bottom",
          "yref": "paper"
         },
         {
          "showarrow": false,
          "text": "name=100Ru",
          "x": 0.43625,
          "xanchor": "center",
          "xref": "paper",
          "y": 0.572,
          "yanchor": "bottom",
          "yref": "paper"
         },
         {
          "showarrow": false,
          "text": "name=104Pd",
          "x": 0.56375,
          "xanchor": "center",
          "xref": "paper",
          "y": 0.572,
          "yanchor": "bottom",
          "yref": "paper"
         },
         {
          "showarrow": false,
          "text": "name=106Pd",
          "x": 0.6912499999999999,
          "xanchor": "center",
          "xref": "paper",
          "y": 0.572,
          "yanchor": "bottom",
          "yref": "paper"
         },
         {
          "showarrow": false,
          "text": "name=108Cd",
          "x": 0.8187500000000001,
          "xanchor": "center",
          "xref": "paper",
          "y": 0.572,
          "yanchor": "bottom",
          "yref": "paper"
         },
         {
          "showarrow": false,
          "text": "name=112Cd",
          "x": 0.94625,
          "xanchor": "center",
          "xref": "paper",
          "y": 0.572,
          "yanchor": "bottom",
          "yref": "paper"
         },
         {
          "showarrow": false,
          "text": "name=70Ge",
          "x": 0.05375,
          "xanchor": "center",
          "xref": "paper",
          "y": 0.7859999999999999,
          "yanchor": "bottom",
          "yref": "paper"
         },
         {
          "showarrow": false,
          "text": "name=72Ge",
          "x": 0.18125,
          "xanchor": "center",
          "xref": "paper",
          "y": 0.7859999999999999,
          "yanchor": "bottom",
          "yref": "paper"
         },
         {
          "showarrow": false,
          "text": "name=76Se",
          "x": 0.30874999999999997,
          "xanchor": "center",
          "xref": "paper",
          "y": 0.7859999999999999,
          "yanchor": "bottom",
          "yref": "paper"
         },
         {
          "showarrow": false,
          "text": "name=78Se",
          "x": 0.43625,
          "xanchor": "center",
          "xref": "paper",
          "y": 0.7859999999999999,
          "yanchor": "bottom",
          "yref": "paper"
         },
         {
          "showarrow": false,
          "text": "name=80Kr",
          "x": 0.56375,
          "xanchor": "center",
          "xref": "paper",
          "y": 0.7859999999999999,
          "yanchor": "bottom",
          "yref": "paper"
         },
         {
          "showarrow": false,
          "text": "name=82Kr",
          "x": 0.6912499999999999,
          "xanchor": "center",
          "xref": "paper",
          "y": 0.7859999999999999,
          "yanchor": "bottom",
          "yref": "paper"
         },
         {
          "showarrow": false,
          "text": "name=88Sr",
          "x": 0.8187500000000001,
          "xanchor": "center",
          "xref": "paper",
          "y": 0.7859999999999999,
          "yanchor": "bottom",
          "yref": "paper"
         },
         {
          "showarrow": false,
          "text": "name=94Mo",
          "x": 0.94625,
          "xanchor": "center",
          "xref": "paper",
          "y": 0.7859999999999999,
          "yanchor": "bottom",
          "yref": "paper"
         },
         {
          "showarrow": false,
          "text": "name=10B",
          "x": 0.05375,
          "xanchor": "center",
          "xref": "paper",
          "y": 1,
          "yanchor": "bottom",
          "yref": "paper"
         },
         {
          "showarrow": false,
          "text": "name=14N",
          "x": 0.18125,
          "xanchor": "center",
          "xref": "paper",
          "y": 1,
          "yanchor": "bottom",
          "yref": "paper"
         },
         {
          "showarrow": false,
          "text": "name=34S",
          "x": 0.30874999999999997,
          "xanchor": "center",
          "xref": "paper",
          "y": 1,
          "yanchor": "bottom",
          "yref": "paper"
         },
         {
          "showarrow": false,
          "text": "name=36S",
          "x": 0.43625,
          "xanchor": "center",
          "xref": "paper",
          "y": 1,
          "yanchor": "bottom",
          "yref": "paper"
         },
         {
          "showarrow": false,
          "text": "name=36Ar",
          "x": 0.56375,
          "xanchor": "center",
          "xref": "paper",
          "y": 1,
          "yanchor": "bottom",
          "yref": "paper"
         },
         {
          "showarrow": false,
          "text": "name=60Ni",
          "x": 0.6912499999999999,
          "xanchor": "center",
          "xref": "paper",
          "y": 1,
          "yanchor": "bottom",
          "yref": "paper"
         },
         {
          "showarrow": false,
          "text": "name=66Zn",
          "x": 0.8187500000000001,
          "xanchor": "center",
          "xref": "paper",
          "y": 1,
          "yanchor": "bottom",
          "yref": "paper"
         },
         {
          "showarrow": false,
          "text": "name=68Zn",
          "x": 0.94625,
          "xanchor": "center",
          "xref": "paper",
          "y": 1,
          "yanchor": "bottom",
          "yref": "paper"
         }
        ],
        "legend": {
         "tracegroupgap": 0
        },
        "margin": {
         "t": 60
        },
        "shapes": [
         {
          "line": {
           "color": "black",
           "dash": "dash",
           "width": 1
          },
          "type": "line",
          "x0": 0,
          "x1": 1,
          "xref": "x domain",
          "y0": 0,
          "y1": 0,
          "yref": "y"
         },
         {
          "line": {
           "color": "black",
           "dash": "dash",
           "width": 1
          },
          "type": "line",
          "x0": 0,
          "x1": 1,
          "xref": "x2 domain",
          "y0": 0,
          "y1": 0,
          "yref": "y2"
         },
         {
          "line": {
           "color": "black",
           "dash": "dash",
           "width": 1
          },
          "type": "line",
          "x0": 0,
          "x1": 1,
          "xref": "x9 domain",
          "y0": 0,
          "y1": 0,
          "yref": "y9"
         },
         {
          "line": {
           "color": "black",
           "dash": "dash",
           "width": 1
          },
          "type": "line",
          "x0": 0,
          "x1": 1,
          "xref": "x10 domain",
          "y0": 0,
          "y1": 0,
          "yref": "y10"
         },
         {
          "line": {
           "color": "black",
           "dash": "dash",
           "width": 1
          },
          "type": "line",
          "x0": 0,
          "x1": 1,
          "xref": "x11 domain",
          "y0": 0,
          "y1": 0,
          "yref": "y11"
         },
         {
          "line": {
           "color": "black",
           "dash": "dash",
           "width": 1
          },
          "type": "line",
          "x0": 0,
          "x1": 1,
          "xref": "x12 domain",
          "y0": 0,
          "y1": 0,
          "yref": "y12"
         },
         {
          "line": {
           "color": "black",
           "dash": "dash",
           "width": 1
          },
          "type": "line",
          "x0": 0,
          "x1": 1,
          "xref": "x13 domain",
          "y0": 0,
          "y1": 0,
          "yref": "y13"
         },
         {
          "line": {
           "color": "black",
           "dash": "dash",
           "width": 1
          },
          "type": "line",
          "x0": 0,
          "x1": 1,
          "xref": "x14 domain",
          "y0": 0,
          "y1": 0,
          "yref": "y14"
         },
         {
          "line": {
           "color": "black",
           "dash": "dash",
           "width": 1
          },
          "type": "line",
          "x0": 0,
          "x1": 1,
          "xref": "x15 domain",
          "y0": 0,
          "y1": 0,
          "yref": "y15"
         },
         {
          "line": {
           "color": "black",
           "dash": "dash",
           "width": 1
          },
          "type": "line",
          "x0": 0,
          "x1": 1,
          "xref": "x16 domain",
          "y0": 0,
          "y1": 0,
          "yref": "y16"
         },
         {
          "line": {
           "color": "black",
           "dash": "dash",
           "width": 1
          },
          "type": "line",
          "x0": 0,
          "x1": 1,
          "xref": "x17 domain",
          "y0": 0,
          "y1": 0,
          "yref": "y17"
         },
         {
          "line": {
           "color": "black",
           "dash": "dash",
           "width": 1
          },
          "type": "line",
          "x0": 0,
          "x1": 1,
          "xref": "x18 domain",
          "y0": 0,
          "y1": 0,
          "yref": "y18"
         },
         {
          "line": {
           "color": "black",
           "dash": "dash",
           "width": 1
          },
          "type": "line",
          "x0": 0,
          "x1": 1,
          "xref": "x19 domain",
          "y0": 0,
          "y1": 0,
          "yref": "y19"
         },
         {
          "line": {
           "color": "black",
           "dash": "dash",
           "width": 1
          },
          "type": "line",
          "x0": 0,
          "x1": 1,
          "xref": "x20 domain",
          "y0": 0,
          "y1": 0,
          "yref": "y20"
         },
         {
          "line": {
           "color": "black",
           "dash": "dash",
           "width": 1
          },
          "type": "line",
          "x0": 0,
          "x1": 1,
          "xref": "x21 domain",
          "y0": 0,
          "y1": 0,
          "yref": "y21"
         },
         {
          "line": {
           "color": "black",
           "dash": "dash",
           "width": 1
          },
          "type": "line",
          "x0": 0,
          "x1": 1,
          "xref": "x22 domain",
          "y0": 0,
          "y1": 0,
          "yref": "y22"
         },
         {
          "line": {
           "color": "black",
           "dash": "dash",
           "width": 1
          },
          "type": "line",
          "x0": 0,
          "x1": 1,
          "xref": "x23 domain",
          "y0": 0,
          "y1": 0,
          "yref": "y23"
         },
         {
          "line": {
           "color": "black",
           "dash": "dash",
           "width": 1
          },
          "type": "line",
          "x0": 0,
          "x1": 1,
          "xref": "x24 domain",
          "y0": 0,
          "y1": 0,
          "yref": "y24"
         },
         {
          "line": {
           "color": "black",
           "dash": "dash",
           "width": 1
          },
          "type": "line",
          "x0": 0,
          "x1": 1,
          "xref": "x25 domain",
          "y0": 0,
          "y1": 0,
          "yref": "y25"
         },
         {
          "line": {
           "color": "black",
           "dash": "dash",
           "width": 1
          },
          "type": "line",
          "x0": 0,
          "x1": 1,
          "xref": "x26 domain",
          "y0": 0,
          "y1": 0,
          "yref": "y26"
         },
         {
          "line": {
           "color": "black",
           "dash": "dash",
           "width": 1
          },
          "type": "line",
          "x0": 0,
          "x1": 1,
          "xref": "x27 domain",
          "y0": 0,
          "y1": 0,
          "yref": "y27"
         },
         {
          "line": {
           "color": "black",
           "dash": "dash",
           "width": 1
          },
          "type": "line",
          "x0": 0,
          "x1": 1,
          "xref": "x28 domain",
          "y0": 0,
          "y1": 0,
          "yref": "y28"
         },
         {
          "line": {
           "color": "black",
           "dash": "dash",
           "width": 1
          },
          "type": "line",
          "x0": 0,
          "x1": 1,
          "xref": "x29 domain",
          "y0": 0,
          "y1": 0,
          "yref": "y29"
         },
         {
          "line": {
           "color": "black",
           "dash": "dash",
           "width": 1
          },
          "type": "line",
          "x0": 0,
          "x1": 1,
          "xref": "x30 domain",
          "y0": 0,
          "y1": 0,
          "yref": "y30"
         },
         {
          "line": {
           "color": "black",
           "dash": "dash",
           "width": 1
          },
          "type": "line",
          "x0": 0,
          "x1": 1,
          "xref": "x31 domain",
          "y0": 0,
          "y1": 0,
          "yref": "y31"
         },
         {
          "line": {
           "color": "black",
           "dash": "dash",
           "width": 1
          },
          "type": "line",
          "x0": 0,
          "x1": 1,
          "xref": "x32 domain",
          "y0": 0,
          "y1": 0,
          "yref": "y32"
         },
         {
          "line": {
           "color": "black",
           "dash": "dash",
           "width": 1
          },
          "type": "line",
          "x0": 0,
          "x1": 1,
          "xref": "x33 domain",
          "y0": 0,
          "y1": 0,
          "yref": "y33"
         },
         {
          "line": {
           "color": "black",
           "dash": "dash",
           "width": 1
          },
          "type": "line",
          "x0": 0,
          "x1": 1,
          "xref": "x34 domain",
          "y0": 0,
          "y1": 0,
          "yref": "y34"
         },
         {
          "line": {
           "color": "black",
           "dash": "dash",
           "width": 1
          },
          "type": "line",
          "x0": 0,
          "x1": 1,
          "xref": "x35 domain",
          "y0": 0,
          "y1": 0,
          "yref": "y35"
         },
         {
          "line": {
           "color": "black",
           "dash": "dash",
           "width": 1
          },
          "type": "line",
          "x0": 0,
          "x1": 1,
          "xref": "x36 domain",
          "y0": 0,
          "y1": 0,
          "yref": "y36"
         },
         {
          "line": {
           "color": "black",
           "dash": "dash",
           "width": 1
          },
          "type": "line",
          "x0": 0,
          "x1": 1,
          "xref": "x37 domain",
          "y0": 0,
          "y1": 0,
          "yref": "y37"
         },
         {
          "line": {
           "color": "black",
           "dash": "dash",
           "width": 1
          },
          "type": "line",
          "x0": 0,
          "x1": 1,
          "xref": "x38 domain",
          "y0": 0,
          "y1": 0,
          "yref": "y38"
         },
         {
          "line": {
           "color": "black",
           "dash": "dash",
           "width": 1
          },
          "type": "line",
          "x0": 0,
          "x1": 1,
          "xref": "x39 domain",
          "y0": 0,
          "y1": 0,
          "yref": "y39"
         },
         {
          "line": {
           "color": "black",
           "dash": "dash",
           "width": 1
          },
          "type": "line",
          "x0": 0,
          "x1": 1,
          "xref": "x40 domain",
          "y0": 0,
          "y1": 0,
          "yref": "y40"
         }
        ],
        "template": {
         "data": {
          "bar": [
           {
            "error_x": {
             "color": "#2a3f5f"
            },
            "error_y": {
             "color": "#2a3f5f"
            },
            "marker": {
             "line": {
              "color": "#E5ECF6",
              "width": 0.5
             },
             "pattern": {
              "fillmode": "overlay",
              "size": 10,
              "solidity": 0.2
             }
            },
            "type": "bar"
           }
          ],
          "barpolar": [
           {
            "marker": {
             "line": {
              "color": "#E5ECF6",
              "width": 0.5
             },
             "pattern": {
              "fillmode": "overlay",
              "size": 10,
              "solidity": 0.2
             }
            },
            "type": "barpolar"
           }
          ],
          "carpet": [
           {
            "aaxis": {
             "endlinecolor": "#2a3f5f",
             "gridcolor": "white",
             "linecolor": "white",
             "minorgridcolor": "white",
             "startlinecolor": "#2a3f5f"
            },
            "baxis": {
             "endlinecolor": "#2a3f5f",
             "gridcolor": "white",
             "linecolor": "white",
             "minorgridcolor": "white",
             "startlinecolor": "#2a3f5f"
            },
            "type": "carpet"
           }
          ],
          "choropleth": [
           {
            "colorbar": {
             "outlinewidth": 0,
             "ticks": ""
            },
            "type": "choropleth"
           }
          ],
          "contour": [
           {
            "colorbar": {
             "outlinewidth": 0,
             "ticks": ""
            },
            "colorscale": [
             [
              0,
              "#0d0887"
             ],
             [
              0.1111111111111111,
              "#46039f"
             ],
             [
              0.2222222222222222,
              "#7201a8"
             ],
             [
              0.3333333333333333,
              "#9c179e"
             ],
             [
              0.4444444444444444,
              "#bd3786"
             ],
             [
              0.5555555555555556,
              "#d8576b"
             ],
             [
              0.6666666666666666,
              "#ed7953"
             ],
             [
              0.7777777777777778,
              "#fb9f3a"
             ],
             [
              0.8888888888888888,
              "#fdca26"
             ],
             [
              1,
              "#f0f921"
             ]
            ],
            "type": "contour"
           }
          ],
          "contourcarpet": [
           {
            "colorbar": {
             "outlinewidth": 0,
             "ticks": ""
            },
            "type": "contourcarpet"
           }
          ],
          "heatmap": [
           {
            "colorbar": {
             "outlinewidth": 0,
             "ticks": ""
            },
            "colorscale": [
             [
              0,
              "#0d0887"
             ],
             [
              0.1111111111111111,
              "#46039f"
             ],
             [
              0.2222222222222222,
              "#7201a8"
             ],
             [
              0.3333333333333333,
              "#9c179e"
             ],
             [
              0.4444444444444444,
              "#bd3786"
             ],
             [
              0.5555555555555556,
              "#d8576b"
             ],
             [
              0.6666666666666666,
              "#ed7953"
             ],
             [
              0.7777777777777778,
              "#fb9f3a"
             ],
             [
              0.8888888888888888,
              "#fdca26"
             ],
             [
              1,
              "#f0f921"
             ]
            ],
            "type": "heatmap"
           }
          ],
          "heatmapgl": [
           {
            "colorbar": {
             "outlinewidth": 0,
             "ticks": ""
            },
            "colorscale": [
             [
              0,
              "#0d0887"
             ],
             [
              0.1111111111111111,
              "#46039f"
             ],
             [
              0.2222222222222222,
              "#7201a8"
             ],
             [
              0.3333333333333333,
              "#9c179e"
             ],
             [
              0.4444444444444444,
              "#bd3786"
             ],
             [
              0.5555555555555556,
              "#d8576b"
             ],
             [
              0.6666666666666666,
              "#ed7953"
             ],
             [
              0.7777777777777778,
              "#fb9f3a"
             ],
             [
              0.8888888888888888,
              "#fdca26"
             ],
             [
              1,
              "#f0f921"
             ]
            ],
            "type": "heatmapgl"
           }
          ],
          "histogram": [
           {
            "marker": {
             "pattern": {
              "fillmode": "overlay",
              "size": 10,
              "solidity": 0.2
             }
            },
            "type": "histogram"
           }
          ],
          "histogram2d": [
           {
            "colorbar": {
             "outlinewidth": 0,
             "ticks": ""
            },
            "colorscale": [
             [
              0,
              "#0d0887"
             ],
             [
              0.1111111111111111,
              "#46039f"
             ],
             [
              0.2222222222222222,
              "#7201a8"
             ],
             [
              0.3333333333333333,
              "#9c179e"
             ],
             [
              0.4444444444444444,
              "#bd3786"
             ],
             [
              0.5555555555555556,
              "#d8576b"
             ],
             [
              0.6666666666666666,
              "#ed7953"
             ],
             [
              0.7777777777777778,
              "#fb9f3a"
             ],
             [
              0.8888888888888888,
              "#fdca26"
             ],
             [
              1,
              "#f0f921"
             ]
            ],
            "type": "histogram2d"
           }
          ],
          "histogram2dcontour": [
           {
            "colorbar": {
             "outlinewidth": 0,
             "ticks": ""
            },
            "colorscale": [
             [
              0,
              "#0d0887"
             ],
             [
              0.1111111111111111,
              "#46039f"
             ],
             [
              0.2222222222222222,
              "#7201a8"
             ],
             [
              0.3333333333333333,
              "#9c179e"
             ],
             [
              0.4444444444444444,
              "#bd3786"
             ],
             [
              0.5555555555555556,
              "#d8576b"
             ],
             [
              0.6666666666666666,
              "#ed7953"
             ],
             [
              0.7777777777777778,
              "#fb9f3a"
             ],
             [
              0.8888888888888888,
              "#fdca26"
             ],
             [
              1,
              "#f0f921"
             ]
            ],
            "type": "histogram2dcontour"
           }
          ],
          "mesh3d": [
           {
            "colorbar": {
             "outlinewidth": 0,
             "ticks": ""
            },
            "type": "mesh3d"
           }
          ],
          "parcoords": [
           {
            "line": {
             "colorbar": {
              "outlinewidth": 0,
              "ticks": ""
             }
            },
            "type": "parcoords"
           }
          ],
          "pie": [
           {
            "automargin": true,
            "type": "pie"
           }
          ],
          "scatter": [
           {
            "fillpattern": {
             "fillmode": "overlay",
             "size": 10,
             "solidity": 0.2
            },
            "type": "scatter"
           }
          ],
          "scatter3d": [
           {
            "line": {
             "colorbar": {
              "outlinewidth": 0,
              "ticks": ""
             }
            },
            "marker": {
             "colorbar": {
              "outlinewidth": 0,
              "ticks": ""
             }
            },
            "type": "scatter3d"
           }
          ],
          "scattercarpet": [
           {
            "marker": {
             "colorbar": {
              "outlinewidth": 0,
              "ticks": ""
             }
            },
            "type": "scattercarpet"
           }
          ],
          "scattergeo": [
           {
            "marker": {
             "colorbar": {
              "outlinewidth": 0,
              "ticks": ""
             }
            },
            "type": "scattergeo"
           }
          ],
          "scattergl": [
           {
            "marker": {
             "colorbar": {
              "outlinewidth": 0,
              "ticks": ""
             }
            },
            "type": "scattergl"
           }
          ],
          "scattermapbox": [
           {
            "marker": {
             "colorbar": {
              "outlinewidth": 0,
              "ticks": ""
             }
            },
            "type": "scattermapbox"
           }
          ],
          "scatterpolar": [
           {
            "marker": {
             "colorbar": {
              "outlinewidth": 0,
              "ticks": ""
             }
            },
            "type": "scatterpolar"
           }
          ],
          "scatterpolargl": [
           {
            "marker": {
             "colorbar": {
              "outlinewidth": 0,
              "ticks": ""
             }
            },
            "type": "scatterpolargl"
           }
          ],
          "scatterternary": [
           {
            "marker": {
             "colorbar": {
              "outlinewidth": 0,
              "ticks": ""
             }
            },
            "type": "scatterternary"
           }
          ],
          "surface": [
           {
            "colorbar": {
             "outlinewidth": 0,
             "ticks": ""
            },
            "colorscale": [
             [
              0,
              "#0d0887"
             ],
             [
              0.1111111111111111,
              "#46039f"
             ],
             [
              0.2222222222222222,
              "#7201a8"
             ],
             [
              0.3333333333333333,
              "#9c179e"
             ],
             [
              0.4444444444444444,
              "#bd3786"
             ],
             [
              0.5555555555555556,
              "#d8576b"
             ],
             [
              0.6666666666666666,
              "#ed7953"
             ],
             [
              0.7777777777777778,
              "#fb9f3a"
             ],
             [
              0.8888888888888888,
              "#fdca26"
             ],
             [
              1,
              "#f0f921"
             ]
            ],
            "type": "surface"
           }
          ],
          "table": [
           {
            "cells": {
             "fill": {
              "color": "#EBF0F8"
             },
             "line": {
              "color": "white"
             }
            },
            "header": {
             "fill": {
              "color": "#C8D4E3"
             },
             "line": {
              "color": "white"
             }
            },
            "type": "table"
           }
          ]
         },
         "layout": {
          "annotationdefaults": {
           "arrowcolor": "#2a3f5f",
           "arrowhead": 0,
           "arrowwidth": 1
          },
          "autotypenumbers": "strict",
          "coloraxis": {
           "colorbar": {
            "outlinewidth": 0,
            "ticks": ""
           }
          },
          "colorscale": {
           "diverging": [
            [
             0,
             "#8e0152"
            ],
            [
             0.1,
             "#c51b7d"
            ],
            [
             0.2,
             "#de77ae"
            ],
            [
             0.3,
             "#f1b6da"
            ],
            [
             0.4,
             "#fde0ef"
            ],
            [
             0.5,
             "#f7f7f7"
            ],
            [
             0.6,
             "#e6f5d0"
            ],
            [
             0.7,
             "#b8e186"
            ],
            [
             0.8,
             "#7fbc41"
            ],
            [
             0.9,
             "#4d9221"
            ],
            [
             1,
             "#276419"
            ]
           ],
           "sequential": [
            [
             0,
             "#0d0887"
            ],
            [
             0.1111111111111111,
             "#46039f"
            ],
            [
             0.2222222222222222,
             "#7201a8"
            ],
            [
             0.3333333333333333,
             "#9c179e"
            ],
            [
             0.4444444444444444,
             "#bd3786"
            ],
            [
             0.5555555555555556,
             "#d8576b"
            ],
            [
             0.6666666666666666,
             "#ed7953"
            ],
            [
             0.7777777777777778,
             "#fb9f3a"
            ],
            [
             0.8888888888888888,
             "#fdca26"
            ],
            [
             1,
             "#f0f921"
            ]
           ],
           "sequentialminus": [
            [
             0,
             "#0d0887"
            ],
            [
             0.1111111111111111,
             "#46039f"
            ],
            [
             0.2222222222222222,
             "#7201a8"
            ],
            [
             0.3333333333333333,
             "#9c179e"
            ],
            [
             0.4444444444444444,
             "#bd3786"
            ],
            [
             0.5555555555555556,
             "#d8576b"
            ],
            [
             0.6666666666666666,
             "#ed7953"
            ],
            [
             0.7777777777777778,
             "#fb9f3a"
            ],
            [
             0.8888888888888888,
             "#fdca26"
            ],
            [
             1,
             "#f0f921"
            ]
           ]
          },
          "colorway": [
           "#636efa",
           "#EF553B",
           "#00cc96",
           "#ab63fa",
           "#FFA15A",
           "#19d3f3",
           "#FF6692",
           "#B6E880",
           "#FF97FF",
           "#FECB52"
          ],
          "font": {
           "color": "#2a3f5f"
          },
          "geo": {
           "bgcolor": "white",
           "lakecolor": "white",
           "landcolor": "#E5ECF6",
           "showlakes": true,
           "showland": true,
           "subunitcolor": "white"
          },
          "hoverlabel": {
           "align": "left"
          },
          "hovermode": "closest",
          "mapbox": {
           "style": "light"
          },
          "paper_bgcolor": "white",
          "plot_bgcolor": "#E5ECF6",
          "polar": {
           "angularaxis": {
            "gridcolor": "white",
            "linecolor": "white",
            "ticks": ""
           },
           "bgcolor": "#E5ECF6",
           "radialaxis": {
            "gridcolor": "white",
            "linecolor": "white",
            "ticks": ""
           }
          },
          "scene": {
           "xaxis": {
            "backgroundcolor": "#E5ECF6",
            "gridcolor": "white",
            "gridwidth": 2,
            "linecolor": "white",
            "showbackground": true,
            "ticks": "",
            "zerolinecolor": "white"
           },
           "yaxis": {
            "backgroundcolor": "#E5ECF6",
            "gridcolor": "white",
            "gridwidth": 2,
            "linecolor": "white",
            "showbackground": true,
            "ticks": "",
            "zerolinecolor": "white"
           },
           "zaxis": {
            "backgroundcolor": "#E5ECF6",
            "gridcolor": "white",
            "gridwidth": 2,
            "linecolor": "white",
            "showbackground": true,
            "ticks": "",
            "zerolinecolor": "white"
           }
          },
          "shapedefaults": {
           "line": {
            "color": "#2a3f5f"
           }
          },
          "ternary": {
           "aaxis": {
            "gridcolor": "white",
            "linecolor": "white",
            "ticks": ""
           },
           "baxis": {
            "gridcolor": "white",
            "linecolor": "white",
            "ticks": ""
           },
           "bgcolor": "#E5ECF6",
           "caxis": {
            "gridcolor": "white",
            "linecolor": "white",
            "ticks": ""
           }
          },
          "title": {
           "x": 0.05
          },
          "xaxis": {
           "automargin": true,
           "gridcolor": "white",
           "linecolor": "white",
           "ticks": "",
           "title": {
            "standoff": 15
           },
           "zerolinecolor": "white",
           "zerolinewidth": 2
          },
          "yaxis": {
           "automargin": true,
           "gridcolor": "white",
           "linecolor": "white",
           "ticks": "",
           "title": {
            "standoff": 15
           },
           "zerolinecolor": "white",
           "zerolinewidth": 2
          }
         }
        },
        "xaxis": {
         "anchor": "y",
         "domain": [
          0,
          0.1075
         ],
         "title": {
          "text": "quanta"
         }
        },
        "xaxis10": {
         "anchor": "y10",
         "domain": [
          0.1275,
          0.235
         ],
         "matches": "x",
         "showticklabels": false
        },
        "xaxis11": {
         "anchor": "y11",
         "domain": [
          0.255,
          0.3625
         ],
         "matches": "x",
         "showticklabels": false
        },
        "xaxis12": {
         "anchor": "y12",
         "domain": [
          0.3825,
          0.49
         ],
         "matches": "x",
         "showticklabels": false
        },
        "xaxis13": {
         "anchor": "y13",
         "domain": [
          0.51,
          0.6175
         ],
         "matches": "x",
         "showticklabels": false
        },
        "xaxis14": {
         "anchor": "y14",
         "domain": [
          0.6375,
          0.745
         ],
         "matches": "x",
         "showticklabels": false
        },
        "xaxis15": {
         "anchor": "y15",
         "domain": [
          0.765,
          0.8725
         ],
         "matches": "x",
         "showticklabels": false
        },
        "xaxis16": {
         "anchor": "y16",
         "domain": [
          0.8925,
          1
         ],
         "matches": "x",
         "showticklabels": false
        },
        "xaxis17": {
         "anchor": "y17",
         "domain": [
          0,
          0.1075
         ],
         "matches": "x",
         "showticklabels": false
        },
        "xaxis18": {
         "anchor": "y18",
         "domain": [
          0.1275,
          0.235
         ],
         "matches": "x",
         "showticklabels": false
        },
        "xaxis19": {
         "anchor": "y19",
         "domain": [
          0.255,
          0.3625
         ],
         "matches": "x",
         "showticklabels": false
        },
        "xaxis2": {
         "anchor": "y2",
         "domain": [
          0.1275,
          0.235
         ],
         "matches": "x",
         "title": {
          "text": "quanta"
         }
        },
        "xaxis20": {
         "anchor": "y20",
         "domain": [
          0.3825,
          0.49
         ],
         "matches": "x",
         "showticklabels": false
        },
        "xaxis21": {
         "anchor": "y21",
         "domain": [
          0.51,
          0.6175
         ],
         "matches": "x",
         "showticklabels": false
        },
        "xaxis22": {
         "anchor": "y22",
         "domain": [
          0.6375,
          0.745
         ],
         "matches": "x",
         "showticklabels": false
        },
        "xaxis23": {
         "anchor": "y23",
         "domain": [
          0.765,
          0.8725
         ],
         "matches": "x",
         "showticklabels": false
        },
        "xaxis24": {
         "anchor": "y24",
         "domain": [
          0.8925,
          1
         ],
         "matches": "x",
         "showticklabels": false
        },
        "xaxis25": {
         "anchor": "y25",
         "domain": [
          0,
          0.1075
         ],
         "matches": "x",
         "showticklabels": false
        },
        "xaxis26": {
         "anchor": "y26",
         "domain": [
          0.1275,
          0.235
         ],
         "matches": "x",
         "showticklabels": false
        },
        "xaxis27": {
         "anchor": "y27",
         "domain": [
          0.255,
          0.3625
         ],
         "matches": "x",
         "showticklabels": false
        },
        "xaxis28": {
         "anchor": "y28",
         "domain": [
          0.3825,
          0.49
         ],
         "matches": "x",
         "showticklabels": false
        },
        "xaxis29": {
         "anchor": "y29",
         "domain": [
          0.51,
          0.6175
         ],
         "matches": "x",
         "showticklabels": false
        },
        "xaxis3": {
         "anchor": "y3",
         "domain": [
          0.255,
          0.3625
         ],
         "matches": "x",
         "title": {
          "text": "quanta"
         }
        },
        "xaxis30": {
         "anchor": "y30",
         "domain": [
          0.6375,
          0.745
         ],
         "matches": "x",
         "showticklabels": false
        },
        "xaxis31": {
         "anchor": "y31",
         "domain": [
          0.765,
          0.8725
         ],
         "matches": "x",
         "showticklabels": false
        },
        "xaxis32": {
         "anchor": "y32",
         "domain": [
          0.8925,
          1
         ],
         "matches": "x",
         "showticklabels": false
        },
        "xaxis33": {
         "anchor": "y33",
         "domain": [
          0,
          0.1075
         ],
         "matches": "x",
         "showticklabels": false
        },
        "xaxis34": {
         "anchor": "y34",
         "domain": [
          0.1275,
          0.235
         ],
         "matches": "x",
         "showticklabels": false
        },
        "xaxis35": {
         "anchor": "y35",
         "domain": [
          0.255,
          0.3625
         ],
         "matches": "x",
         "showticklabels": false
        },
        "xaxis36": {
         "anchor": "y36",
         "domain": [
          0.3825,
          0.49
         ],
         "matches": "x",
         "showticklabels": false
        },
        "xaxis37": {
         "anchor": "y37",
         "domain": [
          0.51,
          0.6175
         ],
         "matches": "x",
         "showticklabels": false
        },
        "xaxis38": {
         "anchor": "y38",
         "domain": [
          0.6375,
          0.745
         ],
         "matches": "x",
         "showticklabels": false
        },
        "xaxis39": {
         "anchor": "y39",
         "domain": [
          0.765,
          0.8725
         ],
         "matches": "x",
         "showticklabels": false
        },
        "xaxis4": {
         "anchor": "y4",
         "domain": [
          0.3825,
          0.49
         ],
         "matches": "x",
         "title": {
          "text": "quanta"
         }
        },
        "xaxis40": {
         "anchor": "y40",
         "domain": [
          0.8925,
          1
         ],
         "matches": "x",
         "showticklabels": false
        },
        "xaxis5": {
         "anchor": "y5",
         "domain": [
          0.51,
          0.6175
         ],
         "matches": "x",
         "title": {
          "text": "quanta"
         }
        },
        "xaxis6": {
         "anchor": "y6",
         "domain": [
          0.6375,
          0.745
         ],
         "matches": "x",
         "title": {
          "text": "quanta"
         }
        },
        "xaxis7": {
         "anchor": "y7",
         "domain": [
          0.765,
          0.8725
         ],
         "matches": "x",
         "title": {
          "text": "quanta"
         }
        },
        "xaxis8": {
         "anchor": "y8",
         "domain": [
          0.8925,
          1
         ],
         "matches": "x",
         "title": {
          "text": "quanta"
         }
        },
        "xaxis9": {
         "anchor": "y9",
         "domain": [
          0,
          0.1075
         ],
         "matches": "x",
         "showticklabels": false
        },
        "yaxis": {
         "anchor": "x",
         "domain": [
          0,
          0.144
         ],
         "title": {
          "text": "residuals"
         }
        },
        "yaxis10": {
         "anchor": "x10",
         "domain": [
          0.214,
          0.358
         ],
         "matches": "y",
         "showticklabels": false
        },
        "yaxis11": {
         "anchor": "x11",
         "domain": [
          0.214,
          0.358
         ],
         "matches": "y",
         "showticklabels": false
        },
        "yaxis12": {
         "anchor": "x12",
         "domain": [
          0.214,
          0.358
         ],
         "matches": "y",
         "showticklabels": false
        },
        "yaxis13": {
         "anchor": "x13",
         "domain": [
          0.214,
          0.358
         ],
         "matches": "y",
         "showticklabels": false
        },
        "yaxis14": {
         "anchor": "x14",
         "domain": [
          0.214,
          0.358
         ],
         "matches": "y",
         "showticklabels": false
        },
        "yaxis15": {
         "anchor": "x15",
         "domain": [
          0.214,
          0.358
         ],
         "matches": "y",
         "showticklabels": false
        },
        "yaxis16": {
         "anchor": "x16",
         "domain": [
          0.214,
          0.358
         ],
         "matches": "y",
         "showticklabels": false
        },
        "yaxis17": {
         "anchor": "x17",
         "domain": [
          0.428,
          0.572
         ],
         "matches": "y",
         "title": {
          "text": "residuals"
         }
        },
        "yaxis18": {
         "anchor": "x18",
         "domain": [
          0.428,
          0.572
         ],
         "matches": "y",
         "showticklabels": false
        },
        "yaxis19": {
         "anchor": "x19",
         "domain": [
          0.428,
          0.572
         ],
         "matches": "y",
         "showticklabels": false
        },
        "yaxis2": {
         "anchor": "x2",
         "domain": [
          0,
          0.144
         ],
         "matches": "y",
         "showticklabels": false
        },
        "yaxis20": {
         "anchor": "x20",
         "domain": [
          0.428,
          0.572
         ],
         "matches": "y",
         "showticklabels": false
        },
        "yaxis21": {
         "anchor": "x21",
         "domain": [
          0.428,
          0.572
         ],
         "matches": "y",
         "showticklabels": false
        },
        "yaxis22": {
         "anchor": "x22",
         "domain": [
          0.428,
          0.572
         ],
         "matches": "y",
         "showticklabels": false
        },
        "yaxis23": {
         "anchor": "x23",
         "domain": [
          0.428,
          0.572
         ],
         "matches": "y",
         "showticklabels": false
        },
        "yaxis24": {
         "anchor": "x24",
         "domain": [
          0.428,
          0.572
         ],
         "matches": "y",
         "showticklabels": false
        },
        "yaxis25": {
         "anchor": "x25",
         "domain": [
          0.6419999999999999,
          0.7859999999999999
         ],
         "matches": "y",
         "title": {
          "text": "residuals"
         }
        },
        "yaxis26": {
         "anchor": "x26",
         "domain": [
          0.6419999999999999,
          0.7859999999999999
         ],
         "matches": "y",
         "showticklabels": false
        },
        "yaxis27": {
         "anchor": "x27",
         "domain": [
          0.6419999999999999,
          0.7859999999999999
         ],
         "matches": "y",
         "showticklabels": false
        },
        "yaxis28": {
         "anchor": "x28",
         "domain": [
          0.6419999999999999,
          0.7859999999999999
         ],
         "matches": "y",
         "showticklabels": false
        },
        "yaxis29": {
         "anchor": "x29",
         "domain": [
          0.6419999999999999,
          0.7859999999999999
         ],
         "matches": "y",
         "showticklabels": false
        },
        "yaxis3": {
         "anchor": "x3",
         "domain": [
          0,
          0.144
         ],
         "matches": "y",
         "showticklabels": false
        },
        "yaxis30": {
         "anchor": "x30",
         "domain": [
          0.6419999999999999,
          0.7859999999999999
         ],
         "matches": "y",
         "showticklabels": false
        },
        "yaxis31": {
         "anchor": "x31",
         "domain": [
          0.6419999999999999,
          0.7859999999999999
         ],
         "matches": "y",
         "showticklabels": false
        },
        "yaxis32": {
         "anchor": "x32",
         "domain": [
          0.6419999999999999,
          0.7859999999999999
         ],
         "matches": "y",
         "showticklabels": false
        },
        "yaxis33": {
         "anchor": "x33",
         "domain": [
          0.856,
          1
         ],
         "matches": "y",
         "title": {
          "text": "residuals"
         }
        },
        "yaxis34": {
         "anchor": "x34",
         "domain": [
          0.856,
          1
         ],
         "matches": "y",
         "showticklabels": false
        },
        "yaxis35": {
         "anchor": "x35",
         "domain": [
          0.856,
          1
         ],
         "matches": "y",
         "showticklabels": false
        },
        "yaxis36": {
         "anchor": "x36",
         "domain": [
          0.856,
          1
         ],
         "matches": "y",
         "showticklabels": false
        },
        "yaxis37": {
         "anchor": "x37",
         "domain": [
          0.856,
          1
         ],
         "matches": "y",
         "showticklabels": false
        },
        "yaxis38": {
         "anchor": "x38",
         "domain": [
          0.856,
          1
         ],
         "matches": "y",
         "showticklabels": false
        },
        "yaxis39": {
         "anchor": "x39",
         "domain": [
          0.856,
          1
         ],
         "matches": "y",
         "showticklabels": false
        },
        "yaxis4": {
         "anchor": "x4",
         "domain": [
          0,
          0.144
         ],
         "matches": "y",
         "showticklabels": false
        },
        "yaxis40": {
         "anchor": "x40",
         "domain": [
          0.856,
          1
         ],
         "matches": "y",
         "showticklabels": false
        },
        "yaxis5": {
         "anchor": "x5",
         "domain": [
          0,
          0.144
         ],
         "matches": "y",
         "showticklabels": false
        },
        "yaxis6": {
         "anchor": "x6",
         "domain": [
          0,
          0.144
         ],
         "matches": "y",
         "showticklabels": false
        },
        "yaxis7": {
         "anchor": "x7",
         "domain": [
          0,
          0.144
         ],
         "matches": "y",
         "showticklabels": false
        },
        "yaxis8": {
         "anchor": "x8",
         "domain": [
          0,
          0.144
         ],
         "matches": "y",
         "showticklabels": false
        },
        "yaxis9": {
         "anchor": "x9",
         "domain": [
          0.214,
          0.358
         ],
         "matches": "y",
         "title": {
          "text": "residuals"
         }
        }
       }
      }
     },
     "metadata": {},
     "output_type": "display_data"
    }
   ],
   "source": [
    "residuals_df = best_osc_merged.copy()\n",
    "residuals_df = residuals_df.reset_index()\n",
    "residuals_df[\"name\"] = residuals_df[\"a\"].astype(str) + residuals_df[\"symbol\"]\n",
    "residuals_df[\"residuals\"] = residuals_df[\"energy\"] - residuals_df[\"energy_pred\"]\n",
    "\n",
    "best_residuals = get_best_r2(residuals_df, 0.99)\n",
    "\n",
    "fig = px.scatter(best_residuals, x=\"quanta\", y=\"residuals\", facet_col=\"name\", facet_col_wrap=8)\n",
    "fig.add_hline(y=0, line_width=1, line_dash=\"dash\", line_color=\"black\")\n",
    "fig.show()"
   ]
  },
  {
   "cell_type": "code",
   "execution_count": 236,
   "metadata": {},
   "outputs": [
    {
     "data": {
      "application/vnd.plotly.v1+json": {
       "config": {
        "plotlyServerURL": "https://plot.ly"
       },
       "data": [
        {
         "hovertemplate": "z=8<br>n=8<br>quanta=%{x}<br>residuals=%{y}<br>r2=%{marker.color}<extra></extra>",
         "legendgroup": "",
         "marker": {
          "color": [
           0.9784751192006406,
           0.9784751192006406,
           0.9784751192006406,
           0.9784751192006406
          ],
          "coloraxis": "coloraxis",
          "symbol": "circle"
         },
         "mode": "markers",
         "name": "",
         "orientation": "v",
         "showlegend": false,
         "type": "scatter",
         "x": [
          0,
          1,
          2,
          3
         ],
         "xaxis": "x193",
         "y": [
          -0.8393799999996505,
          1.2892399999920876,
          -0.060340000016175566,
          -0.3895200000244383
         ],
         "yaxis": "y193"
        },
        {
         "hovertemplate": "z=16<br>n=20<br>quanta=%{x}<br>residuals=%{y}<br>r2=%{marker.color}<extra></extra>",
         "legendgroup": "",
         "marker": {
          "color": [
           0.9999643192315976,
           0.9999643192315976,
           0.9999643192315976
          ],
          "coloraxis": "coloraxis",
          "symbol": "circle"
         },
         "mode": "markers",
         "name": "",
         "orientation": "v",
         "showlegend": false,
         "type": "scatter",
         "x": [
          0,
          1,
          2
         ],
         "xaxis": "x178",
         "y": [
          -0.011233330325937464,
          0.022466667869625923,
          -0.011233333934811185
         ],
         "yaxis": "y178"
        },
        {
         "hovertemplate": "z=18<br>n=20<br>quanta=%{x}<br>residuals=%{y}<br>r2=%{marker.color}<extra></extra>",
         "legendgroup": "",
         "marker": {
          "color": [
           0.9805890358563157,
           0.9805890358563157,
           0.9805890358563157,
           0.9805890358563157,
           0.9805890358563157
          ],
          "coloraxis": "coloraxis",
          "symbol": "circle"
         },
         "mode": "markers",
         "name": "",
         "orientation": "v",
         "showlegend": false,
         "type": "scatter",
         "x": [
          0,
          1,
          2,
          3,
          4
         ],
         "xaxis": "x162",
         "y": [
          -0.22295079999830592,
          -0.19348160000078796,
          0.850443599996729,
          -0.22863920000575266,
          -0.20537200000823574
         ],
         "yaxis": "y162"
        },
        {
         "hovertemplate": "z=20<br>n=20<br>quanta=%{x}<br>residuals=%{y}<br>r2=%{marker.color}<extra></extra>",
         "legendgroup": "",
         "marker": {
          "color": [
           0.9360178830892232,
           0.9360178830892232,
           0.9360178830892232,
           0.9360178830892232,
           0.9360178830892232
          ],
          "coloraxis": "coloraxis",
          "symbol": "circle"
         },
         "mode": "markers",
         "name": "",
         "orientation": "v",
         "showlegend": false,
         "type": "scatter",
         "x": [
          0,
          1,
          2,
          3,
          4
         ],
         "xaxis": "x146",
         "y": [
          -0.9974919999999938,
          0.9842859999979936,
          0.43610399999598126,
          0.16490199999396804,
          -0.587800000008043
         ],
         "yaxis": "y146"
        },
        {
         "hovertemplate": "z=20<br>n=22<br>quanta=%{x}<br>residuals=%{y}<br>r2=%{marker.color}<extra></extra>",
         "legendgroup": "",
         "marker": {
          "color": [
           0.9392441060976223,
           0.9392441060976223,
           0.9392441060976223,
           0.9392441060976223,
           0.9392441060976223,
           0.9392441060976223
          ],
          "coloraxis": "coloraxis",
          "symbol": "circle"
         },
         "mode": "markers",
         "name": "",
         "orientation": "v",
         "showlegend": false,
         "type": "scatter",
         "x": [
          0,
          1,
          2,
          3,
          4,
          5
         ],
         "xaxis": "x147",
         "y": [
          0.49324478335254274,
          0.2794782035932115,
          -0.23130837616611988,
          -1.5329249559254507,
          0.17563846431521757,
          0.8158718845558859
         ],
         "yaxis": "y147"
        },
        {
         "hovertemplate": "z=20<br>n=24<br>quanta=%{x}<br>residuals=%{y}<br>r2=%{marker.color}<extra></extra>",
         "legendgroup": "",
         "marker": {
          "color": [
           0.988167640637415,
           0.988167640637415,
           0.988167640637415,
           0.988167640637415,
           0.988167640637415
          ],
          "coloraxis": "coloraxis",
          "symbol": "circle"
         },
         "mode": "markers",
         "name": "",
         "orientation": "v",
         "showlegend": false,
         "type": "scatter",
         "x": [
          0,
          1,
          2,
          3,
          4
         ],
         "xaxis": "x148",
         "y": [
          0.09809188000239444,
          0.024790360001892164,
          -0.07943375999860969,
          -0.3078710799991127,
          0.264422600000386
         ],
         "yaxis": "y148"
        },
        {
         "hovertemplate": "z=20<br>n=26<br>quanta=%{x}<br>residuals=%{y}<br>r2=%{marker.color}<extra></extra>",
         "legendgroup": "",
         "marker": {
          "color": [
           0.9538105903465829,
           0.9538105903465829,
           0.9538105903465829,
           0.9538105903465829
          ],
          "coloraxis": "coloraxis",
          "symbol": "circle"
         },
         "mode": "markers",
         "name": "",
         "orientation": "v",
         "showlegend": false,
         "type": "scatter",
         "x": [
          0,
          1,
          2,
          3
         ],
         "xaxis": "x149",
         "y": [
          -0.20108999999825727,
          0.12987000000171012,
          0.3435300000016772,
          -0.2723099999983556
         ],
         "yaxis": "y149"
        },
        {
         "hovertemplate": "z=36<br>n=50<br>quanta=%{x}<br>residuals=%{y}<br>r2=%{marker.color}<extra></extra>",
         "legendgroup": "",
         "marker": {
          "color": [
           0.9515677334323395,
           0.9515677334323395,
           0.9515677334323395
          ],
          "coloraxis": "coloraxis",
          "symbol": "circle"
         },
         "mode": "markers",
         "name": "",
         "orientation": "v",
         "showlegend": false,
         "type": "scatter",
         "x": [
          0,
          1,
          2
         ],
         "xaxis": "x134",
         "y": [
          -0.14653499999813846,
          0.2930700000015889,
          -0.14653499999868336
         ],
         "yaxis": "y134"
        },
        {
         "hovertemplate": "z=38<br>n=50<br>quanta=%{x}<br>residuals=%{y}<br>r2=%{marker.color}<extra></extra>",
         "legendgroup": "",
         "marker": {
          "color": [
           0.9942009291902432,
           0.9942009291902432,
           0.9942009291902432
          ],
          "coloraxis": "coloraxis",
          "symbol": "circle"
         },
         "mode": "markers",
         "name": "",
         "orientation": "v",
         "showlegend": false,
         "type": "scatter",
         "x": [
          0,
          1,
          2
         ],
         "xaxis": "x118",
         "y": [
          0.09330333333571783,
          -0.18660666666671633,
          0.09330333333084972
         ],
         "yaxis": "y118"
        },
        {
         "hovertemplate": "z=44<br>n=58<br>quanta=%{x}<br>residuals=%{y}<br>r2=%{marker.color}<extra></extra>",
         "legendgroup": "",
         "marker": {
          "color": [
           0.9805928001799629,
           0.9805928001799629,
           0.9805928001799629,
           0.9805928001799629,
           0.9805928001799629,
           0.9805928001799629,
           0.9805928001799629,
           0.9805928001799629,
           0.9805928001799629,
           0.9805928001799629,
           0.9805928001799629,
           0.9805928001799629,
           0.9805928001799629
          ],
          "coloraxis": "coloraxis",
          "symbol": "circle"
         },
         "mode": "markers",
         "name": "",
         "orientation": "v",
         "showlegend": false,
         "type": "scatter",
         "x": [
          0,
          1,
          2,
          3,
          4,
          5,
          6,
          7,
          8,
          9,
          10,
          11,
          12
         ],
         "xaxis": "x103",
         "y": [
          0.6756550945091497,
          0.28192190439954573,
          0.044426314289941704,
          -0.057583075819662266,
          -0.09356246592926665,
          -0.2342918560388707,
          -0.48172124614847434,
          -0.5977506362580787,
          -0.5503800263676819,
          -0.3534094164772865,
          -0.01433880658689013,
          0.4230318033035054,
          0.9580024131939009
         ],
         "yaxis": "y103"
        },
        {
         "hovertemplate": "z=46<br>n=58<br>quanta=%{x}<br>residuals=%{y}<br>r2=%{marker.color}<extra></extra>",
         "legendgroup": "",
         "marker": {
          "color": [
           0.9971692901668271,
           0.9971692901668271,
           0.9971692901668271,
           0.9971692901668271,
           0.9971692901668271,
           0.9971692901668271,
           0.9971692901668271,
           0.9971692901668271,
           0.9971692901668271,
           0.9971692901668271
          ],
          "coloraxis": "coloraxis",
          "symbol": "circle"
         },
         "mode": "markers",
         "name": "",
         "orientation": "v",
         "showlegend": false,
         "type": "scatter",
         "x": [
          0,
          1,
          2,
          3,
          4,
          5,
          6,
          7,
          8,
          9
         ],
         "xaxis": "x87",
         "y": [
          0.1848721818207668,
          -0.08307830302733377,
          -0.13905878787543435,
          -0.03690927272353495,
          0.11053024242836473,
          0.08916975758026435,
          -0.12269072726783659,
          -0.1493512121159366,
          -0.0469116969640373,
          0.19342781818786214
         ],
         "yaxis": "y87"
        },
        {
         "hovertemplate": "z=48<br>n=58<br>quanta=%{x}<br>residuals=%{y}<br>r2=%{marker.color}<extra></extra>",
         "legendgroup": "",
         "marker": {
          "color": [
           0.988760615570537,
           0.988760615570537,
           0.988760615570537,
           0.988760615570537,
           0.988760615570537,
           0.988760615570537,
           0.988760615570537,
           0.988760615570537,
           0.988760615570537,
           0.988760615570537,
           0.988760615570537,
           0.988760615570537,
           0.988760615570537,
           0.988760615570537
          ],
          "coloraxis": "coloraxis",
          "symbol": "circle"
         },
         "mode": "markers",
         "name": "",
         "orientation": "v",
         "showlegend": false,
         "type": "scatter",
         "x": [
          0,
          1,
          2,
          3,
          4,
          5,
          6,
          7,
          8,
          9,
          10,
          11,
          12,
          13
         ],
         "xaxis": "x71",
         "y": [
          0.6047288719064784,
          0.213031353679767,
          0.04983383545305542,
          0.023376317226344145,
          -0.4484912010003672,
          0.29934128077292144,
          -0.3002962374537903,
          -0.339033755680501,
          -0.4710712739072127,
          -0.5146087921339237,
          -0.38834631036063527,
          -0.10208382858734488,
          0.36117865318594333,
          1.0124411349592304
         ],
         "yaxis": "y71"
        },
        {
         "hovertemplate": "z=50<br>n=62<br>quanta=%{x}<br>residuals=%{y}<br>r2=%{marker.color}<extra></extra>",
         "legendgroup": "",
         "marker": {
          "color": [
           0.9959237665763164,
           0.9959237665763164,
           0.9959237665763164,
           0.9959237665763164,
           0.9959237665763164,
           0.9959237665763164,
           0.9959237665763164,
           0.9959237665763164,
           0.9959237665763164,
           0.9959237665763164,
           0.9959237665763164,
           0.9959237665763164
          ],
          "coloraxis": "coloraxis",
          "symbol": "circle"
         },
         "mode": "markers",
         "name": "",
         "orientation": "v",
         "showlegend": false,
         "type": "scatter",
         "x": [
          0,
          1,
          2,
          3,
          4,
          5,
          6,
          7,
          8,
          9,
          10,
          11
         ],
         "xaxis": "x56",
         "y": [
          -0.19895461538286785,
          0.15813531468728126,
          0.24923524475742997,
          -0.3485348251724214,
          0.28023510489772807,
          0.12241503496787765,
          -0.032255034961973905,
          -0.13325510489182513,
          -0.1815551748216757,
          -0.1482552447515264,
          -0.008355314681375958,
          0.2411446153887713
         ],
         "yaxis": "y56"
        },
        {
         "hovertemplate": "z=50<br>n=64<br>quanta=%{x}<br>residuals=%{y}<br>r2=%{marker.color}<extra></extra>",
         "legendgroup": "",
         "marker": {
          "color": [
           0.9910562386978656,
           0.9910562386978656,
           0.9910562386978656,
           0.9910562386978656,
           0.9910562386978656,
           0.9910562386978656,
           0.9910562386978656,
           0.9910562386978656,
           0.9910562386978656,
           0.9910562386978656,
           0.9910562386978656
          ],
          "coloraxis": "coloraxis",
          "symbol": "circle"
         },
         "mode": "markers",
         "name": "",
         "orientation": "v",
         "showlegend": false,
         "type": "scatter",
         "x": [
          0,
          1,
          2,
          3,
          4,
          5,
          6,
          7,
          8,
          9,
          10
         ],
         "xaxis": "x57",
         "y": [
          -0.2552614427418941,
          0.1840829554817458,
          0.21121535370538602,
          0.3128407519290257,
          0.17376815015266578,
          -0.41838445162369364,
          -0.2369170534000533,
          -0.23366965517641436,
          -0.21406225695277392,
          0.1423751412708647,
          0.33401253949450727
         ],
         "yaxis": "y57"
        },
        {
         "hovertemplate": "z=50<br>n=66<br>quanta=%{x}<br>residuals=%{y}<br>r2=%{marker.color}<extra></extra>",
         "legendgroup": "",
         "marker": {
          "color": [
           0.9715038161918393,
           0.9715038161918393,
           0.9715038161918393,
           0.9715038161918393,
           0.9715038161918393,
           0.9715038161918393,
           0.9715038161918393,
           0.9715038161918393,
           0.9715038161918393,
           0.9715038161918393
          ],
          "coloraxis": "coloraxis",
          "symbol": "circle"
         },
         "mode": "markers",
         "name": "",
         "orientation": "v",
         "showlegend": false,
         "type": "scatter",
         "x": [
          0,
          1,
          2,
          3,
          4,
          5,
          6,
          7,
          8,
          9
         ],
         "xaxis": "x58",
         "y": [
          -0.21836867272556715,
          0.23660638788084554,
          0.4953404484872581,
          0.2985765090936705,
          -0.07972843029991639,
          -0.864133369693505,
          -0.36792830908709107,
          -0.26478324848067825,
          0.30215181212573317,
          0.46226687273214573
         ],
         "yaxis": "y58"
        },
        {
         "hovertemplate": "z=50<br>n=68<br>quanta=%{x}<br>residuals=%{y}<br>r2=%{marker.color}<extra></extra>",
         "legendgroup": "",
         "marker": {
          "color": [
           0.982819241170226,
           0.982819241170226,
           0.982819241170226,
           0.982819241170226,
           0.982819241170226
          ],
          "coloraxis": "coloraxis",
          "symbol": "circle"
         },
         "mode": "markers",
         "name": "",
         "orientation": "v",
         "showlegend": false,
         "type": "scatter",
         "x": [
          0,
          1,
          2,
          3,
          4
         ],
         "xaxis": "x59",
         "y": [
          -0.20953480009363104,
          0.10475279976702367,
          0.2400503996276786,
          0.04377999948833322,
          -0.1790484006510118
         ],
         "yaxis": "y59"
        },
        {
         "hovertemplate": "z=50<br>n=70<br>quanta=%{x}<br>residuals=%{y}<br>r2=%{marker.color}<extra></extra>",
         "legendgroup": "",
         "marker": {
          "color": [
           0.9709930046814991,
           0.9709930046814991,
           0.9709930046814991,
           0.9709930046814991
          ],
          "coloraxis": "coloraxis",
          "symbol": "circle"
         },
         "mode": "markers",
         "name": "",
         "orientation": "v",
         "showlegend": false,
         "type": "scatter",
         "x": [
          0,
          1,
          2,
          3
         ],
         "xaxis": "x60",
         "y": [
          -0.15090389999814757,
          0.1125097000020534,
          0.22769230000225416,
          -0.18929809999754532
         ],
         "yaxis": "y60"
        },
        {
         "hovertemplate": "z=50<br>n=72<br>quanta=%{x}<br>residuals=%{y}<br>r2=%{marker.color}<extra></extra>",
         "legendgroup": "",
         "marker": {
          "color": [
           0.9635076699256668,
           0.9635076699256668,
           0.9635076699256668,
           0.9635076699256668
          ],
          "coloraxis": "coloraxis",
          "symbol": "circle"
         },
         "mode": "markers",
         "name": "",
         "orientation": "v",
         "showlegend": false,
         "type": "scatter",
         "x": [
          0,
          1,
          2,
          3
         ],
         "xaxis": "x61",
         "y": [
          -0.15932599999816588,
          0.11440300000212433,
          0.24917200000241468,
          -0.20424899999729496
         ],
         "yaxis": "y61"
        },
        {
         "hovertemplate": "z=50<br>n=74<br>quanta=%{x}<br>residuals=%{y}<br>r2=%{marker.color}<extra></extra>",
         "legendgroup": "",
         "marker": {
          "color": [
           0.9553859320404818,
           0.9553859320404818,
           0.9553859320404818,
           0.9553859320404818
          ],
          "coloraxis": "coloraxis",
          "symbol": "circle"
         },
         "mode": "markers",
         "name": "",
         "orientation": "v",
         "showlegend": false,
         "type": "scatter",
         "x": [
          0,
          1,
          2,
          3
         ],
         "xaxis": "x62",
         "y": [
          -0.17199869999819328,
          0.12644110000217013,
          0.2631139000025333,
          -0.2175562999971028
         ],
         "yaxis": "y62"
        },
        {
         "hovertemplate": "z=56<br>n=82<br>quanta=%{x}<br>residuals=%{y}<br>r2=%{marker.color}<extra></extra>",
         "legendgroup": "",
         "marker": {
          "color": [
           0.9661455712500561,
           0.9661455712500561,
           0.9661455712500561,
           0.9661455712500561,
           0.9661455712500561,
           0.9661455712500561,
           0.9661455712500561
          ],
          "coloraxis": "coloraxis",
          "symbol": "circle"
         },
         "mode": "markers",
         "name": "",
         "orientation": "v",
         "showlegend": false,
         "type": "scatter",
         "x": [
          0,
          1,
          2,
          3,
          4,
          5,
          6
         ],
         "xaxis": "x47",
         "y": [
          -0.3037396428556244,
          0.4276152857164488,
          0.18594821428852204,
          -0.3265538571394049,
          0.06206007143266801,
          -0.20388999999525836,
          0.1585599285768149
         ],
         "yaxis": "y47"
        },
        {
         "hovertemplate": "z=58<br>n=82<br>quanta=%{x}<br>residuals=%{y}<br>r2=%{marker.color}<extra></extra>",
         "legendgroup": "",
         "marker": {
          "color": [
           0.9478884483785037,
           0.9478884483785037,
           0.9478884483785037,
           0.9478884483785037,
           0.9478884483785037,
           0.9478884483785037,
           0.9478884483785037
          ],
          "coloraxis": "coloraxis",
          "symbol": "circle"
         },
         "mode": "markers",
         "name": "",
         "orientation": "v",
         "showlegend": false,
         "type": "scatter",
         "x": [
          0,
          1,
          2,
          3,
          4,
          5,
          6
         ],
         "xaxis": "x31",
         "y": [
          -0.38588425648734737,
          0.4882603521525899,
          0.253197960792527,
          -0.44429543056753573,
          0.23806217807240193,
          -0.282026213287661,
          0.13268539535227664
         ],
         "yaxis": "y31"
        },
        {
         "hovertemplate": "z=58<br>n=78<br>quanta=%{x}<br>residuals=%{y}<br>r2=%{marker.color}<extra></extra>",
         "legendgroup": "",
         "marker": {
          "color": [
           0.9874969918943329,
           0.9874969918943329,
           0.9874969918943329,
           0.9874969918943329,
           0.9874969918943329,
           0.9874969918943329,
           0.9874969918943329,
           0.9874969918943329,
           0.9874969918943329
          ],
          "coloraxis": "coloraxis",
          "symbol": "circle"
         },
         "mode": "markers",
         "name": "",
         "orientation": "v",
         "showlegend": false,
         "type": "scatter",
         "x": [
          0,
          1,
          2,
          3,
          4,
          5,
          6,
          7,
          8
         ],
         "xaxis": "x32",
         "y": [
          0.03058355555780312,
          -0.10147594444150798,
          -0.023895444440819036,
          0.19195505555987014,
          0.28354555556055905,
          -0.29496394443875174,
          -0.31397344443806263,
          0.027917055562626025,
          0.2003075555633158
         ],
         "yaxis": "y32"
        },
        {
         "hovertemplate": "z=60<br>n=82<br>quanta=%{x}<br>residuals=%{y}<br>r2=%{marker.color}<extra></extra>",
         "legendgroup": "",
         "marker": {
          "color": [
           0.9393669644770828,
           0.9393669644770828,
           0.9393669644770828,
           0.9393669644770828,
           0.9393669644770828,
           0.9393669644770828
          ],
          "coloraxis": "coloraxis",
          "symbol": "circle"
         },
         "mode": "markers",
         "name": "",
         "orientation": "v",
         "showlegend": false,
         "type": "scatter",
         "x": [
          0,
          1,
          2,
          3,
          4,
          5
         ],
         "xaxis": "x15",
         "y": [
          -0.3988324348232257,
          0.45220253844979963,
          0.2524645117228248,
          -0.36376451500414975,
          0.15548745826887567,
          -0.09755756845809938
         ],
         "yaxis": "y15"
        }
       ],
       "layout": {
        "annotations": [
         {
          "showarrow": false,
          "text": "n=8",
          "x": 0.021249999999999998,
          "xanchor": "center",
          "xref": "paper",
          "y": 1,
          "yanchor": "bottom",
          "yref": "paper"
         },
         {
          "showarrow": false,
          "text": "n=20",
          "x": 0.08374999999999999,
          "xanchor": "center",
          "xref": "paper",
          "y": 1,
          "yanchor": "bottom",
          "yref": "paper"
         },
         {
          "showarrow": false,
          "text": "n=22",
          "x": 0.14625,
          "xanchor": "center",
          "xref": "paper",
          "y": 1,
          "yanchor": "bottom",
          "yref": "paper"
         },
         {
          "showarrow": false,
          "text": "n=24",
          "x": 0.20875,
          "xanchor": "center",
          "xref": "paper",
          "y": 1,
          "yanchor": "bottom",
          "yref": "paper"
         },
         {
          "showarrow": false,
          "text": "n=26",
          "x": 0.27125,
          "xanchor": "center",
          "xref": "paper",
          "y": 1,
          "yanchor": "bottom",
          "yref": "paper"
         },
         {
          "showarrow": false,
          "text": "n=50",
          "x": 0.33375,
          "xanchor": "center",
          "xref": "paper",
          "y": 1,
          "yanchor": "bottom",
          "yref": "paper"
         },
         {
          "showarrow": false,
          "text": "n=58",
          "x": 0.39625,
          "xanchor": "center",
          "xref": "paper",
          "y": 1,
          "yanchor": "bottom",
          "yref": "paper"
         },
         {
          "showarrow": false,
          "text": "n=62",
          "x": 0.45875,
          "xanchor": "center",
          "xref": "paper",
          "y": 1,
          "yanchor": "bottom",
          "yref": "paper"
         },
         {
          "showarrow": false,
          "text": "n=64",
          "x": 0.52125,
          "xanchor": "center",
          "xref": "paper",
          "y": 1,
          "yanchor": "bottom",
          "yref": "paper"
         },
         {
          "showarrow": false,
          "text": "n=66",
          "x": 0.58375,
          "xanchor": "center",
          "xref": "paper",
          "y": 1,
          "yanchor": "bottom",
          "yref": "paper"
         },
         {
          "showarrow": false,
          "text": "n=68",
          "x": 0.64625,
          "xanchor": "center",
          "xref": "paper",
          "y": 1,
          "yanchor": "bottom",
          "yref": "paper"
         },
         {
          "showarrow": false,
          "text": "n=70",
          "x": 0.70875,
          "xanchor": "center",
          "xref": "paper",
          "y": 1,
          "yanchor": "bottom",
          "yref": "paper"
         },
         {
          "showarrow": false,
          "text": "n=72",
          "x": 0.77125,
          "xanchor": "center",
          "xref": "paper",
          "y": 1,
          "yanchor": "bottom",
          "yref": "paper"
         },
         {
          "showarrow": false,
          "text": "n=74",
          "x": 0.83375,
          "xanchor": "center",
          "xref": "paper",
          "y": 1,
          "yanchor": "bottom",
          "yref": "paper"
         },
         {
          "showarrow": false,
          "text": "n=82",
          "x": 0.89625,
          "xanchor": "center",
          "xref": "paper",
          "y": 1,
          "yanchor": "bottom",
          "yref": "paper"
         },
         {
          "showarrow": false,
          "text": "n=78",
          "x": 0.95875,
          "xanchor": "center",
          "xref": "paper",
          "y": 1,
          "yanchor": "bottom",
          "yref": "paper"
         },
         {
          "showarrow": false,
          "text": "z=60",
          "textangle": 90,
          "x": 0.98,
          "xanchor": "left",
          "xref": "paper",
          "y": 0.02461538461538462,
          "yanchor": "middle",
          "yref": "paper"
         },
         {
          "showarrow": false,
          "text": "z=58",
          "textangle": 90,
          "x": 0.98,
          "xanchor": "left",
          "xref": "paper",
          "y": 0.10384615384615387,
          "yanchor": "middle",
          "yref": "paper"
         },
         {
          "showarrow": false,
          "text": "z=56",
          "textangle": 90,
          "x": 0.98,
          "xanchor": "left",
          "xref": "paper",
          "y": 0.1830769230769231,
          "yanchor": "middle",
          "yref": "paper"
         },
         {
          "showarrow": false,
          "text": "z=50",
          "textangle": 90,
          "x": 0.98,
          "xanchor": "left",
          "xref": "paper",
          "y": 0.26230769230769235,
          "yanchor": "middle",
          "yref": "paper"
         },
         {
          "showarrow": false,
          "text": "z=48",
          "textangle": 90,
          "x": 0.98,
          "xanchor": "left",
          "xref": "paper",
          "y": 0.34153846153846157,
          "yanchor": "middle",
          "yref": "paper"
         },
         {
          "showarrow": false,
          "text": "z=46",
          "textangle": 90,
          "x": 0.98,
          "xanchor": "left",
          "xref": "paper",
          "y": 0.4207692307692308,
          "yanchor": "middle",
          "yref": "paper"
         },
         {
          "showarrow": false,
          "text": "z=44",
          "textangle": 90,
          "x": 0.98,
          "xanchor": "left",
          "xref": "paper",
          "y": 0.5,
          "yanchor": "middle",
          "yref": "paper"
         },
         {
          "showarrow": false,
          "text": "z=38",
          "textangle": 90,
          "x": 0.98,
          "xanchor": "left",
          "xref": "paper",
          "y": 0.5792307692307692,
          "yanchor": "middle",
          "yref": "paper"
         },
         {
          "showarrow": false,
          "text": "z=36",
          "textangle": 90,
          "x": 0.98,
          "xanchor": "left",
          "xref": "paper",
          "y": 0.6584615384615385,
          "yanchor": "middle",
          "yref": "paper"
         },
         {
          "showarrow": false,
          "text": "z=20",
          "textangle": 90,
          "x": 0.98,
          "xanchor": "left",
          "xref": "paper",
          "y": 0.7376923076923078,
          "yanchor": "middle",
          "yref": "paper"
         },
         {
          "showarrow": false,
          "text": "z=18",
          "textangle": 90,
          "x": 0.98,
          "xanchor": "left",
          "xref": "paper",
          "y": 0.816923076923077,
          "yanchor": "middle",
          "yref": "paper"
         },
         {
          "showarrow": false,
          "text": "z=16",
          "textangle": 90,
          "x": 0.98,
          "xanchor": "left",
          "xref": "paper",
          "y": 0.8961538461538462,
          "yanchor": "middle",
          "yref": "paper"
         },
         {
          "showarrow": false,
          "text": "z=8",
          "textangle": 90,
          "x": 0.98,
          "xanchor": "left",
          "xref": "paper",
          "y": 0.9753846153846154,
          "yanchor": "middle",
          "yref": "paper"
         }
        ],
        "coloraxis": {
         "colorbar": {
          "title": {
           "text": "r2"
          }
         },
         "colorscale": [
          [
           0,
           "#0d0887"
          ],
          [
           0.1111111111111111,
           "#46039f"
          ],
          [
           0.2222222222222222,
           "#7201a8"
          ],
          [
           0.3333333333333333,
           "#9c179e"
          ],
          [
           0.4444444444444444,
           "#bd3786"
          ],
          [
           0.5555555555555556,
           "#d8576b"
          ],
          [
           0.6666666666666666,
           "#ed7953"
          ],
          [
           0.7777777777777778,
           "#fb9f3a"
          ],
          [
           0.8888888888888888,
           "#fdca26"
          ],
          [
           1,
           "#f0f921"
          ]
         ]
        },
        "height": 1000,
        "legend": {
         "tracegroupgap": 0
        },
        "margin": {
         "t": 60
        },
        "shapes": [
         {
          "line": {
           "color": "black",
           "dash": "dash",
           "width": 1
          },
          "type": "line",
          "x0": 0,
          "x1": 1,
          "xref": "x15 domain",
          "y0": 0,
          "y1": 0,
          "yref": "y15"
         },
         {
          "line": {
           "color": "black",
           "dash": "dash",
           "width": 1
          },
          "type": "line",
          "x0": 0,
          "x1": 1,
          "xref": "x31 domain",
          "y0": 0,
          "y1": 0,
          "yref": "y31"
         },
         {
          "line": {
           "color": "black",
           "dash": "dash",
           "width": 1
          },
          "type": "line",
          "x0": 0,
          "x1": 1,
          "xref": "x32 domain",
          "y0": 0,
          "y1": 0,
          "yref": "y32"
         },
         {
          "line": {
           "color": "black",
           "dash": "dash",
           "width": 1
          },
          "type": "line",
          "x0": 0,
          "x1": 1,
          "xref": "x47 domain",
          "y0": 0,
          "y1": 0,
          "yref": "y47"
         },
         {
          "line": {
           "color": "black",
           "dash": "dash",
           "width": 1
          },
          "type": "line",
          "x0": 0,
          "x1": 1,
          "xref": "x56 domain",
          "y0": 0,
          "y1": 0,
          "yref": "y56"
         },
         {
          "line": {
           "color": "black",
           "dash": "dash",
           "width": 1
          },
          "type": "line",
          "x0": 0,
          "x1": 1,
          "xref": "x57 domain",
          "y0": 0,
          "y1": 0,
          "yref": "y57"
         },
         {
          "line": {
           "color": "black",
           "dash": "dash",
           "width": 1
          },
          "type": "line",
          "x0": 0,
          "x1": 1,
          "xref": "x58 domain",
          "y0": 0,
          "y1": 0,
          "yref": "y58"
         },
         {
          "line": {
           "color": "black",
           "dash": "dash",
           "width": 1
          },
          "type": "line",
          "x0": 0,
          "x1": 1,
          "xref": "x59 domain",
          "y0": 0,
          "y1": 0,
          "yref": "y59"
         },
         {
          "line": {
           "color": "black",
           "dash": "dash",
           "width": 1
          },
          "type": "line",
          "x0": 0,
          "x1": 1,
          "xref": "x60 domain",
          "y0": 0,
          "y1": 0,
          "yref": "y60"
         },
         {
          "line": {
           "color": "black",
           "dash": "dash",
           "width": 1
          },
          "type": "line",
          "x0": 0,
          "x1": 1,
          "xref": "x61 domain",
          "y0": 0,
          "y1": 0,
          "yref": "y61"
         },
         {
          "line": {
           "color": "black",
           "dash": "dash",
           "width": 1
          },
          "type": "line",
          "x0": 0,
          "x1": 1,
          "xref": "x62 domain",
          "y0": 0,
          "y1": 0,
          "yref": "y62"
         },
         {
          "line": {
           "color": "black",
           "dash": "dash",
           "width": 1
          },
          "type": "line",
          "x0": 0,
          "x1": 1,
          "xref": "x71 domain",
          "y0": 0,
          "y1": 0,
          "yref": "y71"
         },
         {
          "line": {
           "color": "black",
           "dash": "dash",
           "width": 1
          },
          "type": "line",
          "x0": 0,
          "x1": 1,
          "xref": "x87 domain",
          "y0": 0,
          "y1": 0,
          "yref": "y87"
         },
         {
          "line": {
           "color": "black",
           "dash": "dash",
           "width": 1
          },
          "type": "line",
          "x0": 0,
          "x1": 1,
          "xref": "x103 domain",
          "y0": 0,
          "y1": 0,
          "yref": "y103"
         },
         {
          "line": {
           "color": "black",
           "dash": "dash",
           "width": 1
          },
          "type": "line",
          "x0": 0,
          "x1": 1,
          "xref": "x118 domain",
          "y0": 0,
          "y1": 0,
          "yref": "y118"
         },
         {
          "line": {
           "color": "black",
           "dash": "dash",
           "width": 1
          },
          "type": "line",
          "x0": 0,
          "x1": 1,
          "xref": "x134 domain",
          "y0": 0,
          "y1": 0,
          "yref": "y134"
         },
         {
          "line": {
           "color": "black",
           "dash": "dash",
           "width": 1
          },
          "type": "line",
          "x0": 0,
          "x1": 1,
          "xref": "x146 domain",
          "y0": 0,
          "y1": 0,
          "yref": "y146"
         },
         {
          "line": {
           "color": "black",
           "dash": "dash",
           "width": 1
          },
          "type": "line",
          "x0": 0,
          "x1": 1,
          "xref": "x147 domain",
          "y0": 0,
          "y1": 0,
          "yref": "y147"
         },
         {
          "line": {
           "color": "black",
           "dash": "dash",
           "width": 1
          },
          "type": "line",
          "x0": 0,
          "x1": 1,
          "xref": "x148 domain",
          "y0": 0,
          "y1": 0,
          "yref": "y148"
         },
         {
          "line": {
           "color": "black",
           "dash": "dash",
           "width": 1
          },
          "type": "line",
          "x0": 0,
          "x1": 1,
          "xref": "x149 domain",
          "y0": 0,
          "y1": 0,
          "yref": "y149"
         },
         {
          "line": {
           "color": "black",
           "dash": "dash",
           "width": 1
          },
          "type": "line",
          "x0": 0,
          "x1": 1,
          "xref": "x162 domain",
          "y0": 0,
          "y1": 0,
          "yref": "y162"
         },
         {
          "line": {
           "color": "black",
           "dash": "dash",
           "width": 1
          },
          "type": "line",
          "x0": 0,
          "x1": 1,
          "xref": "x178 domain",
          "y0": 0,
          "y1": 0,
          "yref": "y178"
         },
         {
          "line": {
           "color": "black",
           "dash": "dash",
           "width": 1
          },
          "type": "line",
          "x0": 0,
          "x1": 1,
          "xref": "x193 domain",
          "y0": 0,
          "y1": 0,
          "yref": "y193"
         }
        ],
        "template": {
         "data": {
          "bar": [
           {
            "error_x": {
             "color": "#2a3f5f"
            },
            "error_y": {
             "color": "#2a3f5f"
            },
            "marker": {
             "line": {
              "color": "#E5ECF6",
              "width": 0.5
             },
             "pattern": {
              "fillmode": "overlay",
              "size": 10,
              "solidity": 0.2
             }
            },
            "type": "bar"
           }
          ],
          "barpolar": [
           {
            "marker": {
             "line": {
              "color": "#E5ECF6",
              "width": 0.5
             },
             "pattern": {
              "fillmode": "overlay",
              "size": 10,
              "solidity": 0.2
             }
            },
            "type": "barpolar"
           }
          ],
          "carpet": [
           {
            "aaxis": {
             "endlinecolor": "#2a3f5f",
             "gridcolor": "white",
             "linecolor": "white",
             "minorgridcolor": "white",
             "startlinecolor": "#2a3f5f"
            },
            "baxis": {
             "endlinecolor": "#2a3f5f",
             "gridcolor": "white",
             "linecolor": "white",
             "minorgridcolor": "white",
             "startlinecolor": "#2a3f5f"
            },
            "type": "carpet"
           }
          ],
          "choropleth": [
           {
            "colorbar": {
             "outlinewidth": 0,
             "ticks": ""
            },
            "type": "choropleth"
           }
          ],
          "contour": [
           {
            "colorbar": {
             "outlinewidth": 0,
             "ticks": ""
            },
            "colorscale": [
             [
              0,
              "#0d0887"
             ],
             [
              0.1111111111111111,
              "#46039f"
             ],
             [
              0.2222222222222222,
              "#7201a8"
             ],
             [
              0.3333333333333333,
              "#9c179e"
             ],
             [
              0.4444444444444444,
              "#bd3786"
             ],
             [
              0.5555555555555556,
              "#d8576b"
             ],
             [
              0.6666666666666666,
              "#ed7953"
             ],
             [
              0.7777777777777778,
              "#fb9f3a"
             ],
             [
              0.8888888888888888,
              "#fdca26"
             ],
             [
              1,
              "#f0f921"
             ]
            ],
            "type": "contour"
           }
          ],
          "contourcarpet": [
           {
            "colorbar": {
             "outlinewidth": 0,
             "ticks": ""
            },
            "type": "contourcarpet"
           }
          ],
          "heatmap": [
           {
            "colorbar": {
             "outlinewidth": 0,
             "ticks": ""
            },
            "colorscale": [
             [
              0,
              "#0d0887"
             ],
             [
              0.1111111111111111,
              "#46039f"
             ],
             [
              0.2222222222222222,
              "#7201a8"
             ],
             [
              0.3333333333333333,
              "#9c179e"
             ],
             [
              0.4444444444444444,
              "#bd3786"
             ],
             [
              0.5555555555555556,
              "#d8576b"
             ],
             [
              0.6666666666666666,
              "#ed7953"
             ],
             [
              0.7777777777777778,
              "#fb9f3a"
             ],
             [
              0.8888888888888888,
              "#fdca26"
             ],
             [
              1,
              "#f0f921"
             ]
            ],
            "type": "heatmap"
           }
          ],
          "heatmapgl": [
           {
            "colorbar": {
             "outlinewidth": 0,
             "ticks": ""
            },
            "colorscale": [
             [
              0,
              "#0d0887"
             ],
             [
              0.1111111111111111,
              "#46039f"
             ],
             [
              0.2222222222222222,
              "#7201a8"
             ],
             [
              0.3333333333333333,
              "#9c179e"
             ],
             [
              0.4444444444444444,
              "#bd3786"
             ],
             [
              0.5555555555555556,
              "#d8576b"
             ],
             [
              0.6666666666666666,
              "#ed7953"
             ],
             [
              0.7777777777777778,
              "#fb9f3a"
             ],
             [
              0.8888888888888888,
              "#fdca26"
             ],
             [
              1,
              "#f0f921"
             ]
            ],
            "type": "heatmapgl"
           }
          ],
          "histogram": [
           {
            "marker": {
             "pattern": {
              "fillmode": "overlay",
              "size": 10,
              "solidity": 0.2
             }
            },
            "type": "histogram"
           }
          ],
          "histogram2d": [
           {
            "colorbar": {
             "outlinewidth": 0,
             "ticks": ""
            },
            "colorscale": [
             [
              0,
              "#0d0887"
             ],
             [
              0.1111111111111111,
              "#46039f"
             ],
             [
              0.2222222222222222,
              "#7201a8"
             ],
             [
              0.3333333333333333,
              "#9c179e"
             ],
             [
              0.4444444444444444,
              "#bd3786"
             ],
             [
              0.5555555555555556,
              "#d8576b"
             ],
             [
              0.6666666666666666,
              "#ed7953"
             ],
             [
              0.7777777777777778,
              "#fb9f3a"
             ],
             [
              0.8888888888888888,
              "#fdca26"
             ],
             [
              1,
              "#f0f921"
             ]
            ],
            "type": "histogram2d"
           }
          ],
          "histogram2dcontour": [
           {
            "colorbar": {
             "outlinewidth": 0,
             "ticks": ""
            },
            "colorscale": [
             [
              0,
              "#0d0887"
             ],
             [
              0.1111111111111111,
              "#46039f"
             ],
             [
              0.2222222222222222,
              "#7201a8"
             ],
             [
              0.3333333333333333,
              "#9c179e"
             ],
             [
              0.4444444444444444,
              "#bd3786"
             ],
             [
              0.5555555555555556,
              "#d8576b"
             ],
             [
              0.6666666666666666,
              "#ed7953"
             ],
             [
              0.7777777777777778,
              "#fb9f3a"
             ],
             [
              0.8888888888888888,
              "#fdca26"
             ],
             [
              1,
              "#f0f921"
             ]
            ],
            "type": "histogram2dcontour"
           }
          ],
          "mesh3d": [
           {
            "colorbar": {
             "outlinewidth": 0,
             "ticks": ""
            },
            "type": "mesh3d"
           }
          ],
          "parcoords": [
           {
            "line": {
             "colorbar": {
              "outlinewidth": 0,
              "ticks": ""
             }
            },
            "type": "parcoords"
           }
          ],
          "pie": [
           {
            "automargin": true,
            "type": "pie"
           }
          ],
          "scatter": [
           {
            "fillpattern": {
             "fillmode": "overlay",
             "size": 10,
             "solidity": 0.2
            },
            "type": "scatter"
           }
          ],
          "scatter3d": [
           {
            "line": {
             "colorbar": {
              "outlinewidth": 0,
              "ticks": ""
             }
            },
            "marker": {
             "colorbar": {
              "outlinewidth": 0,
              "ticks": ""
             }
            },
            "type": "scatter3d"
           }
          ],
          "scattercarpet": [
           {
            "marker": {
             "colorbar": {
              "outlinewidth": 0,
              "ticks": ""
             }
            },
            "type": "scattercarpet"
           }
          ],
          "scattergeo": [
           {
            "marker": {
             "colorbar": {
              "outlinewidth": 0,
              "ticks": ""
             }
            },
            "type": "scattergeo"
           }
          ],
          "scattergl": [
           {
            "marker": {
             "colorbar": {
              "outlinewidth": 0,
              "ticks": ""
             }
            },
            "type": "scattergl"
           }
          ],
          "scattermapbox": [
           {
            "marker": {
             "colorbar": {
              "outlinewidth": 0,
              "ticks": ""
             }
            },
            "type": "scattermapbox"
           }
          ],
          "scatterpolar": [
           {
            "marker": {
             "colorbar": {
              "outlinewidth": 0,
              "ticks": ""
             }
            },
            "type": "scatterpolar"
           }
          ],
          "scatterpolargl": [
           {
            "marker": {
             "colorbar": {
              "outlinewidth": 0,
              "ticks": ""
             }
            },
            "type": "scatterpolargl"
           }
          ],
          "scatterternary": [
           {
            "marker": {
             "colorbar": {
              "outlinewidth": 0,
              "ticks": ""
             }
            },
            "type": "scatterternary"
           }
          ],
          "surface": [
           {
            "colorbar": {
             "outlinewidth": 0,
             "ticks": ""
            },
            "colorscale": [
             [
              0,
              "#0d0887"
             ],
             [
              0.1111111111111111,
              "#46039f"
             ],
             [
              0.2222222222222222,
              "#7201a8"
             ],
             [
              0.3333333333333333,
              "#9c179e"
             ],
             [
              0.4444444444444444,
              "#bd3786"
             ],
             [
              0.5555555555555556,
              "#d8576b"
             ],
             [
              0.6666666666666666,
              "#ed7953"
             ],
             [
              0.7777777777777778,
              "#fb9f3a"
             ],
             [
              0.8888888888888888,
              "#fdca26"
             ],
             [
              1,
              "#f0f921"
             ]
            ],
            "type": "surface"
           }
          ],
          "table": [
           {
            "cells": {
             "fill": {
              "color": "#EBF0F8"
             },
             "line": {
              "color": "white"
             }
            },
            "header": {
             "fill": {
              "color": "#C8D4E3"
             },
             "line": {
              "color": "white"
             }
            },
            "type": "table"
           }
          ]
         },
         "layout": {
          "annotationdefaults": {
           "arrowcolor": "#2a3f5f",
           "arrowhead": 0,
           "arrowwidth": 1
          },
          "autotypenumbers": "strict",
          "coloraxis": {
           "colorbar": {
            "outlinewidth": 0,
            "ticks": ""
           }
          },
          "colorscale": {
           "diverging": [
            [
             0,
             "#8e0152"
            ],
            [
             0.1,
             "#c51b7d"
            ],
            [
             0.2,
             "#de77ae"
            ],
            [
             0.3,
             "#f1b6da"
            ],
            [
             0.4,
             "#fde0ef"
            ],
            [
             0.5,
             "#f7f7f7"
            ],
            [
             0.6,
             "#e6f5d0"
            ],
            [
             0.7,
             "#b8e186"
            ],
            [
             0.8,
             "#7fbc41"
            ],
            [
             0.9,
             "#4d9221"
            ],
            [
             1,
             "#276419"
            ]
           ],
           "sequential": [
            [
             0,
             "#0d0887"
            ],
            [
             0.1111111111111111,
             "#46039f"
            ],
            [
             0.2222222222222222,
             "#7201a8"
            ],
            [
             0.3333333333333333,
             "#9c179e"
            ],
            [
             0.4444444444444444,
             "#bd3786"
            ],
            [
             0.5555555555555556,
             "#d8576b"
            ],
            [
             0.6666666666666666,
             "#ed7953"
            ],
            [
             0.7777777777777778,
             "#fb9f3a"
            ],
            [
             0.8888888888888888,
             "#fdca26"
            ],
            [
             1,
             "#f0f921"
            ]
           ],
           "sequentialminus": [
            [
             0,
             "#0d0887"
            ],
            [
             0.1111111111111111,
             "#46039f"
            ],
            [
             0.2222222222222222,
             "#7201a8"
            ],
            [
             0.3333333333333333,
             "#9c179e"
            ],
            [
             0.4444444444444444,
             "#bd3786"
            ],
            [
             0.5555555555555556,
             "#d8576b"
            ],
            [
             0.6666666666666666,
             "#ed7953"
            ],
            [
             0.7777777777777778,
             "#fb9f3a"
            ],
            [
             0.8888888888888888,
             "#fdca26"
            ],
            [
             1,
             "#f0f921"
            ]
           ]
          },
          "colorway": [
           "#636efa",
           "#EF553B",
           "#00cc96",
           "#ab63fa",
           "#FFA15A",
           "#19d3f3",
           "#FF6692",
           "#B6E880",
           "#FF97FF",
           "#FECB52"
          ],
          "font": {
           "color": "#2a3f5f"
          },
          "geo": {
           "bgcolor": "white",
           "lakecolor": "white",
           "landcolor": "#E5ECF6",
           "showlakes": true,
           "showland": true,
           "subunitcolor": "white"
          },
          "hoverlabel": {
           "align": "left"
          },
          "hovermode": "closest",
          "mapbox": {
           "style": "light"
          },
          "paper_bgcolor": "white",
          "plot_bgcolor": "#E5ECF6",
          "polar": {
           "angularaxis": {
            "gridcolor": "white",
            "linecolor": "white",
            "ticks": ""
           },
           "bgcolor": "#E5ECF6",
           "radialaxis": {
            "gridcolor": "white",
            "linecolor": "white",
            "ticks": ""
           }
          },
          "scene": {
           "xaxis": {
            "backgroundcolor": "#E5ECF6",
            "gridcolor": "white",
            "gridwidth": 2,
            "linecolor": "white",
            "showbackground": true,
            "ticks": "",
            "zerolinecolor": "white"
           },
           "yaxis": {
            "backgroundcolor": "#E5ECF6",
            "gridcolor": "white",
            "gridwidth": 2,
            "linecolor": "white",
            "showbackground": true,
            "ticks": "",
            "zerolinecolor": "white"
           },
           "zaxis": {
            "backgroundcolor": "#E5ECF6",
            "gridcolor": "white",
            "gridwidth": 2,
            "linecolor": "white",
            "showbackground": true,
            "ticks": "",
            "zerolinecolor": "white"
           }
          },
          "shapedefaults": {
           "line": {
            "color": "#2a3f5f"
           }
          },
          "ternary": {
           "aaxis": {
            "gridcolor": "white",
            "linecolor": "white",
            "ticks": ""
           },
           "baxis": {
            "gridcolor": "white",
            "linecolor": "white",
            "ticks": ""
           },
           "bgcolor": "#E5ECF6",
           "caxis": {
            "gridcolor": "white",
            "linecolor": "white",
            "ticks": ""
           }
          },
          "title": {
           "x": 0.05
          },
          "xaxis": {
           "automargin": true,
           "gridcolor": "white",
           "linecolor": "white",
           "ticks": "",
           "title": {
            "standoff": 15
           },
           "zerolinecolor": "white",
           "zerolinewidth": 2
          },
          "yaxis": {
           "automargin": true,
           "gridcolor": "white",
           "linecolor": "white",
           "ticks": "",
           "title": {
            "standoff": 15
           },
           "zerolinecolor": "white",
           "zerolinewidth": 2
          }
         }
        },
        "xaxis": {
         "anchor": "y",
         "domain": [
          0,
          0.042499999999999996
         ],
         "title": {
          "text": "quanta"
         }
        },
        "xaxis10": {
         "anchor": "y10",
         "domain": [
          0.5625,
          0.605
         ],
         "matches": "x",
         "title": {
          "text": "quanta"
         }
        },
        "xaxis100": {
         "anchor": "y100",
         "domain": [
          0.1875,
          0.22999999999999998
         ],
         "matches": "x",
         "showticklabels": false
        },
        "xaxis101": {
         "anchor": "y101",
         "domain": [
          0.25,
          0.2925
         ],
         "matches": "x",
         "showticklabels": false
        },
        "xaxis102": {
         "anchor": "y102",
         "domain": [
          0.3125,
          0.355
         ],
         "matches": "x",
         "showticklabels": false
        },
        "xaxis103": {
         "anchor": "y103",
         "domain": [
          0.375,
          0.4175
         ],
         "matches": "x",
         "showticklabels": false
        },
        "xaxis104": {
         "anchor": "y104",
         "domain": [
          0.4375,
          0.48
         ],
         "matches": "x",
         "showticklabels": false
        },
        "xaxis105": {
         "anchor": "y105",
         "domain": [
          0.5,
          0.5425
         ],
         "matches": "x",
         "showticklabels": false
        },
        "xaxis106": {
         "anchor": "y106",
         "domain": [
          0.5625,
          0.605
         ],
         "matches": "x",
         "showticklabels": false
        },
        "xaxis107": {
         "anchor": "y107",
         "domain": [
          0.625,
          0.6675
         ],
         "matches": "x",
         "showticklabels": false
        },
        "xaxis108": {
         "anchor": "y108",
         "domain": [
          0.6875,
          0.73
         ],
         "matches": "x",
         "showticklabels": false
        },
        "xaxis109": {
         "anchor": "y109",
         "domain": [
          0.75,
          0.7925
         ],
         "matches": "x",
         "showticklabels": false
        },
        "xaxis11": {
         "anchor": "y11",
         "domain": [
          0.625,
          0.6675
         ],
         "matches": "x",
         "title": {
          "text": "quanta"
         }
        },
        "xaxis110": {
         "anchor": "y110",
         "domain": [
          0.8125,
          0.855
         ],
         "matches": "x",
         "showticklabels": false
        },
        "xaxis111": {
         "anchor": "y111",
         "domain": [
          0.875,
          0.9175
         ],
         "matches": "x",
         "showticklabels": false
        },
        "xaxis112": {
         "anchor": "y112",
         "domain": [
          0.9375,
          0.98
         ],
         "matches": "x",
         "showticklabels": false
        },
        "xaxis113": {
         "anchor": "y113",
         "domain": [
          0,
          0.042499999999999996
         ],
         "matches": "x",
         "showticklabels": false
        },
        "xaxis114": {
         "anchor": "y114",
         "domain": [
          0.0625,
          0.105
         ],
         "matches": "x",
         "showticklabels": false
        },
        "xaxis115": {
         "anchor": "y115",
         "domain": [
          0.125,
          0.16749999999999998
         ],
         "matches": "x",
         "showticklabels": false
        },
        "xaxis116": {
         "anchor": "y116",
         "domain": [
          0.1875,
          0.22999999999999998
         ],
         "matches": "x",
         "showticklabels": false
        },
        "xaxis117": {
         "anchor": "y117",
         "domain": [
          0.25,
          0.2925
         ],
         "matches": "x",
         "showticklabels": false
        },
        "xaxis118": {
         "anchor": "y118",
         "domain": [
          0.3125,
          0.355
         ],
         "matches": "x",
         "showticklabels": false
        },
        "xaxis119": {
         "anchor": "y119",
         "domain": [
          0.375,
          0.4175
         ],
         "matches": "x",
         "showticklabels": false
        },
        "xaxis12": {
         "anchor": "y12",
         "domain": [
          0.6875,
          0.73
         ],
         "matches": "x",
         "title": {
          "text": "quanta"
         }
        },
        "xaxis120": {
         "anchor": "y120",
         "domain": [
          0.4375,
          0.48
         ],
         "matches": "x",
         "showticklabels": false
        },
        "xaxis121": {
         "anchor": "y121",
         "domain": [
          0.5,
          0.5425
         ],
         "matches": "x",
         "showticklabels": false
        },
        "xaxis122": {
         "anchor": "y122",
         "domain": [
          0.5625,
          0.605
         ],
         "matches": "x",
         "showticklabels": false
        },
        "xaxis123": {
         "anchor": "y123",
         "domain": [
          0.625,
          0.6675
         ],
         "matches": "x",
         "showticklabels": false
        },
        "xaxis124": {
         "anchor": "y124",
         "domain": [
          0.6875,
          0.73
         ],
         "matches": "x",
         "showticklabels": false
        },
        "xaxis125": {
         "anchor": "y125",
         "domain": [
          0.75,
          0.7925
         ],
         "matches": "x",
         "showticklabels": false
        },
        "xaxis126": {
         "anchor": "y126",
         "domain": [
          0.8125,
          0.855
         ],
         "matches": "x",
         "showticklabels": false
        },
        "xaxis127": {
         "anchor": "y127",
         "domain": [
          0.875,
          0.9175
         ],
         "matches": "x",
         "showticklabels": false
        },
        "xaxis128": {
         "anchor": "y128",
         "domain": [
          0.9375,
          0.98
         ],
         "matches": "x",
         "showticklabels": false
        },
        "xaxis129": {
         "anchor": "y129",
         "domain": [
          0,
          0.042499999999999996
         ],
         "matches": "x",
         "showticklabels": false
        },
        "xaxis13": {
         "anchor": "y13",
         "domain": [
          0.75,
          0.7925
         ],
         "matches": "x",
         "title": {
          "text": "quanta"
         }
        },
        "xaxis130": {
         "anchor": "y130",
         "domain": [
          0.0625,
          0.105
         ],
         "matches": "x",
         "showticklabels": false
        },
        "xaxis131": {
         "anchor": "y131",
         "domain": [
          0.125,
          0.16749999999999998
         ],
         "matches": "x",
         "showticklabels": false
        },
        "xaxis132": {
         "anchor": "y132",
         "domain": [
          0.1875,
          0.22999999999999998
         ],
         "matches": "x",
         "showticklabels": false
        },
        "xaxis133": {
         "anchor": "y133",
         "domain": [
          0.25,
          0.2925
         ],
         "matches": "x",
         "showticklabels": false
        },
        "xaxis134": {
         "anchor": "y134",
         "domain": [
          0.3125,
          0.355
         ],
         "matches": "x",
         "showticklabels": false
        },
        "xaxis135": {
         "anchor": "y135",
         "domain": [
          0.375,
          0.4175
         ],
         "matches": "x",
         "showticklabels": false
        },
        "xaxis136": {
         "anchor": "y136",
         "domain": [
          0.4375,
          0.48
         ],
         "matches": "x",
         "showticklabels": false
        },
        "xaxis137": {
         "anchor": "y137",
         "domain": [
          0.5,
          0.5425
         ],
         "matches": "x",
         "showticklabels": false
        },
        "xaxis138": {
         "anchor": "y138",
         "domain": [
          0.5625,
          0.605
         ],
         "matches": "x",
         "showticklabels": false
        },
        "xaxis139": {
         "anchor": "y139",
         "domain": [
          0.625,
          0.6675
         ],
         "matches": "x",
         "showticklabels": false
        },
        "xaxis14": {
         "anchor": "y14",
         "domain": [
          0.8125,
          0.855
         ],
         "matches": "x",
         "title": {
          "text": "quanta"
         }
        },
        "xaxis140": {
         "anchor": "y140",
         "domain": [
          0.6875,
          0.73
         ],
         "matches": "x",
         "showticklabels": false
        },
        "xaxis141": {
         "anchor": "y141",
         "domain": [
          0.75,
          0.7925
         ],
         "matches": "x",
         "showticklabels": false
        },
        "xaxis142": {
         "anchor": "y142",
         "domain": [
          0.8125,
          0.855
         ],
         "matches": "x",
         "showticklabels": false
        },
        "xaxis143": {
         "anchor": "y143",
         "domain": [
          0.875,
          0.9175
         ],
         "matches": "x",
         "showticklabels": false
        },
        "xaxis144": {
         "anchor": "y144",
         "domain": [
          0.9375,
          0.98
         ],
         "matches": "x",
         "showticklabels": false
        },
        "xaxis145": {
         "anchor": "y145",
         "domain": [
          0,
          0.042499999999999996
         ],
         "matches": "x",
         "showticklabels": false
        },
        "xaxis146": {
         "anchor": "y146",
         "domain": [
          0.0625,
          0.105
         ],
         "matches": "x",
         "showticklabels": false
        },
        "xaxis147": {
         "anchor": "y147",
         "domain": [
          0.125,
          0.16749999999999998
         ],
         "matches": "x",
         "showticklabels": false
        },
        "xaxis148": {
         "anchor": "y148",
         "domain": [
          0.1875,
          0.22999999999999998
         ],
         "matches": "x",
         "showticklabels": false
        },
        "xaxis149": {
         "anchor": "y149",
         "domain": [
          0.25,
          0.2925
         ],
         "matches": "x",
         "showticklabels": false
        },
        "xaxis15": {
         "anchor": "y15",
         "domain": [
          0.875,
          0.9175
         ],
         "matches": "x",
         "title": {
          "text": "quanta"
         }
        },
        "xaxis150": {
         "anchor": "y150",
         "domain": [
          0.3125,
          0.355
         ],
         "matches": "x",
         "showticklabels": false
        },
        "xaxis151": {
         "anchor": "y151",
         "domain": [
          0.375,
          0.4175
         ],
         "matches": "x",
         "showticklabels": false
        },
        "xaxis152": {
         "anchor": "y152",
         "domain": [
          0.4375,
          0.48
         ],
         "matches": "x",
         "showticklabels": false
        },
        "xaxis153": {
         "anchor": "y153",
         "domain": [
          0.5,
          0.5425
         ],
         "matches": "x",
         "showticklabels": false
        },
        "xaxis154": {
         "anchor": "y154",
         "domain": [
          0.5625,
          0.605
         ],
         "matches": "x",
         "showticklabels": false
        },
        "xaxis155": {
         "anchor": "y155",
         "domain": [
          0.625,
          0.6675
         ],
         "matches": "x",
         "showticklabels": false
        },
        "xaxis156": {
         "anchor": "y156",
         "domain": [
          0.6875,
          0.73
         ],
         "matches": "x",
         "showticklabels": false
        },
        "xaxis157": {
         "anchor": "y157",
         "domain": [
          0.75,
          0.7925
         ],
         "matches": "x",
         "showticklabels": false
        },
        "xaxis158": {
         "anchor": "y158",
         "domain": [
          0.8125,
          0.855
         ],
         "matches": "x",
         "showticklabels": false
        },
        "xaxis159": {
         "anchor": "y159",
         "domain": [
          0.875,
          0.9175
         ],
         "matches": "x",
         "showticklabels": false
        },
        "xaxis16": {
         "anchor": "y16",
         "domain": [
          0.9375,
          0.98
         ],
         "matches": "x",
         "title": {
          "text": "quanta"
         }
        },
        "xaxis160": {
         "anchor": "y160",
         "domain": [
          0.9375,
          0.98
         ],
         "matches": "x",
         "showticklabels": false
        },
        "xaxis161": {
         "anchor": "y161",
         "domain": [
          0,
          0.042499999999999996
         ],
         "matches": "x",
         "showticklabels": false
        },
        "xaxis162": {
         "anchor": "y162",
         "domain": [
          0.0625,
          0.105
         ],
         "matches": "x",
         "showticklabels": false
        },
        "xaxis163": {
         "anchor": "y163",
         "domain": [
          0.125,
          0.16749999999999998
         ],
         "matches": "x",
         "showticklabels": false
        },
        "xaxis164": {
         "anchor": "y164",
         "domain": [
          0.1875,
          0.22999999999999998
         ],
         "matches": "x",
         "showticklabels": false
        },
        "xaxis165": {
         "anchor": "y165",
         "domain": [
          0.25,
          0.2925
         ],
         "matches": "x",
         "showticklabels": false
        },
        "xaxis166": {
         "anchor": "y166",
         "domain": [
          0.3125,
          0.355
         ],
         "matches": "x",
         "showticklabels": false
        },
        "xaxis167": {
         "anchor": "y167",
         "domain": [
          0.375,
          0.4175
         ],
         "matches": "x",
         "showticklabels": false
        },
        "xaxis168": {
         "anchor": "y168",
         "domain": [
          0.4375,
          0.48
         ],
         "matches": "x",
         "showticklabels": false
        },
        "xaxis169": {
         "anchor": "y169",
         "domain": [
          0.5,
          0.5425
         ],
         "matches": "x",
         "showticklabels": false
        },
        "xaxis17": {
         "anchor": "y17",
         "domain": [
          0,
          0.042499999999999996
         ],
         "matches": "x",
         "showticklabels": false
        },
        "xaxis170": {
         "anchor": "y170",
         "domain": [
          0.5625,
          0.605
         ],
         "matches": "x",
         "showticklabels": false
        },
        "xaxis171": {
         "anchor": "y171",
         "domain": [
          0.625,
          0.6675
         ],
         "matches": "x",
         "showticklabels": false
        },
        "xaxis172": {
         "anchor": "y172",
         "domain": [
          0.6875,
          0.73
         ],
         "matches": "x",
         "showticklabels": false
        },
        "xaxis173": {
         "anchor": "y173",
         "domain": [
          0.75,
          0.7925
         ],
         "matches": "x",
         "showticklabels": false
        },
        "xaxis174": {
         "anchor": "y174",
         "domain": [
          0.8125,
          0.855
         ],
         "matches": "x",
         "showticklabels": false
        },
        "xaxis175": {
         "anchor": "y175",
         "domain": [
          0.875,
          0.9175
         ],
         "matches": "x",
         "showticklabels": false
        },
        "xaxis176": {
         "anchor": "y176",
         "domain": [
          0.9375,
          0.98
         ],
         "matches": "x",
         "showticklabels": false
        },
        "xaxis177": {
         "anchor": "y177",
         "domain": [
          0,
          0.042499999999999996
         ],
         "matches": "x",
         "showticklabels": false
        },
        "xaxis178": {
         "anchor": "y178",
         "domain": [
          0.0625,
          0.105
         ],
         "matches": "x",
         "showticklabels": false
        },
        "xaxis179": {
         "anchor": "y179",
         "domain": [
          0.125,
          0.16749999999999998
         ],
         "matches": "x",
         "showticklabels": false
        },
        "xaxis18": {
         "anchor": "y18",
         "domain": [
          0.0625,
          0.105
         ],
         "matches": "x",
         "showticklabels": false
        },
        "xaxis180": {
         "anchor": "y180",
         "domain": [
          0.1875,
          0.22999999999999998
         ],
         "matches": "x",
         "showticklabels": false
        },
        "xaxis181": {
         "anchor": "y181",
         "domain": [
          0.25,
          0.2925
         ],
         "matches": "x",
         "showticklabels": false
        },
        "xaxis182": {
         "anchor": "y182",
         "domain": [
          0.3125,
          0.355
         ],
         "matches": "x",
         "showticklabels": false
        },
        "xaxis183": {
         "anchor": "y183",
         "domain": [
          0.375,
          0.4175
         ],
         "matches": "x",
         "showticklabels": false
        },
        "xaxis184": {
         "anchor": "y184",
         "domain": [
          0.4375,
          0.48
         ],
         "matches": "x",
         "showticklabels": false
        },
        "xaxis185": {
         "anchor": "y185",
         "domain": [
          0.5,
          0.5425
         ],
         "matches": "x",
         "showticklabels": false
        },
        "xaxis186": {
         "anchor": "y186",
         "domain": [
          0.5625,
          0.605
         ],
         "matches": "x",
         "showticklabels": false
        },
        "xaxis187": {
         "anchor": "y187",
         "domain": [
          0.625,
          0.6675
         ],
         "matches": "x",
         "showticklabels": false
        },
        "xaxis188": {
         "anchor": "y188",
         "domain": [
          0.6875,
          0.73
         ],
         "matches": "x",
         "showticklabels": false
        },
        "xaxis189": {
         "anchor": "y189",
         "domain": [
          0.75,
          0.7925
         ],
         "matches": "x",
         "showticklabels": false
        },
        "xaxis19": {
         "anchor": "y19",
         "domain": [
          0.125,
          0.16749999999999998
         ],
         "matches": "x",
         "showticklabels": false
        },
        "xaxis190": {
         "anchor": "y190",
         "domain": [
          0.8125,
          0.855
         ],
         "matches": "x",
         "showticklabels": false
        },
        "xaxis191": {
         "anchor": "y191",
         "domain": [
          0.875,
          0.9175
         ],
         "matches": "x",
         "showticklabels": false
        },
        "xaxis192": {
         "anchor": "y192",
         "domain": [
          0.9375,
          0.98
         ],
         "matches": "x",
         "showticklabels": false
        },
        "xaxis193": {
         "anchor": "y193",
         "domain": [
          0,
          0.042499999999999996
         ],
         "matches": "x",
         "showticklabels": false
        },
        "xaxis194": {
         "anchor": "y194",
         "domain": [
          0.0625,
          0.105
         ],
         "matches": "x",
         "showticklabels": false
        },
        "xaxis195": {
         "anchor": "y195",
         "domain": [
          0.125,
          0.16749999999999998
         ],
         "matches": "x",
         "showticklabels": false
        },
        "xaxis196": {
         "anchor": "y196",
         "domain": [
          0.1875,
          0.22999999999999998
         ],
         "matches": "x",
         "showticklabels": false
        },
        "xaxis197": {
         "anchor": "y197",
         "domain": [
          0.25,
          0.2925
         ],
         "matches": "x",
         "showticklabels": false
        },
        "xaxis198": {
         "anchor": "y198",
         "domain": [
          0.3125,
          0.355
         ],
         "matches": "x",
         "showticklabels": false
        },
        "xaxis199": {
         "anchor": "y199",
         "domain": [
          0.375,
          0.4175
         ],
         "matches": "x",
         "showticklabels": false
        },
        "xaxis2": {
         "anchor": "y2",
         "domain": [
          0.0625,
          0.105
         ],
         "matches": "x",
         "title": {
          "text": "quanta"
         }
        },
        "xaxis20": {
         "anchor": "y20",
         "domain": [
          0.1875,
          0.22999999999999998
         ],
         "matches": "x",
         "showticklabels": false
        },
        "xaxis200": {
         "anchor": "y200",
         "domain": [
          0.4375,
          0.48
         ],
         "matches": "x",
         "showticklabels": false
        },
        "xaxis201": {
         "anchor": "y201",
         "domain": [
          0.5,
          0.5425
         ],
         "matches": "x",
         "showticklabels": false
        },
        "xaxis202": {
         "anchor": "y202",
         "domain": [
          0.5625,
          0.605
         ],
         "matches": "x",
         "showticklabels": false
        },
        "xaxis203": {
         "anchor": "y203",
         "domain": [
          0.625,
          0.6675
         ],
         "matches": "x",
         "showticklabels": false
        },
        "xaxis204": {
         "anchor": "y204",
         "domain": [
          0.6875,
          0.73
         ],
         "matches": "x",
         "showticklabels": false
        },
        "xaxis205": {
         "anchor": "y205",
         "domain": [
          0.75,
          0.7925
         ],
         "matches": "x",
         "showticklabels": false
        },
        "xaxis206": {
         "anchor": "y206",
         "domain": [
          0.8125,
          0.855
         ],
         "matches": "x",
         "showticklabels": false
        },
        "xaxis207": {
         "anchor": "y207",
         "domain": [
          0.875,
          0.9175
         ],
         "matches": "x",
         "showticklabels": false
        },
        "xaxis208": {
         "anchor": "y208",
         "domain": [
          0.9375,
          0.98
         ],
         "matches": "x",
         "showticklabels": false
        },
        "xaxis21": {
         "anchor": "y21",
         "domain": [
          0.25,
          0.2925
         ],
         "matches": "x",
         "showticklabels": false
        },
        "xaxis22": {
         "anchor": "y22",
         "domain": [
          0.3125,
          0.355
         ],
         "matches": "x",
         "showticklabels": false
        },
        "xaxis23": {
         "anchor": "y23",
         "domain": [
          0.375,
          0.4175
         ],
         "matches": "x",
         "showticklabels": false
        },
        "xaxis24": {
         "anchor": "y24",
         "domain": [
          0.4375,
          0.48
         ],
         "matches": "x",
         "showticklabels": false
        },
        "xaxis25": {
         "anchor": "y25",
         "domain": [
          0.5,
          0.5425
         ],
         "matches": "x",
         "showticklabels": false
        },
        "xaxis26": {
         "anchor": "y26",
         "domain": [
          0.5625,
          0.605
         ],
         "matches": "x",
         "showticklabels": false
        },
        "xaxis27": {
         "anchor": "y27",
         "domain": [
          0.625,
          0.6675
         ],
         "matches": "x",
         "showticklabels": false
        },
        "xaxis28": {
         "anchor": "y28",
         "domain": [
          0.6875,
          0.73
         ],
         "matches": "x",
         "showticklabels": false
        },
        "xaxis29": {
         "anchor": "y29",
         "domain": [
          0.75,
          0.7925
         ],
         "matches": "x",
         "showticklabels": false
        },
        "xaxis3": {
         "anchor": "y3",
         "domain": [
          0.125,
          0.16749999999999998
         ],
         "matches": "x",
         "title": {
          "text": "quanta"
         }
        },
        "xaxis30": {
         "anchor": "y30",
         "domain": [
          0.8125,
          0.855
         ],
         "matches": "x",
         "showticklabels": false
        },
        "xaxis31": {
         "anchor": "y31",
         "domain": [
          0.875,
          0.9175
         ],
         "matches": "x",
         "showticklabels": false
        },
        "xaxis32": {
         "anchor": "y32",
         "domain": [
          0.9375,
          0.98
         ],
         "matches": "x",
         "showticklabels": false
        },
        "xaxis33": {
         "anchor": "y33",
         "domain": [
          0,
          0.042499999999999996
         ],
         "matches": "x",
         "showticklabels": false
        },
        "xaxis34": {
         "anchor": "y34",
         "domain": [
          0.0625,
          0.105
         ],
         "matches": "x",
         "showticklabels": false
        },
        "xaxis35": {
         "anchor": "y35",
         "domain": [
          0.125,
          0.16749999999999998
         ],
         "matches": "x",
         "showticklabels": false
        },
        "xaxis36": {
         "anchor": "y36",
         "domain": [
          0.1875,
          0.22999999999999998
         ],
         "matches": "x",
         "showticklabels": false
        },
        "xaxis37": {
         "anchor": "y37",
         "domain": [
          0.25,
          0.2925
         ],
         "matches": "x",
         "showticklabels": false
        },
        "xaxis38": {
         "anchor": "y38",
         "domain": [
          0.3125,
          0.355
         ],
         "matches": "x",
         "showticklabels": false
        },
        "xaxis39": {
         "anchor": "y39",
         "domain": [
          0.375,
          0.4175
         ],
         "matches": "x",
         "showticklabels": false
        },
        "xaxis4": {
         "anchor": "y4",
         "domain": [
          0.1875,
          0.22999999999999998
         ],
         "matches": "x",
         "title": {
          "text": "quanta"
         }
        },
        "xaxis40": {
         "anchor": "y40",
         "domain": [
          0.4375,
          0.48
         ],
         "matches": "x",
         "showticklabels": false
        },
        "xaxis41": {
         "anchor": "y41",
         "domain": [
          0.5,
          0.5425
         ],
         "matches": "x",
         "showticklabels": false
        },
        "xaxis42": {
         "anchor": "y42",
         "domain": [
          0.5625,
          0.605
         ],
         "matches": "x",
         "showticklabels": false
        },
        "xaxis43": {
         "anchor": "y43",
         "domain": [
          0.625,
          0.6675
         ],
         "matches": "x",
         "showticklabels": false
        },
        "xaxis44": {
         "anchor": "y44",
         "domain": [
          0.6875,
          0.73
         ],
         "matches": "x",
         "showticklabels": false
        },
        "xaxis45": {
         "anchor": "y45",
         "domain": [
          0.75,
          0.7925
         ],
         "matches": "x",
         "showticklabels": false
        },
        "xaxis46": {
         "anchor": "y46",
         "domain": [
          0.8125,
          0.855
         ],
         "matches": "x",
         "showticklabels": false
        },
        "xaxis47": {
         "anchor": "y47",
         "domain": [
          0.875,
          0.9175
         ],
         "matches": "x",
         "showticklabels": false
        },
        "xaxis48": {
         "anchor": "y48",
         "domain": [
          0.9375,
          0.98
         ],
         "matches": "x",
         "showticklabels": false
        },
        "xaxis49": {
         "anchor": "y49",
         "domain": [
          0,
          0.042499999999999996
         ],
         "matches": "x",
         "showticklabels": false
        },
        "xaxis5": {
         "anchor": "y5",
         "domain": [
          0.25,
          0.2925
         ],
         "matches": "x",
         "title": {
          "text": "quanta"
         }
        },
        "xaxis50": {
         "anchor": "y50",
         "domain": [
          0.0625,
          0.105
         ],
         "matches": "x",
         "showticklabels": false
        },
        "xaxis51": {
         "anchor": "y51",
         "domain": [
          0.125,
          0.16749999999999998
         ],
         "matches": "x",
         "showticklabels": false
        },
        "xaxis52": {
         "anchor": "y52",
         "domain": [
          0.1875,
          0.22999999999999998
         ],
         "matches": "x",
         "showticklabels": false
        },
        "xaxis53": {
         "anchor": "y53",
         "domain": [
          0.25,
          0.2925
         ],
         "matches": "x",
         "showticklabels": false
        },
        "xaxis54": {
         "anchor": "y54",
         "domain": [
          0.3125,
          0.355
         ],
         "matches": "x",
         "showticklabels": false
        },
        "xaxis55": {
         "anchor": "y55",
         "domain": [
          0.375,
          0.4175
         ],
         "matches": "x",
         "showticklabels": false
        },
        "xaxis56": {
         "anchor": "y56",
         "domain": [
          0.4375,
          0.48
         ],
         "matches": "x",
         "showticklabels": false
        },
        "xaxis57": {
         "anchor": "y57",
         "domain": [
          0.5,
          0.5425
         ],
         "matches": "x",
         "showticklabels": false
        },
        "xaxis58": {
         "anchor": "y58",
         "domain": [
          0.5625,
          0.605
         ],
         "matches": "x",
         "showticklabels": false
        },
        "xaxis59": {
         "anchor": "y59",
         "domain": [
          0.625,
          0.6675
         ],
         "matches": "x",
         "showticklabels": false
        },
        "xaxis6": {
         "anchor": "y6",
         "domain": [
          0.3125,
          0.355
         ],
         "matches": "x",
         "title": {
          "text": "quanta"
         }
        },
        "xaxis60": {
         "anchor": "y60",
         "domain": [
          0.6875,
          0.73
         ],
         "matches": "x",
         "showticklabels": false
        },
        "xaxis61": {
         "anchor": "y61",
         "domain": [
          0.75,
          0.7925
         ],
         "matches": "x",
         "showticklabels": false
        },
        "xaxis62": {
         "anchor": "y62",
         "domain": [
          0.8125,
          0.855
         ],
         "matches": "x",
         "showticklabels": false
        },
        "xaxis63": {
         "anchor": "y63",
         "domain": [
          0.875,
          0.9175
         ],
         "matches": "x",
         "showticklabels": false
        },
        "xaxis64": {
         "anchor": "y64",
         "domain": [
          0.9375,
          0.98
         ],
         "matches": "x",
         "showticklabels": false
        },
        "xaxis65": {
         "anchor": "y65",
         "domain": [
          0,
          0.042499999999999996
         ],
         "matches": "x",
         "showticklabels": false
        },
        "xaxis66": {
         "anchor": "y66",
         "domain": [
          0.0625,
          0.105
         ],
         "matches": "x",
         "showticklabels": false
        },
        "xaxis67": {
         "anchor": "y67",
         "domain": [
          0.125,
          0.16749999999999998
         ],
         "matches": "x",
         "showticklabels": false
        },
        "xaxis68": {
         "anchor": "y68",
         "domain": [
          0.1875,
          0.22999999999999998
         ],
         "matches": "x",
         "showticklabels": false
        },
        "xaxis69": {
         "anchor": "y69",
         "domain": [
          0.25,
          0.2925
         ],
         "matches": "x",
         "showticklabels": false
        },
        "xaxis7": {
         "anchor": "y7",
         "domain": [
          0.375,
          0.4175
         ],
         "matches": "x",
         "title": {
          "text": "quanta"
         }
        },
        "xaxis70": {
         "anchor": "y70",
         "domain": [
          0.3125,
          0.355
         ],
         "matches": "x",
         "showticklabels": false
        },
        "xaxis71": {
         "anchor": "y71",
         "domain": [
          0.375,
          0.4175
         ],
         "matches": "x",
         "showticklabels": false
        },
        "xaxis72": {
         "anchor": "y72",
         "domain": [
          0.4375,
          0.48
         ],
         "matches": "x",
         "showticklabels": false
        },
        "xaxis73": {
         "anchor": "y73",
         "domain": [
          0.5,
          0.5425
         ],
         "matches": "x",
         "showticklabels": false
        },
        "xaxis74": {
         "anchor": "y74",
         "domain": [
          0.5625,
          0.605
         ],
         "matches": "x",
         "showticklabels": false
        },
        "xaxis75": {
         "anchor": "y75",
         "domain": [
          0.625,
          0.6675
         ],
         "matches": "x",
         "showticklabels": false
        },
        "xaxis76": {
         "anchor": "y76",
         "domain": [
          0.6875,
          0.73
         ],
         "matches": "x",
         "showticklabels": false
        },
        "xaxis77": {
         "anchor": "y77",
         "domain": [
          0.75,
          0.7925
         ],
         "matches": "x",
         "showticklabels": false
        },
        "xaxis78": {
         "anchor": "y78",
         "domain": [
          0.8125,
          0.855
         ],
         "matches": "x",
         "showticklabels": false
        },
        "xaxis79": {
         "anchor": "y79",
         "domain": [
          0.875,
          0.9175
         ],
         "matches": "x",
         "showticklabels": false
        },
        "xaxis8": {
         "anchor": "y8",
         "domain": [
          0.4375,
          0.48
         ],
         "matches": "x",
         "title": {
          "text": "quanta"
         }
        },
        "xaxis80": {
         "anchor": "y80",
         "domain": [
          0.9375,
          0.98
         ],
         "matches": "x",
         "showticklabels": false
        },
        "xaxis81": {
         "anchor": "y81",
         "domain": [
          0,
          0.042499999999999996
         ],
         "matches": "x",
         "showticklabels": false
        },
        "xaxis82": {
         "anchor": "y82",
         "domain": [
          0.0625,
          0.105
         ],
         "matches": "x",
         "showticklabels": false
        },
        "xaxis83": {
         "anchor": "y83",
         "domain": [
          0.125,
          0.16749999999999998
         ],
         "matches": "x",
         "showticklabels": false
        },
        "xaxis84": {
         "anchor": "y84",
         "domain": [
          0.1875,
          0.22999999999999998
         ],
         "matches": "x",
         "showticklabels": false
        },
        "xaxis85": {
         "anchor": "y85",
         "domain": [
          0.25,
          0.2925
         ],
         "matches": "x",
         "showticklabels": false
        },
        "xaxis86": {
         "anchor": "y86",
         "domain": [
          0.3125,
          0.355
         ],
         "matches": "x",
         "showticklabels": false
        },
        "xaxis87": {
         "anchor": "y87",
         "domain": [
          0.375,
          0.4175
         ],
         "matches": "x",
         "showticklabels": false
        },
        "xaxis88": {
         "anchor": "y88",
         "domain": [
          0.4375,
          0.48
         ],
         "matches": "x",
         "showticklabels": false
        },
        "xaxis89": {
         "anchor": "y89",
         "domain": [
          0.5,
          0.5425
         ],
         "matches": "x",
         "showticklabels": false
        },
        "xaxis9": {
         "anchor": "y9",
         "domain": [
          0.5,
          0.5425
         ],
         "matches": "x",
         "title": {
          "text": "quanta"
         }
        },
        "xaxis90": {
         "anchor": "y90",
         "domain": [
          0.5625,
          0.605
         ],
         "matches": "x",
         "showticklabels": false
        },
        "xaxis91": {
         "anchor": "y91",
         "domain": [
          0.625,
          0.6675
         ],
         "matches": "x",
         "showticklabels": false
        },
        "xaxis92": {
         "anchor": "y92",
         "domain": [
          0.6875,
          0.73
         ],
         "matches": "x",
         "showticklabels": false
        },
        "xaxis93": {
         "anchor": "y93",
         "domain": [
          0.75,
          0.7925
         ],
         "matches": "x",
         "showticklabels": false
        },
        "xaxis94": {
         "anchor": "y94",
         "domain": [
          0.8125,
          0.855
         ],
         "matches": "x",
         "showticklabels": false
        },
        "xaxis95": {
         "anchor": "y95",
         "domain": [
          0.875,
          0.9175
         ],
         "matches": "x",
         "showticklabels": false
        },
        "xaxis96": {
         "anchor": "y96",
         "domain": [
          0.9375,
          0.98
         ],
         "matches": "x",
         "showticklabels": false
        },
        "xaxis97": {
         "anchor": "y97",
         "domain": [
          0,
          0.042499999999999996
         ],
         "matches": "x",
         "showticklabels": false
        },
        "xaxis98": {
         "anchor": "y98",
         "domain": [
          0.0625,
          0.105
         ],
         "matches": "x",
         "showticklabels": false
        },
        "xaxis99": {
         "anchor": "y99",
         "domain": [
          0.125,
          0.16749999999999998
         ],
         "matches": "x",
         "showticklabels": false
        },
        "yaxis": {
         "anchor": "x",
         "domain": [
          0,
          0.04923076923076924
         ],
         "title": {
          "text": "residuals"
         }
        },
        "yaxis10": {
         "anchor": "x10",
         "domain": [
          0,
          0.04923076923076924
         ],
         "matches": "y",
         "showticklabels": false
        },
        "yaxis100": {
         "anchor": "x100",
         "domain": [
          0.4753846153846154,
          0.5246153846153846
         ],
         "matches": "y",
         "showticklabels": false
        },
        "yaxis101": {
         "anchor": "x101",
         "domain": [
          0.4753846153846154,
          0.5246153846153846
         ],
         "matches": "y",
         "showticklabels": false
        },
        "yaxis102": {
         "anchor": "x102",
         "domain": [
          0.4753846153846154,
          0.5246153846153846
         ],
         "matches": "y",
         "showticklabels": false
        },
        "yaxis103": {
         "anchor": "x103",
         "domain": [
          0.4753846153846154,
          0.5246153846153846
         ],
         "matches": "y",
         "showticklabels": false
        },
        "yaxis104": {
         "anchor": "x104",
         "domain": [
          0.4753846153846154,
          0.5246153846153846
         ],
         "matches": "y",
         "showticklabels": false
        },
        "yaxis105": {
         "anchor": "x105",
         "domain": [
          0.4753846153846154,
          0.5246153846153846
         ],
         "matches": "y",
         "showticklabels": false
        },
        "yaxis106": {
         "anchor": "x106",
         "domain": [
          0.4753846153846154,
          0.5246153846153846
         ],
         "matches": "y",
         "showticklabels": false
        },
        "yaxis107": {
         "anchor": "x107",
         "domain": [
          0.4753846153846154,
          0.5246153846153846
         ],
         "matches": "y",
         "showticklabels": false
        },
        "yaxis108": {
         "anchor": "x108",
         "domain": [
          0.4753846153846154,
          0.5246153846153846
         ],
         "matches": "y",
         "showticklabels": false
        },
        "yaxis109": {
         "anchor": "x109",
         "domain": [
          0.4753846153846154,
          0.5246153846153846
         ],
         "matches": "y",
         "showticklabels": false
        },
        "yaxis11": {
         "anchor": "x11",
         "domain": [
          0,
          0.04923076923076924
         ],
         "matches": "y",
         "showticklabels": false
        },
        "yaxis110": {
         "anchor": "x110",
         "domain": [
          0.4753846153846154,
          0.5246153846153846
         ],
         "matches": "y",
         "showticklabels": false
        },
        "yaxis111": {
         "anchor": "x111",
         "domain": [
          0.4753846153846154,
          0.5246153846153846
         ],
         "matches": "y",
         "showticklabels": false
        },
        "yaxis112": {
         "anchor": "x112",
         "domain": [
          0.4753846153846154,
          0.5246153846153846
         ],
         "matches": "y",
         "showticklabels": false
        },
        "yaxis113": {
         "anchor": "x113",
         "domain": [
          0.5546153846153846,
          0.6038461538461538
         ],
         "matches": "y",
         "title": {
          "text": "residuals"
         }
        },
        "yaxis114": {
         "anchor": "x114",
         "domain": [
          0.5546153846153846,
          0.6038461538461538
         ],
         "matches": "y",
         "showticklabels": false
        },
        "yaxis115": {
         "anchor": "x115",
         "domain": [
          0.5546153846153846,
          0.6038461538461538
         ],
         "matches": "y",
         "showticklabels": false
        },
        "yaxis116": {
         "anchor": "x116",
         "domain": [
          0.5546153846153846,
          0.6038461538461538
         ],
         "matches": "y",
         "showticklabels": false
        },
        "yaxis117": {
         "anchor": "x117",
         "domain": [
          0.5546153846153846,
          0.6038461538461538
         ],
         "matches": "y",
         "showticklabels": false
        },
        "yaxis118": {
         "anchor": "x118",
         "domain": [
          0.5546153846153846,
          0.6038461538461538
         ],
         "matches": "y",
         "showticklabels": false
        },
        "yaxis119": {
         "anchor": "x119",
         "domain": [
          0.5546153846153846,
          0.6038461538461538
         ],
         "matches": "y",
         "showticklabels": false
        },
        "yaxis12": {
         "anchor": "x12",
         "domain": [
          0,
          0.04923076923076924
         ],
         "matches": "y",
         "showticklabels": false
        },
        "yaxis120": {
         "anchor": "x120",
         "domain": [
          0.5546153846153846,
          0.6038461538461538
         ],
         "matches": "y",
         "showticklabels": false
        },
        "yaxis121": {
         "anchor": "x121",
         "domain": [
          0.5546153846153846,
          0.6038461538461538
         ],
         "matches": "y",
         "showticklabels": false
        },
        "yaxis122": {
         "anchor": "x122",
         "domain": [
          0.5546153846153846,
          0.6038461538461538
         ],
         "matches": "y",
         "showticklabels": false
        },
        "yaxis123": {
         "anchor": "x123",
         "domain": [
          0.5546153846153846,
          0.6038461538461538
         ],
         "matches": "y",
         "showticklabels": false
        },
        "yaxis124": {
         "anchor": "x124",
         "domain": [
          0.5546153846153846,
          0.6038461538461538
         ],
         "matches": "y",
         "showticklabels": false
        },
        "yaxis125": {
         "anchor": "x125",
         "domain": [
          0.5546153846153846,
          0.6038461538461538
         ],
         "matches": "y",
         "showticklabels": false
        },
        "yaxis126": {
         "anchor": "x126",
         "domain": [
          0.5546153846153846,
          0.6038461538461538
         ],
         "matches": "y",
         "showticklabels": false
        },
        "yaxis127": {
         "anchor": "x127",
         "domain": [
          0.5546153846153846,
          0.6038461538461538
         ],
         "matches": "y",
         "showticklabels": false
        },
        "yaxis128": {
         "anchor": "x128",
         "domain": [
          0.5546153846153846,
          0.6038461538461538
         ],
         "matches": "y",
         "showticklabels": false
        },
        "yaxis129": {
         "anchor": "x129",
         "domain": [
          0.633846153846154,
          0.6830769230769231
         ],
         "matches": "y",
         "title": {
          "text": "residuals"
         }
        },
        "yaxis13": {
         "anchor": "x13",
         "domain": [
          0,
          0.04923076923076924
         ],
         "matches": "y",
         "showticklabels": false
        },
        "yaxis130": {
         "anchor": "x130",
         "domain": [
          0.633846153846154,
          0.6830769230769231
         ],
         "matches": "y",
         "showticklabels": false
        },
        "yaxis131": {
         "anchor": "x131",
         "domain": [
          0.633846153846154,
          0.6830769230769231
         ],
         "matches": "y",
         "showticklabels": false
        },
        "yaxis132": {
         "anchor": "x132",
         "domain": [
          0.633846153846154,
          0.6830769230769231
         ],
         "matches": "y",
         "showticklabels": false
        },
        "yaxis133": {
         "anchor": "x133",
         "domain": [
          0.633846153846154,
          0.6830769230769231
         ],
         "matches": "y",
         "showticklabels": false
        },
        "yaxis134": {
         "anchor": "x134",
         "domain": [
          0.633846153846154,
          0.6830769230769231
         ],
         "matches": "y",
         "showticklabels": false
        },
        "yaxis135": {
         "anchor": "x135",
         "domain": [
          0.633846153846154,
          0.6830769230769231
         ],
         "matches": "y",
         "showticklabels": false
        },
        "yaxis136": {
         "anchor": "x136",
         "domain": [
          0.633846153846154,
          0.6830769230769231
         ],
         "matches": "y",
         "showticklabels": false
        },
        "yaxis137": {
         "anchor": "x137",
         "domain": [
          0.633846153846154,
          0.6830769230769231
         ],
         "matches": "y",
         "showticklabels": false
        },
        "yaxis138": {
         "anchor": "x138",
         "domain": [
          0.633846153846154,
          0.6830769230769231
         ],
         "matches": "y",
         "showticklabels": false
        },
        "yaxis139": {
         "anchor": "x139",
         "domain": [
          0.633846153846154,
          0.6830769230769231
         ],
         "matches": "y",
         "showticklabels": false
        },
        "yaxis14": {
         "anchor": "x14",
         "domain": [
          0,
          0.04923076923076924
         ],
         "matches": "y",
         "showticklabels": false
        },
        "yaxis140": {
         "anchor": "x140",
         "domain": [
          0.633846153846154,
          0.6830769230769231
         ],
         "matches": "y",
         "showticklabels": false
        },
        "yaxis141": {
         "anchor": "x141",
         "domain": [
          0.633846153846154,
          0.6830769230769231
         ],
         "matches": "y",
         "showticklabels": false
        },
        "yaxis142": {
         "anchor": "x142",
         "domain": [
          0.633846153846154,
          0.6830769230769231
         ],
         "matches": "y",
         "showticklabels": false
        },
        "yaxis143": {
         "anchor": "x143",
         "domain": [
          0.633846153846154,
          0.6830769230769231
         ],
         "matches": "y",
         "showticklabels": false
        },
        "yaxis144": {
         "anchor": "x144",
         "domain": [
          0.633846153846154,
          0.6830769230769231
         ],
         "matches": "y",
         "showticklabels": false
        },
        "yaxis145": {
         "anchor": "x145",
         "domain": [
          0.7130769230769232,
          0.7623076923076924
         ],
         "matches": "y",
         "title": {
          "text": "residuals"
         }
        },
        "yaxis146": {
         "anchor": "x146",
         "domain": [
          0.7130769230769232,
          0.7623076923076924
         ],
         "matches": "y",
         "showticklabels": false
        },
        "yaxis147": {
         "anchor": "x147",
         "domain": [
          0.7130769230769232,
          0.7623076923076924
         ],
         "matches": "y",
         "showticklabels": false
        },
        "yaxis148": {
         "anchor": "x148",
         "domain": [
          0.7130769230769232,
          0.7623076923076924
         ],
         "matches": "y",
         "showticklabels": false
        },
        "yaxis149": {
         "anchor": "x149",
         "domain": [
          0.7130769230769232,
          0.7623076923076924
         ],
         "matches": "y",
         "showticklabels": false
        },
        "yaxis15": {
         "anchor": "x15",
         "domain": [
          0,
          0.04923076923076924
         ],
         "matches": "y",
         "showticklabels": false
        },
        "yaxis150": {
         "anchor": "x150",
         "domain": [
          0.7130769230769232,
          0.7623076923076924
         ],
         "matches": "y",
         "showticklabels": false
        },
        "yaxis151": {
         "anchor": "x151",
         "domain": [
          0.7130769230769232,
          0.7623076923076924
         ],
         "matches": "y",
         "showticklabels": false
        },
        "yaxis152": {
         "anchor": "x152",
         "domain": [
          0.7130769230769232,
          0.7623076923076924
         ],
         "matches": "y",
         "showticklabels": false
        },
        "yaxis153": {
         "anchor": "x153",
         "domain": [
          0.7130769230769232,
          0.7623076923076924
         ],
         "matches": "y",
         "showticklabels": false
        },
        "yaxis154": {
         "anchor": "x154",
         "domain": [
          0.7130769230769232,
          0.7623076923076924
         ],
         "matches": "y",
         "showticklabels": false
        },
        "yaxis155": {
         "anchor": "x155",
         "domain": [
          0.7130769230769232,
          0.7623076923076924
         ],
         "matches": "y",
         "showticklabels": false
        },
        "yaxis156": {
         "anchor": "x156",
         "domain": [
          0.7130769230769232,
          0.7623076923076924
         ],
         "matches": "y",
         "showticklabels": false
        },
        "yaxis157": {
         "anchor": "x157",
         "domain": [
          0.7130769230769232,
          0.7623076923076924
         ],
         "matches": "y",
         "showticklabels": false
        },
        "yaxis158": {
         "anchor": "x158",
         "domain": [
          0.7130769230769232,
          0.7623076923076924
         ],
         "matches": "y",
         "showticklabels": false
        },
        "yaxis159": {
         "anchor": "x159",
         "domain": [
          0.7130769230769232,
          0.7623076923076924
         ],
         "matches": "y",
         "showticklabels": false
        },
        "yaxis16": {
         "anchor": "x16",
         "domain": [
          0,
          0.04923076923076924
         ],
         "matches": "y",
         "showticklabels": false
        },
        "yaxis160": {
         "anchor": "x160",
         "domain": [
          0.7130769230769232,
          0.7623076923076924
         ],
         "matches": "y",
         "showticklabels": false
        },
        "yaxis161": {
         "anchor": "x161",
         "domain": [
          0.7923076923076924,
          0.8415384615384616
         ],
         "matches": "y",
         "title": {
          "text": "residuals"
         }
        },
        "yaxis162": {
         "anchor": "x162",
         "domain": [
          0.7923076923076924,
          0.8415384615384616
         ],
         "matches": "y",
         "showticklabels": false
        },
        "yaxis163": {
         "anchor": "x163",
         "domain": [
          0.7923076923076924,
          0.8415384615384616
         ],
         "matches": "y",
         "showticklabels": false
        },
        "yaxis164": {
         "anchor": "x164",
         "domain": [
          0.7923076923076924,
          0.8415384615384616
         ],
         "matches": "y",
         "showticklabels": false
        },
        "yaxis165": {
         "anchor": "x165",
         "domain": [
          0.7923076923076924,
          0.8415384615384616
         ],
         "matches": "y",
         "showticklabels": false
        },
        "yaxis166": {
         "anchor": "x166",
         "domain": [
          0.7923076923076924,
          0.8415384615384616
         ],
         "matches": "y",
         "showticklabels": false
        },
        "yaxis167": {
         "anchor": "x167",
         "domain": [
          0.7923076923076924,
          0.8415384615384616
         ],
         "matches": "y",
         "showticklabels": false
        },
        "yaxis168": {
         "anchor": "x168",
         "domain": [
          0.7923076923076924,
          0.8415384615384616
         ],
         "matches": "y",
         "showticklabels": false
        },
        "yaxis169": {
         "anchor": "x169",
         "domain": [
          0.7923076923076924,
          0.8415384615384616
         ],
         "matches": "y",
         "showticklabels": false
        },
        "yaxis17": {
         "anchor": "x17",
         "domain": [
          0.07923076923076924,
          0.1284615384615385
         ],
         "matches": "y",
         "title": {
          "text": "residuals"
         }
        },
        "yaxis170": {
         "anchor": "x170",
         "domain": [
          0.7923076923076924,
          0.8415384615384616
         ],
         "matches": "y",
         "showticklabels": false
        },
        "yaxis171": {
         "anchor": "x171",
         "domain": [
          0.7923076923076924,
          0.8415384615384616
         ],
         "matches": "y",
         "showticklabels": false
        },
        "yaxis172": {
         "anchor": "x172",
         "domain": [
          0.7923076923076924,
          0.8415384615384616
         ],
         "matches": "y",
         "showticklabels": false
        },
        "yaxis173": {
         "anchor": "x173",
         "domain": [
          0.7923076923076924,
          0.8415384615384616
         ],
         "matches": "y",
         "showticklabels": false
        },
        "yaxis174": {
         "anchor": "x174",
         "domain": [
          0.7923076923076924,
          0.8415384615384616
         ],
         "matches": "y",
         "showticklabels": false
        },
        "yaxis175": {
         "anchor": "x175",
         "domain": [
          0.7923076923076924,
          0.8415384615384616
         ],
         "matches": "y",
         "showticklabels": false
        },
        "yaxis176": {
         "anchor": "x176",
         "domain": [
          0.7923076923076924,
          0.8415384615384616
         ],
         "matches": "y",
         "showticklabels": false
        },
        "yaxis177": {
         "anchor": "x177",
         "domain": [
          0.8715384615384616,
          0.9207692307692308
         ],
         "matches": "y",
         "title": {
          "text": "residuals"
         }
        },
        "yaxis178": {
         "anchor": "x178",
         "domain": [
          0.8715384615384616,
          0.9207692307692308
         ],
         "matches": "y",
         "showticklabels": false
        },
        "yaxis179": {
         "anchor": "x179",
         "domain": [
          0.8715384615384616,
          0.9207692307692308
         ],
         "matches": "y",
         "showticklabels": false
        },
        "yaxis18": {
         "anchor": "x18",
         "domain": [
          0.07923076923076924,
          0.1284615384615385
         ],
         "matches": "y",
         "showticklabels": false
        },
        "yaxis180": {
         "anchor": "x180",
         "domain": [
          0.8715384615384616,
          0.9207692307692308
         ],
         "matches": "y",
         "showticklabels": false
        },
        "yaxis181": {
         "anchor": "x181",
         "domain": [
          0.8715384615384616,
          0.9207692307692308
         ],
         "matches": "y",
         "showticklabels": false
        },
        "yaxis182": {
         "anchor": "x182",
         "domain": [
          0.8715384615384616,
          0.9207692307692308
         ],
         "matches": "y",
         "showticklabels": false
        },
        "yaxis183": {
         "anchor": "x183",
         "domain": [
          0.8715384615384616,
          0.9207692307692308
         ],
         "matches": "y",
         "showticklabels": false
        },
        "yaxis184": {
         "anchor": "x184",
         "domain": [
          0.8715384615384616,
          0.9207692307692308
         ],
         "matches": "y",
         "showticklabels": false
        },
        "yaxis185": {
         "anchor": "x185",
         "domain": [
          0.8715384615384616,
          0.9207692307692308
         ],
         "matches": "y",
         "showticklabels": false
        },
        "yaxis186": {
         "anchor": "x186",
         "domain": [
          0.8715384615384616,
          0.9207692307692308
         ],
         "matches": "y",
         "showticklabels": false
        },
        "yaxis187": {
         "anchor": "x187",
         "domain": [
          0.8715384615384616,
          0.9207692307692308
         ],
         "matches": "y",
         "showticklabels": false
        },
        "yaxis188": {
         "anchor": "x188",
         "domain": [
          0.8715384615384616,
          0.9207692307692308
         ],
         "matches": "y",
         "showticklabels": false
        },
        "yaxis189": {
         "anchor": "x189",
         "domain": [
          0.8715384615384616,
          0.9207692307692308
         ],
         "matches": "y",
         "showticklabels": false
        },
        "yaxis19": {
         "anchor": "x19",
         "domain": [
          0.07923076923076924,
          0.1284615384615385
         ],
         "matches": "y",
         "showticklabels": false
        },
        "yaxis190": {
         "anchor": "x190",
         "domain": [
          0.8715384615384616,
          0.9207692307692308
         ],
         "matches": "y",
         "showticklabels": false
        },
        "yaxis191": {
         "anchor": "x191",
         "domain": [
          0.8715384615384616,
          0.9207692307692308
         ],
         "matches": "y",
         "showticklabels": false
        },
        "yaxis192": {
         "anchor": "x192",
         "domain": [
          0.8715384615384616,
          0.9207692307692308
         ],
         "matches": "y",
         "showticklabels": false
        },
        "yaxis193": {
         "anchor": "x193",
         "domain": [
          0.9507692307692308,
          1
         ],
         "matches": "y",
         "title": {
          "text": "residuals"
         }
        },
        "yaxis194": {
         "anchor": "x194",
         "domain": [
          0.9507692307692308,
          1
         ],
         "matches": "y",
         "showticklabels": false
        },
        "yaxis195": {
         "anchor": "x195",
         "domain": [
          0.9507692307692308,
          1
         ],
         "matches": "y",
         "showticklabels": false
        },
        "yaxis196": {
         "anchor": "x196",
         "domain": [
          0.9507692307692308,
          1
         ],
         "matches": "y",
         "showticklabels": false
        },
        "yaxis197": {
         "anchor": "x197",
         "domain": [
          0.9507692307692308,
          1
         ],
         "matches": "y",
         "showticklabels": false
        },
        "yaxis198": {
         "anchor": "x198",
         "domain": [
          0.9507692307692308,
          1
         ],
         "matches": "y",
         "showticklabels": false
        },
        "yaxis199": {
         "anchor": "x199",
         "domain": [
          0.9507692307692308,
          1
         ],
         "matches": "y",
         "showticklabels": false
        },
        "yaxis2": {
         "anchor": "x2",
         "domain": [
          0,
          0.04923076923076924
         ],
         "matches": "y",
         "showticklabels": false
        },
        "yaxis20": {
         "anchor": "x20",
         "domain": [
          0.07923076923076924,
          0.1284615384615385
         ],
         "matches": "y",
         "showticklabels": false
        },
        "yaxis200": {
         "anchor": "x200",
         "domain": [
          0.9507692307692308,
          1
         ],
         "matches": "y",
         "showticklabels": false
        },
        "yaxis201": {
         "anchor": "x201",
         "domain": [
          0.9507692307692308,
          1
         ],
         "matches": "y",
         "showticklabels": false
        },
        "yaxis202": {
         "anchor": "x202",
         "domain": [
          0.9507692307692308,
          1
         ],
         "matches": "y",
         "showticklabels": false
        },
        "yaxis203": {
         "anchor": "x203",
         "domain": [
          0.9507692307692308,
          1
         ],
         "matches": "y",
         "showticklabels": false
        },
        "yaxis204": {
         "anchor": "x204",
         "domain": [
          0.9507692307692308,
          1
         ],
         "matches": "y",
         "showticklabels": false
        },
        "yaxis205": {
         "anchor": "x205",
         "domain": [
          0.9507692307692308,
          1
         ],
         "matches": "y",
         "showticklabels": false
        },
        "yaxis206": {
         "anchor": "x206",
         "domain": [
          0.9507692307692308,
          1
         ],
         "matches": "y",
         "showticklabels": false
        },
        "yaxis207": {
         "anchor": "x207",
         "domain": [
          0.9507692307692308,
          1
         ],
         "matches": "y",
         "showticklabels": false
        },
        "yaxis208": {
         "anchor": "x208",
         "domain": [
          0.9507692307692308,
          1
         ],
         "matches": "y",
         "showticklabels": false
        },
        "yaxis21": {
         "anchor": "x21",
         "domain": [
          0.07923076923076924,
          0.1284615384615385
         ],
         "matches": "y",
         "showticklabels": false
        },
        "yaxis22": {
         "anchor": "x22",
         "domain": [
          0.07923076923076924,
          0.1284615384615385
         ],
         "matches": "y",
         "showticklabels": false
        },
        "yaxis23": {
         "anchor": "x23",
         "domain": [
          0.07923076923076924,
          0.1284615384615385
         ],
         "matches": "y",
         "showticklabels": false
        },
        "yaxis24": {
         "anchor": "x24",
         "domain": [
          0.07923076923076924,
          0.1284615384615385
         ],
         "matches": "y",
         "showticklabels": false
        },
        "yaxis25": {
         "anchor": "x25",
         "domain": [
          0.07923076923076924,
          0.1284615384615385
         ],
         "matches": "y",
         "showticklabels": false
        },
        "yaxis26": {
         "anchor": "x26",
         "domain": [
          0.07923076923076924,
          0.1284615384615385
         ],
         "matches": "y",
         "showticklabels": false
        },
        "yaxis27": {
         "anchor": "x27",
         "domain": [
          0.07923076923076924,
          0.1284615384615385
         ],
         "matches": "y",
         "showticklabels": false
        },
        "yaxis28": {
         "anchor": "x28",
         "domain": [
          0.07923076923076924,
          0.1284615384615385
         ],
         "matches": "y",
         "showticklabels": false
        },
        "yaxis29": {
         "anchor": "x29",
         "domain": [
          0.07923076923076924,
          0.1284615384615385
         ],
         "matches": "y",
         "showticklabels": false
        },
        "yaxis3": {
         "anchor": "x3",
         "domain": [
          0,
          0.04923076923076924
         ],
         "matches": "y",
         "showticklabels": false
        },
        "yaxis30": {
         "anchor": "x30",
         "domain": [
          0.07923076923076924,
          0.1284615384615385
         ],
         "matches": "y",
         "showticklabels": false
        },
        "yaxis31": {
         "anchor": "x31",
         "domain": [
          0.07923076923076924,
          0.1284615384615385
         ],
         "matches": "y",
         "showticklabels": false
        },
        "yaxis32": {
         "anchor": "x32",
         "domain": [
          0.07923076923076924,
          0.1284615384615385
         ],
         "matches": "y",
         "showticklabels": false
        },
        "yaxis33": {
         "anchor": "x33",
         "domain": [
          0.1584615384615385,
          0.20769230769230773
         ],
         "matches": "y",
         "title": {
          "text": "residuals"
         }
        },
        "yaxis34": {
         "anchor": "x34",
         "domain": [
          0.1584615384615385,
          0.20769230769230773
         ],
         "matches": "y",
         "showticklabels": false
        },
        "yaxis35": {
         "anchor": "x35",
         "domain": [
          0.1584615384615385,
          0.20769230769230773
         ],
         "matches": "y",
         "showticklabels": false
        },
        "yaxis36": {
         "anchor": "x36",
         "domain": [
          0.1584615384615385,
          0.20769230769230773
         ],
         "matches": "y",
         "showticklabels": false
        },
        "yaxis37": {
         "anchor": "x37",
         "domain": [
          0.1584615384615385,
          0.20769230769230773
         ],
         "matches": "y",
         "showticklabels": false
        },
        "yaxis38": {
         "anchor": "x38",
         "domain": [
          0.1584615384615385,
          0.20769230769230773
         ],
         "matches": "y",
         "showticklabels": false
        },
        "yaxis39": {
         "anchor": "x39",
         "domain": [
          0.1584615384615385,
          0.20769230769230773
         ],
         "matches": "y",
         "showticklabels": false
        },
        "yaxis4": {
         "anchor": "x4",
         "domain": [
          0,
          0.04923076923076924
         ],
         "matches": "y",
         "showticklabels": false
        },
        "yaxis40": {
         "anchor": "x40",
         "domain": [
          0.1584615384615385,
          0.20769230769230773
         ],
         "matches": "y",
         "showticklabels": false
        },
        "yaxis41": {
         "anchor": "x41",
         "domain": [
          0.1584615384615385,
          0.20769230769230773
         ],
         "matches": "y",
         "showticklabels": false
        },
        "yaxis42": {
         "anchor": "x42",
         "domain": [
          0.1584615384615385,
          0.20769230769230773
         ],
         "matches": "y",
         "showticklabels": false
        },
        "yaxis43": {
         "anchor": "x43",
         "domain": [
          0.1584615384615385,
          0.20769230769230773
         ],
         "matches": "y",
         "showticklabels": false
        },
        "yaxis44": {
         "anchor": "x44",
         "domain": [
          0.1584615384615385,
          0.20769230769230773
         ],
         "matches": "y",
         "showticklabels": false
        },
        "yaxis45": {
         "anchor": "x45",
         "domain": [
          0.1584615384615385,
          0.20769230769230773
         ],
         "matches": "y",
         "showticklabels": false
        },
        "yaxis46": {
         "anchor": "x46",
         "domain": [
          0.1584615384615385,
          0.20769230769230773
         ],
         "matches": "y",
         "showticklabels": false
        },
        "yaxis47": {
         "anchor": "x47",
         "domain": [
          0.1584615384615385,
          0.20769230769230773
         ],
         "matches": "y",
         "showticklabels": false
        },
        "yaxis48": {
         "anchor": "x48",
         "domain": [
          0.1584615384615385,
          0.20769230769230773
         ],
         "matches": "y",
         "showticklabels": false
        },
        "yaxis49": {
         "anchor": "x49",
         "domain": [
          0.2376923076923077,
          0.28692307692307695
         ],
         "matches": "y",
         "title": {
          "text": "residuals"
         }
        },
        "yaxis5": {
         "anchor": "x5",
         "domain": [
          0,
          0.04923076923076924
         ],
         "matches": "y",
         "showticklabels": false
        },
        "yaxis50": {
         "anchor": "x50",
         "domain": [
          0.2376923076923077,
          0.28692307692307695
         ],
         "matches": "y",
         "showticklabels": false
        },
        "yaxis51": {
         "anchor": "x51",
         "domain": [
          0.2376923076923077,
          0.28692307692307695
         ],
         "matches": "y",
         "showticklabels": false
        },
        "yaxis52": {
         "anchor": "x52",
         "domain": [
          0.2376923076923077,
          0.28692307692307695
         ],
         "matches": "y",
         "showticklabels": false
        },
        "yaxis53": {
         "anchor": "x53",
         "domain": [
          0.2376923076923077,
          0.28692307692307695
         ],
         "matches": "y",
         "showticklabels": false
        },
        "yaxis54": {
         "anchor": "x54",
         "domain": [
          0.2376923076923077,
          0.28692307692307695
         ],
         "matches": "y",
         "showticklabels": false
        },
        "yaxis55": {
         "anchor": "x55",
         "domain": [
          0.2376923076923077,
          0.28692307692307695
         ],
         "matches": "y",
         "showticklabels": false
        },
        "yaxis56": {
         "anchor": "x56",
         "domain": [
          0.2376923076923077,
          0.28692307692307695
         ],
         "matches": "y",
         "showticklabels": false
        },
        "yaxis57": {
         "anchor": "x57",
         "domain": [
          0.2376923076923077,
          0.28692307692307695
         ],
         "matches": "y",
         "showticklabels": false
        },
        "yaxis58": {
         "anchor": "x58",
         "domain": [
          0.2376923076923077,
          0.28692307692307695
         ],
         "matches": "y",
         "showticklabels": false
        },
        "yaxis59": {
         "anchor": "x59",
         "domain": [
          0.2376923076923077,
          0.28692307692307695
         ],
         "matches": "y",
         "showticklabels": false
        },
        "yaxis6": {
         "anchor": "x6",
         "domain": [
          0,
          0.04923076923076924
         ],
         "matches": "y",
         "showticklabels": false
        },
        "yaxis60": {
         "anchor": "x60",
         "domain": [
          0.2376923076923077,
          0.28692307692307695
         ],
         "matches": "y",
         "showticklabels": false
        },
        "yaxis61": {
         "anchor": "x61",
         "domain": [
          0.2376923076923077,
          0.28692307692307695
         ],
         "matches": "y",
         "showticklabels": false
        },
        "yaxis62": {
         "anchor": "x62",
         "domain": [
          0.2376923076923077,
          0.28692307692307695
         ],
         "matches": "y",
         "showticklabels": false
        },
        "yaxis63": {
         "anchor": "x63",
         "domain": [
          0.2376923076923077,
          0.28692307692307695
         ],
         "matches": "y",
         "showticklabels": false
        },
        "yaxis64": {
         "anchor": "x64",
         "domain": [
          0.2376923076923077,
          0.28692307692307695
         ],
         "matches": "y",
         "showticklabels": false
        },
        "yaxis65": {
         "anchor": "x65",
         "domain": [
          0.316923076923077,
          0.3661538461538462
         ],
         "matches": "y",
         "title": {
          "text": "residuals"
         }
        },
        "yaxis66": {
         "anchor": "x66",
         "domain": [
          0.316923076923077,
          0.3661538461538462
         ],
         "matches": "y",
         "showticklabels": false
        },
        "yaxis67": {
         "anchor": "x67",
         "domain": [
          0.316923076923077,
          0.3661538461538462
         ],
         "matches": "y",
         "showticklabels": false
        },
        "yaxis68": {
         "anchor": "x68",
         "domain": [
          0.316923076923077,
          0.3661538461538462
         ],
         "matches": "y",
         "showticklabels": false
        },
        "yaxis69": {
         "anchor": "x69",
         "domain": [
          0.316923076923077,
          0.3661538461538462
         ],
         "matches": "y",
         "showticklabels": false
        },
        "yaxis7": {
         "anchor": "x7",
         "domain": [
          0,
          0.04923076923076924
         ],
         "matches": "y",
         "showticklabels": false
        },
        "yaxis70": {
         "anchor": "x70",
         "domain": [
          0.316923076923077,
          0.3661538461538462
         ],
         "matches": "y",
         "showticklabels": false
        },
        "yaxis71": {
         "anchor": "x71",
         "domain": [
          0.316923076923077,
          0.3661538461538462
         ],
         "matches": "y",
         "showticklabels": false
        },
        "yaxis72": {
         "anchor": "x72",
         "domain": [
          0.316923076923077,
          0.3661538461538462
         ],
         "matches": "y",
         "showticklabels": false
        },
        "yaxis73": {
         "anchor": "x73",
         "domain": [
          0.316923076923077,
          0.3661538461538462
         ],
         "matches": "y",
         "showticklabels": false
        },
        "yaxis74": {
         "anchor": "x74",
         "domain": [
          0.316923076923077,
          0.3661538461538462
         ],
         "matches": "y",
         "showticklabels": false
        },
        "yaxis75": {
         "anchor": "x75",
         "domain": [
          0.316923076923077,
          0.3661538461538462
         ],
         "matches": "y",
         "showticklabels": false
        },
        "yaxis76": {
         "anchor": "x76",
         "domain": [
          0.316923076923077,
          0.3661538461538462
         ],
         "matches": "y",
         "showticklabels": false
        },
        "yaxis77": {
         "anchor": "x77",
         "domain": [
          0.316923076923077,
          0.3661538461538462
         ],
         "matches": "y",
         "showticklabels": false
        },
        "yaxis78": {
         "anchor": "x78",
         "domain": [
          0.316923076923077,
          0.3661538461538462
         ],
         "matches": "y",
         "showticklabels": false
        },
        "yaxis79": {
         "anchor": "x79",
         "domain": [
          0.316923076923077,
          0.3661538461538462
         ],
         "matches": "y",
         "showticklabels": false
        },
        "yaxis8": {
         "anchor": "x8",
         "domain": [
          0,
          0.04923076923076924
         ],
         "matches": "y",
         "showticklabels": false
        },
        "yaxis80": {
         "anchor": "x80",
         "domain": [
          0.316923076923077,
          0.3661538461538462
         ],
         "matches": "y",
         "showticklabels": false
        },
        "yaxis81": {
         "anchor": "x81",
         "domain": [
          0.3961538461538462,
          0.44538461538461543
         ],
         "matches": "y",
         "title": {
          "text": "residuals"
         }
        },
        "yaxis82": {
         "anchor": "x82",
         "domain": [
          0.3961538461538462,
          0.44538461538461543
         ],
         "matches": "y",
         "showticklabels": false
        },
        "yaxis83": {
         "anchor": "x83",
         "domain": [
          0.3961538461538462,
          0.44538461538461543
         ],
         "matches": "y",
         "showticklabels": false
        },
        "yaxis84": {
         "anchor": "x84",
         "domain": [
          0.3961538461538462,
          0.44538461538461543
         ],
         "matches": "y",
         "showticklabels": false
        },
        "yaxis85": {
         "anchor": "x85",
         "domain": [
          0.3961538461538462,
          0.44538461538461543
         ],
         "matches": "y",
         "showticklabels": false
        },
        "yaxis86": {
         "anchor": "x86",
         "domain": [
          0.3961538461538462,
          0.44538461538461543
         ],
         "matches": "y",
         "showticklabels": false
        },
        "yaxis87": {
         "anchor": "x87",
         "domain": [
          0.3961538461538462,
          0.44538461538461543
         ],
         "matches": "y",
         "showticklabels": false
        },
        "yaxis88": {
         "anchor": "x88",
         "domain": [
          0.3961538461538462,
          0.44538461538461543
         ],
         "matches": "y",
         "showticklabels": false
        },
        "yaxis89": {
         "anchor": "x89",
         "domain": [
          0.3961538461538462,
          0.44538461538461543
         ],
         "matches": "y",
         "showticklabels": false
        },
        "yaxis9": {
         "anchor": "x9",
         "domain": [
          0,
          0.04923076923076924
         ],
         "matches": "y",
         "showticklabels": false
        },
        "yaxis90": {
         "anchor": "x90",
         "domain": [
          0.3961538461538462,
          0.44538461538461543
         ],
         "matches": "y",
         "showticklabels": false
        },
        "yaxis91": {
         "anchor": "x91",
         "domain": [
          0.3961538461538462,
          0.44538461538461543
         ],
         "matches": "y",
         "showticklabels": false
        },
        "yaxis92": {
         "anchor": "x92",
         "domain": [
          0.3961538461538462,
          0.44538461538461543
         ],
         "matches": "y",
         "showticklabels": false
        },
        "yaxis93": {
         "anchor": "x93",
         "domain": [
          0.3961538461538462,
          0.44538461538461543
         ],
         "matches": "y",
         "showticklabels": false
        },
        "yaxis94": {
         "anchor": "x94",
         "domain": [
          0.3961538461538462,
          0.44538461538461543
         ],
         "matches": "y",
         "showticklabels": false
        },
        "yaxis95": {
         "anchor": "x95",
         "domain": [
          0.3961538461538462,
          0.44538461538461543
         ],
         "matches": "y",
         "showticklabels": false
        },
        "yaxis96": {
         "anchor": "x96",
         "domain": [
          0.3961538461538462,
          0.44538461538461543
         ],
         "matches": "y",
         "showticklabels": false
        },
        "yaxis97": {
         "anchor": "x97",
         "domain": [
          0.4753846153846154,
          0.5246153846153846
         ],
         "matches": "y",
         "title": {
          "text": "residuals"
         }
        },
        "yaxis98": {
         "anchor": "x98",
         "domain": [
          0.4753846153846154,
          0.5246153846153846
         ],
         "matches": "y",
         "showticklabels": false
        },
        "yaxis99": {
         "anchor": "x99",
         "domain": [
          0.4753846153846154,
          0.5246153846153846
         ],
         "matches": "y",
         "showticklabels": false
        }
       }
      }
     },
     "metadata": {},
     "output_type": "display_data"
    }
   ],
   "source": [
    "magic_numbers = [2, 8, 20, 50, 58, 82, 126]\n",
    "\n",
    "magic_residuals_df = merged.copy().reset_index()\n",
    "magic_residuals_df = magic_residuals_df[magic_residuals_df['z'].isin(magic_numbers) | magic_residuals_df['n'].isin(magic_numbers)]\n",
    "\n",
    "magic_residuals_df[\"name\"] = magic_residuals_df[\"a\"].astype(str) + magic_residuals_df[\"symbol\"]\n",
    "magic_residuals_df[\"residuals\"] = magic_residuals_df[\"energy\"] - magic_residuals_df[\"energy_pred\"]\n",
    "\n",
    "best_magic_residuals = get_best_r2(magic_residuals_df, 0.90)\n",
    "\n",
    "fig = px.scatter(best_magic_residuals, x=\"quanta\", y=\"residuals\", facet_row=\"z\", facet_col=\"n\", height=1000, color='r2')\n",
    "fig.add_hline(y=0, line_width=1, line_dash=\"dash\", line_color=\"black\")\n",
    "fig.show()"
   ]
  },
  {
   "cell_type": "code",
   "execution_count": 237,
   "metadata": {},
   "outputs": [],
   "source": [
    "#What if any fit, not linear?\n",
    "# Note some seem to have two different bands, (W shape)\n",
    "# Note test multiple models, and only show best fit\n",
    "\n",
    "\n",
    "# Just use even-even??"
   ]
  },
  {
   "cell_type": "code",
   "execution_count": 238,
   "metadata": {},
   "outputs": [
    {
     "data": {
      "text/html": [
       "<div>\n",
       "<style scoped>\n",
       "    .dataframe tbody tr th:only-of-type {\n",
       "        vertical-align: middle;\n",
       "    }\n",
       "\n",
       "    .dataframe tbody tr th {\n",
       "        vertical-align: top;\n",
       "    }\n",
       "\n",
       "    .dataframe thead th {\n",
       "        text-align: right;\n",
       "    }\n",
       "</style>\n",
       "<table border=\"1\" class=\"dataframe\">\n",
       "  <thead>\n",
       "    <tr style=\"text-align: right;\">\n",
       "      <th></th>\n",
       "      <th>z</th>\n",
       "      <th>a</th>\n",
       "      <th>symbol</th>\n",
       "      <th>n</th>\n",
       "      <th>idx</th>\n",
       "      <th>energy</th>\n",
       "      <th>jp</th>\n",
       "      <th>jp_order</th>\n",
       "      <th>beta</th>\n",
       "      <th>j</th>\n",
       "      <th>...</th>\n",
       "      <th>j_evenness</th>\n",
       "      <th>p_bit</th>\n",
       "      <th>quanta</th>\n",
       "      <th>energy_quantum</th>\n",
       "      <th>zero_point_energy</th>\n",
       "      <th>r2</th>\n",
       "      <th>j_float_y</th>\n",
       "      <th>energy_pred</th>\n",
       "      <th>name</th>\n",
       "      <th>residuals</th>\n",
       "    </tr>\n",
       "  </thead>\n",
       "  <tbody>\n",
       "    <tr>\n",
       "      <th>348</th>\n",
       "      <td>46</td>\n",
       "      <td>104</td>\n",
       "      <td>Pd</td>\n",
       "      <td>58</td>\n",
       "      <td>0</td>\n",
       "      <td>0.0</td>\n",
       "      <td>0+</td>\n",
       "      <td>1</td>\n",
       "      <td>0.115385</td>\n",
       "      <td>0</td>\n",
       "      <td>...</td>\n",
       "      <td>True</td>\n",
       "      <td>0</td>\n",
       "      <td>0</td>\n",
       "      <td>0.82376</td>\n",
       "      <td>-0.184872</td>\n",
       "      <td>0.997169</td>\n",
       "      <td>0</td>\n",
       "      <td>-0.184872</td>\n",
       "      <td>104Pd</td>\n",
       "      <td>0.184872</td>\n",
       "    </tr>\n",
       "    <tr>\n",
       "      <th>349</th>\n",
       "      <td>46</td>\n",
       "      <td>104</td>\n",
       "      <td>Pd</td>\n",
       "      <td>58</td>\n",
       "      <td>1</td>\n",
       "      <td>0.55581</td>\n",
       "      <td>2+</td>\n",
       "      <td>1</td>\n",
       "      <td>0.115385</td>\n",
       "      <td>2</td>\n",
       "      <td>...</td>\n",
       "      <td>True</td>\n",
       "      <td>0</td>\n",
       "      <td>1</td>\n",
       "      <td>0.82376</td>\n",
       "      <td>-0.184872</td>\n",
       "      <td>0.997169</td>\n",
       "      <td>1</td>\n",
       "      <td>0.638888</td>\n",
       "      <td>104Pd</td>\n",
       "      <td>-0.083078</td>\n",
       "    </tr>\n",
       "    <tr>\n",
       "      <th>350</th>\n",
       "      <td>46</td>\n",
       "      <td>104</td>\n",
       "      <td>Pd</td>\n",
       "      <td>58</td>\n",
       "      <td>2</td>\n",
       "      <td>1.32359</td>\n",
       "      <td>4+</td>\n",
       "      <td>1</td>\n",
       "      <td>0.115385</td>\n",
       "      <td>4</td>\n",
       "      <td>...</td>\n",
       "      <td>True</td>\n",
       "      <td>0</td>\n",
       "      <td>2</td>\n",
       "      <td>0.82376</td>\n",
       "      <td>-0.184872</td>\n",
       "      <td>0.997169</td>\n",
       "      <td>2</td>\n",
       "      <td>1.462649</td>\n",
       "      <td>104Pd</td>\n",
       "      <td>-0.139059</td>\n",
       "    </tr>\n",
       "    <tr>\n",
       "      <th>351</th>\n",
       "      <td>46</td>\n",
       "      <td>104</td>\n",
       "      <td>Pd</td>\n",
       "      <td>58</td>\n",
       "      <td>21</td>\n",
       "      <td>2.2495</td>\n",
       "      <td>6+</td>\n",
       "      <td>1</td>\n",
       "      <td>0.115385</td>\n",
       "      <td>6</td>\n",
       "      <td>...</td>\n",
       "      <td>True</td>\n",
       "      <td>0</td>\n",
       "      <td>3</td>\n",
       "      <td>0.82376</td>\n",
       "      <td>-0.184872</td>\n",
       "      <td>0.997169</td>\n",
       "      <td>3</td>\n",
       "      <td>2.286409</td>\n",
       "      <td>104Pd</td>\n",
       "      <td>-0.036909</td>\n",
       "    </tr>\n",
       "    <tr>\n",
       "      <th>352</th>\n",
       "      <td>46</td>\n",
       "      <td>104</td>\n",
       "      <td>Pd</td>\n",
       "      <td>58</td>\n",
       "      <td>88</td>\n",
       "      <td>3.2207</td>\n",
       "      <td>8+</td>\n",
       "      <td>1</td>\n",
       "      <td>0.115385</td>\n",
       "      <td>8</td>\n",
       "      <td>...</td>\n",
       "      <td>True</td>\n",
       "      <td>0</td>\n",
       "      <td>4</td>\n",
       "      <td>0.82376</td>\n",
       "      <td>-0.184872</td>\n",
       "      <td>0.997169</td>\n",
       "      <td>4</td>\n",
       "      <td>3.110170</td>\n",
       "      <td>104Pd</td>\n",
       "      <td>0.11053</td>\n",
       "    </tr>\n",
       "    <tr>\n",
       "      <th>353</th>\n",
       "      <td>46</td>\n",
       "      <td>104</td>\n",
       "      <td>Pd</td>\n",
       "      <td>58</td>\n",
       "      <td>134</td>\n",
       "      <td>4.0231</td>\n",
       "      <td>10+</td>\n",
       "      <td>1</td>\n",
       "      <td>0.115385</td>\n",
       "      <td>10</td>\n",
       "      <td>...</td>\n",
       "      <td>True</td>\n",
       "      <td>0</td>\n",
       "      <td>5</td>\n",
       "      <td>0.82376</td>\n",
       "      <td>-0.184872</td>\n",
       "      <td>0.997169</td>\n",
       "      <td>5</td>\n",
       "      <td>3.933930</td>\n",
       "      <td>104Pd</td>\n",
       "      <td>0.08917</td>\n",
       "    </tr>\n",
       "    <tr>\n",
       "      <th>354</th>\n",
       "      <td>46</td>\n",
       "      <td>104</td>\n",
       "      <td>Pd</td>\n",
       "      <td>58</td>\n",
       "      <td>138</td>\n",
       "      <td>4.635</td>\n",
       "      <td>12+</td>\n",
       "      <td>1</td>\n",
       "      <td>0.115385</td>\n",
       "      <td>12</td>\n",
       "      <td>...</td>\n",
       "      <td>True</td>\n",
       "      <td>0</td>\n",
       "      <td>6</td>\n",
       "      <td>0.82376</td>\n",
       "      <td>-0.184872</td>\n",
       "      <td>0.997169</td>\n",
       "      <td>6</td>\n",
       "      <td>4.757691</td>\n",
       "      <td>104Pd</td>\n",
       "      <td>-0.122691</td>\n",
       "    </tr>\n",
       "    <tr>\n",
       "      <th>355</th>\n",
       "      <td>46</td>\n",
       "      <td>104</td>\n",
       "      <td>Pd</td>\n",
       "      <td>58</td>\n",
       "      <td>141</td>\n",
       "      <td>5.4321</td>\n",
       "      <td>14+</td>\n",
       "      <td>1</td>\n",
       "      <td>0.115385</td>\n",
       "      <td>14</td>\n",
       "      <td>...</td>\n",
       "      <td>True</td>\n",
       "      <td>0</td>\n",
       "      <td>7</td>\n",
       "      <td>0.82376</td>\n",
       "      <td>-0.184872</td>\n",
       "      <td>0.997169</td>\n",
       "      <td>7</td>\n",
       "      <td>5.581451</td>\n",
       "      <td>104Pd</td>\n",
       "      <td>-0.149351</td>\n",
       "    </tr>\n",
       "    <tr>\n",
       "      <th>356</th>\n",
       "      <td>46</td>\n",
       "      <td>104</td>\n",
       "      <td>Pd</td>\n",
       "      <td>58</td>\n",
       "      <td>144</td>\n",
       "      <td>6.3583</td>\n",
       "      <td>16+</td>\n",
       "      <td>1</td>\n",
       "      <td>0.115385</td>\n",
       "      <td>16</td>\n",
       "      <td>...</td>\n",
       "      <td>True</td>\n",
       "      <td>0</td>\n",
       "      <td>8</td>\n",
       "      <td>0.82376</td>\n",
       "      <td>-0.184872</td>\n",
       "      <td>0.997169</td>\n",
       "      <td>8</td>\n",
       "      <td>6.405212</td>\n",
       "      <td>104Pd</td>\n",
       "      <td>-0.046912</td>\n",
       "    </tr>\n",
       "    <tr>\n",
       "      <th>357</th>\n",
       "      <td>46</td>\n",
       "      <td>104</td>\n",
       "      <td>Pd</td>\n",
       "      <td>58</td>\n",
       "      <td>145</td>\n",
       "      <td>7.4224</td>\n",
       "      <td>18+</td>\n",
       "      <td>1</td>\n",
       "      <td>0.115385</td>\n",
       "      <td>18</td>\n",
       "      <td>...</td>\n",
       "      <td>True</td>\n",
       "      <td>0</td>\n",
       "      <td>9</td>\n",
       "      <td>0.82376</td>\n",
       "      <td>-0.184872</td>\n",
       "      <td>0.997169</td>\n",
       "      <td>9</td>\n",
       "      <td>7.228972</td>\n",
       "      <td>104Pd</td>\n",
       "      <td>0.193428</td>\n",
       "    </tr>\n",
       "  </tbody>\n",
       "</table>\n",
       "<p>10 rows × 22 columns</p>\n",
       "</div>"
      ],
      "text/plain": [
       "      z    a symbol   n  idx   energy   jp  jp_order      beta   j  ...  \\\n",
       "348  46  104     Pd  58    0      0.0   0+         1  0.115385   0  ...   \n",
       "349  46  104     Pd  58    1  0.55581   2+         1  0.115385   2  ...   \n",
       "350  46  104     Pd  58    2  1.32359   4+         1  0.115385   4  ...   \n",
       "351  46  104     Pd  58   21   2.2495   6+         1  0.115385   6  ...   \n",
       "352  46  104     Pd  58   88   3.2207   8+         1  0.115385   8  ...   \n",
       "353  46  104     Pd  58  134   4.0231  10+         1  0.115385  10  ...   \n",
       "354  46  104     Pd  58  138    4.635  12+         1  0.115385  12  ...   \n",
       "355  46  104     Pd  58  141   5.4321  14+         1  0.115385  14  ...   \n",
       "356  46  104     Pd  58  144   6.3583  16+         1  0.115385  16  ...   \n",
       "357  46  104     Pd  58  145   7.4224  18+         1  0.115385  18  ...   \n",
       "\n",
       "    j_evenness  p_bit  quanta  energy_quantum  zero_point_energy        r2  \\\n",
       "348       True      0       0         0.82376          -0.184872  0.997169   \n",
       "349       True      0       1         0.82376          -0.184872  0.997169   \n",
       "350       True      0       2         0.82376          -0.184872  0.997169   \n",
       "351       True      0       3         0.82376          -0.184872  0.997169   \n",
       "352       True      0       4         0.82376          -0.184872  0.997169   \n",
       "353       True      0       5         0.82376          -0.184872  0.997169   \n",
       "354       True      0       6         0.82376          -0.184872  0.997169   \n",
       "355       True      0       7         0.82376          -0.184872  0.997169   \n",
       "356       True      0       8         0.82376          -0.184872  0.997169   \n",
       "357       True      0       9         0.82376          -0.184872  0.997169   \n",
       "\n",
       "     j_float_y  energy_pred   name  residuals  \n",
       "348          0    -0.184872  104Pd   0.184872  \n",
       "349          1     0.638888  104Pd  -0.083078  \n",
       "350          2     1.462649  104Pd  -0.139059  \n",
       "351          3     2.286409  104Pd  -0.036909  \n",
       "352          4     3.110170  104Pd    0.11053  \n",
       "353          5     3.933930  104Pd    0.08917  \n",
       "354          6     4.757691  104Pd  -0.122691  \n",
       "355          7     5.581451  104Pd  -0.149351  \n",
       "356          8     6.405212  104Pd  -0.046912  \n",
       "357          9     7.228972  104Pd   0.193428  \n",
       "\n",
       "[10 rows x 22 columns]"
      ]
     },
     "execution_count": 238,
     "metadata": {},
     "output_type": "execute_result"
    }
   ],
   "source": [
    "residuals_df[residuals_df['name'] == '104Pd']"
   ]
  },
  {
   "cell_type": "code",
   "execution_count": 239,
   "metadata": {},
   "outputs": [
    {
     "data": {
      "text/html": [
       "<div>\n",
       "<style scoped>\n",
       "    .dataframe tbody tr th:only-of-type {\n",
       "        vertical-align: middle;\n",
       "    }\n",
       "\n",
       "    .dataframe tbody tr th {\n",
       "        vertical-align: top;\n",
       "    }\n",
       "\n",
       "    .dataframe thead th {\n",
       "        text-align: right;\n",
       "    }\n",
       "</style>\n",
       "<table border=\"1\" class=\"dataframe\">\n",
       "  <thead>\n",
       "    <tr style=\"text-align: right;\">\n",
       "      <th></th>\n",
       "      <th></th>\n",
       "      <th>symbol</th>\n",
       "      <th>n</th>\n",
       "      <th>idx</th>\n",
       "      <th>energy</th>\n",
       "      <th>jp</th>\n",
       "      <th>jp_order</th>\n",
       "      <th>beta</th>\n",
       "      <th>j</th>\n",
       "      <th>p</th>\n",
       "      <th>j_float</th>\n",
       "      <th>j_evenness</th>\n",
       "      <th>p_bit</th>\n",
       "    </tr>\n",
       "    <tr>\n",
       "      <th>z</th>\n",
       "      <th>a</th>\n",
       "      <th></th>\n",
       "      <th></th>\n",
       "      <th></th>\n",
       "      <th></th>\n",
       "      <th></th>\n",
       "      <th></th>\n",
       "      <th></th>\n",
       "      <th></th>\n",
       "      <th></th>\n",
       "      <th></th>\n",
       "      <th></th>\n",
       "      <th></th>\n",
       "    </tr>\n",
       "  </thead>\n",
       "  <tbody>\n",
       "    <tr>\n",
       "      <th rowspan=\"11\" valign=\"top\">46</th>\n",
       "      <th>104</th>\n",
       "      <td>Pd</td>\n",
       "      <td>58</td>\n",
       "      <td>0</td>\n",
       "      <td>0.0</td>\n",
       "      <td>0+</td>\n",
       "      <td>1</td>\n",
       "      <td>0.115385</td>\n",
       "      <td>0</td>\n",
       "      <td>+</td>\n",
       "      <td>0.0</td>\n",
       "      <td>True</td>\n",
       "      <td>0</td>\n",
       "    </tr>\n",
       "    <tr>\n",
       "      <th>104</th>\n",
       "      <td>Pd</td>\n",
       "      <td>58</td>\n",
       "      <td>1</td>\n",
       "      <td>0.55581</td>\n",
       "      <td>2+</td>\n",
       "      <td>1</td>\n",
       "      <td>0.115385</td>\n",
       "      <td>2</td>\n",
       "      <td>+</td>\n",
       "      <td>2.0</td>\n",
       "      <td>True</td>\n",
       "      <td>0</td>\n",
       "    </tr>\n",
       "    <tr>\n",
       "      <th>104</th>\n",
       "      <td>Pd</td>\n",
       "      <td>58</td>\n",
       "      <td>2</td>\n",
       "      <td>1.32359</td>\n",
       "      <td>4+</td>\n",
       "      <td>1</td>\n",
       "      <td>0.115385</td>\n",
       "      <td>4</td>\n",
       "      <td>+</td>\n",
       "      <td>4.0</td>\n",
       "      <td>True</td>\n",
       "      <td>0</td>\n",
       "    </tr>\n",
       "    <tr>\n",
       "      <th>104</th>\n",
       "      <td>Pd</td>\n",
       "      <td>58</td>\n",
       "      <td>3</td>\n",
       "      <td>1.33359</td>\n",
       "      <td>0+</td>\n",
       "      <td>2</td>\n",
       "      <td>0.115385</td>\n",
       "      <td>0</td>\n",
       "      <td>+</td>\n",
       "      <td>0.0</td>\n",
       "      <td>True</td>\n",
       "      <td>0</td>\n",
       "    </tr>\n",
       "    <tr>\n",
       "      <th>104</th>\n",
       "      <td>Pd</td>\n",
       "      <td>58</td>\n",
       "      <td>4</td>\n",
       "      <td>1.34168</td>\n",
       "      <td>2+</td>\n",
       "      <td>2</td>\n",
       "      <td>0.115385</td>\n",
       "      <td>2</td>\n",
       "      <td>+</td>\n",
       "      <td>2.0</td>\n",
       "      <td>True</td>\n",
       "      <td>0</td>\n",
       "    </tr>\n",
       "    <tr>\n",
       "      <th>...</th>\n",
       "      <td>...</td>\n",
       "      <td>...</td>\n",
       "      <td>...</td>\n",
       "      <td>...</td>\n",
       "      <td>...</td>\n",
       "      <td>...</td>\n",
       "      <td>...</td>\n",
       "      <td>...</td>\n",
       "      <td>...</td>\n",
       "      <td>...</td>\n",
       "      <td>...</td>\n",
       "      <td>...</td>\n",
       "    </tr>\n",
       "    <tr>\n",
       "      <th>104</th>\n",
       "      <td>Pd</td>\n",
       "      <td>58</td>\n",
       "      <td>141</td>\n",
       "      <td>5.4321</td>\n",
       "      <td>14+</td>\n",
       "      <td>1</td>\n",
       "      <td>0.115385</td>\n",
       "      <td>14</td>\n",
       "      <td>+</td>\n",
       "      <td>14.0</td>\n",
       "      <td>True</td>\n",
       "      <td>0</td>\n",
       "    </tr>\n",
       "    <tr>\n",
       "      <th>104</th>\n",
       "      <td>Pd</td>\n",
       "      <td>58</td>\n",
       "      <td>142</td>\n",
       "      <td>5.6812</td>\n",
       "      <td>14-</td>\n",
       "      <td>1</td>\n",
       "      <td>0.115385</td>\n",
       "      <td>14</td>\n",
       "      <td>-</td>\n",
       "      <td>14.0</td>\n",
       "      <td>True</td>\n",
       "      <td>1</td>\n",
       "    </tr>\n",
       "    <tr>\n",
       "      <th>104</th>\n",
       "      <td>Pd</td>\n",
       "      <td>58</td>\n",
       "      <td>143</td>\n",
       "      <td>6.0218</td>\n",
       "      <td>15-</td>\n",
       "      <td>1</td>\n",
       "      <td>0.115385</td>\n",
       "      <td>15</td>\n",
       "      <td>-</td>\n",
       "      <td>15.0</td>\n",
       "      <td>False</td>\n",
       "      <td>1</td>\n",
       "    </tr>\n",
       "    <tr>\n",
       "      <th>104</th>\n",
       "      <td>Pd</td>\n",
       "      <td>58</td>\n",
       "      <td>144</td>\n",
       "      <td>6.3583</td>\n",
       "      <td>16+</td>\n",
       "      <td>1</td>\n",
       "      <td>0.115385</td>\n",
       "      <td>16</td>\n",
       "      <td>+</td>\n",
       "      <td>16.0</td>\n",
       "      <td>True</td>\n",
       "      <td>0</td>\n",
       "    </tr>\n",
       "    <tr>\n",
       "      <th>104</th>\n",
       "      <td>Pd</td>\n",
       "      <td>58</td>\n",
       "      <td>145</td>\n",
       "      <td>7.4224</td>\n",
       "      <td>18+</td>\n",
       "      <td>1</td>\n",
       "      <td>0.115385</td>\n",
       "      <td>18</td>\n",
       "      <td>+</td>\n",
       "      <td>18.0</td>\n",
       "      <td>True</td>\n",
       "      <td>0</td>\n",
       "    </tr>\n",
       "  </tbody>\n",
       "</table>\n",
       "<p>75 rows × 12 columns</p>\n",
       "</div>"
      ],
      "text/plain": [
       "       symbol   n  idx   energy   jp  jp_order      beta   j  p  j_float  \\\n",
       "z  a                                                                       \n",
       "46 104     Pd  58    0      0.0   0+         1  0.115385   0  +      0.0   \n",
       "   104     Pd  58    1  0.55581   2+         1  0.115385   2  +      2.0   \n",
       "   104     Pd  58    2  1.32359   4+         1  0.115385   4  +      4.0   \n",
       "   104     Pd  58    3  1.33359   0+         2  0.115385   0  +      0.0   \n",
       "   104     Pd  58    4  1.34168   2+         2  0.115385   2  +      2.0   \n",
       "...       ...  ..  ...      ...  ...       ...       ...  .. ..      ...   \n",
       "   104     Pd  58  141   5.4321  14+         1  0.115385  14  +     14.0   \n",
       "   104     Pd  58  142   5.6812  14-         1  0.115385  14  -     14.0   \n",
       "   104     Pd  58  143   6.0218  15-         1  0.115385  15  -     15.0   \n",
       "   104     Pd  58  144   6.3583  16+         1  0.115385  16  +     16.0   \n",
       "   104     Pd  58  145   7.4224  18+         1  0.115385  18  +     18.0   \n",
       "\n",
       "        j_evenness  p_bit  \n",
       "z  a                       \n",
       "46 104        True      0  \n",
       "   104        True      0  \n",
       "   104        True      0  \n",
       "   104        True      0  \n",
       "   104        True      0  \n",
       "...            ...    ...  \n",
       "   104        True      0  \n",
       "   104        True      1  \n",
       "   104       False      1  \n",
       "   104        True      0  \n",
       "   104        True      0  \n",
       "\n",
       "[75 rows x 12 columns]"
      ]
     },
     "execution_count": 239,
     "metadata": {},
     "output_type": "execute_result"
    }
   ],
   "source": [
    "df.loc[46,104]"
   ]
  },
  {
   "cell_type": "code",
   "execution_count": 240,
   "metadata": {},
   "outputs": [],
   "source": [
    "#TODO compare with paper, check their r2 for \"perfect\" and for \"deviation\"\n",
    "#TODO look at paper?"
   ]
  },
  {
   "cell_type": "code",
   "execution_count": 241,
   "metadata": {},
   "outputs": [],
   "source": [
    "# Using r2 not mse because scale independent, some energy levels may be inherently larger?\n",
    "#https://stats.stackexchange.com/a/250735"
   ]
  },
  {
   "cell_type": "code",
   "execution_count": 242,
   "metadata": {},
   "outputs": [],
   "source": [
    "#TODO figure out way to combine r2 and number of points used"
   ]
  },
  {
   "cell_type": "code",
   "execution_count": 243,
   "metadata": {},
   "outputs": [],
   "source": [
    "#Quadrupole axial: Even positive only?\n",
    "\n",
    "#TODO use bands"
   ]
  }
 ],
 "metadata": {
  "kernelspec": {
   "display_name": "nuclei",
   "language": "python",
   "name": "python3"
  },
  "language_info": {
   "codemirror_mode": {
    "name": "ipython",
    "version": 3
   },
   "file_extension": ".py",
   "mimetype": "text/x-python",
   "name": "python",
   "nbconvert_exporter": "python",
   "pygments_lexer": "ipython3",
   "version": "3.13.0"
  }
 },
 "nbformat": 4,
 "nbformat_minor": 2
}
